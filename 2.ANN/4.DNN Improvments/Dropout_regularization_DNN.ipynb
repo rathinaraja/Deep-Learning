{
 "cells": [
  {
   "cell_type": "markdown",
   "metadata": {},
   "source": [
    "<h2 align='center' style='color:blue'>Dropout Regularization In Deep Neural Network</h2>"
   ]
  },
  {
   "cell_type": "markdown",
   "metadata": {},
   "source": [
    "This is a dataset that describes sonar chirp returns bouncing off different services. The 60 input variables are the strength of the returns at different angles. It is a **binary classification problem** that requires a model to differentiate rocks from metal cylinders.\n",
    "\n",
    "Dataset information: https://archive.ics.uci.edu/ml/datasets/Connectionist+Bench+(Sonar,+Mines+vs.+Rocks)\n",
    "Download it from here: https://archive.ics.uci.edu/ml/machine-learning-databases/undocumented/connectionist-bench/sonar/sonar.all-data"
   ]
  },
  {
   "cell_type": "markdown",
   "metadata": {},
   "source": [
    "#### Import libraries"
   ]
  },
  {
   "cell_type": "code",
   "execution_count": 31,
   "metadata": {},
   "outputs": [],
   "source": [
    "import numpy as np\n",
    "import pandas as pd\n",
    "import matplotlib.pyplot as plt\n",
    "import seaborn as sns"
   ]
  },
  {
   "cell_type": "code",
   "execution_count": 32,
   "metadata": {},
   "outputs": [],
   "source": [
    "import warnings\n",
    "warnings.filterwarnings('ignore')"
   ]
  },
  {
   "cell_type": "markdown",
   "metadata": {},
   "source": [
    "#### Load dataset"
   ]
  },
  {
   "cell_type": "code",
   "execution_count": 33,
   "metadata": {},
   "outputs": [
    {
     "data": {
      "text/html": [
       "<div>\n",
       "<style scoped>\n",
       "    .dataframe tbody tr th:only-of-type {\n",
       "        vertical-align: middle;\n",
       "    }\n",
       "\n",
       "    .dataframe tbody tr th {\n",
       "        vertical-align: top;\n",
       "    }\n",
       "\n",
       "    .dataframe thead th {\n",
       "        text-align: right;\n",
       "    }\n",
       "</style>\n",
       "<table border=\"1\" class=\"dataframe\">\n",
       "  <thead>\n",
       "    <tr style=\"text-align: right;\">\n",
       "      <th></th>\n",
       "      <th>0</th>\n",
       "      <th>1</th>\n",
       "      <th>2</th>\n",
       "      <th>3</th>\n",
       "      <th>4</th>\n",
       "      <th>5</th>\n",
       "      <th>6</th>\n",
       "      <th>7</th>\n",
       "      <th>8</th>\n",
       "      <th>9</th>\n",
       "      <th>...</th>\n",
       "      <th>51</th>\n",
       "      <th>52</th>\n",
       "      <th>53</th>\n",
       "      <th>54</th>\n",
       "      <th>55</th>\n",
       "      <th>56</th>\n",
       "      <th>57</th>\n",
       "      <th>58</th>\n",
       "      <th>59</th>\n",
       "      <th>60</th>\n",
       "    </tr>\n",
       "  </thead>\n",
       "  <tbody>\n",
       "    <tr>\n",
       "      <th>194</th>\n",
       "      <td>0.0392</td>\n",
       "      <td>0.0108</td>\n",
       "      <td>0.0267</td>\n",
       "      <td>0.0257</td>\n",
       "      <td>0.0410</td>\n",
       "      <td>0.0491</td>\n",
       "      <td>0.1053</td>\n",
       "      <td>0.1690</td>\n",
       "      <td>0.2105</td>\n",
       "      <td>0.2471</td>\n",
       "      <td>...</td>\n",
       "      <td>0.0083</td>\n",
       "      <td>0.0080</td>\n",
       "      <td>0.0026</td>\n",
       "      <td>0.0079</td>\n",
       "      <td>0.0042</td>\n",
       "      <td>0.0071</td>\n",
       "      <td>0.0044</td>\n",
       "      <td>0.0022</td>\n",
       "      <td>0.0014</td>\n",
       "      <td>M</td>\n",
       "    </tr>\n",
       "    <tr>\n",
       "      <th>157</th>\n",
       "      <td>0.0201</td>\n",
       "      <td>0.0178</td>\n",
       "      <td>0.0274</td>\n",
       "      <td>0.0232</td>\n",
       "      <td>0.0724</td>\n",
       "      <td>0.0833</td>\n",
       "      <td>0.1232</td>\n",
       "      <td>0.1298</td>\n",
       "      <td>0.2085</td>\n",
       "      <td>0.2720</td>\n",
       "      <td>...</td>\n",
       "      <td>0.0131</td>\n",
       "      <td>0.0049</td>\n",
       "      <td>0.0104</td>\n",
       "      <td>0.0102</td>\n",
       "      <td>0.0092</td>\n",
       "      <td>0.0083</td>\n",
       "      <td>0.0020</td>\n",
       "      <td>0.0048</td>\n",
       "      <td>0.0036</td>\n",
       "      <td>M</td>\n",
       "    </tr>\n",
       "    <tr>\n",
       "      <th>183</th>\n",
       "      <td>0.0096</td>\n",
       "      <td>0.0404</td>\n",
       "      <td>0.0682</td>\n",
       "      <td>0.0688</td>\n",
       "      <td>0.0887</td>\n",
       "      <td>0.0932</td>\n",
       "      <td>0.0955</td>\n",
       "      <td>0.2140</td>\n",
       "      <td>0.2546</td>\n",
       "      <td>0.2952</td>\n",
       "      <td>...</td>\n",
       "      <td>0.0237</td>\n",
       "      <td>0.0078</td>\n",
       "      <td>0.0144</td>\n",
       "      <td>0.0170</td>\n",
       "      <td>0.0012</td>\n",
       "      <td>0.0109</td>\n",
       "      <td>0.0036</td>\n",
       "      <td>0.0043</td>\n",
       "      <td>0.0018</td>\n",
       "      <td>M</td>\n",
       "    </tr>\n",
       "    <tr>\n",
       "      <th>72</th>\n",
       "      <td>0.0208</td>\n",
       "      <td>0.0186</td>\n",
       "      <td>0.0131</td>\n",
       "      <td>0.0211</td>\n",
       "      <td>0.0610</td>\n",
       "      <td>0.0613</td>\n",
       "      <td>0.0612</td>\n",
       "      <td>0.0506</td>\n",
       "      <td>0.0989</td>\n",
       "      <td>0.1093</td>\n",
       "      <td>...</td>\n",
       "      <td>0.0074</td>\n",
       "      <td>0.0063</td>\n",
       "      <td>0.0081</td>\n",
       "      <td>0.0087</td>\n",
       "      <td>0.0044</td>\n",
       "      <td>0.0028</td>\n",
       "      <td>0.0019</td>\n",
       "      <td>0.0049</td>\n",
       "      <td>0.0023</td>\n",
       "      <td>R</td>\n",
       "    </tr>\n",
       "    <tr>\n",
       "      <th>161</th>\n",
       "      <td>0.0305</td>\n",
       "      <td>0.0363</td>\n",
       "      <td>0.0214</td>\n",
       "      <td>0.0227</td>\n",
       "      <td>0.0456</td>\n",
       "      <td>0.0665</td>\n",
       "      <td>0.0939</td>\n",
       "      <td>0.0972</td>\n",
       "      <td>0.2535</td>\n",
       "      <td>0.3127</td>\n",
       "      <td>...</td>\n",
       "      <td>0.0200</td>\n",
       "      <td>0.0070</td>\n",
       "      <td>0.0070</td>\n",
       "      <td>0.0086</td>\n",
       "      <td>0.0089</td>\n",
       "      <td>0.0074</td>\n",
       "      <td>0.0042</td>\n",
       "      <td>0.0055</td>\n",
       "      <td>0.0021</td>\n",
       "      <td>M</td>\n",
       "    </tr>\n",
       "  </tbody>\n",
       "</table>\n",
       "<p>5 rows × 61 columns</p>\n",
       "</div>"
      ],
      "text/plain": [
       "         0       1       2       3       4       5       6       7       8   \\\n",
       "194  0.0392  0.0108  0.0267  0.0257  0.0410  0.0491  0.1053  0.1690  0.2105   \n",
       "157  0.0201  0.0178  0.0274  0.0232  0.0724  0.0833  0.1232  0.1298  0.2085   \n",
       "183  0.0096  0.0404  0.0682  0.0688  0.0887  0.0932  0.0955  0.2140  0.2546   \n",
       "72   0.0208  0.0186  0.0131  0.0211  0.0610  0.0613  0.0612  0.0506  0.0989   \n",
       "161  0.0305  0.0363  0.0214  0.0227  0.0456  0.0665  0.0939  0.0972  0.2535   \n",
       "\n",
       "         9   ...      51      52      53      54      55      56      57  \\\n",
       "194  0.2471  ...  0.0083  0.0080  0.0026  0.0079  0.0042  0.0071  0.0044   \n",
       "157  0.2720  ...  0.0131  0.0049  0.0104  0.0102  0.0092  0.0083  0.0020   \n",
       "183  0.2952  ...  0.0237  0.0078  0.0144  0.0170  0.0012  0.0109  0.0036   \n",
       "72   0.1093  ...  0.0074  0.0063  0.0081  0.0087  0.0044  0.0028  0.0019   \n",
       "161  0.3127  ...  0.0200  0.0070  0.0070  0.0086  0.0089  0.0074  0.0042   \n",
       "\n",
       "         58      59  60  \n",
       "194  0.0022  0.0014   M  \n",
       "157  0.0048  0.0036   M  \n",
       "183  0.0043  0.0018   M  \n",
       "72   0.0049  0.0023   R  \n",
       "161  0.0055  0.0021   M  \n",
       "\n",
       "[5 rows x 61 columns]"
      ]
     },
     "execution_count": 33,
     "metadata": {},
     "output_type": "execute_result"
    }
   ],
   "source": [
    "df = pd.read_csv(\"D:\\\\9.BOOKS MATERIALS\\\\4.PROGRAMS\\\\Python_Programs\\\\Datasets\\\\sonar_dataset.csv\", header=None)\n",
    "df.sample(5)"
   ]
  },
  {
   "cell_type": "markdown",
   "metadata": {},
   "source": [
    "#### Apply EDA and pre-process the dataset"
   ]
  },
  {
   "cell_type": "code",
   "execution_count": 34,
   "metadata": {},
   "outputs": [
    {
     "data": {
      "text/plain": [
       "(208, 61)"
      ]
     },
     "execution_count": 34,
     "metadata": {},
     "output_type": "execute_result"
    }
   ],
   "source": [
    "df.shape"
   ]
  },
  {
   "cell_type": "code",
   "execution_count": 35,
   "metadata": {},
   "outputs": [
    {
     "data": {
      "text/plain": [
       "Int64Index([ 0,  1,  2,  3,  4,  5,  6,  7,  8,  9, 10, 11, 12, 13, 14, 15, 16,\n",
       "            17, 18, 19, 20, 21, 22, 23, 24, 25, 26, 27, 28, 29, 30, 31, 32, 33,\n",
       "            34, 35, 36, 37, 38, 39, 40, 41, 42, 43, 44, 45, 46, 47, 48, 49, 50,\n",
       "            51, 52, 53, 54, 55, 56, 57, 58, 59, 60],\n",
       "           dtype='int64')"
      ]
     },
     "execution_count": 35,
     "metadata": {},
     "output_type": "execute_result"
    }
   ],
   "source": [
    "df.columns"
   ]
  },
  {
   "cell_type": "code",
   "execution_count": 36,
   "metadata": {},
   "outputs": [
    {
     "data": {
      "text/plain": [
       "0     0\n",
       "1     0\n",
       "2     0\n",
       "3     0\n",
       "4     0\n",
       "     ..\n",
       "56    0\n",
       "57    0\n",
       "58    0\n",
       "59    0\n",
       "60    0\n",
       "Length: 61, dtype: int64"
      ]
     },
     "execution_count": 36,
     "metadata": {},
     "output_type": "execute_result"
    }
   ],
   "source": [
    "# check for nan values\n",
    "df.isna().sum()"
   ]
  },
  {
   "cell_type": "code",
   "execution_count": 37,
   "metadata": {},
   "outputs": [
    {
     "data": {
      "text/plain": [
       "M    111\n",
       "R     97\n",
       "Name: 60, dtype: int64"
      ]
     },
     "execution_count": 37,
     "metadata": {},
     "output_type": "execute_result"
    }
   ],
   "source": [
    "df[60].value_counts() \n",
    "# label is not skewed. So, it is a balanced dataset."
   ]
  },
  {
   "cell_type": "code",
   "execution_count": 38,
   "metadata": {},
   "outputs": [],
   "source": [
    "# Input features\n",
    "X = df.drop(60, axis=1)\n",
    "# Output feature\n",
    "y = df[60]"
   ]
  },
  {
   "cell_type": "code",
   "execution_count": 39,
   "metadata": {},
   "outputs": [
    {
     "data": {
      "text/plain": [
       "0    R\n",
       "1    R\n",
       "2    R\n",
       "3    R\n",
       "4    R\n",
       "Name: 60, dtype: object"
      ]
     },
     "execution_count": 39,
     "metadata": {},
     "output_type": "execute_result"
    }
   ],
   "source": [
    "y.head()\n",
    "# contains text data, so do one-hot encoding"
   ]
  },
  {
   "cell_type": "code",
   "execution_count": 40,
   "metadata": {},
   "outputs": [
    {
     "data": {
      "text/html": [
       "<div>\n",
       "<style scoped>\n",
       "    .dataframe tbody tr th:only-of-type {\n",
       "        vertical-align: middle;\n",
       "    }\n",
       "\n",
       "    .dataframe tbody tr th {\n",
       "        vertical-align: top;\n",
       "    }\n",
       "\n",
       "    .dataframe thead th {\n",
       "        text-align: right;\n",
       "    }\n",
       "</style>\n",
       "<table border=\"1\" class=\"dataframe\">\n",
       "  <thead>\n",
       "    <tr style=\"text-align: right;\">\n",
       "      <th></th>\n",
       "      <th>R</th>\n",
       "    </tr>\n",
       "  </thead>\n",
       "  <tbody>\n",
       "    <tr>\n",
       "      <th>54</th>\n",
       "      <td>1</td>\n",
       "    </tr>\n",
       "    <tr>\n",
       "      <th>74</th>\n",
       "      <td>1</td>\n",
       "    </tr>\n",
       "    <tr>\n",
       "      <th>43</th>\n",
       "      <td>1</td>\n",
       "    </tr>\n",
       "    <tr>\n",
       "      <th>29</th>\n",
       "      <td>1</td>\n",
       "    </tr>\n",
       "    <tr>\n",
       "      <th>174</th>\n",
       "      <td>0</td>\n",
       "    </tr>\n",
       "  </tbody>\n",
       "</table>\n",
       "</div>"
      ],
      "text/plain": [
       "     R\n",
       "54   1\n",
       "74   1\n",
       "43   1\n",
       "29   1\n",
       "174  0"
      ]
     },
     "execution_count": 40,
     "metadata": {},
     "output_type": "execute_result"
    }
   ],
   "source": [
    "y = pd.get_dummies(y, drop_first=True)\n",
    "y.sample(5) # R --> 1 and M --> 0\n",
    "# If there are only two dummy columns, then one column can be dropped."
   ]
  },
  {
   "cell_type": "code",
   "execution_count": 41,
   "metadata": {},
   "outputs": [
    {
     "data": {
      "text/plain": [
       "R\n",
       "0    111\n",
       "1     97\n",
       "dtype: int64"
      ]
     },
     "execution_count": 41,
     "metadata": {},
     "output_type": "execute_result"
    }
   ],
   "source": [
    "y.value_counts()"
   ]
  },
  {
   "cell_type": "code",
   "execution_count": 42,
   "metadata": {
    "scrolled": true
   },
   "outputs": [
    {
     "data": {
      "text/html": [
       "<div>\n",
       "<style scoped>\n",
       "    .dataframe tbody tr th:only-of-type {\n",
       "        vertical-align: middle;\n",
       "    }\n",
       "\n",
       "    .dataframe tbody tr th {\n",
       "        vertical-align: top;\n",
       "    }\n",
       "\n",
       "    .dataframe thead th {\n",
       "        text-align: right;\n",
       "    }\n",
       "</style>\n",
       "<table border=\"1\" class=\"dataframe\">\n",
       "  <thead>\n",
       "    <tr style=\"text-align: right;\">\n",
       "      <th></th>\n",
       "      <th>0</th>\n",
       "      <th>1</th>\n",
       "      <th>2</th>\n",
       "      <th>3</th>\n",
       "      <th>4</th>\n",
       "      <th>5</th>\n",
       "      <th>6</th>\n",
       "      <th>7</th>\n",
       "      <th>8</th>\n",
       "      <th>9</th>\n",
       "      <th>...</th>\n",
       "      <th>50</th>\n",
       "      <th>51</th>\n",
       "      <th>52</th>\n",
       "      <th>53</th>\n",
       "      <th>54</th>\n",
       "      <th>55</th>\n",
       "      <th>56</th>\n",
       "      <th>57</th>\n",
       "      <th>58</th>\n",
       "      <th>59</th>\n",
       "    </tr>\n",
       "  </thead>\n",
       "  <tbody>\n",
       "    <tr>\n",
       "      <th>0</th>\n",
       "      <td>0.0200</td>\n",
       "      <td>0.0371</td>\n",
       "      <td>0.0428</td>\n",
       "      <td>0.0207</td>\n",
       "      <td>0.0954</td>\n",
       "      <td>0.0986</td>\n",
       "      <td>0.1539</td>\n",
       "      <td>0.1601</td>\n",
       "      <td>0.3109</td>\n",
       "      <td>0.2111</td>\n",
       "      <td>...</td>\n",
       "      <td>0.0232</td>\n",
       "      <td>0.0027</td>\n",
       "      <td>0.0065</td>\n",
       "      <td>0.0159</td>\n",
       "      <td>0.0072</td>\n",
       "      <td>0.0167</td>\n",
       "      <td>0.0180</td>\n",
       "      <td>0.0084</td>\n",
       "      <td>0.0090</td>\n",
       "      <td>0.0032</td>\n",
       "    </tr>\n",
       "    <tr>\n",
       "      <th>1</th>\n",
       "      <td>0.0453</td>\n",
       "      <td>0.0523</td>\n",
       "      <td>0.0843</td>\n",
       "      <td>0.0689</td>\n",
       "      <td>0.1183</td>\n",
       "      <td>0.2583</td>\n",
       "      <td>0.2156</td>\n",
       "      <td>0.3481</td>\n",
       "      <td>0.3337</td>\n",
       "      <td>0.2872</td>\n",
       "      <td>...</td>\n",
       "      <td>0.0125</td>\n",
       "      <td>0.0084</td>\n",
       "      <td>0.0089</td>\n",
       "      <td>0.0048</td>\n",
       "      <td>0.0094</td>\n",
       "      <td>0.0191</td>\n",
       "      <td>0.0140</td>\n",
       "      <td>0.0049</td>\n",
       "      <td>0.0052</td>\n",
       "      <td>0.0044</td>\n",
       "    </tr>\n",
       "    <tr>\n",
       "      <th>2</th>\n",
       "      <td>0.0262</td>\n",
       "      <td>0.0582</td>\n",
       "      <td>0.1099</td>\n",
       "      <td>0.1083</td>\n",
       "      <td>0.0974</td>\n",
       "      <td>0.2280</td>\n",
       "      <td>0.2431</td>\n",
       "      <td>0.3771</td>\n",
       "      <td>0.5598</td>\n",
       "      <td>0.6194</td>\n",
       "      <td>...</td>\n",
       "      <td>0.0033</td>\n",
       "      <td>0.0232</td>\n",
       "      <td>0.0166</td>\n",
       "      <td>0.0095</td>\n",
       "      <td>0.0180</td>\n",
       "      <td>0.0244</td>\n",
       "      <td>0.0316</td>\n",
       "      <td>0.0164</td>\n",
       "      <td>0.0095</td>\n",
       "      <td>0.0078</td>\n",
       "    </tr>\n",
       "    <tr>\n",
       "      <th>3</th>\n",
       "      <td>0.0100</td>\n",
       "      <td>0.0171</td>\n",
       "      <td>0.0623</td>\n",
       "      <td>0.0205</td>\n",
       "      <td>0.0205</td>\n",
       "      <td>0.0368</td>\n",
       "      <td>0.1098</td>\n",
       "      <td>0.1276</td>\n",
       "      <td>0.0598</td>\n",
       "      <td>0.1264</td>\n",
       "      <td>...</td>\n",
       "      <td>0.0241</td>\n",
       "      <td>0.0121</td>\n",
       "      <td>0.0036</td>\n",
       "      <td>0.0150</td>\n",
       "      <td>0.0085</td>\n",
       "      <td>0.0073</td>\n",
       "      <td>0.0050</td>\n",
       "      <td>0.0044</td>\n",
       "      <td>0.0040</td>\n",
       "      <td>0.0117</td>\n",
       "    </tr>\n",
       "    <tr>\n",
       "      <th>4</th>\n",
       "      <td>0.0762</td>\n",
       "      <td>0.0666</td>\n",
       "      <td>0.0481</td>\n",
       "      <td>0.0394</td>\n",
       "      <td>0.0590</td>\n",
       "      <td>0.0649</td>\n",
       "      <td>0.1209</td>\n",
       "      <td>0.2467</td>\n",
       "      <td>0.3564</td>\n",
       "      <td>0.4459</td>\n",
       "      <td>...</td>\n",
       "      <td>0.0156</td>\n",
       "      <td>0.0031</td>\n",
       "      <td>0.0054</td>\n",
       "      <td>0.0105</td>\n",
       "      <td>0.0110</td>\n",
       "      <td>0.0015</td>\n",
       "      <td>0.0072</td>\n",
       "      <td>0.0048</td>\n",
       "      <td>0.0107</td>\n",
       "      <td>0.0094</td>\n",
       "    </tr>\n",
       "  </tbody>\n",
       "</table>\n",
       "<p>5 rows × 60 columns</p>\n",
       "</div>"
      ],
      "text/plain": [
       "       0       1       2       3       4       5       6       7       8   \\\n",
       "0  0.0200  0.0371  0.0428  0.0207  0.0954  0.0986  0.1539  0.1601  0.3109   \n",
       "1  0.0453  0.0523  0.0843  0.0689  0.1183  0.2583  0.2156  0.3481  0.3337   \n",
       "2  0.0262  0.0582  0.1099  0.1083  0.0974  0.2280  0.2431  0.3771  0.5598   \n",
       "3  0.0100  0.0171  0.0623  0.0205  0.0205  0.0368  0.1098  0.1276  0.0598   \n",
       "4  0.0762  0.0666  0.0481  0.0394  0.0590  0.0649  0.1209  0.2467  0.3564   \n",
       "\n",
       "       9   ...      50      51      52      53      54      55      56  \\\n",
       "0  0.2111  ...  0.0232  0.0027  0.0065  0.0159  0.0072  0.0167  0.0180   \n",
       "1  0.2872  ...  0.0125  0.0084  0.0089  0.0048  0.0094  0.0191  0.0140   \n",
       "2  0.6194  ...  0.0033  0.0232  0.0166  0.0095  0.0180  0.0244  0.0316   \n",
       "3  0.1264  ...  0.0241  0.0121  0.0036  0.0150  0.0085  0.0073  0.0050   \n",
       "4  0.4459  ...  0.0156  0.0031  0.0054  0.0105  0.0110  0.0015  0.0072   \n",
       "\n",
       "       57      58      59  \n",
       "0  0.0084  0.0090  0.0032  \n",
       "1  0.0049  0.0052  0.0044  \n",
       "2  0.0164  0.0095  0.0078  \n",
       "3  0.0044  0.0040  0.0117  \n",
       "4  0.0048  0.0107  0.0094  \n",
       "\n",
       "[5 rows x 60 columns]"
      ]
     },
     "execution_count": 42,
     "metadata": {},
     "output_type": "execute_result"
    }
   ],
   "source": [
    "X.head()"
   ]
  },
  {
   "cell_type": "markdown",
   "metadata": {},
   "source": [
    "#### Split the dataset into training and testing set"
   ]
  },
  {
   "cell_type": "code",
   "execution_count": 43,
   "metadata": {},
   "outputs": [],
   "source": [
    "from sklearn.model_selection import train_test_split\n",
    "X_train, X_test, y_train, y_test = train_test_split(X, y, test_size=0.25, random_state=1)"
   ]
  },
  {
   "cell_type": "code",
   "execution_count": 44,
   "metadata": {},
   "outputs": [
    {
     "data": {
      "text/html": [
       "<div>\n",
       "<style scoped>\n",
       "    .dataframe tbody tr th:only-of-type {\n",
       "        vertical-align: middle;\n",
       "    }\n",
       "\n",
       "    .dataframe tbody tr th {\n",
       "        vertical-align: top;\n",
       "    }\n",
       "\n",
       "    .dataframe thead th {\n",
       "        text-align: right;\n",
       "    }\n",
       "</style>\n",
       "<table border=\"1\" class=\"dataframe\">\n",
       "  <thead>\n",
       "    <tr style=\"text-align: right;\">\n",
       "      <th></th>\n",
       "      <th>0</th>\n",
       "      <th>1</th>\n",
       "      <th>2</th>\n",
       "      <th>3</th>\n",
       "      <th>4</th>\n",
       "      <th>5</th>\n",
       "      <th>6</th>\n",
       "      <th>7</th>\n",
       "      <th>8</th>\n",
       "      <th>9</th>\n",
       "      <th>...</th>\n",
       "      <th>50</th>\n",
       "      <th>51</th>\n",
       "      <th>52</th>\n",
       "      <th>53</th>\n",
       "      <th>54</th>\n",
       "      <th>55</th>\n",
       "      <th>56</th>\n",
       "      <th>57</th>\n",
       "      <th>58</th>\n",
       "      <th>59</th>\n",
       "    </tr>\n",
       "  </thead>\n",
       "  <tbody>\n",
       "    <tr>\n",
       "      <th>67</th>\n",
       "      <td>0.0368</td>\n",
       "      <td>0.0403</td>\n",
       "      <td>0.0317</td>\n",
       "      <td>0.0293</td>\n",
       "      <td>0.0820</td>\n",
       "      <td>0.1342</td>\n",
       "      <td>0.1161</td>\n",
       "      <td>0.0663</td>\n",
       "      <td>0.0155</td>\n",
       "      <td>0.0506</td>\n",
       "      <td>...</td>\n",
       "      <td>0.0058</td>\n",
       "      <td>0.0091</td>\n",
       "      <td>0.0160</td>\n",
       "      <td>0.0160</td>\n",
       "      <td>0.0081</td>\n",
       "      <td>0.0070</td>\n",
       "      <td>0.0135</td>\n",
       "      <td>0.0067</td>\n",
       "      <td>0.0078</td>\n",
       "      <td>0.0068</td>\n",
       "    </tr>\n",
       "    <tr>\n",
       "      <th>14</th>\n",
       "      <td>0.0124</td>\n",
       "      <td>0.0433</td>\n",
       "      <td>0.0604</td>\n",
       "      <td>0.0449</td>\n",
       "      <td>0.0597</td>\n",
       "      <td>0.0355</td>\n",
       "      <td>0.0531</td>\n",
       "      <td>0.0343</td>\n",
       "      <td>0.1052</td>\n",
       "      <td>0.2120</td>\n",
       "      <td>...</td>\n",
       "      <td>0.0078</td>\n",
       "      <td>0.0083</td>\n",
       "      <td>0.0057</td>\n",
       "      <td>0.0174</td>\n",
       "      <td>0.0188</td>\n",
       "      <td>0.0054</td>\n",
       "      <td>0.0114</td>\n",
       "      <td>0.0196</td>\n",
       "      <td>0.0147</td>\n",
       "      <td>0.0062</td>\n",
       "    </tr>\n",
       "    <tr>\n",
       "      <th>164</th>\n",
       "      <td>0.0163</td>\n",
       "      <td>0.0198</td>\n",
       "      <td>0.0202</td>\n",
       "      <td>0.0386</td>\n",
       "      <td>0.0752</td>\n",
       "      <td>0.1444</td>\n",
       "      <td>0.1487</td>\n",
       "      <td>0.1484</td>\n",
       "      <td>0.2442</td>\n",
       "      <td>0.2822</td>\n",
       "      <td>...</td>\n",
       "      <td>0.0027</td>\n",
       "      <td>0.0077</td>\n",
       "      <td>0.0026</td>\n",
       "      <td>0.0031</td>\n",
       "      <td>0.0083</td>\n",
       "      <td>0.0020</td>\n",
       "      <td>0.0084</td>\n",
       "      <td>0.0108</td>\n",
       "      <td>0.0083</td>\n",
       "      <td>0.0033</td>\n",
       "    </tr>\n",
       "    <tr>\n",
       "      <th>179</th>\n",
       "      <td>0.0394</td>\n",
       "      <td>0.0420</td>\n",
       "      <td>0.0446</td>\n",
       "      <td>0.0551</td>\n",
       "      <td>0.0597</td>\n",
       "      <td>0.1416</td>\n",
       "      <td>0.0956</td>\n",
       "      <td>0.0802</td>\n",
       "      <td>0.1618</td>\n",
       "      <td>0.2558</td>\n",
       "      <td>...</td>\n",
       "      <td>0.0118</td>\n",
       "      <td>0.0146</td>\n",
       "      <td>0.0040</td>\n",
       "      <td>0.0114</td>\n",
       "      <td>0.0032</td>\n",
       "      <td>0.0062</td>\n",
       "      <td>0.0101</td>\n",
       "      <td>0.0068</td>\n",
       "      <td>0.0053</td>\n",
       "      <td>0.0087</td>\n",
       "    </tr>\n",
       "    <tr>\n",
       "      <th>19</th>\n",
       "      <td>0.0126</td>\n",
       "      <td>0.0149</td>\n",
       "      <td>0.0641</td>\n",
       "      <td>0.1732</td>\n",
       "      <td>0.2565</td>\n",
       "      <td>0.2559</td>\n",
       "      <td>0.2947</td>\n",
       "      <td>0.4110</td>\n",
       "      <td>0.4983</td>\n",
       "      <td>0.5920</td>\n",
       "      <td>...</td>\n",
       "      <td>0.0153</td>\n",
       "      <td>0.0092</td>\n",
       "      <td>0.0035</td>\n",
       "      <td>0.0098</td>\n",
       "      <td>0.0121</td>\n",
       "      <td>0.0006</td>\n",
       "      <td>0.0181</td>\n",
       "      <td>0.0094</td>\n",
       "      <td>0.0116</td>\n",
       "      <td>0.0063</td>\n",
       "    </tr>\n",
       "  </tbody>\n",
       "</table>\n",
       "<p>5 rows × 60 columns</p>\n",
       "</div>"
      ],
      "text/plain": [
       "         0       1       2       3       4       5       6       7       8   \\\n",
       "67   0.0368  0.0403  0.0317  0.0293  0.0820  0.1342  0.1161  0.0663  0.0155   \n",
       "14   0.0124  0.0433  0.0604  0.0449  0.0597  0.0355  0.0531  0.0343  0.1052   \n",
       "164  0.0163  0.0198  0.0202  0.0386  0.0752  0.1444  0.1487  0.1484  0.2442   \n",
       "179  0.0394  0.0420  0.0446  0.0551  0.0597  0.1416  0.0956  0.0802  0.1618   \n",
       "19   0.0126  0.0149  0.0641  0.1732  0.2565  0.2559  0.2947  0.4110  0.4983   \n",
       "\n",
       "         9   ...      50      51      52      53      54      55      56  \\\n",
       "67   0.0506  ...  0.0058  0.0091  0.0160  0.0160  0.0081  0.0070  0.0135   \n",
       "14   0.2120  ...  0.0078  0.0083  0.0057  0.0174  0.0188  0.0054  0.0114   \n",
       "164  0.2822  ...  0.0027  0.0077  0.0026  0.0031  0.0083  0.0020  0.0084   \n",
       "179  0.2558  ...  0.0118  0.0146  0.0040  0.0114  0.0032  0.0062  0.0101   \n",
       "19   0.5920  ...  0.0153  0.0092  0.0035  0.0098  0.0121  0.0006  0.0181   \n",
       "\n",
       "         57      58      59  \n",
       "67   0.0067  0.0078  0.0068  \n",
       "14   0.0196  0.0147  0.0062  \n",
       "164  0.0108  0.0083  0.0033  \n",
       "179  0.0068  0.0053  0.0087  \n",
       "19   0.0094  0.0116  0.0063  \n",
       "\n",
       "[5 rows x 60 columns]"
      ]
     },
     "execution_count": 44,
     "metadata": {},
     "output_type": "execute_result"
    }
   ],
   "source": [
    "X_train.head()"
   ]
  },
  {
   "cell_type": "markdown",
   "metadata": {},
   "source": [
    "#### Model without Dropout Layer"
   ]
  },
  {
   "cell_type": "code",
   "execution_count": 45,
   "metadata": {},
   "outputs": [],
   "source": [
    "import tensorflow as tf\n",
    "from tensorflow import keras"
   ]
  },
  {
   "cell_type": "code",
   "execution_count": 46,
   "metadata": {},
   "outputs": [
    {
     "data": {
      "text/plain": [
       "((156, 60), (52, 60))"
      ]
     },
     "execution_count": 46,
     "metadata": {},
     "output_type": "execute_result"
    }
   ],
   "source": [
    "X_train.shape, X_test.shape"
   ]
  },
  {
   "cell_type": "code",
   "execution_count": 47,
   "metadata": {
    "scrolled": true
   },
   "outputs": [
    {
     "name": "stdout",
     "output_type": "stream",
     "text": [
      "Epoch 1/100\n",
      "20/20 [==============================] - 0s 1ms/step - loss: 0.6964 - accuracy: 0.5192\n",
      "Epoch 2/100\n",
      "20/20 [==============================] - 0s 1ms/step - loss: 0.6646 - accuracy: 0.5385\n",
      "Epoch 3/100\n",
      "20/20 [==============================] - 0s 1ms/step - loss: 0.6527 - accuracy: 0.5705\n",
      "Epoch 4/100\n",
      "20/20 [==============================] - 0s 1ms/step - loss: 0.6313 - accuracy: 0.6603\n",
      "Epoch 5/100\n",
      "20/20 [==============================] - 0s 1ms/step - loss: 0.6126 - accuracy: 0.6538\n",
      "Epoch 6/100\n",
      "20/20 [==============================] - 0s 1ms/step - loss: 0.5816 - accuracy: 0.6923\n",
      "Epoch 7/100\n",
      "20/20 [==============================] - 0s 1ms/step - loss: 0.5439 - accuracy: 0.7628\n",
      "Epoch 8/100\n",
      "20/20 [==============================] - 0s 1ms/step - loss: 0.5069 - accuracy: 0.8077\n",
      "Epoch 9/100\n",
      "20/20 [==============================] - 0s 1ms/step - loss: 0.4779 - accuracy: 0.8077\n",
      "Epoch 10/100\n",
      "20/20 [==============================] - 0s 2ms/step - loss: 0.4443 - accuracy: 0.8333\n",
      "Epoch 11/100\n",
      "20/20 [==============================] - 0s 1ms/step - loss: 0.4066 - accuracy: 0.8397\n",
      "Epoch 12/100\n",
      "20/20 [==============================] - 0s 1ms/step - loss: 0.3952 - accuracy: 0.8397\n",
      "Epoch 13/100\n",
      "20/20 [==============================] - 0s 1ms/step - loss: 0.3751 - accuracy: 0.8269\n",
      "Epoch 14/100\n",
      "20/20 [==============================] - 0s 1ms/step - loss: 0.3698 - accuracy: 0.8205\n",
      "Epoch 15/100\n",
      "20/20 [==============================] - 0s 1ms/step - loss: 0.3550 - accuracy: 0.8526\n",
      "Epoch 16/100\n",
      "20/20 [==============================] - 0s 1ms/step - loss: 0.3222 - accuracy: 0.8654\n",
      "Epoch 17/100\n",
      "20/20 [==============================] - 0s 1ms/step - loss: 0.3058 - accuracy: 0.8846\n",
      "Epoch 18/100\n",
      "20/20 [==============================] - 0s 1ms/step - loss: 0.3025 - accuracy: 0.8654\n",
      "Epoch 19/100\n",
      "20/20 [==============================] - 0s 1ms/step - loss: 0.3295 - accuracy: 0.8718\n",
      "Epoch 20/100\n",
      "20/20 [==============================] - 0s 1ms/step - loss: 0.3231 - accuracy: 0.8526\n",
      "Epoch 21/100\n",
      "20/20 [==============================] - 0s 1ms/step - loss: 0.2921 - accuracy: 0.9103\n",
      "Epoch 22/100\n",
      "20/20 [==============================] - 0s 1ms/step - loss: 0.2489 - accuracy: 0.9038\n",
      "Epoch 23/100\n",
      "20/20 [==============================] - 0s 1ms/step - loss: 0.2600 - accuracy: 0.8782\n",
      "Epoch 24/100\n",
      "20/20 [==============================] - 0s 1ms/step - loss: 0.2316 - accuracy: 0.9295\n",
      "Epoch 25/100\n",
      "20/20 [==============================] - 0s 1ms/step - loss: 0.2214 - accuracy: 0.9167\n",
      "Epoch 26/100\n",
      "20/20 [==============================] - 0s 1ms/step - loss: 0.2122 - accuracy: 0.9295\n",
      "Epoch 27/100\n",
      "20/20 [==============================] - 0s 1ms/step - loss: 0.2178 - accuracy: 0.9038\n",
      "Epoch 28/100\n",
      "20/20 [==============================] - 0s 1ms/step - loss: 0.1936 - accuracy: 0.9551\n",
      "Epoch 29/100\n",
      "20/20 [==============================] - 0s 1ms/step - loss: 0.1827 - accuracy: 0.9295\n",
      "Epoch 30/100\n",
      "20/20 [==============================] - 0s 1ms/step - loss: 0.1811 - accuracy: 0.9423\n",
      "Epoch 31/100\n",
      "20/20 [==============================] - 0s 1ms/step - loss: 0.1759 - accuracy: 0.9359\n",
      "Epoch 32/100\n",
      "20/20 [==============================] - 0s 1ms/step - loss: 0.1562 - accuracy: 0.9679\n",
      "Epoch 33/100\n",
      "20/20 [==============================] - 0s 1ms/step - loss: 0.1872 - accuracy: 0.9167\n",
      "Epoch 34/100\n",
      "20/20 [==============================] - 0s 1ms/step - loss: 0.1616 - accuracy: 0.9231\n",
      "Epoch 35/100\n",
      "20/20 [==============================] - 0s 1ms/step - loss: 0.1638 - accuracy: 0.9359\n",
      "Epoch 36/100\n",
      "20/20 [==============================] - 0s 1ms/step - loss: 0.1352 - accuracy: 0.9808\n",
      "Epoch 37/100\n",
      "20/20 [==============================] - 0s 1ms/step - loss: 0.1242 - accuracy: 0.9615\n",
      "Epoch 38/100\n",
      "20/20 [==============================] - 0s 1ms/step - loss: 0.1149 - accuracy: 0.9808\n",
      "Epoch 39/100\n",
      "20/20 [==============================] - 0s 1ms/step - loss: 0.1132 - accuracy: 0.9615\n",
      "Epoch 40/100\n",
      "20/20 [==============================] - 0s 1ms/step - loss: 0.1211 - accuracy: 0.9679\n",
      "Epoch 41/100\n",
      "20/20 [==============================] - 0s 1ms/step - loss: 0.1003 - accuracy: 0.9808\n",
      "Epoch 42/100\n",
      "20/20 [==============================] - 0s 1ms/step - loss: 0.0969 - accuracy: 0.9808\n",
      "Epoch 43/100\n",
      "20/20 [==============================] - 0s 1ms/step - loss: 0.0930 - accuracy: 0.9679\n",
      "Epoch 44/100\n",
      "20/20 [==============================] - 0s 1ms/step - loss: 0.0986 - accuracy: 0.9744\n",
      "Epoch 45/100\n",
      "20/20 [==============================] - 0s 1ms/step - loss: 0.1087 - accuracy: 0.9679\n",
      "Epoch 46/100\n",
      "20/20 [==============================] - 0s 1ms/step - loss: 0.1272 - accuracy: 0.9487\n",
      "Epoch 47/100\n",
      "20/20 [==============================] - 0s 1ms/step - loss: 0.0761 - accuracy: 0.9936\n",
      "Epoch 48/100\n",
      "20/20 [==============================] - 0s 1ms/step - loss: 0.0734 - accuracy: 0.9936\n",
      "Epoch 49/100\n",
      "20/20 [==============================] - 0s 1ms/step - loss: 0.0819 - accuracy: 0.9872\n",
      "Epoch 50/100\n",
      "20/20 [==============================] - 0s 1ms/step - loss: 0.0634 - accuracy: 0.9872\n",
      "Epoch 51/100\n",
      "20/20 [==============================] - 0s 1ms/step - loss: 0.0557 - accuracy: 0.9936\n",
      "Epoch 52/100\n",
      "20/20 [==============================] - 0s 1ms/step - loss: 0.0511 - accuracy: 0.9936\n",
      "Epoch 53/100\n",
      "20/20 [==============================] - 0s 1ms/step - loss: 0.0443 - accuracy: 1.0000\n",
      "Epoch 54/100\n",
      "20/20 [==============================] - 0s 1ms/step - loss: 0.0443 - accuracy: 0.9936\n",
      "Epoch 55/100\n",
      "20/20 [==============================] - 0s 1ms/step - loss: 0.0673 - accuracy: 0.9744\n",
      "Epoch 56/100\n",
      "20/20 [==============================] - 0s 1ms/step - loss: 0.0648 - accuracy: 0.9872\n",
      "Epoch 57/100\n",
      "20/20 [==============================] - 0s 1ms/step - loss: 0.0471 - accuracy: 0.9872\n",
      "Epoch 58/100\n",
      "20/20 [==============================] - 0s 1ms/step - loss: 0.0474 - accuracy: 1.0000\n",
      "Epoch 59/100\n",
      "20/20 [==============================] - 0s 1ms/step - loss: 0.0331 - accuracy: 1.0000\n",
      "Epoch 60/100\n",
      "20/20 [==============================] - 0s 1ms/step - loss: 0.0308 - accuracy: 1.0000\n",
      "Epoch 61/100\n",
      "20/20 [==============================] - 0s 1ms/step - loss: 0.0318 - accuracy: 1.0000\n",
      "Epoch 62/100\n",
      "20/20 [==============================] - 0s 1ms/step - loss: 0.0276 - accuracy: 1.0000\n",
      "Epoch 63/100\n",
      "20/20 [==============================] - 0s 1ms/step - loss: 0.0259 - accuracy: 1.0000\n",
      "Epoch 64/100\n",
      "20/20 [==============================] - 0s 1ms/step - loss: 0.0222 - accuracy: 1.0000\n",
      "Epoch 65/100\n",
      "20/20 [==============================] - 0s 1ms/step - loss: 0.0216 - accuracy: 1.0000\n",
      "Epoch 66/100\n",
      "20/20 [==============================] - 0s 1ms/step - loss: 0.0193 - accuracy: 1.0000\n",
      "Epoch 67/100\n",
      "20/20 [==============================] - 0s 1ms/step - loss: 0.0192 - accuracy: 1.0000\n",
      "Epoch 68/100\n",
      "20/20 [==============================] - 0s 1ms/step - loss: 0.0182 - accuracy: 1.0000\n",
      "Epoch 69/100\n",
      "20/20 [==============================] - 0s 1ms/step - loss: 0.0181 - accuracy: 1.0000\n",
      "Epoch 70/100\n",
      "20/20 [==============================] - 0s 1ms/step - loss: 0.0170 - accuracy: 1.0000\n",
      "Epoch 71/100\n",
      "20/20 [==============================] - 0s 1ms/step - loss: 0.0180 - accuracy: 1.0000\n",
      "Epoch 72/100\n",
      "20/20 [==============================] - 0s 1ms/step - loss: 0.0193 - accuracy: 1.0000\n",
      "Epoch 73/100\n",
      "20/20 [==============================] - 0s 1ms/step - loss: 0.0153 - accuracy: 1.0000\n",
      "Epoch 74/100\n",
      "20/20 [==============================] - 0s 1ms/step - loss: 0.0138 - accuracy: 1.0000\n",
      "Epoch 75/100\n",
      "20/20 [==============================] - 0s 1ms/step - loss: 0.0125 - accuracy: 1.0000\n",
      "Epoch 76/100\n",
      "20/20 [==============================] - 0s 1ms/step - loss: 0.0123 - accuracy: 1.0000\n",
      "Epoch 77/100\n",
      "20/20 [==============================] - 0s 1ms/step - loss: 0.0108 - accuracy: 1.0000\n",
      "Epoch 78/100\n",
      "20/20 [==============================] - 0s 1ms/step - loss: 0.0110 - accuracy: 1.0000\n",
      "Epoch 79/100\n",
      "20/20 [==============================] - 0s 1ms/step - loss: 0.0109 - accuracy: 1.0000\n",
      "Epoch 80/100\n",
      "20/20 [==============================] - 0s 1ms/step - loss: 0.0091 - accuracy: 1.0000\n",
      "Epoch 81/100\n",
      "20/20 [==============================] - 0s 1ms/step - loss: 0.0087 - accuracy: 1.0000\n",
      "Epoch 82/100\n",
      "20/20 [==============================] - 0s 1ms/step - loss: 0.0084 - accuracy: 1.0000\n",
      "Epoch 83/100\n"
     ]
    },
    {
     "name": "stdout",
     "output_type": "stream",
     "text": [
      "20/20 [==============================] - 0s 1ms/step - loss: 0.0094 - accuracy: 1.0000\n",
      "Epoch 84/100\n",
      "20/20 [==============================] - 0s 1ms/step - loss: 0.0080 - accuracy: 1.0000\n",
      "Epoch 85/100\n",
      "20/20 [==============================] - 0s 1ms/step - loss: 0.0074 - accuracy: 1.0000\n",
      "Epoch 86/100\n",
      "20/20 [==============================] - 0s 1ms/step - loss: 0.0092 - accuracy: 1.0000\n",
      "Epoch 87/100\n",
      "20/20 [==============================] - 0s 1ms/step - loss: 0.0076 - accuracy: 1.0000\n",
      "Epoch 88/100\n",
      "20/20 [==============================] - 0s 1ms/step - loss: 0.0073 - accuracy: 1.0000\n",
      "Epoch 89/100\n",
      "20/20 [==============================] - 0s 1ms/step - loss: 0.0060 - accuracy: 1.0000\n",
      "Epoch 90/100\n",
      "20/20 [==============================] - 0s 1ms/step - loss: 0.0060 - accuracy: 1.0000\n",
      "Epoch 91/100\n",
      "20/20 [==============================] - 0s 1ms/step - loss: 0.0062 - accuracy: 1.0000\n",
      "Epoch 92/100\n",
      "20/20 [==============================] - 0s 1ms/step - loss: 0.0055 - accuracy: 1.0000\n",
      "Epoch 93/100\n",
      "20/20 [==============================] - 0s 1ms/step - loss: 0.0051 - accuracy: 1.0000\n",
      "Epoch 94/100\n",
      "20/20 [==============================] - 0s 1ms/step - loss: 0.0056 - accuracy: 1.0000\n",
      "Epoch 95/100\n",
      "20/20 [==============================] - 0s 1ms/step - loss: 0.0049 - accuracy: 1.0000\n",
      "Epoch 96/100\n",
      "20/20 [==============================] - 0s 1ms/step - loss: 0.0046 - accuracy: 1.0000\n",
      "Epoch 97/100\n",
      "20/20 [==============================] - 0s 1ms/step - loss: 0.0049 - accuracy: 1.0000\n",
      "Epoch 98/100\n",
      "20/20 [==============================] - 0s 1ms/step - loss: 0.0050 - accuracy: 1.0000\n",
      "Epoch 99/100\n",
      "20/20 [==============================] - 0s 1ms/step - loss: 0.0054 - accuracy: 1.0000\n",
      "Epoch 100/100\n",
      "20/20 [==============================] - 0s 1ms/step - loss: 0.0050 - accuracy: 1.0000\n"
     ]
    },
    {
     "data": {
      "text/plain": [
       "<keras.callbacks.History at 0x19694ad2c70>"
      ]
     },
     "execution_count": 47,
     "metadata": {},
     "output_type": "execute_result"
    }
   ],
   "source": [
    "model1 = keras.Sequential([\n",
    "    keras.layers.Dense(60, input_dim=60, activation='relu'),\n",
    "    keras.layers.Dense(30, activation='relu'),\n",
    "    keras.layers.Dense(15, activation='relu'),\n",
    "    keras.layers.Dense(1, activation='sigmoid')\n",
    "])\n",
    "\n",
    "model1.compile(loss='binary_crossentropy', optimizer='adam', metrics=['accuracy'])\n",
    "\n",
    "model1.fit(X_train, y_train, epochs=100, batch_size=8)"
   ]
  },
  {
   "cell_type": "code",
   "execution_count": 48,
   "metadata": {},
   "outputs": [
    {
     "name": "stdout",
     "output_type": "stream",
     "text": [
      "2/2 [==============================] - 0s 2ms/step - loss: 0.8512 - accuracy: 0.7885\n"
     ]
    },
    {
     "data": {
      "text/plain": [
       "[0.8511648178100586, 0.7884615659713745]"
      ]
     },
     "execution_count": 48,
     "metadata": {},
     "output_type": "execute_result"
    }
   ],
   "source": [
    "model1.evaluate(X_test, y_test)"
   ]
  },
  {
   "cell_type": "markdown",
   "metadata": {},
   "source": [
    "Training Accuracy >>> Test Accuracy"
   ]
  },
  {
   "cell_type": "code",
   "execution_count": 49,
   "metadata": {},
   "outputs": [
    {
     "name": "stdout",
     "output_type": "stream",
     "text": [
      "2/2 [==============================] - 0s 2ms/step\n",
      "[6.5662659e-10 7.6550746e-01 9.9649322e-01 2.4179212e-06 9.9999148e-01\n",
      " 9.9976820e-01 1.4749373e-02 9.9997216e-01 6.7876231e-06 9.9999666e-01]\n"
     ]
    }
   ],
   "source": [
    "y_pred = model1.predict(X_test).reshape(-1)\n",
    "print(y_pred[:10])"
   ]
  },
  {
   "cell_type": "code",
   "execution_count": 50,
   "metadata": {},
   "outputs": [
    {
     "name": "stdout",
     "output_type": "stream",
     "text": [
      "[0. 1. 1. 0. 1. 1. 0. 1. 0. 1.]\n"
     ]
    }
   ],
   "source": [
    "# round the values to nearest integer ie 0 or 1\n",
    "y_pred = np.round(y_pred)\n",
    "print(y_pred[:10])"
   ]
  },
  {
   "cell_type": "code",
   "execution_count": 51,
   "metadata": {},
   "outputs": [
    {
     "data": {
      "text/html": [
       "<div>\n",
       "<style scoped>\n",
       "    .dataframe tbody tr th:only-of-type {\n",
       "        vertical-align: middle;\n",
       "    }\n",
       "\n",
       "    .dataframe tbody tr th {\n",
       "        vertical-align: top;\n",
       "    }\n",
       "\n",
       "    .dataframe thead th {\n",
       "        text-align: right;\n",
       "    }\n",
       "</style>\n",
       "<table border=\"1\" class=\"dataframe\">\n",
       "  <thead>\n",
       "    <tr style=\"text-align: right;\">\n",
       "      <th></th>\n",
       "      <th>R</th>\n",
       "    </tr>\n",
       "  </thead>\n",
       "  <tbody>\n",
       "    <tr>\n",
       "      <th>186</th>\n",
       "      <td>0</td>\n",
       "    </tr>\n",
       "    <tr>\n",
       "      <th>155</th>\n",
       "      <td>0</td>\n",
       "    </tr>\n",
       "    <tr>\n",
       "      <th>165</th>\n",
       "      <td>0</td>\n",
       "    </tr>\n",
       "    <tr>\n",
       "      <th>200</th>\n",
       "      <td>0</td>\n",
       "    </tr>\n",
       "    <tr>\n",
       "      <th>58</th>\n",
       "      <td>1</td>\n",
       "    </tr>\n",
       "    <tr>\n",
       "      <th>34</th>\n",
       "      <td>1</td>\n",
       "    </tr>\n",
       "    <tr>\n",
       "      <th>151</th>\n",
       "      <td>0</td>\n",
       "    </tr>\n",
       "    <tr>\n",
       "      <th>18</th>\n",
       "      <td>1</td>\n",
       "    </tr>\n",
       "    <tr>\n",
       "      <th>202</th>\n",
       "      <td>0</td>\n",
       "    </tr>\n",
       "    <tr>\n",
       "      <th>62</th>\n",
       "      <td>1</td>\n",
       "    </tr>\n",
       "  </tbody>\n",
       "</table>\n",
       "</div>"
      ],
      "text/plain": [
       "     R\n",
       "186  0\n",
       "155  0\n",
       "165  0\n",
       "200  0\n",
       "58   1\n",
       "34   1\n",
       "151  0\n",
       "18   1\n",
       "202  0\n",
       "62   1"
      ]
     },
     "execution_count": 51,
     "metadata": {},
     "output_type": "execute_result"
    }
   ],
   "source": [
    "y_test[:10]"
   ]
  },
  {
   "cell_type": "code",
   "execution_count": 52,
   "metadata": {},
   "outputs": [
    {
     "name": "stdout",
     "output_type": "stream",
     "text": [
      "              precision    recall  f1-score   support\n",
      "\n",
      "           0       0.75      0.89      0.81        27\n",
      "           1       0.85      0.68      0.76        25\n",
      "\n",
      "    accuracy                           0.79        52\n",
      "   macro avg       0.80      0.78      0.78        52\n",
      "weighted avg       0.80      0.79      0.79        52\n",
      "\n"
     ]
    }
   ],
   "source": [
    "from sklearn.metrics import confusion_matrix , classification_report\n",
    "print(classification_report(y_test, y_pred))"
   ]
  },
  {
   "cell_type": "markdown",
   "metadata": {},
   "source": [
    "#### Model with Dropout Layer"
   ]
  },
  {
   "cell_type": "code",
   "execution_count": 53,
   "metadata": {
    "scrolled": true
   },
   "outputs": [
    {
     "name": "stdout",
     "output_type": "stream",
     "text": [
      "Epoch 1/100\n",
      "20/20 [==============================] - 0s 1ms/step - loss: 0.7851 - accuracy: 0.5128\n",
      "Epoch 2/100\n",
      "20/20 [==============================] - 0s 1ms/step - loss: 0.7261 - accuracy: 0.4872\n",
      "Epoch 3/100\n",
      "20/20 [==============================] - 0s 1ms/step - loss: 0.7256 - accuracy: 0.4872\n",
      "Epoch 4/100\n",
      "20/20 [==============================] - 0s 1ms/step - loss: 0.7046 - accuracy: 0.4551\n",
      "Epoch 5/100\n",
      "20/20 [==============================] - 0s 1ms/step - loss: 0.7152 - accuracy: 0.5256\n",
      "Epoch 6/100\n",
      "20/20 [==============================] - 0s 1ms/step - loss: 0.6969 - accuracy: 0.5064\n",
      "Epoch 7/100\n",
      "20/20 [==============================] - 0s 1ms/step - loss: 0.7064 - accuracy: 0.5513\n",
      "Epoch 8/100\n",
      "20/20 [==============================] - 0s 1ms/step - loss: 0.6732 - accuracy: 0.5833\n",
      "Epoch 9/100\n",
      "20/20 [==============================] - 0s 1ms/step - loss: 0.6832 - accuracy: 0.5513\n",
      "Epoch 10/100\n",
      "20/20 [==============================] - 0s 1ms/step - loss: 0.6982 - accuracy: 0.5256\n",
      "Epoch 11/100\n",
      "20/20 [==============================] - 0s 1ms/step - loss: 0.6939 - accuracy: 0.5577\n",
      "Epoch 12/100\n",
      "20/20 [==============================] - 0s 1ms/step - loss: 0.6891 - accuracy: 0.5513\n",
      "Epoch 13/100\n",
      "20/20 [==============================] - 0s 1ms/step - loss: 0.6729 - accuracy: 0.5833\n",
      "Epoch 14/100\n",
      "20/20 [==============================] - 0s 1ms/step - loss: 0.6920 - accuracy: 0.5321\n",
      "Epoch 15/100\n",
      "20/20 [==============================] - 0s 1ms/step - loss: 0.6747 - accuracy: 0.5385\n",
      "Epoch 16/100\n",
      "20/20 [==============================] - 0s 1ms/step - loss: 0.6579 - accuracy: 0.5897\n",
      "Epoch 17/100\n",
      "20/20 [==============================] - 0s 1ms/step - loss: 0.6820 - accuracy: 0.5256\n",
      "Epoch 18/100\n",
      "20/20 [==============================] - 0s 1ms/step - loss: 0.6608 - accuracy: 0.6026\n",
      "Epoch 19/100\n",
      "20/20 [==============================] - 0s 1ms/step - loss: 0.6861 - accuracy: 0.5321\n",
      "Epoch 20/100\n",
      "20/20 [==============================] - 0s 1ms/step - loss: 0.6765 - accuracy: 0.6218\n",
      "Epoch 21/100\n",
      "20/20 [==============================] - 0s 1ms/step - loss: 0.6919 - accuracy: 0.5513\n",
      "Epoch 22/100\n",
      "20/20 [==============================] - 0s 1ms/step - loss: 0.6763 - accuracy: 0.5705\n",
      "Epoch 23/100\n",
      "20/20 [==============================] - 0s 1ms/step - loss: 0.6570 - accuracy: 0.5641\n",
      "Epoch 24/100\n",
      "20/20 [==============================] - 0s 1ms/step - loss: 0.6629 - accuracy: 0.5513\n",
      "Epoch 25/100\n",
      "20/20 [==============================] - 0s 1ms/step - loss: 0.6784 - accuracy: 0.5769\n",
      "Epoch 26/100\n",
      "20/20 [==============================] - 0s 1ms/step - loss: 0.6539 - accuracy: 0.6410\n",
      "Epoch 27/100\n",
      "20/20 [==============================] - 0s 1ms/step - loss: 0.6518 - accuracy: 0.5833\n",
      "Epoch 28/100\n",
      "20/20 [==============================] - 0s 1ms/step - loss: 0.6528 - accuracy: 0.6667\n",
      "Epoch 29/100\n",
      "20/20 [==============================] - 0s 1ms/step - loss: 0.6322 - accuracy: 0.6603\n",
      "Epoch 30/100\n",
      "20/20 [==============================] - 0s 1ms/step - loss: 0.6474 - accuracy: 0.6282\n",
      "Epoch 31/100\n",
      "20/20 [==============================] - 0s 1ms/step - loss: 0.6212 - accuracy: 0.6474\n",
      "Epoch 32/100\n",
      "20/20 [==============================] - 0s 1ms/step - loss: 0.6172 - accuracy: 0.6667\n",
      "Epoch 33/100\n",
      "20/20 [==============================] - 0s 1ms/step - loss: 0.6726 - accuracy: 0.5962\n",
      "Epoch 34/100\n",
      "20/20 [==============================] - 0s 1ms/step - loss: 0.5949 - accuracy: 0.6923\n",
      "Epoch 35/100\n",
      "20/20 [==============================] - 0s 1ms/step - loss: 0.5980 - accuracy: 0.6474\n",
      "Epoch 36/100\n",
      "20/20 [==============================] - 0s 1ms/step - loss: 0.5970 - accuracy: 0.7179\n",
      "Epoch 37/100\n",
      "20/20 [==============================] - 0s 1ms/step - loss: 0.6166 - accuracy: 0.6410\n",
      "Epoch 38/100\n",
      "20/20 [==============================] - 0s 1ms/step - loss: 0.6253 - accuracy: 0.6538\n",
      "Epoch 39/100\n",
      "20/20 [==============================] - 0s 2ms/step - loss: 0.5951 - accuracy: 0.6987\n",
      "Epoch 40/100\n",
      "20/20 [==============================] - 0s 1ms/step - loss: 0.5951 - accuracy: 0.6795\n",
      "Epoch 41/100\n",
      "20/20 [==============================] - 0s 1ms/step - loss: 0.5550 - accuracy: 0.7115\n",
      "Epoch 42/100\n",
      "20/20 [==============================] - 0s 1ms/step - loss: 0.5342 - accuracy: 0.7564\n",
      "Epoch 43/100\n",
      "20/20 [==============================] - 0s 1ms/step - loss: 0.5708 - accuracy: 0.7244\n",
      "Epoch 44/100\n",
      "20/20 [==============================] - 0s 1ms/step - loss: 0.5303 - accuracy: 0.7500\n",
      "Epoch 45/100\n",
      "20/20 [==============================] - 0s 1ms/step - loss: 0.5326 - accuracy: 0.7115\n",
      "Epoch 46/100\n",
      "20/20 [==============================] - 0s 1ms/step - loss: 0.5419 - accuracy: 0.7756\n",
      "Epoch 47/100\n",
      "20/20 [==============================] - 0s 1ms/step - loss: 0.4991 - accuracy: 0.7500\n",
      "Epoch 48/100\n",
      "20/20 [==============================] - 0s 1ms/step - loss: 0.4926 - accuracy: 0.7821\n",
      "Epoch 49/100\n",
      "20/20 [==============================] - 0s 1ms/step - loss: 0.5366 - accuracy: 0.7244\n",
      "Epoch 50/100\n",
      "20/20 [==============================] - 0s 1ms/step - loss: 0.5012 - accuracy: 0.7500\n",
      "Epoch 51/100\n",
      "20/20 [==============================] - 0s 1ms/step - loss: 0.4542 - accuracy: 0.7949\n",
      "Epoch 52/100\n",
      "20/20 [==============================] - 0s 1ms/step - loss: 0.4723 - accuracy: 0.8205\n",
      "Epoch 53/100\n",
      "20/20 [==============================] - 0s 1ms/step - loss: 0.4681 - accuracy: 0.8013\n",
      "Epoch 54/100\n",
      "20/20 [==============================] - 0s 1ms/step - loss: 0.4524 - accuracy: 0.8269\n",
      "Epoch 55/100\n",
      "20/20 [==============================] - 0s 1ms/step - loss: 0.4761 - accuracy: 0.7821\n",
      "Epoch 56/100\n",
      "20/20 [==============================] - 0s 1ms/step - loss: 0.4669 - accuracy: 0.7756\n",
      "Epoch 57/100\n",
      "20/20 [==============================] - 0s 1ms/step - loss: 0.4575 - accuracy: 0.7821\n",
      "Epoch 58/100\n",
      "20/20 [==============================] - 0s 1ms/step - loss: 0.3961 - accuracy: 0.8397\n",
      "Epoch 59/100\n",
      "20/20 [==============================] - 0s 1ms/step - loss: 0.4301 - accuracy: 0.8269\n",
      "Epoch 60/100\n",
      "20/20 [==============================] - 0s 1ms/step - loss: 0.4891 - accuracy: 0.7500\n",
      "Epoch 61/100\n",
      "20/20 [==============================] - 0s 1ms/step - loss: 0.4164 - accuracy: 0.7885\n",
      "Epoch 62/100\n",
      "20/20 [==============================] - 0s 1ms/step - loss: 0.4143 - accuracy: 0.8590\n",
      "Epoch 63/100\n",
      "20/20 [==============================] - 0s 1ms/step - loss: 0.4081 - accuracy: 0.8077\n",
      "Epoch 64/100\n",
      "20/20 [==============================] - 0s 1ms/step - loss: 0.3750 - accuracy: 0.8333\n",
      "Epoch 65/100\n",
      "20/20 [==============================] - 0s 1ms/step - loss: 0.4169 - accuracy: 0.8077\n",
      "Epoch 66/100\n",
      "20/20 [==============================] - 0s 1ms/step - loss: 0.4349 - accuracy: 0.7885\n",
      "Epoch 67/100\n",
      "20/20 [==============================] - 0s 1ms/step - loss: 0.3797 - accuracy: 0.8333\n",
      "Epoch 68/100\n",
      "20/20 [==============================] - 0s 1ms/step - loss: 0.4379 - accuracy: 0.8526\n",
      "Epoch 69/100\n",
      "20/20 [==============================] - 0s 1ms/step - loss: 0.4341 - accuracy: 0.8013\n",
      "Epoch 70/100\n",
      "20/20 [==============================] - 0s 1ms/step - loss: 0.3484 - accuracy: 0.8782\n",
      "Epoch 71/100\n",
      "20/20 [==============================] - 0s 1ms/step - loss: 0.3502 - accuracy: 0.8654\n",
      "Epoch 72/100\n",
      "20/20 [==============================] - 0s 1ms/step - loss: 0.3690 - accuracy: 0.8397\n",
      "Epoch 73/100\n",
      "20/20 [==============================] - 0s 1ms/step - loss: 0.4217 - accuracy: 0.8205\n",
      "Epoch 74/100\n",
      "20/20 [==============================] - 0s 1ms/step - loss: 0.3887 - accuracy: 0.8590\n",
      "Epoch 75/100\n",
      "20/20 [==============================] - 0s 1ms/step - loss: 0.3467 - accuracy: 0.8590\n",
      "Epoch 76/100\n",
      "20/20 [==============================] - 0s 1ms/step - loss: 0.3644 - accuracy: 0.8205\n",
      "Epoch 77/100\n",
      "20/20 [==============================] - 0s 1ms/step - loss: 0.3530 - accuracy: 0.8846\n",
      "Epoch 78/100\n",
      "20/20 [==============================] - 0s 1ms/step - loss: 0.3472 - accuracy: 0.8333\n",
      "Epoch 79/100\n",
      "20/20 [==============================] - 0s 1ms/step - loss: 0.3218 - accuracy: 0.8910\n",
      "Epoch 80/100\n",
      "20/20 [==============================] - 0s 1ms/step - loss: 0.3389 - accuracy: 0.8526\n",
      "Epoch 81/100\n",
      "20/20 [==============================] - 0s 1ms/step - loss: 0.3565 - accuracy: 0.8397\n",
      "Epoch 82/100\n",
      "20/20 [==============================] - 0s 1ms/step - loss: 0.3217 - accuracy: 0.8846\n",
      "Epoch 83/100\n"
     ]
    },
    {
     "name": "stdout",
     "output_type": "stream",
     "text": [
      "20/20 [==============================] - 0s 1ms/step - loss: 0.3432 - accuracy: 0.8526\n",
      "Epoch 84/100\n",
      "20/20 [==============================] - 0s 1ms/step - loss: 0.3480 - accuracy: 0.8590\n",
      "Epoch 85/100\n",
      "20/20 [==============================] - 0s 1ms/step - loss: 0.3773 - accuracy: 0.8654\n",
      "Epoch 86/100\n",
      "20/20 [==============================] - 0s 1ms/step - loss: 0.3144 - accuracy: 0.8846\n",
      "Epoch 87/100\n",
      "20/20 [==============================] - 0s 1ms/step - loss: 0.3236 - accuracy: 0.8462\n",
      "Epoch 88/100\n",
      "20/20 [==============================] - 0s 1ms/step - loss: 0.3388 - accuracy: 0.8974\n",
      "Epoch 89/100\n",
      "20/20 [==============================] - 0s 1ms/step - loss: 0.3335 - accuracy: 0.8974\n",
      "Epoch 90/100\n",
      "20/20 [==============================] - 0s 1ms/step - loss: 0.2958 - accuracy: 0.8910\n",
      "Epoch 91/100\n",
      "20/20 [==============================] - 0s 1ms/step - loss: 0.3301 - accuracy: 0.8590\n",
      "Epoch 92/100\n",
      "20/20 [==============================] - 0s 1ms/step - loss: 0.3894 - accuracy: 0.8526\n",
      "Epoch 93/100\n",
      "20/20 [==============================] - 0s 1ms/step - loss: 0.3176 - accuracy: 0.8654\n",
      "Epoch 94/100\n",
      "20/20 [==============================] - 0s 1ms/step - loss: 0.3422 - accuracy: 0.8718\n",
      "Epoch 95/100\n",
      "20/20 [==============================] - 0s 1ms/step - loss: 0.2678 - accuracy: 0.9167\n",
      "Epoch 96/100\n",
      "20/20 [==============================] - 0s 1ms/step - loss: 0.3160 - accuracy: 0.8846\n",
      "Epoch 97/100\n",
      "20/20 [==============================] - 0s 1ms/step - loss: 0.3030 - accuracy: 0.9167\n",
      "Epoch 98/100\n",
      "20/20 [==============================] - 0s 1ms/step - loss: 0.3124 - accuracy: 0.8654\n",
      "Epoch 99/100\n",
      "20/20 [==============================] - 0s 1ms/step - loss: 0.3022 - accuracy: 0.8590\n",
      "Epoch 100/100\n",
      "20/20 [==============================] - 0s 1ms/step - loss: 0.2817 - accuracy: 0.9231\n"
     ]
    },
    {
     "data": {
      "text/plain": [
       "<keras.callbacks.History at 0x19694c77250>"
      ]
     },
     "execution_count": 53,
     "metadata": {},
     "output_type": "execute_result"
    }
   ],
   "source": [
    "model2 = keras.Sequential([\n",
    "    keras.layers.Dense(60, input_dim=60, activation='relu'),\n",
    "    keras.layers.Dropout(0.5),\n",
    "    keras.layers.Dense(30, activation='relu'),\n",
    "    keras.layers.Dropout(0.5),\n",
    "    keras.layers.Dense(15, activation='relu'),\n",
    "    keras.layers.Dropout(0.5),\n",
    "    keras.layers.Dense(1, activation='sigmoid')\n",
    "])\n",
    "\n",
    "model2.compile(loss='binary_crossentropy', optimizer='adam', metrics=['accuracy'])\n",
    "\n",
    "model2.fit(X_train, y_train, epochs=100, batch_size=8)"
   ]
  },
  {
   "cell_type": "code",
   "execution_count": 54,
   "metadata": {},
   "outputs": [
    {
     "name": "stdout",
     "output_type": "stream",
     "text": [
      "2/2 [==============================] - 0s 3ms/step - loss: 0.4655 - accuracy: 0.7885\n"
     ]
    },
    {
     "data": {
      "text/plain": [
       "[0.465492844581604, 0.7884615659713745]"
      ]
     },
     "execution_count": 54,
     "metadata": {},
     "output_type": "execute_result"
    }
   ],
   "source": [
    "model2.evaluate(X_test, y_test)"
   ]
  },
  {
   "cell_type": "markdown",
   "metadata": {},
   "source": [
    "Training Accuracy is still good but Test Accuracy Improved"
   ]
  },
  {
   "cell_type": "code",
   "execution_count": 55,
   "metadata": {},
   "outputs": [
    {
     "name": "stdout",
     "output_type": "stream",
     "text": [
      "2/2 [==============================] - 0s 2ms/step\n",
      "[5.8713404e-04 8.6064106e-01 9.1075814e-01 3.6464021e-02 9.9978018e-01\n",
      " 9.3926525e-01 3.1422853e-01 9.9988753e-01 2.8219674e-02 9.9989629e-01]\n"
     ]
    }
   ],
   "source": [
    "y_pred = model2.predict(X_test).reshape(-1)\n",
    "print(y_pred[:10])"
   ]
  },
  {
   "cell_type": "code",
   "execution_count": 56,
   "metadata": {},
   "outputs": [
    {
     "name": "stdout",
     "output_type": "stream",
     "text": [
      "[0. 1. 1. 0. 1. 1. 0. 1. 0. 1.]\n"
     ]
    }
   ],
   "source": [
    "# round the values to nearest integer ie 0 or 1\n",
    "y_pred = np.round(y_pred)\n",
    "print(y_pred[:10])"
   ]
  },
  {
   "cell_type": "code",
   "execution_count": 57,
   "metadata": {
    "scrolled": true
   },
   "outputs": [
    {
     "name": "stdout",
     "output_type": "stream",
     "text": [
      "              precision    recall  f1-score   support\n",
      "\n",
      "           0       0.75      0.89      0.81        27\n",
      "           1       0.85      0.68      0.76        25\n",
      "\n",
      "    accuracy                           0.79        52\n",
      "   macro avg       0.80      0.78      0.78        52\n",
      "weighted avg       0.80      0.79      0.79        52\n",
      "\n"
     ]
    }
   ],
   "source": [
    "from sklearn.metrics import confusion_matrix , classification_report\n",
    "print(classification_report(y_test, y_pred))"
   ]
  },
  {
   "cell_type": "markdown",
   "metadata": {},
   "source": [
    "**You can see that by using dropout layer test accuracy increased from 0.77 to 0.81**"
   ]
  }
 ],
 "metadata": {
  "kernelspec": {
   "display_name": "Python 3",
   "language": "python",
   "name": "python3"
  },
  "language_info": {
   "codemirror_mode": {
    "name": "ipython",
    "version": 3
   },
   "file_extension": ".py",
   "mimetype": "text/x-python",
   "name": "python",
   "nbconvert_exporter": "python",
   "pygments_lexer": "ipython3",
   "version": "3.8.5"
  }
 },
 "nbformat": 4,
 "nbformat_minor": 2
}
