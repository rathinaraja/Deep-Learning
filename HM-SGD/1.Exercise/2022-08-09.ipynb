{
 "cells": [
  {
   "cell_type": "markdown",
   "metadata": {},
   "source": [
    "<h2 style=\"color:blue\" align=\"center\">Handwritten digits classification using neural network</h2>"
   ]
  },
  {
   "cell_type": "markdown",
   "metadata": {},
   "source": [
    "<img src=\"Figures/MNIST-Handwritten digits.png\" height=450 width=450/>"
   ]
  },
  {
   "cell_type": "markdown",
   "metadata": {},
   "source": [
    "#### TensorFlow Installation"
   ]
  },
  {
   "cell_type": "code",
   "execution_count": 447,
   "metadata": {},
   "outputs": [],
   "source": [
    "#!pip install tensorflow\n",
    "import tensorflow as tf"
   ]
  },
  {
   "cell_type": "code",
   "execution_count": 448,
   "metadata": {},
   "outputs": [
    {
     "name": "stdout",
     "output_type": "stream",
     "text": [
      "2.9.1\n"
     ]
    }
   ],
   "source": [
    "print(tf.version.VERSION)"
   ]
  },
  {
   "cell_type": "markdown",
   "metadata": {},
   "source": [
    "#### Import the necessary libraries"
   ]
  },
  {
   "cell_type": "code",
   "execution_count": 449,
   "metadata": {},
   "outputs": [],
   "source": [
    "import tensorflow as tf \n",
    "import matplotlib.pyplot as plt\n",
    "%matplotlib inline\n",
    "import numpy as np\n",
    "import time\n",
    "import math\n",
    "\n",
    "from tensorflow import keras\n",
    "from keras.datasets import mnist\n",
    "from keras.models import Sequential\n",
    "from keras.layers import Dense, Dropout, Flatten\n",
    "from keras import backend as K\n",
    "from keras.callbacks import ModelCheckpoint\n",
    "from keras.callbacks import CSVLogger"
   ]
  },
  {
   "cell_type": "code",
   "execution_count": 450,
   "metadata": {},
   "outputs": [
    {
     "data": {
      "text/plain": [
       "'tensorflow'"
      ]
     },
     "execution_count": 450,
     "metadata": {},
     "output_type": "execute_result"
    }
   ],
   "source": [
    "K.backend()"
   ]
  },
  {
   "cell_type": "markdown",
   "metadata": {},
   "source": [
    "#### Load and split MNIST for training and testing"
   ]
  },
  {
   "cell_type": "code",
   "execution_count": 451,
   "metadata": {},
   "outputs": [],
   "source": [
    "(X_train,y_train),(X_test,y_test) = mnist.load_data()"
   ]
  },
  {
   "cell_type": "markdown",
   "metadata": {},
   "source": [
    "#### Explore the dataset"
   ]
  },
  {
   "cell_type": "markdown",
   "metadata": {},
   "source": [
    "Keras Handwritten digit MNIST dataset"
   ]
  },
  {
   "cell_type": "markdown",
   "metadata": {},
   "source": [
    "<img src=\"Figures/dataset.png\" height=450 width=450 />"
   ]
  },
  {
   "cell_type": "code",
   "execution_count": 452,
   "metadata": {},
   "outputs": [
    {
     "data": {
      "text/plain": [
       "60000"
      ]
     },
     "execution_count": 452,
     "metadata": {},
     "output_type": "execute_result"
    }
   ],
   "source": [
    "len(X_train)"
   ]
  },
  {
   "cell_type": "code",
   "execution_count": 453,
   "metadata": {},
   "outputs": [
    {
     "data": {
      "text/plain": [
       "10000"
      ]
     },
     "execution_count": 453,
     "metadata": {},
     "output_type": "execute_result"
    }
   ],
   "source": [
    "len(X_test)"
   ]
  },
  {
   "cell_type": "code",
   "execution_count": 454,
   "metadata": {},
   "outputs": [
    {
     "data": {
      "text/plain": [
       "(28, 28)"
      ]
     },
     "execution_count": 454,
     "metadata": {},
     "output_type": "execute_result"
    }
   ],
   "source": [
    "X_train[0].shape"
   ]
  },
  {
   "cell_type": "markdown",
   "metadata": {},
   "source": [
    "It would be something like this"
   ]
  },
  {
   "cell_type": "markdown",
   "metadata": {},
   "source": [
    "<img src='Figures/pixel.png' />"
   ]
  },
  {
   "cell_type": "code",
   "execution_count": 455,
   "metadata": {
    "scrolled": true
   },
   "outputs": [
    {
     "data": {
      "text/plain": [
       "array([[  0,   0,   0,   0,   0,   0,   0,   0,   0,   0,   0,   0,   0,\n",
       "          0,   0,   0,   0,   0,   0,   0,   0,   0,   0,   0,   0,   0,\n",
       "          0,   0],\n",
       "       [  0,   0,   0,   0,   0,   0,   0,   0,   0,   0,   0,   0,   0,\n",
       "          0,   0,   0,   0,   0,   0,   0,   0,   0,   0,   0,   0,   0,\n",
       "          0,   0],\n",
       "       [  0,   0,   0,   0,   0,   0,   0,   0,   0,   0,   0,   0,   0,\n",
       "          0,   0,   0,   0,   0,   0,   0,   0,   0,   0,   0,   0,   0,\n",
       "          0,   0],\n",
       "       [  0,   0,   0,   0,   0,   0,   0,   0,   0,   0,   0,   0,   0,\n",
       "          0,   0,   0,   0,   0,   0,   0,   0,   0,   0,   0,   0,   0,\n",
       "          0,   0],\n",
       "       [  0,   0,   0,   0,   0,   0,   0,   0,   0,   0,   0,   0,   0,\n",
       "          0,   0,   0,   0,   0,   0,   0,   0,   0,   0,   0,   0,   0,\n",
       "          0,   0],\n",
       "       [  0,   0,   0,   0,   0,   0,   0,   0,   0,   0,   0,   0,   3,\n",
       "         18,  18,  18, 126, 136, 175,  26, 166, 255, 247, 127,   0,   0,\n",
       "          0,   0],\n",
       "       [  0,   0,   0,   0,   0,   0,   0,   0,  30,  36,  94, 154, 170,\n",
       "        253, 253, 253, 253, 253, 225, 172, 253, 242, 195,  64,   0,   0,\n",
       "          0,   0],\n",
       "       [  0,   0,   0,   0,   0,   0,   0,  49, 238, 253, 253, 253, 253,\n",
       "        253, 253, 253, 253, 251,  93,  82,  82,  56,  39,   0,   0,   0,\n",
       "          0,   0],\n",
       "       [  0,   0,   0,   0,   0,   0,   0,  18, 219, 253, 253, 253, 253,\n",
       "        253, 198, 182, 247, 241,   0,   0,   0,   0,   0,   0,   0,   0,\n",
       "          0,   0],\n",
       "       [  0,   0,   0,   0,   0,   0,   0,   0,  80, 156, 107, 253, 253,\n",
       "        205,  11,   0,  43, 154,   0,   0,   0,   0,   0,   0,   0,   0,\n",
       "          0,   0],\n",
       "       [  0,   0,   0,   0,   0,   0,   0,   0,   0,  14,   1, 154, 253,\n",
       "         90,   0,   0,   0,   0,   0,   0,   0,   0,   0,   0,   0,   0,\n",
       "          0,   0],\n",
       "       [  0,   0,   0,   0,   0,   0,   0,   0,   0,   0,   0, 139, 253,\n",
       "        190,   2,   0,   0,   0,   0,   0,   0,   0,   0,   0,   0,   0,\n",
       "          0,   0],\n",
       "       [  0,   0,   0,   0,   0,   0,   0,   0,   0,   0,   0,  11, 190,\n",
       "        253,  70,   0,   0,   0,   0,   0,   0,   0,   0,   0,   0,   0,\n",
       "          0,   0],\n",
       "       [  0,   0,   0,   0,   0,   0,   0,   0,   0,   0,   0,   0,  35,\n",
       "        241, 225, 160, 108,   1,   0,   0,   0,   0,   0,   0,   0,   0,\n",
       "          0,   0],\n",
       "       [  0,   0,   0,   0,   0,   0,   0,   0,   0,   0,   0,   0,   0,\n",
       "         81, 240, 253, 253, 119,  25,   0,   0,   0,   0,   0,   0,   0,\n",
       "          0,   0],\n",
       "       [  0,   0,   0,   0,   0,   0,   0,   0,   0,   0,   0,   0,   0,\n",
       "          0,  45, 186, 253, 253, 150,  27,   0,   0,   0,   0,   0,   0,\n",
       "          0,   0],\n",
       "       [  0,   0,   0,   0,   0,   0,   0,   0,   0,   0,   0,   0,   0,\n",
       "          0,   0,  16,  93, 252, 253, 187,   0,   0,   0,   0,   0,   0,\n",
       "          0,   0],\n",
       "       [  0,   0,   0,   0,   0,   0,   0,   0,   0,   0,   0,   0,   0,\n",
       "          0,   0,   0,   0, 249, 253, 249,  64,   0,   0,   0,   0,   0,\n",
       "          0,   0],\n",
       "       [  0,   0,   0,   0,   0,   0,   0,   0,   0,   0,   0,   0,   0,\n",
       "          0,  46, 130, 183, 253, 253, 207,   2,   0,   0,   0,   0,   0,\n",
       "          0,   0],\n",
       "       [  0,   0,   0,   0,   0,   0,   0,   0,   0,   0,   0,   0,  39,\n",
       "        148, 229, 253, 253, 253, 250, 182,   0,   0,   0,   0,   0,   0,\n",
       "          0,   0],\n",
       "       [  0,   0,   0,   0,   0,   0,   0,   0,   0,   0,  24, 114, 221,\n",
       "        253, 253, 253, 253, 201,  78,   0,   0,   0,   0,   0,   0,   0,\n",
       "          0,   0],\n",
       "       [  0,   0,   0,   0,   0,   0,   0,   0,  23,  66, 213, 253, 253,\n",
       "        253, 253, 198,  81,   2,   0,   0,   0,   0,   0,   0,   0,   0,\n",
       "          0,   0],\n",
       "       [  0,   0,   0,   0,   0,   0,  18, 171, 219, 253, 253, 253, 253,\n",
       "        195,  80,   9,   0,   0,   0,   0,   0,   0,   0,   0,   0,   0,\n",
       "          0,   0],\n",
       "       [  0,   0,   0,   0,  55, 172, 226, 253, 253, 253, 253, 244, 133,\n",
       "         11,   0,   0,   0,   0,   0,   0,   0,   0,   0,   0,   0,   0,\n",
       "          0,   0],\n",
       "       [  0,   0,   0,   0, 136, 253, 253, 253, 212, 135, 132,  16,   0,\n",
       "          0,   0,   0,   0,   0,   0,   0,   0,   0,   0,   0,   0,   0,\n",
       "          0,   0],\n",
       "       [  0,   0,   0,   0,   0,   0,   0,   0,   0,   0,   0,   0,   0,\n",
       "          0,   0,   0,   0,   0,   0,   0,   0,   0,   0,   0,   0,   0,\n",
       "          0,   0],\n",
       "       [  0,   0,   0,   0,   0,   0,   0,   0,   0,   0,   0,   0,   0,\n",
       "          0,   0,   0,   0,   0,   0,   0,   0,   0,   0,   0,   0,   0,\n",
       "          0,   0],\n",
       "       [  0,   0,   0,   0,   0,   0,   0,   0,   0,   0,   0,   0,   0,\n",
       "          0,   0,   0,   0,   0,   0,   0,   0,   0,   0,   0,   0,   0,\n",
       "          0,   0]], dtype=uint8)"
      ]
     },
     "execution_count": 455,
     "metadata": {},
     "output_type": "execute_result"
    }
   ],
   "source": [
    "X_train[0]\n",
    "# Displays 28 x 28 pixels in 2D array"
   ]
  },
  {
   "cell_type": "code",
   "execution_count": 456,
   "metadata": {},
   "outputs": [
    {
     "data": {
      "text/plain": [
       "<matplotlib.image.AxesImage at 0x1f4ea8677c0>"
      ]
     },
     "execution_count": 456,
     "metadata": {},
     "output_type": "execute_result"
    },
    {
     "data": {
      "image/png": "[encoded data removed]",
      "text/plain": [
       "<Figure size 288x288 with 1 Axes>"
      ]
     },
     "metadata": {
      "needs_background": "light"
     },
     "output_type": "display_data"
    }
   ],
   "source": [
    "plt.matshow(X_train[0])"
   ]
  },
  {
   "cell_type": "code",
   "execution_count": 457,
   "metadata": {},
   "outputs": [
    {
     "data": {
      "text/plain": [
       "5"
      ]
     },
     "execution_count": 457,
     "metadata": {},
     "output_type": "execute_result"
    }
   ],
   "source": [
    "y_train[0]\n",
    "# Label for the above input image"
   ]
  },
  {
   "cell_type": "code",
   "execution_count": 458,
   "metadata": {},
   "outputs": [
    {
     "data": {
      "text/plain": [
       "<matplotlib.image.AxesImage at 0x1f4ebd16820>"
      ]
     },
     "execution_count": 458,
     "metadata": {},
     "output_type": "execute_result"
    },
    {
     "data": {
      "image/png": "[encoded data removed]",
      "text/plain": [
       "<Figure size 288x288 with 1 Axes>"
      ]
     },
     "metadata": {
      "needs_background": "light"
     },
     "output_type": "display_data"
    }
   ],
   "source": [
    "plt.matshow(X_train[1])"
   ]
  },
  {
   "cell_type": "code",
   "execution_count": 459,
   "metadata": {},
   "outputs": [
    {
     "data": {
      "text/plain": [
       "0"
      ]
     },
     "execution_count": 459,
     "metadata": {},
     "output_type": "execute_result"
    }
   ],
   "source": [
    "y_train[1]"
   ]
  },
  {
   "cell_type": "code",
   "execution_count": 460,
   "metadata": {},
   "outputs": [
    {
     "data": {
      "text/plain": [
       "array([5, 0, 4, 1, 9, 2, 1, 3, 1, 4], dtype=uint8)"
      ]
     },
     "execution_count": 460,
     "metadata": {},
     "output_type": "execute_result"
    }
   ],
   "source": [
    "y_train[0:10]"
   ]
  },
  {
   "cell_type": "markdown",
   "metadata": {},
   "source": [
    "#### Flattening"
   ]
  },
  {
   "cell_type": "code",
   "execution_count": 461,
   "metadata": {},
   "outputs": [
    {
     "data": {
      "text/plain": [
       "(60000, 28, 28)"
      ]
     },
     "execution_count": 461,
     "metadata": {},
     "output_type": "execute_result"
    }
   ],
   "source": [
    "X_train.shape"
   ]
  },
  {
   "cell_type": "code",
   "execution_count": 462,
   "metadata": {},
   "outputs": [
    {
     "data": {
      "text/plain": [
       "28"
      ]
     },
     "execution_count": 462,
     "metadata": {},
     "output_type": "execute_result"
    }
   ],
   "source": [
    "X_train.shape[1]"
   ]
  },
  {
   "cell_type": "markdown",
   "metadata": {},
   "source": [
    "You must convert this into 6000, 784"
   ]
  },
  {
   "cell_type": "code",
   "execution_count": 463,
   "metadata": {},
   "outputs": [
    {
     "data": {
      "text/plain": [
       "array([[0, 0, 0, ..., 0, 0, 0],\n",
       "       [0, 0, 0, ..., 0, 0, 0],\n",
       "       [0, 0, 0, ..., 0, 0, 0],\n",
       "       ...,\n",
       "       [0, 0, 0, ..., 0, 0, 0],\n",
       "       [0, 0, 0, ..., 0, 0, 0],\n",
       "       [0, 0, 0, ..., 0, 0, 0]], dtype=uint8)"
      ]
     },
     "execution_count": 463,
     "metadata": {},
     "output_type": "execute_result"
    }
   ],
   "source": [
    "X_train_flattened = X_train.reshape(len(X_train), 28 * 28)\n",
    "X_train_flattened"
   ]
  },
  {
   "cell_type": "code",
   "execution_count": 464,
   "metadata": {},
   "outputs": [
    {
     "data": {
      "text/plain": [
       "(60000, 784)"
      ]
     },
     "execution_count": 464,
     "metadata": {},
     "output_type": "execute_result"
    }
   ],
   "source": [
    "X_train_flattened.shape"
   ]
  },
  {
   "cell_type": "code",
   "execution_count": 465,
   "metadata": {
    "scrolled": true
   },
   "outputs": [
    {
     "data": {
      "text/plain": [
       "array([  0,   0,   0,   0,   0,   0,   0,   0,   0,   0,   0,   0,   0,\n",
       "         0,   0,   0,   0,   0,   0,   0,   0,   0,   0,   0,   0,   0,\n",
       "         0,   0,   0,   0,   0,   0,   0,   0,   0,   0,   0,   0,   0,\n",
       "         0,   0,   0,   0,   0,   0,   0,   0,   0,   0,   0,   0,   0,\n",
       "         0,   0,   0,   0,   0,   0,   0,   0,   0,   0,   0,   0,   0,\n",
       "         0,   0,   0,   0,   0,   0,   0,   0,   0,   0,   0,   0,   0,\n",
       "         0,   0,   0,   0,   0,   0,   0,   0,   0,   0,   0,   0,   0,\n",
       "         0,   0,   0,   0,   0,   0,   0,   0,   0,   0,   0,   0,   0,\n",
       "         0,   0,   0,   0,   0,   0,   0,   0,   0,   0,   0,   0,   0,\n",
       "         0,   0,   0,   0,   0,   0,   0,   0,   0,   0,   0,   0,   0,\n",
       "         0,   0,   0,   0,   0,   0,   0,   0,   0,   0,   0,   0,   0,\n",
       "         0,   0,   0,   0,   0,   0,   0,   0,   0,   3,  18,  18,  18,\n",
       "       126, 136, 175,  26, 166, 255, 247, 127,   0,   0,   0,   0,   0,\n",
       "         0,   0,   0,   0,   0,   0,   0,  30,  36,  94, 154, 170, 253,\n",
       "       253, 253, 253, 253, 225, 172, 253, 242, 195,  64,   0,   0,   0,\n",
       "         0,   0,   0,   0,   0,   0,   0,   0,  49, 238, 253, 253, 253,\n",
       "       253, 253, 253, 253, 253, 251,  93,  82,  82,  56,  39,   0,   0,\n",
       "         0,   0,   0,   0,   0,   0,   0,   0,   0,   0,  18, 219, 253,\n",
       "       253, 253, 253, 253, 198, 182, 247, 241,   0,   0,   0,   0,   0,\n",
       "         0,   0,   0,   0,   0,   0,   0,   0,   0,   0,   0,   0,   0,\n",
       "        80, 156, 107, 253, 253, 205,  11,   0,  43, 154,   0,   0,   0,\n",
       "         0,   0,   0,   0,   0,   0,   0,   0,   0,   0,   0,   0,   0,\n",
       "         0,   0,   0,  14,   1, 154, 253,  90,   0,   0,   0,   0,   0,\n",
       "         0,   0,   0,   0,   0,   0,   0,   0,   0,   0,   0,   0,   0,\n",
       "         0,   0,   0,   0,   0,   0,   0, 139, 253, 190,   2,   0,   0,\n",
       "         0,   0,   0,   0,   0,   0,   0,   0,   0,   0,   0,   0,   0,\n",
       "         0,   0,   0,   0,   0,   0,   0,   0,   0,  11, 190, 253,  70,\n",
       "         0,   0,   0,   0,   0,   0,   0,   0,   0,   0,   0,   0,   0,\n",
       "         0,   0,   0,   0,   0,   0,   0,   0,   0,   0,   0,   0,  35,\n",
       "       241, 225, 160, 108,   1,   0,   0,   0,   0,   0,   0,   0,   0,\n",
       "         0,   0,   0,   0,   0,   0,   0,   0,   0,   0,   0,   0,   0,\n",
       "         0,   0,  81, 240, 253, 253, 119,  25,   0,   0,   0,   0,   0,\n",
       "         0,   0,   0,   0,   0,   0,   0,   0,   0,   0,   0,   0,   0,\n",
       "         0,   0,   0,   0,   0,  45, 186, 253, 253, 150,  27,   0,   0,\n",
       "         0,   0,   0,   0,   0,   0,   0,   0,   0,   0,   0,   0,   0,\n",
       "         0,   0,   0,   0,   0,   0,   0,   0,  16,  93, 252, 253, 187,\n",
       "         0,   0,   0,   0,   0,   0,   0,   0,   0,   0,   0,   0,   0,\n",
       "         0,   0,   0,   0,   0,   0,   0,   0,   0,   0,   0,   0, 249,\n",
       "       253, 249,  64,   0,   0,   0,   0,   0,   0,   0,   0,   0,   0,\n",
       "         0,   0,   0,   0,   0,   0,   0,   0,   0,   0,   0,  46, 130,\n",
       "       183, 253, 253, 207,   2,   0,   0,   0,   0,   0,   0,   0,   0,\n",
       "         0,   0,   0,   0,   0,   0,   0,   0,   0,   0,   0,  39, 148,\n",
       "       229, 253, 253, 253, 250, 182,   0,   0,   0,   0,   0,   0,   0,\n",
       "         0,   0,   0,   0,   0,   0,   0,   0,   0,   0,   0,  24, 114,\n",
       "       221, 253, 253, 253, 253, 201,  78,   0,   0,   0,   0,   0,   0,\n",
       "         0,   0,   0,   0,   0,   0,   0,   0,   0,   0,   0,  23,  66,\n",
       "       213, 253, 253, 253, 253, 198,  81,   2,   0,   0,   0,   0,   0,\n",
       "         0,   0,   0,   0,   0,   0,   0,   0,   0,   0,   0,  18, 171,\n",
       "       219, 253, 253, 253, 253, 195,  80,   9,   0,   0,   0,   0,   0,\n",
       "         0,   0,   0,   0,   0,   0,   0,   0,   0,   0,   0,  55, 172,\n",
       "       226, 253, 253, 253, 253, 244, 133,  11,   0,   0,   0,   0,   0,\n",
       "         0,   0,   0,   0,   0,   0,   0,   0,   0,   0,   0,   0,   0,\n",
       "       136, 253, 253, 253, 212, 135, 132,  16,   0,   0,   0,   0,   0,\n",
       "         0,   0,   0,   0,   0,   0,   0,   0,   0,   0,   0,   0,   0,\n",
       "         0,   0,   0,   0,   0,   0,   0,   0,   0,   0,   0,   0,   0,\n",
       "         0,   0,   0,   0,   0,   0,   0,   0,   0,   0,   0,   0,   0,\n",
       "         0,   0,   0,   0,   0,   0,   0,   0,   0,   0,   0,   0,   0,\n",
       "         0,   0,   0,   0,   0,   0,   0,   0,   0,   0,   0,   0,   0,\n",
       "         0,   0,   0,   0,   0,   0,   0,   0,   0,   0,   0,   0,   0,\n",
       "         0,   0,   0,   0,   0,   0,   0,   0,   0,   0,   0,   0,   0,\n",
       "         0,   0,   0,   0], dtype=uint8)"
      ]
     },
     "execution_count": 465,
     "metadata": {},
     "output_type": "execute_result"
    }
   ],
   "source": [
    "X_train_flattened[0]"
   ]
  },
  {
   "cell_type": "code",
   "execution_count": 466,
   "metadata": {},
   "outputs": [
    {
     "data": {
      "text/plain": [
       "array([[0, 0, 0, ..., 0, 0, 0],\n",
       "       [0, 0, 0, ..., 0, 0, 0],\n",
       "       [0, 0, 0, ..., 0, 0, 0],\n",
       "       ...,\n",
       "       [0, 0, 0, ..., 0, 0, 0],\n",
       "       [0, 0, 0, ..., 0, 0, 0],\n",
       "       [0, 0, 0, ..., 0, 0, 0]], dtype=uint8)"
      ]
     },
     "execution_count": 466,
     "metadata": {},
     "output_type": "execute_result"
    }
   ],
   "source": [
    "X_test_flattened = X_test.reshape(len(X_test),  28 * 28)\n",
    "X_test_flattened"
   ]
  },
  {
   "cell_type": "markdown",
   "metadata": {},
   "source": [
    "#### Normalize the input dataset"
   ]
  },
  {
   "cell_type": "code",
   "execution_count": 467,
   "metadata": {},
   "outputs": [],
   "source": [
    "X_train_normalized = X_train_flattened / 255"
   ]
  },
  {
   "cell_type": "code",
   "execution_count": 468,
   "metadata": {
    "scrolled": true
   },
   "outputs": [
    {
     "data": {
      "text/plain": [
       "array([0.        , 0.        , 0.        , 0.        , 0.        ,\n",
       "       0.        , 0.        , 0.        , 0.        , 0.        ,\n",
       "       0.        , 0.        , 0.        , 0.        , 0.        ,\n",
       "       0.        , 0.        , 0.        , 0.        , 0.        ,\n",
       "       0.        , 0.        , 0.        , 0.        , 0.        ,\n",
       "       0.        , 0.        , 0.        , 0.        , 0.        ,\n",
       "       0.        , 0.        , 0.        , 0.        , 0.        ,\n",
       "       0.        , 0.        , 0.        , 0.        , 0.        ,\n",
       "       0.        , 0.        , 0.        , 0.        , 0.        ,\n",
       "       0.        , 0.        , 0.        , 0.        , 0.        ,\n",
       "       0.        , 0.        , 0.        , 0.        , 0.        ,\n",
       "       0.        , 0.        , 0.        , 0.        , 0.        ,\n",
       "       0.        , 0.        , 0.        , 0.        , 0.        ,\n",
       "       0.        , 0.        , 0.        , 0.        , 0.        ,\n",
       "       0.        , 0.        , 0.        , 0.        , 0.        ,\n",
       "       0.        , 0.        , 0.        , 0.        , 0.        ,\n",
       "       0.        , 0.        , 0.        , 0.        , 0.        ,\n",
       "       0.        , 0.        , 0.        , 0.        , 0.        ,\n",
       "       0.        , 0.        , 0.        , 0.        , 0.        ,\n",
       "       0.        , 0.        , 0.        , 0.        , 0.        ,\n",
       "       0.        , 0.        , 0.        , 0.        , 0.        ,\n",
       "       0.        , 0.        , 0.        , 0.        , 0.        ,\n",
       "       0.        , 0.        , 0.        , 0.        , 0.        ,\n",
       "       0.        , 0.        , 0.        , 0.        , 0.        ,\n",
       "       0.        , 0.        , 0.        , 0.        , 0.        ,\n",
       "       0.        , 0.        , 0.        , 0.        , 0.        ,\n",
       "       0.        , 0.        , 0.        , 0.        , 0.        ,\n",
       "       0.        , 0.        , 0.        , 0.        , 0.        ,\n",
       "       0.        , 0.        , 0.        , 0.        , 0.        ,\n",
       "       0.        , 0.        , 0.        , 0.        , 0.        ,\n",
       "       0.        , 0.        , 0.01176471, 0.07058824, 0.07058824,\n",
       "       0.07058824, 0.49411765, 0.53333333, 0.68627451, 0.10196078,\n",
       "       0.65098039, 1.        , 0.96862745, 0.49803922, 0.        ,\n",
       "       0.        , 0.        , 0.        , 0.        , 0.        ,\n",
       "       0.        , 0.        , 0.        , 0.        , 0.        ,\n",
       "       0.        , 0.11764706, 0.14117647, 0.36862745, 0.60392157,\n",
       "       0.66666667, 0.99215686, 0.99215686, 0.99215686, 0.99215686,\n",
       "       0.99215686, 0.88235294, 0.6745098 , 0.99215686, 0.94901961,\n",
       "       0.76470588, 0.25098039, 0.        , 0.        , 0.        ,\n",
       "       0.        , 0.        , 0.        , 0.        , 0.        ,\n",
       "       0.        , 0.        , 0.        , 0.19215686, 0.93333333,\n",
       "       0.99215686, 0.99215686, 0.99215686, 0.99215686, 0.99215686,\n",
       "       0.99215686, 0.99215686, 0.99215686, 0.98431373, 0.36470588,\n",
       "       0.32156863, 0.32156863, 0.21960784, 0.15294118, 0.        ,\n",
       "       0.        , 0.        , 0.        , 0.        , 0.        ,\n",
       "       0.        , 0.        , 0.        , 0.        , 0.        ,\n",
       "       0.        , 0.07058824, 0.85882353, 0.99215686, 0.99215686,\n",
       "       0.99215686, 0.99215686, 0.99215686, 0.77647059, 0.71372549,\n",
       "       0.96862745, 0.94509804, 0.        , 0.        , 0.        ,\n",
       "       0.        , 0.        , 0.        , 0.        , 0.        ,\n",
       "       0.        , 0.        , 0.        , 0.        , 0.        ,\n",
       "       0.        , 0.        , 0.        , 0.        , 0.        ,\n",
       "       0.31372549, 0.61176471, 0.41960784, 0.99215686, 0.99215686,\n",
       "       0.80392157, 0.04313725, 0.        , 0.16862745, 0.60392157,\n",
       "       0.        , 0.        , 0.        , 0.        , 0.        ,\n",
       "       0.        , 0.        , 0.        , 0.        , 0.        ,\n",
       "       0.        , 0.        , 0.        , 0.        , 0.        ,\n",
       "       0.        , 0.        , 0.        , 0.        , 0.05490196,\n",
       "       0.00392157, 0.60392157, 0.99215686, 0.35294118, 0.        ,\n",
       "       0.        , 0.        , 0.        , 0.        , 0.        ,\n",
       "       0.        , 0.        , 0.        , 0.        , 0.        ,\n",
       "       0.        , 0.        , 0.        , 0.        , 0.        ,\n",
       "       0.        , 0.        , 0.        , 0.        , 0.        ,\n",
       "       0.        , 0.        , 0.        , 0.        , 0.54509804,\n",
       "       0.99215686, 0.74509804, 0.00784314, 0.        , 0.        ,\n",
       "       0.        , 0.        , 0.        , 0.        , 0.        ,\n",
       "       0.        , 0.        , 0.        , 0.        , 0.        ,\n",
       "       0.        , 0.        , 0.        , 0.        , 0.        ,\n",
       "       0.        , 0.        , 0.        , 0.        , 0.        ,\n",
       "       0.        , 0.        , 0.04313725, 0.74509804, 0.99215686,\n",
       "       0.2745098 , 0.        , 0.        , 0.        , 0.        ,\n",
       "       0.        , 0.        , 0.        , 0.        , 0.        ,\n",
       "       0.        , 0.        , 0.        , 0.        , 0.        ,\n",
       "       0.        , 0.        , 0.        , 0.        , 0.        ,\n",
       "       0.        , 0.        , 0.        , 0.        , 0.        ,\n",
       "       0.        , 0.1372549 , 0.94509804, 0.88235294, 0.62745098,\n",
       "       0.42352941, 0.00392157, 0.        , 0.        , 0.        ,\n",
       "       0.        , 0.        , 0.        , 0.        , 0.        ,\n",
       "       0.        , 0.        , 0.        , 0.        , 0.        ,\n",
       "       0.        , 0.        , 0.        , 0.        , 0.        ,\n",
       "       0.        , 0.        , 0.        , 0.        , 0.        ,\n",
       "       0.31764706, 0.94117647, 0.99215686, 0.99215686, 0.46666667,\n",
       "       0.09803922, 0.        , 0.        , 0.        , 0.        ,\n",
       "       0.        , 0.        , 0.        , 0.        , 0.        ,\n",
       "       0.        , 0.        , 0.        , 0.        , 0.        ,\n",
       "       0.        , 0.        , 0.        , 0.        , 0.        ,\n",
       "       0.        , 0.        , 0.        , 0.        , 0.17647059,\n",
       "       0.72941176, 0.99215686, 0.99215686, 0.58823529, 0.10588235,\n",
       "       0.        , 0.        , 0.        , 0.        , 0.        ,\n",
       "       0.        , 0.        , 0.        , 0.        , 0.        ,\n",
       "       0.        , 0.        , 0.        , 0.        , 0.        ,\n",
       "       0.        , 0.        , 0.        , 0.        , 0.        ,\n",
       "       0.        , 0.        , 0.        , 0.0627451 , 0.36470588,\n",
       "       0.98823529, 0.99215686, 0.73333333, 0.        , 0.        ,\n",
       "       0.        , 0.        , 0.        , 0.        , 0.        ,\n",
       "       0.        , 0.        , 0.        , 0.        , 0.        ,\n",
       "       0.        , 0.        , 0.        , 0.        , 0.        ,\n",
       "       0.        , 0.        , 0.        , 0.        , 0.        ,\n",
       "       0.        , 0.        , 0.        , 0.97647059, 0.99215686,\n",
       "       0.97647059, 0.25098039, 0.        , 0.        , 0.        ,\n",
       "       0.        , 0.        , 0.        , 0.        , 0.        ,\n",
       "       0.        , 0.        , 0.        , 0.        , 0.        ,\n",
       "       0.        , 0.        , 0.        , 0.        , 0.        ,\n",
       "       0.        , 0.        , 0.        , 0.18039216, 0.50980392,\n",
       "       0.71764706, 0.99215686, 0.99215686, 0.81176471, 0.00784314,\n",
       "       0.        , 0.        , 0.        , 0.        , 0.        ,\n",
       "       0.        , 0.        , 0.        , 0.        , 0.        ,\n",
       "       0.        , 0.        , 0.        , 0.        , 0.        ,\n",
       "       0.        , 0.        , 0.        , 0.        , 0.15294118,\n",
       "       0.58039216, 0.89803922, 0.99215686, 0.99215686, 0.99215686,\n",
       "       0.98039216, 0.71372549, 0.        , 0.        , 0.        ,\n",
       "       0.        , 0.        , 0.        , 0.        , 0.        ,\n",
       "       0.        , 0.        , 0.        , 0.        , 0.        ,\n",
       "       0.        , 0.        , 0.        , 0.        , 0.        ,\n",
       "       0.09411765, 0.44705882, 0.86666667, 0.99215686, 0.99215686,\n",
       "       0.99215686, 0.99215686, 0.78823529, 0.30588235, 0.        ,\n",
       "       0.        , 0.        , 0.        , 0.        , 0.        ,\n",
       "       0.        , 0.        , 0.        , 0.        , 0.        ,\n",
       "       0.        , 0.        , 0.        , 0.        , 0.        ,\n",
       "       0.        , 0.09019608, 0.25882353, 0.83529412, 0.99215686,\n",
       "       0.99215686, 0.99215686, 0.99215686, 0.77647059, 0.31764706,\n",
       "       0.00784314, 0.        , 0.        , 0.        , 0.        ,\n",
       "       0.        , 0.        , 0.        , 0.        , 0.        ,\n",
       "       0.        , 0.        , 0.        , 0.        , 0.        ,\n",
       "       0.        , 0.        , 0.07058824, 0.67058824, 0.85882353,\n",
       "       0.99215686, 0.99215686, 0.99215686, 0.99215686, 0.76470588,\n",
       "       0.31372549, 0.03529412, 0.        , 0.        , 0.        ,\n",
       "       0.        , 0.        , 0.        , 0.        , 0.        ,\n",
       "       0.        , 0.        , 0.        , 0.        , 0.        ,\n",
       "       0.        , 0.        , 0.        , 0.21568627, 0.6745098 ,\n",
       "       0.88627451, 0.99215686, 0.99215686, 0.99215686, 0.99215686,\n",
       "       0.95686275, 0.52156863, 0.04313725, 0.        , 0.        ,\n",
       "       0.        , 0.        , 0.        , 0.        , 0.        ,\n",
       "       0.        , 0.        , 0.        , 0.        , 0.        ,\n",
       "       0.        , 0.        , 0.        , 0.        , 0.        ,\n",
       "       0.        , 0.53333333, 0.99215686, 0.99215686, 0.99215686,\n",
       "       0.83137255, 0.52941176, 0.51764706, 0.0627451 , 0.        ,\n",
       "       0.        , 0.        , 0.        , 0.        , 0.        ,\n",
       "       0.        , 0.        , 0.        , 0.        , 0.        ,\n",
       "       0.        , 0.        , 0.        , 0.        , 0.        ,\n",
       "       0.        , 0.        , 0.        , 0.        , 0.        ,\n",
       "       0.        , 0.        , 0.        , 0.        , 0.        ,\n",
       "       0.        , 0.        , 0.        , 0.        , 0.        ,\n",
       "       0.        , 0.        , 0.        , 0.        , 0.        ,\n",
       "       0.        , 0.        , 0.        , 0.        , 0.        ,\n",
       "       0.        , 0.        , 0.        , 0.        , 0.        ,\n",
       "       0.        , 0.        , 0.        , 0.        , 0.        ,\n",
       "       0.        , 0.        , 0.        , 0.        , 0.        ,\n",
       "       0.        , 0.        , 0.        , 0.        , 0.        ,\n",
       "       0.        , 0.        , 0.        , 0.        , 0.        ,\n",
       "       0.        , 0.        , 0.        , 0.        , 0.        ,\n",
       "       0.        , 0.        , 0.        , 0.        , 0.        ,\n",
       "       0.        , 0.        , 0.        , 0.        , 0.        ,\n",
       "       0.        , 0.        , 0.        , 0.        , 0.        ,\n",
       "       0.        , 0.        , 0.        , 0.        , 0.        ,\n",
       "       0.        , 0.        , 0.        , 0.        , 0.        ,\n",
       "       0.        , 0.        , 0.        , 0.        ])"
      ]
     },
     "execution_count": 468,
     "metadata": {},
     "output_type": "execute_result"
    }
   ],
   "source": [
    "X_train_normalized[0]"
   ]
  },
  {
   "cell_type": "code",
   "execution_count": 469,
   "metadata": {},
   "outputs": [],
   "source": [
    "X_test_normalized = X_test_flattened / 255"
   ]
  },
  {
   "cell_type": "markdown",
   "metadata": {},
   "source": [
    "### NN model with one hidden layer"
   ]
  },
  {
   "cell_type": "markdown",
   "metadata": {},
   "source": [
    "<img src=\"Figures/model2.png\" height=400 width=400 />"
   ]
  },
  {
   "cell_type": "markdown",
   "metadata": {},
   "source": [
    "###### Model configuration"
   ]
  },
  {
   "cell_type": "code",
   "execution_count": 470,
   "metadata": {},
   "outputs": [],
   "source": [
    "model = keras.Sequential([\n",
    "    # input layer 784 neurons to first hidden layer with 64 neurons\n",
    "    keras.layers.Dense(64, input_shape = (784,), activation='relu'), \n",
    "    # Previous hidden layer to output layer\n",
    "    keras.layers.Dense(10, activation='sigmoid')    \n",
    "])"
   ]
  },
  {
   "cell_type": "raw",
   "metadata": {},
   "source": [
    "# dicrectly accessing the libraries\n",
    "model = Sequential()\n",
    "model.add(Dense(64, input_shape = (784,), activation='relu'))\n",
    "model.add(Dense(10, activation='sigmoid'))   "
   ]
  },
  {
   "cell_type": "markdown",
   "metadata": {},
   "source": [
    "##### Model summary"
   ]
  },
  {
   "cell_type": "code",
   "execution_count": 471,
   "metadata": {},
   "outputs": [
    {
     "name": "stdout",
     "output_type": "stream",
     "text": [
      "Model: \"sequential_135\"\n",
      "_________________________________________________________________\n",
      " Layer (type)                Output Shape              Param #   \n",
      "=================================================================\n",
      " dense_378 (Dense)           (None, 64)                50240     \n",
      "                                                                 \n",
      " dense_379 (Dense)           (None, 10)                650       \n",
      "                                                                 \n",
      "=================================================================\n",
      "Total params: 50,890\n",
      "Trainable params: 50,890\n",
      "Non-trainable params: 0\n",
      "_________________________________________________________________\n"
     ]
    }
   ],
   "source": [
    "model.summary()"
   ]
  },
  {
   "cell_type": "markdown",
   "metadata": {},
   "source": [
    "Layer details"
   ]
  },
  {
   "cell_type": "code",
   "execution_count": 472,
   "metadata": {},
   "outputs": [
    {
     "data": {
      "text/plain": [
       "[<keras.layers.core.dense.Dense at 0x1f4e957d640>,\n",
       " <keras.layers.core.dense.Dense at 0x1f4e957d4c0>]"
      ]
     },
     "execution_count": 472,
     "metadata": {},
     "output_type": "execute_result"
    }
   ],
   "source": [
    "model.layers"
   ]
  },
  {
   "cell_type": "code",
   "execution_count": 473,
   "metadata": {},
   "outputs": [
    {
     "data": {
      "text/plain": [
       "2"
      ]
     },
     "execution_count": 473,
     "metadata": {},
     "output_type": "execute_result"
    }
   ],
   "source": [
    "len(model.layers)"
   ]
  },
  {
   "cell_type": "code",
   "execution_count": 474,
   "metadata": {},
   "outputs": [],
   "source": [
    "model.compile(\n",
    "    optimizer = 'adam',\n",
    "    loss = 'sparse_categorical_crossentropy',\n",
    "    metrics = ['accuracy']\n",
    ")"
   ]
  },
  {
   "cell_type": "markdown",
   "metadata": {},
   "source": [
    "###### Training the model"
   ]
  },
  {
   "cell_type": "code",
   "execution_count": 475,
   "metadata": {
    "scrolled": true
   },
   "outputs": [
    {
     "name": "stdout",
     "output_type": "stream",
     "text": [
      "Epoch 1/100\n",
      "1/1 [==============================] - 1s 635ms/step - loss: 2.3746 - accuracy: 0.0920\n",
      "Epoch 2/100\n",
      "1/1 [==============================] - 0s 153ms/step - loss: 2.2541 - accuracy: 0.1697\n",
      "Epoch 3/100\n",
      "1/1 [==============================] - 0s 150ms/step - loss: 2.1504 - accuracy: 0.2681\n",
      "Epoch 4/100\n",
      "1/1 [==============================] - 0s 147ms/step - loss: 2.0557 - accuracy: 0.3533\n",
      "Epoch 5/100\n",
      "1/1 [==============================] - 0s 154ms/step - loss: 1.9658 - accuracy: 0.4299\n",
      "Epoch 6/100\n",
      "1/1 [==============================] - 0s 167ms/step - loss: 1.8791 - accuracy: 0.4989\n",
      "Epoch 7/100\n",
      "1/1 [==============================] - 0s 198ms/step - loss: 1.7951 - accuracy: 0.5563\n",
      "Epoch 8/100\n",
      "1/1 [==============================] - 0s 161ms/step - loss: 1.7137 - accuracy: 0.6005\n",
      "Epoch 9/100\n",
      "1/1 [==============================] - 0s 170ms/step - loss: 1.6354 - accuracy: 0.6348\n",
      "Epoch 10/100\n",
      "1/1 [==============================] - 0s 155ms/step - loss: 1.5603 - accuracy: 0.6599\n",
      "Epoch 11/100\n",
      "1/1 [==============================] - 0s 150ms/step - loss: 1.4885 - accuracy: 0.6801\n",
      "Epoch 12/100\n",
      "1/1 [==============================] - 0s 140ms/step - loss: 1.4200 - accuracy: 0.6972\n",
      "Epoch 13/100\n",
      "1/1 [==============================] - 0s 144ms/step - loss: 1.3545 - accuracy: 0.7133\n",
      "Epoch 14/100\n",
      "1/1 [==============================] - 0s 149ms/step - loss: 1.2917 - accuracy: 0.7305\n",
      "Epoch 15/100\n",
      "1/1 [==============================] - 0s 159ms/step - loss: 1.2315 - accuracy: 0.7465\n",
      "Epoch 16/100\n",
      "1/1 [==============================] - 0s 156ms/step - loss: 1.1741 - accuracy: 0.7602\n",
      "Epoch 17/100\n",
      "1/1 [==============================] - 0s 136ms/step - loss: 1.1198 - accuracy: 0.7738\n",
      "Epoch 18/100\n",
      "1/1 [==============================] - 0s 139ms/step - loss: 1.0690 - accuracy: 0.7863\n",
      "Epoch 19/100\n",
      "1/1 [==============================] - 0s 137ms/step - loss: 1.0218 - accuracy: 0.7953\n",
      "Epoch 20/100\n",
      "1/1 [==============================] - 0s 139ms/step - loss: 0.9779 - accuracy: 0.8014\n",
      "Epoch 21/100\n",
      "1/1 [==============================] - 0s 152ms/step - loss: 0.9371 - accuracy: 0.8057\n",
      "Epoch 22/100\n",
      "1/1 [==============================] - 0s 168ms/step - loss: 0.8990 - accuracy: 0.8099\n",
      "Epoch 23/100\n",
      "1/1 [==============================] - 0s 153ms/step - loss: 0.8635 - accuracy: 0.8140\n",
      "Epoch 24/100\n",
      "1/1 [==============================] - 0s 152ms/step - loss: 0.8303 - accuracy: 0.8180\n",
      "Epoch 25/100\n",
      "1/1 [==============================] - 0s 169ms/step - loss: 0.7996 - accuracy: 0.8216\n",
      "Epoch 26/100\n",
      "1/1 [==============================] - 0s 159ms/step - loss: 0.7711 - accuracy: 0.8248\n",
      "Epoch 27/100\n",
      "1/1 [==============================] - 0s 171ms/step - loss: 0.7449 - accuracy: 0.8280\n",
      "Epoch 28/100\n",
      "1/1 [==============================] - 0s 145ms/step - loss: 0.7207 - accuracy: 0.8319\n",
      "Epoch 29/100\n",
      "1/1 [==============================] - 0s 160ms/step - loss: 0.6983 - accuracy: 0.8353\n",
      "Epoch 30/100\n",
      "1/1 [==============================] - 0s 161ms/step - loss: 0.6775 - accuracy: 0.8389\n",
      "Epoch 31/100\n",
      "1/1 [==============================] - 0s 154ms/step - loss: 0.6582 - accuracy: 0.8417\n",
      "Epoch 32/100\n",
      "1/1 [==============================] - 0s 180ms/step - loss: 0.6403 - accuracy: 0.8450\n",
      "Epoch 33/100\n",
      "1/1 [==============================] - 0s 158ms/step - loss: 0.6238 - accuracy: 0.8482\n",
      "Epoch 34/100\n",
      "1/1 [==============================] - 0s 152ms/step - loss: 0.6085 - accuracy: 0.8505\n",
      "Epoch 35/100\n",
      "1/1 [==============================] - 0s 175ms/step - loss: 0.5944 - accuracy: 0.8533\n",
      "Epoch 36/100\n",
      "1/1 [==============================] - 0s 168ms/step - loss: 0.5811 - accuracy: 0.8559\n",
      "Epoch 37/100\n",
      "1/1 [==============================] - 0s 136ms/step - loss: 0.5687 - accuracy: 0.8579\n",
      "Epoch 38/100\n",
      "1/1 [==============================] - 0s 168ms/step - loss: 0.5571 - accuracy: 0.8601\n",
      "Epoch 39/100\n",
      "1/1 [==============================] - 0s 152ms/step - loss: 0.5461 - accuracy: 0.8618\n",
      "Epoch 40/100\n",
      "1/1 [==============================] - 0s 150ms/step - loss: 0.5358 - accuracy: 0.8633\n",
      "Epoch 41/100\n",
      "1/1 [==============================] - 0s 154ms/step - loss: 0.5261 - accuracy: 0.8653\n",
      "Epoch 42/100\n",
      "1/1 [==============================] - 0s 146ms/step - loss: 0.5169 - accuracy: 0.8674\n",
      "Epoch 43/100\n",
      "1/1 [==============================] - 0s 137ms/step - loss: 0.5082 - accuracy: 0.8691\n",
      "Epoch 44/100\n",
      "1/1 [==============================] - 0s 143ms/step - loss: 0.5000 - accuracy: 0.8712\n",
      "Epoch 45/100\n",
      "1/1 [==============================] - 0s 157ms/step - loss: 0.4921 - accuracy: 0.8723\n",
      "Epoch 46/100\n",
      "1/1 [==============================] - 0s 169ms/step - loss: 0.4847 - accuracy: 0.8740\n",
      "Epoch 47/100\n",
      "1/1 [==============================] - 0s 170ms/step - loss: 0.4776 - accuracy: 0.8756\n",
      "Epoch 48/100\n",
      "1/1 [==============================] - 0s 165ms/step - loss: 0.4709 - accuracy: 0.8770\n",
      "Epoch 49/100\n",
      "1/1 [==============================] - 0s 149ms/step - loss: 0.4644 - accuracy: 0.8781\n",
      "Epoch 50/100\n",
      "1/1 [==============================] - 0s 177ms/step - loss: 0.4582 - accuracy: 0.8795\n",
      "Epoch 51/100\n",
      "1/1 [==============================] - 0s 171ms/step - loss: 0.4523 - accuracy: 0.8808\n",
      "Epoch 52/100\n",
      "1/1 [==============================] - 0s 144ms/step - loss: 0.4467 - accuracy: 0.8822\n",
      "Epoch 53/100\n",
      "1/1 [==============================] - 0s 145ms/step - loss: 0.4413 - accuracy: 0.8837\n",
      "Epoch 54/100\n",
      "1/1 [==============================] - 0s 190ms/step - loss: 0.4361 - accuracy: 0.8849\n",
      "Epoch 55/100\n",
      "1/1 [==============================] - 0s 163ms/step - loss: 0.4312 - accuracy: 0.8859\n",
      "Epoch 56/100\n",
      "1/1 [==============================] - 0s 161ms/step - loss: 0.4264 - accuracy: 0.8867\n",
      "Epoch 57/100\n",
      "1/1 [==============================] - 0s 145ms/step - loss: 0.4218 - accuracy: 0.8876\n",
      "Epoch 58/100\n",
      "1/1 [==============================] - 0s 152ms/step - loss: 0.4174 - accuracy: 0.8887\n",
      "Epoch 59/100\n",
      "1/1 [==============================] - 0s 150ms/step - loss: 0.4131 - accuracy: 0.8899\n",
      "Epoch 60/100\n",
      "1/1 [==============================] - 0s 149ms/step - loss: 0.4090 - accuracy: 0.8909\n",
      "Epoch 61/100\n",
      "1/1 [==============================] - 0s 137ms/step - loss: 0.4050 - accuracy: 0.8920\n",
      "Epoch 62/100\n",
      "1/1 [==============================] - 0s 147ms/step - loss: 0.4012 - accuracy: 0.8929\n",
      "Epoch 63/100\n",
      "1/1 [==============================] - 0s 149ms/step - loss: 0.3975 - accuracy: 0.8941\n",
      "Epoch 64/100\n",
      "1/1 [==============================] - 0s 141ms/step - loss: 0.3940 - accuracy: 0.8950\n",
      "Epoch 65/100\n",
      "1/1 [==============================] - 0s 144ms/step - loss: 0.3905 - accuracy: 0.8957\n",
      "Epoch 66/100\n",
      "1/1 [==============================] - 0s 150ms/step - loss: 0.3871 - accuracy: 0.8967\n",
      "Epoch 67/100\n",
      "1/1 [==============================] - 0s 155ms/step - loss: 0.3839 - accuracy: 0.8977\n",
      "Epoch 68/100\n",
      "1/1 [==============================] - 0s 139ms/step - loss: 0.3807 - accuracy: 0.8985\n",
      "Epoch 69/100\n",
      "1/1 [==============================] - 0s 150ms/step - loss: 0.3777 - accuracy: 0.8994\n",
      "Epoch 70/100\n",
      "1/1 [==============================] - 0s 149ms/step - loss: 0.3747 - accuracy: 0.9003\n",
      "Epoch 71/100\n",
      "1/1 [==============================] - 0s 139ms/step - loss: 0.3718 - accuracy: 0.9010\n",
      "Epoch 72/100\n",
      "1/1 [==============================] - 0s 140ms/step - loss: 0.3690 - accuracy: 0.9017\n",
      "Epoch 73/100\n",
      "1/1 [==============================] - 0s 133ms/step - loss: 0.3663 - accuracy: 0.9022\n",
      "Epoch 74/100\n",
      "1/1 [==============================] - 0s 156ms/step - loss: 0.3637 - accuracy: 0.9028\n",
      "Epoch 75/100\n",
      "1/1 [==============================] - 0s 158ms/step - loss: 0.3611 - accuracy: 0.9035\n",
      "Epoch 76/100\n",
      "1/1 [==============================] - 0s 133ms/step - loss: 0.3586 - accuracy: 0.9038\n",
      "Epoch 77/100\n",
      "1/1 [==============================] - 0s 143ms/step - loss: 0.3561 - accuracy: 0.9045\n",
      "Epoch 78/100\n",
      "1/1 [==============================] - 0s 145ms/step - loss: 0.3537 - accuracy: 0.9051\n",
      "Epoch 79/100\n",
      "1/1 [==============================] - 0s 160ms/step - loss: 0.3514 - accuracy: 0.9057\n",
      "Epoch 80/100\n",
      "1/1 [==============================] - 0s 185ms/step - loss: 0.3491 - accuracy: 0.9063\n",
      "Epoch 81/100\n",
      "1/1 [==============================] - 0s 156ms/step - loss: 0.3469 - accuracy: 0.9068\n",
      "Epoch 82/100\n",
      "1/1 [==============================] - 0s 143ms/step - loss: 0.3447 - accuracy: 0.9073\n",
      "Epoch 83/100\n"
     ]
    },
    {
     "name": "stdout",
     "output_type": "stream",
     "text": [
      "1/1 [==============================] - 0s 140ms/step - loss: 0.3426 - accuracy: 0.9079\n",
      "Epoch 84/100\n",
      "1/1 [==============================] - 0s 161ms/step - loss: 0.3405 - accuracy: 0.9084\n",
      "Epoch 85/100\n",
      "1/1 [==============================] - 0s 166ms/step - loss: 0.3385 - accuracy: 0.9088\n",
      "Epoch 86/100\n",
      "1/1 [==============================] - 0s 153ms/step - loss: 0.3365 - accuracy: 0.9093\n",
      "Epoch 87/100\n",
      "1/1 [==============================] - 0s 155ms/step - loss: 0.3345 - accuracy: 0.9096\n",
      "Epoch 88/100\n",
      "1/1 [==============================] - 0s 157ms/step - loss: 0.3326 - accuracy: 0.9100\n",
      "Epoch 89/100\n",
      "1/1 [==============================] - 0s 169ms/step - loss: 0.3308 - accuracy: 0.9107\n",
      "Epoch 90/100\n",
      "1/1 [==============================] - 0s 157ms/step - loss: 0.3289 - accuracy: 0.9109\n",
      "Epoch 91/100\n",
      "1/1 [==============================] - 0s 164ms/step - loss: 0.3271 - accuracy: 0.9113\n",
      "Epoch 92/100\n",
      "1/1 [==============================] - 0s 156ms/step - loss: 0.3254 - accuracy: 0.9118\n",
      "Epoch 93/100\n",
      "1/1 [==============================] - 0s 143ms/step - loss: 0.3236 - accuracy: 0.9121\n",
      "Epoch 94/100\n",
      "1/1 [==============================] - 0s 132ms/step - loss: 0.3219 - accuracy: 0.9126\n",
      "Epoch 95/100\n",
      "1/1 [==============================] - 0s 125ms/step - loss: 0.3203 - accuracy: 0.9131\n",
      "Epoch 96/100\n",
      "1/1 [==============================] - 0s 126ms/step - loss: 0.3186 - accuracy: 0.9135\n",
      "Epoch 97/100\n",
      "1/1 [==============================] - 0s 117ms/step - loss: 0.3170 - accuracy: 0.9138\n",
      "Epoch 98/100\n",
      "1/1 [==============================] - 0s 137ms/step - loss: 0.3155 - accuracy: 0.9143\n",
      "Epoch 99/100\n",
      "1/1 [==============================] - 0s 152ms/step - loss: 0.3139 - accuracy: 0.9148\n",
      "Epoch 100/100\n",
      "1/1 [==============================] - 0s 134ms/step - loss: 0.3124 - accuracy: 0.9153\n"
     ]
    },
    {
     "data": {
      "text/plain": [
       "<keras.callbacks.History at 0x1f4e841bc10>"
      ]
     },
     "execution_count": 475,
     "metadata": {},
     "output_type": "execute_result"
    }
   ],
   "source": [
    "model.fit(X_train_normalized, y_train, epochs = 100, verbose=1, batch_size=60000)"
   ]
  },
  {
   "cell_type": "markdown",
   "metadata": {},
   "source": [
    "##### Printing the weights"
   ]
  },
  {
   "cell_type": "markdown",
   "metadata": {},
   "source": [
    "Getting weights and bias values after the training stage"
   ]
  },
  {
   "cell_type": "code",
   "execution_count": 476,
   "metadata": {},
   "outputs": [
    {
     "name": "stderr",
     "output_type": "stream",
     "text": [
      "<ipython-input-476-4f8fb3d8cc7f>:3: VisibleDeprecationWarning: Creating an ndarray from ragged nested sequences (which is a list-or-tuple of lists-or-tuples-or ndarrays with different lengths or shapes) is deprecated. If you meant to do this, you must specify 'dtype=object' when creating the ndarray.\n",
      "  weights = np.array(original_weights)\n"
     ]
    },
    {
     "data": {
      "text/plain": [
       "array([array([[ 0.06340026, -0.02897418, -0.0784095 , ...,  0.02736821,\n",
       "               -0.0046067 ,  0.06479026],\n",
       "              [ 0.0699518 , -0.04663527, -0.05467907, ...,  0.035309  ,\n",
       "               -0.06926119,  0.07375864],\n",
       "              [-0.00308214,  0.06695976, -0.02812622, ..., -0.05457207,\n",
       "                0.03190113, -0.04619702],\n",
       "              ...,\n",
       "              [ 0.06191992, -0.0658448 ,  0.08371036, ..., -0.00815347,\n",
       "                0.04107063,  0.06101494],\n",
       "              [ 0.04280712, -0.07916703, -0.080406  , ..., -0.07946578,\n",
       "                0.04251819,  0.04277796],\n",
       "              [ 0.04589235,  0.03573829, -0.03714584, ...,  0.01787372,\n",
       "                0.06795045, -0.00738102]], dtype=float32)              ,\n",
       "       array([ 4.62936424e-02,  4.02215235e-02,  2.78966315e-02,  2.74863932e-02,\n",
       "               4.01680917e-02,  2.44882815e-02, -3.06545780e-03,  3.78029719e-02,\n",
       "               5.50994836e-02,  8.36548395e-04,  6.13322705e-02,  1.83599479e-02,\n",
       "               4.90897968e-02,  6.54635951e-02,  1.71562601e-02, -3.79542224e-02,\n",
       "               5.02280220e-02,  2.06099842e-02,  4.78929058e-02, -1.31427795e-02,\n",
       "               4.03015204e-02, -6.08461164e-03,  3.58597040e-02,  5.24843484e-02,\n",
       "               4.88867387e-02,  4.52591516e-02,  1.78793259e-02,  4.16181013e-02,\n",
       "               3.74755897e-02,  9.83160734e-03,  5.77794164e-02, -1.07943304e-02,\n",
       "              -6.35466725e-02,  1.65701583e-02,  4.13751899e-04,  4.26965468e-02,\n",
       "               2.81666815e-02,  5.67876510e-02,  1.87494829e-02,  1.66482180e-02,\n",
       "               5.84033951e-02,  7.79571803e-03, -7.47323284e-05,  3.62544470e-02,\n",
       "              -1.33635746e-02,  5.86632267e-02,  7.38843530e-03, -1.05441520e-02,\n",
       "               2.48703007e-02,  4.06964757e-02, -4.15223883e-03, -2.21928973e-02,\n",
       "               2.54185759e-02,  5.50822020e-02,  2.79041231e-02,  2.26410050e-02,\n",
       "               5.97354397e-02, -2.49542333e-02,  3.08749452e-03,  6.39901236e-02,\n",
       "              -1.95888802e-03,  3.89815830e-02, -9.00129322e-03,  2.54102889e-02],\n",
       "             dtype=float32)                                                       ,\n",
       "       array([[-0.33037502,  0.21003617, -0.0681676 ,  0.08154225,  0.3513347 ,\n",
       "               -0.02996558, -0.23726144,  0.15463062, -0.353414  , -0.18985002],\n",
       "              [ 0.01062402,  0.23706251,  0.11120413, -0.03708227, -0.16225843,\n",
       "               -0.31917518,  0.25543287,  0.00747361, -0.23416805, -0.32377625],\n",
       "              [-0.2621755 ,  0.30849773,  0.2475565 ,  0.17839271, -0.02540711,\n",
       "               -0.01560291, -0.15259856, -0.09318189,  0.03444565, -0.20654698],\n",
       "              [ 0.23855877, -0.07082545,  0.07667655, -0.154039  , -0.04178073,\n",
       "                0.2452102 , -0.21237853,  0.07771351,  0.16438003,  0.27497247],\n",
       "              [ 0.23165292, -0.11754362,  0.32276204,  0.15353149, -0.25950778,\n",
       "                0.09117487,  0.15649259, -0.01187141, -0.10205694,  0.08863693],\n",
       "              [-0.15669912, -0.04001639, -0.22716278,  0.03159056,  0.0904514 ,\n",
       "               -0.06323534,  0.22248052, -0.32265553, -0.08324011,  0.06892861],\n",
       "              [ 0.11032552, -0.14657487,  0.15514441, -0.27330062,  0.11784013,\n",
       "               -0.08434638,  0.01320727, -0.34603274,  0.07771356, -0.3282769 ],\n",
       "              [-0.3306493 ,  0.06637093,  0.1819783 ,  0.00774539,  0.10058855,\n",
       "               -0.14154384, -0.04251944,  0.21404989, -0.329221  , -0.26612607],\n",
       "              [ 0.00327517, -0.31077155, -0.30896991, -0.09699863,  0.02869265,\n",
       "                0.3463566 , -0.2673877 ,  0.28828773,  0.07007537, -0.31692383],\n",
       "              [ 0.20674253, -0.23452322, -0.2842011 ,  0.14368473, -0.17739692,\n",
       "                0.17344558, -0.10921396, -0.25986737,  0.05543853,  0.07082874],\n",
       "              [ 0.00367564,  0.20329858, -0.22719151, -0.27502087,  0.09771133,\n",
       "                0.3451696 , -0.31768388,  0.11745928, -0.11966539, -0.2838856 ],\n",
       "              [-0.23833089, -0.08779508, -0.22038011, -0.32057258,  0.10732441,\n",
       "               -0.02475174, -0.24647422,  0.32082707,  0.29363996, -0.19069749],\n",
       "              [-0.16362396,  0.01300968, -0.12495729, -0.2694607 , -0.16184856,\n",
       "                0.27769974, -0.2806676 , -0.18432042,  0.08101737,  0.18888247],\n",
       "              [-0.2974901 , -0.34088764,  0.17524849, -0.23908716,  0.10894279,\n",
       "                0.21122958,  0.06669865,  0.25953478, -0.3648963 ,  0.1016513 ],\n",
       "              [-0.06676427,  0.01252885,  0.00260602, -0.25369966, -0.15563369,\n",
       "               -0.03689442,  0.04708119,  0.15914388,  0.22273746, -0.04570817],\n",
       "              [ 0.19162807, -0.32927322,  0.0418031 ,  0.0611727 ,  0.10621581,\n",
       "                0.2082778 ,  0.1163886 , -0.32459137,  0.28599   , -0.1494089 ],\n",
       "              [ 0.33502856, -0.12621152,  0.18914399,  0.17178306, -0.30711815,\n",
       "                0.33413926,  0.07526182, -0.11801893, -0.09802356, -0.0329595 ],\n",
       "              [-0.00585181,  0.25201884, -0.30059582,  0.20841338,  0.1286709 ,\n",
       "               -0.28701556, -0.18719527, -0.16156809,  0.19179346, -0.26212958],\n",
       "              [-0.00233988,  0.26755458,  0.0211722 ,  0.2826338 ,  0.12516795,\n",
       "               -0.22123733, -0.22914837,  0.2881494 , -0.21142803, -0.04868057],\n",
       "              [-0.11969031, -0.21720889, -0.1177373 , -0.08998178,  0.2549165 ,\n",
       "                0.19870175,  0.1263653 ,  0.09566969, -0.06768637,  0.17429037],\n",
       "              [-0.23233494, -0.00618163, -0.23999912,  0.2933632 ,  0.09823307,\n",
       "               -0.18983081, -0.34744495, -0.14609376, -0.26757342,  0.25981718],\n",
       "              [ 0.12249166, -0.27696624,  0.28213683, -0.24194954, -0.16322142,\n",
       "               -0.34733042, -0.11627718,  0.23598574, -0.08894097,  0.16396046],\n",
       "              [ 0.24139102, -0.06591021,  0.07315584, -0.01407971, -0.35068372,\n",
       "                0.28012565, -0.19648361, -0.2417735 , -0.08249079, -0.1731154 ],\n",
       "              [-0.18193905,  0.02051897, -0.283853  ,  0.03767291,  0.10096232,\n",
       "               -0.2625409 ,  0.13297251,  0.30439952, -0.23990971,  0.19612262],\n",
       "              [ 0.22186372,  0.27252227,  0.2752795 , -0.3118982 ,  0.17985219,\n",
       "                0.1480573 ,  0.28116718,  0.14304307, -0.35126698, -0.33033854],\n",
       "              [ 0.01664271,  0.12829058,  0.0531068 , -0.03992419, -0.07582527,\n",
       "                0.05819542, -0.20393719,  0.22779965, -0.32864085, -0.2766693 ],\n",
       "              [ 0.14929809,  0.19809912, -0.12914798,  0.16019143,  0.00204481,\n",
       "                0.10969119,  0.08920585, -0.31980225,  0.18915154, -0.2796702 ],\n",
       "              [ 0.07974511,  0.09551597,  0.00199178, -0.26390544, -0.16719833,\n",
       "               -0.2312606 ,  0.32788265, -0.15043646, -0.1506299 , -0.23688616],\n",
       "              [ 0.12949696,  0.2787888 ,  0.04881042,  0.06425357,  0.03058867,\n",
       "               -0.3447116 , -0.27181095, -0.14300998, -0.27551237, -0.18678872],\n",
       "              [ 0.03968458, -0.22153337, -0.10944695, -0.30829096,  0.00452591,\n",
       "               -0.11167511, -0.03228495, -0.2534938 , -0.30056745, -0.21508975],\n",
       "              [-0.11680124,  0.28929377, -0.31262454,  0.07999068, -0.18349172,\n",
       "                0.0457297 , -0.20472306, -0.30510297, -0.29072213, -0.0833157 ],\n",
       "              [-0.05116339,  0.10248853, -0.26094437, -0.08033793, -0.13292836,\n",
       "                0.250093  , -0.22053808,  0.0325934 , -0.10575319, -0.19037645],\n",
       "              [-0.27234724, -0.31213367,  0.20710415,  0.13879858,  0.03410215,\n",
       "               -0.18418984,  0.0537122 , -0.03966133,  0.33541715,  0.04874003],\n",
       "              [ 0.1191759 ,  0.01258499, -0.00401909,  0.29389492,  0.18792808,\n",
       "               -0.3370715 , -0.15613419,  0.29261   ,  0.05136618, -0.08112825],\n",
       "              [-0.04691762,  0.24370818,  0.26759142, -0.17373043,  0.24953355,\n",
       "               -0.18291262,  0.20822819, -0.19865876, -0.03317531,  0.17409444],\n",
       "              [ 0.10241084,  0.26327893, -0.05114326, -0.06609084, -0.13732773,\n",
       "                0.28686628,  0.24209048, -0.14115855, -0.17726737,  0.22009099],\n",
       "              [ 0.10468119,  0.08037398, -0.073843  ,  0.12222091, -0.3192476 ,\n",
       "               -0.09817633,  0.19331242, -0.31647453, -0.15512511,  0.2594749 ],\n",
       "              [-0.23770593,  0.16286436,  0.16677086,  0.17931373,  0.11190705,\n",
       "                0.03540696, -0.2707635 , -0.01793039, -0.17068362, -0.00238469],\n",
       "              [-0.08686659, -0.24810041, -0.3257165 , -0.11786076,  0.15562065,\n",
       "               -0.23724024,  0.08465802,  0.11340082,  0.13830496,  0.32375255],\n",
       "              [ 0.08501668, -0.02768351,  0.28339604,  0.12440374, -0.32001385,\n",
       "                0.23013023,  0.08341564, -0.2315903 ,  0.01242018,  0.17571272],\n",
       "              [ 0.24906726,  0.0839045 , -0.26047468,  0.17917088, -0.16137077,\n",
       "                0.05470606, -0.32609785, -0.17106882, -0.21861972, -0.17023882],\n",
       "              [ 0.03542065, -0.04213526,  0.22477409, -0.199206  ,  0.21990328,\n",
       "               -0.20035414, -0.16023365,  0.2706843 ,  0.11525519, -0.03772094],\n",
       "              [-0.08722419, -0.15310277, -0.16373447, -0.14042112,  0.13945058,\n",
       "                0.20941572,  0.18034919,  0.08627751,  0.13989879, -0.29675493],\n",
       "              [-0.00903107,  0.17442833,  0.31289348, -0.2841505 , -0.02639037,\n",
       "               -0.30113587,  0.14010245, -0.31194475, -0.1572485 ,  0.26776206],\n",
       "              [-0.21141829,  0.23377122,  0.07950661, -0.00079252, -0.19063783,\n",
       "               -0.27175543, -0.3108398 ,  0.26714298,  0.30014578, -0.28337443],\n",
       "              [-0.05292869, -0.12732278,  0.01627229,  0.02763955,  0.02845754,\n",
       "                0.11812312, -0.22233246,  0.28954032, -0.29588673,  0.2955611 ],\n",
       "              [-0.17839888,  0.29255286,  0.15514965, -0.24646536,  0.02878857,\n",
       "               -0.34950873, -0.04955832, -0.01143543,  0.34557718, -0.2323726 ],\n",
       "              [ 0.07435204, -0.19082034,  0.24062252, -0.12294424,  0.01263669,\n",
       "               -0.35295352,  0.04065425, -0.16511768, -0.24363494, -0.20710117],\n",
       "              [-0.15553835, -0.03613113,  0.2326777 ,  0.12864222, -0.1848355 ,\n",
       "               -0.28038177, -0.33361986,  0.3629397 , -0.26881447, -0.21862769],\n",
       "              [ 0.21096079, -0.07274196, -0.2923749 , -0.19552098,  0.34444076,\n",
       "               -0.29233906,  0.2626704 ,  0.24538045, -0.09523929,  0.22683455],\n",
       "              [ 0.19772409, -0.27904677,  0.14772749,  0.23588285,  0.24910563,\n",
       "               -0.07683215, -0.0320478 , -0.09399907, -0.28447282, -0.15939529],\n",
       "              [-0.18303867, -0.03320167,  0.12114628,  0.06652134,  0.34369466,\n",
       "               -0.11632013,  0.27898905, -0.16481785,  0.28068066, -0.16957803],\n",
       "              [-0.22190182,  0.30498785,  0.09602582, -0.30177528,  0.12131983,\n",
       "                0.0334729 , -0.07689114,  0.22542441,  0.33208466, -0.28438044],\n",
       "              [-0.29411328,  0.06027809, -0.32425997, -0.33977923,  0.05727404,\n",
       "                0.25092694,  0.08921257,  0.13983944, -0.05743475,  0.25320563],\n",
       "              [ 0.21035615,  0.06012155, -0.14303635,  0.20132545, -0.17385894,\n",
       "               -0.12112129, -0.09223244,  0.16243081,  0.14005296,  0.07100653],\n",
       "              [-0.11628619, -0.21421948, -0.2061641 ,  0.04321641,  0.10239077,\n",
       "                0.06040242, -0.18573302, -0.05056046,  0.07024165,  0.11262962],\n",
       "              [ 0.05322434,  0.07784219, -0.07738173, -0.05546637, -0.24939229,\n",
       "                0.2801041 ,  0.0943715 ,  0.17635812,  0.02388146, -0.14091441],\n",
       "              [-0.3322955 , -0.01846177,  0.07282233,  0.29318783,  0.24420267,\n",
       "               -0.14652684, -0.2996471 , -0.19086958,  0.22397242, -0.16536877],\n",
       "              [-0.27309802, -0.13866228,  0.13539183,  0.2658035 , -0.0110395 ,\n",
       "                0.07441773,  0.257902  , -0.33725235,  0.29829943, -0.07025116],\n",
       "              [ 0.2855464 ,  0.11184227, -0.04374476,  0.0252091 , -0.2585801 ,\n",
       "                0.1240596 ,  0.2728012 ,  0.1860835 , -0.17776161, -0.2509219 ],\n",
       "              [-0.22656302,  0.06625184,  0.3462748 ,  0.21305679,  0.003853  ,\n",
       "               -0.26160488, -0.00920929, -0.11468517,  0.10078653,  0.11103702],\n",
       "              [-0.1884055 ,  0.27529764,  0.23657046, -0.32996792,  0.29180023,\n",
       "               -0.15211108, -0.27215034, -0.20516108, -0.11327168,  0.14476687],\n",
       "              [ 0.00578042, -0.25724736, -0.08505046,  0.09197415,  0.30027264,\n",
       "                0.06856537, -0.2149567 ,  0.23421605,  0.25830343,  0.26082954],\n",
       "              [ 0.23712942, -0.07320886, -0.29483145,  0.05431578, -0.17038605,\n",
       "                0.00624215,  0.2078347 ,  0.07615199, -0.0507922 ,  0.23981954]],\n",
       "             dtype=float32)                                                      ,\n",
       "       array([-0.04099967,  0.04198442, -0.02979828,  0.02575883, -0.03595826,\n",
       "               0.06664664,  0.03515953,  0.04246986, -0.06575838,  0.00909316],\n",
       "             dtype=float32)                                                    ],\n",
       "      dtype=object)"
      ]
     },
     "execution_count": 476,
     "metadata": {},
     "output_type": "execute_result"
    }
   ],
   "source": [
    "original_weights = model.get_weights()\n",
    "# convert list to array\n",
    "weights = np.array(original_weights)\n",
    "weights"
   ]
  },
  {
   "cell_type": "code",
   "execution_count": 477,
   "metadata": {},
   "outputs": [
    {
     "data": {
      "text/plain": [
       "(4,)"
      ]
     },
     "execution_count": 477,
     "metadata": {},
     "output_type": "execute_result"
    }
   ],
   "source": [
    "weights.shape"
   ]
  },
  {
   "cell_type": "code",
   "execution_count": 478,
   "metadata": {},
   "outputs": [
    {
     "data": {
      "text/plain": [
       "(784, 64)"
      ]
     },
     "execution_count": 478,
     "metadata": {},
     "output_type": "execute_result"
    }
   ],
   "source": [
    "# weights of first layer\n",
    "weights[0].shape"
   ]
  },
  {
   "cell_type": "code",
   "execution_count": 479,
   "metadata": {},
   "outputs": [
    {
     "data": {
      "text/plain": [
       "(64,)"
      ]
     },
     "execution_count": 479,
     "metadata": {},
     "output_type": "execute_result"
    }
   ],
   "source": [
    "# bias of first layer\n",
    "weights[1].shape"
   ]
  },
  {
   "cell_type": "code",
   "execution_count": 480,
   "metadata": {},
   "outputs": [
    {
     "data": {
      "text/plain": [
       "(64, 10)"
      ]
     },
     "execution_count": 480,
     "metadata": {},
     "output_type": "execute_result"
    }
   ],
   "source": [
    "# weights of second layer\n",
    "weights[2].shape"
   ]
  },
  {
   "cell_type": "code",
   "execution_count": 481,
   "metadata": {},
   "outputs": [
    {
     "data": {
      "text/plain": [
       "(10,)"
      ]
     },
     "execution_count": 481,
     "metadata": {},
     "output_type": "execute_result"
    }
   ],
   "source": [
    "# bias of second layer\n",
    "weights[3].shape"
   ]
  },
  {
   "cell_type": "code",
   "execution_count": 482,
   "metadata": {},
   "outputs": [
    {
     "data": {
      "text/plain": [
       "array([[ 0.06340026, -0.02897418, -0.0784095 , ...,  0.02736821,\n",
       "        -0.0046067 ,  0.06479026],\n",
       "       [ 0.0699518 , -0.04663527, -0.05467907, ...,  0.035309  ,\n",
       "        -0.06926119,  0.07375864],\n",
       "       [-0.00308214,  0.06695976, -0.02812622, ..., -0.05457207,\n",
       "         0.03190113, -0.04619702],\n",
       "       ...,\n",
       "       [ 0.06191992, -0.0658448 ,  0.08371036, ..., -0.00815347,\n",
       "         0.04107063,  0.06101494],\n",
       "       [ 0.04280712, -0.07916703, -0.080406  , ..., -0.07946578,\n",
       "         0.04251819,  0.04277796],\n",
       "       [ 0.04589235,  0.03573829, -0.03714584, ...,  0.01787372,\n",
       "         0.06795045, -0.00738102]], dtype=float32)"
      ]
     },
     "execution_count": 482,
     "metadata": {},
     "output_type": "execute_result"
    }
   ],
   "source": [
    "weights[0] "
   ]
  },
  {
   "cell_type": "code",
   "execution_count": 483,
   "metadata": {},
   "outputs": [
    {
     "data": {
      "text/plain": [
       "[array([[ 0.06340026, -0.02897418, -0.0784095 , ...,  0.02736821,\n",
       "         -0.0046067 ,  0.06479026],\n",
       "        [ 0.0699518 , -0.04663527, -0.05467907, ...,  0.035309  ,\n",
       "         -0.06926119,  0.07375864],\n",
       "        [-0.00308214,  0.06695976, -0.02812622, ..., -0.05457207,\n",
       "          0.03190113, -0.04619702],\n",
       "        ...,\n",
       "        [ 0.06191992, -0.0658448 ,  0.08371036, ..., -0.00815347,\n",
       "          0.04107063,  0.06101494],\n",
       "        [ 0.04280712, -0.07916703, -0.080406  , ..., -0.07946578,\n",
       "          0.04251819,  0.04277796],\n",
       "        [ 0.04589235,  0.03573829, -0.03714584, ...,  0.01787372,\n",
       "          0.06795045, -0.00738102]], dtype=float32),\n",
       " array([ 4.62936424e-02,  4.02215235e-02,  2.78966315e-02,  2.74863932e-02,\n",
       "         4.01680917e-02,  2.44882815e-02, -3.06545780e-03,  3.78029719e-02,\n",
       "         5.50994836e-02,  8.36548395e-04,  6.13322705e-02,  1.83599479e-02,\n",
       "         4.90897968e-02,  6.54635951e-02,  1.71562601e-02, -3.79542224e-02,\n",
       "         5.02280220e-02,  2.06099842e-02,  4.78929058e-02, -1.31427795e-02,\n",
       "         4.03015204e-02, -6.08461164e-03,  3.58597040e-02,  5.24843484e-02,\n",
       "         4.88867387e-02,  4.52591516e-02,  1.78793259e-02,  4.16181013e-02,\n",
       "         3.74755897e-02,  9.83160734e-03,  5.77794164e-02, -1.07943304e-02,\n",
       "        -6.35466725e-02,  1.65701583e-02,  4.13751899e-04,  4.26965468e-02,\n",
       "         2.81666815e-02,  5.67876510e-02,  1.87494829e-02,  1.66482180e-02,\n",
       "         5.84033951e-02,  7.79571803e-03, -7.47323284e-05,  3.62544470e-02,\n",
       "        -1.33635746e-02,  5.86632267e-02,  7.38843530e-03, -1.05441520e-02,\n",
       "         2.48703007e-02,  4.06964757e-02, -4.15223883e-03, -2.21928973e-02,\n",
       "         2.54185759e-02,  5.50822020e-02,  2.79041231e-02,  2.26410050e-02,\n",
       "         5.97354397e-02, -2.49542333e-02,  3.08749452e-03,  6.39901236e-02,\n",
       "        -1.95888802e-03,  3.89815830e-02, -9.00129322e-03,  2.54102889e-02],\n",
       "       dtype=float32)]"
      ]
     },
     "execution_count": 483,
     "metadata": {},
     "output_type": "execute_result"
    }
   ],
   "source": [
    "model.layers[0].get_weights()\n",
    "# displays the weights and biases of first layer"
   ]
  },
  {
   "cell_type": "code",
   "execution_count": 484,
   "metadata": {},
   "outputs": [
    {
     "data": {
      "text/plain": [
       "array([[ 0.06340026, -0.02897418, -0.0784095 , ...,  0.02736821,\n",
       "        -0.0046067 ,  0.06479026],\n",
       "       [ 0.0699518 , -0.04663527, -0.05467907, ...,  0.035309  ,\n",
       "        -0.06926119,  0.07375864],\n",
       "       [-0.00308214,  0.06695976, -0.02812622, ..., -0.05457207,\n",
       "         0.03190113, -0.04619702],\n",
       "       ...,\n",
       "       [ 0.06191992, -0.0658448 ,  0.08371036, ..., -0.00815347,\n",
       "         0.04107063,  0.06101494],\n",
       "       [ 0.04280712, -0.07916703, -0.080406  , ..., -0.07946578,\n",
       "         0.04251819,  0.04277796],\n",
       "       [ 0.04589235,  0.03573829, -0.03714584, ...,  0.01787372,\n",
       "         0.06795045, -0.00738102]], dtype=float32)"
      ]
     },
     "execution_count": 484,
     "metadata": {},
     "output_type": "execute_result"
    }
   ],
   "source": [
    "model.layers[0].get_weights()[0]\n",
    "# Displays the weights of first layer"
   ]
  },
  {
   "cell_type": "code",
   "execution_count": 485,
   "metadata": {},
   "outputs": [
    {
     "data": {
      "text/plain": [
       "array([ 4.62936424e-02,  4.02215235e-02,  2.78966315e-02,  2.74863932e-02,\n",
       "        4.01680917e-02,  2.44882815e-02, -3.06545780e-03,  3.78029719e-02,\n",
       "        5.50994836e-02,  8.36548395e-04,  6.13322705e-02,  1.83599479e-02,\n",
       "        4.90897968e-02,  6.54635951e-02,  1.71562601e-02, -3.79542224e-02,\n",
       "        5.02280220e-02,  2.06099842e-02,  4.78929058e-02, -1.31427795e-02,\n",
       "        4.03015204e-02, -6.08461164e-03,  3.58597040e-02,  5.24843484e-02,\n",
       "        4.88867387e-02,  4.52591516e-02,  1.78793259e-02,  4.16181013e-02,\n",
       "        3.74755897e-02,  9.83160734e-03,  5.77794164e-02, -1.07943304e-02,\n",
       "       -6.35466725e-02,  1.65701583e-02,  4.13751899e-04,  4.26965468e-02,\n",
       "        2.81666815e-02,  5.67876510e-02,  1.87494829e-02,  1.66482180e-02,\n",
       "        5.84033951e-02,  7.79571803e-03, -7.47323284e-05,  3.62544470e-02,\n",
       "       -1.33635746e-02,  5.86632267e-02,  7.38843530e-03, -1.05441520e-02,\n",
       "        2.48703007e-02,  4.06964757e-02, -4.15223883e-03, -2.21928973e-02,\n",
       "        2.54185759e-02,  5.50822020e-02,  2.79041231e-02,  2.26410050e-02,\n",
       "        5.97354397e-02, -2.49542333e-02,  3.08749452e-03,  6.39901236e-02,\n",
       "       -1.95888802e-03,  3.89815830e-02, -9.00129322e-03,  2.54102889e-02],\n",
       "      dtype=float32)"
      ]
     },
     "execution_count": 485,
     "metadata": {},
     "output_type": "execute_result"
    }
   ],
   "source": [
    "model.layers[0].get_weights()[1]\n",
    "# Displays the biases of first layer"
   ]
  },
  {
   "cell_type": "code",
   "execution_count": 486,
   "metadata": {},
   "outputs": [
    {
     "data": {
      "text/plain": [
       "[array([[-0.33037502,  0.21003617, -0.0681676 ,  0.08154225,  0.3513347 ,\n",
       "         -0.02996558, -0.23726144,  0.15463062, -0.353414  , -0.18985002],\n",
       "        [ 0.01062402,  0.23706251,  0.11120413, -0.03708227, -0.16225843,\n",
       "         -0.31917518,  0.25543287,  0.00747361, -0.23416805, -0.32377625],\n",
       "        [-0.2621755 ,  0.30849773,  0.2475565 ,  0.17839271, -0.02540711,\n",
       "         -0.01560291, -0.15259856, -0.09318189,  0.03444565, -0.20654698],\n",
       "        [ 0.23855877, -0.07082545,  0.07667655, -0.154039  , -0.04178073,\n",
       "          0.2452102 , -0.21237853,  0.07771351,  0.16438003,  0.27497247],\n",
       "        [ 0.23165292, -0.11754362,  0.32276204,  0.15353149, -0.25950778,\n",
       "          0.09117487,  0.15649259, -0.01187141, -0.10205694,  0.08863693],\n",
       "        [-0.15669912, -0.04001639, -0.22716278,  0.03159056,  0.0904514 ,\n",
       "         -0.06323534,  0.22248052, -0.32265553, -0.08324011,  0.06892861],\n",
       "        [ 0.11032552, -0.14657487,  0.15514441, -0.27330062,  0.11784013,\n",
       "         -0.08434638,  0.01320727, -0.34603274,  0.07771356, -0.3282769 ],\n",
       "        [-0.3306493 ,  0.06637093,  0.1819783 ,  0.00774539,  0.10058855,\n",
       "         -0.14154384, -0.04251944,  0.21404989, -0.329221  , -0.26612607],\n",
       "        [ 0.00327517, -0.31077155, -0.30896991, -0.09699863,  0.02869265,\n",
       "          0.3463566 , -0.2673877 ,  0.28828773,  0.07007537, -0.31692383],\n",
       "        [ 0.20674253, -0.23452322, -0.2842011 ,  0.14368473, -0.17739692,\n",
       "          0.17344558, -0.10921396, -0.25986737,  0.05543853,  0.07082874],\n",
       "        [ 0.00367564,  0.20329858, -0.22719151, -0.27502087,  0.09771133,\n",
       "          0.3451696 , -0.31768388,  0.11745928, -0.11966539, -0.2838856 ],\n",
       "        [-0.23833089, -0.08779508, -0.22038011, -0.32057258,  0.10732441,\n",
       "         -0.02475174, -0.24647422,  0.32082707,  0.29363996, -0.19069749],\n",
       "        [-0.16362396,  0.01300968, -0.12495729, -0.2694607 , -0.16184856,\n",
       "          0.27769974, -0.2806676 , -0.18432042,  0.08101737,  0.18888247],\n",
       "        [-0.2974901 , -0.34088764,  0.17524849, -0.23908716,  0.10894279,\n",
       "          0.21122958,  0.06669865,  0.25953478, -0.3648963 ,  0.1016513 ],\n",
       "        [-0.06676427,  0.01252885,  0.00260602, -0.25369966, -0.15563369,\n",
       "         -0.03689442,  0.04708119,  0.15914388,  0.22273746, -0.04570817],\n",
       "        [ 0.19162807, -0.32927322,  0.0418031 ,  0.0611727 ,  0.10621581,\n",
       "          0.2082778 ,  0.1163886 , -0.32459137,  0.28599   , -0.1494089 ],\n",
       "        [ 0.33502856, -0.12621152,  0.18914399,  0.17178306, -0.30711815,\n",
       "          0.33413926,  0.07526182, -0.11801893, -0.09802356, -0.0329595 ],\n",
       "        [-0.00585181,  0.25201884, -0.30059582,  0.20841338,  0.1286709 ,\n",
       "         -0.28701556, -0.18719527, -0.16156809,  0.19179346, -0.26212958],\n",
       "        [-0.00233988,  0.26755458,  0.0211722 ,  0.2826338 ,  0.12516795,\n",
       "         -0.22123733, -0.22914837,  0.2881494 , -0.21142803, -0.04868057],\n",
       "        [-0.11969031, -0.21720889, -0.1177373 , -0.08998178,  0.2549165 ,\n",
       "          0.19870175,  0.1263653 ,  0.09566969, -0.06768637,  0.17429037],\n",
       "        [-0.23233494, -0.00618163, -0.23999912,  0.2933632 ,  0.09823307,\n",
       "         -0.18983081, -0.34744495, -0.14609376, -0.26757342,  0.25981718],\n",
       "        [ 0.12249166, -0.27696624,  0.28213683, -0.24194954, -0.16322142,\n",
       "         -0.34733042, -0.11627718,  0.23598574, -0.08894097,  0.16396046],\n",
       "        [ 0.24139102, -0.06591021,  0.07315584, -0.01407971, -0.35068372,\n",
       "          0.28012565, -0.19648361, -0.2417735 , -0.08249079, -0.1731154 ],\n",
       "        [-0.18193905,  0.02051897, -0.283853  ,  0.03767291,  0.10096232,\n",
       "         -0.2625409 ,  0.13297251,  0.30439952, -0.23990971,  0.19612262],\n",
       "        [ 0.22186372,  0.27252227,  0.2752795 , -0.3118982 ,  0.17985219,\n",
       "          0.1480573 ,  0.28116718,  0.14304307, -0.35126698, -0.33033854],\n",
       "        [ 0.01664271,  0.12829058,  0.0531068 , -0.03992419, -0.07582527,\n",
       "          0.05819542, -0.20393719,  0.22779965, -0.32864085, -0.2766693 ],\n",
       "        [ 0.14929809,  0.19809912, -0.12914798,  0.16019143,  0.00204481,\n",
       "          0.10969119,  0.08920585, -0.31980225,  0.18915154, -0.2796702 ],\n",
       "        [ 0.07974511,  0.09551597,  0.00199178, -0.26390544, -0.16719833,\n",
       "         -0.2312606 ,  0.32788265, -0.15043646, -0.1506299 , -0.23688616],\n",
       "        [ 0.12949696,  0.2787888 ,  0.04881042,  0.06425357,  0.03058867,\n",
       "         -0.3447116 , -0.27181095, -0.14300998, -0.27551237, -0.18678872],\n",
       "        [ 0.03968458, -0.22153337, -0.10944695, -0.30829096,  0.00452591,\n",
       "         -0.11167511, -0.03228495, -0.2534938 , -0.30056745, -0.21508975],\n",
       "        [-0.11680124,  0.28929377, -0.31262454,  0.07999068, -0.18349172,\n",
       "          0.0457297 , -0.20472306, -0.30510297, -0.29072213, -0.0833157 ],\n",
       "        [-0.05116339,  0.10248853, -0.26094437, -0.08033793, -0.13292836,\n",
       "          0.250093  , -0.22053808,  0.0325934 , -0.10575319, -0.19037645],\n",
       "        [-0.27234724, -0.31213367,  0.20710415,  0.13879858,  0.03410215,\n",
       "         -0.18418984,  0.0537122 , -0.03966133,  0.33541715,  0.04874003],\n",
       "        [ 0.1191759 ,  0.01258499, -0.00401909,  0.29389492,  0.18792808,\n",
       "         -0.3370715 , -0.15613419,  0.29261   ,  0.05136618, -0.08112825],\n",
       "        [-0.04691762,  0.24370818,  0.26759142, -0.17373043,  0.24953355,\n",
       "         -0.18291262,  0.20822819, -0.19865876, -0.03317531,  0.17409444],\n",
       "        [ 0.10241084,  0.26327893, -0.05114326, -0.06609084, -0.13732773,\n",
       "          0.28686628,  0.24209048, -0.14115855, -0.17726737,  0.22009099],\n",
       "        [ 0.10468119,  0.08037398, -0.073843  ,  0.12222091, -0.3192476 ,\n",
       "         -0.09817633,  0.19331242, -0.31647453, -0.15512511,  0.2594749 ],\n",
       "        [-0.23770593,  0.16286436,  0.16677086,  0.17931373,  0.11190705,\n",
       "          0.03540696, -0.2707635 , -0.01793039, -0.17068362, -0.00238469],\n",
       "        [-0.08686659, -0.24810041, -0.3257165 , -0.11786076,  0.15562065,\n",
       "         -0.23724024,  0.08465802,  0.11340082,  0.13830496,  0.32375255],\n",
       "        [ 0.08501668, -0.02768351,  0.28339604,  0.12440374, -0.32001385,\n",
       "          0.23013023,  0.08341564, -0.2315903 ,  0.01242018,  0.17571272],\n",
       "        [ 0.24906726,  0.0839045 , -0.26047468,  0.17917088, -0.16137077,\n",
       "          0.05470606, -0.32609785, -0.17106882, -0.21861972, -0.17023882],\n",
       "        [ 0.03542065, -0.04213526,  0.22477409, -0.199206  ,  0.21990328,\n",
       "         -0.20035414, -0.16023365,  0.2706843 ,  0.11525519, -0.03772094],\n",
       "        [-0.08722419, -0.15310277, -0.16373447, -0.14042112,  0.13945058,\n",
       "          0.20941572,  0.18034919,  0.08627751,  0.13989879, -0.29675493],\n",
       "        [-0.00903107,  0.17442833,  0.31289348, -0.2841505 , -0.02639037,\n",
       "         -0.30113587,  0.14010245, -0.31194475, -0.1572485 ,  0.26776206],\n",
       "        [-0.21141829,  0.23377122,  0.07950661, -0.00079252, -0.19063783,\n",
       "         -0.27175543, -0.3108398 ,  0.26714298,  0.30014578, -0.28337443],\n",
       "        [-0.05292869, -0.12732278,  0.01627229,  0.02763955,  0.02845754,\n",
       "          0.11812312, -0.22233246,  0.28954032, -0.29588673,  0.2955611 ],\n",
       "        [-0.17839888,  0.29255286,  0.15514965, -0.24646536,  0.02878857,\n",
       "         -0.34950873, -0.04955832, -0.01143543,  0.34557718, -0.2323726 ],\n",
       "        [ 0.07435204, -0.19082034,  0.24062252, -0.12294424,  0.01263669,\n",
       "         -0.35295352,  0.04065425, -0.16511768, -0.24363494, -0.20710117],\n",
       "        [-0.15553835, -0.03613113,  0.2326777 ,  0.12864222, -0.1848355 ,\n",
       "         -0.28038177, -0.33361986,  0.3629397 , -0.26881447, -0.21862769],\n",
       "        [ 0.21096079, -0.07274196, -0.2923749 , -0.19552098,  0.34444076,\n",
       "         -0.29233906,  0.2626704 ,  0.24538045, -0.09523929,  0.22683455],\n",
       "        [ 0.19772409, -0.27904677,  0.14772749,  0.23588285,  0.24910563,\n",
       "         -0.07683215, -0.0320478 , -0.09399907, -0.28447282, -0.15939529],\n",
       "        [-0.18303867, -0.03320167,  0.12114628,  0.06652134,  0.34369466,\n",
       "         -0.11632013,  0.27898905, -0.16481785,  0.28068066, -0.16957803],\n",
       "        [-0.22190182,  0.30498785,  0.09602582, -0.30177528,  0.12131983,\n",
       "          0.0334729 , -0.07689114,  0.22542441,  0.33208466, -0.28438044],\n",
       "        [-0.29411328,  0.06027809, -0.32425997, -0.33977923,  0.05727404,\n",
       "          0.25092694,  0.08921257,  0.13983944, -0.05743475,  0.25320563],\n",
       "        [ 0.21035615,  0.06012155, -0.14303635,  0.20132545, -0.17385894,\n",
       "         -0.12112129, -0.09223244,  0.16243081,  0.14005296,  0.07100653],\n",
       "        [-0.11628619, -0.21421948, -0.2061641 ,  0.04321641,  0.10239077,\n",
       "          0.06040242, -0.18573302, -0.05056046,  0.07024165,  0.11262962],\n",
       "        [ 0.05322434,  0.07784219, -0.07738173, -0.05546637, -0.24939229,\n",
       "          0.2801041 ,  0.0943715 ,  0.17635812,  0.02388146, -0.14091441],\n",
       "        [-0.3322955 , -0.01846177,  0.07282233,  0.29318783,  0.24420267,\n",
       "         -0.14652684, -0.2996471 , -0.19086958,  0.22397242, -0.16536877],\n",
       "        [-0.27309802, -0.13866228,  0.13539183,  0.2658035 , -0.0110395 ,\n",
       "          0.07441773,  0.257902  , -0.33725235,  0.29829943, -0.07025116],\n",
       "        [ 0.2855464 ,  0.11184227, -0.04374476,  0.0252091 , -0.2585801 ,\n",
       "          0.1240596 ,  0.2728012 ,  0.1860835 , -0.17776161, -0.2509219 ],\n",
       "        [-0.22656302,  0.06625184,  0.3462748 ,  0.21305679,  0.003853  ,\n",
       "         -0.26160488, -0.00920929, -0.11468517,  0.10078653,  0.11103702],\n",
       "        [-0.1884055 ,  0.27529764,  0.23657046, -0.32996792,  0.29180023,\n",
       "         -0.15211108, -0.27215034, -0.20516108, -0.11327168,  0.14476687],\n",
       "        [ 0.00578042, -0.25724736, -0.08505046,  0.09197415,  0.30027264,\n",
       "          0.06856537, -0.2149567 ,  0.23421605,  0.25830343,  0.26082954],\n",
       "        [ 0.23712942, -0.07320886, -0.29483145,  0.05431578, -0.17038605,\n",
       "          0.00624215,  0.2078347 ,  0.07615199, -0.0507922 ,  0.23981954]],\n",
       "       dtype=float32),\n",
       " array([-0.04099967,  0.04198442, -0.02979828,  0.02575883, -0.03595826,\n",
       "         0.06664664,  0.03515953,  0.04246986, -0.06575838,  0.00909316],\n",
       "       dtype=float32)]"
      ]
     },
     "execution_count": 486,
     "metadata": {},
     "output_type": "execute_result"
    }
   ],
   "source": [
    "model.layers[1].get_weights()\n",
    "# displays the weights and biases of second layer"
   ]
  },
  {
   "cell_type": "markdown",
   "metadata": {},
   "source": [
    "##### Storing and retrieving the weights"
   ]
  },
  {
   "cell_type": "raw",
   "metadata": {},
   "source": [
    "model.save_weights('my_model_weights.h5')\n",
    "recovered_model = model.load_weights('my_model_weights.h5')\n",
    "# model.get_weights()"
   ]
  },
  {
   "cell_type": "markdown",
   "metadata": {},
   "source": [
    "##### Storing and retrieving the models"
   ]
  },
  {
   "cell_type": "raw",
   "metadata": {},
   "source": [
    "model.save('model.h5')\n",
    "loaded_model = keras.models.load_model('model.h5')"
   ]
  },
  {
   "cell_type": "raw",
   "metadata": {},
   "source": [
    "# cloning the models\n",
    "model_cloned = keras.models.clone_model(model)\n",
    "new_weights = model_cloned.get_weights()"
   ]
  },
  {
   "cell_type": "markdown",
   "metadata": {},
   "source": [
    "##### HM model"
   ]
  },
  {
   "cell_type": "code",
   "execution_count": 487,
   "metadata": {},
   "outputs": [],
   "source": [
    "np.random.seed(3)\n",
    "def get_model(): \n",
    "    model = keras.Sequential([\n",
    "        # input layer 784 neurons to first hidden layer with 64 neurons\n",
    "        keras.layers.Dense(64, input_shape = (784,), activation='relu'), \n",
    "        # first hidden layer with 64 neurons\n",
    "        keras.layers.Dense(64, activation='relu'), \n",
    "        # second hidden layer with 64 neurons\n",
    "        #keras.layers.Dense(64, activation='relu'), \n",
    "        # Output layer with 10 neurons\n",
    "        keras.layers.Dense(10, activation='sigmoid')\n",
    "    ])\n",
    "    # General SGD\n",
    "    #opti = keras.optimizers.SGD(learning_rate=0.001)\n",
    "    # SGD with momentum\n",
    "    #opti = keras.optimizers.SGD(learning_rate=0.001, momentum=0.6)\n",
    "    # SGD with Nesterov momentum \n",
    "    #opti = keras.optimizers.SGD(learning_rate=0.001, momentum=0.6, nesterov=True)\n",
    "    # RMSprop \n",
    "    #opti = keras.optimizers.RMSprop(learning_rate=0.001, momentum=0.6)\n",
    "    # Adam\n",
    "    #opti = keras.optimizers.Adam(learning_rate=0.001)\n",
    "    # Adadelta\n",
    "    #opti = keras.optimizers.Adadelta(learning_rate=0.001)\n",
    "    # Adagrad\n",
    "    #opti = keras.optimizers.Adagrad(learning_rate=0.001)\n",
    "    # Adamax\n",
    "    #opti = keras.optimizers.Adamax(learning_rate=0.001)\n",
    "    # Nadam\n",
    "    opti = keras.optimizers.Nadam(learning_rate=0.001)\n",
    "    \n",
    "    model.compile(\n",
    "        optimizer = opti,\n",
    "        loss = 'sparse_categorical_crossentropy',\n",
    "        metrics = ['accuracy']\n",
    "    )\n",
    "    return model"
   ]
  },
  {
   "cell_type": "raw",
   "metadata": {},
   "source": [
    "total_fold = int(math.ceil(math.log2(X_train_normalized.shape[0])))\n",
    "print(\"total_fold   :\", total_fold)\n",
    "batch_size = 60000\n",
    "num_batch = math.ceil(X_train_normalized.shape[0] / batch_size)\n",
    "print(\"num_batch   :\", num_batch)\n",
    "batch_fold = int(math.floor(math.log2(batch_size)))\n",
    "print(\"batch_fold   :\", batch_fold)\n",
    "update_every_fold = (total_fold-batch_fold)    \n",
    "print(\"update_every_fold   :\", update_every_fold)\n",
    "num_updates = num_batch/update_every_fold\n",
    "print(\"num_updates   :\", num_updates)"
   ]
  },
  {
   "cell_type": "code",
   "execution_count": 488,
   "metadata": {},
   "outputs": [],
   "source": [
    "class CustomCallback(keras.callbacks.Callback):  \n",
    "    iteration = 0\n",
    "    batch_size = 60000\n",
    "    training_set_size = 0\n",
    "    update_every_fold = 0\n",
    "    initial_weights = 0\n",
    "    previous_weights = 0\n",
    "    call_hm = 0\n",
    "    call_am = 0 \n",
    "     \n",
    "    def on_train_begin(self, logs=None):\n",
    "        self.initial_weights = model_hm.get_weights() \n",
    "        self.initial_weights = np.array(self.initial_weights,dtype=object)\n",
    "        self.previous_weights = self.initial_weights\n",
    "        # Harmonic mean based weights calculation\n",
    "        self.call_hm = np.vectorize(self.apply_hm) \n",
    "        # Arithmetic mean based weights calculation\n",
    "        self.call_am = np.vectorize(self.apply_am) \n",
    "        #Determining number of updates every epoch\n",
    "        self.training_set_size = X_train_normalized.shape[0]\n",
    "        self.update_every_fold = self.fold_calc(self.batch_size, self.training_set_size)\n",
    "    \n",
    "         \n",
    "    def on_epoch_begin(self, epoch,  logs=None): \n",
    "        self.iteration = 1   \n",
    "        \n",
    "    def on_train_batch_end(self, batch, logs=None): \n",
    "        if self.iteration%self.update_every_fold == 0:  \n",
    "            counter = 0\n",
    "            num_layers = len(model_hm.layers)  \n",
    "            current_weights = model_hm.get_weights()\n",
    "            current_weights = np.array(current_weights,dtype=object)        \n",
    "\n",
    "            for i in range(num_layers):  \n",
    "                # Harmonic mean based update\n",
    "                current_weights[counter] = self.call_hm(self.previous_weights[counter], current_weights[counter])\n",
    "                # Arithmetic mean based update\n",
    "                #current_weights[counter] = self.call_am(self.previous_weights[counter], current_weights[counter])\n",
    "                counter = counter + 2\n",
    "\n",
    "            updated = current_weights.tolist()   \n",
    "            model_hm.set_weights(updated)\n",
    "            self.previous_weights = current_weights\n",
    "        self.iteration = self.iteration + 1  \n",
    "    \n",
    "    #def on_epoch_end(self, epoch, logs={}):\n",
    "      # print(model.loss)\n",
    "\n",
    "    def apply_hm(self, v1, v2):     \n",
    "        if v1==0 or v2==0:\n",
    "            return v2\n",
    "        elif v1>0 and v2>0:\n",
    "            hm = 2*v1*v2/(v1+v2)\n",
    "            min1 = min(v1,v2)\n",
    "            diff = abs(hm-min1)\n",
    "            if v2 > v1:\n",
    "                return v2 + diff\n",
    "            else:\n",
    "                return v2 - diff\n",
    "        elif v1<0 and v2<0:\n",
    "            hm = 2*v1*v2/(v1+v2)\n",
    "            max1 = max(v1,v2)\n",
    "            diff = abs(hm-max1)\n",
    "            if v2 > v1:\n",
    "                return v2 + diff\n",
    "            else:\n",
    "                return v2 - diff\n",
    "        else:\n",
    "            return v2    \n",
    "        \n",
    "    def apply_am(self, v1, v2):     \n",
    "        if v1==0 or v2==0:\n",
    "            return v2\n",
    "        elif v1>0 and v2>0:\n",
    "            am = (v1+v2)/2\n",
    "            min1 = min(v1,v2)\n",
    "            diff = abs(am-min1)\n",
    "            if v2 > v1:\n",
    "                return v2 + diff\n",
    "            else:\n",
    "                return v2 - diff\n",
    "        elif v1<0 and v2<0:\n",
    "            am = (v1+v2)/2\n",
    "            max1 = max(v1,v2)\n",
    "            diff = abs(am-max1)\n",
    "            if v2 > v1:\n",
    "                return v2 + diff\n",
    "            else:\n",
    "                return v2 - diff\n",
    "        else:\n",
    "            return v2  \n",
    "        \n",
    "    def fold_calc(self, batch_size, training_set_size): \n",
    "        total_fold = int(math.ceil(math.log2(training_set_size)))\n",
    "        #print(\"total_fold   :\", total_fold) \n",
    "        num_batch = math.ceil(training_set_size / batch_size)\n",
    "        #print(\"num_batch   :\", num_batch)\n",
    "        batch_fold = int(math.floor(math.log2(batch_size)))\n",
    "        #print(\"batch_fold   :\", batch_fold)\n",
    "        update_every_fold = (total_fold-batch_fold)    \n",
    "        #print(\"update_every_fold   :\", update_every_fold)\n",
    "        num_updates = num_batch/update_every_fold\n",
    "        #print(\"num_updates   :\", num_updates)\n",
    "        return update_every_fold"
   ]
  },
  {
   "cell_type": "markdown",
   "metadata": {},
   "source": [
    "#### Training"
   ]
  },
  {
   "cell_type": "code",
   "execution_count": 489,
   "metadata": {
    "scrolled": true
   },
   "outputs": [
    {
     "name": "stdout",
     "output_type": "stream",
     "text": [
      "Epoch 1/100\n",
      "1/1 [==============================] - 1s 1s/step - loss: 2.3702 - accuracy: 0.0728\n",
      "Epoch 2/100\n",
      "1/1 [==============================] - 0s 217ms/step - loss: 2.2487 - accuracy: 0.1477\n",
      "Epoch 3/100\n",
      "1/1 [==============================] - 0s 228ms/step - loss: 2.1699 - accuracy: 0.2501\n",
      "Epoch 4/100\n",
      "1/1 [==============================] - 0s 215ms/step - loss: 2.0899 - accuracy: 0.3179\n",
      "Epoch 5/100\n",
      "1/1 [==============================] - 0s 207ms/step - loss: 2.0030 - accuracy: 0.3768\n",
      "Epoch 6/100\n",
      "1/1 [==============================] - 0s 218ms/step - loss: 1.9066 - accuracy: 0.4396\n",
      "Epoch 7/100\n",
      "1/1 [==============================] - 0s 207ms/step - loss: 1.7997 - accuracy: 0.5098\n",
      "Epoch 8/100\n",
      "1/1 [==============================] - 0s 236ms/step - loss: 1.6840 - accuracy: 0.5828\n",
      "Epoch 9/100\n",
      "1/1 [==============================] - 0s 219ms/step - loss: 1.5627 - accuracy: 0.6468\n",
      "Epoch 10/100\n",
      "1/1 [==============================] - 0s 208ms/step - loss: 1.4393 - accuracy: 0.6984\n",
      "Epoch 11/100\n",
      "1/1 [==============================] - 0s 205ms/step - loss: 1.3180 - accuracy: 0.7398\n",
      "Epoch 12/100\n",
      "1/1 [==============================] - 0s 202ms/step - loss: 1.2025 - accuracy: 0.7702\n",
      "Epoch 13/100\n",
      "1/1 [==============================] - 0s 281ms/step - loss: 1.0955 - accuracy: 0.7921\n",
      "Epoch 14/100\n",
      "1/1 [==============================] - 0s 233ms/step - loss: 0.9990 - accuracy: 0.8069\n",
      "Epoch 15/100\n",
      "1/1 [==============================] - 0s 210ms/step - loss: 0.9166 - accuracy: 0.8149\n",
      "Epoch 16/100\n",
      "1/1 [==============================] - 0s 238ms/step - loss: 0.8613 - accuracy: 0.8133\n",
      "Epoch 17/100\n",
      "1/1 [==============================] - 0s 228ms/step - loss: 0.8479 - accuracy: 0.7923\n",
      "Epoch 18/100\n",
      "1/1 [==============================] - 0s 225ms/step - loss: 0.7952 - accuracy: 0.8020\n",
      "Epoch 19/100\n",
      "1/1 [==============================] - 0s 212ms/step - loss: 0.7274 - accuracy: 0.8231\n",
      "Epoch 20/100\n",
      "1/1 [==============================] - 0s 240ms/step - loss: 0.6701 - accuracy: 0.8352\n",
      "Epoch 21/100\n",
      "1/1 [==============================] - 0s 226ms/step - loss: 0.6308 - accuracy: 0.8478\n",
      "Epoch 22/100\n",
      "1/1 [==============================] - 0s 229ms/step - loss: 0.6064 - accuracy: 0.8421\n",
      "Epoch 23/100\n",
      "1/1 [==============================] - 0s 210ms/step - loss: 0.5867 - accuracy: 0.8500\n",
      "Epoch 24/100\n",
      "1/1 [==============================] - 0s 237ms/step - loss: 0.5766 - accuracy: 0.8338\n",
      "Epoch 25/100\n",
      "1/1 [==============================] - 0s 240ms/step - loss: 0.5597 - accuracy: 0.8485\n",
      "Epoch 26/100\n",
      "1/1 [==============================] - 0s 227ms/step - loss: 0.5428 - accuracy: 0.8385\n",
      "Epoch 27/100\n",
      "1/1 [==============================] - 0s 224ms/step - loss: 0.5216 - accuracy: 0.8598\n",
      "Epoch 28/100\n",
      "1/1 [==============================] - 0s 243ms/step - loss: 0.5023 - accuracy: 0.8547\n",
      "Epoch 29/100\n",
      "1/1 [==============================] - 0s 245ms/step - loss: 0.4850 - accuracy: 0.8712\n",
      "Epoch 30/100\n",
      "1/1 [==============================] - 0s 253ms/step - loss: 0.4697 - accuracy: 0.8674\n",
      "Epoch 31/100\n",
      "1/1 [==============================] - 0s 235ms/step - loss: 0.4550 - accuracy: 0.8781\n",
      "Epoch 32/100\n",
      "1/1 [==============================] - 0s 245ms/step - loss: 0.4430 - accuracy: 0.8770\n",
      "Epoch 33/100\n",
      "1/1 [==============================] - 0s 233ms/step - loss: 0.4314 - accuracy: 0.8831\n",
      "Epoch 34/100\n",
      "1/1 [==============================] - 0s 211ms/step - loss: 0.4217 - accuracy: 0.8839\n",
      "Epoch 35/100\n",
      "1/1 [==============================] - 0s 221ms/step - loss: 0.4124 - accuracy: 0.8871\n",
      "Epoch 36/100\n",
      "1/1 [==============================] - 0s 228ms/step - loss: 0.4042 - accuracy: 0.8886\n",
      "Epoch 37/100\n",
      "1/1 [==============================] - 0s 209ms/step - loss: 0.3964 - accuracy: 0.8909\n",
      "Epoch 38/100\n",
      "1/1 [==============================] - 0s 207ms/step - loss: 0.3893 - accuracy: 0.8927\n",
      "Epoch 39/100\n",
      "1/1 [==============================] - 0s 245ms/step - loss: 0.3825 - accuracy: 0.8942\n",
      "Epoch 40/100\n",
      "1/1 [==============================] - 0s 233ms/step - loss: 0.3763 - accuracy: 0.8960\n",
      "Epoch 41/100\n",
      "1/1 [==============================] - 0s 226ms/step - loss: 0.3702 - accuracy: 0.8968\n",
      "Epoch 42/100\n",
      "1/1 [==============================] - 0s 235ms/step - loss: 0.3647 - accuracy: 0.8985\n",
      "Epoch 43/100\n",
      "1/1 [==============================] - 0s 218ms/step - loss: 0.3593 - accuracy: 0.8997\n",
      "Epoch 44/100\n",
      "1/1 [==============================] - 0s 221ms/step - loss: 0.3545 - accuracy: 0.9012\n",
      "Epoch 45/100\n",
      "1/1 [==============================] - 0s 296ms/step - loss: 0.3500 - accuracy: 0.9018\n",
      "Epoch 46/100\n",
      "1/1 [==============================] - 0s 222ms/step - loss: 0.3461 - accuracy: 0.9034\n",
      "Epoch 47/100\n",
      "1/1 [==============================] - 0s 233ms/step - loss: 0.3422 - accuracy: 0.9037\n",
      "Epoch 48/100\n",
      "1/1 [==============================] - 0s 239ms/step - loss: 0.3390 - accuracy: 0.9049\n",
      "Epoch 49/100\n",
      "1/1 [==============================] - 0s 213ms/step - loss: 0.3356 - accuracy: 0.9056\n",
      "Epoch 50/100\n",
      "1/1 [==============================] - 0s 222ms/step - loss: 0.3330 - accuracy: 0.9059\n",
      "Epoch 51/100\n",
      "1/1 [==============================] - 0s 212ms/step - loss: 0.3297 - accuracy: 0.9070\n",
      "Epoch 52/100\n",
      "1/1 [==============================] - 0s 206ms/step - loss: 0.3274 - accuracy: 0.9072\n",
      "Epoch 53/100\n",
      "1/1 [==============================] - 0s 226ms/step - loss: 0.3237 - accuracy: 0.9082\n",
      "Epoch 54/100\n",
      "1/1 [==============================] - 0s 253ms/step - loss: 0.3212 - accuracy: 0.9086\n",
      "Epoch 55/100\n",
      "1/1 [==============================] - 0s 231ms/step - loss: 0.3171 - accuracy: 0.9100\n",
      "Epoch 56/100\n",
      "1/1 [==============================] - 0s 226ms/step - loss: 0.3141 - accuracy: 0.9108\n",
      "Epoch 57/100\n",
      "1/1 [==============================] - 0s 228ms/step - loss: 0.3100 - accuracy: 0.9118\n",
      "Epoch 58/100\n",
      "1/1 [==============================] - 0s 231ms/step - loss: 0.3068 - accuracy: 0.9128\n",
      "Epoch 59/100\n",
      "1/1 [==============================] - 0s 215ms/step - loss: 0.3032 - accuracy: 0.9136\n",
      "Epoch 60/100\n",
      "1/1 [==============================] - 0s 222ms/step - loss: 0.3001 - accuracy: 0.9150\n",
      "Epoch 61/100\n",
      "1/1 [==============================] - 0s 209ms/step - loss: 0.2971 - accuracy: 0.9150\n",
      "Epoch 62/100\n",
      "1/1 [==============================] - 0s 211ms/step - loss: 0.2944 - accuracy: 0.9166\n",
      "Epoch 63/100\n",
      "1/1 [==============================] - 0s 213ms/step - loss: 0.2920 - accuracy: 0.9160\n",
      "Epoch 64/100\n",
      "1/1 [==============================] - 0s 214ms/step - loss: 0.2898 - accuracy: 0.9182\n",
      "Epoch 65/100\n",
      "1/1 [==============================] - 0s 225ms/step - loss: 0.2880 - accuracy: 0.9168\n",
      "Epoch 66/100\n",
      "1/1 [==============================] - 0s 209ms/step - loss: 0.2861 - accuracy: 0.9190\n",
      "Epoch 67/100\n",
      "1/1 [==============================] - 0s 219ms/step - loss: 0.2847 - accuracy: 0.9172\n",
      "Epoch 68/100\n",
      "1/1 [==============================] - 0s 252ms/step - loss: 0.2830 - accuracy: 0.9199\n",
      "Epoch 69/100\n",
      "1/1 [==============================] - 0s 239ms/step - loss: 0.2818 - accuracy: 0.9176\n",
      "Epoch 70/100\n",
      "1/1 [==============================] - 0s 247ms/step - loss: 0.2800 - accuracy: 0.9205\n",
      "Epoch 71/100\n",
      "1/1 [==============================] - 0s 210ms/step - loss: 0.2786 - accuracy: 0.9182\n",
      "Epoch 72/100\n",
      "1/1 [==============================] - 0s 223ms/step - loss: 0.2764 - accuracy: 0.9216\n",
      "Epoch 73/100\n",
      "1/1 [==============================] - 0s 224ms/step - loss: 0.2749 - accuracy: 0.9193\n",
      "Epoch 74/100\n",
      "1/1 [==============================] - 0s 216ms/step - loss: 0.2723 - accuracy: 0.9226\n",
      "Epoch 75/100\n",
      "1/1 [==============================] - 0s 252ms/step - loss: 0.2707 - accuracy: 0.9205\n",
      "Epoch 76/100\n",
      "1/1 [==============================] - 0s 218ms/step - loss: 0.2683 - accuracy: 0.9231\n",
      "Epoch 77/100\n",
      "1/1 [==============================] - 0s 241ms/step - loss: 0.2667 - accuracy: 0.9217\n",
      "Epoch 78/100\n",
      "1/1 [==============================] - 0s 227ms/step - loss: 0.2647 - accuracy: 0.9243\n",
      "Epoch 79/100\n",
      "1/1 [==============================] - 0s 201ms/step - loss: 0.2632 - accuracy: 0.9231\n",
      "Epoch 80/100\n",
      "1/1 [==============================] - 0s 239ms/step - loss: 0.2614 - accuracy: 0.9252\n",
      "Epoch 81/100\n",
      "1/1 [==============================] - 0s 216ms/step - loss: 0.2598 - accuracy: 0.9248\n",
      "Epoch 82/100\n",
      "1/1 [==============================] - 0s 209ms/step - loss: 0.2583 - accuracy: 0.9263\n",
      "Epoch 83/100\n"
     ]
    },
    {
     "name": "stdout",
     "output_type": "stream",
     "text": [
      "1/1 [==============================] - 0s 198ms/step - loss: 0.2564 - accuracy: 0.9258\n",
      "Epoch 84/100\n",
      "1/1 [==============================] - 0s 215ms/step - loss: 0.2550 - accuracy: 0.9272\n",
      "Epoch 85/100\n",
      "1/1 [==============================] - 0s 205ms/step - loss: 0.2529 - accuracy: 0.9269\n",
      "Epoch 86/100\n",
      "1/1 [==============================] - 0s 204ms/step - loss: 0.2514 - accuracy: 0.9280\n",
      "Epoch 87/100\n",
      "1/1 [==============================] - 0s 223ms/step - loss: 0.2492 - accuracy: 0.9281\n",
      "Epoch 88/100\n",
      "1/1 [==============================] - 0s 212ms/step - loss: 0.2476 - accuracy: 0.9289\n",
      "Epoch 89/100\n",
      "1/1 [==============================] - 0s 198ms/step - loss: 0.2455 - accuracy: 0.9294\n",
      "Epoch 90/100\n",
      "1/1 [==============================] - 0s 206ms/step - loss: 0.2438 - accuracy: 0.9302\n",
      "Epoch 91/100\n",
      "1/1 [==============================] - 0s 207ms/step - loss: 0.2419 - accuracy: 0.9306\n",
      "Epoch 92/100\n",
      "1/1 [==============================] - 0s 220ms/step - loss: 0.2402 - accuracy: 0.9315\n",
      "Epoch 93/100\n",
      "1/1 [==============================] - 0s 190ms/step - loss: 0.2384 - accuracy: 0.9315\n",
      "Epoch 94/100\n",
      "1/1 [==============================] - 0s 181ms/step - loss: 0.2368 - accuracy: 0.9325\n",
      "Epoch 95/100\n",
      "1/1 [==============================] - 0s 196ms/step - loss: 0.2351 - accuracy: 0.9329\n",
      "Epoch 96/100\n",
      "1/1 [==============================] - 0s 189ms/step - loss: 0.2336 - accuracy: 0.9332\n",
      "Epoch 97/100\n",
      "1/1 [==============================] - 0s 190ms/step - loss: 0.2321 - accuracy: 0.9340\n",
      "Epoch 98/100\n",
      "1/1 [==============================] - 0s 196ms/step - loss: 0.2306 - accuracy: 0.9340\n",
      "Epoch 99/100\n",
      "1/1 [==============================] - 0s 191ms/step - loss: 0.2292 - accuracy: 0.9347\n",
      "Epoch 100/100\n",
      "1/1 [==============================] - 0s 187ms/step - loss: 0.2278 - accuracy: 0.9347\n",
      "Execution time: 23.362199783325195 seconds\n"
     ]
    }
   ],
   "source": [
    "csv_logger = CSVLogger('log.csv', append=False, separator=',') \n",
    "model_hm = get_model() \n",
    "st = time.time()\n",
    "model_hm.fit(X_train_normalized, y_train, epochs = 100, verbose=1, callbacks=[CustomCallback(),csv_logger], batch_size=60000) \n",
    "#hist = model_hm.fit(X_train_normalized, y_train, epochs = 100, verbose=1, callbacks=[CustomCallback(),csv_logger], batch_size=60000) \n",
    "et = time.time()\n",
    "elapsed_time = et - st\n",
    "print('Execution time:', elapsed_time, 'seconds')"
   ]
  },
  {
   "cell_type": "code",
   "execution_count": 490,
   "metadata": {},
   "outputs": [
    {
     "data": {
      "text/plain": [
       "{'loss': [2.333817958831787,\n",
       "  2.2200279235839844,\n",
       "  2.1346898078918457,\n",
       "  2.0460879802703857,\n",
       "  1.950095534324646,\n",
       "  1.8465532064437866,\n",
       "  1.7365349531173706,\n",
       "  1.6218868494033813,\n",
       "  1.5054666996002197,\n",
       "  1.3899067640304565,\n",
       "  1.2782809734344482,\n",
       "  1.1744096279144287,\n",
       "  1.0852901935577393,\n",
       "  1.0147806406021118,\n",
       "  0.9488276243209839,\n",
       "  0.8838342428207397,\n",
       "  0.8177738189697266,\n",
       "  0.7650306224822998,\n",
       "  0.7238003015518188,\n",
       "  0.6922262907028198,\n",
       "  0.6661868691444397,\n",
       "  0.6392083168029785,\n",
       "  0.6078782081604004,\n",
       "  0.5778068900108337,\n",
       "  0.5515491366386414,\n",
       "  0.5289626717567444,\n",
       "  0.5099302530288696,\n",
       "  0.4929978549480438,\n",
       "  0.47917649149894714,\n",
       "  0.46659931540489197,\n",
       "  0.4572475552558899,\n",
       "  0.44762831926345825,\n",
       "  0.4407995045185089,\n",
       "  0.43075424432754517,\n",
       "  0.42229682207107544,\n",
       "  0.4113796353340149,\n",
       "  0.40182188153266907,\n",
       "  0.39226973056793213,\n",
       "  0.3839060366153717,\n",
       "  0.3762231171131134,\n",
       "  0.36933067440986633,\n",
       "  0.36301058530807495,\n",
       "  0.35717904567718506,\n",
       "  0.3517538011074066,\n",
       "  0.3466789126396179,\n",
       "  0.34188562631607056,\n",
       "  0.33736926317214966,\n",
       "  0.3330676555633545,\n",
       "  0.3290128707885742,\n",
       "  0.32513347268104553,\n",
       "  0.321480929851532,\n",
       "  0.31798648834228516,\n",
       "  0.31472375988960266,\n",
       "  0.3116133213043213,\n",
       "  0.3087737560272217,\n",
       "  0.306130588054657,\n",
       "  0.3037897050380707,\n",
       "  0.30166614055633545,\n",
       "  0.299814909696579,\n",
       "  0.2981545031070709,\n",
       "  0.2966427505016327,\n",
       "  0.29509204626083374,\n",
       "  0.29357755184173584,\n",
       "  0.29167065024375916,\n",
       "  0.2901369333267212,\n",
       "  0.28787165880203247,\n",
       "  0.28666952252388,\n",
       "  0.28448280692100525,\n",
       "  0.2834918797016144,\n",
       "  0.2815254032611847,\n",
       "  0.2798663377761841,\n",
       "  0.2776546776294708,\n",
       "  0.2746568024158478,\n",
       "  0.27162471413612366,\n",
       "  0.2678329348564148,\n",
       "  0.26442617177963257,\n",
       "  0.26089802384376526,\n",
       "  0.2578175961971283,\n",
       "  0.2549700438976288,\n",
       "  0.2524578869342804,\n",
       "  0.2502013146877289,\n",
       "  0.24810461699962616,\n",
       "  0.24623307585716248,\n",
       "  0.24443908035755157,\n",
       "  0.24284245073795319,\n",
       "  0.24126185476779938,\n",
       "  0.23986566066741943,\n",
       "  0.2384846955537796,\n",
       "  0.23727989196777344,\n",
       "  0.23608164489269257,\n",
       "  0.23502115905284882,\n",
       "  0.23401068150997162,\n",
       "  0.23303323984146118,\n",
       "  0.23215579986572266,\n",
       "  0.2311118096113205,\n",
       "  0.23027154803276062,\n",
       "  0.22902417182922363,\n",
       "  0.22806233167648315,\n",
       "  0.22653305530548096,\n",
       "  0.225372314453125],\n",
       " 'accuracy': [0.09748333692550659,\n",
       "  0.21076667308807373,\n",
       "  0.28790000081062317,\n",
       "  0.3563833236694336,\n",
       "  0.41378334164619446,\n",
       "  0.4626833200454712,\n",
       "  0.5199166536331177,\n",
       "  0.5895666480064392,\n",
       "  0.6446166634559631,\n",
       "  0.6935499906539917,\n",
       "  0.728866696357727,\n",
       "  0.7592499852180481,\n",
       "  0.7677333354949951,\n",
       "  0.7801333069801331,\n",
       "  0.7835000157356262,\n",
       "  0.7981833219528198,\n",
       "  0.8087000250816345,\n",
       "  0.8217333555221558,\n",
       "  0.8224666714668274,\n",
       "  0.8287166953086853,\n",
       "  0.8260166645050049,\n",
       "  0.8363500237464905,\n",
       "  0.8381500244140625,\n",
       "  0.8530666828155518,\n",
       "  0.852733314037323,\n",
       "  0.8655499815940857,\n",
       "  0.8634166717529297,\n",
       "  0.8733999729156494,\n",
       "  0.8698333501815796,\n",
       "  0.8787833452224731,\n",
       "  0.8724833130836487,\n",
       "  0.8823500275611877,\n",
       "  0.8737333416938782,\n",
       "  0.8846833109855652,\n",
       "  0.8778499960899353,\n",
       "  0.8888333439826965,\n",
       "  0.8855666518211365,\n",
       "  0.893916666507721,\n",
       "  0.8913999795913696,\n",
       "  0.8978666663169861,\n",
       "  0.8967999815940857,\n",
       "  0.9009333252906799,\n",
       "  0.9003833532333374,\n",
       "  0.9037166833877563,\n",
       "  0.9031000137329102,\n",
       "  0.9057499766349792,\n",
       "  0.9055333137512207,\n",
       "  0.9075166583061218,\n",
       "  0.9077000021934509,\n",
       "  0.9089999794960022,\n",
       "  0.9099166393280029,\n",
       "  0.9108833074569702,\n",
       "  0.911383330821991,\n",
       "  0.912766695022583,\n",
       "  0.912766695022583,\n",
       "  0.9137833118438721,\n",
       "  0.9136999845504761,\n",
       "  0.9146000146865845,\n",
       "  0.9145500063896179,\n",
       "  0.9160000085830688,\n",
       "  0.9154499769210815,\n",
       "  0.9167333245277405,\n",
       "  0.916366696357727,\n",
       "  0.9171333312988281,\n",
       "  0.9173666834831238,\n",
       "  0.9173499941825867,\n",
       "  0.9177500009536743,\n",
       "  0.9177666902542114,\n",
       "  0.9191833138465881,\n",
       "  0.9176166653633118,\n",
       "  0.9202499985694885,\n",
       "  0.9183333516120911,\n",
       "  0.921833336353302,\n",
       "  0.9202666878700256,\n",
       "  0.9239500164985657,\n",
       "  0.92330002784729,\n",
       "  0.9263666868209839,\n",
       "  0.9258999824523926,\n",
       "  0.9278166890144348,\n",
       "  0.9280999898910522,\n",
       "  0.929016649723053,\n",
       "  0.9294333457946777,\n",
       "  0.9301999807357788,\n",
       "  0.9303666949272156,\n",
       "  0.9316499829292297,\n",
       "  0.9310833215713501,\n",
       "  0.9322333335876465,\n",
       "  0.9318666458129883,\n",
       "  0.9327666759490967,\n",
       "  0.9320999979972839,\n",
       "  0.9333500266075134,\n",
       "  0.9323166608810425,\n",
       "  0.9341833591461182,\n",
       "  0.9328166842460632,\n",
       "  0.9349166750907898,\n",
       "  0.9331833124160767,\n",
       "  0.9356333613395691,\n",
       "  0.933566689491272,\n",
       "  0.9363333582878113,\n",
       "  0.9343166947364807]}"
      ]
     },
     "execution_count": 490,
     "metadata": {},
     "output_type": "execute_result"
    }
   ],
   "source": [
    "hist.history"
   ]
  },
  {
   "cell_type": "code",
   "execution_count": 492,
   "metadata": {},
   "outputs": [
    {
     "data": {
      "image/png": "[encoded data removed]",
      "text/plain": [
       "<Figure size 432x288 with 2 Axes>"
      ]
     },
     "metadata": {
      "needs_background": "light"
     },
     "output_type": "display_data"
    }
   ],
   "source": [
    "fig, loss_ax = plt.subplots()\n",
    "acc_ax = loss_ax.twinx()\n",
    "\n",
    "loss_ax.plot(hist.history[\"loss\"], \"y\", label = \"train_loss\")  \n",
    "acc_ax.plot(hist.history[\"accuracy\"], \"g\", label=\"train_accuracy\")\n",
    "\n",
    "loss_ax.set_ylabel(\"loss\")\n",
    "acc_ax.set_ylabel(\"accuracy\")\n",
    "\n",
    "loss_ax.legend(loc = \"upper left\")\n",
    "acc_ax.legend(loc = \"lower left\")\n",
    "\n",
    "plt.show()"
   ]
  },
  {
   "cell_type": "code",
   "execution_count": 493,
   "metadata": {
    "scrolled": true
   },
   "outputs": [
    {
     "name": "stdout",
     "output_type": "stream",
     "text": [
      "Epoch 1/100\n",
      "1/1 [==============================] - 1s 1s/step - loss: 2.2816 - accuracy: 0.1618\n",
      "Epoch 2/100\n",
      "1/1 [==============================] - 0s 200ms/step - loss: 2.2107 - accuracy: 0.2401\n",
      "Epoch 3/100\n",
      "1/1 [==============================] - 0s 168ms/step - loss: 2.1586 - accuracy: 0.3084\n",
      "Epoch 4/100\n",
      "1/1 [==============================] - 0s 189ms/step - loss: 2.1067 - accuracy: 0.3723\n",
      "Epoch 5/100\n",
      "1/1 [==============================] - 0s 166ms/step - loss: 2.0512 - accuracy: 0.4326\n",
      "Epoch 6/100\n",
      "1/1 [==============================] - 0s 186ms/step - loss: 1.9906 - accuracy: 0.4848\n",
      "Epoch 7/100\n",
      "1/1 [==============================] - 0s 175ms/step - loss: 1.9243 - accuracy: 0.5291\n",
      "Epoch 8/100\n",
      "1/1 [==============================] - 0s 181ms/step - loss: 1.8522 - accuracy: 0.5658\n",
      "Epoch 9/100\n",
      "1/1 [==============================] - 0s 165ms/step - loss: 1.7750 - accuracy: 0.5958\n",
      "Epoch 10/100\n",
      "1/1 [==============================] - 0s 168ms/step - loss: 1.6936 - accuracy: 0.6236\n",
      "Epoch 11/100\n",
      "1/1 [==============================] - 0s 181ms/step - loss: 1.6089 - accuracy: 0.6496\n",
      "Epoch 12/100\n",
      "1/1 [==============================] - 0s 178ms/step - loss: 1.5222 - accuracy: 0.6763\n",
      "Epoch 13/100\n",
      "1/1 [==============================] - 0s 211ms/step - loss: 1.4350 - accuracy: 0.7011\n",
      "Epoch 14/100\n",
      "1/1 [==============================] - 0s 162ms/step - loss: 1.3491 - accuracy: 0.7231\n",
      "Epoch 15/100\n",
      "1/1 [==============================] - 0s 171ms/step - loss: 1.2664 - accuracy: 0.7428\n",
      "Epoch 16/100\n",
      "1/1 [==============================] - 0s 163ms/step - loss: 1.1879 - accuracy: 0.7603\n",
      "Epoch 17/100\n",
      "1/1 [==============================] - 0s 180ms/step - loss: 1.1144 - accuracy: 0.7754\n",
      "Epoch 18/100\n",
      "1/1 [==============================] - 0s 182ms/step - loss: 1.0462 - accuracy: 0.7865\n",
      "Epoch 19/100\n",
      "1/1 [==============================] - 0s 169ms/step - loss: 0.9835 - accuracy: 0.7982\n",
      "Epoch 20/100\n",
      "1/1 [==============================] - 0s 180ms/step - loss: 0.9269 - accuracy: 0.8034\n",
      "Epoch 21/100\n",
      "1/1 [==============================] - 0s 164ms/step - loss: 0.8771 - accuracy: 0.8159\n",
      "Epoch 22/100\n",
      "1/1 [==============================] - 0s 181ms/step - loss: 0.8366 - accuracy: 0.8096\n",
      "Epoch 23/100\n",
      "1/1 [==============================] - 0s 166ms/step - loss: 0.8032 - accuracy: 0.8209\n",
      "Epoch 24/100\n",
      "1/1 [==============================] - 0s 175ms/step - loss: 0.7689 - accuracy: 0.8127\n",
      "Epoch 25/100\n",
      "1/1 [==============================] - 0s 176ms/step - loss: 0.7349 - accuracy: 0.8291\n",
      "Epoch 26/100\n",
      "1/1 [==============================] - 0s 154ms/step - loss: 0.6966 - accuracy: 0.8323\n",
      "Epoch 27/100\n",
      "1/1 [==============================] - 0s 172ms/step - loss: 0.6670 - accuracy: 0.8435\n",
      "Epoch 28/100\n",
      "1/1 [==============================] - 0s 153ms/step - loss: 0.6387 - accuracy: 0.8473\n",
      "Epoch 29/100\n",
      "1/1 [==============================] - 0s 175ms/step - loss: 0.6151 - accuracy: 0.8527\n",
      "Epoch 30/100\n",
      "1/1 [==============================] - 0s 154ms/step - loss: 0.5931 - accuracy: 0.8561\n",
      "Epoch 31/100\n",
      "1/1 [==============================] - 0s 163ms/step - loss: 0.5736 - accuracy: 0.8600\n",
      "Epoch 32/100\n",
      "1/1 [==============================] - 0s 178ms/step - loss: 0.5555 - accuracy: 0.8627\n",
      "Epoch 33/100\n",
      "1/1 [==============================] - 0s 204ms/step - loss: 0.5390 - accuracy: 0.8660\n",
      "Epoch 34/100\n",
      "1/1 [==============================] - 0s 175ms/step - loss: 0.5237 - accuracy: 0.8694\n",
      "Epoch 35/100\n",
      "1/1 [==============================] - 0s 197ms/step - loss: 0.5096 - accuracy: 0.8703\n",
      "Epoch 36/100\n",
      "1/1 [==============================] - 0s 179ms/step - loss: 0.4966 - accuracy: 0.8741\n",
      "Epoch 37/100\n",
      "1/1 [==============================] - 0s 160ms/step - loss: 0.4845 - accuracy: 0.8750\n",
      "Epoch 38/100\n",
      "1/1 [==============================] - 0s 185ms/step - loss: 0.4738 - accuracy: 0.8788\n",
      "Epoch 39/100\n",
      "1/1 [==============================] - 0s 173ms/step - loss: 0.4633 - accuracy: 0.8782\n",
      "Epoch 40/100\n",
      "1/1 [==============================] - 0s 166ms/step - loss: 0.4542 - accuracy: 0.8824\n",
      "Epoch 41/100\n",
      "1/1 [==============================] - 0s 169ms/step - loss: 0.4445 - accuracy: 0.8810\n",
      "Epoch 42/100\n",
      "1/1 [==============================] - 0s 163ms/step - loss: 0.4363 - accuracy: 0.8864\n",
      "Epoch 43/100\n",
      "1/1 [==============================] - 0s 165ms/step - loss: 0.4274 - accuracy: 0.8849\n",
      "Epoch 44/100\n",
      "1/1 [==============================] - 0s 154ms/step - loss: 0.4199 - accuracy: 0.8902\n",
      "Epoch 45/100\n",
      "1/1 [==============================] - 0s 159ms/step - loss: 0.4123 - accuracy: 0.8883\n",
      "Epoch 46/100\n",
      "1/1 [==============================] - 0s 169ms/step - loss: 0.4061 - accuracy: 0.8930\n",
      "Epoch 47/100\n",
      "1/1 [==============================] - 0s 176ms/step - loss: 0.4004 - accuracy: 0.8903\n",
      "Epoch 48/100\n",
      "1/1 [==============================] - 0s 170ms/step - loss: 0.3957 - accuracy: 0.8946\n",
      "Epoch 49/100\n",
      "1/1 [==============================] - 0s 181ms/step - loss: 0.3918 - accuracy: 0.8909\n",
      "Epoch 50/100\n",
      "1/1 [==============================] - 0s 166ms/step - loss: 0.3884 - accuracy: 0.8953\n",
      "Epoch 51/100\n",
      "1/1 [==============================] - 0s 158ms/step - loss: 0.3839 - accuracy: 0.8917\n",
      "Epoch 52/100\n",
      "1/1 [==============================] - 0s 165ms/step - loss: 0.3798 - accuracy: 0.8967\n",
      "Epoch 53/100\n",
      "1/1 [==============================] - 0s 164ms/step - loss: 0.3729 - accuracy: 0.8949\n",
      "Epoch 54/100\n",
      "1/1 [==============================] - 0s 163ms/step - loss: 0.3674 - accuracy: 0.9002\n",
      "Epoch 55/100\n",
      "1/1 [==============================] - 0s 159ms/step - loss: 0.3602 - accuracy: 0.8997\n",
      "Epoch 56/100\n",
      "1/1 [==============================] - 0s 161ms/step - loss: 0.3548 - accuracy: 0.9043\n",
      "Epoch 57/100\n",
      "1/1 [==============================] - 0s 172ms/step - loss: 0.3489 - accuracy: 0.9040\n",
      "Epoch 58/100\n",
      "1/1 [==============================] - 0s 187ms/step - loss: 0.3443 - accuracy: 0.9065\n",
      "Epoch 59/100\n",
      "1/1 [==============================] - 0s 168ms/step - loss: 0.3397 - accuracy: 0.9068\n",
      "Epoch 60/100\n",
      "1/1 [==============================] - 0s 159ms/step - loss: 0.3358 - accuracy: 0.9086\n",
      "Epoch 61/100\n",
      "1/1 [==============================] - 0s 158ms/step - loss: 0.3320 - accuracy: 0.9091\n",
      "Epoch 62/100\n",
      "1/1 [==============================] - 0s 176ms/step - loss: 0.3285 - accuracy: 0.9106\n",
      "Epoch 63/100\n",
      "1/1 [==============================] - 0s 198ms/step - loss: 0.3251 - accuracy: 0.9109\n",
      "Epoch 64/100\n",
      "1/1 [==============================] - 0s 203ms/step - loss: 0.3220 - accuracy: 0.9122\n",
      "Epoch 65/100\n",
      "1/1 [==============================] - 0s 170ms/step - loss: 0.3189 - accuracy: 0.9126\n",
      "Epoch 66/100\n",
      "1/1 [==============================] - 0s 170ms/step - loss: 0.3160 - accuracy: 0.9137\n",
      "Epoch 67/100\n",
      "1/1 [==============================] - 0s 160ms/step - loss: 0.3132 - accuracy: 0.9140\n",
      "Epoch 68/100\n",
      "1/1 [==============================] - 0s 158ms/step - loss: 0.3105 - accuracy: 0.9151\n",
      "Epoch 69/100\n",
      "1/1 [==============================] - 0s 157ms/step - loss: 0.3078 - accuracy: 0.9154\n",
      "Epoch 70/100\n",
      "1/1 [==============================] - 0s 157ms/step - loss: 0.3053 - accuracy: 0.9164\n",
      "Epoch 71/100\n",
      "1/1 [==============================] - 0s 170ms/step - loss: 0.3028 - accuracy: 0.9167\n",
      "Epoch 72/100\n",
      "1/1 [==============================] - 0s 175ms/step - loss: 0.3004 - accuracy: 0.9179\n",
      "Epoch 73/100\n",
      "1/1 [==============================] - 0s 163ms/step - loss: 0.2980 - accuracy: 0.9182\n",
      "Epoch 74/100\n",
      "1/1 [==============================] - 0s 179ms/step - loss: 0.2957 - accuracy: 0.9190\n",
      "Epoch 75/100\n",
      "1/1 [==============================] - 0s 166ms/step - loss: 0.2935 - accuracy: 0.9194\n",
      "Epoch 76/100\n",
      "1/1 [==============================] - 0s 164ms/step - loss: 0.2913 - accuracy: 0.9200\n",
      "Epoch 77/100\n",
      "1/1 [==============================] - 0s 150ms/step - loss: 0.2892 - accuracy: 0.9204\n",
      "Epoch 78/100\n",
      "1/1 [==============================] - 0s 164ms/step - loss: 0.2872 - accuracy: 0.9212\n",
      "Epoch 79/100\n",
      "1/1 [==============================] - 0s 171ms/step - loss: 0.2851 - accuracy: 0.9215\n",
      "Epoch 80/100\n",
      "1/1 [==============================] - 0s 195ms/step - loss: 0.2832 - accuracy: 0.9221\n",
      "Epoch 81/100\n",
      "1/1 [==============================] - 0s 192ms/step - loss: 0.2813 - accuracy: 0.9227\n",
      "Epoch 82/100\n",
      "1/1 [==============================] - 0s 167ms/step - loss: 0.2794 - accuracy: 0.9229\n",
      "Epoch 83/100\n"
     ]
    },
    {
     "name": "stdout",
     "output_type": "stream",
     "text": [
      "1/1 [==============================] - 0s 167ms/step - loss: 0.2776 - accuracy: 0.9236\n",
      "Epoch 84/100\n",
      "1/1 [==============================] - 0s 184ms/step - loss: 0.2759 - accuracy: 0.9240\n",
      "Epoch 85/100\n",
      "1/1 [==============================] - 0s 181ms/step - loss: 0.2742 - accuracy: 0.9242\n",
      "Epoch 86/100\n",
      "1/1 [==============================] - 0s 160ms/step - loss: 0.2727 - accuracy: 0.9244\n",
      "Epoch 87/100\n",
      "1/1 [==============================] - 0s 164ms/step - loss: 0.2712 - accuracy: 0.9250\n",
      "Epoch 88/100\n",
      "1/1 [==============================] - 0s 198ms/step - loss: 0.2698 - accuracy: 0.9251\n",
      "Epoch 89/100\n",
      "1/1 [==============================] - 0s 176ms/step - loss: 0.2685 - accuracy: 0.9253\n",
      "Epoch 90/100\n",
      "1/1 [==============================] - 0s 162ms/step - loss: 0.2674 - accuracy: 0.9256\n",
      "Epoch 91/100\n",
      "1/1 [==============================] - 0s 160ms/step - loss: 0.2665 - accuracy: 0.9255\n",
      "Epoch 92/100\n",
      "1/1 [==============================] - 0s 160ms/step - loss: 0.2657 - accuracy: 0.9261\n",
      "Epoch 93/100\n",
      "1/1 [==============================] - 0s 145ms/step - loss: 0.2651 - accuracy: 0.9257\n",
      "Epoch 94/100\n",
      "1/1 [==============================] - 0s 136ms/step - loss: 0.2646 - accuracy: 0.9261\n",
      "Epoch 95/100\n",
      "1/1 [==============================] - 0s 153ms/step - loss: 0.2640 - accuracy: 0.9257\n",
      "Epoch 96/100\n",
      "1/1 [==============================] - 0s 137ms/step - loss: 0.2633 - accuracy: 0.9262\n",
      "Epoch 97/100\n",
      "1/1 [==============================] - 0s 134ms/step - loss: 0.2624 - accuracy: 0.9257\n",
      "Epoch 98/100\n",
      "1/1 [==============================] - 0s 150ms/step - loss: 0.2611 - accuracy: 0.9267\n",
      "Epoch 99/100\n",
      "1/1 [==============================] - 0s 173ms/step - loss: 0.2593 - accuracy: 0.9266\n",
      "Epoch 100/100\n",
      "1/1 [==============================] - 0s 160ms/step - loss: 0.2574 - accuracy: 0.9278\n",
      "Execution time: 18.27575159072876 seconds\n"
     ]
    }
   ],
   "source": [
    "model_wihtout_hm = get_model() \n",
    "st = time.time()\n",
    "model_wihtout_hm.fit(X_train_normalized, y_train, epochs = 100, verbose=1, batch_size=60000) \n",
    "et = time.time()\n",
    "elapsed_time = et - st\n",
    "print('Execution time:', elapsed_time, 'seconds')"
   ]
  },
  {
   "cell_type": "markdown",
   "metadata": {},
   "source": [
    "###### Testing the model"
   ]
  },
  {
   "cell_type": "code",
   "execution_count": 494,
   "metadata": {},
   "outputs": [
    {
     "name": "stdout",
     "output_type": "stream",
     "text": [
      "313/313 [==============================] - 0s 1ms/step - loss: 0.2549 - accuracy: 0.9273\n"
     ]
    },
    {
     "data": {
      "text/plain": [
       "[0.25491493940353394, 0.927299976348877]"
      ]
     },
     "execution_count": 494,
     "metadata": {},
     "output_type": "execute_result"
    }
   ],
   "source": [
    "model_wihtout_hm.evaluate(X_test_normalized, y_test)"
   ]
  },
  {
   "cell_type": "code",
   "execution_count": 495,
   "metadata": {},
   "outputs": [
    {
     "name": "stdout",
     "output_type": "stream",
     "text": [
      "313/313 [==============================] - 0s 1ms/step - loss: 0.2294 - accuracy: 0.9351\n"
     ]
    },
    {
     "data": {
      "text/plain": [
       "[0.22939303517341614, 0.9351000189781189]"
      ]
     },
     "execution_count": 495,
     "metadata": {},
     "output_type": "execute_result"
    }
   ],
   "source": [
    "model_hm.evaluate(X_test_normalized, y_test)\n",
    "#loss_and_metrics = model.evaluate(x_test, y_test, batch_size=32)\n",
    "#loss_and_metrics "
   ]
  },
  {
   "cell_type": "markdown",
   "metadata": {},
   "source": [
    "Let us predict for the first image in the testing set"
   ]
  },
  {
   "cell_type": "code",
   "execution_count": 496,
   "metadata": {},
   "outputs": [
    {
     "name": "stdout",
     "output_type": "stream",
     "text": [
      "313/313 [==============================] - 0s 891us/step\n"
     ]
    },
    {
     "data": {
      "text/plain": [
       "array([[4.8016939e-01, 1.3013861e-02, 5.8862287e-01, ..., 9.9991137e-01,\n",
       "        3.2274184e-01, 7.8353375e-01],\n",
       "       [6.8934160e-01, 1.3195622e-01, 9.9909955e-01, ..., 5.6098052e-04,\n",
       "        8.0692351e-01, 3.0766539e-03],\n",
       "       [3.7224628e-02, 9.9376047e-01, 6.3715553e-01, ..., 5.0301945e-01,\n",
       "        4.6549845e-01, 1.7701615e-01],\n",
       "       ...,\n",
       "       [6.0851490e-03, 2.7581269e-04, 6.8988129e-02, ..., 7.5437868e-01,\n",
       "        7.7836454e-01, 9.7885478e-01],\n",
       "       [9.4261117e-02, 1.8205628e-02, 3.5322413e-01, ..., 6.0682736e-02,\n",
       "        9.7702575e-01, 3.3876190e-03],\n",
       "       [7.7243012e-01, 5.3648323e-06, 5.7802999e-01, ..., 1.5050998e-03,\n",
       "        3.3461575e-03, 1.3529371e-03]], dtype=float32)"
      ]
     },
     "execution_count": 496,
     "metadata": {},
     "output_type": "execute_result"
    }
   ],
   "source": [
    "model_hm.predict(X_test_normalized)"
   ]
  },
  {
   "cell_type": "code",
   "execution_count": 497,
   "metadata": {},
   "outputs": [
    {
     "data": {
      "text/plain": [
       "<matplotlib.image.AxesImage at 0x1f500ae4310>"
      ]
     },
     "execution_count": 497,
     "metadata": {},
     "output_type": "execute_result"
    },
    {
     "data": {
      "image/png": "[encoded data removed]",
      "text/plain": [
       "<Figure size 288x288 with 1 Axes>"
      ]
     },
     "metadata": {
      "needs_background": "light"
     },
     "output_type": "display_data"
    }
   ],
   "source": [
    "plt.matshow(X_test[0])"
   ]
  },
  {
   "cell_type": "code",
   "execution_count": 498,
   "metadata": {},
   "outputs": [
    {
     "name": "stdout",
     "output_type": "stream",
     "text": [
      "313/313 [==============================] - 0s 869us/step\n"
     ]
    }
   ],
   "source": [
    "y_predicted = model_hm.predict(X_test_normalized)"
   ]
  },
  {
   "cell_type": "code",
   "execution_count": 499,
   "metadata": {},
   "outputs": [
    {
     "data": {
      "text/plain": [
       "array([0.4801694 , 0.01301386, 0.58862287, 0.9331859 , 0.02419996,\n",
       "       0.61536855, 0.00115461, 0.99991137, 0.32274184, 0.78353375],\n",
       "      dtype=float32)"
      ]
     },
     "execution_count": 499,
     "metadata": {},
     "output_type": "execute_result"
    }
   ],
   "source": [
    "y_predicted[0]\n",
    "# Displays the probability score for each class label. "
   ]
  },
  {
   "cell_type": "code",
   "execution_count": 500,
   "metadata": {},
   "outputs": [
    {
     "data": {
      "text/plain": [
       "7"
      ]
     },
     "execution_count": 500,
     "metadata": {},
     "output_type": "execute_result"
    }
   ],
   "source": [
    "np.argmax(y_predicted[0])"
   ]
  },
  {
   "cell_type": "markdown",
   "metadata": {},
   "source": [
    "###### Confusion matrix"
   ]
  },
  {
   "cell_type": "markdown",
   "metadata": {},
   "source": [
    "Convert the predicted probabilities into actual class labels to contruct confusion matrix"
   ]
  },
  {
   "cell_type": "code",
   "execution_count": 501,
   "metadata": {},
   "outputs": [
    {
     "data": {
      "text/plain": [
       "array([[4.8016939e-01, 1.3013861e-02, 5.8862287e-01, 9.3318588e-01,\n",
       "        2.4199959e-02, 6.1536855e-01, 1.1546100e-03, 9.9991137e-01,\n",
       "        3.2274184e-01, 7.8353375e-01],\n",
       "       [6.8934160e-01, 1.3195622e-01, 9.9909955e-01, 9.5600533e-01,\n",
       "        1.3914038e-03, 7.5206286e-01, 7.7033532e-01, 5.6098052e-04,\n",
       "        8.0692351e-01, 3.0766539e-03],\n",
       "       [3.7224628e-02, 9.9376047e-01, 6.3715553e-01, 4.8602861e-01,\n",
       "        1.0375075e-01, 1.2127804e-01, 2.5550789e-01, 5.0301945e-01,\n",
       "        4.6549845e-01, 1.7701615e-01],\n",
       "       [9.9989289e-01, 3.1264761e-05, 3.6919484e-01, 2.3084453e-01,\n",
       "        4.4047963e-03, 5.1702589e-01, 2.6259354e-01, 5.1271266e-01,\n",
       "        1.7374057e-01, 5.0714660e-01],\n",
       "       [1.6810973e-01, 8.3002361e-04, 4.5487142e-01, 3.0259518e-02,\n",
       "        9.9365252e-01, 3.8743429e-02, 4.5497832e-01, 5.9841317e-01,\n",
       "        4.6195814e-01, 9.1401708e-01]], dtype=float32)"
      ]
     },
     "execution_count": 501,
     "metadata": {},
     "output_type": "execute_result"
    }
   ],
   "source": [
    "y_predicted[:5]"
   ]
  },
  {
   "cell_type": "code",
   "execution_count": 502,
   "metadata": {},
   "outputs": [
    {
     "data": {
      "text/plain": [
       "[7, 2, 1, 0, 4]"
      ]
     },
     "execution_count": 502,
     "metadata": {},
     "output_type": "execute_result"
    }
   ],
   "source": [
    "y_predicted_labels = [np.argmax(i) for i in y_predicted]\n",
    "y_predicted_labels[:5]"
   ]
  },
  {
   "cell_type": "code",
   "execution_count": 503,
   "metadata": {},
   "outputs": [
    {
     "data": {
      "text/plain": [
       "<tf.Tensor: shape=(10, 10), dtype=int32, numpy=\n",
       "array([[ 963,    0,    2,    2,    0,    5,    6,    1,    1,    0],\n",
       "       [   0, 1118,    4,    1,    1,    1,    3,    1,    6,    0],\n",
       "       [  10,    3,  955,   19,    7,    0,    9,    9,   17,    3],\n",
       "       [   3,    1,   14,  946,    1,   14,    1,   15,   11,    4],\n",
       "       [   1,    0,    8,    0,  933,    0,   10,    5,    5,   20],\n",
       "       [   8,    1,    2,   36,    5,  797,   15,    5,   16,    7],\n",
       "       [  10,    3,    9,    2,    8,    7,  917,    1,    1,    0],\n",
       "       [   2,   15,   20,    6,    5,    0,    0,  956,    2,   22],\n",
       "       [   8,    4,   11,   26,   14,   17,   10,   12,  861,   11],\n",
       "       [  11,    6,    1,   14,   37,    5,    0,   26,    4,  905]])>"
      ]
     },
     "execution_count": 503,
     "metadata": {},
     "output_type": "execute_result"
    }
   ],
   "source": [
    "cm = tf.math.confusion_matrix(labels = y_test, predictions = y_predicted_labels)\n",
    "cm"
   ]
  },
  {
   "cell_type": "markdown",
   "metadata": {},
   "source": [
    "Plot this matrix"
   ]
  },
  {
   "cell_type": "code",
   "execution_count": 504,
   "metadata": {
    "scrolled": true
   },
   "outputs": [
    {
     "data": {
      "text/plain": [
       "Text(69.0, 0.5, 'Truth')"
      ]
     },
     "execution_count": 504,
     "metadata": {},
     "output_type": "execute_result"
    },
    {
     "data": {
      "image/png": "[encoded data removed]",
      "text/plain": [
       "<Figure size 720x504 with 2 Axes>"
      ]
     },
     "metadata": {
      "needs_background": "light"
     },
     "output_type": "display_data"
    }
   ],
   "source": [
    "import seaborn as sn\n",
    "plt.figure(figsize = (10,7))\n",
    "sn.heatmap(cm, annot=True, fmt = 'd')\n",
    "plt.xlabel('Predicted')\n",
    "plt.ylabel('Truth')"
   ]
  }
 ],
 "metadata": {
  "kernelspec": {
   "display_name": "Python 3 (ipykernel)",
   "language": "python",
   "name": "python3"
  },
  "language_info": {
   "codemirror_mode": {
    "name": "ipython",
    "version": 3
   },
   "file_extension": ".py",
   "mimetype": "text/x-python",
   "name": "python",
   "nbconvert_exporter": "python",
   "pygments_lexer": "ipython3",
   "version": "3.9.13"
  }
 },
 "nbformat": 4,
 "nbformat_minor": 4
}
