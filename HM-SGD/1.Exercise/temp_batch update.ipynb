{
 "cells": [
  {
   "cell_type": "markdown",
   "id": "73905155",
   "metadata": {},
   "source": [
    "On every epoch end"
   ]
  },
  {
   "cell_type": "code",
   "execution_count": null,
   "id": "4f70211d",
   "metadata": {},
   "outputs": [],
   "source": [
    "class CustomCallbackHM(Callback):  \n",
    "    # Stop the algorithm when the following accuracy reached \n",
    "    stop_at = 0.993  \n",
    "    every = 13\n",
    "    counter = 1 \n",
    "    num_layers = 0\n",
    "    previous_weights = 0\n",
    "    call_hm = 0   \n",
    "    \n",
    "    def on_train_begin(self, logs=None):\n",
    "        # Harmonic mean based weights calculation method invocation\n",
    "        self.call_hm = np.vectorize(self.apply_hm)   \n",
    "        self.num_layers = len(model_hm.layers)\n",
    "\n",
    "    def on_train_batch_end(self, epoch, logs={}):         \n",
    "        # To access the weights of a model at second last step\n",
    "        if self.counter == self.every-1:\n",
    "          self.previous_weights = model_hm.get_weights() \n",
    "          self.previous_weights = np.array(self.previous_weights, dtype=object) \n",
    "        self.counter = self.counter + 1\n",
    "        \n",
    "    def on_epoch_end(self, epoch, logs={}): \n",
    "        # Training stop criteria\n",
    "        if(logs.get('accuracy')> self.stop_at):  \n",
    "            self.model.stop_training = True\n",
    "            \n",
    "        # To access the weights of a model at last step \n",
    "        current_weights = model_hm.get_weights() \n",
    "        current_weights = np.array(current_weights, dtype=object)     \n",
    "            \n",
    "        for i in range(self.num_layers):  \n",
    "            # Harmonic mean based weights calculation\n",
    "            tensor1 = tf.convert_to_tensor(self.previous_weights[i*2])\n",
    "            tensor2 = tf.convert_to_tensor(current_weights[i*2])\n",
    "            current_weights[i*2] = self.call_hm(tensor1, tensor2)   \n",
    "            \n",
    "        # Updating the model with new weights\n",
    "        model_hm.set_weights(current_weights.tolist()) \n",
    "        self.counter = 1 \n",
    "        \n",
    "    def apply_hm(self, v1, v2):     \n",
    "        if v1==0 or v2==0:\n",
    "            return v2\n",
    "        elif v1>0 and v2>0:\n",
    "            hm = 2*v1*v2/(v1+v2)\n",
    "            min1 = min(v1,v2)\n",
    "            diff = abs(hm-min1)\n",
    "            if v2 > v1:\n",
    "                return v2 + diff\n",
    "            else:\n",
    "                return v2 - diff\n",
    "        elif v1<0 and v2<0:\n",
    "            hm = 2*v1*v2/(v1+v2)\n",
    "            max1 = max(v1,v2)\n",
    "            diff = abs(hm-max1)\n",
    "            if v2 > v1:\n",
    "                return v2 + diff\n",
    "            else:\n",
    "                return v2 - diff\n",
    "        else:\n",
    "            return v2  "
   ]
  },
  {
   "cell_type": "markdown",
   "id": "0b065e18",
   "metadata": {},
   "source": [
    "on every specific set of batches"
   ]
  },
  {
   "cell_type": "code",
   "execution_count": null,
   "id": "84ec6b7c",
   "metadata": {},
   "outputs": [],
   "source": [
    "class CustomCallbackHM(Callback):  \n",
    "    # Stop the algorithm when the following accuracy reached \n",
    "    stop_at = 0.995  \n",
    "    every = 300\n",
    "    counter = 1\n",
    "    initial_weights = 0\n",
    "    previous_weights = 0\n",
    "    call_hm = 0 \n",
    "\n",
    "    def on_train_batch_end(self, epoch, logs={}): \n",
    "        if self.counter == self.every-1:\n",
    "          self.initial_weights = model_hm.get_weights() \n",
    "          self.initial_weights = np.array(self.initial_weights, dtype=object) \n",
    "          # Harmonic mean based weights calculation\n",
    "          self.call_hm = np.vectorize(self.apply_hm)  \n",
    "\n",
    "        if self.counter % self.every == 0:   \n",
    "          current_weights = model_hm.get_weights() \n",
    "          current_weights = np.array(current_weights, dtype=object)      \n",
    "\n",
    "          tensor1 = tf.convert_to_tensor(self.initial_weights[4])\n",
    "          tensor2 = tf.convert_to_tensor(current_weights[4])\n",
    "          current_weights[4] = self.call_hm(tensor1, tensor2)\n",
    "\n",
    "          tensor1 = tf.convert_to_tensor(self.initial_weights[6])\n",
    "          tensor2 = tf.convert_to_tensor(current_weights[6])\n",
    "          current_weights[6] = self.call_hm(tensor1, tensor2) \n",
    "\n",
    "          tensor1 = tf.convert_to_tensor(self.initial_weights[8])\n",
    "          tensor2 = tf.convert_to_tensor(current_weights[8])\n",
    "          current_weights[8] = self.call_hm(tensor1, tensor2)        \n",
    "               \n",
    "          # Updating the model with new weights   \n",
    "          model_hm.set_weights(current_weights.tolist())\n",
    "        self.counter = self.counter + 1\n",
    "\n",
    "    def on_epoch_end(self, epoch, logs=None): \n",
    "        self.counter = 1\n",
    "        # Training stop criteria\n",
    "        if(logs.get('accuracy')> self.stop_at):  \n",
    "            self.model.stop_training = True\n",
    "\n",
    "    def apply_hm(self, v1, v2):     \n",
    "        if v1==0 or v2==0:\n",
    "            return v2\n",
    "        elif v1>0 and v2>0:\n",
    "            hm = 2*v1*v2/(v1+v2)\n",
    "            min1 = min(v1,v2)\n",
    "            diff = abs(hm-min1)\n",
    "            if v2 > v1:\n",
    "                return v2 + diff\n",
    "            else:\n",
    "                return v2 - diff\n",
    "        elif v1<0 and v2<0:\n",
    "            hm = 2*v1*v2/(v1+v2)\n",
    "            max1 = max(v1,v2)\n",
    "            diff = abs(hm-max1)\n",
    "            if v2 > v1:\n",
    "                return v2 + diff\n",
    "            else:\n",
    "                return v2 - diff\n",
    "        else:\n",
    "            return v2  "
   ]
  },
  {
   "cell_type": "code",
   "execution_count": 4,
   "id": "d4827924",
   "metadata": {},
   "outputs": [
    {
     "data": {
      "text/plain": [
       "False"
      ]
     },
     "execution_count": 4,
     "metadata": {},
     "output_type": "execute_result"
    }
   ],
   "source": [
    "0 < 0"
   ]
  }
 ],
 "metadata": {
  "kernelspec": {
   "display_name": "Python 3",
   "language": "python",
   "name": "python3"
  },
  "language_info": {
   "codemirror_mode": {
    "name": "ipython",
    "version": 3
   },
   "file_extension": ".py",
   "mimetype": "text/x-python",
   "name": "python",
   "nbconvert_exporter": "python",
   "pygments_lexer": "ipython3",
   "version": "3.8.5"
  }
 },
 "nbformat": 4,
 "nbformat_minor": 5
}
