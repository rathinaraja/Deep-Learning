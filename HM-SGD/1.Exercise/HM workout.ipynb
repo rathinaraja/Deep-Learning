{
 "cells": [
  {
   "cell_type": "code",
   "execution_count": 1,
   "metadata": {},
   "outputs": [],
   "source": [
    "import numpy as np"
   ]
  },
  {
   "cell_type": "markdown",
   "metadata": {},
   "source": [
    "#### Array operations"
   ]
  },
  {
   "cell_type": "code",
   "execution_count": 2,
   "metadata": {},
   "outputs": [],
   "source": [
    "array1 = np.array([[2,2],[3,3]])\n",
    "array2 = np.array([[4,4],[5,5]])"
   ]
  },
  {
   "cell_type": "code",
   "execution_count": 3,
   "metadata": {},
   "outputs": [
    {
     "data": {
      "text/plain": [
       "(array([[2, 2],\n",
       "        [3, 3]]),\n",
       " array([[4, 4],\n",
       "        [5, 5]]))"
      ]
     },
     "execution_count": 3,
     "metadata": {},
     "output_type": "execute_result"
    }
   ],
   "source": [
    "array1, array2"
   ]
  },
  {
   "cell_type": "code",
   "execution_count": 4,
   "metadata": {},
   "outputs": [
    {
     "data": {
      "text/plain": [
       "array([[6, 6],\n",
       "       [8, 8]])"
      ]
     },
     "execution_count": 4,
     "metadata": {},
     "output_type": "execute_result"
    }
   ],
   "source": [
    "array1 + array2"
   ]
  },
  {
   "cell_type": "code",
   "execution_count": 5,
   "metadata": {},
   "outputs": [
    {
     "data": {
      "text/plain": [
       "array([[ 8,  8],\n",
       "       [15, 15]])"
      ]
     },
     "execution_count": 5,
     "metadata": {},
     "output_type": "execute_result"
    }
   ],
   "source": [
    "array1 * array2"
   ]
  },
  {
   "cell_type": "code",
   "execution_count": 6,
   "metadata": {},
   "outputs": [
    {
     "data": {
      "text/plain": [
       "array([[0.5, 0.5],\n",
       "       [0.6, 0.6]])"
      ]
     },
     "execution_count": 6,
     "metadata": {},
     "output_type": "execute_result"
    }
   ],
   "source": [
    "array1 / array2"
   ]
  },
  {
   "cell_type": "code",
   "execution_count": 7,
   "metadata": {},
   "outputs": [
    {
     "data": {
      "text/plain": [
       "array([[16, 16],\n",
       "       [30, 30]])"
      ]
     },
     "execution_count": 7,
     "metadata": {},
     "output_type": "execute_result"
    }
   ],
   "source": [
    "2*(array1 * array2)"
   ]
  },
  {
   "cell_type": "code",
   "execution_count": 8,
   "metadata": {},
   "outputs": [
    {
     "data": {
      "text/plain": [
       "array([[2.66666667, 2.66666667],\n",
       "       [3.75      , 3.75      ]])"
      ]
     },
     "execution_count": 8,
     "metadata": {},
     "output_type": "execute_result"
    }
   ],
   "source": [
    "updated = 2*(array1 * array2)/(array1 + array2)\n",
    "updated"
   ]
  },
  {
   "cell_type": "code",
   "execution_count": 9,
   "metadata": {},
   "outputs": [
    {
     "data": {
      "text/plain": [
       "array([[False, False],\n",
       "       [False, False]])"
      ]
     },
     "execution_count": 9,
     "metadata": {},
     "output_type": "execute_result"
    }
   ],
   "source": [
    "array1 > array2"
   ]
  },
  {
   "cell_type": "markdown",
   "metadata": {},
   "source": [
    "#### HM calculation"
   ]
  },
  {
   "cell_type": "code",
   "execution_count": 10,
   "metadata": {},
   "outputs": [
    {
     "data": {
      "text/plain": [
       "0.0836551"
      ]
     },
     "execution_count": 10,
     "metadata": {},
     "output_type": "execute_result"
    }
   ],
   "source": [
    "num1 = 0.08365510\n",
    "num2 = 0.08365510\n",
    "2*num1*num2/(num1+num2)"
   ]
  },
  {
   "cell_type": "code",
   "execution_count": 11,
   "metadata": {},
   "outputs": [
    {
     "data": {
      "text/plain": [
       "2.949989597322844e-07"
      ]
     },
     "execution_count": 11,
     "metadata": {},
     "output_type": "execute_result"
    }
   ],
   "source": [
    "abs(0.08365510 - 0.08365539499895973)"
   ]
  },
  {
   "cell_type": "code",
   "execution_count": 12,
   "metadata": {},
   "outputs": [
    {
     "data": {
      "text/plain": [
       "0.08365480500104026"
      ]
     },
     "execution_count": 12,
     "metadata": {},
     "output_type": "execute_result"
    }
   ],
   "source": [
    "0.08365510-2.949989597322844e-07"
   ]
  },
  {
   "cell_type": "code",
   "execution_count": 13,
   "metadata": {},
   "outputs": [
    {
     "data": {
      "text/plain": [
       "False"
      ]
     },
     "execution_count": 13,
     "metadata": {},
     "output_type": "execute_result"
    }
   ],
   "source": [
    "-4 > -2"
   ]
  },
  {
   "cell_type": "code",
   "execution_count": 14,
   "metadata": {},
   "outputs": [],
   "source": [
    "array1 = np.array([[2,5],[3,3]])\n",
    "array2 = np.array([[4,4],[5,5]])"
   ]
  },
  {
   "cell_type": "code",
   "execution_count": 15,
   "metadata": {},
   "outputs": [
    {
     "data": {
      "text/plain": [
       "array([[2.66666667, 4.44444444],\n",
       "       [3.75      , 3.75      ]])"
      ]
     },
     "execution_count": 15,
     "metadata": {},
     "output_type": "execute_result"
    }
   ],
   "source": [
    "hm = 2*(array1 * array2)/(array1 + array2)\n",
    "hm"
   ]
  },
  {
   "cell_type": "code",
   "execution_count": 16,
   "metadata": {},
   "outputs": [
    {
     "data": {
      "text/plain": [
       "array([[ True, False],\n",
       "       [ True,  True]])"
      ]
     },
     "execution_count": 16,
     "metadata": {},
     "output_type": "execute_result"
    }
   ],
   "source": [
    "array2 > array1"
   ]
  },
  {
   "cell_type": "code",
   "execution_count": 18,
   "metadata": {},
   "outputs": [
    {
     "data": {
      "text/plain": [
       "(0.5, 10.0)"
      ]
     },
     "execution_count": 18,
     "metadata": {},
     "output_type": "execute_result"
    }
   ],
   "source": [
    "math.modf(10.5)"
   ]
  },
  {
   "cell_type": "code",
   "execution_count": 21,
   "metadata": {},
   "outputs": [
    {
     "data": {
      "text/plain": [
       "array([[2., 4.],\n",
       "       [3., 3.]])"
      ]
     },
     "execution_count": 21,
     "metadata": {},
     "output_type": "execute_result"
    }
   ],
   "source": [
    "import math\n",
    "def apply(num):\n",
    "    return math.modf(num)[1]\n",
    "    \n",
    "temp = np.vectorize(apply)\n",
    "temp(hm)"
   ]
  },
  {
   "cell_type": "code",
   "execution_count": 22,
   "metadata": {},
   "outputs": [
    {
     "data": {
      "text/plain": [
       "array([[0.66666667, 0.44444444],\n",
       "       [0.75      , 0.75      ]])"
      ]
     },
     "execution_count": 22,
     "metadata": {},
     "output_type": "execute_result"
    }
   ],
   "source": [
    "def apply1(num):\n",
    "    return math.modf(num)[0]\n",
    "    \n",
    "temp = np.vectorize(apply1)\n",
    "temp(hm)"
   ]
  },
  {
   "cell_type": "code",
   "execution_count": 23,
   "metadata": {},
   "outputs": [
    {
     "data": {
      "text/plain": [
       "array([[ 0.75 , -0.212]])"
      ]
     },
     "execution_count": 23,
     "metadata": {},
     "output_type": "execute_result"
    }
   ],
   "source": [
    "arr = [[1.75, -0.212]]\n",
    "temp(arr)"
   ]
  },
  {
   "cell_type": "code",
   "execution_count": 24,
   "metadata": {},
   "outputs": [
    {
     "data": {
      "text/plain": [
       "(array([[ 2,  1,  3],\n",
       "        [-4,  0,  7]]),\n",
       " array([[ 0. , -0.5,  1. ],\n",
       "        [-6. , -2. ,  5. ]]))"
      ]
     },
     "execution_count": 24,
     "metadata": {},
     "output_type": "execute_result"
    }
   ],
   "source": [
    "arr1 = np.array([[2,1,3],[-4,0,7]])\n",
    "#arr2 = np.array([[4,3,5],[-2,2,9]])\n",
    "arr2 = np.array([[0,-0.5,1],[-6,-2,5]])\n",
    "arr1, arr2"
   ]
  },
  {
   "cell_type": "code",
   "execution_count": 25,
   "metadata": {},
   "outputs": [
    {
     "data": {
      "text/plain": [
       "array([[ 0.        , -2.        ,  1.5       ],\n",
       "       [-4.8       ,  0.        ,  5.83333333]])"
      ]
     },
     "execution_count": 25,
     "metadata": {},
     "output_type": "execute_result"
    }
   ],
   "source": [
    "hm = 2*arr1*arr2/(arr1+arr2)\n",
    "hm"
   ]
  },
  {
   "cell_type": "code",
   "execution_count": 26,
   "metadata": {},
   "outputs": [],
   "source": [
    "def apply_gm(v1,v2): \n",
    "    \n",
    "    if v1==0 or v2==0:\n",
    "        return v2\n",
    "    \n",
    "    elif v1>0 and v2>0:\n",
    "        hm = 2*v1*v2/(v1+v2)\n",
    "        min1 = min(v1,v2)\n",
    "        diff = abs(hm-min1)\n",
    "        if v2 > v1:\n",
    "            return v2 + diff\n",
    "        else:\n",
    "            return v2 - diff\n",
    "        \n",
    "    elif v1<0 and v2<0:\n",
    "        hm = 2*v1*v2/(v1+v2)\n",
    "        max1 = max(v1,v2)\n",
    "        diff = abs(hm-max1)\n",
    "        if v2 > v1:\n",
    "            return v2 + diff\n",
    "        else:\n",
    "            return v2 - diff\n",
    "    else:\n",
    "        return v2\n",
    " \n",
    "call = np.vectorize(apply_gm)"
   ]
  },
  {
   "cell_type": "code",
   "execution_count": 182,
   "metadata": {},
   "outputs": [
    {
     "data": {
      "text/plain": [
       "array([[ 0.        , -0.5       ,  0.5       ],\n",
       "       [-6.8       , -2.        ,  4.16666667]])"
      ]
     },
     "execution_count": 182,
     "metadata": {},
     "output_type": "execute_result"
    }
   ],
   "source": [
    "call(arr1, arr2)"
   ]
  },
  {
   "cell_type": "code",
   "execution_count": 156,
   "metadata": {},
   "outputs": [
    {
     "data": {
      "text/plain": [
       "array(5.83168509e-24)"
      ]
     },
     "execution_count": 156,
     "metadata": {},
     "output_type": "execute_result"
    }
   ],
   "source": [
    "call(0.000000000000001, 0.000000000000000000054)"
   ]
  },
  {
   "cell_type": "code",
   "execution_count": 28,
   "metadata": {},
   "outputs": [],
   "source": [
    "def meth(num1, num2):\n",
    "    print(\"num1: \", num1, \"num2: \", num2, \"  \",2*num1*num2/(num1+num2))"
   ]
  },
  {
   "cell_type": "code",
   "execution_count": 29,
   "metadata": {},
   "outputs": [
    {
     "name": "stdout",
     "output_type": "stream",
     "text": [
      "num1:  -3 num2:  -7    -4.2\n",
      "num1:  -7 num2:  -3    -4.2\n",
      "num1:  -3 num2:  7    -10.5\n",
      "num1:  7 num2:  -3    -10.5\n",
      "num1:  3 num2:  -7    10.5\n",
      "num1:  -7 num2:  3    10.5\n",
      "num1:  3 num2:  3    3.0\n",
      "num1:  -3 num2:  -3    -3.0\n",
      "num1:  7 num2:  7    7.0\n",
      "num1:  -7 num2:  -7    -7.0\n"
     ]
    }
   ],
   "source": [
    "call(3, 7)\n",
    "call(7, 3)\n",
    "meth(-3, -7)\n",
    "meth(-7, -3)\n",
    "meth(-3, 7)\n",
    "meth(7, -3)\n",
    "meth(3, -7)\n",
    "meth(-7, 3)\n",
    "meth(3, 3)\n",
    "meth(-3,-3)\n",
    "meth(7, 7)\n",
    "meth(-7, -7)"
   ]
  },
  {
   "cell_type": "code",
   "execution_count": 30,
   "metadata": {},
   "outputs": [
    {
     "data": {
      "text/plain": [
       "True"
      ]
     },
     "execution_count": 30,
     "metadata": {},
     "output_type": "execute_result"
    }
   ],
   "source": [
    "3>=0 and 4 >=0"
   ]
  },
  {
   "cell_type": "code",
   "execution_count": 32,
   "metadata": {},
   "outputs": [
    {
     "data": {
      "text/plain": [
       "(array([[2, 5],\n",
       "        [3, 3]]),\n",
       " array([[4, 4],\n",
       "        [5, 5]]))"
      ]
     },
     "execution_count": 32,
     "metadata": {},
     "output_type": "execute_result"
    }
   ],
   "source": [
    "array1, array2"
   ]
  },
  {
   "cell_type": "code",
   "execution_count": 110,
   "metadata": {},
   "outputs": [],
   "source": [
    "num1 = np.array([[-2, 1, 1, 2], [-2, 2, -1, -1]], dtype = 'float32')\n",
    "num2 = np.array([[1, -2, 2, 1], [-1, -1, -2, 2]], dtype = 'float32')"
   ]
  },
  {
   "cell_type": "code",
   "execution_count": 111,
   "metadata": {},
   "outputs": [
    {
     "data": {
      "text/plain": [
       "array([[ True, False,  True, False],\n",
       "       [ True, False, False,  True]])"
      ]
     },
     "execution_count": 111,
     "metadata": {},
     "output_type": "execute_result"
    }
   ],
   "source": [
    "output = num1 < num2\n",
    "output"
   ]
  },
  {
   "cell_type": "code",
   "execution_count": 112,
   "metadata": {},
   "outputs": [
    {
     "data": {
      "text/plain": [
       "array([[1.3333334, 1.3333334, 1.3333334, 1.3333334],\n",
       "       [1.3333334, 1.3333334, 1.3333334, 1.3333334]], dtype=float32)"
      ]
     },
     "execution_count": 112,
     "metadata": {},
     "output_type": "execute_result"
    }
   ],
   "source": [
    "hm = 2*abs(num1)*abs(num2)/(abs(num1)+abs(num2))\n",
    "hm"
   ]
  },
  {
   "cell_type": "code",
   "execution_count": 113,
   "metadata": {},
   "outputs": [
    {
     "data": {
      "text/plain": [
       "(array([[0.33333337, 0.33333337, 0.33333337, 0.33333337],\n",
       "        [0.33333337, 0.33333337, 0.33333337, 0.33333337]], dtype=float32),\n",
       " array([[1., 1., 1., 1.],\n",
       "        [1., 1., 1., 1.]], dtype=float32))"
      ]
     },
     "execution_count": 113,
     "metadata": {},
     "output_type": "execute_result"
    }
   ],
   "source": [
    "np.modf(hm)"
   ]
  },
  {
   "cell_type": "code",
   "execution_count": 114,
   "metadata": {},
   "outputs": [
    {
     "data": {
      "text/plain": [
       "array([[0.33333337, 0.33333337, 0.33333337, 0.33333337],\n",
       "       [0.33333337, 0.33333337, 0.33333337, 0.33333337]], dtype=float32)"
      ]
     },
     "execution_count": 114,
     "metadata": {},
     "output_type": "execute_result"
    }
   ],
   "source": [
    "decimal = np.modf(hm)[0]\n",
    "decimal"
   ]
  },
  {
   "cell_type": "code",
   "execution_count": 115,
   "metadata": {},
   "outputs": [
    {
     "data": {
      "text/plain": [
       "(array([[-2.,  1.,  1.,  2.],\n",
       "        [-2.,  2., -1., -1.]], dtype=float32),\n",
       " array([[ 1., -2.,  2.,  1.],\n",
       "        [-1., -1., -2.,  2.]], dtype=float32),\n",
       " array([[ True, False,  True, False],\n",
       "        [ True, False, False,  True]]))"
      ]
     },
     "execution_count": 115,
     "metadata": {},
     "output_type": "execute_result"
    }
   ],
   "source": [
    "num1, num2, output"
   ]
  },
  {
   "cell_type": "code",
   "execution_count": 116,
   "metadata": {},
   "outputs": [
    {
     "data": {
      "text/plain": [
       "array([ 1.,  2., -1.,  2.], dtype=float32)"
      ]
     },
     "execution_count": 116,
     "metadata": {},
     "output_type": "execute_result"
    }
   ],
   "source": [
    "num2[output] "
   ]
  },
  {
   "cell_type": "code",
   "execution_count": 117,
   "metadata": {},
   "outputs": [
    {
     "data": {
      "text/plain": [
       "array([[ 1.3333334, -2.       ,  2.3333335,  1.       ],\n",
       "       [-0.6666666, -1.       , -2.       ,  2.3333335]], dtype=float32)"
      ]
     },
     "execution_count": 117,
     "metadata": {},
     "output_type": "execute_result"
    }
   ],
   "source": [
    "num2[output] = num2[output] + decimal[output]\n",
    "num2"
   ]
  },
  {
   "cell_type": "code",
   "execution_count": 118,
   "metadata": {},
   "outputs": [
    {
     "data": {
      "text/plain": [
       "array([[ 1.3333334, -2.3333335,  2.3333335,  0.6666666],\n",
       "       [-0.6666666, -1.3333334, -2.3333335,  2.3333335]], dtype=float32)"
      ]
     },
     "execution_count": 118,
     "metadata": {},
     "output_type": "execute_result"
    }
   ],
   "source": [
    "num2[~output] = num2[~output] - decimal[~output]\n",
    "num2 "
   ]
  },
  {
   "cell_type": "code",
   "execution_count": 49,
   "metadata": {},
   "outputs": [
    {
     "data": {
      "text/plain": [
       "<tf.Tensor: shape=(2, 4), dtype=int32, numpy=\n",
       "array([[-1, -1,  3,  3],\n",
       "       [-3,  1, -3,  1]])>"
      ]
     },
     "execution_count": 49,
     "metadata": {},
     "output_type": "execute_result"
    }
   ],
   "source": [
    "import tensorflow as tf \n",
    "A = tf.convert_to_tensor([[-2, 1, 1, 2], [-2, 2, -1, -1]])\n",
    "B = tf.convert_to_tensor([[1, -2, 2, 1], [-1, -1, -2, 2]])\n",
    "tf.add(A, B)"
   ]
  },
  {
   "cell_type": "code",
   "execution_count": 50,
   "metadata": {},
   "outputs": [
    {
     "data": {
      "text/plain": [
       "(<tf.Tensor: shape=(2, 4), dtype=int32, numpy=\n",
       " array([[-2,  1,  1,  2],\n",
       "        [-2,  2, -1, -1]])>,\n",
       " <tf.Tensor: shape=(2, 4), dtype=int32, numpy=\n",
       " array([[ 1, -2,  2,  1],\n",
       "        [-1, -1, -2,  2]])>)"
      ]
     },
     "execution_count": 50,
     "metadata": {},
     "output_type": "execute_result"
    }
   ],
   "source": [
    "A, B"
   ]
  },
  {
   "cell_type": "code",
   "execution_count": 69,
   "metadata": {},
   "outputs": [
    {
     "data": {
      "text/plain": [
       "array([[-2,  1,  1,  2],\n",
       "       [-2,  2, -1, -1]])"
      ]
     },
     "execution_count": 69,
     "metadata": {},
     "output_type": "execute_result"
    }
   ],
   "source": [
    "A.numpy()"
   ]
  },
  {
   "cell_type": "code",
   "execution_count": 72,
   "metadata": {},
   "outputs": [
    {
     "data": {
      "text/plain": [
       "<tf.Tensor: shape=(), dtype=bool, numpy=True>"
      ]
     },
     "execution_count": 72,
     "metadata": {},
     "output_type": "execute_result"
    }
   ],
   "source": [
    "output =  A < B \n",
    "output[0][0]"
   ]
  },
  {
   "cell_type": "code",
   "execution_count": 59,
   "metadata": {},
   "outputs": [
    {
     "data": {
      "text/plain": [
       "tensorflow.python.framework.ops.EagerTensor"
      ]
     },
     "execution_count": 59,
     "metadata": {},
     "output_type": "execute_result"
    }
   ],
   "source": [
    "type(A)"
   ]
  },
  {
   "cell_type": "code",
   "execution_count": 68,
   "metadata": {},
   "outputs": [
    {
     "data": {
      "text/plain": [
       "array([[-2,  1,  1,  2],\n",
       "       [-2,  2, -1, -1]])"
      ]
     },
     "execution_count": 68,
     "metadata": {},
     "output_type": "execute_result"
    }
   ],
   "source": [
    "A.numpy()"
   ]
  },
  {
   "cell_type": "code",
   "execution_count": 71,
   "metadata": {},
   "outputs": [
    {
     "data": {
      "text/plain": [
       "<tf.Tensor: shape=(4, 2), dtype=int64, numpy=\n",
       "array([[0, 0],\n",
       "       [0, 2],\n",
       "       [1, 0],\n",
       "       [1, 3]], dtype=int64)>"
      ]
     },
     "execution_count": 71,
     "metadata": {},
     "output_type": "execute_result"
    }
   ],
   "source": [
    "tf.where(A<B)"
   ]
  },
  {
   "cell_type": "code",
   "execution_count": 43,
   "metadata": {},
   "outputs": [
    {
     "data": {
      "text/plain": [
       "array([[1.3333334, 1.3333334, 1.3333334, 1.3333334],\n",
       "       [1.3333334, 1.3333334, 1.3333334, 1.3333334]], dtype=float32)"
      ]
     },
     "execution_count": 43,
     "metadata": {},
     "output_type": "execute_result"
    }
   ],
   "source": [
    "hm = 2*t1*t2/(t1+t2)\n",
    "hm"
   ]
  },
  {
   "cell_type": "code",
   "execution_count": null,
   "metadata": {},
   "outputs": [],
   "source": []
  },
  {
   "cell_type": "code",
   "execution_count": 128,
   "metadata": {},
   "outputs": [],
   "source": [
    "v1 = np.array([[-2, 2, 1, 2], [-2, 2, -1, -1]], dtype = 'float32')\n",
    "v2 = np.array([[1, -2, 2, np.nan], [-1, np.nan, -2, 2]], dtype = 'float32')"
   ]
  },
  {
   "cell_type": "code",
   "execution_count": 129,
   "metadata": {},
   "outputs": [
    {
     "data": {
      "text/plain": [
       "(array([[-2.,  2.,  1.,  2.],\n",
       "        [-2.,  2., -1., -1.]], dtype=float32),\n",
       " array([[ 1., -2.,  2., nan],\n",
       "        [-1., nan, -2.,  2.]], dtype=float32))"
      ]
     },
     "execution_count": 129,
     "metadata": {},
     "output_type": "execute_result"
    }
   ],
   "source": [
    "v1, v2"
   ]
  },
  {
   "cell_type": "code",
   "execution_count": 130,
   "metadata": {},
   "outputs": [
    {
     "data": {
      "text/plain": [
       "array([[False, False, False,  True],\n",
       "       [False,  True, False, False]])"
      ]
     },
     "execution_count": 130,
     "metadata": {},
     "output_type": "execute_result"
    }
   ],
   "source": [
    "nan_flag = np.isnan(v2) \n",
    "nan_flag"
   ]
  },
  {
   "cell_type": "code",
   "execution_count": 132,
   "metadata": {},
   "outputs": [
    {
     "data": {
      "text/plain": [
       "array([[ 1., -2.,  2.,  2.],\n",
       "       [-1.,  2., -2.,  2.]], dtype=float32)"
      ]
     },
     "execution_count": 132,
     "metadata": {},
     "output_type": "execute_result"
    }
   ],
   "source": [
    "v2[nan_flag] = v1[nan_flag]\n",
    "v2"
   ]
  },
  {
   "cell_type": "code",
   "execution_count": 134,
   "metadata": {},
   "outputs": [
    {
     "data": {
      "text/plain": [
       "('hi', 'hi')"
      ]
     },
     "execution_count": 134,
     "metadata": {},
     "output_type": "execute_result"
    }
   ],
   "source": [
    "a = b = 'hi'\n",
    "a, b"
   ]
  },
  {
   "cell_type": "code",
   "execution_count": 153,
   "metadata": {},
   "outputs": [],
   "source": [
    "a = np.array([-1, 0, np.nan, 2, 3], dtype=float)\n",
    "b = np.array([ 0, np.nan, 0, 2, 2], dtype=float)"
   ]
  },
  {
   "cell_type": "code",
   "execution_count": 154,
   "metadata": {},
   "outputs": [
    {
     "ename": "ValueError",
     "evalue": "The truth value of an array with more than one element is ambiguous. Use a.any() or a.all()",
     "output_type": "error",
     "traceback": [
      "\u001b[1;31m---------------------------------------------------------------------------\u001b[0m",
      "\u001b[1;31mValueError\u001b[0m                                Traceback (most recent call last)",
      "Input \u001b[1;32mIn [154]\u001b[0m, in \u001b[0;36m<cell line: 3>\u001b[1;34m()\u001b[0m\n\u001b[0;32m      1\u001b[0m num \u001b[38;5;241m=\u001b[39m \u001b[38;5;241m2\u001b[39m\u001b[38;5;241m*\u001b[39m\u001b[38;5;28mabs\u001b[39m(a)\u001b[38;5;241m*\u001b[39m\u001b[38;5;28mabs\u001b[39m(b)\n\u001b[0;32m      2\u001b[0m deno \u001b[38;5;241m=\u001b[39m \u001b[38;5;28mabs\u001b[39m(a)\u001b[38;5;241m+\u001b[39m\u001b[38;5;28mabs\u001b[39m(b)\n\u001b[1;32m----> 3\u001b[0m hm \u001b[38;5;241m=\u001b[39m np\u001b[38;5;241m.\u001b[39mwhere((num\u001b[38;5;241m==\u001b[39m\u001b[38;5;241m0\u001b[39m \u001b[38;5;129;01mor\u001b[39;00m num\u001b[38;5;241m==\u001b[39mnp\u001b[38;5;241m.\u001b[39mnan \u001b[38;5;129;01mor\u001b[39;00m deno\u001b[38;5;241m==\u001b[39m\u001b[38;5;241m0\u001b[39m \u001b[38;5;129;01mor\u001b[39;00m deno\u001b[38;5;241m==\u001b[39mnp\u001b[38;5;241m.\u001b[39mnan), b, num\u001b[38;5;241m/\u001b[39mdeno)\n\u001b[0;32m      4\u001b[0m hm\n",
      "\u001b[1;31mValueError\u001b[0m: The truth value of an array with more than one element is ambiguous. Use a.any() or a.all()"
     ]
    }
   ],
   "source": [
    "num = 2*abs(a)*abs(b)\n",
    "deno = abs(a)+abs(b)\n",
    "hm = np.where((num==0 or num==np.nan or deno==0 or deno==np.nan), b, num/deno)\n",
    "hm"
   ]
  },
  {
   "cell_type": "code",
   "execution_count": 147,
   "metadata": {},
   "outputs": [
    {
     "data": {
      "text/plain": [
       "array([0. , 0. , 0. , 1. , 1.5])"
      ]
     },
     "execution_count": 147,
     "metadata": {},
     "output_type": "execute_result"
    }
   ],
   "source": [
    "c = np.divide(a, b, out=np.zeros_like(a), where=b!=0)\n",
    "c"
   ]
  },
  {
   "cell_type": "code",
   "execution_count": null,
   "metadata": {},
   "outputs": [],
   "source": []
  },
  {
   "cell_type": "code",
   "execution_count": 158,
   "metadata": {},
   "outputs": [
    {
     "data": {
      "text/plain": [
       "(array([[-2.,  1.,  1.,  2.],\n",
       "        [-2.,  2., -1., -1.]], dtype=float32),\n",
       " array([[ 1., -2.,  2.,  1.],\n",
       "        [-1., -1., -2.,  2.]], dtype=float32))"
      ]
     },
     "execution_count": 158,
     "metadata": {},
     "output_type": "execute_result"
    }
   ],
   "source": [
    "z1 = np.array([[-2, 1, 1, 2], [-2, 2, -1, -1]], dtype = 'float32')\n",
    "z2 = np.array([[1, -2, 2, 1], [-1, -1, -2, 2]], dtype = 'float32')\n",
    "z1, z2"
   ]
  },
  {
   "cell_type": "code",
   "execution_count": 160,
   "metadata": {},
   "outputs": [
    {
     "data": {
      "text/plain": [
       "array([[ True, False,  True, False],\n",
       "       [ True, False, False,  True]])"
      ]
     },
     "execution_count": 160,
     "metadata": {},
     "output_type": "execute_result"
    }
   ],
   "source": [
    "flag = z1 < z2\n",
    "flag"
   ]
  },
  {
   "cell_type": "code",
   "execution_count": 162,
   "metadata": {},
   "outputs": [
    {
     "data": {
      "text/plain": [
       "array([[1.3333334, 1.3333334, 1.3333334, 1.3333334],\n",
       "       [1.3333334, 1.3333334, 1.3333334, 1.3333334]], dtype=float32)"
      ]
     },
     "execution_count": 162,
     "metadata": {},
     "output_type": "execute_result"
    }
   ],
   "source": [
    "numerator = 2*abs(z1)*abs(z2)\n",
    "denominator = abs(z1)+abs(z2)\n",
    "hm = np.divide(numerator, denominator, where=denominator!=0)\n",
    "hm"
   ]
  },
  {
   "cell_type": "code",
   "execution_count": 163,
   "metadata": {},
   "outputs": [
    {
     "data": {
      "text/plain": [
       "array([[0.33333337, 0.33333337, 0.33333337, 0.33333337],\n",
       "       [0.33333337, 0.33333337, 0.33333337, 0.33333337]], dtype=float32)"
      ]
     },
     "execution_count": 163,
     "metadata": {},
     "output_type": "execute_result"
    }
   ],
   "source": [
    "decimal = np.modf(hm)[0]\n",
    "decimal"
   ]
  },
  {
   "cell_type": "code",
   "execution_count": 164,
   "metadata": {},
   "outputs": [
    {
     "data": {
      "text/plain": [
       "array([[ 1.3333334, -2.3333335,  2.3333335,  0.6666666],\n",
       "       [-0.6666666, -1.3333334, -2.3333335,  2.3333335]], dtype=float32)"
      ]
     },
     "execution_count": 164,
     "metadata": {},
     "output_type": "execute_result"
    }
   ],
   "source": [
    "z2[flag] = z2[flag] + decimal[flag]\n",
    "z2[~flag] = z2[~flag] - decimal[~flag]\n",
    "z2"
   ]
  },
  {
   "cell_type": "code",
   "execution_count": null,
   "metadata": {},
   "outputs": [],
   "source": []
  },
  {
   "cell_type": "code",
   "execution_count": 178,
   "metadata": {},
   "outputs": [
    {
     "data": {
      "text/plain": [
       "(array([[-2.,  0.,  1.,  2.],\n",
       "        [-2.,  2., -1., -1.]], dtype=float32),\n",
       " array([[ 1., -2.,  2.,  1.],\n",
       "        [-1., -1., nan,  2.]], dtype=float32))"
      ]
     },
     "execution_count": 178,
     "metadata": {},
     "output_type": "execute_result"
    }
   ],
   "source": []
  },
  {
   "cell_type": "code",
   "execution_count": 180,
   "metadata": {},
   "outputs": [
    {
     "name": "stdout",
     "output_type": "stream",
     "text": [
      "numerator : [[5.3333335 0.        4.666667  2.6666665]\n",
      " [2.6666665 5.3333335       nan 4.666667 ]]\n",
      "denominator : [[3.3333335 2.        3.3333335 2.6666665]\n",
      " [2.6666665 3.3333335       nan 3.3333335]]\n"
     ]
    },
    {
     "data": {
      "text/plain": [
       "array([[ 1.9333334, -2.       ,  2.7333336,  0.6666666],\n",
       "       [-0.6666666, -1.9333334,        nan,  2.7333336]], dtype=float32)"
      ]
     },
     "execution_count": 180,
     "metadata": {},
     "output_type": "execute_result"
    }
   ],
   "source": [
    "flag = z1 < z2\n",
    "numerator = 2*abs(z1)*abs(z2)\n",
    "print(\"numerator :\", numerator)\n",
    "denominator = abs(z1)+abs(z2)\n",
    "print(\"denominator :\", denominator)\n",
    "hm = np.divide(numerator, denominator, out=np.zeros_like(z2), where=denominator)!=0)\n",
    "decimal = np.modf(hm)[0]\n",
    "z2[flag] = z2[flag] + decimal[flag]\n",
    "z2[~flag] = z2[~flag] - decimal[~flag]\n",
    "z2"
   ]
  },
  {
   "cell_type": "code",
   "execution_count": 175,
   "metadata": {},
   "outputs": [
    {
     "data": {
      "text/plain": [
       "0.0"
      ]
     },
     "execution_count": 175,
     "metadata": {},
     "output_type": "execute_result"
    }
   ],
   "source": [
    "0/5"
   ]
  },
  {
   "cell_type": "code",
   "execution_count": null,
   "metadata": {},
   "outputs": [],
   "source": []
  },
  {
   "cell_type": "code",
   "execution_count": 193,
   "metadata": {},
   "outputs": [],
   "source": [
    "def apply_hm(v1, v2):     \n",
    "        if v1==0 or v2==0:\n",
    "            return v2\n",
    "        elif v1 > v2:\n",
    "            t1 = abs(v1)\n",
    "            t2 = abs(v2)\n",
    "            hm = 2*t1*t2/(t1+t2)\n",
    "            deci = np.modf(hm)[0] \n",
    "            v2 = v2 - deci\n",
    "            return v2 \n",
    "        elif v1 < v2:\n",
    "            t1 = abs(v1)\n",
    "            t2 = abs(v2)\n",
    "            hm = 2*t1*t2/(t1+t2)\n",
    "            deci = np.modf(hm)[0] \n",
    "            v2 = v2 + deci\n",
    "            return v2 \n",
    "        else:\n",
    "            return v2   "
   ]
  },
  {
   "cell_type": "code",
   "execution_count": 191,
   "metadata": {},
   "outputs": [
    {
     "data": {
      "text/plain": [
       "(array([[-2,  1,  1,  2],\n",
       "        [-2,  2, -1, -1]]),\n",
       " array([[ 1, -2,  2,  1],\n",
       "        [-1, -1, -2,  2]]))"
      ]
     },
     "execution_count": 191,
     "metadata": {},
     "output_type": "execute_result"
    }
   ],
   "source": [
    "z1 = np.array([[-2, 1, 1, 2], [-2, 2, -1, -1]])\n",
    "z2 = np.array([[1, -2, 2, 1], [-1, -1, -2, 2]])\n",
    "z1, z2"
   ]
  },
  {
   "cell_type": "code",
   "execution_count": 194,
   "metadata": {},
   "outputs": [
    {
     "data": {
      "text/plain": [
       "array([[ 1.33333333, -2.33333333,  2.33333333,  0.66666667],\n",
       "       [-0.66666667, -1.33333333, -2.33333333,  2.33333333]])"
      ]
     },
     "execution_count": 194,
     "metadata": {},
     "output_type": "execute_result"
    }
   ],
   "source": [
    "call_hm = np.vectorize(apply_hm)  \n",
    "call_hm(z1, z2)    "
   ]
  },
  {
   "cell_type": "markdown",
   "metadata": {},
   "source": [
    "#### Removed part"
   ]
  },
  {
   "cell_type": "code",
   "execution_count": null,
   "metadata": {},
   "outputs": [],
   "source": [
    "python_random.seed(7)\n",
    "np.random.seed(7)\n",
    "tf.random.set_seed(7)"
   ]
  },
  {
   "cell_type": "code",
   "execution_count": null,
   "metadata": {},
   "outputs": [],
   "source": [
    "# Get the best of base-line model  \n",
    "generic_training_error = 0\n",
    "generic_training_loss = 0\n",
    "\n",
    "class CustomCallbackGeneric(Callback):  \n",
    "    def on_epoch_end(self, epoch, logs={}): \n",
    "        global generic_training_error\n",
    "        global generic_training_loss \n",
    "        \n",
    "        generic_training_error = round(logs.get('mae'), 4) \n",
    "        generic_training_loss = round(logs.get('loss'), 4)  "
   ]
  },
  {
   "cell_type": "code",
   "execution_count": null,
   "metadata": {},
   "outputs": [],
   "source": [
    "  def on_train_end(self, logs=None):\n",
    "        global hm_training_error\n",
    "        global hm_training_loss \n",
    "        # Metrics\n",
    "        hm_training_error = round(logs.get('mae'), 4) \n",
    "        hm_training_loss = round(logs.get('loss'), 4)  "
   ]
  },
  {
   "cell_type": "code",
   "execution_count": null,
   "metadata": {},
   "outputs": [],
   "source": [
    "hm_training_error = 0\n",
    "hm_training_loss = 0"
   ]
  },
  {
   "cell_type": "code",
   "execution_count": null,
   "metadata": {},
   "outputs": [],
   "source": [
    "hm_testing_loss = round(hm_testing[0], 4)\n",
    "hm_testing_accuracy = round(hm_testing[1], 4) "
   ]
  },
  {
   "cell_type": "code",
   "execution_count": null,
   "metadata": {},
   "outputs": [],
   "source": [
    "# Training time, Training MAE, Training loss\n",
    "import csv\n",
    "class CSVWriter():\n",
    "    filename = None\n",
    "    fp = None\n",
    "    writer = None\n",
    "\n",
    "    def __init__(self, filename):\n",
    "        self.filename = filename\n",
    "        self.fp = open(self.filename, 'w', encoding='utf8')\n",
    "        self.writer = csv.writer(self.fp, quotechar='\"', quoting=csv.QUOTE_ALL, lineterminator='\\n')\n",
    "\n",
    "    def close(self):\n",
    "        self.fp.close()\n",
    "\n",
    "    def write(self, elems):\n",
    "        self.writer.writerow(elems)\n",
    "\n",
    "    def size(self):\n",
    "        return os.path.getsize(self.filename)\n",
    "\n",
    "    def fname(self):\n",
    "        return self.filename "
   ]
  },
  {
   "cell_type": "code",
   "execution_count": null,
   "metadata": {},
   "outputs": [],
   "source": [
    "mycsv = CSVWriter('2.MNIST_digits_metrics.csv')\n",
    "mycsv.write(('Parameters', opti_name, 'HM-based ' + opti_name))\n",
    "mycsv.write(('Training_time', elapsed_training_time_generic, elapsed_training_time_hm))\n",
    "mycsv.write(('Training_loss', generic_training_loss, hm_training_loss))\n",
    "mycsv.write(('Training_accuracy', generic_training_accuracy, hm_training_accuracy))\n",
    "mycsv.write(('Testing_loss', generic_testing_loss, hm_testing_loss))\n",
    "mycsv.write(('Testing_accuracy', generic_testing_accuracy, hm_testing_accuracy))\n",
    "mycsv.close() "
   ]
  },
  {
   "cell_type": "code",
   "execution_count": null,
   "metadata": {},
   "outputs": [],
   "source": [
    "metrics = pd.read_csv('1.Boston_metrics.csv', index_col=0)\n",
    "metrics"
   ]
  },
  {
   "cell_type": "code",
   "execution_count": null,
   "metadata": {},
   "outputs": [],
   "source": [
    "metrics = pd.read_csv('2.MNIST_digits_metrics.csv', index_col=0)\n",
    "metrics\n",
    "optimizers = [opti_name, 'HM-based ' + opti_name]\n",
    "Training_time_chart = metrics.iloc[0,:].to_list()\n",
    "Training_loss_chart = metrics.iloc[1,:].to_list()\n",
    "Training_accuracy_chart = metrics.iloc[2,:].to_list()\n",
    "Testing_loss_chart = metrics.iloc[3,:].to_list()\n",
    "Testing_accuracy_chart = metrics.iloc[4,:].to_list()"
   ]
  },
  {
   "cell_type": "code",
   "execution_count": null,
   "metadata": {},
   "outputs": [],
   "source": [
    "fig, a = plt.subplots(2, 2,figsize=(9,9)) \n",
    "#fig.suptitle('Loss and accuracy charts')\n",
    "bar_colors = ['tab:red', 'tab:blue']\n",
    "a[0][0].bar(optimizers, Training_loss_chart, color=bar_colors)\n",
    "a[0][0].set_ylabel('Loss (%)')\n",
    "a[0][0].set_title('Training_loss') \n",
    "\n",
    "a[0][1].bar(optimizers, Testing_loss_chart, color=bar_colors)\n",
    "a[0][1].set_ylabel('Loss (%)')\n",
    "a[0][1].set_title('Testing_loss') \n",
    "\n",
    "a[1][0].bar(optimizers, Training_accuracy_chart, color=bar_colors)\n",
    "a[1][0].set_ylabel('Accuracy (%)') \n",
    "a[1][0].set_title('Training_accuracy') \n",
    "\n",
    "a[1][1].bar(optimizers, Testing_accuracy_chart, color=bar_colors)\n",
    "a[1][1].set_ylabel('Accuracy (%)')\n",
    "a[1][1].set_title('Testing_accuracy')  \n",
    "plt.show()"
   ]
  },
  {
   "cell_type": "code",
   "execution_count": null,
   "metadata": {},
   "outputs": [],
   "source": [
    "plt.bar(optimizers, Training_time_chart, color=bar_colors)\n",
    "plt.ylabel('Time (in seconds)')\n",
    "plt.xlabel(\"Optimizers\")\n",
    "plt.title('Training time') \n",
    "plt.show()"
   ]
  },
  {
   "cell_type": "code",
   "execution_count": null,
   "metadata": {},
   "outputs": [],
   "source": [
    "generic_testing_loss = round(generic_testing[0], 4)\n",
    "generic_testing_error = round(generic_testing[1], 4)"
   ]
  },
  {
   "cell_type": "code",
   "execution_count": null,
   "metadata": {},
   "outputs": [],
   "source": [
    "hm_testing_loss = round(hm_testing[0], 4)\n",
    "hm_testing_error = round(hm_testing[1], 4) "
   ]
  },
  {
   "cell_type": "code",
   "execution_count": null,
   "metadata": {},
   "outputs": [],
   "source": [
    "\n",
    "        if epoch < 100:\n",
    "            r = 1\n",
    "        elif epoch > 100 and epoch < 200:\n",
    "            r = 0.85\n",
    "        elif epoch > 200 and epoch < 300:\n",
    "            r = 0.75\n",
    "        else e \n",
    "            r = 0.65 "
   ]
  }
 ],
 "metadata": {
  "kernelspec": {
   "display_name": "Python 3 (ipykernel)",
   "language": "python",
   "name": "python3"
  },
  "language_info": {
   "codemirror_mode": {
    "name": "ipython",
    "version": 3
   },
   "file_extension": ".py",
   "mimetype": "text/x-python",
   "name": "python",
   "nbconvert_exporter": "python",
   "pygments_lexer": "ipython3",
   "version": "3.9.12"
  }
 },
 "nbformat": 4,
 "nbformat_minor": 4
}
