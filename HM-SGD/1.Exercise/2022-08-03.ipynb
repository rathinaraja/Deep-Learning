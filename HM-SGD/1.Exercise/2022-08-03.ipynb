{
 "cells": [
  {
   "cell_type": "markdown",
   "metadata": {},
   "source": [
    "<h2 style=\"color:blue\" align=\"center\">Handwritten digits classification using neural network</h2>"
   ]
  },
  {
   "cell_type": "markdown",
   "metadata": {},
   "source": [
    "Let us classify handwritten digits using \n",
    "1. A simple NN which has only input and output layers. \n",
    "2. NN with one hidden layer.\n",
    "3. NN with two hidden layers.\n",
    "\n",
    "and see how the performance of the model improves"
   ]
  },
  {
   "cell_type": "markdown",
   "metadata": {},
   "source": [
    "<img src=\"Figures/MNIST-Handwritten digits.png\" height=450 width=450/>"
   ]
  },
  {
   "cell_type": "markdown",
   "metadata": {},
   "source": [
    "#### TensorFlow Installation"
   ]
  },
  {
   "cell_type": "code",
   "execution_count": 362,
   "metadata": {},
   "outputs": [],
   "source": [
    "#!pip install tensorflow"
   ]
  },
  {
   "cell_type": "code",
   "execution_count": 363,
   "metadata": {},
   "outputs": [],
   "source": [
    "import tensorflow as tf"
   ]
  },
  {
   "cell_type": "code",
   "execution_count": 364,
   "metadata": {},
   "outputs": [
    {
     "name": "stdout",
     "output_type": "stream",
     "text": [
      "2.9.1\n"
     ]
    }
   ],
   "source": [
    "print(tf.version.VERSION)"
   ]
  },
  {
   "cell_type": "markdown",
   "metadata": {},
   "source": [
    "#### Import the necessary libraries"
   ]
  },
  {
   "cell_type": "code",
   "execution_count": 365,
   "metadata": {},
   "outputs": [],
   "source": [
    "import tensorflow as tf \n",
    "import matplotlib.pyplot as plt\n",
    "%matplotlib inline\n",
    "import numpy as np\n",
    "\n",
    "import keras\n",
    "from keras.datasets import mnist\n",
    "from keras.models import Sequential\n",
    "from keras.layers import Dense, Dropout, Flatten\n",
    "from keras import backend as K\n",
    "from keras.callbacks import ModelCheckpoint"
   ]
  },
  {
   "cell_type": "code",
   "execution_count": 377,
   "metadata": {},
   "outputs": [
    {
     "data": {
      "text/plain": [
       "'tensorflow'"
      ]
     },
     "execution_count": 377,
     "metadata": {},
     "output_type": "execute_result"
    }
   ],
   "source": [
    "K.backend()"
   ]
  },
  {
   "cell_type": "markdown",
   "metadata": {},
   "source": [
    "#### Load and split MNIST for training and testing"
   ]
  },
  {
   "cell_type": "code",
   "execution_count": 378,
   "metadata": {},
   "outputs": [],
   "source": [
    "(X_train,y_train),(X_test,y_test) = mnist.load_data()"
   ]
  },
  {
   "cell_type": "markdown",
   "metadata": {},
   "source": [
    "#### Explore the dataset"
   ]
  },
  {
   "cell_type": "markdown",
   "metadata": {},
   "source": [
    "Keras Handwritten digit MNIST dataset"
   ]
  },
  {
   "cell_type": "markdown",
   "metadata": {},
   "source": [
    "<img src=\"Figures/dataset.png\" height=450 width=450 />"
   ]
  },
  {
   "cell_type": "code",
   "execution_count": 379,
   "metadata": {},
   "outputs": [
    {
     "data": {
      "text/plain": [
       "60000"
      ]
     },
     "execution_count": 379,
     "metadata": {},
     "output_type": "execute_result"
    }
   ],
   "source": [
    "len(X_train)"
   ]
  },
  {
   "cell_type": "code",
   "execution_count": 380,
   "metadata": {},
   "outputs": [
    {
     "data": {
      "text/plain": [
       "10000"
      ]
     },
     "execution_count": 380,
     "metadata": {},
     "output_type": "execute_result"
    }
   ],
   "source": [
    "len(X_test)"
   ]
  },
  {
   "cell_type": "code",
   "execution_count": 381,
   "metadata": {},
   "outputs": [
    {
     "data": {
      "text/plain": [
       "(28, 28)"
      ]
     },
     "execution_count": 381,
     "metadata": {},
     "output_type": "execute_result"
    }
   ],
   "source": [
    "X_train[0].shape"
   ]
  },
  {
   "cell_type": "markdown",
   "metadata": {},
   "source": [
    "It would be something like this"
   ]
  },
  {
   "cell_type": "markdown",
   "metadata": {},
   "source": [
    "<img src='Figures/pixel.png' />"
   ]
  },
  {
   "cell_type": "code",
   "execution_count": 382,
   "metadata": {
    "scrolled": true
   },
   "outputs": [
    {
     "data": {
      "text/plain": [
       "array([[  0,   0,   0,   0,   0,   0,   0,   0,   0,   0,   0,   0,   0,\n",
       "          0,   0,   0,   0,   0,   0,   0,   0,   0,   0,   0,   0,   0,\n",
       "          0,   0],\n",
       "       [  0,   0,   0,   0,   0,   0,   0,   0,   0,   0,   0,   0,   0,\n",
       "          0,   0,   0,   0,   0,   0,   0,   0,   0,   0,   0,   0,   0,\n",
       "          0,   0],\n",
       "       [  0,   0,   0,   0,   0,   0,   0,   0,   0,   0,   0,   0,   0,\n",
       "          0,   0,   0,   0,   0,   0,   0,   0,   0,   0,   0,   0,   0,\n",
       "          0,   0],\n",
       "       [  0,   0,   0,   0,   0,   0,   0,   0,   0,   0,   0,   0,   0,\n",
       "          0,   0,   0,   0,   0,   0,   0,   0,   0,   0,   0,   0,   0,\n",
       "          0,   0],\n",
       "       [  0,   0,   0,   0,   0,   0,   0,   0,   0,   0,   0,   0,   0,\n",
       "          0,   0,   0,   0,   0,   0,   0,   0,   0,   0,   0,   0,   0,\n",
       "          0,   0],\n",
       "       [  0,   0,   0,   0,   0,   0,   0,   0,   0,   0,   0,   0,   3,\n",
       "         18,  18,  18, 126, 136, 175,  26, 166, 255, 247, 127,   0,   0,\n",
       "          0,   0],\n",
       "       [  0,   0,   0,   0,   0,   0,   0,   0,  30,  36,  94, 154, 170,\n",
       "        253, 253, 253, 253, 253, 225, 172, 253, 242, 195,  64,   0,   0,\n",
       "          0,   0],\n",
       "       [  0,   0,   0,   0,   0,   0,   0,  49, 238, 253, 253, 253, 253,\n",
       "        253, 253, 253, 253, 251,  93,  82,  82,  56,  39,   0,   0,   0,\n",
       "          0,   0],\n",
       "       [  0,   0,   0,   0,   0,   0,   0,  18, 219, 253, 253, 253, 253,\n",
       "        253, 198, 182, 247, 241,   0,   0,   0,   0,   0,   0,   0,   0,\n",
       "          0,   0],\n",
       "       [  0,   0,   0,   0,   0,   0,   0,   0,  80, 156, 107, 253, 253,\n",
       "        205,  11,   0,  43, 154,   0,   0,   0,   0,   0,   0,   0,   0,\n",
       "          0,   0],\n",
       "       [  0,   0,   0,   0,   0,   0,   0,   0,   0,  14,   1, 154, 253,\n",
       "         90,   0,   0,   0,   0,   0,   0,   0,   0,   0,   0,   0,   0,\n",
       "          0,   0],\n",
       "       [  0,   0,   0,   0,   0,   0,   0,   0,   0,   0,   0, 139, 253,\n",
       "        190,   2,   0,   0,   0,   0,   0,   0,   0,   0,   0,   0,   0,\n",
       "          0,   0],\n",
       "       [  0,   0,   0,   0,   0,   0,   0,   0,   0,   0,   0,  11, 190,\n",
       "        253,  70,   0,   0,   0,   0,   0,   0,   0,   0,   0,   0,   0,\n",
       "          0,   0],\n",
       "       [  0,   0,   0,   0,   0,   0,   0,   0,   0,   0,   0,   0,  35,\n",
       "        241, 225, 160, 108,   1,   0,   0,   0,   0,   0,   0,   0,   0,\n",
       "          0,   0],\n",
       "       [  0,   0,   0,   0,   0,   0,   0,   0,   0,   0,   0,   0,   0,\n",
       "         81, 240, 253, 253, 119,  25,   0,   0,   0,   0,   0,   0,   0,\n",
       "          0,   0],\n",
       "       [  0,   0,   0,   0,   0,   0,   0,   0,   0,   0,   0,   0,   0,\n",
       "          0,  45, 186, 253, 253, 150,  27,   0,   0,   0,   0,   0,   0,\n",
       "          0,   0],\n",
       "       [  0,   0,   0,   0,   0,   0,   0,   0,   0,   0,   0,   0,   0,\n",
       "          0,   0,  16,  93, 252, 253, 187,   0,   0,   0,   0,   0,   0,\n",
       "          0,   0],\n",
       "       [  0,   0,   0,   0,   0,   0,   0,   0,   0,   0,   0,   0,   0,\n",
       "          0,   0,   0,   0, 249, 253, 249,  64,   0,   0,   0,   0,   0,\n",
       "          0,   0],\n",
       "       [  0,   0,   0,   0,   0,   0,   0,   0,   0,   0,   0,   0,   0,\n",
       "          0,  46, 130, 183, 253, 253, 207,   2,   0,   0,   0,   0,   0,\n",
       "          0,   0],\n",
       "       [  0,   0,   0,   0,   0,   0,   0,   0,   0,   0,   0,   0,  39,\n",
       "        148, 229, 253, 253, 253, 250, 182,   0,   0,   0,   0,   0,   0,\n",
       "          0,   0],\n",
       "       [  0,   0,   0,   0,   0,   0,   0,   0,   0,   0,  24, 114, 221,\n",
       "        253, 253, 253, 253, 201,  78,   0,   0,   0,   0,   0,   0,   0,\n",
       "          0,   0],\n",
       "       [  0,   0,   0,   0,   0,   0,   0,   0,  23,  66, 213, 253, 253,\n",
       "        253, 253, 198,  81,   2,   0,   0,   0,   0,   0,   0,   0,   0,\n",
       "          0,   0],\n",
       "       [  0,   0,   0,   0,   0,   0,  18, 171, 219, 253, 253, 253, 253,\n",
       "        195,  80,   9,   0,   0,   0,   0,   0,   0,   0,   0,   0,   0,\n",
       "          0,   0],\n",
       "       [  0,   0,   0,   0,  55, 172, 226, 253, 253, 253, 253, 244, 133,\n",
       "         11,   0,   0,   0,   0,   0,   0,   0,   0,   0,   0,   0,   0,\n",
       "          0,   0],\n",
       "       [  0,   0,   0,   0, 136, 253, 253, 253, 212, 135, 132,  16,   0,\n",
       "          0,   0,   0,   0,   0,   0,   0,   0,   0,   0,   0,   0,   0,\n",
       "          0,   0],\n",
       "       [  0,   0,   0,   0,   0,   0,   0,   0,   0,   0,   0,   0,   0,\n",
       "          0,   0,   0,   0,   0,   0,   0,   0,   0,   0,   0,   0,   0,\n",
       "          0,   0],\n",
       "       [  0,   0,   0,   0,   0,   0,   0,   0,   0,   0,   0,   0,   0,\n",
       "          0,   0,   0,   0,   0,   0,   0,   0,   0,   0,   0,   0,   0,\n",
       "          0,   0],\n",
       "       [  0,   0,   0,   0,   0,   0,   0,   0,   0,   0,   0,   0,   0,\n",
       "          0,   0,   0,   0,   0,   0,   0,   0,   0,   0,   0,   0,   0,\n",
       "          0,   0]], dtype=uint8)"
      ]
     },
     "execution_count": 382,
     "metadata": {},
     "output_type": "execute_result"
    }
   ],
   "source": [
    "X_train[0]\n",
    "# Displays 28 x 28 pixels in 2D array"
   ]
  },
  {
   "cell_type": "code",
   "execution_count": 383,
   "metadata": {},
   "outputs": [
    {
     "data": {
      "text/plain": [
       "<matplotlib.image.AxesImage at 0x2c0a04dcca0>"
      ]
     },
     "execution_count": 383,
     "metadata": {},
     "output_type": "execute_result"
    },
    {
     "data": {
      "image/png": "[encoded data removed]",
      "text/plain": [
       "<Figure size 288x288 with 1 Axes>"
      ]
     },
     "metadata": {
      "needs_background": "light"
     },
     "output_type": "display_data"
    }
   ],
   "source": [
    "plt.matshow(X_train[0])"
   ]
  },
  {
   "cell_type": "code",
   "execution_count": 384,
   "metadata": {},
   "outputs": [
    {
     "data": {
      "text/plain": [
       "5"
      ]
     },
     "execution_count": 384,
     "metadata": {},
     "output_type": "execute_result"
    }
   ],
   "source": [
    "y_train[0]\n",
    "# Label for the above input image"
   ]
  },
  {
   "cell_type": "code",
   "execution_count": 385,
   "metadata": {},
   "outputs": [
    {
     "data": {
      "text/plain": [
       "<matplotlib.image.AxesImage at 0x2c0a057d940>"
      ]
     },
     "execution_count": 385,
     "metadata": {},
     "output_type": "execute_result"
    },
    {
     "data": {
      "image/png": "[encoded data removed]",
      "text/plain": [
       "<Figure size 288x288 with 1 Axes>"
      ]
     },
     "metadata": {
      "needs_background": "light"
     },
     "output_type": "display_data"
    }
   ],
   "source": [
    "plt.matshow(X_train[1])"
   ]
  },
  {
   "cell_type": "code",
   "execution_count": 386,
   "metadata": {},
   "outputs": [
    {
     "data": {
      "text/plain": [
       "0"
      ]
     },
     "execution_count": 386,
     "metadata": {},
     "output_type": "execute_result"
    }
   ],
   "source": [
    "y_train[1]"
   ]
  },
  {
   "cell_type": "code",
   "execution_count": 387,
   "metadata": {},
   "outputs": [
    {
     "data": {
      "text/plain": [
       "array([5, 0, 4, 1, 9, 2, 1, 3, 1, 4], dtype=uint8)"
      ]
     },
     "execution_count": 387,
     "metadata": {},
     "output_type": "execute_result"
    }
   ],
   "source": [
    "y_train[0:10]"
   ]
  },
  {
   "cell_type": "markdown",
   "metadata": {},
   "source": [
    "#### Flattening"
   ]
  },
  {
   "cell_type": "code",
   "execution_count": 388,
   "metadata": {},
   "outputs": [
    {
     "data": {
      "text/plain": [
       "(60000, 28, 28)"
      ]
     },
     "execution_count": 388,
     "metadata": {},
     "output_type": "execute_result"
    }
   ],
   "source": [
    "X_train.shape"
   ]
  },
  {
   "cell_type": "code",
   "execution_count": 389,
   "metadata": {},
   "outputs": [
    {
     "data": {
      "text/plain": [
       "28"
      ]
     },
     "execution_count": 389,
     "metadata": {},
     "output_type": "execute_result"
    }
   ],
   "source": [
    "X_train.shape[1]"
   ]
  },
  {
   "cell_type": "markdown",
   "metadata": {},
   "source": [
    "You must convert this into 6000, 784"
   ]
  },
  {
   "cell_type": "code",
   "execution_count": 390,
   "metadata": {},
   "outputs": [
    {
     "data": {
      "text/plain": [
       "array([[0, 0, 0, ..., 0, 0, 0],\n",
       "       [0, 0, 0, ..., 0, 0, 0],\n",
       "       [0, 0, 0, ..., 0, 0, 0],\n",
       "       ...,\n",
       "       [0, 0, 0, ..., 0, 0, 0],\n",
       "       [0, 0, 0, ..., 0, 0, 0],\n",
       "       [0, 0, 0, ..., 0, 0, 0]], dtype=uint8)"
      ]
     },
     "execution_count": 390,
     "metadata": {},
     "output_type": "execute_result"
    }
   ],
   "source": [
    "X_train_flattened = X_train.reshape(len(X_train), 28 * 28)\n",
    "X_train_flattened"
   ]
  },
  {
   "cell_type": "code",
   "execution_count": 391,
   "metadata": {},
   "outputs": [
    {
     "data": {
      "text/plain": [
       "(60000, 784)"
      ]
     },
     "execution_count": 391,
     "metadata": {},
     "output_type": "execute_result"
    }
   ],
   "source": [
    "X_train_flattened.shape"
   ]
  },
  {
   "cell_type": "code",
   "execution_count": 392,
   "metadata": {
    "scrolled": true
   },
   "outputs": [
    {
     "data": {
      "text/plain": [
       "array([  0,   0,   0,   0,   0,   0,   0,   0,   0,   0,   0,   0,   0,\n",
       "         0,   0,   0,   0,   0,   0,   0,   0,   0,   0,   0,   0,   0,\n",
       "         0,   0,   0,   0,   0,   0,   0,   0,   0,   0,   0,   0,   0,\n",
       "         0,   0,   0,   0,   0,   0,   0,   0,   0,   0,   0,   0,   0,\n",
       "         0,   0,   0,   0,   0,   0,   0,   0,   0,   0,   0,   0,   0,\n",
       "         0,   0,   0,   0,   0,   0,   0,   0,   0,   0,   0,   0,   0,\n",
       "         0,   0,   0,   0,   0,   0,   0,   0,   0,   0,   0,   0,   0,\n",
       "         0,   0,   0,   0,   0,   0,   0,   0,   0,   0,   0,   0,   0,\n",
       "         0,   0,   0,   0,   0,   0,   0,   0,   0,   0,   0,   0,   0,\n",
       "         0,   0,   0,   0,   0,   0,   0,   0,   0,   0,   0,   0,   0,\n",
       "         0,   0,   0,   0,   0,   0,   0,   0,   0,   0,   0,   0,   0,\n",
       "         0,   0,   0,   0,   0,   0,   0,   0,   0,   3,  18,  18,  18,\n",
       "       126, 136, 175,  26, 166, 255, 247, 127,   0,   0,   0,   0,   0,\n",
       "         0,   0,   0,   0,   0,   0,   0,  30,  36,  94, 154, 170, 253,\n",
       "       253, 253, 253, 253, 225, 172, 253, 242, 195,  64,   0,   0,   0,\n",
       "         0,   0,   0,   0,   0,   0,   0,   0,  49, 238, 253, 253, 253,\n",
       "       253, 253, 253, 253, 253, 251,  93,  82,  82,  56,  39,   0,   0,\n",
       "         0,   0,   0,   0,   0,   0,   0,   0,   0,   0,  18, 219, 253,\n",
       "       253, 253, 253, 253, 198, 182, 247, 241,   0,   0,   0,   0,   0,\n",
       "         0,   0,   0,   0,   0,   0,   0,   0,   0,   0,   0,   0,   0,\n",
       "        80, 156, 107, 253, 253, 205,  11,   0,  43, 154,   0,   0,   0,\n",
       "         0,   0,   0,   0,   0,   0,   0,   0,   0,   0,   0,   0,   0,\n",
       "         0,   0,   0,  14,   1, 154, 253,  90,   0,   0,   0,   0,   0,\n",
       "         0,   0,   0,   0,   0,   0,   0,   0,   0,   0,   0,   0,   0,\n",
       "         0,   0,   0,   0,   0,   0,   0, 139, 253, 190,   2,   0,   0,\n",
       "         0,   0,   0,   0,   0,   0,   0,   0,   0,   0,   0,   0,   0,\n",
       "         0,   0,   0,   0,   0,   0,   0,   0,   0,  11, 190, 253,  70,\n",
       "         0,   0,   0,   0,   0,   0,   0,   0,   0,   0,   0,   0,   0,\n",
       "         0,   0,   0,   0,   0,   0,   0,   0,   0,   0,   0,   0,  35,\n",
       "       241, 225, 160, 108,   1,   0,   0,   0,   0,   0,   0,   0,   0,\n",
       "         0,   0,   0,   0,   0,   0,   0,   0,   0,   0,   0,   0,   0,\n",
       "         0,   0,  81, 240, 253, 253, 119,  25,   0,   0,   0,   0,   0,\n",
       "         0,   0,   0,   0,   0,   0,   0,   0,   0,   0,   0,   0,   0,\n",
       "         0,   0,   0,   0,   0,  45, 186, 253, 253, 150,  27,   0,   0,\n",
       "         0,   0,   0,   0,   0,   0,   0,   0,   0,   0,   0,   0,   0,\n",
       "         0,   0,   0,   0,   0,   0,   0,   0,  16,  93, 252, 253, 187,\n",
       "         0,   0,   0,   0,   0,   0,   0,   0,   0,   0,   0,   0,   0,\n",
       "         0,   0,   0,   0,   0,   0,   0,   0,   0,   0,   0,   0, 249,\n",
       "       253, 249,  64,   0,   0,   0,   0,   0,   0,   0,   0,   0,   0,\n",
       "         0,   0,   0,   0,   0,   0,   0,   0,   0,   0,   0,  46, 130,\n",
       "       183, 253, 253, 207,   2,   0,   0,   0,   0,   0,   0,   0,   0,\n",
       "         0,   0,   0,   0,   0,   0,   0,   0,   0,   0,   0,  39, 148,\n",
       "       229, 253, 253, 253, 250, 182,   0,   0,   0,   0,   0,   0,   0,\n",
       "         0,   0,   0,   0,   0,   0,   0,   0,   0,   0,   0,  24, 114,\n",
       "       221, 253, 253, 253, 253, 201,  78,   0,   0,   0,   0,   0,   0,\n",
       "         0,   0,   0,   0,   0,   0,   0,   0,   0,   0,   0,  23,  66,\n",
       "       213, 253, 253, 253, 253, 198,  81,   2,   0,   0,   0,   0,   0,\n",
       "         0,   0,   0,   0,   0,   0,   0,   0,   0,   0,   0,  18, 171,\n",
       "       219, 253, 253, 253, 253, 195,  80,   9,   0,   0,   0,   0,   0,\n",
       "         0,   0,   0,   0,   0,   0,   0,   0,   0,   0,   0,  55, 172,\n",
       "       226, 253, 253, 253, 253, 244, 133,  11,   0,   0,   0,   0,   0,\n",
       "         0,   0,   0,   0,   0,   0,   0,   0,   0,   0,   0,   0,   0,\n",
       "       136, 253, 253, 253, 212, 135, 132,  16,   0,   0,   0,   0,   0,\n",
       "         0,   0,   0,   0,   0,   0,   0,   0,   0,   0,   0,   0,   0,\n",
       "         0,   0,   0,   0,   0,   0,   0,   0,   0,   0,   0,   0,   0,\n",
       "         0,   0,   0,   0,   0,   0,   0,   0,   0,   0,   0,   0,   0,\n",
       "         0,   0,   0,   0,   0,   0,   0,   0,   0,   0,   0,   0,   0,\n",
       "         0,   0,   0,   0,   0,   0,   0,   0,   0,   0,   0,   0,   0,\n",
       "         0,   0,   0,   0,   0,   0,   0,   0,   0,   0,   0,   0,   0,\n",
       "         0,   0,   0,   0,   0,   0,   0,   0,   0,   0,   0,   0,   0,\n",
       "         0,   0,   0,   0], dtype=uint8)"
      ]
     },
     "execution_count": 392,
     "metadata": {},
     "output_type": "execute_result"
    }
   ],
   "source": [
    "X_train_flattened[0]"
   ]
  },
  {
   "cell_type": "code",
   "execution_count": 393,
   "metadata": {},
   "outputs": [
    {
     "data": {
      "text/plain": [
       "array([[0, 0, 0, ..., 0, 0, 0],\n",
       "       [0, 0, 0, ..., 0, 0, 0],\n",
       "       [0, 0, 0, ..., 0, 0, 0],\n",
       "       ...,\n",
       "       [0, 0, 0, ..., 0, 0, 0],\n",
       "       [0, 0, 0, ..., 0, 0, 0],\n",
       "       [0, 0, 0, ..., 0, 0, 0]], dtype=uint8)"
      ]
     },
     "execution_count": 393,
     "metadata": {},
     "output_type": "execute_result"
    }
   ],
   "source": [
    "X_test_flattened = X_test.reshape(len(X_test),  28 * 28)\n",
    "X_test_flattened"
   ]
  },
  {
   "cell_type": "markdown",
   "metadata": {},
   "source": [
    "#### Normalize the input dataset"
   ]
  },
  {
   "cell_type": "code",
   "execution_count": 394,
   "metadata": {},
   "outputs": [],
   "source": [
    "X_train_normalized = X_train_flattened / 255"
   ]
  },
  {
   "cell_type": "code",
   "execution_count": 395,
   "metadata": {
    "scrolled": true
   },
   "outputs": [
    {
     "data": {
      "text/plain": [
       "array([0.        , 0.        , 0.        , 0.        , 0.        ,\n",
       "       0.        , 0.        , 0.        , 0.        , 0.        ,\n",
       "       0.        , 0.        , 0.        , 0.        , 0.        ,\n",
       "       0.        , 0.        , 0.        , 0.        , 0.        ,\n",
       "       0.        , 0.        , 0.        , 0.        , 0.        ,\n",
       "       0.        , 0.        , 0.        , 0.        , 0.        ,\n",
       "       0.        , 0.        , 0.        , 0.        , 0.        ,\n",
       "       0.        , 0.        , 0.        , 0.        , 0.        ,\n",
       "       0.        , 0.        , 0.        , 0.        , 0.        ,\n",
       "       0.        , 0.        , 0.        , 0.        , 0.        ,\n",
       "       0.        , 0.        , 0.        , 0.        , 0.        ,\n",
       "       0.        , 0.        , 0.        , 0.        , 0.        ,\n",
       "       0.        , 0.        , 0.        , 0.        , 0.        ,\n",
       "       0.        , 0.        , 0.        , 0.        , 0.        ,\n",
       "       0.        , 0.        , 0.        , 0.        , 0.        ,\n",
       "       0.        , 0.        , 0.        , 0.        , 0.        ,\n",
       "       0.        , 0.        , 0.        , 0.        , 0.        ,\n",
       "       0.        , 0.        , 0.        , 0.        , 0.        ,\n",
       "       0.        , 0.        , 0.        , 0.        , 0.        ,\n",
       "       0.        , 0.        , 0.        , 0.        , 0.        ,\n",
       "       0.        , 0.        , 0.        , 0.        , 0.        ,\n",
       "       0.        , 0.        , 0.        , 0.        , 0.        ,\n",
       "       0.        , 0.        , 0.        , 0.        , 0.        ,\n",
       "       0.        , 0.        , 0.        , 0.        , 0.        ,\n",
       "       0.        , 0.        , 0.        , 0.        , 0.        ,\n",
       "       0.        , 0.        , 0.        , 0.        , 0.        ,\n",
       "       0.        , 0.        , 0.        , 0.        , 0.        ,\n",
       "       0.        , 0.        , 0.        , 0.        , 0.        ,\n",
       "       0.        , 0.        , 0.        , 0.        , 0.        ,\n",
       "       0.        , 0.        , 0.        , 0.        , 0.        ,\n",
       "       0.        , 0.        , 0.01176471, 0.07058824, 0.07058824,\n",
       "       0.07058824, 0.49411765, 0.53333333, 0.68627451, 0.10196078,\n",
       "       0.65098039, 1.        , 0.96862745, 0.49803922, 0.        ,\n",
       "       0.        , 0.        , 0.        , 0.        , 0.        ,\n",
       "       0.        , 0.        , 0.        , 0.        , 0.        ,\n",
       "       0.        , 0.11764706, 0.14117647, 0.36862745, 0.60392157,\n",
       "       0.66666667, 0.99215686, 0.99215686, 0.99215686, 0.99215686,\n",
       "       0.99215686, 0.88235294, 0.6745098 , 0.99215686, 0.94901961,\n",
       "       0.76470588, 0.25098039, 0.        , 0.        , 0.        ,\n",
       "       0.        , 0.        , 0.        , 0.        , 0.        ,\n",
       "       0.        , 0.        , 0.        , 0.19215686, 0.93333333,\n",
       "       0.99215686, 0.99215686, 0.99215686, 0.99215686, 0.99215686,\n",
       "       0.99215686, 0.99215686, 0.99215686, 0.98431373, 0.36470588,\n",
       "       0.32156863, 0.32156863, 0.21960784, 0.15294118, 0.        ,\n",
       "       0.        , 0.        , 0.        , 0.        , 0.        ,\n",
       "       0.        , 0.        , 0.        , 0.        , 0.        ,\n",
       "       0.        , 0.07058824, 0.85882353, 0.99215686, 0.99215686,\n",
       "       0.99215686, 0.99215686, 0.99215686, 0.77647059, 0.71372549,\n",
       "       0.96862745, 0.94509804, 0.        , 0.        , 0.        ,\n",
       "       0.        , 0.        , 0.        , 0.        , 0.        ,\n",
       "       0.        , 0.        , 0.        , 0.        , 0.        ,\n",
       "       0.        , 0.        , 0.        , 0.        , 0.        ,\n",
       "       0.31372549, 0.61176471, 0.41960784, 0.99215686, 0.99215686,\n",
       "       0.80392157, 0.04313725, 0.        , 0.16862745, 0.60392157,\n",
       "       0.        , 0.        , 0.        , 0.        , 0.        ,\n",
       "       0.        , 0.        , 0.        , 0.        , 0.        ,\n",
       "       0.        , 0.        , 0.        , 0.        , 0.        ,\n",
       "       0.        , 0.        , 0.        , 0.        , 0.05490196,\n",
       "       0.00392157, 0.60392157, 0.99215686, 0.35294118, 0.        ,\n",
       "       0.        , 0.        , 0.        , 0.        , 0.        ,\n",
       "       0.        , 0.        , 0.        , 0.        , 0.        ,\n",
       "       0.        , 0.        , 0.        , 0.        , 0.        ,\n",
       "       0.        , 0.        , 0.        , 0.        , 0.        ,\n",
       "       0.        , 0.        , 0.        , 0.        , 0.54509804,\n",
       "       0.99215686, 0.74509804, 0.00784314, 0.        , 0.        ,\n",
       "       0.        , 0.        , 0.        , 0.        , 0.        ,\n",
       "       0.        , 0.        , 0.        , 0.        , 0.        ,\n",
       "       0.        , 0.        , 0.        , 0.        , 0.        ,\n",
       "       0.        , 0.        , 0.        , 0.        , 0.        ,\n",
       "       0.        , 0.        , 0.04313725, 0.74509804, 0.99215686,\n",
       "       0.2745098 , 0.        , 0.        , 0.        , 0.        ,\n",
       "       0.        , 0.        , 0.        , 0.        , 0.        ,\n",
       "       0.        , 0.        , 0.        , 0.        , 0.        ,\n",
       "       0.        , 0.        , 0.        , 0.        , 0.        ,\n",
       "       0.        , 0.        , 0.        , 0.        , 0.        ,\n",
       "       0.        , 0.1372549 , 0.94509804, 0.88235294, 0.62745098,\n",
       "       0.42352941, 0.00392157, 0.        , 0.        , 0.        ,\n",
       "       0.        , 0.        , 0.        , 0.        , 0.        ,\n",
       "       0.        , 0.        , 0.        , 0.        , 0.        ,\n",
       "       0.        , 0.        , 0.        , 0.        , 0.        ,\n",
       "       0.        , 0.        , 0.        , 0.        , 0.        ,\n",
       "       0.31764706, 0.94117647, 0.99215686, 0.99215686, 0.46666667,\n",
       "       0.09803922, 0.        , 0.        , 0.        , 0.        ,\n",
       "       0.        , 0.        , 0.        , 0.        , 0.        ,\n",
       "       0.        , 0.        , 0.        , 0.        , 0.        ,\n",
       "       0.        , 0.        , 0.        , 0.        , 0.        ,\n",
       "       0.        , 0.        , 0.        , 0.        , 0.17647059,\n",
       "       0.72941176, 0.99215686, 0.99215686, 0.58823529, 0.10588235,\n",
       "       0.        , 0.        , 0.        , 0.        , 0.        ,\n",
       "       0.        , 0.        , 0.        , 0.        , 0.        ,\n",
       "       0.        , 0.        , 0.        , 0.        , 0.        ,\n",
       "       0.        , 0.        , 0.        , 0.        , 0.        ,\n",
       "       0.        , 0.        , 0.        , 0.0627451 , 0.36470588,\n",
       "       0.98823529, 0.99215686, 0.73333333, 0.        , 0.        ,\n",
       "       0.        , 0.        , 0.        , 0.        , 0.        ,\n",
       "       0.        , 0.        , 0.        , 0.        , 0.        ,\n",
       "       0.        , 0.        , 0.        , 0.        , 0.        ,\n",
       "       0.        , 0.        , 0.        , 0.        , 0.        ,\n",
       "       0.        , 0.        , 0.        , 0.97647059, 0.99215686,\n",
       "       0.97647059, 0.25098039, 0.        , 0.        , 0.        ,\n",
       "       0.        , 0.        , 0.        , 0.        , 0.        ,\n",
       "       0.        , 0.        , 0.        , 0.        , 0.        ,\n",
       "       0.        , 0.        , 0.        , 0.        , 0.        ,\n",
       "       0.        , 0.        , 0.        , 0.18039216, 0.50980392,\n",
       "       0.71764706, 0.99215686, 0.99215686, 0.81176471, 0.00784314,\n",
       "       0.        , 0.        , 0.        , 0.        , 0.        ,\n",
       "       0.        , 0.        , 0.        , 0.        , 0.        ,\n",
       "       0.        , 0.        , 0.        , 0.        , 0.        ,\n",
       "       0.        , 0.        , 0.        , 0.        , 0.15294118,\n",
       "       0.58039216, 0.89803922, 0.99215686, 0.99215686, 0.99215686,\n",
       "       0.98039216, 0.71372549, 0.        , 0.        , 0.        ,\n",
       "       0.        , 0.        , 0.        , 0.        , 0.        ,\n",
       "       0.        , 0.        , 0.        , 0.        , 0.        ,\n",
       "       0.        , 0.        , 0.        , 0.        , 0.        ,\n",
       "       0.09411765, 0.44705882, 0.86666667, 0.99215686, 0.99215686,\n",
       "       0.99215686, 0.99215686, 0.78823529, 0.30588235, 0.        ,\n",
       "       0.        , 0.        , 0.        , 0.        , 0.        ,\n",
       "       0.        , 0.        , 0.        , 0.        , 0.        ,\n",
       "       0.        , 0.        , 0.        , 0.        , 0.        ,\n",
       "       0.        , 0.09019608, 0.25882353, 0.83529412, 0.99215686,\n",
       "       0.99215686, 0.99215686, 0.99215686, 0.77647059, 0.31764706,\n",
       "       0.00784314, 0.        , 0.        , 0.        , 0.        ,\n",
       "       0.        , 0.        , 0.        , 0.        , 0.        ,\n",
       "       0.        , 0.        , 0.        , 0.        , 0.        ,\n",
       "       0.        , 0.        , 0.07058824, 0.67058824, 0.85882353,\n",
       "       0.99215686, 0.99215686, 0.99215686, 0.99215686, 0.76470588,\n",
       "       0.31372549, 0.03529412, 0.        , 0.        , 0.        ,\n",
       "       0.        , 0.        , 0.        , 0.        , 0.        ,\n",
       "       0.        , 0.        , 0.        , 0.        , 0.        ,\n",
       "       0.        , 0.        , 0.        , 0.21568627, 0.6745098 ,\n",
       "       0.88627451, 0.99215686, 0.99215686, 0.99215686, 0.99215686,\n",
       "       0.95686275, 0.52156863, 0.04313725, 0.        , 0.        ,\n",
       "       0.        , 0.        , 0.        , 0.        , 0.        ,\n",
       "       0.        , 0.        , 0.        , 0.        , 0.        ,\n",
       "       0.        , 0.        , 0.        , 0.        , 0.        ,\n",
       "       0.        , 0.53333333, 0.99215686, 0.99215686, 0.99215686,\n",
       "       0.83137255, 0.52941176, 0.51764706, 0.0627451 , 0.        ,\n",
       "       0.        , 0.        , 0.        , 0.        , 0.        ,\n",
       "       0.        , 0.        , 0.        , 0.        , 0.        ,\n",
       "       0.        , 0.        , 0.        , 0.        , 0.        ,\n",
       "       0.        , 0.        , 0.        , 0.        , 0.        ,\n",
       "       0.        , 0.        , 0.        , 0.        , 0.        ,\n",
       "       0.        , 0.        , 0.        , 0.        , 0.        ,\n",
       "       0.        , 0.        , 0.        , 0.        , 0.        ,\n",
       "       0.        , 0.        , 0.        , 0.        , 0.        ,\n",
       "       0.        , 0.        , 0.        , 0.        , 0.        ,\n",
       "       0.        , 0.        , 0.        , 0.        , 0.        ,\n",
       "       0.        , 0.        , 0.        , 0.        , 0.        ,\n",
       "       0.        , 0.        , 0.        , 0.        , 0.        ,\n",
       "       0.        , 0.        , 0.        , 0.        , 0.        ,\n",
       "       0.        , 0.        , 0.        , 0.        , 0.        ,\n",
       "       0.        , 0.        , 0.        , 0.        , 0.        ,\n",
       "       0.        , 0.        , 0.        , 0.        , 0.        ,\n",
       "       0.        , 0.        , 0.        , 0.        , 0.        ,\n",
       "       0.        , 0.        , 0.        , 0.        , 0.        ,\n",
       "       0.        , 0.        , 0.        , 0.        , 0.        ,\n",
       "       0.        , 0.        , 0.        , 0.        ])"
      ]
     },
     "execution_count": 395,
     "metadata": {},
     "output_type": "execute_result"
    }
   ],
   "source": [
    "X_train_normalized[0]"
   ]
  },
  {
   "cell_type": "code",
   "execution_count": 396,
   "metadata": {},
   "outputs": [],
   "source": [
    "X_test_normalized = X_test_flattened / 255"
   ]
  },
  {
   "cell_type": "markdown",
   "metadata": {},
   "source": [
    "### NN model with one hidden layer"
   ]
  },
  {
   "cell_type": "markdown",
   "metadata": {},
   "source": [
    "<img src=\"Figures/model2.png\" height=400 width=400 />"
   ]
  },
  {
   "cell_type": "markdown",
   "metadata": {},
   "source": [
    "###### Model configuration"
   ]
  },
  {
   "cell_type": "code",
   "execution_count": 398,
   "metadata": {},
   "outputs": [],
   "source": [
    "model = keras.Sequential([\n",
    "    # input layer 784 neurons to first hidden layer with 64 neurons\n",
    "    keras.layers.Dense(64, input_shape = (784,), activation='relu'), \n",
    "    # Previous hidden layer to output layer\n",
    "    keras.layers.Dense(10, activation='sigmoid')    \n",
    "])"
   ]
  },
  {
   "cell_type": "raw",
   "metadata": {},
   "source": [
    "model = Sequential()\n",
    "model.add(Dense(64, input_shape = (784,), activation='relu'))\n",
    "model.add(Dense(10, activation='sigmoid'))   "
   ]
  },
  {
   "cell_type": "markdown",
   "metadata": {},
   "source": [
    "##### Model summary"
   ]
  },
  {
   "cell_type": "code",
   "execution_count": 399,
   "metadata": {},
   "outputs": [
    {
     "name": "stdout",
     "output_type": "stream",
     "text": [
      "Model: \"sequential_94\"\n",
      "_________________________________________________________________\n",
      " Layer (type)                Output Shape              Param #   \n",
      "=================================================================\n",
      " dense_188 (Dense)           (None, 64)                50240     \n",
      "                                                                 \n",
      " dense_189 (Dense)           (None, 10)                650       \n",
      "                                                                 \n",
      "=================================================================\n",
      "Total params: 50,890\n",
      "Trainable params: 50,890\n",
      "Non-trainable params: 0\n",
      "_________________________________________________________________\n"
     ]
    }
   ],
   "source": [
    "model.summary()"
   ]
  },
  {
   "cell_type": "markdown",
   "metadata": {},
   "source": [
    "Layer details"
   ]
  },
  {
   "cell_type": "code",
   "execution_count": 400,
   "metadata": {},
   "outputs": [
    {
     "data": {
      "text/plain": [
       "[<keras.layers.core.dense.Dense at 0x2c0a05bb430>,\n",
       " <keras.layers.core.dense.Dense at 0x2c0a05bb1f0>]"
      ]
     },
     "execution_count": 400,
     "metadata": {},
     "output_type": "execute_result"
    }
   ],
   "source": [
    "model.layers"
   ]
  },
  {
   "cell_type": "code",
   "execution_count": 401,
   "metadata": {},
   "outputs": [
    {
     "data": {
      "text/plain": [
       "2"
      ]
     },
     "execution_count": 401,
     "metadata": {},
     "output_type": "execute_result"
    }
   ],
   "source": [
    "len(model.layers)"
   ]
  },
  {
   "cell_type": "code",
   "execution_count": 402,
   "metadata": {},
   "outputs": [],
   "source": [
    "model.compile(\n",
    "    optimizer = 'adam',\n",
    "    loss = 'sparse_categorical_crossentropy',\n",
    "    metrics = ['accuracy']\n",
    ")"
   ]
  },
  {
   "cell_type": "markdown",
   "metadata": {},
   "source": [
    "###### Training the model"
   ]
  },
  {
   "cell_type": "code",
   "execution_count": 403,
   "metadata": {
    "scrolled": true
   },
   "outputs": [
    {
     "name": "stdout",
     "output_type": "stream",
     "text": [
      "Epoch 1/100\n",
      "6/6 [==============================] - 1s 35ms/step - loss: 2.1397 - accuracy: 0.2593\n",
      "Epoch 2/100\n",
      "6/6 [==============================] - 0s 35ms/step - loss: 1.6485 - accuracy: 0.5891\n",
      "Epoch 3/100\n",
      "6/6 [==============================] - 0s 36ms/step - loss: 1.2389 - accuracy: 0.7230\n",
      "Epoch 4/100\n",
      "6/6 [==============================] - 0s 34ms/step - loss: 0.9414 - accuracy: 0.7922\n",
      "Epoch 5/100\n",
      "6/6 [==============================] - 0s 34ms/step - loss: 0.7460 - accuracy: 0.8233\n",
      "Epoch 6/100\n",
      "6/6 [==============================] - 0s 36ms/step - loss: 0.6198 - accuracy: 0.8475\n",
      "Epoch 7/100\n",
      "6/6 [==============================] - 0s 33ms/step - loss: 0.5375 - accuracy: 0.8653\n",
      "Epoch 8/100\n",
      "6/6 [==============================] - 0s 34ms/step - loss: 0.4818 - accuracy: 0.8765\n",
      "Epoch 9/100\n",
      "6/6 [==============================] - 0s 34ms/step - loss: 0.4418 - accuracy: 0.8841\n",
      "Epoch 10/100\n",
      "6/6 [==============================] - 0s 39ms/step - loss: 0.4120 - accuracy: 0.8911\n",
      "Epoch 11/100\n",
      "6/6 [==============================] - 0s 34ms/step - loss: 0.3884 - accuracy: 0.8961\n",
      "Epoch 12/100\n",
      "6/6 [==============================] - 0s 33ms/step - loss: 0.3694 - accuracy: 0.9015\n",
      "Epoch 13/100\n",
      "6/6 [==============================] - 0s 32ms/step - loss: 0.3537 - accuracy: 0.9054\n",
      "Epoch 14/100\n",
      "6/6 [==============================] - 0s 34ms/step - loss: 0.3405 - accuracy: 0.9086\n",
      "Epoch 15/100\n",
      "6/6 [==============================] - 0s 37ms/step - loss: 0.3289 - accuracy: 0.9118\n",
      "Epoch 16/100\n",
      "6/6 [==============================] - 0s 33ms/step - loss: 0.3189 - accuracy: 0.9143\n",
      "Epoch 17/100\n",
      "6/6 [==============================] - 0s 34ms/step - loss: 0.3098 - accuracy: 0.9164\n",
      "Epoch 18/100\n",
      "6/6 [==============================] - 0s 37ms/step - loss: 0.3018 - accuracy: 0.9182\n",
      "Epoch 19/100\n",
      "6/6 [==============================] - 0s 35ms/step - loss: 0.2943 - accuracy: 0.9204\n",
      "Epoch 20/100\n",
      "6/6 [==============================] - 0s 33ms/step - loss: 0.2876 - accuracy: 0.9221\n",
      "Epoch 21/100\n",
      "6/6 [==============================] - 0s 36ms/step - loss: 0.2814 - accuracy: 0.9235\n",
      "Epoch 22/100\n",
      "6/6 [==============================] - 0s 37ms/step - loss: 0.2755 - accuracy: 0.9248\n",
      "Epoch 23/100\n",
      "6/6 [==============================] - 0s 35ms/step - loss: 0.2699 - accuracy: 0.9266\n",
      "Epoch 24/100\n",
      "6/6 [==============================] - 0s 34ms/step - loss: 0.2647 - accuracy: 0.9279\n",
      "Epoch 25/100\n",
      "6/6 [==============================] - 0s 36ms/step - loss: 0.2599 - accuracy: 0.9289\n",
      "Epoch 26/100\n",
      "6/6 [==============================] - 0s 35ms/step - loss: 0.2553 - accuracy: 0.9307\n",
      "Epoch 27/100\n",
      "6/6 [==============================] - 0s 35ms/step - loss: 0.2508 - accuracy: 0.9317\n",
      "Epoch 28/100\n",
      "6/6 [==============================] - 0s 37ms/step - loss: 0.2465 - accuracy: 0.9329\n",
      "Epoch 29/100\n",
      "6/6 [==============================] - 0s 37ms/step - loss: 0.2424 - accuracy: 0.9338\n",
      "Epoch 30/100\n",
      "6/6 [==============================] - 0s 37ms/step - loss: 0.2385 - accuracy: 0.9347\n",
      "Epoch 31/100\n",
      "6/6 [==============================] - 0s 38ms/step - loss: 0.2349 - accuracy: 0.9361\n",
      "Epoch 32/100\n",
      "6/6 [==============================] - 0s 38ms/step - loss: 0.2313 - accuracy: 0.9366\n",
      "Epoch 33/100\n",
      "6/6 [==============================] - 0s 46ms/step - loss: 0.2278 - accuracy: 0.9376\n",
      "Epoch 34/100\n",
      "6/6 [==============================] - 0s 61ms/step - loss: 0.2244 - accuracy: 0.9388\n",
      "Epoch 35/100\n",
      "6/6 [==============================] - 0s 47ms/step - loss: 0.2209 - accuracy: 0.9394\n",
      "Epoch 36/100\n",
      "6/6 [==============================] - 0s 37ms/step - loss: 0.2177 - accuracy: 0.9402\n",
      "Epoch 37/100\n",
      "6/6 [==============================] - 0s 40ms/step - loss: 0.2146 - accuracy: 0.9407\n",
      "Epoch 38/100\n",
      "6/6 [==============================] - 0s 39ms/step - loss: 0.2116 - accuracy: 0.9418\n",
      "Epoch 39/100\n",
      "6/6 [==============================] - 0s 36ms/step - loss: 0.2087 - accuracy: 0.9429\n",
      "Epoch 40/100\n",
      "6/6 [==============================] - 0s 35ms/step - loss: 0.2059 - accuracy: 0.9432\n",
      "Epoch 41/100\n",
      "6/6 [==============================] - 0s 37ms/step - loss: 0.2031 - accuracy: 0.9442\n",
      "Epoch 42/100\n",
      "6/6 [==============================] - 0s 37ms/step - loss: 0.2004 - accuracy: 0.9445\n",
      "Epoch 43/100\n",
      "6/6 [==============================] - 0s 35ms/step - loss: 0.1979 - accuracy: 0.9453\n",
      "Epoch 44/100\n",
      "6/6 [==============================] - 0s 37ms/step - loss: 0.1953 - accuracy: 0.9462\n",
      "Epoch 45/100\n",
      "6/6 [==============================] - 0s 40ms/step - loss: 0.1927 - accuracy: 0.9468\n",
      "Epoch 46/100\n",
      "6/6 [==============================] - 0s 38ms/step - loss: 0.1903 - accuracy: 0.9475\n",
      "Epoch 47/100\n",
      "6/6 [==============================] - 0s 35ms/step - loss: 0.1880 - accuracy: 0.9477\n",
      "Epoch 48/100\n",
      "6/6 [==============================] - 0s 37ms/step - loss: 0.1857 - accuracy: 0.9485\n",
      "Epoch 49/100\n",
      "6/6 [==============================] - 0s 38ms/step - loss: 0.1835 - accuracy: 0.9493\n",
      "Epoch 50/100\n",
      "6/6 [==============================] - 0s 37ms/step - loss: 0.1812 - accuracy: 0.9499\n",
      "Epoch 51/100\n",
      "6/6 [==============================] - 0s 40ms/step - loss: 0.1791 - accuracy: 0.9506\n",
      "Epoch 52/100\n",
      "6/6 [==============================] - 0s 37ms/step - loss: 0.1770 - accuracy: 0.9511\n",
      "Epoch 53/100\n",
      "6/6 [==============================] - 0s 40ms/step - loss: 0.1749 - accuracy: 0.9513\n",
      "Epoch 54/100\n",
      "6/6 [==============================] - 0s 38ms/step - loss: 0.1729 - accuracy: 0.9524\n",
      "Epoch 55/100\n",
      "6/6 [==============================] - 0s 37ms/step - loss: 0.1709 - accuracy: 0.9529\n",
      "Epoch 56/100\n",
      "6/6 [==============================] - 0s 39ms/step - loss: 0.1689 - accuracy: 0.9532\n",
      "Epoch 57/100\n",
      "6/6 [==============================] - 0s 37ms/step - loss: 0.1670 - accuracy: 0.9539\n",
      "Epoch 58/100\n",
      "6/6 [==============================] - 0s 41ms/step - loss: 0.1652 - accuracy: 0.9543\n",
      "Epoch 59/100\n",
      "6/6 [==============================] - 0s 42ms/step - loss: 0.1634 - accuracy: 0.9549\n",
      "Epoch 60/100\n",
      "6/6 [==============================] - 0s 38ms/step - loss: 0.1616 - accuracy: 0.9554\n",
      "Epoch 61/100\n",
      "6/6 [==============================] - 0s 38ms/step - loss: 0.1597 - accuracy: 0.9556\n",
      "Epoch 62/100\n",
      "6/6 [==============================] - 0s 35ms/step - loss: 0.1580 - accuracy: 0.9560\n",
      "Epoch 63/100\n",
      "6/6 [==============================] - 0s 38ms/step - loss: 0.1564 - accuracy: 0.9566\n",
      "Epoch 64/100\n",
      "6/6 [==============================] - 0s 40ms/step - loss: 0.1549 - accuracy: 0.9571\n",
      "Epoch 65/100\n",
      "6/6 [==============================] - 0s 41ms/step - loss: 0.1531 - accuracy: 0.9575\n",
      "Epoch 66/100\n",
      "6/6 [==============================] - 0s 38ms/step - loss: 0.1515 - accuracy: 0.9581\n",
      "Epoch 67/100\n",
      "6/6 [==============================] - 0s 41ms/step - loss: 0.1499 - accuracy: 0.9582\n",
      "Epoch 68/100\n",
      "6/6 [==============================] - 0s 44ms/step - loss: 0.1483 - accuracy: 0.9592\n",
      "Epoch 69/100\n",
      "6/6 [==============================] - 0s 43ms/step - loss: 0.1468 - accuracy: 0.9595\n",
      "Epoch 70/100\n",
      "6/6 [==============================] - 0s 42ms/step - loss: 0.1454 - accuracy: 0.9599\n",
      "Epoch 71/100\n",
      "6/6 [==============================] - 0s 42ms/step - loss: 0.1439 - accuracy: 0.9605\n",
      "Epoch 72/100\n",
      "6/6 [==============================] - 0s 39ms/step - loss: 0.1424 - accuracy: 0.9606\n",
      "Epoch 73/100\n",
      "6/6 [==============================] - 0s 40ms/step - loss: 0.1409 - accuracy: 0.9610\n",
      "Epoch 74/100\n",
      "6/6 [==============================] - 0s 37ms/step - loss: 0.1395 - accuracy: 0.9618\n",
      "Epoch 75/100\n",
      "6/6 [==============================] - 0s 41ms/step - loss: 0.1382 - accuracy: 0.9620\n",
      "Epoch 76/100\n",
      "6/6 [==============================] - 0s 41ms/step - loss: 0.1367 - accuracy: 0.9624\n",
      "Epoch 77/100\n",
      "6/6 [==============================] - 0s 44ms/step - loss: 0.1354 - accuracy: 0.9629\n",
      "Epoch 78/100\n",
      "6/6 [==============================] - 0s 44ms/step - loss: 0.1340 - accuracy: 0.9632\n",
      "Epoch 79/100\n",
      "6/6 [==============================] - 0s 41ms/step - loss: 0.1326 - accuracy: 0.9638\n",
      "Epoch 80/100\n",
      "6/6 [==============================] - 0s 44ms/step - loss: 0.1314 - accuracy: 0.9638\n",
      "Epoch 81/100\n",
      "6/6 [==============================] - 0s 45ms/step - loss: 0.1302 - accuracy: 0.9642\n",
      "Epoch 82/100\n",
      "6/6 [==============================] - 0s 39ms/step - loss: 0.1289 - accuracy: 0.9645\n",
      "Epoch 83/100\n",
      "6/6 [==============================] - 0s 40ms/step - loss: 0.1278 - accuracy: 0.9647\n",
      "Epoch 84/100\n",
      "6/6 [==============================] - 0s 37ms/step - loss: 0.1264 - accuracy: 0.9651\n",
      "Epoch 85/100\n",
      "6/6 [==============================] - 0s 37ms/step - loss: 0.1252 - accuracy: 0.9655\n",
      "Epoch 86/100\n",
      "6/6 [==============================] - 0s 35ms/step - loss: 0.1241 - accuracy: 0.9655\n",
      "Epoch 87/100\n",
      "6/6 [==============================] - 0s 34ms/step - loss: 0.1228 - accuracy: 0.9658\n",
      "Epoch 88/100\n",
      "6/6 [==============================] - 0s 36ms/step - loss: 0.1217 - accuracy: 0.9662\n",
      "Epoch 89/100\n",
      "6/6 [==============================] - 0s 37ms/step - loss: 0.1206 - accuracy: 0.9667\n",
      "Epoch 90/100\n",
      "6/6 [==============================] - 0s 38ms/step - loss: 0.1194 - accuracy: 0.9669\n",
      "Epoch 91/100\n",
      "6/6 [==============================] - 0s 37ms/step - loss: 0.1184 - accuracy: 0.9669\n",
      "Epoch 92/100\n",
      "6/6 [==============================] - 0s 37ms/step - loss: 0.1173 - accuracy: 0.9675\n",
      "Epoch 93/100\n",
      "6/6 [==============================] - 0s 35ms/step - loss: 0.1163 - accuracy: 0.9677\n",
      "Epoch 94/100\n",
      "6/6 [==============================] - 0s 67ms/step - loss: 0.1152 - accuracy: 0.9680\n",
      "Epoch 95/100\n",
      "6/6 [==============================] - 0s 42ms/step - loss: 0.1142 - accuracy: 0.9682\n",
      "Epoch 96/100\n",
      "6/6 [==============================] - 0s 34ms/step - loss: 0.1134 - accuracy: 0.9683\n",
      "Epoch 97/100\n",
      "6/6 [==============================] - 0s 35ms/step - loss: 0.1125 - accuracy: 0.9685\n",
      "Epoch 98/100\n",
      "6/6 [==============================] - 0s 37ms/step - loss: 0.1113 - accuracy: 0.9691\n",
      "Epoch 99/100\n",
      "6/6 [==============================] - 0s 35ms/step - loss: 0.1103 - accuracy: 0.9694\n",
      "Epoch 100/100\n",
      "6/6 [==============================] - 0s 32ms/step - loss: 0.1094 - accuracy: 0.9697\n"
     ]
    },
    {
     "data": {
      "text/plain": [
       "<keras.callbacks.History at 0x2c0a05b4f40>"
      ]
     },
     "execution_count": 403,
     "metadata": {},
     "output_type": "execute_result"
    }
   ],
   "source": [
    "model.fit(X_train_normalized, y_train, epochs = 100, verbose=1, batch_size=10000)"
   ]
  },
  {
   "cell_type": "markdown",
   "metadata": {},
   "source": [
    "##### Printing the weights"
   ]
  },
  {
   "cell_type": "markdown",
   "metadata": {},
   "source": [
    "Getting weights and bias values after the training stage"
   ]
  },
  {
   "cell_type": "code",
   "execution_count": 404,
   "metadata": {},
   "outputs": [
    {
     "name": "stderr",
     "output_type": "stream",
     "text": [
      "<ipython-input-404-4f8fb3d8cc7f>:3: VisibleDeprecationWarning: Creating an ndarray from ragged nested sequences (which is a list-or-tuple of lists-or-tuples-or ndarrays with different lengths or shapes) is deprecated. If you meant to do this, you must specify 'dtype=object' when creating the ndarray.\n",
      "  weights = np.array(original_weights)\n"
     ]
    },
    {
     "data": {
      "text/plain": [
       "array([array([[ 0.03313845, -0.05806822, -0.06300296, ..., -0.0628145 ,\n",
       "                0.00584284, -0.03571126],\n",
       "              [ 0.05299837, -0.07606329,  0.07917354, ...,  0.02267645,\n",
       "                0.08102488,  0.07239794],\n",
       "              [-0.03857384, -0.04556585, -0.01038469, ...,  0.00685869,\n",
       "                0.02624539, -0.0532121 ],\n",
       "              ...,\n",
       "              [ 0.05094124, -0.07877113, -0.08311564, ..., -0.02148538,\n",
       "               -0.07875767,  0.06038708],\n",
       "              [-0.04329074, -0.01596504,  0.08128626, ..., -0.03404623,\n",
       "                0.04891136,  0.08062259],\n",
       "              [ 0.05455414, -0.0238579 , -0.05515278, ..., -0.07196478,\n",
       "                0.08281463,  0.02076405]], dtype=float32)              ,\n",
       "       array([ 0.05232109,  0.08736482, -0.08231933,  0.01211582,  0.00458064,\n",
       "               0.03812985,  0.16841695,  0.01041508,  0.02917773,  0.04843887,\n",
       "               0.20593856,  0.0232954 ,  0.11044628, -0.03851435, -0.00929046,\n",
       "               0.02504925,  0.04867984, -0.0160343 ,  0.0625328 ,  0.11035717,\n",
       "               0.02140745, -0.0450017 ,  0.05870792,  0.0780674 ,  0.05065313,\n",
       "               0.05217264,  0.03214836,  0.05520001, -0.0577762 ,  0.12832502,\n",
       "               0.0573783 ,  0.20155184, -0.08349374,  0.08398577, -0.02551393,\n",
       "              -0.04493155,  0.06416006, -0.00933366,  0.05196128, -0.03291681,\n",
       "              -0.03734412,  0.02055074,  0.01338655, -0.12397888,  0.03296715,\n",
       "              -0.0834765 ,  0.06671446, -0.04816326, -0.04621329,  0.00470987,\n",
       "              -0.0578814 ,  0.0647288 , -0.01923519,  0.04551282,  0.03181357,\n",
       "              -0.06914335,  0.06330365,  0.04253759,  0.08764268, -0.00964639,\n",
       "               0.00395405,  0.02047261,  0.10625917,  0.09375841], dtype=float32),\n",
       "       array([[-3.09624046e-01,  8.24916884e-02,  8.22237357e-02,\n",
       "               -2.28904963e-01,  2.50713557e-01, -6.75480142e-02,\n",
       "                3.57565403e-01,  1.45755351e-01, -1.86024621e-01,\n",
       "                2.26056114e-01],\n",
       "              [-4.49724555e-01,  3.87801588e-01, -4.49951231e-01,\n",
       "               -5.56913972e-01,  8.77468288e-03,  3.04637790e-01,\n",
       "                2.69348264e-01, -1.41604751e-01, -3.62319261e-01,\n",
       "                2.04117909e-01],\n",
       "              [ 3.20476681e-01,  1.19318068e-01,  2.64397532e-01,\n",
       "               -2.46136889e-01,  8.43825266e-02, -5.91564596e-01,\n",
       "                2.25835696e-01, -3.00781369e-01, -4.47164267e-01,\n",
       "                4.01692390e-01],\n",
       "              [ 5.14119640e-02,  3.89341116e-01, -3.45448226e-01,\n",
       "                2.92563051e-01,  2.98921555e-01, -6.05802000e-01,\n",
       "               -7.25607872e-02,  2.73730487e-01, -1.22641370e-01,\n",
       "               -2.16751724e-01],\n",
       "              [ 4.73080009e-01, -2.35821962e-01, -4.90836501e-02,\n",
       "               -2.57490762e-02,  3.14414829e-01, -1.11421354e-01,\n",
       "                1.56887040e-01,  3.03242445e-01, -5.98548770e-01,\n",
       "                6.88060597e-02],\n",
       "              [-1.10537978e-02, -2.91273117e-01, -1.62486266e-02,\n",
       "               -2.66226947e-01,  3.33893836e-01,  3.89051706e-01,\n",
       "               -2.65624076e-01, -4.04885530e-01,  1.37348682e-01,\n",
       "               -3.30512747e-02],\n",
       "              [ 2.96805292e-01,  9.99539942e-02,  2.10224688e-02,\n",
       "                1.20127402e-01, -1.01046771e-01,  4.77609128e-01,\n",
       "               -1.27990395e-01,  3.71943563e-01, -7.09763467e-01,\n",
       "               -2.67560840e-01],\n",
       "              [-2.35068798e-01,  1.19870752e-01,  2.63184041e-01,\n",
       "                3.56353104e-01, -2.48021752e-01, -3.69848937e-01,\n",
       "               -2.19950750e-01,  1.95889518e-01,  1.05673276e-01,\n",
       "                3.89153749e-01],\n",
       "              [-2.52808958e-01,  5.93536384e-02,  3.10569793e-01,\n",
       "               -1.58905074e-01, -6.09269626e-02, -1.50359184e-01,\n",
       "               -1.87651128e-01, -7.66476691e-02,  1.39726654e-01,\n",
       "                9.29563716e-02],\n",
       "              [ 1.03421837e-01,  2.72726834e-01, -2.83713162e-01,\n",
       "               -3.02346766e-01, -4.33758795e-02, -1.67715505e-01,\n",
       "                1.10162251e-01,  7.81596079e-02, -4.70316350e-01,\n",
       "                3.08175273e-02],\n",
       "              [ 3.73614460e-01,  5.82315564e-01, -1.58466888e-03,\n",
       "               -3.08021218e-01, -5.07844627e-01,  5.54461718e-01,\n",
       "                1.14335716e-01,  2.01961502e-01, -5.89747190e-01,\n",
       "               -4.86280650e-01],\n",
       "              [-3.45988721e-01,  3.59363675e-01,  3.40927213e-01,\n",
       "               -3.13500226e-01,  2.69252479e-01, -3.74960065e-01,\n",
       "                1.83446273e-01,  2.92226851e-01,  2.22781539e-01,\n",
       "               -5.92525244e-01],\n",
       "              [-2.44118214e-01, -2.84451246e-01, -1.29381632e-02,\n",
       "               -8.52116272e-02,  2.00750843e-01,  2.64527410e-01,\n",
       "               -3.44461948e-01,  4.65254009e-01, -5.50620615e-01,\n",
       "                1.86608210e-01],\n",
       "              [ 1.28831372e-01, -4.97476794e-02, -3.83637995e-01,\n",
       "                2.93165475e-01, -3.48415524e-01,  1.23546766e-02,\n",
       "               -3.39840382e-01, -8.76848251e-02,  2.54893243e-01,\n",
       "                3.34129661e-01],\n",
       "              [ 3.47637869e-02, -1.18116848e-03,  1.58476025e-01,\n",
       "                4.37682450e-01, -3.22114766e-01, -2.30293185e-01,\n",
       "                2.06664532e-01, -2.37299263e-01, -3.48563343e-01,\n",
       "               -4.27984804e-01],\n",
       "              [-2.16186211e-01,  3.03610340e-02,  1.82421014e-01,\n",
       "               -1.04080468e-01, -8.06351453e-02, -4.63218808e-01,\n",
       "               -2.25359693e-01,  3.41251373e-01,  2.07673937e-01,\n",
       "                3.94870579e-01],\n",
       "              [ 6.53417632e-02,  3.32143515e-01, -5.74865699e-01,\n",
       "               -6.29766434e-02, -4.16729003e-02, -5.91824166e-02,\n",
       "                1.99755058e-01,  9.12747160e-02, -2.93162107e-01,\n",
       "               -5.04957736e-01],\n",
       "              [ 1.73743337e-01, -2.85071522e-01,  5.25880575e-01,\n",
       "                7.51482025e-02,  4.91968766e-02, -3.97265583e-01,\n",
       "               -3.40698808e-01,  1.39140815e-01, -7.17521429e-01,\n",
       "                2.37808198e-01],\n",
       "              [ 1.60338834e-01,  8.26464891e-02,  1.86786160e-01,\n",
       "               -2.12603241e-01,  3.60483490e-02,  2.49208525e-01,\n",
       "                3.77216429e-01, -1.77609786e-01,  2.25256026e-01,\n",
       "               -3.40631098e-01],\n",
       "              [-3.73931617e-01,  1.56290755e-01,  8.62107053e-02,\n",
       "               -1.17732309e-01, -5.40113509e-01,  3.71964097e-01,\n",
       "               -3.49969149e-01, -1.76366553e-01, -2.17170477e-01,\n",
       "                2.36068755e-01],\n",
       "              [-3.77941608e-01, -1.43256024e-01,  3.49244446e-01,\n",
       "                3.55410159e-01,  5.30585647e-02, -2.06549689e-01,\n",
       "                2.74571657e-01, -3.73746872e-01, -1.45345896e-01,\n",
       "                1.03128999e-02],\n",
       "              [-2.50516266e-01, -9.62560847e-02, -1.59343615e-01,\n",
       "                3.48100036e-01, -1.25904754e-01, -4.35164534e-02,\n",
       "               -3.09185416e-01, -3.70212317e-01, -7.59672225e-02,\n",
       "                4.31984633e-01],\n",
       "              [-3.17018456e-03,  6.44137800e-01, -3.29990625e-01,\n",
       "               -3.38859349e-01,  5.68899035e-01,  2.53043026e-01,\n",
       "                2.30194271e-01,  1.02516539e-01, -4.08527046e-01,\n",
       "               -7.04031765e-01],\n",
       "              [-3.37742031e-01,  9.67588797e-02, -1.79794043e-01,\n",
       "                2.73333251e-01, -3.32955927e-01,  2.15615723e-02,\n",
       "               -2.83269346e-01, -3.33337635e-01, -1.10846058e-01,\n",
       "               -3.45938295e-01],\n",
       "              [-4.45826985e-02, -4.15382087e-01,  8.69467705e-02,\n",
       "               -1.67710721e-01, -3.54705364e-01,  1.43309027e-01,\n",
       "                2.69045413e-01,  3.45811546e-01,  3.17790985e-01,\n",
       "                1.51531622e-01],\n",
       "              [ 2.03828990e-01, -2.75417298e-01, -3.38218398e-02,\n",
       "               -1.49800152e-01, -7.24542961e-02,  3.61191273e-01,\n",
       "                7.84174353e-03, -2.16635600e-01, -3.79352808e-01,\n",
       "                2.81094462e-01],\n",
       "              [-1.56479399e-03, -4.42146897e-01,  5.21478355e-01,\n",
       "               -4.09246773e-01,  2.74094403e-01, -2.51080126e-01,\n",
       "                2.78179199e-01,  1.21002682e-01, -1.61168009e-01,\n",
       "               -5.98928750e-01],\n",
       "              [ 6.49437085e-02,  9.03769061e-02, -2.11768612e-01,\n",
       "                1.29557222e-01, -1.07732955e-02,  3.16589385e-01,\n",
       "                6.17802795e-03, -3.48721415e-01,  1.68631777e-01,\n",
       "               -2.78621584e-01],\n",
       "              [-2.31918499e-01,  1.99966747e-02,  3.45343977e-01,\n",
       "                3.66104484e-01, -1.73348621e-01,  4.22983468e-02,\n",
       "               -1.97019383e-01,  2.01910302e-01,  1.01383319e-02,\n",
       "               -3.57325882e-01],\n",
       "              [-4.00657624e-01,  3.91530335e-01,  6.21846020e-02,\n",
       "                3.89420360e-01,  3.76381487e-01,  2.55831271e-01,\n",
       "                2.23686174e-01,  2.42455184e-01,  2.28150144e-01,\n",
       "               -4.01010275e-01],\n",
       "              [-3.03009033e-01, -4.98542428e-01, -2.45064311e-02,\n",
       "               -2.35143870e-01,  2.57429957e-01, -2.54920512e-01,\n",
       "                2.80610085e-01,  3.09834540e-01, -7.05896541e-02,\n",
       "                2.37567991e-01],\n",
       "              [-4.76067424e-01, -2.86456615e-01, -4.11856361e-02,\n",
       "                2.79114217e-01,  3.78461450e-01,  5.02296805e-01,\n",
       "               -5.27147889e-01,  4.04868454e-01, -5.70086017e-02,\n",
       "               -2.39601731e-01],\n",
       "              [ 2.01127809e-02, -1.52301624e-01,  5.22508658e-02,\n",
       "               -1.00637518e-01, -1.18582912e-01, -3.47098529e-01,\n",
       "               -2.46620297e-01,  6.24301508e-02,  3.83241385e-01,\n",
       "                2.68657804e-01],\n",
       "              [-1.51140541e-01,  2.52623528e-01,  4.72929537e-01,\n",
       "                9.84304696e-02, -7.57360011e-02, -3.71847928e-01,\n",
       "               -3.40061218e-01,  4.51514244e-01, -4.75326806e-01,\n",
       "               -5.23780882e-01],\n",
       "              [-3.57148826e-01, -2.33925924e-01,  4.03262407e-01,\n",
       "               -6.56046867e-02,  7.46326149e-02, -7.95705989e-02,\n",
       "                3.28174412e-01, -6.13738835e-01,  1.45329475e-01,\n",
       "                2.70507365e-01],\n",
       "              [-1.06958048e-02,  1.41790286e-01, -8.07811469e-02,\n",
       "                2.37696748e-02,  3.10676098e-01, -2.49038428e-01,\n",
       "               -2.48506606e-01, -2.59281993e-02,  3.74992639e-01,\n",
       "               -2.27617323e-01],\n",
       "              [-3.93061578e-01,  2.95888364e-01, -1.16251037e-01,\n",
       "                2.75144368e-01, -3.89202446e-01,  4.50907409e-01,\n",
       "               -2.71580487e-01,  1.18411727e-01, -1.25301197e-01,\n",
       "                1.46302998e-01],\n",
       "              [-1.98323876e-02,  9.05673429e-02,  2.99698580e-02,\n",
       "                2.97917034e-02, -4.93039221e-01, -1.50479704e-01,\n",
       "               -2.78299451e-01,  1.32951155e-01,  1.02781318e-01,\n",
       "               -3.43764991e-01],\n",
       "              [ 1.82323530e-01, -9.79615748e-02,  1.52572721e-01,\n",
       "                1.28593937e-01, -3.54291916e-01, -1.84921116e-01,\n",
       "               -4.09006417e-01,  1.15925513e-01, -2.85652608e-01,\n",
       "                7.49829262e-02],\n",
       "              [-5.10556041e-04,  3.99349891e-02, -4.97814029e-01,\n",
       "                3.74561958e-02,  3.42344195e-01, -3.79041612e-01,\n",
       "                2.34946519e-01, -6.34966493e-02,  2.28277132e-01,\n",
       "                1.15312800e-01],\n",
       "              [ 2.29081407e-01, -3.77110243e-01,  9.49671119e-02,\n",
       "                3.49100322e-01,  2.60815889e-01, -3.85622829e-02,\n",
       "               -2.12433740e-01, -2.32121393e-01,  3.77758103e-03,\n",
       "               -2.17938080e-01],\n",
       "              [ 4.89219800e-02, -1.51989877e-01,  4.72333133e-01,\n",
       "               -3.24818432e-01,  1.90289214e-01,  2.54065365e-01,\n",
       "                1.11090779e-01, -3.32242548e-01,  3.20684671e-01,\n",
       "               -5.67316949e-01],\n",
       "              [-1.05411120e-01,  2.93170065e-01,  2.50095040e-01,\n",
       "               -2.88334578e-01,  1.11773707e-01, -1.99113488e-01,\n",
       "                3.32595110e-01, -2.53500581e-01,  9.91835445e-02,\n",
       "                1.84151173e-01],\n",
       "              [ 3.38400245e-01, -4.23072845e-01, -2.22313568e-01,\n",
       "               -2.00001150e-02, -9.15861223e-03, -1.31229103e-01,\n",
       "                8.89282383e-04,  5.42177521e-02,  3.17107856e-01,\n",
       "                2.67627954e-01],\n",
       "              [-2.73690403e-01, -1.60902590e-01,  3.73680115e-01,\n",
       "               -1.30369574e-01,  2.67297506e-01, -1.46918431e-01,\n",
       "               -1.74559325e-01, -5.10306120e-01, -3.23404133e-01,\n",
       "                1.60691768e-01],\n",
       "              [ 2.40175650e-01,  3.26757953e-02, -5.42791367e-01,\n",
       "                3.53669375e-01,  2.43469894e-01, -2.90832907e-01,\n",
       "                2.67547280e-01, -2.25498877e-03, -5.96776307e-01,\n",
       "               -1.29638640e-02],\n",
       "              [-3.21480840e-01,  3.02501380e-01,  1.19915396e-01,\n",
       "               -5.50925016e-01, -1.63202971e-01,  3.89874801e-02,\n",
       "                3.78953934e-01,  7.32192174e-02,  4.25233662e-01,\n",
       "                4.36695784e-01],\n",
       "              [-2.37053439e-01,  1.18498974e-01,  2.94523329e-01,\n",
       "               -2.20636711e-01,  3.98885071e-01, -4.26504880e-01,\n",
       "               -2.37727851e-01, -3.67992669e-01,  1.65234372e-01,\n",
       "               -2.25375503e-01],\n",
       "              [ 5.92879131e-02, -3.43094707e-01, -7.05549270e-02,\n",
       "                1.07465729e-01, -3.45314354e-01,  2.51259893e-01,\n",
       "                1.00279070e-01, -3.23472470e-01,  1.14068747e-01,\n",
       "                2.81125847e-02],\n",
       "              [ 2.27062702e-01, -1.85638070e-01,  2.84716308e-01,\n",
       "               -2.44559735e-01,  2.17170656e-01,  3.02870303e-01,\n",
       "                3.17884445e-01, -3.82624894e-01,  2.88320512e-01,\n",
       "               -2.67998695e-01],\n",
       "              [ 1.93267226e-01, -7.66182989e-02, -1.96476072e-01,\n",
       "               -2.99555779e-01,  1.91588372e-01, -3.60132664e-01,\n",
       "                2.32229218e-01, -4.27172601e-01, -1.15354098e-01,\n",
       "                1.19236521e-01],\n",
       "              [ 3.01368356e-01, -1.07779764e-01,  2.47329950e-01,\n",
       "               -1.56707168e-01,  7.42278248e-02, -8.04355815e-02,\n",
       "               -1.56058464e-02,  3.30803692e-01, -1.69016510e-01,\n",
       "               -1.25567168e-01],\n",
       "              [ 1.50815964e-01, -4.25956637e-01, -1.23981826e-01,\n",
       "                3.08686256e-01, -2.44154170e-01,  3.20743740e-01,\n",
       "               -2.61495411e-01, -8.16578865e-02,  1.16406307e-01,\n",
       "                2.25146022e-03],\n",
       "              [-4.15556610e-01, -2.34645337e-01, -1.75019816e-01,\n",
       "                2.27042019e-01,  3.76955062e-01,  2.99870253e-01,\n",
       "               -2.71735311e-01, -4.03605580e-01, -9.71715674e-02,\n",
       "                1.09709308e-01],\n",
       "              [ 2.88964808e-01,  1.54643178e-01, -1.60439268e-01,\n",
       "               -2.57845391e-02, -1.64138898e-01,  3.41192573e-01,\n",
       "               -7.47580035e-03, -2.87610561e-01,  3.74580801e-01,\n",
       "               -2.89159477e-01],\n",
       "              [ 3.19738150e-01, -1.78086728e-01, -6.77011311e-01,\n",
       "               -5.31910002e-01,  3.54022235e-01,  6.56543911e-01,\n",
       "                5.38632870e-01, -4.02313098e-02,  1.78396448e-01,\n",
       "                4.31196868e-01],\n",
       "              [-1.21933676e-01, -2.32381642e-01, -3.01753074e-01,\n",
       "               -9.81894806e-02,  8.12126249e-02, -2.22183421e-01,\n",
       "               -2.58256972e-01,  3.59389305e-01,  4.73003946e-02,\n",
       "               -1.87896490e-01],\n",
       "              [-2.49939337e-01,  1.93758115e-01, -1.84998121e-02,\n",
       "                3.75590920e-01, -4.19763088e-01,  3.11759979e-01,\n",
       "                7.88322762e-02, -1.55780435e-01,  1.96087167e-01,\n",
       "               -9.26010460e-02],\n",
       "              [-2.29832023e-01,  2.30303973e-01,  2.40766108e-01,\n",
       "               -4.20085907e-01,  2.53826916e-01, -4.10051078e-01,\n",
       "               -3.00281882e-01,  1.18122995e-01, -8.66435543e-02,\n",
       "                2.26044744e-01],\n",
       "              [ 1.33068174e-01, -1.94535971e-01, -3.73350531e-01,\n",
       "                3.91290665e-01,  6.93719313e-02,  4.46157455e-01,\n",
       "               -1.85822379e-02, -1.65236473e-01, -2.19115298e-02,\n",
       "                3.78894210e-01],\n",
       "              [ 3.71570200e-01,  4.19926383e-02,  2.49293774e-01,\n",
       "                4.92540374e-02, -2.49597669e-01,  4.23359172e-03,\n",
       "               -7.72310123e-02, -2.13001624e-01, -2.08376899e-01,\n",
       "               -1.97336942e-01],\n",
       "              [ 3.44299138e-01,  4.97556813e-02, -1.55044675e-01,\n",
       "               -4.27618027e-01,  9.69497263e-02, -2.56742597e-01,\n",
       "                1.63737193e-01,  4.67685223e-01, -3.54938060e-02,\n",
       "               -1.84476282e-02],\n",
       "              [-3.33008051e-01,  4.35308367e-02, -2.00464010e-01,\n",
       "               -6.51526526e-02,  6.16625287e-02,  1.21383794e-01,\n",
       "               -2.83721328e-01,  3.22285622e-01, -3.19714457e-01,\n",
       "                6.99468851e-02],\n",
       "              [ 2.14263320e-01, -1.91416647e-02,  2.53532201e-01,\n",
       "                1.53551579e-01, -8.82375911e-02,  3.84843200e-02,\n",
       "                1.56375710e-02,  4.06486273e-01, -3.99088383e-01,\n",
       "               -3.41132015e-01]], dtype=float32)                 ,\n",
       "       array([-0.12543269,  0.06943326,  0.02147546, -0.03645208, -0.00770996,\n",
       "               0.11889728, -0.06301852,  0.08854801, -0.10084939, -0.01300905],\n",
       "             dtype=float32)                                                    ],\n",
       "      dtype=object)"
      ]
     },
     "execution_count": 404,
     "metadata": {},
     "output_type": "execute_result"
    }
   ],
   "source": [
    "original_weights = model.get_weights()\n",
    "# convert list to array\n",
    "weights = np.array(original_weights)\n",
    "weights"
   ]
  },
  {
   "cell_type": "code",
   "execution_count": 405,
   "metadata": {},
   "outputs": [
    {
     "data": {
      "text/plain": [
       "(4,)"
      ]
     },
     "execution_count": 405,
     "metadata": {},
     "output_type": "execute_result"
    }
   ],
   "source": [
    "weights.shape"
   ]
  },
  {
   "cell_type": "code",
   "execution_count": 406,
   "metadata": {},
   "outputs": [
    {
     "data": {
      "text/plain": [
       "(784, 64)"
      ]
     },
     "execution_count": 406,
     "metadata": {},
     "output_type": "execute_result"
    }
   ],
   "source": [
    "# weights of first layer\n",
    "weights[0].shape"
   ]
  },
  {
   "cell_type": "code",
   "execution_count": 407,
   "metadata": {},
   "outputs": [
    {
     "data": {
      "text/plain": [
       "(64,)"
      ]
     },
     "execution_count": 407,
     "metadata": {},
     "output_type": "execute_result"
    }
   ],
   "source": [
    "# bias of first layer\n",
    "weights[1].shape"
   ]
  },
  {
   "cell_type": "code",
   "execution_count": 408,
   "metadata": {},
   "outputs": [
    {
     "data": {
      "text/plain": [
       "(64, 10)"
      ]
     },
     "execution_count": 408,
     "metadata": {},
     "output_type": "execute_result"
    }
   ],
   "source": [
    "# weights of second layer\n",
    "weights[2].shape"
   ]
  },
  {
   "cell_type": "code",
   "execution_count": 409,
   "metadata": {},
   "outputs": [
    {
     "data": {
      "text/plain": [
       "(10,)"
      ]
     },
     "execution_count": 409,
     "metadata": {},
     "output_type": "execute_result"
    }
   ],
   "source": [
    "# bias of second layer\n",
    "weights[3].shape"
   ]
  },
  {
   "cell_type": "code",
   "execution_count": 410,
   "metadata": {},
   "outputs": [
    {
     "data": {
      "text/plain": [
       "array([[ 0.03313845, -0.05806822, -0.06300296, ..., -0.0628145 ,\n",
       "         0.00584284, -0.03571126],\n",
       "       [ 0.05299837, -0.07606329,  0.07917354, ...,  0.02267645,\n",
       "         0.08102488,  0.07239794],\n",
       "       [-0.03857384, -0.04556585, -0.01038469, ...,  0.00685869,\n",
       "         0.02624539, -0.0532121 ],\n",
       "       ...,\n",
       "       [ 0.05094124, -0.07877113, -0.08311564, ..., -0.02148538,\n",
       "        -0.07875767,  0.06038708],\n",
       "       [-0.04329074, -0.01596504,  0.08128626, ..., -0.03404623,\n",
       "         0.04891136,  0.08062259],\n",
       "       [ 0.05455414, -0.0238579 , -0.05515278, ..., -0.07196478,\n",
       "         0.08281463,  0.02076405]], dtype=float32)"
      ]
     },
     "execution_count": 410,
     "metadata": {},
     "output_type": "execute_result"
    }
   ],
   "source": [
    "weights[0] "
   ]
  },
  {
   "cell_type": "code",
   "execution_count": 411,
   "metadata": {},
   "outputs": [
    {
     "data": {
      "text/plain": [
       "[array([[ 0.03313845, -0.05806822, -0.06300296, ..., -0.0628145 ,\n",
       "          0.00584284, -0.03571126],\n",
       "        [ 0.05299837, -0.07606329,  0.07917354, ...,  0.02267645,\n",
       "          0.08102488,  0.07239794],\n",
       "        [-0.03857384, -0.04556585, -0.01038469, ...,  0.00685869,\n",
       "          0.02624539, -0.0532121 ],\n",
       "        ...,\n",
       "        [ 0.05094124, -0.07877113, -0.08311564, ..., -0.02148538,\n",
       "         -0.07875767,  0.06038708],\n",
       "        [-0.04329074, -0.01596504,  0.08128626, ..., -0.03404623,\n",
       "          0.04891136,  0.08062259],\n",
       "        [ 0.05455414, -0.0238579 , -0.05515278, ..., -0.07196478,\n",
       "          0.08281463,  0.02076405]], dtype=float32),\n",
       " array([ 0.05232109,  0.08736482, -0.08231933,  0.01211582,  0.00458064,\n",
       "         0.03812985,  0.16841695,  0.01041508,  0.02917773,  0.04843887,\n",
       "         0.20593856,  0.0232954 ,  0.11044628, -0.03851435, -0.00929046,\n",
       "         0.02504925,  0.04867984, -0.0160343 ,  0.0625328 ,  0.11035717,\n",
       "         0.02140745, -0.0450017 ,  0.05870792,  0.0780674 ,  0.05065313,\n",
       "         0.05217264,  0.03214836,  0.05520001, -0.0577762 ,  0.12832502,\n",
       "         0.0573783 ,  0.20155184, -0.08349374,  0.08398577, -0.02551393,\n",
       "        -0.04493155,  0.06416006, -0.00933366,  0.05196128, -0.03291681,\n",
       "        -0.03734412,  0.02055074,  0.01338655, -0.12397888,  0.03296715,\n",
       "        -0.0834765 ,  0.06671446, -0.04816326, -0.04621329,  0.00470987,\n",
       "        -0.0578814 ,  0.0647288 , -0.01923519,  0.04551282,  0.03181357,\n",
       "        -0.06914335,  0.06330365,  0.04253759,  0.08764268, -0.00964639,\n",
       "         0.00395405,  0.02047261,  0.10625917,  0.09375841], dtype=float32)]"
      ]
     },
     "execution_count": 411,
     "metadata": {},
     "output_type": "execute_result"
    }
   ],
   "source": [
    "model.layers[0].get_weights()\n",
    "# displays the weights and biases of first layer"
   ]
  },
  {
   "cell_type": "code",
   "execution_count": 412,
   "metadata": {},
   "outputs": [
    {
     "data": {
      "text/plain": [
       "array([[ 0.03313845, -0.05806822, -0.06300296, ..., -0.0628145 ,\n",
       "         0.00584284, -0.03571126],\n",
       "       [ 0.05299837, -0.07606329,  0.07917354, ...,  0.02267645,\n",
       "         0.08102488,  0.07239794],\n",
       "       [-0.03857384, -0.04556585, -0.01038469, ...,  0.00685869,\n",
       "         0.02624539, -0.0532121 ],\n",
       "       ...,\n",
       "       [ 0.05094124, -0.07877113, -0.08311564, ..., -0.02148538,\n",
       "        -0.07875767,  0.06038708],\n",
       "       [-0.04329074, -0.01596504,  0.08128626, ..., -0.03404623,\n",
       "         0.04891136,  0.08062259],\n",
       "       [ 0.05455414, -0.0238579 , -0.05515278, ..., -0.07196478,\n",
       "         0.08281463,  0.02076405]], dtype=float32)"
      ]
     },
     "execution_count": 412,
     "metadata": {},
     "output_type": "execute_result"
    }
   ],
   "source": [
    "model.layers[0].get_weights()[0]\n",
    "# Displays the weights of first layer"
   ]
  },
  {
   "cell_type": "code",
   "execution_count": 413,
   "metadata": {},
   "outputs": [
    {
     "data": {
      "text/plain": [
       "array([ 0.05232109,  0.08736482, -0.08231933,  0.01211582,  0.00458064,\n",
       "        0.03812985,  0.16841695,  0.01041508,  0.02917773,  0.04843887,\n",
       "        0.20593856,  0.0232954 ,  0.11044628, -0.03851435, -0.00929046,\n",
       "        0.02504925,  0.04867984, -0.0160343 ,  0.0625328 ,  0.11035717,\n",
       "        0.02140745, -0.0450017 ,  0.05870792,  0.0780674 ,  0.05065313,\n",
       "        0.05217264,  0.03214836,  0.05520001, -0.0577762 ,  0.12832502,\n",
       "        0.0573783 ,  0.20155184, -0.08349374,  0.08398577, -0.02551393,\n",
       "       -0.04493155,  0.06416006, -0.00933366,  0.05196128, -0.03291681,\n",
       "       -0.03734412,  0.02055074,  0.01338655, -0.12397888,  0.03296715,\n",
       "       -0.0834765 ,  0.06671446, -0.04816326, -0.04621329,  0.00470987,\n",
       "       -0.0578814 ,  0.0647288 , -0.01923519,  0.04551282,  0.03181357,\n",
       "       -0.06914335,  0.06330365,  0.04253759,  0.08764268, -0.00964639,\n",
       "        0.00395405,  0.02047261,  0.10625917,  0.09375841], dtype=float32)"
      ]
     },
     "execution_count": 413,
     "metadata": {},
     "output_type": "execute_result"
    }
   ],
   "source": [
    "model.layers[0].get_weights()[1]\n",
    "# Displays the biases of first layer"
   ]
  },
  {
   "cell_type": "code",
   "execution_count": 414,
   "metadata": {},
   "outputs": [
    {
     "data": {
      "text/plain": [
       "[array([[-3.09624046e-01,  8.24916884e-02,  8.22237357e-02,\n",
       "         -2.28904963e-01,  2.50713557e-01, -6.75480142e-02,\n",
       "          3.57565403e-01,  1.45755351e-01, -1.86024621e-01,\n",
       "          2.26056114e-01],\n",
       "        [-4.49724555e-01,  3.87801588e-01, -4.49951231e-01,\n",
       "         -5.56913972e-01,  8.77468288e-03,  3.04637790e-01,\n",
       "          2.69348264e-01, -1.41604751e-01, -3.62319261e-01,\n",
       "          2.04117909e-01],\n",
       "        [ 3.20476681e-01,  1.19318068e-01,  2.64397532e-01,\n",
       "         -2.46136889e-01,  8.43825266e-02, -5.91564596e-01,\n",
       "          2.25835696e-01, -3.00781369e-01, -4.47164267e-01,\n",
       "          4.01692390e-01],\n",
       "        [ 5.14119640e-02,  3.89341116e-01, -3.45448226e-01,\n",
       "          2.92563051e-01,  2.98921555e-01, -6.05802000e-01,\n",
       "         -7.25607872e-02,  2.73730487e-01, -1.22641370e-01,\n",
       "         -2.16751724e-01],\n",
       "        [ 4.73080009e-01, -2.35821962e-01, -4.90836501e-02,\n",
       "         -2.57490762e-02,  3.14414829e-01, -1.11421354e-01,\n",
       "          1.56887040e-01,  3.03242445e-01, -5.98548770e-01,\n",
       "          6.88060597e-02],\n",
       "        [-1.10537978e-02, -2.91273117e-01, -1.62486266e-02,\n",
       "         -2.66226947e-01,  3.33893836e-01,  3.89051706e-01,\n",
       "         -2.65624076e-01, -4.04885530e-01,  1.37348682e-01,\n",
       "         -3.30512747e-02],\n",
       "        [ 2.96805292e-01,  9.99539942e-02,  2.10224688e-02,\n",
       "          1.20127402e-01, -1.01046771e-01,  4.77609128e-01,\n",
       "         -1.27990395e-01,  3.71943563e-01, -7.09763467e-01,\n",
       "         -2.67560840e-01],\n",
       "        [-2.35068798e-01,  1.19870752e-01,  2.63184041e-01,\n",
       "          3.56353104e-01, -2.48021752e-01, -3.69848937e-01,\n",
       "         -2.19950750e-01,  1.95889518e-01,  1.05673276e-01,\n",
       "          3.89153749e-01],\n",
       "        [-2.52808958e-01,  5.93536384e-02,  3.10569793e-01,\n",
       "         -1.58905074e-01, -6.09269626e-02, -1.50359184e-01,\n",
       "         -1.87651128e-01, -7.66476691e-02,  1.39726654e-01,\n",
       "          9.29563716e-02],\n",
       "        [ 1.03421837e-01,  2.72726834e-01, -2.83713162e-01,\n",
       "         -3.02346766e-01, -4.33758795e-02, -1.67715505e-01,\n",
       "          1.10162251e-01,  7.81596079e-02, -4.70316350e-01,\n",
       "          3.08175273e-02],\n",
       "        [ 3.73614460e-01,  5.82315564e-01, -1.58466888e-03,\n",
       "         -3.08021218e-01, -5.07844627e-01,  5.54461718e-01,\n",
       "          1.14335716e-01,  2.01961502e-01, -5.89747190e-01,\n",
       "         -4.86280650e-01],\n",
       "        [-3.45988721e-01,  3.59363675e-01,  3.40927213e-01,\n",
       "         -3.13500226e-01,  2.69252479e-01, -3.74960065e-01,\n",
       "          1.83446273e-01,  2.92226851e-01,  2.22781539e-01,\n",
       "         -5.92525244e-01],\n",
       "        [-2.44118214e-01, -2.84451246e-01, -1.29381632e-02,\n",
       "         -8.52116272e-02,  2.00750843e-01,  2.64527410e-01,\n",
       "         -3.44461948e-01,  4.65254009e-01, -5.50620615e-01,\n",
       "          1.86608210e-01],\n",
       "        [ 1.28831372e-01, -4.97476794e-02, -3.83637995e-01,\n",
       "          2.93165475e-01, -3.48415524e-01,  1.23546766e-02,\n",
       "         -3.39840382e-01, -8.76848251e-02,  2.54893243e-01,\n",
       "          3.34129661e-01],\n",
       "        [ 3.47637869e-02, -1.18116848e-03,  1.58476025e-01,\n",
       "          4.37682450e-01, -3.22114766e-01, -2.30293185e-01,\n",
       "          2.06664532e-01, -2.37299263e-01, -3.48563343e-01,\n",
       "         -4.27984804e-01],\n",
       "        [-2.16186211e-01,  3.03610340e-02,  1.82421014e-01,\n",
       "         -1.04080468e-01, -8.06351453e-02, -4.63218808e-01,\n",
       "         -2.25359693e-01,  3.41251373e-01,  2.07673937e-01,\n",
       "          3.94870579e-01],\n",
       "        [ 6.53417632e-02,  3.32143515e-01, -5.74865699e-01,\n",
       "         -6.29766434e-02, -4.16729003e-02, -5.91824166e-02,\n",
       "          1.99755058e-01,  9.12747160e-02, -2.93162107e-01,\n",
       "         -5.04957736e-01],\n",
       "        [ 1.73743337e-01, -2.85071522e-01,  5.25880575e-01,\n",
       "          7.51482025e-02,  4.91968766e-02, -3.97265583e-01,\n",
       "         -3.40698808e-01,  1.39140815e-01, -7.17521429e-01,\n",
       "          2.37808198e-01],\n",
       "        [ 1.60338834e-01,  8.26464891e-02,  1.86786160e-01,\n",
       "         -2.12603241e-01,  3.60483490e-02,  2.49208525e-01,\n",
       "          3.77216429e-01, -1.77609786e-01,  2.25256026e-01,\n",
       "         -3.40631098e-01],\n",
       "        [-3.73931617e-01,  1.56290755e-01,  8.62107053e-02,\n",
       "         -1.17732309e-01, -5.40113509e-01,  3.71964097e-01,\n",
       "         -3.49969149e-01, -1.76366553e-01, -2.17170477e-01,\n",
       "          2.36068755e-01],\n",
       "        [-3.77941608e-01, -1.43256024e-01,  3.49244446e-01,\n",
       "          3.55410159e-01,  5.30585647e-02, -2.06549689e-01,\n",
       "          2.74571657e-01, -3.73746872e-01, -1.45345896e-01,\n",
       "          1.03128999e-02],\n",
       "        [-2.50516266e-01, -9.62560847e-02, -1.59343615e-01,\n",
       "          3.48100036e-01, -1.25904754e-01, -4.35164534e-02,\n",
       "         -3.09185416e-01, -3.70212317e-01, -7.59672225e-02,\n",
       "          4.31984633e-01],\n",
       "        [-3.17018456e-03,  6.44137800e-01, -3.29990625e-01,\n",
       "         -3.38859349e-01,  5.68899035e-01,  2.53043026e-01,\n",
       "          2.30194271e-01,  1.02516539e-01, -4.08527046e-01,\n",
       "         -7.04031765e-01],\n",
       "        [-3.37742031e-01,  9.67588797e-02, -1.79794043e-01,\n",
       "          2.73333251e-01, -3.32955927e-01,  2.15615723e-02,\n",
       "         -2.83269346e-01, -3.33337635e-01, -1.10846058e-01,\n",
       "         -3.45938295e-01],\n",
       "        [-4.45826985e-02, -4.15382087e-01,  8.69467705e-02,\n",
       "         -1.67710721e-01, -3.54705364e-01,  1.43309027e-01,\n",
       "          2.69045413e-01,  3.45811546e-01,  3.17790985e-01,\n",
       "          1.51531622e-01],\n",
       "        [ 2.03828990e-01, -2.75417298e-01, -3.38218398e-02,\n",
       "         -1.49800152e-01, -7.24542961e-02,  3.61191273e-01,\n",
       "          7.84174353e-03, -2.16635600e-01, -3.79352808e-01,\n",
       "          2.81094462e-01],\n",
       "        [-1.56479399e-03, -4.42146897e-01,  5.21478355e-01,\n",
       "         -4.09246773e-01,  2.74094403e-01, -2.51080126e-01,\n",
       "          2.78179199e-01,  1.21002682e-01, -1.61168009e-01,\n",
       "         -5.98928750e-01],\n",
       "        [ 6.49437085e-02,  9.03769061e-02, -2.11768612e-01,\n",
       "          1.29557222e-01, -1.07732955e-02,  3.16589385e-01,\n",
       "          6.17802795e-03, -3.48721415e-01,  1.68631777e-01,\n",
       "         -2.78621584e-01],\n",
       "        [-2.31918499e-01,  1.99966747e-02,  3.45343977e-01,\n",
       "          3.66104484e-01, -1.73348621e-01,  4.22983468e-02,\n",
       "         -1.97019383e-01,  2.01910302e-01,  1.01383319e-02,\n",
       "         -3.57325882e-01],\n",
       "        [-4.00657624e-01,  3.91530335e-01,  6.21846020e-02,\n",
       "          3.89420360e-01,  3.76381487e-01,  2.55831271e-01,\n",
       "          2.23686174e-01,  2.42455184e-01,  2.28150144e-01,\n",
       "         -4.01010275e-01],\n",
       "        [-3.03009033e-01, -4.98542428e-01, -2.45064311e-02,\n",
       "         -2.35143870e-01,  2.57429957e-01, -2.54920512e-01,\n",
       "          2.80610085e-01,  3.09834540e-01, -7.05896541e-02,\n",
       "          2.37567991e-01],\n",
       "        [-4.76067424e-01, -2.86456615e-01, -4.11856361e-02,\n",
       "          2.79114217e-01,  3.78461450e-01,  5.02296805e-01,\n",
       "         -5.27147889e-01,  4.04868454e-01, -5.70086017e-02,\n",
       "         -2.39601731e-01],\n",
       "        [ 2.01127809e-02, -1.52301624e-01,  5.22508658e-02,\n",
       "         -1.00637518e-01, -1.18582912e-01, -3.47098529e-01,\n",
       "         -2.46620297e-01,  6.24301508e-02,  3.83241385e-01,\n",
       "          2.68657804e-01],\n",
       "        [-1.51140541e-01,  2.52623528e-01,  4.72929537e-01,\n",
       "          9.84304696e-02, -7.57360011e-02, -3.71847928e-01,\n",
       "         -3.40061218e-01,  4.51514244e-01, -4.75326806e-01,\n",
       "         -5.23780882e-01],\n",
       "        [-3.57148826e-01, -2.33925924e-01,  4.03262407e-01,\n",
       "         -6.56046867e-02,  7.46326149e-02, -7.95705989e-02,\n",
       "          3.28174412e-01, -6.13738835e-01,  1.45329475e-01,\n",
       "          2.70507365e-01],\n",
       "        [-1.06958048e-02,  1.41790286e-01, -8.07811469e-02,\n",
       "          2.37696748e-02,  3.10676098e-01, -2.49038428e-01,\n",
       "         -2.48506606e-01, -2.59281993e-02,  3.74992639e-01,\n",
       "         -2.27617323e-01],\n",
       "        [-3.93061578e-01,  2.95888364e-01, -1.16251037e-01,\n",
       "          2.75144368e-01, -3.89202446e-01,  4.50907409e-01,\n",
       "         -2.71580487e-01,  1.18411727e-01, -1.25301197e-01,\n",
       "          1.46302998e-01],\n",
       "        [-1.98323876e-02,  9.05673429e-02,  2.99698580e-02,\n",
       "          2.97917034e-02, -4.93039221e-01, -1.50479704e-01,\n",
       "         -2.78299451e-01,  1.32951155e-01,  1.02781318e-01,\n",
       "         -3.43764991e-01],\n",
       "        [ 1.82323530e-01, -9.79615748e-02,  1.52572721e-01,\n",
       "          1.28593937e-01, -3.54291916e-01, -1.84921116e-01,\n",
       "         -4.09006417e-01,  1.15925513e-01, -2.85652608e-01,\n",
       "          7.49829262e-02],\n",
       "        [-5.10556041e-04,  3.99349891e-02, -4.97814029e-01,\n",
       "          3.74561958e-02,  3.42344195e-01, -3.79041612e-01,\n",
       "          2.34946519e-01, -6.34966493e-02,  2.28277132e-01,\n",
       "          1.15312800e-01],\n",
       "        [ 2.29081407e-01, -3.77110243e-01,  9.49671119e-02,\n",
       "          3.49100322e-01,  2.60815889e-01, -3.85622829e-02,\n",
       "         -2.12433740e-01, -2.32121393e-01,  3.77758103e-03,\n",
       "         -2.17938080e-01],\n",
       "        [ 4.89219800e-02, -1.51989877e-01,  4.72333133e-01,\n",
       "         -3.24818432e-01,  1.90289214e-01,  2.54065365e-01,\n",
       "          1.11090779e-01, -3.32242548e-01,  3.20684671e-01,\n",
       "         -5.67316949e-01],\n",
       "        [-1.05411120e-01,  2.93170065e-01,  2.50095040e-01,\n",
       "         -2.88334578e-01,  1.11773707e-01, -1.99113488e-01,\n",
       "          3.32595110e-01, -2.53500581e-01,  9.91835445e-02,\n",
       "          1.84151173e-01],\n",
       "        [ 3.38400245e-01, -4.23072845e-01, -2.22313568e-01,\n",
       "         -2.00001150e-02, -9.15861223e-03, -1.31229103e-01,\n",
       "          8.89282383e-04,  5.42177521e-02,  3.17107856e-01,\n",
       "          2.67627954e-01],\n",
       "        [-2.73690403e-01, -1.60902590e-01,  3.73680115e-01,\n",
       "         -1.30369574e-01,  2.67297506e-01, -1.46918431e-01,\n",
       "         -1.74559325e-01, -5.10306120e-01, -3.23404133e-01,\n",
       "          1.60691768e-01],\n",
       "        [ 2.40175650e-01,  3.26757953e-02, -5.42791367e-01,\n",
       "          3.53669375e-01,  2.43469894e-01, -2.90832907e-01,\n",
       "          2.67547280e-01, -2.25498877e-03, -5.96776307e-01,\n",
       "         -1.29638640e-02],\n",
       "        [-3.21480840e-01,  3.02501380e-01,  1.19915396e-01,\n",
       "         -5.50925016e-01, -1.63202971e-01,  3.89874801e-02,\n",
       "          3.78953934e-01,  7.32192174e-02,  4.25233662e-01,\n",
       "          4.36695784e-01],\n",
       "        [-2.37053439e-01,  1.18498974e-01,  2.94523329e-01,\n",
       "         -2.20636711e-01,  3.98885071e-01, -4.26504880e-01,\n",
       "         -2.37727851e-01, -3.67992669e-01,  1.65234372e-01,\n",
       "         -2.25375503e-01],\n",
       "        [ 5.92879131e-02, -3.43094707e-01, -7.05549270e-02,\n",
       "          1.07465729e-01, -3.45314354e-01,  2.51259893e-01,\n",
       "          1.00279070e-01, -3.23472470e-01,  1.14068747e-01,\n",
       "          2.81125847e-02],\n",
       "        [ 2.27062702e-01, -1.85638070e-01,  2.84716308e-01,\n",
       "         -2.44559735e-01,  2.17170656e-01,  3.02870303e-01,\n",
       "          3.17884445e-01, -3.82624894e-01,  2.88320512e-01,\n",
       "         -2.67998695e-01],\n",
       "        [ 1.93267226e-01, -7.66182989e-02, -1.96476072e-01,\n",
       "         -2.99555779e-01,  1.91588372e-01, -3.60132664e-01,\n",
       "          2.32229218e-01, -4.27172601e-01, -1.15354098e-01,\n",
       "          1.19236521e-01],\n",
       "        [ 3.01368356e-01, -1.07779764e-01,  2.47329950e-01,\n",
       "         -1.56707168e-01,  7.42278248e-02, -8.04355815e-02,\n",
       "         -1.56058464e-02,  3.30803692e-01, -1.69016510e-01,\n",
       "         -1.25567168e-01],\n",
       "        [ 1.50815964e-01, -4.25956637e-01, -1.23981826e-01,\n",
       "          3.08686256e-01, -2.44154170e-01,  3.20743740e-01,\n",
       "         -2.61495411e-01, -8.16578865e-02,  1.16406307e-01,\n",
       "          2.25146022e-03],\n",
       "        [-4.15556610e-01, -2.34645337e-01, -1.75019816e-01,\n",
       "          2.27042019e-01,  3.76955062e-01,  2.99870253e-01,\n",
       "         -2.71735311e-01, -4.03605580e-01, -9.71715674e-02,\n",
       "          1.09709308e-01],\n",
       "        [ 2.88964808e-01,  1.54643178e-01, -1.60439268e-01,\n",
       "         -2.57845391e-02, -1.64138898e-01,  3.41192573e-01,\n",
       "         -7.47580035e-03, -2.87610561e-01,  3.74580801e-01,\n",
       "         -2.89159477e-01],\n",
       "        [ 3.19738150e-01, -1.78086728e-01, -6.77011311e-01,\n",
       "         -5.31910002e-01,  3.54022235e-01,  6.56543911e-01,\n",
       "          5.38632870e-01, -4.02313098e-02,  1.78396448e-01,\n",
       "          4.31196868e-01],\n",
       "        [-1.21933676e-01, -2.32381642e-01, -3.01753074e-01,\n",
       "         -9.81894806e-02,  8.12126249e-02, -2.22183421e-01,\n",
       "         -2.58256972e-01,  3.59389305e-01,  4.73003946e-02,\n",
       "         -1.87896490e-01],\n",
       "        [-2.49939337e-01,  1.93758115e-01, -1.84998121e-02,\n",
       "          3.75590920e-01, -4.19763088e-01,  3.11759979e-01,\n",
       "          7.88322762e-02, -1.55780435e-01,  1.96087167e-01,\n",
       "         -9.26010460e-02],\n",
       "        [-2.29832023e-01,  2.30303973e-01,  2.40766108e-01,\n",
       "         -4.20085907e-01,  2.53826916e-01, -4.10051078e-01,\n",
       "         -3.00281882e-01,  1.18122995e-01, -8.66435543e-02,\n",
       "          2.26044744e-01],\n",
       "        [ 1.33068174e-01, -1.94535971e-01, -3.73350531e-01,\n",
       "          3.91290665e-01,  6.93719313e-02,  4.46157455e-01,\n",
       "         -1.85822379e-02, -1.65236473e-01, -2.19115298e-02,\n",
       "          3.78894210e-01],\n",
       "        [ 3.71570200e-01,  4.19926383e-02,  2.49293774e-01,\n",
       "          4.92540374e-02, -2.49597669e-01,  4.23359172e-03,\n",
       "         -7.72310123e-02, -2.13001624e-01, -2.08376899e-01,\n",
       "         -1.97336942e-01],\n",
       "        [ 3.44299138e-01,  4.97556813e-02, -1.55044675e-01,\n",
       "         -4.27618027e-01,  9.69497263e-02, -2.56742597e-01,\n",
       "          1.63737193e-01,  4.67685223e-01, -3.54938060e-02,\n",
       "         -1.84476282e-02],\n",
       "        [-3.33008051e-01,  4.35308367e-02, -2.00464010e-01,\n",
       "         -6.51526526e-02,  6.16625287e-02,  1.21383794e-01,\n",
       "         -2.83721328e-01,  3.22285622e-01, -3.19714457e-01,\n",
       "          6.99468851e-02],\n",
       "        [ 2.14263320e-01, -1.91416647e-02,  2.53532201e-01,\n",
       "          1.53551579e-01, -8.82375911e-02,  3.84843200e-02,\n",
       "          1.56375710e-02,  4.06486273e-01, -3.99088383e-01,\n",
       "         -3.41132015e-01]], dtype=float32),\n",
       " array([-0.12543269,  0.06943326,  0.02147546, -0.03645208, -0.00770996,\n",
       "         0.11889728, -0.06301852,  0.08854801, -0.10084939, -0.01300905],\n",
       "       dtype=float32)]"
      ]
     },
     "execution_count": 414,
     "metadata": {},
     "output_type": "execute_result"
    }
   ],
   "source": [
    "model.layers[1].get_weights()\n",
    "# displays the weights and biases of second layer"
   ]
  },
  {
   "cell_type": "markdown",
   "metadata": {},
   "source": [
    "##### Storing and retrieving the weights"
   ]
  },
  {
   "cell_type": "raw",
   "metadata": {},
   "source": [
    "model.save_weights('my_model_weights.h5')\n",
    "recovered_model = model.load_weights('my_model_weights.h5')\n",
    "# model.get_weights()"
   ]
  },
  {
   "cell_type": "markdown",
   "metadata": {},
   "source": [
    "##### Storing and retrieving the models"
   ]
  },
  {
   "cell_type": "raw",
   "metadata": {},
   "source": [
    "model.save('model.h5')\n",
    "loaded_model = keras.models.load_model('model.h5')"
   ]
  },
  {
   "cell_type": "raw",
   "metadata": {},
   "source": [
    "# cloning the models\n",
    "model_cloned = keras.models.clone_model(model)\n",
    "new_weights = model_cloned.get_weights()"
   ]
  },
  {
   "cell_type": "markdown",
   "metadata": {},
   "source": [
    "##### HM model"
   ]
  },
  {
   "cell_type": "code",
   "execution_count": 425,
   "metadata": {},
   "outputs": [],
   "source": [
    "def get_model(): \n",
    "    model_hm = keras.Sequential([\n",
    "        # input layer 784 neurons to first hidden layer with 64 neurons\n",
    "        keras.layers.Dense(64, input_shape = (784,), activation='relu'), \n",
    "        # first hidden layer with 64 neurons\n",
    "        #keras.layers.Dense(64, activation='relu'), \n",
    "        # second hidden layer with 64 neurons\n",
    "        #keras.layers.Dense(64, activation='relu'), \n",
    "        # Output layer with 10 neurons\n",
    "        keras.layers.Dense(10, activation='sigmoid')\n",
    "    ])\n",
    "    model_hm.compile(\n",
    "        optimizer = 'SGD',\n",
    "        loss = 'sparse_categorical_crossentropy',\n",
    "        metrics = ['accuracy']\n",
    "    )\n",
    "    return model_hm"
   ]
  },
  {
   "cell_type": "code",
   "execution_count": 585,
   "metadata": {},
   "outputs": [],
   "source": [
    "class CustomCallback(keras.callbacks.Callback): \n",
    "    iteration = 0\n",
    "    initial_weights = 0\n",
    "    previous_weights = 0\n",
    "    \n",
    "    def on_train_begin(self, logs=None):\n",
    "        self.initial_weights = model_hm.get_weights() \n",
    "        self.initial_weights = np.array(self.initial_weights,dtype=object)\n",
    "        self.previous_weights = self.initial_weights \n",
    "    \n",
    "    def on_train_batch_end(self, epoch, logs=None): \n",
    "        counter = 0\n",
    "        num_layers = len(model_hm.layers)  \n",
    "        current_weights = model_hm.get_weights()\n",
    "        current_weights = np.array(current_weights,dtype=object)\n",
    "        call = np.vectorize(apply_gm) \n",
    "        \n",
    "        for i in range(num_layers):  \n",
    "            current_weights[counter] = call(self.previous_weights[counter], current_weights[counter])\n",
    "            counter = counter + 2\n",
    "            \n",
    "        updated = current_weights.tolist()   \n",
    "        model_hm.set_weights(updated)\n",
    "        self.previous_weights = current_weights\n",
    "        self.iteration = self.iteration + 1  \n",
    "        \n",
    "    def apply_gm(v1,v2):     \n",
    "        if v1==0 or v2==0:\n",
    "            return v2\n",
    "        elif v1>0 and v2>0:\n",
    "            hm = 2*v1*v2/(v1+v2)\n",
    "            min1 = min(v1,v2)\n",
    "            diff = abs(hm-min1)\n",
    "            if v2 > v1:\n",
    "                return v2 + diff\n",
    "            else:\n",
    "                return v2 - diff\n",
    "        elif v1<0 and v2<0:\n",
    "            hm = 2*v1*v2/(v1+v2)\n",
    "            max1 = max(v1,v2)\n",
    "            diff = abs(hm-max1)\n",
    "            if v2 > v1:\n",
    "                return v2 + diff\n",
    "            else:\n",
    "                return v2 - diff\n",
    "        else:\n",
    "            return v2    "
   ]
  },
  {
   "cell_type": "code",
   "execution_count": 604,
   "metadata": {
    "scrolled": true
   },
   "outputs": [
    {
     "name": "stdout",
     "output_type": "stream",
     "text": [
      "Epoch 1/300\n",
      "  5/469 [..............................] - ETA: 22s - loss: 2.3138 - accuracy: 0.1031WARNING:tensorflow:Callback method `on_train_batch_end` is slow compared to the batch time (batch time: 0.0016s vs `on_train_batch_end` time: 0.0458s). Check your callbacks.\n",
      "469/469 [==============================] - 22s 47ms/step - loss: 1.0128 - accuracy: 0.7540\n",
      "Epoch 2/300\n",
      "469/469 [==============================] - 22s 46ms/step - loss: 0.4794 - accuracy: 0.8745\n",
      "Epoch 3/300\n",
      "469/469 [==============================] - 23s 48ms/step - loss: 0.3970 - accuracy: 0.8908\n",
      "Epoch 4/300\n",
      "469/469 [==============================] - 22s 47ms/step - loss: 0.3573 - accuracy: 0.9002\n",
      "Epoch 5/300\n",
      "469/469 [==============================] - 22s 47ms/step - loss: 0.3314 - accuracy: 0.9062\n",
      "Epoch 6/300\n",
      "469/469 [==============================] - 22s 47ms/step - loss: 0.3124 - accuracy: 0.9114\n",
      "Epoch 7/300\n",
      "469/469 [==============================] - 22s 47ms/step - loss: 0.2969 - accuracy: 0.9160\n",
      "Epoch 8/300\n",
      "469/469 [==============================] - 22s 47ms/step - loss: 0.2837 - accuracy: 0.9198\n",
      "Epoch 9/300\n",
      "469/469 [==============================] - 23s 48ms/step - loss: 0.2724 - accuracy: 0.9231\n",
      "Epoch 10/300\n",
      "469/469 [==============================] - 22s 47ms/step - loss: 0.2621 - accuracy: 0.9266\n",
      "Epoch 11/300\n",
      "469/469 [==============================] - 22s 47ms/step - loss: 0.2532 - accuracy: 0.9288\n",
      "Epoch 12/300\n",
      "469/469 [==============================] - 22s 47ms/step - loss: 0.2451 - accuracy: 0.9315\n",
      "Epoch 13/300\n",
      "469/469 [==============================] - 22s 48ms/step - loss: 0.2377 - accuracy: 0.9336\n",
      "Epoch 14/300\n",
      "469/469 [==============================] - 22s 48ms/step - loss: 0.2309 - accuracy: 0.9356\n",
      "Epoch 15/300\n",
      "469/469 [==============================] - 22s 48ms/step - loss: 0.2246 - accuracy: 0.9375\n",
      "Epoch 16/300\n",
      "469/469 [==============================] - 23s 49ms/step - loss: 0.2188 - accuracy: 0.9394\n",
      "Epoch 17/300\n",
      "469/469 [==============================] - 22s 47ms/step - loss: 0.2134 - accuracy: 0.9407\n",
      "Epoch 18/300\n",
      "469/469 [==============================] - 22s 47ms/step - loss: 0.2083 - accuracy: 0.9421\n",
      "Epoch 19/300\n",
      "469/469 [==============================] - 22s 47ms/step - loss: 0.2034 - accuracy: 0.9434\n",
      "Epoch 20/300\n",
      "469/469 [==============================] - 22s 47ms/step - loss: 0.1988 - accuracy: 0.9449\n",
      "Epoch 21/300\n",
      "469/469 [==============================] - 22s 47ms/step - loss: 0.1945 - accuracy: 0.9462\n",
      "Epoch 22/300\n",
      "469/469 [==============================] - 22s 48ms/step - loss: 0.1904 - accuracy: 0.9468\n",
      "Epoch 23/300\n",
      "469/469 [==============================] - 22s 47ms/step - loss: 0.1864 - accuracy: 0.9481\n",
      "Epoch 24/300\n",
      "469/469 [==============================] - 22s 48ms/step - loss: 0.1827 - accuracy: 0.9488\n",
      "Epoch 25/300\n",
      "469/469 [==============================] - 23s 49ms/step - loss: 0.1791 - accuracy: 0.9499\n",
      "Epoch 26/300\n",
      "469/469 [==============================] - 28s 60ms/step - loss: 0.1756 - accuracy: 0.9511\n",
      "Epoch 27/300\n",
      "469/469 [==============================] - 28s 59ms/step - loss: 0.1723 - accuracy: 0.9521\n",
      "Epoch 28/300\n",
      "469/469 [==============================] - 30s 64ms/step - loss: 0.1692 - accuracy: 0.9528\n",
      "Epoch 29/300\n",
      "469/469 [==============================] - 29s 62ms/step - loss: 0.1662 - accuracy: 0.9537\n",
      "Epoch 30/300\n",
      "469/469 [==============================] - 32s 68ms/step - loss: 0.1634 - accuracy: 0.9540\n",
      "Epoch 31/300\n",
      "469/469 [==============================] - 27s 57ms/step - loss: 0.1606 - accuracy: 0.9550\n",
      "Epoch 32/300\n",
      "469/469 [==============================] - 25s 53ms/step - loss: 0.1579 - accuracy: 0.9559\n",
      "Epoch 33/300\n",
      "469/469 [==============================] - 26s 56ms/step - loss: 0.1554 - accuracy: 0.9562\n",
      "Epoch 34/300\n",
      "469/469 [==============================] - 25s 53ms/step - loss: 0.1528 - accuracy: 0.9575\n",
      "Epoch 35/300\n",
      "469/469 [==============================] - 26s 56ms/step - loss: 0.1505 - accuracy: 0.9581\n",
      "Epoch 36/300\n",
      "469/469 [==============================] - 24s 51ms/step - loss: 0.1481 - accuracy: 0.9589\n",
      "Epoch 37/300\n",
      "469/469 [==============================] - 25s 54ms/step - loss: 0.1459 - accuracy: 0.9597\n",
      "Epoch 38/300\n",
      "469/469 [==============================] - 26s 56ms/step - loss: 0.1438 - accuracy: 0.9597\n",
      "Epoch 39/300\n",
      "469/469 [==============================] - 26s 55ms/step - loss: 0.1418 - accuracy: 0.9608\n",
      "Epoch 40/300\n",
      "469/469 [==============================] - 25s 54ms/step - loss: 0.1397 - accuracy: 0.9614\n",
      "Epoch 41/300\n",
      "469/469 [==============================] - 26s 55ms/step - loss: 0.1378 - accuracy: 0.9621\n",
      "Epoch 42/300\n",
      "469/469 [==============================] - 28s 60ms/step - loss: 0.1359 - accuracy: 0.9623\n",
      "Epoch 43/300\n",
      "469/469 [==============================] - 30s 63ms/step - loss: 0.1340 - accuracy: 0.9628\n",
      "Epoch 44/300\n",
      "469/469 [==============================] - 25s 54ms/step - loss: 0.1323 - accuracy: 0.9634\n",
      "Epoch 45/300\n",
      "469/469 [==============================] - 28s 60ms/step - loss: 0.1306 - accuracy: 0.9638\n",
      "Epoch 46/300\n",
      "469/469 [==============================] - 28s 59ms/step - loss: 0.1288 - accuracy: 0.9643\n",
      "Epoch 47/300\n",
      "469/469 [==============================] - 28s 61ms/step - loss: 0.1272 - accuracy: 0.9645\n",
      "Epoch 48/300\n",
      "469/469 [==============================] - 28s 59ms/step - loss: 0.1256 - accuracy: 0.9647\n",
      "Epoch 49/300\n",
      "469/469 [==============================] - 26s 55ms/step - loss: 0.1240 - accuracy: 0.9654\n",
      "Epoch 50/300\n",
      "469/469 [==============================] - 24s 51ms/step - loss: 0.1226 - accuracy: 0.9658\n",
      "Epoch 51/300\n",
      "469/469 [==============================] - 23s 49ms/step - loss: 0.1212 - accuracy: 0.9665\n",
      "Epoch 52/300\n",
      "469/469 [==============================] - 23s 49ms/step - loss: 0.1197 - accuracy: 0.9667\n",
      "Epoch 53/300\n",
      "469/469 [==============================] - 29s 61ms/step - loss: 0.1182 - accuracy: 0.9672\n",
      "Epoch 54/300\n",
      "469/469 [==============================] - 25s 53ms/step - loss: 0.1170 - accuracy: 0.9675\n",
      "Epoch 55/300\n",
      "469/469 [==============================] - 24s 51ms/step - loss: 0.1156 - accuracy: 0.9677\n",
      "Epoch 56/300\n",
      "469/469 [==============================] - 23s 50ms/step - loss: 0.1144 - accuracy: 0.9681\n",
      "Epoch 57/300\n",
      "469/469 [==============================] - 26s 56ms/step - loss: 0.1131 - accuracy: 0.9689\n",
      "Epoch 58/300\n",
      "469/469 [==============================] - 25s 53ms/step - loss: 0.1118 - accuracy: 0.9688\n",
      "Epoch 59/300\n",
      "469/469 [==============================] - 23s 48ms/step - loss: 0.1106 - accuracy: 0.9696\n",
      "Epoch 60/300\n",
      "469/469 [==============================] - 22s 47ms/step - loss: 0.1094 - accuracy: 0.9696\n",
      "Epoch 61/300\n",
      "469/469 [==============================] - 22s 47ms/step - loss: 0.1083 - accuracy: 0.9698\n",
      "Epoch 62/300\n",
      "469/469 [==============================] - 22s 48ms/step - loss: 0.1071 - accuracy: 0.9702\n",
      "Epoch 63/300\n",
      "469/469 [==============================] - 23s 50ms/step - loss: 0.1060 - accuracy: 0.9707\n",
      "Epoch 64/300\n",
      "469/469 [==============================] - 24s 52ms/step - loss: 0.1050 - accuracy: 0.9711\n",
      "Epoch 65/300\n",
      "469/469 [==============================] - 26s 55ms/step - loss: 0.1038 - accuracy: 0.9713\n",
      "Epoch 66/300\n",
      "469/469 [==============================] - 25s 54ms/step - loss: 0.1029 - accuracy: 0.9714\n",
      "Epoch 67/300\n",
      "469/469 [==============================] - 25s 54ms/step - loss: 0.1017 - accuracy: 0.9719\n",
      "Epoch 68/300\n",
      "469/469 [==============================] - 24s 51ms/step - loss: 0.1008 - accuracy: 0.9722\n",
      "Epoch 69/300\n",
      "469/469 [==============================] - 23s 49ms/step - loss: 0.0998 - accuracy: 0.9726\n",
      "Epoch 70/300\n",
      "469/469 [==============================] - 22s 47ms/step - loss: 0.0989 - accuracy: 0.9726\n",
      "Epoch 71/300\n",
      "469/469 [==============================] - 22s 47ms/step - loss: 0.0979 - accuracy: 0.9731\n",
      "Epoch 72/300\n",
      "469/469 [==============================] - 22s 48ms/step - loss: 0.0970 - accuracy: 0.9730\n",
      "Epoch 73/300\n",
      "469/469 [==============================] - 22s 47ms/step - loss: 0.0961 - accuracy: 0.9736\n",
      "Epoch 74/300\n",
      "469/469 [==============================] - 22s 47ms/step - loss: 0.0951 - accuracy: 0.9737\n",
      "Epoch 75/300\n",
      "469/469 [==============================] - 22s 48ms/step - loss: 0.0943 - accuracy: 0.9737\n",
      "Epoch 76/300\n",
      "469/469 [==============================] - 22s 48ms/step - loss: 0.0934 - accuracy: 0.9741\n",
      "Epoch 77/300\n",
      "469/469 [==============================] - 22s 48ms/step - loss: 0.0926 - accuracy: 0.9745\n",
      "Epoch 78/300\n",
      "469/469 [==============================] - 22s 47ms/step - loss: 0.0918 - accuracy: 0.9747\n",
      "Epoch 79/300\n",
      "469/469 [==============================] - 23s 50ms/step - loss: 0.0908 - accuracy: 0.9753\n",
      "Epoch 80/300\n",
      "469/469 [==============================] - 25s 54ms/step - loss: 0.0901 - accuracy: 0.9752\n",
      "Epoch 81/300\n",
      "469/469 [==============================] - 27s 57ms/step - loss: 0.0893 - accuracy: 0.9755\n",
      "Epoch 82/300\n",
      "469/469 [==============================] - 25s 53ms/step - loss: 0.0886 - accuracy: 0.9756\n",
      "Epoch 83/300\n",
      "469/469 [==============================] - 26s 55ms/step - loss: 0.0878 - accuracy: 0.9758\n",
      "Epoch 84/300\n",
      "469/469 [==============================] - 25s 54ms/step - loss: 0.0870 - accuracy: 0.9759\n",
      "Epoch 85/300\n",
      "469/469 [==============================] - 25s 54ms/step - loss: 0.0864 - accuracy: 0.9760\n",
      "Epoch 86/300\n",
      "469/469 [==============================] - 24s 52ms/step - loss: 0.0855 - accuracy: 0.9765\n",
      "Epoch 87/300\n",
      "469/469 [==============================] - 23s 48ms/step - loss: 0.0849 - accuracy: 0.9770\n",
      "Epoch 88/300\n",
      "469/469 [==============================] - 24s 51ms/step - loss: 0.0841 - accuracy: 0.9773\n",
      "Epoch 89/300\n",
      "469/469 [==============================] - 22s 48ms/step - loss: 0.0835 - accuracy: 0.9773\n",
      "Epoch 90/300\n",
      "469/469 [==============================] - 24s 50ms/step - loss: 0.0827 - accuracy: 0.9772\n",
      "Epoch 91/300\n",
      "469/469 [==============================] - 25s 54ms/step - loss: 0.0822 - accuracy: 0.9773\n",
      "Epoch 92/300\n",
      "469/469 [==============================] - 24s 52ms/step - loss: 0.0814 - accuracy: 0.9779\n",
      "Epoch 93/300\n",
      "469/469 [==============================] - 25s 54ms/step - loss: 0.0808 - accuracy: 0.9779\n",
      "Epoch 94/300\n",
      "469/469 [==============================] - 29s 62ms/step - loss: 0.0801 - accuracy: 0.9780\n",
      "Epoch 95/300\n",
      "469/469 [==============================] - 26s 56ms/step - loss: 0.0795 - accuracy: 0.9784\n",
      "Epoch 96/300\n",
      "469/469 [==============================] - 24s 51ms/step - loss: 0.0788 - accuracy: 0.9784\n",
      "Epoch 97/300\n",
      "469/469 [==============================] - 27s 57ms/step - loss: 0.0782 - accuracy: 0.9785\n",
      "Epoch 98/300\n",
      "469/469 [==============================] - 25s 53ms/step - loss: 0.0777 - accuracy: 0.9789\n",
      "Epoch 99/300\n",
      "469/469 [==============================] - 24s 50ms/step - loss: 0.0771 - accuracy: 0.9789\n",
      "Epoch 100/300\n",
      "469/469 [==============================] - 24s 52ms/step - loss: 0.0765 - accuracy: 0.9790\n",
      "Epoch 101/300\n",
      "469/469 [==============================] - 26s 55ms/step - loss: 0.0758 - accuracy: 0.9793\n",
      "Epoch 102/300\n",
      "469/469 [==============================] - 27s 58ms/step - loss: 0.0753 - accuracy: 0.9795\n",
      "Epoch 103/300\n",
      "469/469 [==============================] - 28s 60ms/step - loss: 0.0747 - accuracy: 0.9797\n",
      "Epoch 104/300\n",
      "469/469 [==============================] - 27s 57ms/step - loss: 0.0742 - accuracy: 0.9795\n",
      "Epoch 105/300\n",
      "469/469 [==============================] - 26s 55ms/step - loss: 0.0736 - accuracy: 0.9799\n",
      "Epoch 106/300\n",
      "469/469 [==============================] - 29s 61ms/step - loss: 0.0731 - accuracy: 0.9801\n",
      "Epoch 107/300\n",
      "469/469 [==============================] - 29s 63ms/step - loss: 0.0726 - accuracy: 0.9801\n",
      "Epoch 108/300\n",
      "469/469 [==============================] - 28s 59ms/step - loss: 0.0720 - accuracy: 0.9802\n",
      "Epoch 109/300\n",
      "469/469 [==============================] - 23s 50ms/step - loss: 0.0715 - accuracy: 0.9803\n",
      "Epoch 110/300\n",
      "469/469 [==============================] - 22s 47ms/step - loss: 0.0709 - accuracy: 0.9807\n",
      "Epoch 111/300\n",
      "469/469 [==============================] - 23s 49ms/step - loss: 0.0705 - accuracy: 0.9807\n",
      "Epoch 112/300\n",
      "469/469 [==============================] - 23s 49ms/step - loss: 0.0700 - accuracy: 0.9808\n",
      "Epoch 113/300\n",
      "469/469 [==============================] - 28s 59ms/step - loss: 0.0694 - accuracy: 0.9812\n",
      "Epoch 114/300\n",
      "469/469 [==============================] - 24s 52ms/step - loss: 0.0690 - accuracy: 0.9813\n",
      "Epoch 115/300\n",
      "469/469 [==============================] - 32s 68ms/step - loss: 0.0685 - accuracy: 0.9817\n",
      "Epoch 116/300\n",
      "469/469 [==============================] - 32s 67ms/step - loss: 0.0680 - accuracy: 0.9818\n",
      "Epoch 117/300\n",
      "469/469 [==============================] - 27s 58ms/step - loss: 0.0675 - accuracy: 0.9818\n",
      "Epoch 118/300\n",
      "469/469 [==============================] - 34s 73ms/step - loss: 0.0670 - accuracy: 0.9819\n",
      "Epoch 119/300\n",
      "469/469 [==============================] - 25s 54ms/step - loss: 0.0666 - accuracy: 0.9821\n",
      "Epoch 120/300\n",
      "469/469 [==============================] - 25s 53ms/step - loss: 0.0661 - accuracy: 0.9821\n",
      "Epoch 121/300\n",
      "469/469 [==============================] - 23s 48ms/step - loss: 0.0657 - accuracy: 0.9822\n",
      "Epoch 122/300\n",
      "469/469 [==============================] - 23s 48ms/step - loss: 0.0652 - accuracy: 0.9824\n",
      "Epoch 123/300\n",
      "469/469 [==============================] - 25s 53ms/step - loss: 0.0649 - accuracy: 0.9826\n",
      "Epoch 124/300\n",
      "469/469 [==============================] - 23s 50ms/step - loss: 0.0644 - accuracy: 0.9827\n",
      "Epoch 125/300\n",
      "469/469 [==============================] - 23s 49ms/step - loss: 0.0639 - accuracy: 0.9828\n",
      "Epoch 126/300\n",
      "469/469 [==============================] - 23s 50ms/step - loss: 0.0635 - accuracy: 0.9832\n",
      "Epoch 127/300\n",
      "469/469 [==============================] - 24s 50ms/step - loss: 0.0632 - accuracy: 0.9832\n",
      "Epoch 128/300\n",
      "469/469 [==============================] - 24s 52ms/step - loss: 0.0627 - accuracy: 0.9830\n",
      "Epoch 129/300\n",
      "469/469 [==============================] - 23s 49ms/step - loss: 0.0623 - accuracy: 0.9833\n",
      "Epoch 130/300\n",
      "469/469 [==============================] - 24s 52ms/step - loss: 0.0619 - accuracy: 0.9833\n",
      "Epoch 131/300\n",
      "469/469 [==============================] - 24s 51ms/step - loss: 0.0615 - accuracy: 0.9833\n",
      "Epoch 132/300\n",
      "469/469 [==============================] - 22s 47ms/step - loss: 0.0611 - accuracy: 0.9835\n",
      "Epoch 133/300\n",
      "469/469 [==============================] - 22s 48ms/step - loss: 0.0606 - accuracy: 0.9837\n",
      "Epoch 134/300\n",
      "469/469 [==============================] - 24s 50ms/step - loss: 0.0603 - accuracy: 0.9839\n",
      "Epoch 135/300\n",
      "469/469 [==============================] - 22s 47ms/step - loss: 0.0599 - accuracy: 0.9841\n",
      "Epoch 136/300\n",
      "469/469 [==============================] - 23s 49ms/step - loss: 0.0596 - accuracy: 0.9841\n",
      "Epoch 137/300\n",
      "469/469 [==============================] - 23s 49ms/step - loss: 0.0591 - accuracy: 0.9842\n",
      "Epoch 138/300\n",
      "469/469 [==============================] - 24s 51ms/step - loss: 0.0588 - accuracy: 0.9843\n",
      "Epoch 139/300\n",
      "469/469 [==============================] - 24s 51ms/step - loss: 0.0584 - accuracy: 0.9845\n",
      "Epoch 140/300\n",
      "469/469 [==============================] - 23s 50ms/step - loss: 0.0581 - accuracy: 0.9844\n",
      "Epoch 141/300\n",
      "469/469 [==============================] - 24s 51ms/step - loss: 0.0577 - accuracy: 0.9845\n",
      "Epoch 142/300\n",
      "469/469 [==============================] - 24s 51ms/step - loss: 0.0573 - accuracy: 0.9847\n",
      "Epoch 143/300\n",
      "469/469 [==============================] - 24s 50ms/step - loss: 0.0570 - accuracy: 0.9848\n",
      "Epoch 144/300\n",
      "469/469 [==============================] - 25s 53ms/step - loss: 0.0566 - accuracy: 0.9851\n",
      "Epoch 145/300\n",
      "469/469 [==============================] - 24s 51ms/step - loss: 0.0563 - accuracy: 0.9851\n",
      "Epoch 146/300\n",
      "469/469 [==============================] - 23s 49ms/step - loss: 0.0559 - accuracy: 0.9852\n",
      "Epoch 147/300\n",
      "469/469 [==============================] - 23s 48ms/step - loss: 0.0556 - accuracy: 0.9854\n",
      "Epoch 148/300\n",
      "469/469 [==============================] - 24s 51ms/step - loss: 0.0553 - accuracy: 0.9854\n",
      "Epoch 149/300\n",
      "469/469 [==============================] - 24s 52ms/step - loss: 0.0549 - accuracy: 0.9855\n",
      "Epoch 150/300\n",
      "469/469 [==============================] - 26s 56ms/step - loss: 0.0546 - accuracy: 0.9856\n",
      "Epoch 151/300\n",
      "469/469 [==============================] - 26s 56ms/step - loss: 0.0542 - accuracy: 0.9858\n",
      "Epoch 152/300\n",
      "469/469 [==============================] - 28s 59ms/step - loss: 0.0539 - accuracy: 0.9856\n",
      "Epoch 153/300\n",
      "469/469 [==============================] - 26s 56ms/step - loss: 0.0535 - accuracy: 0.9861\n",
      "Epoch 154/300\n",
      "469/469 [==============================] - 27s 58ms/step - loss: 0.0533 - accuracy: 0.9860\n",
      "Epoch 155/300\n"
     ]
    },
    {
     "name": "stdout",
     "output_type": "stream",
     "text": [
      "469/469 [==============================] - 27s 58ms/step - loss: 0.0530 - accuracy: 0.9861\n",
      "Epoch 156/300\n",
      "469/469 [==============================] - 25s 52ms/step - loss: 0.0527 - accuracy: 0.9862\n",
      "Epoch 157/300\n",
      "469/469 [==============================] - 26s 56ms/step - loss: 0.0523 - accuracy: 0.9864\n",
      "Epoch 158/300\n",
      "469/469 [==============================] - 26s 55ms/step - loss: 0.0520 - accuracy: 0.9863\n",
      "Epoch 159/300\n",
      "469/469 [==============================] - 25s 53ms/step - loss: 0.0516 - accuracy: 0.9868\n",
      "Epoch 160/300\n",
      "469/469 [==============================] - 23s 50ms/step - loss: 0.0514 - accuracy: 0.9867\n",
      "Epoch 161/300\n",
      "469/469 [==============================] - 23s 50ms/step - loss: 0.0512 - accuracy: 0.9869\n",
      "Epoch 162/300\n",
      "469/469 [==============================] - 23s 48ms/step - loss: 0.0509 - accuracy: 0.9868\n",
      "Epoch 163/300\n",
      "469/469 [==============================] - 23s 50ms/step - loss: 0.0505 - accuracy: 0.9869\n",
      "Epoch 164/300\n",
      "469/469 [==============================] - 26s 57ms/step - loss: 0.0502 - accuracy: 0.9869\n",
      "Epoch 165/300\n",
      "469/469 [==============================] - 24s 51ms/step - loss: 0.0500 - accuracy: 0.9870\n",
      "Epoch 166/300\n",
      "469/469 [==============================] - 24s 50ms/step - loss: 0.0496 - accuracy: 0.9870\n",
      "Epoch 167/300\n",
      "469/469 [==============================] - 24s 51ms/step - loss: 0.0494 - accuracy: 0.9872\n",
      "Epoch 168/300\n",
      "469/469 [==============================] - 24s 51ms/step - loss: 0.0491 - accuracy: 0.9875\n",
      "Epoch 169/300\n",
      "469/469 [==============================] - 24s 52ms/step - loss: 0.0489 - accuracy: 0.9872\n",
      "Epoch 170/300\n",
      "469/469 [==============================] - 28s 59ms/step - loss: 0.0486 - accuracy: 0.9876\n",
      "Epoch 171/300\n",
      "469/469 [==============================] - 23s 49ms/step - loss: 0.0483 - accuracy: 0.9876\n",
      "Epoch 172/300\n",
      "469/469 [==============================] - 24s 51ms/step - loss: 0.0480 - accuracy: 0.9878\n",
      "Epoch 173/300\n",
      "469/469 [==============================] - 25s 54ms/step - loss: 0.0478 - accuracy: 0.9879\n",
      "Epoch 174/300\n",
      "469/469 [==============================] - 26s 54ms/step - loss: 0.0475 - accuracy: 0.9879\n",
      "Epoch 175/300\n",
      "469/469 [==============================] - 23s 49ms/step - loss: 0.0472 - accuracy: 0.9878\n",
      "Epoch 176/300\n",
      "469/469 [==============================] - 22s 48ms/step - loss: 0.0469 - accuracy: 0.9881\n",
      "Epoch 177/300\n",
      "469/469 [==============================] - 23s 48ms/step - loss: 0.0467 - accuracy: 0.9883\n",
      "Epoch 178/300\n",
      "469/469 [==============================] - 23s 49ms/step - loss: 0.0464 - accuracy: 0.9882\n",
      "Epoch 179/300\n",
      "469/469 [==============================] - 23s 48ms/step - loss: 0.0462 - accuracy: 0.9881\n",
      "Epoch 180/300\n",
      "469/469 [==============================] - 22s 48ms/step - loss: 0.0459 - accuracy: 0.9883\n",
      "Epoch 181/300\n",
      "469/469 [==============================] - 22s 47ms/step - loss: 0.0457 - accuracy: 0.9885\n",
      "Epoch 182/300\n",
      "469/469 [==============================] - 22s 47ms/step - loss: 0.0454 - accuracy: 0.9886\n",
      "Epoch 183/300\n",
      "469/469 [==============================] - 22s 47ms/step - loss: 0.0451 - accuracy: 0.9885\n",
      "Epoch 184/300\n",
      "469/469 [==============================] - 22s 47ms/step - loss: 0.0449 - accuracy: 0.9887\n",
      "Epoch 185/300\n",
      "469/469 [==============================] - 22s 47ms/step - loss: 0.0447 - accuracy: 0.9888\n",
      "Epoch 186/300\n",
      "469/469 [==============================] - 22s 47ms/step - loss: 0.0444 - accuracy: 0.9886\n",
      "Epoch 187/300\n",
      "469/469 [==============================] - 22s 47ms/step - loss: 0.0441 - accuracy: 0.9890\n",
      "Epoch 188/300\n",
      "469/469 [==============================] - 22s 47ms/step - loss: 0.0440 - accuracy: 0.9889\n",
      "Epoch 189/300\n",
      "469/469 [==============================] - 22s 48ms/step - loss: 0.0437 - accuracy: 0.9892\n",
      "Epoch 190/300\n",
      "469/469 [==============================] - 23s 48ms/step - loss: 0.0435 - accuracy: 0.9891\n",
      "Epoch 191/300\n",
      "469/469 [==============================] - 23s 49ms/step - loss: 0.0432 - accuracy: 0.9891\n",
      "Epoch 192/300\n",
      "469/469 [==============================] - 22s 48ms/step - loss: 0.0430 - accuracy: 0.9892\n",
      "Epoch 193/300\n",
      "469/469 [==============================] - 22s 47ms/step - loss: 0.0427 - accuracy: 0.9893\n",
      "Epoch 194/300\n",
      "469/469 [==============================] - 22s 48ms/step - loss: 0.0426 - accuracy: 0.9893\n",
      "Epoch 195/300\n",
      "469/469 [==============================] - 22s 47ms/step - loss: 0.0423 - accuracy: 0.9893\n",
      "Epoch 196/300\n",
      "469/469 [==============================] - 22s 47ms/step - loss: 0.0421 - accuracy: 0.9894\n",
      "Epoch 197/300\n",
      "469/469 [==============================] - 22s 47ms/step - loss: 0.0419 - accuracy: 0.9896\n",
      "Epoch 198/300\n",
      "469/469 [==============================] - 22s 47ms/step - loss: 0.0417 - accuracy: 0.9898\n",
      "Epoch 199/300\n",
      "469/469 [==============================] - 22s 47ms/step - loss: 0.0415 - accuracy: 0.9897\n",
      "Epoch 200/300\n",
      "469/469 [==============================] - 22s 47ms/step - loss: 0.0412 - accuracy: 0.9898\n",
      "Epoch 201/300\n",
      "469/469 [==============================] - 22s 47ms/step - loss: 0.0410 - accuracy: 0.9900\n",
      "Epoch 202/300\n",
      "469/469 [==============================] - 23s 48ms/step - loss: 0.0408 - accuracy: 0.9901\n",
      "Epoch 203/300\n",
      "469/469 [==============================] - 23s 49ms/step - loss: 0.0406 - accuracy: 0.9901\n",
      "Epoch 204/300\n",
      "469/469 [==============================] - 22s 48ms/step - loss: 0.0404 - accuracy: 0.9902\n",
      "Epoch 205/300\n",
      "469/469 [==============================] - 22s 48ms/step - loss: 0.0402 - accuracy: 0.9901\n",
      "Epoch 206/300\n",
      "469/469 [==============================] - 23s 48ms/step - loss: 0.0400 - accuracy: 0.9903\n",
      "Epoch 207/300\n",
      "469/469 [==============================] - 22s 47ms/step - loss: 0.0398 - accuracy: 0.9904\n",
      "Epoch 208/300\n",
      "469/469 [==============================] - 22s 47ms/step - loss: 0.0397 - accuracy: 0.9902\n",
      "Epoch 209/300\n",
      "469/469 [==============================] - 22s 47ms/step - loss: 0.0393 - accuracy: 0.9904\n",
      "Epoch 210/300\n",
      "469/469 [==============================] - 22s 48ms/step - loss: 0.0392 - accuracy: 0.9905\n",
      "Epoch 211/300\n",
      "469/469 [==============================] - 23s 48ms/step - loss: 0.0390 - accuracy: 0.9907\n",
      "Epoch 212/300\n",
      "469/469 [==============================] - 24s 52ms/step - loss: 0.0388 - accuracy: 0.9907\n",
      "Epoch 213/300\n",
      "469/469 [==============================] - 26s 55ms/step - loss: 0.0386 - accuracy: 0.9907\n",
      "Epoch 214/300\n",
      "469/469 [==============================] - 24s 50ms/step - loss: 0.0384 - accuracy: 0.9906\n",
      "Epoch 215/300\n",
      "469/469 [==============================] - 25s 54ms/step - loss: 0.0382 - accuracy: 0.9909\n",
      "Epoch 216/300\n",
      "469/469 [==============================] - 24s 52ms/step - loss: 0.0380 - accuracy: 0.9906\n",
      "Epoch 217/300\n",
      "469/469 [==============================] - 23s 50ms/step - loss: 0.0378 - accuracy: 0.9908\n",
      "Epoch 218/300\n",
      "469/469 [==============================] - 23s 50ms/step - loss: 0.0376 - accuracy: 0.9909\n",
      "Epoch 219/300\n",
      "469/469 [==============================] - 23s 50ms/step - loss: 0.0374 - accuracy: 0.9910\n",
      "Epoch 220/300\n",
      "469/469 [==============================] - 26s 56ms/step - loss: 0.0373 - accuracy: 0.9911\n",
      "Epoch 221/300\n",
      "469/469 [==============================] - 24s 50ms/step - loss: 0.0371 - accuracy: 0.9911\n",
      "Epoch 222/300\n",
      "469/469 [==============================] - 28s 59ms/step - loss: 0.0369 - accuracy: 0.9912\n",
      "Epoch 223/300\n",
      "469/469 [==============================] - 28s 59ms/step - loss: 0.0366 - accuracy: 0.9915\n",
      "Epoch 224/300\n",
      "469/469 [==============================] - 24s 51ms/step - loss: 0.0365 - accuracy: 0.9916\n",
      "Epoch 225/300\n",
      "469/469 [==============================] - 25s 53ms/step - loss: 0.0364 - accuracy: 0.9914\n",
      "Epoch 226/300\n",
      "469/469 [==============================] - 28s 59ms/step - loss: 0.0362 - accuracy: 0.9915\n",
      "Epoch 227/300\n",
      "469/469 [==============================] - 25s 53ms/step - loss: 0.0359 - accuracy: 0.9916\n",
      "Epoch 228/300\n",
      "469/469 [==============================] - 24s 51ms/step - loss: 0.0358 - accuracy: 0.9915\n",
      "Epoch 229/300\n",
      "469/469 [==============================] - 26s 55ms/step - loss: 0.0356 - accuracy: 0.9917\n",
      "Epoch 230/300\n",
      "469/469 [==============================] - 28s 59ms/step - loss: 0.0355 - accuracy: 0.9917\n",
      "Epoch 231/300\n",
      "469/469 [==============================] - 25s 52ms/step - loss: 0.0353 - accuracy: 0.9920\n",
      "Epoch 232/300\n",
      "469/469 [==============================] - 26s 55ms/step - loss: 0.0351 - accuracy: 0.9917\n",
      "Epoch 233/300\n",
      "469/469 [==============================] - 22s 48ms/step - loss: 0.0349 - accuracy: 0.9920\n",
      "Epoch 234/300\n",
      "469/469 [==============================] - 24s 50ms/step - loss: 0.0347 - accuracy: 0.9921\n",
      "Epoch 235/300\n",
      "469/469 [==============================] - 23s 49ms/step - loss: 0.0346 - accuracy: 0.9920\n",
      "Epoch 236/300\n",
      "469/469 [==============================] - 24s 52ms/step - loss: 0.0344 - accuracy: 0.9923\n",
      "Epoch 237/300\n",
      "469/469 [==============================] - 24s 51ms/step - loss: 0.0342 - accuracy: 0.9920\n",
      "Epoch 238/300\n",
      "469/469 [==============================] - 25s 53ms/step - loss: 0.0340 - accuracy: 0.9921\n",
      "Epoch 239/300\n",
      "469/469 [==============================] - 25s 53ms/step - loss: 0.0339 - accuracy: 0.9923\n",
      "Epoch 240/300\n",
      "469/469 [==============================] - 25s 54ms/step - loss: 0.0337 - accuracy: 0.9922\n",
      "Epoch 241/300\n",
      "469/469 [==============================] - 24s 51ms/step - loss: 0.0336 - accuracy: 0.9923\n",
      "Epoch 242/300\n",
      "469/469 [==============================] - 25s 53ms/step - loss: 0.0335 - accuracy: 0.9923\n",
      "Epoch 243/300\n",
      "469/469 [==============================] - 24s 52ms/step - loss: 0.0333 - accuracy: 0.9924\n",
      "Epoch 244/300\n",
      "469/469 [==============================] - 26s 55ms/step - loss: 0.0331 - accuracy: 0.9925\n",
      "Epoch 245/300\n",
      "469/469 [==============================] - 24s 51ms/step - loss: 0.0330 - accuracy: 0.9926\n",
      "Epoch 246/300\n",
      "469/469 [==============================] - 23s 48ms/step - loss: 0.0328 - accuracy: 0.9927\n",
      "Epoch 247/300\n",
      "469/469 [==============================] - 23s 50ms/step - loss: 0.0326 - accuracy: 0.9926\n",
      "Epoch 248/300\n",
      "469/469 [==============================] - 25s 53ms/step - loss: 0.0325 - accuracy: 0.9929\n",
      "Epoch 249/300\n",
      "469/469 [==============================] - 28s 59ms/step - loss: 0.0323 - accuracy: 0.9928\n",
      "Epoch 250/300\n",
      "469/469 [==============================] - 25s 54ms/step - loss: 0.0322 - accuracy: 0.9929\n",
      "Epoch 251/300\n",
      "469/469 [==============================] - 23s 50ms/step - loss: 0.0320 - accuracy: 0.9928\n",
      "Epoch 252/300\n",
      "469/469 [==============================] - 23s 50ms/step - loss: 0.0318 - accuracy: 0.9929\n",
      "Epoch 253/300\n",
      "469/469 [==============================] - 23s 49ms/step - loss: 0.0317 - accuracy: 0.9928\n",
      "Epoch 254/300\n",
      "469/469 [==============================] - 23s 50ms/step - loss: 0.0316 - accuracy: 0.9931\n",
      "Epoch 255/300\n",
      "469/469 [==============================] - 23s 50ms/step - loss: 0.0314 - accuracy: 0.9931\n",
      "Epoch 256/300\n",
      "469/469 [==============================] - 23s 49ms/step - loss: 0.0313 - accuracy: 0.9929\n",
      "Epoch 257/300\n",
      "469/469 [==============================] - 23s 49ms/step - loss: 0.0312 - accuracy: 0.9930\n",
      "Epoch 258/300\n",
      "469/469 [==============================] - 23s 49ms/step - loss: 0.0309 - accuracy: 0.9931\n",
      "Epoch 259/300\n",
      "469/469 [==============================] - 24s 52ms/step - loss: 0.0308 - accuracy: 0.9931\n",
      "Epoch 260/300\n",
      "469/469 [==============================] - 23s 49ms/step - loss: 0.0307 - accuracy: 0.9931\n",
      "Epoch 261/300\n",
      "469/469 [==============================] - 24s 51ms/step - loss: 0.0305 - accuracy: 0.9934\n",
      "Epoch 262/300\n",
      "469/469 [==============================] - 27s 57ms/step - loss: 0.0304 - accuracy: 0.9933\n",
      "Epoch 263/300\n",
      "469/469 [==============================] - 27s 58ms/step - loss: 0.0303 - accuracy: 0.9935\n",
      "Epoch 264/300\n",
      "469/469 [==============================] - 24s 51ms/step - loss: 0.0301 - accuracy: 0.9936\n",
      "Epoch 265/300\n",
      "469/469 [==============================] - 24s 50ms/step - loss: 0.0300 - accuracy: 0.9934\n",
      "Epoch 266/300\n",
      "469/469 [==============================] - 23s 50ms/step - loss: 0.0298 - accuracy: 0.9935\n",
      "Epoch 267/300\n",
      "469/469 [==============================] - 24s 52ms/step - loss: 0.0297 - accuracy: 0.9935\n",
      "Epoch 268/300\n",
      "469/469 [==============================] - 24s 51ms/step - loss: 0.0295 - accuracy: 0.9934\n",
      "Epoch 269/300\n",
      "469/469 [==============================] - 24s 50ms/step - loss: 0.0294 - accuracy: 0.9936\n",
      "Epoch 270/300\n",
      "469/469 [==============================] - 24s 52ms/step - loss: 0.0293 - accuracy: 0.9937\n",
      "Epoch 271/300\n",
      "469/469 [==============================] - 24s 50ms/step - loss: 0.0291 - accuracy: 0.9938\n",
      "Epoch 272/300\n",
      "469/469 [==============================] - 25s 54ms/step - loss: 0.0290 - accuracy: 0.9937\n",
      "Epoch 273/300\n",
      "469/469 [==============================] - 24s 51ms/step - loss: 0.0289 - accuracy: 0.9939\n",
      "Epoch 274/300\n",
      "469/469 [==============================] - 24s 51ms/step - loss: 0.0287 - accuracy: 0.9937\n",
      "Epoch 275/300\n",
      "469/469 [==============================] - 23s 49ms/step - loss: 0.0286 - accuracy: 0.9939\n",
      "Epoch 276/300\n",
      "469/469 [==============================] - 24s 51ms/step - loss: 0.0285 - accuracy: 0.9938\n",
      "Epoch 277/300\n",
      "469/469 [==============================] - 23s 50ms/step - loss: 0.0283 - accuracy: 0.9939\n",
      "Epoch 278/300\n",
      "469/469 [==============================] - 25s 53ms/step - loss: 0.0281 - accuracy: 0.9940\n",
      "Epoch 279/300\n",
      "469/469 [==============================] - 26s 55ms/step - loss: 0.0280 - accuracy: 0.9941\n",
      "Epoch 280/300\n",
      "469/469 [==============================] - 24s 51ms/step - loss: 0.0280 - accuracy: 0.9942\n",
      "Epoch 281/300\n",
      "469/469 [==============================] - 24s 52ms/step - loss: 0.0278 - accuracy: 0.9941\n",
      "Epoch 282/300\n",
      "469/469 [==============================] - 24s 51ms/step - loss: 0.0277 - accuracy: 0.9941\n",
      "Epoch 283/300\n",
      "469/469 [==============================] - 25s 54ms/step - loss: 0.0276 - accuracy: 0.9941\n",
      "Epoch 284/300\n",
      "469/469 [==============================] - 25s 54ms/step - loss: 0.0274 - accuracy: 0.9942\n",
      "Epoch 285/300\n",
      "469/469 [==============================] - 24s 52ms/step - loss: 0.0273 - accuracy: 0.9944\n",
      "Epoch 286/300\n",
      "469/469 [==============================] - 25s 53ms/step - loss: 0.0272 - accuracy: 0.9943\n",
      "Epoch 287/300\n",
      "469/469 [==============================] - 25s 54ms/step - loss: 0.0271 - accuracy: 0.9944\n",
      "Epoch 288/300\n",
      "469/469 [==============================] - 25s 54ms/step - loss: 0.0269 - accuracy: 0.9942\n",
      "Epoch 289/300\n",
      "469/469 [==============================] - 25s 52ms/step - loss: 0.0268 - accuracy: 0.9945\n",
      "Epoch 290/300\n",
      "469/469 [==============================] - 24s 51ms/step - loss: 0.0267 - accuracy: 0.9945\n",
      "Epoch 291/300\n",
      "469/469 [==============================] - 27s 57ms/step - loss: 0.0266 - accuracy: 0.9944\n",
      "Epoch 292/300\n",
      "469/469 [==============================] - 24s 52ms/step - loss: 0.0265 - accuracy: 0.9944\n",
      "Epoch 293/300\n",
      "469/469 [==============================] - 28s 60ms/step - loss: 0.0264 - accuracy: 0.9945\n",
      "Epoch 294/300\n",
      "469/469 [==============================] - 27s 58ms/step - loss: 0.0262 - accuracy: 0.9947\n",
      "Epoch 295/300\n",
      "469/469 [==============================] - 27s 57ms/step - loss: 0.0261 - accuracy: 0.9947\n",
      "Epoch 296/300\n",
      "469/469 [==============================] - 25s 53ms/step - loss: 0.0260 - accuracy: 0.9947\n",
      "Epoch 297/300\n",
      "469/469 [==============================] - 24s 51ms/step - loss: 0.0259 - accuracy: 0.9948\n",
      "Epoch 298/300\n",
      "469/469 [==============================] - 27s 57ms/step - loss: 0.0258 - accuracy: 0.9947\n",
      "Epoch 299/300\n",
      "469/469 [==============================] - 25s 53ms/step - loss: 0.0257 - accuracy: 0.9946\n",
      "Epoch 300/300\n",
      "469/469 [==============================] - 25s 53ms/step - loss: 0.0255 - accuracy: 0.9947\n"
     ]
    },
    {
     "data": {
      "text/plain": [
       "<keras.callbacks.History at 0x2c092e201c0>"
      ]
     },
     "execution_count": 604,
     "metadata": {},
     "output_type": "execute_result"
    }
   ],
   "source": [
    "model_hm = get_model()\n",
    "model_hm.fit(X_train_normalized, y_train, epochs = 300, verbose=1, callbacks=[CustomCallback()], batch_size=128) "
   ]
  },
  {
   "cell_type": "code",
   "execution_count": 603,
   "metadata": {
    "scrolled": true
   },
   "outputs": [
    {
     "name": "stdout",
     "output_type": "stream",
     "text": [
      "Epoch 1/300\n",
      "469/469 [==============================] - 1s 2ms/step - loss: 1.2273 - accuracy: 0.6990\n",
      "Epoch 2/300\n",
      "469/469 [==============================] - 1s 2ms/step - loss: 0.5731 - accuracy: 0.8595\n",
      "Epoch 3/300\n",
      "469/469 [==============================] - 1s 2ms/step - loss: 0.4537 - accuracy: 0.8797\n",
      "Epoch 4/300\n",
      "469/469 [==============================] - 1s 2ms/step - loss: 0.4020 - accuracy: 0.8899\n",
      "Epoch 5/300\n",
      "469/469 [==============================] - 1s 2ms/step - loss: 0.3710 - accuracy: 0.8965\n",
      "Epoch 6/300\n",
      "469/469 [==============================] - 1s 2ms/step - loss: 0.3494 - accuracy: 0.9015\n",
      "Epoch 7/300\n",
      "469/469 [==============================] - 1s 2ms/step - loss: 0.3327 - accuracy: 0.9061\n",
      "Epoch 8/300\n",
      "469/469 [==============================] - 1s 2ms/step - loss: 0.3191 - accuracy: 0.9093\n",
      "Epoch 9/300\n",
      "469/469 [==============================] - 1s 2ms/step - loss: 0.3076 - accuracy: 0.9128\n",
      "Epoch 10/300\n",
      "469/469 [==============================] - 1s 2ms/step - loss: 0.2979 - accuracy: 0.9155\n",
      "Epoch 11/300\n",
      "469/469 [==============================] - 1s 2ms/step - loss: 0.2891 - accuracy: 0.9179\n",
      "Epoch 12/300\n",
      "469/469 [==============================] - 1s 2ms/step - loss: 0.2813 - accuracy: 0.9202\n",
      "Epoch 13/300\n",
      "469/469 [==============================] - 1s 2ms/step - loss: 0.2743 - accuracy: 0.9220\n",
      "Epoch 14/300\n",
      "469/469 [==============================] - 1s 2ms/step - loss: 0.2677 - accuracy: 0.9240\n",
      "Epoch 15/300\n",
      "469/469 [==============================] - 1s 2ms/step - loss: 0.2616 - accuracy: 0.9262\n",
      "Epoch 16/300\n",
      "469/469 [==============================] - 1s 2ms/step - loss: 0.2560 - accuracy: 0.9275\n",
      "Epoch 17/300\n",
      "469/469 [==============================] - 1s 2ms/step - loss: 0.2507 - accuracy: 0.9287\n",
      "Epoch 18/300\n",
      "469/469 [==============================] - 1s 2ms/step - loss: 0.2455 - accuracy: 0.9308\n",
      "Epoch 19/300\n",
      "469/469 [==============================] - 1s 2ms/step - loss: 0.2408 - accuracy: 0.9316\n",
      "Epoch 20/300\n",
      "469/469 [==============================] - 1s 2ms/step - loss: 0.2362 - accuracy: 0.9335\n",
      "Epoch 21/300\n",
      "469/469 [==============================] - 1s 2ms/step - loss: 0.2317 - accuracy: 0.9353\n",
      "Epoch 22/300\n",
      "469/469 [==============================] - 1s 2ms/step - loss: 0.2275 - accuracy: 0.9359\n",
      "Epoch 23/300\n",
      "469/469 [==============================] - 1s 2ms/step - loss: 0.2234 - accuracy: 0.9371\n",
      "Epoch 24/300\n",
      "469/469 [==============================] - 1s 2ms/step - loss: 0.2194 - accuracy: 0.9385\n",
      "Epoch 25/300\n",
      "469/469 [==============================] - 1s 2ms/step - loss: 0.2157 - accuracy: 0.9396\n",
      "Epoch 26/300\n",
      "469/469 [==============================] - 1s 2ms/step - loss: 0.2120 - accuracy: 0.9403\n",
      "Epoch 27/300\n",
      "469/469 [==============================] - 1s 2ms/step - loss: 0.2084 - accuracy: 0.9416\n",
      "Epoch 28/300\n",
      "469/469 [==============================] - 1s 2ms/step - loss: 0.2051 - accuracy: 0.9423\n",
      "Epoch 29/300\n",
      "469/469 [==============================] - 1s 2ms/step - loss: 0.2017 - accuracy: 0.9433\n",
      "Epoch 30/300\n",
      "469/469 [==============================] - 1s 2ms/step - loss: 0.1986 - accuracy: 0.9438\n",
      "Epoch 31/300\n",
      "469/469 [==============================] - 1s 2ms/step - loss: 0.1954 - accuracy: 0.9450\n",
      "Epoch 32/300\n",
      "469/469 [==============================] - 1s 2ms/step - loss: 0.1925 - accuracy: 0.9457\n",
      "Epoch 33/300\n",
      "469/469 [==============================] - 1s 2ms/step - loss: 0.1896 - accuracy: 0.9465\n",
      "Epoch 34/300\n",
      "469/469 [==============================] - 1s 2ms/step - loss: 0.1868 - accuracy: 0.9471\n",
      "Epoch 35/300\n",
      "469/469 [==============================] - 1s 1ms/step - loss: 0.1841 - accuracy: 0.9479\n",
      "Epoch 36/300\n",
      "469/469 [==============================] - 1s 2ms/step - loss: 0.1815 - accuracy: 0.9485\n",
      "Epoch 37/300\n",
      "469/469 [==============================] - 1s 2ms/step - loss: 0.1788 - accuracy: 0.9497\n",
      "Epoch 38/300\n",
      "469/469 [==============================] - 1s 1ms/step - loss: 0.1765 - accuracy: 0.9499\n",
      "Epoch 39/300\n",
      "469/469 [==============================] - 1s 2ms/step - loss: 0.1739 - accuracy: 0.9505\n",
      "Epoch 40/300\n",
      "469/469 [==============================] - 1s 2ms/step - loss: 0.1718 - accuracy: 0.9516\n",
      "Epoch 41/300\n",
      "469/469 [==============================] - 1s 2ms/step - loss: 0.1696 - accuracy: 0.9520\n",
      "Epoch 42/300\n",
      "469/469 [==============================] - 1s 2ms/step - loss: 0.1674 - accuracy: 0.9528\n",
      "Epoch 43/300\n",
      "469/469 [==============================] - 1s 2ms/step - loss: 0.1652 - accuracy: 0.9534\n",
      "Epoch 44/300\n",
      "469/469 [==============================] - 1s 2ms/step - loss: 0.1632 - accuracy: 0.9538\n",
      "Epoch 45/300\n",
      "469/469 [==============================] - 1s 2ms/step - loss: 0.1611 - accuracy: 0.9547\n",
      "Epoch 46/300\n",
      "469/469 [==============================] - 1s 2ms/step - loss: 0.1591 - accuracy: 0.9552\n",
      "Epoch 47/300\n",
      "469/469 [==============================] - 1s 2ms/step - loss: 0.1573 - accuracy: 0.9556\n",
      "Epoch 48/300\n",
      "469/469 [==============================] - 1s 2ms/step - loss: 0.1554 - accuracy: 0.9562\n",
      "Epoch 49/300\n",
      "469/469 [==============================] - 1s 2ms/step - loss: 0.1535 - accuracy: 0.9567\n",
      "Epoch 50/300\n",
      "469/469 [==============================] - 1s 2ms/step - loss: 0.1518 - accuracy: 0.9569\n",
      "Epoch 51/300\n",
      "469/469 [==============================] - 1s 2ms/step - loss: 0.1501 - accuracy: 0.9577\n",
      "Epoch 52/300\n",
      "469/469 [==============================] - 1s 2ms/step - loss: 0.1483 - accuracy: 0.9584\n",
      "Epoch 53/300\n",
      "469/469 [==============================] - 1s 2ms/step - loss: 0.1467 - accuracy: 0.9585\n",
      "Epoch 54/300\n",
      "469/469 [==============================] - 1s 2ms/step - loss: 0.1451 - accuracy: 0.9587\n",
      "Epoch 55/300\n",
      "469/469 [==============================] - 1s 2ms/step - loss: 0.1436 - accuracy: 0.9592\n",
      "Epoch 56/300\n",
      "469/469 [==============================] - 1s 2ms/step - loss: 0.1420 - accuracy: 0.9600\n",
      "Epoch 57/300\n",
      "469/469 [==============================] - 1s 2ms/step - loss: 0.1406 - accuracy: 0.9606\n",
      "Epoch 58/300\n",
      "469/469 [==============================] - 1s 2ms/step - loss: 0.1391 - accuracy: 0.9607\n",
      "Epoch 59/300\n",
      "469/469 [==============================] - 1s 2ms/step - loss: 0.1377 - accuracy: 0.9612\n",
      "Epoch 60/300\n",
      "469/469 [==============================] - 1s 1ms/step - loss: 0.1363 - accuracy: 0.9615\n",
      "Epoch 61/300\n",
      "469/469 [==============================] - 1s 1ms/step - loss: 0.1348 - accuracy: 0.9618\n",
      "Epoch 62/300\n",
      "469/469 [==============================] - 1s 1ms/step - loss: 0.1335 - accuracy: 0.9625\n",
      "Epoch 63/300\n",
      "469/469 [==============================] - 1s 2ms/step - loss: 0.1323 - accuracy: 0.9629\n",
      "Epoch 64/300\n",
      "469/469 [==============================] - 1s 3ms/step - loss: 0.1309 - accuracy: 0.9631\n",
      "Epoch 65/300\n",
      "469/469 [==============================] - 1s 2ms/step - loss: 0.1297 - accuracy: 0.9635\n",
      "Epoch 66/300\n",
      "469/469 [==============================] - 1s 3ms/step - loss: 0.1284 - accuracy: 0.9636\n",
      "Epoch 67/300\n",
      "469/469 [==============================] - 1s 2ms/step - loss: 0.1272 - accuracy: 0.9642\n",
      "Epoch 68/300\n",
      "469/469 [==============================] - 1s 2ms/step - loss: 0.1261 - accuracy: 0.9642\n",
      "Epoch 69/300\n",
      "469/469 [==============================] - 1s 3ms/step - loss: 0.1250 - accuracy: 0.9649\n",
      "Epoch 70/300\n",
      "469/469 [==============================] - 1s 2ms/step - loss: 0.1238 - accuracy: 0.9650\n",
      "Epoch 71/300\n",
      "469/469 [==============================] - 1s 2ms/step - loss: 0.1227 - accuracy: 0.9656\n",
      "Epoch 72/300\n",
      "469/469 [==============================] - 1s 2ms/step - loss: 0.1217 - accuracy: 0.9655\n",
      "Epoch 73/300\n",
      "469/469 [==============================] - 1s 2ms/step - loss: 0.1206 - accuracy: 0.9657\n",
      "Epoch 74/300\n",
      "469/469 [==============================] - 1s 2ms/step - loss: 0.1195 - accuracy: 0.9660\n",
      "Epoch 75/300\n",
      "469/469 [==============================] - 1s 2ms/step - loss: 0.1184 - accuracy: 0.9664\n",
      "Epoch 76/300\n",
      "469/469 [==============================] - 1s 2ms/step - loss: 0.1174 - accuracy: 0.9666\n",
      "Epoch 77/300\n",
      "469/469 [==============================] - 1s 2ms/step - loss: 0.1164 - accuracy: 0.9669\n",
      "Epoch 78/300\n",
      "469/469 [==============================] - 1s 2ms/step - loss: 0.1155 - accuracy: 0.9670\n",
      "Epoch 79/300\n",
      "469/469 [==============================] - 1s 2ms/step - loss: 0.1145 - accuracy: 0.9673\n",
      "Epoch 80/300\n",
      "469/469 [==============================] - 1s 3ms/step - loss: 0.1136 - accuracy: 0.9674\n",
      "Epoch 81/300\n",
      "469/469 [==============================] - 1s 2ms/step - loss: 0.1127 - accuracy: 0.9680\n",
      "Epoch 82/300\n",
      "469/469 [==============================] - 1s 2ms/step - loss: 0.1118 - accuracy: 0.9681\n",
      "Epoch 83/300\n",
      "469/469 [==============================] - 1s 2ms/step - loss: 0.1109 - accuracy: 0.9683\n",
      "Epoch 84/300\n",
      "469/469 [==============================] - 1s 2ms/step - loss: 0.1101 - accuracy: 0.9685\n",
      "Epoch 85/300\n",
      "469/469 [==============================] - 1s 2ms/step - loss: 0.1092 - accuracy: 0.9689\n",
      "Epoch 86/300\n",
      "469/469 [==============================] - 1s 2ms/step - loss: 0.1084 - accuracy: 0.9692\n",
      "Epoch 87/300\n",
      "469/469 [==============================] - 1s 2ms/step - loss: 0.1075 - accuracy: 0.9694\n",
      "Epoch 88/300\n",
      "469/469 [==============================] - 1s 2ms/step - loss: 0.1068 - accuracy: 0.9695\n",
      "Epoch 89/300\n",
      "469/469 [==============================] - 1s 2ms/step - loss: 0.1060 - accuracy: 0.9697\n",
      "Epoch 90/300\n",
      "469/469 [==============================] - 1s 2ms/step - loss: 0.1051 - accuracy: 0.9697\n",
      "Epoch 91/300\n",
      "469/469 [==============================] - 1s 2ms/step - loss: 0.1044 - accuracy: 0.9700\n",
      "Epoch 92/300\n",
      "469/469 [==============================] - 1s 2ms/step - loss: 0.1037 - accuracy: 0.9705\n",
      "Epoch 93/300\n",
      "469/469 [==============================] - 1s 2ms/step - loss: 0.1030 - accuracy: 0.9707\n",
      "Epoch 94/300\n",
      "469/469 [==============================] - 1s 2ms/step - loss: 0.1022 - accuracy: 0.9708\n",
      "Epoch 95/300\n",
      "469/469 [==============================] - 1s 2ms/step - loss: 0.1015 - accuracy: 0.9709\n",
      "Epoch 96/300\n",
      "469/469 [==============================] - 1s 2ms/step - loss: 0.1008 - accuracy: 0.9712\n",
      "Epoch 97/300\n",
      "469/469 [==============================] - 1s 2ms/step - loss: 0.1001 - accuracy: 0.9714\n",
      "Epoch 98/300\n",
      "469/469 [==============================] - 1s 1ms/step - loss: 0.0994 - accuracy: 0.9717\n",
      "Epoch 99/300\n",
      "469/469 [==============================] - 1s 2ms/step - loss: 0.0987 - accuracy: 0.9717\n",
      "Epoch 100/300\n",
      "469/469 [==============================] - 1s 2ms/step - loss: 0.0981 - accuracy: 0.9720\n",
      "Epoch 101/300\n",
      "469/469 [==============================] - 1s 2ms/step - loss: 0.0974 - accuracy: 0.9720\n",
      "Epoch 102/300\n",
      "469/469 [==============================] - 1s 2ms/step - loss: 0.0968 - accuracy: 0.9723\n",
      "Epoch 103/300\n",
      "469/469 [==============================] - 1s 2ms/step - loss: 0.0960 - accuracy: 0.9727\n",
      "Epoch 104/300\n",
      "469/469 [==============================] - 1s 2ms/step - loss: 0.0955 - accuracy: 0.9726\n",
      "Epoch 105/300\n",
      "469/469 [==============================] - 1s 2ms/step - loss: 0.0948 - accuracy: 0.9730\n",
      "Epoch 106/300\n",
      "469/469 [==============================] - 1s 2ms/step - loss: 0.0942 - accuracy: 0.9731\n",
      "Epoch 107/300\n",
      "469/469 [==============================] - 1s 2ms/step - loss: 0.0937 - accuracy: 0.9736\n",
      "Epoch 108/300\n",
      "469/469 [==============================] - 1s 2ms/step - loss: 0.0931 - accuracy: 0.9738\n",
      "Epoch 109/300\n",
      "469/469 [==============================] - 1s 2ms/step - loss: 0.0924 - accuracy: 0.9739\n",
      "Epoch 110/300\n",
      "469/469 [==============================] - 1s 2ms/step - loss: 0.0919 - accuracy: 0.9743\n",
      "Epoch 111/300\n",
      "469/469 [==============================] - 1s 2ms/step - loss: 0.0913 - accuracy: 0.9740\n",
      "Epoch 112/300\n",
      "469/469 [==============================] - 1s 2ms/step - loss: 0.0907 - accuracy: 0.9743\n",
      "Epoch 113/300\n",
      "469/469 [==============================] - 1s 2ms/step - loss: 0.0902 - accuracy: 0.9745\n",
      "Epoch 114/300\n",
      "469/469 [==============================] - 1s 2ms/step - loss: 0.0896 - accuracy: 0.9747\n",
      "Epoch 115/300\n",
      "469/469 [==============================] - 1s 2ms/step - loss: 0.0890 - accuracy: 0.9748\n",
      "Epoch 116/300\n",
      "469/469 [==============================] - 1s 2ms/step - loss: 0.0886 - accuracy: 0.9750\n",
      "Epoch 117/300\n",
      "469/469 [==============================] - 1s 2ms/step - loss: 0.0880 - accuracy: 0.9750\n",
      "Epoch 118/300\n",
      "469/469 [==============================] - 1s 2ms/step - loss: 0.0875 - accuracy: 0.9754\n",
      "Epoch 119/300\n",
      "469/469 [==============================] - 1s 2ms/step - loss: 0.0869 - accuracy: 0.9756\n",
      "Epoch 120/300\n",
      "469/469 [==============================] - 1s 2ms/step - loss: 0.0865 - accuracy: 0.9755\n",
      "Epoch 121/300\n",
      "469/469 [==============================] - 1s 2ms/step - loss: 0.0860 - accuracy: 0.9757\n",
      "Epoch 122/300\n",
      "469/469 [==============================] - 1s 2ms/step - loss: 0.0854 - accuracy: 0.9762\n",
      "Epoch 123/300\n",
      "469/469 [==============================] - 1s 2ms/step - loss: 0.0850 - accuracy: 0.9760\n",
      "Epoch 124/300\n",
      "469/469 [==============================] - 1s 2ms/step - loss: 0.0845 - accuracy: 0.9764\n",
      "Epoch 125/300\n",
      "469/469 [==============================] - 1s 2ms/step - loss: 0.0840 - accuracy: 0.9764\n",
      "Epoch 126/300\n",
      "469/469 [==============================] - 1s 2ms/step - loss: 0.0835 - accuracy: 0.9766\n",
      "Epoch 127/300\n",
      "469/469 [==============================] - 1s 1ms/step - loss: 0.0830 - accuracy: 0.9766\n",
      "Epoch 128/300\n",
      "469/469 [==============================] - 1s 2ms/step - loss: 0.0825 - accuracy: 0.9769\n",
      "Epoch 129/300\n",
      "469/469 [==============================] - 1s 2ms/step - loss: 0.0821 - accuracy: 0.9772\n",
      "Epoch 130/300\n",
      "469/469 [==============================] - 1s 2ms/step - loss: 0.0816 - accuracy: 0.9771\n",
      "Epoch 131/300\n",
      "469/469 [==============================] - 1s 2ms/step - loss: 0.0812 - accuracy: 0.9772\n",
      "Epoch 132/300\n",
      "469/469 [==============================] - 1s 2ms/step - loss: 0.0807 - accuracy: 0.9771\n",
      "Epoch 133/300\n",
      "469/469 [==============================] - 1s 2ms/step - loss: 0.0803 - accuracy: 0.9774\n",
      "Epoch 134/300\n",
      "469/469 [==============================] - 1s 2ms/step - loss: 0.0798 - accuracy: 0.9777\n",
      "Epoch 135/300\n",
      "469/469 [==============================] - 1s 2ms/step - loss: 0.0794 - accuracy: 0.9778\n",
      "Epoch 136/300\n",
      "469/469 [==============================] - 1s 2ms/step - loss: 0.0790 - accuracy: 0.9780\n",
      "Epoch 137/300\n",
      "469/469 [==============================] - 1s 2ms/step - loss: 0.0785 - accuracy: 0.9780\n",
      "Epoch 138/300\n",
      "469/469 [==============================] - 1s 2ms/step - loss: 0.0782 - accuracy: 0.9781\n",
      "Epoch 139/300\n",
      "469/469 [==============================] - 1s 2ms/step - loss: 0.0777 - accuracy: 0.9781\n",
      "Epoch 140/300\n",
      "469/469 [==============================] - 1s 2ms/step - loss: 0.0773 - accuracy: 0.9782\n",
      "Epoch 141/300\n",
      "469/469 [==============================] - 1s 2ms/step - loss: 0.0768 - accuracy: 0.9785\n",
      "Epoch 142/300\n",
      "469/469 [==============================] - 1s 2ms/step - loss: 0.0765 - accuracy: 0.9787\n",
      "Epoch 143/300\n",
      "469/469 [==============================] - 1s 2ms/step - loss: 0.0760 - accuracy: 0.9787\n",
      "Epoch 144/300\n",
      "469/469 [==============================] - 1s 2ms/step - loss: 0.0756 - accuracy: 0.9790\n",
      "Epoch 145/300\n",
      "469/469 [==============================] - 1s 2ms/step - loss: 0.0753 - accuracy: 0.9788\n",
      "Epoch 146/300\n",
      "469/469 [==============================] - 1s 2ms/step - loss: 0.0749 - accuracy: 0.9792\n",
      "Epoch 147/300\n",
      "469/469 [==============================] - 1s 2ms/step - loss: 0.0745 - accuracy: 0.9792\n",
      "Epoch 148/300\n",
      "469/469 [==============================] - 1s 2ms/step - loss: 0.0742 - accuracy: 0.9791\n",
      "Epoch 149/300\n",
      "469/469 [==============================] - 1s 2ms/step - loss: 0.0738 - accuracy: 0.9794\n",
      "Epoch 150/300\n",
      "469/469 [==============================] - 1s 2ms/step - loss: 0.0733 - accuracy: 0.9795\n",
      "Epoch 151/300\n",
      "469/469 [==============================] - 1s 2ms/step - loss: 0.0729 - accuracy: 0.9798\n",
      "Epoch 152/300\n",
      "469/469 [==============================] - 1s 2ms/step - loss: 0.0726 - accuracy: 0.9797\n",
      "Epoch 153/300\n",
      "469/469 [==============================] - 1s 2ms/step - loss: 0.0722 - accuracy: 0.9800\n",
      "Epoch 154/300\n",
      "469/469 [==============================] - 1s 2ms/step - loss: 0.0719 - accuracy: 0.9799\n",
      "Epoch 155/300\n",
      "469/469 [==============================] - 1s 2ms/step - loss: 0.0715 - accuracy: 0.9803\n",
      "Epoch 156/300\n",
      "469/469 [==============================] - 1s 2ms/step - loss: 0.0712 - accuracy: 0.9801\n",
      "Epoch 157/300\n",
      "469/469 [==============================] - 1s 2ms/step - loss: 0.0709 - accuracy: 0.9803\n",
      "Epoch 158/300\n",
      "469/469 [==============================] - 1s 2ms/step - loss: 0.0704 - accuracy: 0.9805\n",
      "Epoch 159/300\n",
      "469/469 [==============================] - 1s 2ms/step - loss: 0.0701 - accuracy: 0.9805\n",
      "Epoch 160/300\n"
     ]
    },
    {
     "name": "stdout",
     "output_type": "stream",
     "text": [
      "469/469 [==============================] - 1s 2ms/step - loss: 0.0698 - accuracy: 0.9806\n",
      "Epoch 161/300\n",
      "469/469 [==============================] - 1s 2ms/step - loss: 0.0695 - accuracy: 0.9806\n",
      "Epoch 162/300\n",
      "469/469 [==============================] - 1s 2ms/step - loss: 0.0691 - accuracy: 0.9809\n",
      "Epoch 163/300\n",
      "469/469 [==============================] - 1s 2ms/step - loss: 0.0688 - accuracy: 0.9809\n",
      "Epoch 164/300\n",
      "469/469 [==============================] - 1s 2ms/step - loss: 0.0685 - accuracy: 0.9809\n",
      "Epoch 165/300\n",
      "469/469 [==============================] - 1s 2ms/step - loss: 0.0681 - accuracy: 0.9813\n",
      "Epoch 166/300\n",
      "469/469 [==============================] - 1s 2ms/step - loss: 0.0678 - accuracy: 0.9812\n",
      "Epoch 167/300\n",
      "469/469 [==============================] - 1s 2ms/step - loss: 0.0675 - accuracy: 0.9811\n",
      "Epoch 168/300\n",
      "469/469 [==============================] - 1s 2ms/step - loss: 0.0672 - accuracy: 0.9813\n",
      "Epoch 169/300\n",
      "469/469 [==============================] - 1s 2ms/step - loss: 0.0668 - accuracy: 0.9814\n",
      "Epoch 170/300\n",
      "469/469 [==============================] - 1s 2ms/step - loss: 0.0665 - accuracy: 0.9815\n",
      "Epoch 171/300\n",
      "469/469 [==============================] - 1s 2ms/step - loss: 0.0662 - accuracy: 0.9816\n",
      "Epoch 172/300\n",
      "469/469 [==============================] - 1s 2ms/step - loss: 0.0659 - accuracy: 0.9819\n",
      "Epoch 173/300\n",
      "469/469 [==============================] - 1s 2ms/step - loss: 0.0656 - accuracy: 0.9818\n",
      "Epoch 174/300\n",
      "469/469 [==============================] - 1s 2ms/step - loss: 0.0653 - accuracy: 0.9817\n",
      "Epoch 175/300\n",
      "469/469 [==============================] - 1s 2ms/step - loss: 0.0650 - accuracy: 0.9818\n",
      "Epoch 176/300\n",
      "469/469 [==============================] - 1s 2ms/step - loss: 0.0647 - accuracy: 0.9821\n",
      "Epoch 177/300\n",
      "469/469 [==============================] - 1s 2ms/step - loss: 0.0644 - accuracy: 0.9821\n",
      "Epoch 178/300\n",
      "469/469 [==============================] - 1s 2ms/step - loss: 0.0641 - accuracy: 0.9821\n",
      "Epoch 179/300\n",
      "469/469 [==============================] - 1s 2ms/step - loss: 0.0637 - accuracy: 0.9823\n",
      "Epoch 180/300\n",
      "469/469 [==============================] - 1s 2ms/step - loss: 0.0635 - accuracy: 0.9824\n",
      "Epoch 181/300\n",
      "469/469 [==============================] - 1s 2ms/step - loss: 0.0632 - accuracy: 0.9824\n",
      "Epoch 182/300\n",
      "469/469 [==============================] - 1s 2ms/step - loss: 0.0629 - accuracy: 0.9825\n",
      "Epoch 183/300\n",
      "469/469 [==============================] - 1s 2ms/step - loss: 0.0627 - accuracy: 0.9826\n",
      "Epoch 184/300\n",
      "469/469 [==============================] - 1s 2ms/step - loss: 0.0623 - accuracy: 0.9829\n",
      "Epoch 185/300\n",
      "469/469 [==============================] - 1s 2ms/step - loss: 0.0620 - accuracy: 0.9829\n",
      "Epoch 186/300\n",
      "469/469 [==============================] - 1s 2ms/step - loss: 0.0618 - accuracy: 0.9828\n",
      "Epoch 187/300\n",
      "469/469 [==============================] - 1s 2ms/step - loss: 0.0615 - accuracy: 0.9830\n",
      "Epoch 188/300\n",
      "469/469 [==============================] - 1s 2ms/step - loss: 0.0613 - accuracy: 0.9833\n",
      "Epoch 189/300\n",
      "469/469 [==============================] - 1s 2ms/step - loss: 0.0609 - accuracy: 0.9832\n",
      "Epoch 190/300\n",
      "469/469 [==============================] - 1s 2ms/step - loss: 0.0607 - accuracy: 0.9832\n",
      "Epoch 191/300\n",
      "469/469 [==============================] - 1s 2ms/step - loss: 0.0604 - accuracy: 0.9834\n",
      "Epoch 192/300\n",
      "469/469 [==============================] - 1s 2ms/step - loss: 0.0602 - accuracy: 0.9834\n",
      "Epoch 193/300\n",
      "469/469 [==============================] - 1s 2ms/step - loss: 0.0600 - accuracy: 0.9837\n",
      "Epoch 194/300\n",
      "469/469 [==============================] - 1s 2ms/step - loss: 0.0597 - accuracy: 0.9837\n",
      "Epoch 195/300\n",
      "469/469 [==============================] - 1s 2ms/step - loss: 0.0594 - accuracy: 0.9838\n",
      "Epoch 196/300\n",
      "469/469 [==============================] - 1s 2ms/step - loss: 0.0592 - accuracy: 0.9837\n",
      "Epoch 197/300\n",
      "469/469 [==============================] - 1s 2ms/step - loss: 0.0589 - accuracy: 0.9837\n",
      "Epoch 198/300\n",
      "469/469 [==============================] - 1s 2ms/step - loss: 0.0587 - accuracy: 0.9840\n",
      "Epoch 199/300\n",
      "469/469 [==============================] - 1s 2ms/step - loss: 0.0584 - accuracy: 0.9838\n",
      "Epoch 200/300\n",
      "469/469 [==============================] - 1s 2ms/step - loss: 0.0581 - accuracy: 0.9839\n",
      "Epoch 201/300\n",
      "469/469 [==============================] - 1s 2ms/step - loss: 0.0579 - accuracy: 0.9842\n",
      "Epoch 202/300\n",
      "469/469 [==============================] - 1s 2ms/step - loss: 0.0576 - accuracy: 0.9841\n",
      "Epoch 203/300\n",
      "469/469 [==============================] - 1s 2ms/step - loss: 0.0573 - accuracy: 0.9845\n",
      "Epoch 204/300\n",
      "469/469 [==============================] - 1s 2ms/step - loss: 0.0571 - accuracy: 0.9845\n",
      "Epoch 205/300\n",
      "469/469 [==============================] - 1s 2ms/step - loss: 0.0569 - accuracy: 0.9844\n",
      "Epoch 206/300\n",
      "469/469 [==============================] - 1s 2ms/step - loss: 0.0567 - accuracy: 0.9844\n",
      "Epoch 207/300\n",
      "469/469 [==============================] - 1s 2ms/step - loss: 0.0564 - accuracy: 0.9846\n",
      "Epoch 208/300\n",
      "469/469 [==============================] - 1s 2ms/step - loss: 0.0562 - accuracy: 0.9844\n",
      "Epoch 209/300\n",
      "469/469 [==============================] - 1s 2ms/step - loss: 0.0560 - accuracy: 0.9846\n",
      "Epoch 210/300\n",
      "469/469 [==============================] - 1s 2ms/step - loss: 0.0558 - accuracy: 0.9848\n",
      "Epoch 211/300\n",
      "469/469 [==============================] - 1s 2ms/step - loss: 0.0554 - accuracy: 0.9848\n",
      "Epoch 212/300\n",
      "469/469 [==============================] - 1s 2ms/step - loss: 0.0553 - accuracy: 0.9849\n",
      "Epoch 213/300\n",
      "469/469 [==============================] - 1s 2ms/step - loss: 0.0550 - accuracy: 0.9847\n",
      "Epoch 214/300\n",
      "469/469 [==============================] - 1s 2ms/step - loss: 0.0548 - accuracy: 0.9851\n",
      "Epoch 215/300\n",
      "469/469 [==============================] - 1s 2ms/step - loss: 0.0545 - accuracy: 0.9851\n",
      "Epoch 216/300\n",
      "469/469 [==============================] - 1s 2ms/step - loss: 0.0544 - accuracy: 0.9850\n",
      "Epoch 217/300\n",
      "469/469 [==============================] - 1s 2ms/step - loss: 0.0541 - accuracy: 0.9852\n",
      "Epoch 218/300\n",
      "469/469 [==============================] - 1s 2ms/step - loss: 0.0539 - accuracy: 0.9853\n",
      "Epoch 219/300\n",
      "469/469 [==============================] - 1s 2ms/step - loss: 0.0537 - accuracy: 0.9853\n",
      "Epoch 220/300\n",
      "469/469 [==============================] - 1s 2ms/step - loss: 0.0535 - accuracy: 0.9853\n",
      "Epoch 221/300\n",
      "469/469 [==============================] - 1s 2ms/step - loss: 0.0532 - accuracy: 0.9855\n",
      "Epoch 222/300\n",
      "469/469 [==============================] - 1s 2ms/step - loss: 0.0530 - accuracy: 0.9855\n",
      "Epoch 223/300\n",
      "469/469 [==============================] - 1s 2ms/step - loss: 0.0528 - accuracy: 0.9857\n",
      "Epoch 224/300\n",
      "469/469 [==============================] - 1s 2ms/step - loss: 0.0526 - accuracy: 0.9857\n",
      "Epoch 225/300\n",
      "469/469 [==============================] - 1s 2ms/step - loss: 0.0523 - accuracy: 0.9860\n",
      "Epoch 226/300\n",
      "469/469 [==============================] - 1s 2ms/step - loss: 0.0522 - accuracy: 0.9858\n",
      "Epoch 227/300\n",
      "469/469 [==============================] - 1s 2ms/step - loss: 0.0520 - accuracy: 0.9859\n",
      "Epoch 228/300\n",
      "469/469 [==============================] - 1s 2ms/step - loss: 0.0518 - accuracy: 0.9859\n",
      "Epoch 229/300\n",
      "469/469 [==============================] - 1s 2ms/step - loss: 0.0515 - accuracy: 0.9863\n",
      "Epoch 230/300\n",
      "469/469 [==============================] - 1s 2ms/step - loss: 0.0514 - accuracy: 0.9860\n",
      "Epoch 231/300\n",
      "469/469 [==============================] - 1s 2ms/step - loss: 0.0512 - accuracy: 0.9863\n",
      "Epoch 232/300\n",
      "469/469 [==============================] - 1s 2ms/step - loss: 0.0510 - accuracy: 0.9864\n",
      "Epoch 233/300\n",
      "469/469 [==============================] - 1s 2ms/step - loss: 0.0508 - accuracy: 0.9863\n",
      "Epoch 234/300\n",
      "469/469 [==============================] - 1s 2ms/step - loss: 0.0506 - accuracy: 0.9863\n",
      "Epoch 235/300\n",
      "469/469 [==============================] - 1s 2ms/step - loss: 0.0504 - accuracy: 0.9864\n",
      "Epoch 236/300\n",
      "469/469 [==============================] - 1s 2ms/step - loss: 0.0502 - accuracy: 0.9866\n",
      "Epoch 237/300\n",
      "469/469 [==============================] - 1s 2ms/step - loss: 0.0500 - accuracy: 0.9867\n",
      "Epoch 238/300\n",
      "469/469 [==============================] - 1s 2ms/step - loss: 0.0498 - accuracy: 0.9867\n",
      "Epoch 239/300\n",
      "469/469 [==============================] - 1s 2ms/step - loss: 0.0496 - accuracy: 0.9867\n",
      "Epoch 240/300\n",
      "469/469 [==============================] - 1s 2ms/step - loss: 0.0494 - accuracy: 0.9868\n",
      "Epoch 241/300\n",
      "469/469 [==============================] - 1s 2ms/step - loss: 0.0492 - accuracy: 0.9869\n",
      "Epoch 242/300\n",
      "469/469 [==============================] - 1s 2ms/step - loss: 0.0490 - accuracy: 0.9870\n",
      "Epoch 243/300\n",
      "469/469 [==============================] - 1s 2ms/step - loss: 0.0488 - accuracy: 0.9871\n",
      "Epoch 244/300\n",
      "469/469 [==============================] - 1s 2ms/step - loss: 0.0486 - accuracy: 0.9872\n",
      "Epoch 245/300\n",
      "469/469 [==============================] - 1s 2ms/step - loss: 0.0485 - accuracy: 0.9872\n",
      "Epoch 246/300\n",
      "469/469 [==============================] - 1s 2ms/step - loss: 0.0482 - accuracy: 0.9871\n",
      "Epoch 247/300\n",
      "469/469 [==============================] - 1s 2ms/step - loss: 0.0481 - accuracy: 0.9870\n",
      "Epoch 248/300\n",
      "469/469 [==============================] - 1s 2ms/step - loss: 0.0479 - accuracy: 0.9874\n",
      "Epoch 249/300\n",
      "469/469 [==============================] - 1s 2ms/step - loss: 0.0477 - accuracy: 0.9876\n",
      "Epoch 250/300\n",
      "469/469 [==============================] - 1s 2ms/step - loss: 0.0475 - accuracy: 0.9872\n",
      "Epoch 251/300\n",
      "469/469 [==============================] - 1s 2ms/step - loss: 0.0474 - accuracy: 0.9876\n",
      "Epoch 252/300\n",
      "469/469 [==============================] - 1s 2ms/step - loss: 0.0472 - accuracy: 0.9876\n",
      "Epoch 253/300\n",
      "469/469 [==============================] - 1s 2ms/step - loss: 0.0470 - accuracy: 0.9877\n",
      "Epoch 254/300\n",
      "469/469 [==============================] - 1s 2ms/step - loss: 0.0468 - accuracy: 0.9877\n",
      "Epoch 255/300\n",
      "469/469 [==============================] - 1s 2ms/step - loss: 0.0467 - accuracy: 0.9877\n",
      "Epoch 256/300\n",
      "469/469 [==============================] - 1s 2ms/step - loss: 0.0465 - accuracy: 0.9879\n",
      "Epoch 257/300\n",
      "469/469 [==============================] - 1s 2ms/step - loss: 0.0463 - accuracy: 0.9880\n",
      "Epoch 258/300\n",
      "469/469 [==============================] - 1s 2ms/step - loss: 0.0461 - accuracy: 0.9878\n",
      "Epoch 259/300\n",
      "469/469 [==============================] - 1s 2ms/step - loss: 0.0459 - accuracy: 0.9878\n",
      "Epoch 260/300\n",
      "469/469 [==============================] - 1s 2ms/step - loss: 0.0458 - accuracy: 0.9881\n",
      "Epoch 261/300\n",
      "469/469 [==============================] - 1s 2ms/step - loss: 0.0456 - accuracy: 0.9879\n",
      "Epoch 262/300\n",
      "469/469 [==============================] - 1s 2ms/step - loss: 0.0455 - accuracy: 0.9882\n",
      "Epoch 263/300\n",
      "469/469 [==============================] - 1s 2ms/step - loss: 0.0453 - accuracy: 0.9882\n",
      "Epoch 264/300\n",
      "469/469 [==============================] - 1s 2ms/step - loss: 0.0451 - accuracy: 0.9882\n",
      "Epoch 265/300\n",
      "469/469 [==============================] - 1s 2ms/step - loss: 0.0449 - accuracy: 0.9886\n",
      "Epoch 266/300\n",
      "469/469 [==============================] - 1s 2ms/step - loss: 0.0447 - accuracy: 0.9885\n",
      "Epoch 267/300\n",
      "469/469 [==============================] - 1s 2ms/step - loss: 0.0446 - accuracy: 0.9885\n",
      "Epoch 268/300\n",
      "469/469 [==============================] - 1s 2ms/step - loss: 0.0444 - accuracy: 0.9885\n",
      "Epoch 269/300\n",
      "469/469 [==============================] - 1s 2ms/step - loss: 0.0443 - accuracy: 0.9884\n",
      "Epoch 270/300\n",
      "469/469 [==============================] - 1s 2ms/step - loss: 0.0441 - accuracy: 0.9884\n",
      "Epoch 271/300\n",
      "469/469 [==============================] - 1s 2ms/step - loss: 0.0440 - accuracy: 0.9886\n",
      "Epoch 272/300\n",
      "469/469 [==============================] - 1s 2ms/step - loss: 0.0438 - accuracy: 0.9888\n",
      "Epoch 273/300\n",
      "469/469 [==============================] - 1s 2ms/step - loss: 0.0436 - accuracy: 0.9887\n",
      "Epoch 274/300\n",
      "469/469 [==============================] - 1s 2ms/step - loss: 0.0435 - accuracy: 0.9887\n",
      "Epoch 275/300\n",
      "469/469 [==============================] - 1s 2ms/step - loss: 0.0433 - accuracy: 0.9888\n",
      "Epoch 276/300\n",
      "469/469 [==============================] - 1s 2ms/step - loss: 0.0432 - accuracy: 0.9890\n",
      "Epoch 277/300\n",
      "469/469 [==============================] - 1s 2ms/step - loss: 0.0430 - accuracy: 0.9889\n",
      "Epoch 278/300\n",
      "469/469 [==============================] - 1s 2ms/step - loss: 0.0428 - accuracy: 0.9893\n",
      "Epoch 279/300\n",
      "469/469 [==============================] - 1s 2ms/step - loss: 0.0427 - accuracy: 0.9890\n",
      "Epoch 280/300\n",
      "469/469 [==============================] - 1s 2ms/step - loss: 0.0426 - accuracy: 0.9889\n",
      "Epoch 281/300\n",
      "469/469 [==============================] - 1s 2ms/step - loss: 0.0424 - accuracy: 0.9891\n",
      "Epoch 282/300\n",
      "469/469 [==============================] - 1s 2ms/step - loss: 0.0423 - accuracy: 0.9891\n",
      "Epoch 283/300\n",
      "469/469 [==============================] - 1s 2ms/step - loss: 0.0421 - accuracy: 0.9894\n",
      "Epoch 284/300\n",
      "469/469 [==============================] - 1s 1ms/step - loss: 0.0419 - accuracy: 0.9894\n",
      "Epoch 285/300\n",
      "469/469 [==============================] - 1s 2ms/step - loss: 0.0418 - accuracy: 0.9894\n",
      "Epoch 286/300\n",
      "469/469 [==============================] - 1s 2ms/step - loss: 0.0416 - accuracy: 0.9895\n",
      "Epoch 287/300\n",
      "469/469 [==============================] - 1s 2ms/step - loss: 0.0415 - accuracy: 0.9893\n",
      "Epoch 288/300\n",
      "469/469 [==============================] - 1s 2ms/step - loss: 0.0413 - accuracy: 0.9894\n",
      "Epoch 289/300\n",
      "469/469 [==============================] - 1s 2ms/step - loss: 0.0412 - accuracy: 0.9896\n",
      "Epoch 290/300\n",
      "469/469 [==============================] - 1s 2ms/step - loss: 0.0410 - accuracy: 0.9895\n",
      "Epoch 291/300\n",
      "469/469 [==============================] - 1s 2ms/step - loss: 0.0409 - accuracy: 0.9896\n",
      "Epoch 292/300\n",
      "469/469 [==============================] - 1s 2ms/step - loss: 0.0408 - accuracy: 0.9898\n",
      "Epoch 293/300\n",
      "469/469 [==============================] - 1s 2ms/step - loss: 0.0406 - accuracy: 0.9895\n",
      "Epoch 294/300\n",
      "469/469 [==============================] - 1s 2ms/step - loss: 0.0405 - accuracy: 0.9899\n",
      "Epoch 295/300\n",
      "469/469 [==============================] - 1s 2ms/step - loss: 0.0403 - accuracy: 0.9899\n",
      "Epoch 296/300\n",
      "469/469 [==============================] - 1s 2ms/step - loss: 0.0402 - accuracy: 0.9901\n",
      "Epoch 297/300\n",
      "469/469 [==============================] - 1s 2ms/step - loss: 0.0401 - accuracy: 0.9899\n",
      "Epoch 298/300\n",
      "469/469 [==============================] - 1s 2ms/step - loss: 0.0399 - accuracy: 0.9901\n",
      "Epoch 299/300\n",
      "469/469 [==============================] - 1s 2ms/step - loss: 0.0398 - accuracy: 0.9900\n",
      "Epoch 300/300\n",
      "469/469 [==============================] - 1s 2ms/step - loss: 0.0396 - accuracy: 0.9903\n"
     ]
    },
    {
     "data": {
      "text/plain": [
       "<keras.callbacks.History at 0x2c092f142e0>"
      ]
     },
     "execution_count": 603,
     "metadata": {},
     "output_type": "execute_result"
    }
   ],
   "source": [
    "model_wihtout_hm = get_model()\n",
    "model_wihtout_hm.fit(X_train_normalized, y_train, epochs = 300, verbose=1, batch_size=128) "
   ]
  },
  {
   "cell_type": "markdown",
   "metadata": {},
   "source": [
    "###### Testing the model"
   ]
  },
  {
   "cell_type": "code",
   "execution_count": 605,
   "metadata": {},
   "outputs": [
    {
     "name": "stdout",
     "output_type": "stream",
     "text": [
      "313/313 [==============================] - 1s 1ms/step - loss: 0.0842 - accuracy: 0.9750\n"
     ]
    },
    {
     "data": {
      "text/plain": [
       "[0.0841875821352005, 0.9750000238418579]"
      ]
     },
     "execution_count": 605,
     "metadata": {},
     "output_type": "execute_result"
    }
   ],
   "source": [
    "model_wihtout_hm.evaluate(X_test_normalized, y_test)"
   ]
  },
  {
   "cell_type": "code",
   "execution_count": 606,
   "metadata": {},
   "outputs": [
    {
     "name": "stdout",
     "output_type": "stream",
     "text": [
      "313/313 [==============================] - 0s 983us/step - loss: 0.0816 - accuracy: 0.9754\n"
     ]
    },
    {
     "data": {
      "text/plain": [
       "[0.0816257894039154, 0.9753999710083008]"
      ]
     },
     "execution_count": 606,
     "metadata": {},
     "output_type": "execute_result"
    }
   ],
   "source": [
    "model_hm.evaluate(X_test_normalized, y_test)"
   ]
  },
  {
   "cell_type": "markdown",
   "metadata": {},
   "source": [
    "Let us predict for the first image in the testing set"
   ]
  },
  {
   "cell_type": "code",
   "execution_count": 607,
   "metadata": {},
   "outputs": [
    {
     "name": "stdout",
     "output_type": "stream",
     "text": [
      "313/313 [==============================] - 0s 902us/step\n"
     ]
    },
    {
     "data": {
      "text/plain": [
       "array([[2.5752100e-01, 8.7638944e-02, 9.1932184e-01, ..., 9.9999988e-01,\n",
       "        9.7508371e-01, 9.9600530e-01],\n",
       "       [9.3946820e-01, 9.9903935e-01, 9.9999982e-01, ..., 3.1687628e-07,\n",
       "        9.9383855e-01, 7.5268814e-05],\n",
       "       [5.8856107e-02, 9.9974740e-01, 4.8162958e-01, ..., 6.4746690e-01,\n",
       "        9.1900593e-01, 8.7856911e-02],\n",
       "       ...,\n",
       "       [9.1111928e-02, 3.4603960e-04, 6.2518883e-03, ..., 9.7027290e-01,\n",
       "        9.9050385e-01, 9.9879086e-01],\n",
       "       [2.7950111e-01, 7.3659234e-03, 5.8780116e-04, ..., 1.3471374e-02,\n",
       "        9.9686825e-01, 8.1832679e-03],\n",
       "       [4.8747963e-01, 2.1828068e-03, 9.6400297e-01, ..., 7.0892975e-07,\n",
       "        1.5583545e-01, 6.1287362e-02]], dtype=float32)"
      ]
     },
     "execution_count": 607,
     "metadata": {},
     "output_type": "execute_result"
    }
   ],
   "source": [
    "model_hm.predict(X_test_normalized)"
   ]
  },
  {
   "cell_type": "code",
   "execution_count": 608,
   "metadata": {},
   "outputs": [
    {
     "data": {
      "text/plain": [
       "<matplotlib.image.AxesImage at 0x2c0941c10d0>"
      ]
     },
     "execution_count": 608,
     "metadata": {},
     "output_type": "execute_result"
    },
    {
     "data": {
      "image/png": "[encoded data removed]",
      "text/plain": [
       "<Figure size 288x288 with 1 Axes>"
      ]
     },
     "metadata": {
      "needs_background": "light"
     },
     "output_type": "display_data"
    }
   ],
   "source": [
    "plt.matshow(X_test[0])"
   ]
  },
  {
   "cell_type": "code",
   "execution_count": 609,
   "metadata": {},
   "outputs": [
    {
     "name": "stdout",
     "output_type": "stream",
     "text": [
      "313/313 [==============================] - 0s 884us/step\n"
     ]
    }
   ],
   "source": [
    "y_predicted = model_hm.predict(X_test_normalized)"
   ]
  },
  {
   "cell_type": "code",
   "execution_count": 63,
   "metadata": {},
   "outputs": [
    {
     "data": {
      "text/plain": [
       "array([1.0004911e-01, 1.8262267e-03, 1.9984832e-01, 9.9306405e-01,\n",
       "       7.8678140e-06, 5.6786299e-02, 1.8056544e-06, 9.9999869e-01,\n",
       "       4.3653762e-01, 4.6398658e-01], dtype=float32)"
      ]
     },
     "execution_count": 63,
     "metadata": {},
     "output_type": "execute_result"
    }
   ],
   "source": [
    "y_predicted[0]\n",
    "# Displays the probability score for each class label. "
   ]
  },
  {
   "cell_type": "code",
   "execution_count": 64,
   "metadata": {},
   "outputs": [
    {
     "data": {
      "text/plain": [
       "7"
      ]
     },
     "execution_count": 64,
     "metadata": {},
     "output_type": "execute_result"
    }
   ],
   "source": [
    "np.argmax(y_predicted[0])"
   ]
  },
  {
   "cell_type": "markdown",
   "metadata": {},
   "source": [
    "###### Confusion matrix"
   ]
  },
  {
   "cell_type": "markdown",
   "metadata": {},
   "source": [
    "Convert the predicted probabilities into actual class labels to contruct confusion matrix"
   ]
  },
  {
   "cell_type": "code",
   "execution_count": 65,
   "metadata": {},
   "outputs": [
    {
     "data": {
      "text/plain": [
       "array([[1.0004911e-01, 1.8262267e-03, 1.9984832e-01, 9.9306405e-01,\n",
       "        7.8678140e-06, 5.6786299e-02, 1.8056544e-06, 9.9999869e-01,\n",
       "        4.3653762e-01, 4.6398658e-01],\n",
       "       [3.5234094e-03, 8.6605072e-01, 9.9999726e-01, 9.9342388e-01,\n",
       "        1.2409489e-10, 4.8146451e-01, 3.8505495e-03, 1.8282478e-06,\n",
       "        8.6112589e-01, 1.4091442e-07],\n",
       "       [4.1994452e-04, 9.9706542e-01, 2.2127745e-01, 4.4714242e-02,\n",
       "        1.7070711e-02, 3.4771860e-03, 8.4775090e-03, 2.3177141e-01,\n",
       "        1.7130309e-01, 2.7160048e-03],\n",
       "       [9.9997437e-01, 5.7680850e-06, 9.1143566e-01, 7.5162351e-03,\n",
       "        1.1362774e-05, 4.0780783e-02, 6.9209534e-01, 7.9200798e-01,\n",
       "        1.5428960e-02, 1.0488731e-01],\n",
       "       [4.1146874e-03, 2.7437938e-05, 1.9890279e-02, 2.3822784e-03,\n",
       "        9.9962533e-01, 4.3750554e-02, 1.1046550e-01, 7.4856889e-01,\n",
       "        4.1398376e-02, 9.7764587e-01]], dtype=float32)"
      ]
     },
     "execution_count": 65,
     "metadata": {},
     "output_type": "execute_result"
    }
   ],
   "source": [
    "y_predicted[:5]"
   ]
  },
  {
   "cell_type": "code",
   "execution_count": 66,
   "metadata": {},
   "outputs": [
    {
     "data": {
      "text/plain": [
       "[7, 2, 1, 0, 4]"
      ]
     },
     "execution_count": 66,
     "metadata": {},
     "output_type": "execute_result"
    }
   ],
   "source": [
    "y_predicted_labels = [np.argmax(i) for i in y_predicted]\n",
    "y_predicted_labels[:5]"
   ]
  },
  {
   "cell_type": "code",
   "execution_count": 67,
   "metadata": {},
   "outputs": [
    {
     "data": {
      "text/plain": [
       "<tf.Tensor: shape=(10, 10), dtype=int32, numpy=\n",
       "array([[ 966,    0,    2,    1,    1,    2,    3,    1,    3,    1],\n",
       "       [   0, 1123,    2,    1,    0,    1,    3,    0,    5,    0],\n",
       "       [   2,    4,  996,    3,    2,    0,    2,   14,    9,    0],\n",
       "       [   0,    1,    3,  989,    0,    1,    0,    5,    9,    2],\n",
       "       [   1,    0,    3,    1,  953,    1,    7,    3,    2,   11],\n",
       "       [   4,    0,    0,   13,    1,  848,    5,    3,   13,    5],\n",
       "       [   7,    2,    4,    1,    4,    5,  927,    3,    5,    0],\n",
       "       [   0,    5,    7,    3,    1,    0,    0, 1005,    2,    5],\n",
       "       [   4,    1,    1,    5,    3,    4,    1,    6,  948,    1],\n",
       "       [   2,    4,    0,    6,   10,    7,    0,   15,    7,  958]])>"
      ]
     },
     "execution_count": 67,
     "metadata": {},
     "output_type": "execute_result"
    }
   ],
   "source": [
    "cm = tf.math.confusion_matrix(labels = y_test, predictions = y_predicted_labels)\n",
    "cm"
   ]
  },
  {
   "cell_type": "markdown",
   "metadata": {},
   "source": [
    "Plot this matrix"
   ]
  },
  {
   "cell_type": "code",
   "execution_count": 68,
   "metadata": {},
   "outputs": [
    {
     "data": {
      "text/plain": [
       "Text(69.0, 0.5, 'Truth')"
      ]
     },
     "execution_count": 68,
     "metadata": {},
     "output_type": "execute_result"
    },
    {
     "data": {
      "image/png": "[encoded data removed]",
      "text/plain": [
       "<Figure size 720x504 with 2 Axes>"
      ]
     },
     "metadata": {
      "needs_background": "light"
     },
     "output_type": "display_data"
    }
   ],
   "source": [
    "import seaborn as sn\n",
    "plt.figure(figsize = (10,7))\n",
    "sn.heatmap(cm, annot=True, fmt = 'd')\n",
    "plt.xlabel('Predicted')\n",
    "plt.ylabel('Truth')"
   ]
  }
 ],
 "metadata": {
  "kernelspec": {
   "display_name": "Python 3 (ipykernel)",
   "language": "python",
   "name": "python3"
  },
  "language_info": {
   "codemirror_mode": {
    "name": "ipython",
    "version": 3
   },
   "file_extension": ".py",
   "mimetype": "text/x-python",
   "name": "python",
   "nbconvert_exporter": "python",
   "pygments_lexer": "ipython3",
   "version": "3.9.13"
  }
 },
 "nbformat": 4,
 "nbformat_minor": 4
}
