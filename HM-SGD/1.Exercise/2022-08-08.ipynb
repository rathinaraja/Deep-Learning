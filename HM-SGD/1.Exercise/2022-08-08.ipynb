{
 "cells": [
  {
   "cell_type": "markdown",
   "metadata": {},
   "source": [
    "<h2 style=\"color:blue\" align=\"center\">Handwritten digits classification using neural network</h2>"
   ]
  },
  {
   "cell_type": "markdown",
   "metadata": {},
   "source": [
    "<img src=\"Figures/MNIST-Handwritten digits.png\" height=450 width=450/>"
   ]
  },
  {
   "cell_type": "markdown",
   "metadata": {},
   "source": [
    "#### TensorFlow Installation"
   ]
  },
  {
   "cell_type": "code",
   "execution_count": 1,
   "metadata": {},
   "outputs": [],
   "source": [
    "#!pip install tensorflow"
   ]
  },
  {
   "cell_type": "code",
   "execution_count": 2,
   "metadata": {},
   "outputs": [],
   "source": [
    "import tensorflow as tf"
   ]
  },
  {
   "cell_type": "code",
   "execution_count": 3,
   "metadata": {},
   "outputs": [
    {
     "name": "stdout",
     "output_type": "stream",
     "text": [
      "2.9.1\n"
     ]
    }
   ],
   "source": [
    "print(tf.version.VERSION)"
   ]
  },
  {
   "cell_type": "markdown",
   "metadata": {},
   "source": [
    "#### Import the necessary libraries"
   ]
  },
  {
   "cell_type": "code",
   "execution_count": 74,
   "metadata": {},
   "outputs": [],
   "source": [
    "import tensorflow as tf \n",
    "import matplotlib.pyplot as plt\n",
    "%matplotlib inline\n",
    "import numpy as np\n",
    "import time\n",
    "\n",
    "from tensorflow import keras\n",
    "from keras.datasets import mnist\n",
    "from keras.models import Sequential\n",
    "from keras.layers import Dense, Dropout, Flatten\n",
    "from keras import backend as K\n",
    "from keras.callbacks import ModelCheckpoint"
   ]
  },
  {
   "cell_type": "code",
   "execution_count": 75,
   "metadata": {},
   "outputs": [
    {
     "data": {
      "text/plain": [
       "'tensorflow'"
      ]
     },
     "execution_count": 75,
     "metadata": {},
     "output_type": "execute_result"
    }
   ],
   "source": [
    "K.backend()"
   ]
  },
  {
   "cell_type": "markdown",
   "metadata": {},
   "source": [
    "#### Load and split MNIST for training and testing"
   ]
  },
  {
   "cell_type": "code",
   "execution_count": 6,
   "metadata": {},
   "outputs": [],
   "source": [
    "(X_train,y_train),(X_test,y_test) = mnist.load_data()"
   ]
  },
  {
   "cell_type": "markdown",
   "metadata": {},
   "source": [
    "#### Explore the dataset"
   ]
  },
  {
   "cell_type": "markdown",
   "metadata": {},
   "source": [
    "Keras Handwritten digit MNIST dataset"
   ]
  },
  {
   "cell_type": "markdown",
   "metadata": {},
   "source": [
    "<img src=\"Figures/dataset.png\" height=450 width=450 />"
   ]
  },
  {
   "cell_type": "code",
   "execution_count": 7,
   "metadata": {},
   "outputs": [
    {
     "data": {
      "text/plain": [
       "60000"
      ]
     },
     "execution_count": 7,
     "metadata": {},
     "output_type": "execute_result"
    }
   ],
   "source": [
    "len(X_train)"
   ]
  },
  {
   "cell_type": "code",
   "execution_count": 8,
   "metadata": {},
   "outputs": [
    {
     "data": {
      "text/plain": [
       "10000"
      ]
     },
     "execution_count": 8,
     "metadata": {},
     "output_type": "execute_result"
    }
   ],
   "source": [
    "len(X_test)"
   ]
  },
  {
   "cell_type": "code",
   "execution_count": 9,
   "metadata": {},
   "outputs": [
    {
     "data": {
      "text/plain": [
       "(28, 28)"
      ]
     },
     "execution_count": 9,
     "metadata": {},
     "output_type": "execute_result"
    }
   ],
   "source": [
    "X_train[0].shape"
   ]
  },
  {
   "cell_type": "markdown",
   "metadata": {},
   "source": [
    "It would be something like this"
   ]
  },
  {
   "cell_type": "markdown",
   "metadata": {},
   "source": [
    "<img src='Figures/pixel.png' />"
   ]
  },
  {
   "cell_type": "code",
   "execution_count": 10,
   "metadata": {
    "scrolled": true
   },
   "outputs": [
    {
     "data": {
      "text/plain": [
       "array([[  0,   0,   0,   0,   0,   0,   0,   0,   0,   0,   0,   0,   0,\n",
       "          0,   0,   0,   0,   0,   0,   0,   0,   0,   0,   0,   0,   0,\n",
       "          0,   0],\n",
       "       [  0,   0,   0,   0,   0,   0,   0,   0,   0,   0,   0,   0,   0,\n",
       "          0,   0,   0,   0,   0,   0,   0,   0,   0,   0,   0,   0,   0,\n",
       "          0,   0],\n",
       "       [  0,   0,   0,   0,   0,   0,   0,   0,   0,   0,   0,   0,   0,\n",
       "          0,   0,   0,   0,   0,   0,   0,   0,   0,   0,   0,   0,   0,\n",
       "          0,   0],\n",
       "       [  0,   0,   0,   0,   0,   0,   0,   0,   0,   0,   0,   0,   0,\n",
       "          0,   0,   0,   0,   0,   0,   0,   0,   0,   0,   0,   0,   0,\n",
       "          0,   0],\n",
       "       [  0,   0,   0,   0,   0,   0,   0,   0,   0,   0,   0,   0,   0,\n",
       "          0,   0,   0,   0,   0,   0,   0,   0,   0,   0,   0,   0,   0,\n",
       "          0,   0],\n",
       "       [  0,   0,   0,   0,   0,   0,   0,   0,   0,   0,   0,   0,   3,\n",
       "         18,  18,  18, 126, 136, 175,  26, 166, 255, 247, 127,   0,   0,\n",
       "          0,   0],\n",
       "       [  0,   0,   0,   0,   0,   0,   0,   0,  30,  36,  94, 154, 170,\n",
       "        253, 253, 253, 253, 253, 225, 172, 253, 242, 195,  64,   0,   0,\n",
       "          0,   0],\n",
       "       [  0,   0,   0,   0,   0,   0,   0,  49, 238, 253, 253, 253, 253,\n",
       "        253, 253, 253, 253, 251,  93,  82,  82,  56,  39,   0,   0,   0,\n",
       "          0,   0],\n",
       "       [  0,   0,   0,   0,   0,   0,   0,  18, 219, 253, 253, 253, 253,\n",
       "        253, 198, 182, 247, 241,   0,   0,   0,   0,   0,   0,   0,   0,\n",
       "          0,   0],\n",
       "       [  0,   0,   0,   0,   0,   0,   0,   0,  80, 156, 107, 253, 253,\n",
       "        205,  11,   0,  43, 154,   0,   0,   0,   0,   0,   0,   0,   0,\n",
       "          0,   0],\n",
       "       [  0,   0,   0,   0,   0,   0,   0,   0,   0,  14,   1, 154, 253,\n",
       "         90,   0,   0,   0,   0,   0,   0,   0,   0,   0,   0,   0,   0,\n",
       "          0,   0],\n",
       "       [  0,   0,   0,   0,   0,   0,   0,   0,   0,   0,   0, 139, 253,\n",
       "        190,   2,   0,   0,   0,   0,   0,   0,   0,   0,   0,   0,   0,\n",
       "          0,   0],\n",
       "       [  0,   0,   0,   0,   0,   0,   0,   0,   0,   0,   0,  11, 190,\n",
       "        253,  70,   0,   0,   0,   0,   0,   0,   0,   0,   0,   0,   0,\n",
       "          0,   0],\n",
       "       [  0,   0,   0,   0,   0,   0,   0,   0,   0,   0,   0,   0,  35,\n",
       "        241, 225, 160, 108,   1,   0,   0,   0,   0,   0,   0,   0,   0,\n",
       "          0,   0],\n",
       "       [  0,   0,   0,   0,   0,   0,   0,   0,   0,   0,   0,   0,   0,\n",
       "         81, 240, 253, 253, 119,  25,   0,   0,   0,   0,   0,   0,   0,\n",
       "          0,   0],\n",
       "       [  0,   0,   0,   0,   0,   0,   0,   0,   0,   0,   0,   0,   0,\n",
       "          0,  45, 186, 253, 253, 150,  27,   0,   0,   0,   0,   0,   0,\n",
       "          0,   0],\n",
       "       [  0,   0,   0,   0,   0,   0,   0,   0,   0,   0,   0,   0,   0,\n",
       "          0,   0,  16,  93, 252, 253, 187,   0,   0,   0,   0,   0,   0,\n",
       "          0,   0],\n",
       "       [  0,   0,   0,   0,   0,   0,   0,   0,   0,   0,   0,   0,   0,\n",
       "          0,   0,   0,   0, 249, 253, 249,  64,   0,   0,   0,   0,   0,\n",
       "          0,   0],\n",
       "       [  0,   0,   0,   0,   0,   0,   0,   0,   0,   0,   0,   0,   0,\n",
       "          0,  46, 130, 183, 253, 253, 207,   2,   0,   0,   0,   0,   0,\n",
       "          0,   0],\n",
       "       [  0,   0,   0,   0,   0,   0,   0,   0,   0,   0,   0,   0,  39,\n",
       "        148, 229, 253, 253, 253, 250, 182,   0,   0,   0,   0,   0,   0,\n",
       "          0,   0],\n",
       "       [  0,   0,   0,   0,   0,   0,   0,   0,   0,   0,  24, 114, 221,\n",
       "        253, 253, 253, 253, 201,  78,   0,   0,   0,   0,   0,   0,   0,\n",
       "          0,   0],\n",
       "       [  0,   0,   0,   0,   0,   0,   0,   0,  23,  66, 213, 253, 253,\n",
       "        253, 253, 198,  81,   2,   0,   0,   0,   0,   0,   0,   0,   0,\n",
       "          0,   0],\n",
       "       [  0,   0,   0,   0,   0,   0,  18, 171, 219, 253, 253, 253, 253,\n",
       "        195,  80,   9,   0,   0,   0,   0,   0,   0,   0,   0,   0,   0,\n",
       "          0,   0],\n",
       "       [  0,   0,   0,   0,  55, 172, 226, 253, 253, 253, 253, 244, 133,\n",
       "         11,   0,   0,   0,   0,   0,   0,   0,   0,   0,   0,   0,   0,\n",
       "          0,   0],\n",
       "       [  0,   0,   0,   0, 136, 253, 253, 253, 212, 135, 132,  16,   0,\n",
       "          0,   0,   0,   0,   0,   0,   0,   0,   0,   0,   0,   0,   0,\n",
       "          0,   0],\n",
       "       [  0,   0,   0,   0,   0,   0,   0,   0,   0,   0,   0,   0,   0,\n",
       "          0,   0,   0,   0,   0,   0,   0,   0,   0,   0,   0,   0,   0,\n",
       "          0,   0],\n",
       "       [  0,   0,   0,   0,   0,   0,   0,   0,   0,   0,   0,   0,   0,\n",
       "          0,   0,   0,   0,   0,   0,   0,   0,   0,   0,   0,   0,   0,\n",
       "          0,   0],\n",
       "       [  0,   0,   0,   0,   0,   0,   0,   0,   0,   0,   0,   0,   0,\n",
       "          0,   0,   0,   0,   0,   0,   0,   0,   0,   0,   0,   0,   0,\n",
       "          0,   0]], dtype=uint8)"
      ]
     },
     "execution_count": 10,
     "metadata": {},
     "output_type": "execute_result"
    }
   ],
   "source": [
    "X_train[0]\n",
    "# Displays 28 x 28 pixels in 2D array"
   ]
  },
  {
   "cell_type": "code",
   "execution_count": 11,
   "metadata": {},
   "outputs": [
    {
     "data": {
      "text/plain": [
       "<matplotlib.image.AxesImage at 0x2106d7efaf0>"
      ]
     },
     "execution_count": 11,
     "metadata": {},
     "output_type": "execute_result"
    },
    {
     "data": {
      "image/png": "[encoded data removed]",
      "text/plain": [
       "<Figure size 288x288 with 1 Axes>"
      ]
     },
     "metadata": {
      "needs_background": "light"
     },
     "output_type": "display_data"
    }
   ],
   "source": [
    "plt.matshow(X_train[0])"
   ]
  },
  {
   "cell_type": "code",
   "execution_count": 12,
   "metadata": {},
   "outputs": [
    {
     "data": {
      "text/plain": [
       "5"
      ]
     },
     "execution_count": 12,
     "metadata": {},
     "output_type": "execute_result"
    }
   ],
   "source": [
    "y_train[0]\n",
    "# Label for the above input image"
   ]
  },
  {
   "cell_type": "code",
   "execution_count": 13,
   "metadata": {},
   "outputs": [
    {
     "data": {
      "text/plain": [
       "<matplotlib.image.AxesImage at 0x2106f8d0130>"
      ]
     },
     "execution_count": 13,
     "metadata": {},
     "output_type": "execute_result"
    },
    {
     "data": {
      "image/png": "[encoded data removed]",
      "text/plain": [
       "<Figure size 288x288 with 1 Axes>"
      ]
     },
     "metadata": {
      "needs_background": "light"
     },
     "output_type": "display_data"
    }
   ],
   "source": [
    "plt.matshow(X_train[1])"
   ]
  },
  {
   "cell_type": "code",
   "execution_count": 14,
   "metadata": {},
   "outputs": [
    {
     "data": {
      "text/plain": [
       "0"
      ]
     },
     "execution_count": 14,
     "metadata": {},
     "output_type": "execute_result"
    }
   ],
   "source": [
    "y_train[1]"
   ]
  },
  {
   "cell_type": "code",
   "execution_count": 15,
   "metadata": {},
   "outputs": [
    {
     "data": {
      "text/plain": [
       "array([5, 0, 4, 1, 9, 2, 1, 3, 1, 4], dtype=uint8)"
      ]
     },
     "execution_count": 15,
     "metadata": {},
     "output_type": "execute_result"
    }
   ],
   "source": [
    "y_train[0:10]"
   ]
  },
  {
   "cell_type": "markdown",
   "metadata": {},
   "source": [
    "#### Flattening"
   ]
  },
  {
   "cell_type": "code",
   "execution_count": 16,
   "metadata": {},
   "outputs": [
    {
     "data": {
      "text/plain": [
       "(60000, 28, 28)"
      ]
     },
     "execution_count": 16,
     "metadata": {},
     "output_type": "execute_result"
    }
   ],
   "source": [
    "X_train.shape"
   ]
  },
  {
   "cell_type": "code",
   "execution_count": 17,
   "metadata": {},
   "outputs": [
    {
     "data": {
      "text/plain": [
       "28"
      ]
     },
     "execution_count": 17,
     "metadata": {},
     "output_type": "execute_result"
    }
   ],
   "source": [
    "X_train.shape[1]"
   ]
  },
  {
   "cell_type": "markdown",
   "metadata": {},
   "source": [
    "You must convert this into 6000, 784"
   ]
  },
  {
   "cell_type": "code",
   "execution_count": 18,
   "metadata": {},
   "outputs": [
    {
     "data": {
      "text/plain": [
       "array([[0, 0, 0, ..., 0, 0, 0],\n",
       "       [0, 0, 0, ..., 0, 0, 0],\n",
       "       [0, 0, 0, ..., 0, 0, 0],\n",
       "       ...,\n",
       "       [0, 0, 0, ..., 0, 0, 0],\n",
       "       [0, 0, 0, ..., 0, 0, 0],\n",
       "       [0, 0, 0, ..., 0, 0, 0]], dtype=uint8)"
      ]
     },
     "execution_count": 18,
     "metadata": {},
     "output_type": "execute_result"
    }
   ],
   "source": [
    "X_train_flattened = X_train.reshape(len(X_train), 28 * 28)\n",
    "X_train_flattened"
   ]
  },
  {
   "cell_type": "code",
   "execution_count": 19,
   "metadata": {},
   "outputs": [
    {
     "data": {
      "text/plain": [
       "(60000, 784)"
      ]
     },
     "execution_count": 19,
     "metadata": {},
     "output_type": "execute_result"
    }
   ],
   "source": [
    "X_train_flattened.shape"
   ]
  },
  {
   "cell_type": "code",
   "execution_count": 20,
   "metadata": {
    "scrolled": true
   },
   "outputs": [
    {
     "data": {
      "text/plain": [
       "array([  0,   0,   0,   0,   0,   0,   0,   0,   0,   0,   0,   0,   0,\n",
       "         0,   0,   0,   0,   0,   0,   0,   0,   0,   0,   0,   0,   0,\n",
       "         0,   0,   0,   0,   0,   0,   0,   0,   0,   0,   0,   0,   0,\n",
       "         0,   0,   0,   0,   0,   0,   0,   0,   0,   0,   0,   0,   0,\n",
       "         0,   0,   0,   0,   0,   0,   0,   0,   0,   0,   0,   0,   0,\n",
       "         0,   0,   0,   0,   0,   0,   0,   0,   0,   0,   0,   0,   0,\n",
       "         0,   0,   0,   0,   0,   0,   0,   0,   0,   0,   0,   0,   0,\n",
       "         0,   0,   0,   0,   0,   0,   0,   0,   0,   0,   0,   0,   0,\n",
       "         0,   0,   0,   0,   0,   0,   0,   0,   0,   0,   0,   0,   0,\n",
       "         0,   0,   0,   0,   0,   0,   0,   0,   0,   0,   0,   0,   0,\n",
       "         0,   0,   0,   0,   0,   0,   0,   0,   0,   0,   0,   0,   0,\n",
       "         0,   0,   0,   0,   0,   0,   0,   0,   0,   3,  18,  18,  18,\n",
       "       126, 136, 175,  26, 166, 255, 247, 127,   0,   0,   0,   0,   0,\n",
       "         0,   0,   0,   0,   0,   0,   0,  30,  36,  94, 154, 170, 253,\n",
       "       253, 253, 253, 253, 225, 172, 253, 242, 195,  64,   0,   0,   0,\n",
       "         0,   0,   0,   0,   0,   0,   0,   0,  49, 238, 253, 253, 253,\n",
       "       253, 253, 253, 253, 253, 251,  93,  82,  82,  56,  39,   0,   0,\n",
       "         0,   0,   0,   0,   0,   0,   0,   0,   0,   0,  18, 219, 253,\n",
       "       253, 253, 253, 253, 198, 182, 247, 241,   0,   0,   0,   0,   0,\n",
       "         0,   0,   0,   0,   0,   0,   0,   0,   0,   0,   0,   0,   0,\n",
       "        80, 156, 107, 253, 253, 205,  11,   0,  43, 154,   0,   0,   0,\n",
       "         0,   0,   0,   0,   0,   0,   0,   0,   0,   0,   0,   0,   0,\n",
       "         0,   0,   0,  14,   1, 154, 253,  90,   0,   0,   0,   0,   0,\n",
       "         0,   0,   0,   0,   0,   0,   0,   0,   0,   0,   0,   0,   0,\n",
       "         0,   0,   0,   0,   0,   0,   0, 139, 253, 190,   2,   0,   0,\n",
       "         0,   0,   0,   0,   0,   0,   0,   0,   0,   0,   0,   0,   0,\n",
       "         0,   0,   0,   0,   0,   0,   0,   0,   0,  11, 190, 253,  70,\n",
       "         0,   0,   0,   0,   0,   0,   0,   0,   0,   0,   0,   0,   0,\n",
       "         0,   0,   0,   0,   0,   0,   0,   0,   0,   0,   0,   0,  35,\n",
       "       241, 225, 160, 108,   1,   0,   0,   0,   0,   0,   0,   0,   0,\n",
       "         0,   0,   0,   0,   0,   0,   0,   0,   0,   0,   0,   0,   0,\n",
       "         0,   0,  81, 240, 253, 253, 119,  25,   0,   0,   0,   0,   0,\n",
       "         0,   0,   0,   0,   0,   0,   0,   0,   0,   0,   0,   0,   0,\n",
       "         0,   0,   0,   0,   0,  45, 186, 253, 253, 150,  27,   0,   0,\n",
       "         0,   0,   0,   0,   0,   0,   0,   0,   0,   0,   0,   0,   0,\n",
       "         0,   0,   0,   0,   0,   0,   0,   0,  16,  93, 252, 253, 187,\n",
       "         0,   0,   0,   0,   0,   0,   0,   0,   0,   0,   0,   0,   0,\n",
       "         0,   0,   0,   0,   0,   0,   0,   0,   0,   0,   0,   0, 249,\n",
       "       253, 249,  64,   0,   0,   0,   0,   0,   0,   0,   0,   0,   0,\n",
       "         0,   0,   0,   0,   0,   0,   0,   0,   0,   0,   0,  46, 130,\n",
       "       183, 253, 253, 207,   2,   0,   0,   0,   0,   0,   0,   0,   0,\n",
       "         0,   0,   0,   0,   0,   0,   0,   0,   0,   0,   0,  39, 148,\n",
       "       229, 253, 253, 253, 250, 182,   0,   0,   0,   0,   0,   0,   0,\n",
       "         0,   0,   0,   0,   0,   0,   0,   0,   0,   0,   0,  24, 114,\n",
       "       221, 253, 253, 253, 253, 201,  78,   0,   0,   0,   0,   0,   0,\n",
       "         0,   0,   0,   0,   0,   0,   0,   0,   0,   0,   0,  23,  66,\n",
       "       213, 253, 253, 253, 253, 198,  81,   2,   0,   0,   0,   0,   0,\n",
       "         0,   0,   0,   0,   0,   0,   0,   0,   0,   0,   0,  18, 171,\n",
       "       219, 253, 253, 253, 253, 195,  80,   9,   0,   0,   0,   0,   0,\n",
       "         0,   0,   0,   0,   0,   0,   0,   0,   0,   0,   0,  55, 172,\n",
       "       226, 253, 253, 253, 253, 244, 133,  11,   0,   0,   0,   0,   0,\n",
       "         0,   0,   0,   0,   0,   0,   0,   0,   0,   0,   0,   0,   0,\n",
       "       136, 253, 253, 253, 212, 135, 132,  16,   0,   0,   0,   0,   0,\n",
       "         0,   0,   0,   0,   0,   0,   0,   0,   0,   0,   0,   0,   0,\n",
       "         0,   0,   0,   0,   0,   0,   0,   0,   0,   0,   0,   0,   0,\n",
       "         0,   0,   0,   0,   0,   0,   0,   0,   0,   0,   0,   0,   0,\n",
       "         0,   0,   0,   0,   0,   0,   0,   0,   0,   0,   0,   0,   0,\n",
       "         0,   0,   0,   0,   0,   0,   0,   0,   0,   0,   0,   0,   0,\n",
       "         0,   0,   0,   0,   0,   0,   0,   0,   0,   0,   0,   0,   0,\n",
       "         0,   0,   0,   0,   0,   0,   0,   0,   0,   0,   0,   0,   0,\n",
       "         0,   0,   0,   0], dtype=uint8)"
      ]
     },
     "execution_count": 20,
     "metadata": {},
     "output_type": "execute_result"
    }
   ],
   "source": [
    "X_train_flattened[0]"
   ]
  },
  {
   "cell_type": "code",
   "execution_count": 21,
   "metadata": {},
   "outputs": [
    {
     "data": {
      "text/plain": [
       "array([[0, 0, 0, ..., 0, 0, 0],\n",
       "       [0, 0, 0, ..., 0, 0, 0],\n",
       "       [0, 0, 0, ..., 0, 0, 0],\n",
       "       ...,\n",
       "       [0, 0, 0, ..., 0, 0, 0],\n",
       "       [0, 0, 0, ..., 0, 0, 0],\n",
       "       [0, 0, 0, ..., 0, 0, 0]], dtype=uint8)"
      ]
     },
     "execution_count": 21,
     "metadata": {},
     "output_type": "execute_result"
    }
   ],
   "source": [
    "X_test_flattened = X_test.reshape(len(X_test),  28 * 28)\n",
    "X_test_flattened"
   ]
  },
  {
   "cell_type": "markdown",
   "metadata": {},
   "source": [
    "#### Normalize the input dataset"
   ]
  },
  {
   "cell_type": "code",
   "execution_count": 22,
   "metadata": {},
   "outputs": [],
   "source": [
    "X_train_normalized = X_train_flattened / 255"
   ]
  },
  {
   "cell_type": "code",
   "execution_count": 26,
   "metadata": {
    "scrolled": true
   },
   "outputs": [
    {
     "data": {
      "text/plain": [
       "array([0.        , 0.        , 0.        , 0.        , 0.        ,\n",
       "       0.        , 0.        , 0.        , 0.        , 0.        ,\n",
       "       0.        , 0.        , 0.        , 0.        , 0.        ,\n",
       "       0.        , 0.        , 0.        , 0.        , 0.        ,\n",
       "       0.        , 0.        , 0.        , 0.        , 0.        ,\n",
       "       0.        , 0.        , 0.        , 0.        , 0.        ,\n",
       "       0.        , 0.        , 0.        , 0.        , 0.        ,\n",
       "       0.        , 0.        , 0.        , 0.        , 0.        ,\n",
       "       0.        , 0.        , 0.        , 0.        , 0.        ,\n",
       "       0.        , 0.        , 0.        , 0.        , 0.        ,\n",
       "       0.        , 0.        , 0.        , 0.        , 0.        ,\n",
       "       0.        , 0.        , 0.        , 0.        , 0.        ,\n",
       "       0.        , 0.        , 0.        , 0.        , 0.        ,\n",
       "       0.        , 0.        , 0.        , 0.        , 0.        ,\n",
       "       0.        , 0.        , 0.        , 0.        , 0.        ,\n",
       "       0.        , 0.        , 0.        , 0.        , 0.        ,\n",
       "       0.        , 0.        , 0.        , 0.        , 0.        ,\n",
       "       0.        , 0.        , 0.        , 0.        , 0.        ,\n",
       "       0.        , 0.        , 0.        , 0.        , 0.        ,\n",
       "       0.        , 0.        , 0.        , 0.        , 0.        ,\n",
       "       0.        , 0.        , 0.        , 0.        , 0.        ,\n",
       "       0.        , 0.        , 0.        , 0.        , 0.        ,\n",
       "       0.        , 0.        , 0.        , 0.        , 0.        ,\n",
       "       0.        , 0.        , 0.        , 0.        , 0.        ,\n",
       "       0.        , 0.        , 0.        , 0.        , 0.        ,\n",
       "       0.        , 0.        , 0.        , 0.        , 0.        ,\n",
       "       0.        , 0.        , 0.        , 0.        , 0.        ,\n",
       "       0.        , 0.        , 0.        , 0.        , 0.        ,\n",
       "       0.        , 0.        , 0.        , 0.        , 0.        ,\n",
       "       0.        , 0.        , 0.        , 0.        , 0.        ,\n",
       "       0.        , 0.        , 0.01176471, 0.07058824, 0.07058824,\n",
       "       0.07058824, 0.49411765, 0.53333333, 0.68627451, 0.10196078,\n",
       "       0.65098039, 1.        , 0.96862745, 0.49803922, 0.        ,\n",
       "       0.        , 0.        , 0.        , 0.        , 0.        ,\n",
       "       0.        , 0.        , 0.        , 0.        , 0.        ,\n",
       "       0.        , 0.11764706, 0.14117647, 0.36862745, 0.60392157,\n",
       "       0.66666667, 0.99215686, 0.99215686, 0.99215686, 0.99215686,\n",
       "       0.99215686, 0.88235294, 0.6745098 , 0.99215686, 0.94901961,\n",
       "       0.76470588, 0.25098039, 0.        , 0.        , 0.        ,\n",
       "       0.        , 0.        , 0.        , 0.        , 0.        ,\n",
       "       0.        , 0.        , 0.        , 0.19215686, 0.93333333,\n",
       "       0.99215686, 0.99215686, 0.99215686, 0.99215686, 0.99215686,\n",
       "       0.99215686, 0.99215686, 0.99215686, 0.98431373, 0.36470588,\n",
       "       0.32156863, 0.32156863, 0.21960784, 0.15294118, 0.        ,\n",
       "       0.        , 0.        , 0.        , 0.        , 0.        ,\n",
       "       0.        , 0.        , 0.        , 0.        , 0.        ,\n",
       "       0.        , 0.07058824, 0.85882353, 0.99215686, 0.99215686,\n",
       "       0.99215686, 0.99215686, 0.99215686, 0.77647059, 0.71372549,\n",
       "       0.96862745, 0.94509804, 0.        , 0.        , 0.        ,\n",
       "       0.        , 0.        , 0.        , 0.        , 0.        ,\n",
       "       0.        , 0.        , 0.        , 0.        , 0.        ,\n",
       "       0.        , 0.        , 0.        , 0.        , 0.        ,\n",
       "       0.31372549, 0.61176471, 0.41960784, 0.99215686, 0.99215686,\n",
       "       0.80392157, 0.04313725, 0.        , 0.16862745, 0.60392157,\n",
       "       0.        , 0.        , 0.        , 0.        , 0.        ,\n",
       "       0.        , 0.        , 0.        , 0.        , 0.        ,\n",
       "       0.        , 0.        , 0.        , 0.        , 0.        ,\n",
       "       0.        , 0.        , 0.        , 0.        , 0.05490196,\n",
       "       0.00392157, 0.60392157, 0.99215686, 0.35294118, 0.        ,\n",
       "       0.        , 0.        , 0.        , 0.        , 0.        ,\n",
       "       0.        , 0.        , 0.        , 0.        , 0.        ,\n",
       "       0.        , 0.        , 0.        , 0.        , 0.        ,\n",
       "       0.        , 0.        , 0.        , 0.        , 0.        ,\n",
       "       0.        , 0.        , 0.        , 0.        , 0.54509804,\n",
       "       0.99215686, 0.74509804, 0.00784314, 0.        , 0.        ,\n",
       "       0.        , 0.        , 0.        , 0.        , 0.        ,\n",
       "       0.        , 0.        , 0.        , 0.        , 0.        ,\n",
       "       0.        , 0.        , 0.        , 0.        , 0.        ,\n",
       "       0.        , 0.        , 0.        , 0.        , 0.        ,\n",
       "       0.        , 0.        , 0.04313725, 0.74509804, 0.99215686,\n",
       "       0.2745098 , 0.        , 0.        , 0.        , 0.        ,\n",
       "       0.        , 0.        , 0.        , 0.        , 0.        ,\n",
       "       0.        , 0.        , 0.        , 0.        , 0.        ,\n",
       "       0.        , 0.        , 0.        , 0.        , 0.        ,\n",
       "       0.        , 0.        , 0.        , 0.        , 0.        ,\n",
       "       0.        , 0.1372549 , 0.94509804, 0.88235294, 0.62745098,\n",
       "       0.42352941, 0.00392157, 0.        , 0.        , 0.        ,\n",
       "       0.        , 0.        , 0.        , 0.        , 0.        ,\n",
       "       0.        , 0.        , 0.        , 0.        , 0.        ,\n",
       "       0.        , 0.        , 0.        , 0.        , 0.        ,\n",
       "       0.        , 0.        , 0.        , 0.        , 0.        ,\n",
       "       0.31764706, 0.94117647, 0.99215686, 0.99215686, 0.46666667,\n",
       "       0.09803922, 0.        , 0.        , 0.        , 0.        ,\n",
       "       0.        , 0.        , 0.        , 0.        , 0.        ,\n",
       "       0.        , 0.        , 0.        , 0.        , 0.        ,\n",
       "       0.        , 0.        , 0.        , 0.        , 0.        ,\n",
       "       0.        , 0.        , 0.        , 0.        , 0.17647059,\n",
       "       0.72941176, 0.99215686, 0.99215686, 0.58823529, 0.10588235,\n",
       "       0.        , 0.        , 0.        , 0.        , 0.        ,\n",
       "       0.        , 0.        , 0.        , 0.        , 0.        ,\n",
       "       0.        , 0.        , 0.        , 0.        , 0.        ,\n",
       "       0.        , 0.        , 0.        , 0.        , 0.        ,\n",
       "       0.        , 0.        , 0.        , 0.0627451 , 0.36470588,\n",
       "       0.98823529, 0.99215686, 0.73333333, 0.        , 0.        ,\n",
       "       0.        , 0.        , 0.        , 0.        , 0.        ,\n",
       "       0.        , 0.        , 0.        , 0.        , 0.        ,\n",
       "       0.        , 0.        , 0.        , 0.        , 0.        ,\n",
       "       0.        , 0.        , 0.        , 0.        , 0.        ,\n",
       "       0.        , 0.        , 0.        , 0.97647059, 0.99215686,\n",
       "       0.97647059, 0.25098039, 0.        , 0.        , 0.        ,\n",
       "       0.        , 0.        , 0.        , 0.        , 0.        ,\n",
       "       0.        , 0.        , 0.        , 0.        , 0.        ,\n",
       "       0.        , 0.        , 0.        , 0.        , 0.        ,\n",
       "       0.        , 0.        , 0.        , 0.18039216, 0.50980392,\n",
       "       0.71764706, 0.99215686, 0.99215686, 0.81176471, 0.00784314,\n",
       "       0.        , 0.        , 0.        , 0.        , 0.        ,\n",
       "       0.        , 0.        , 0.        , 0.        , 0.        ,\n",
       "       0.        , 0.        , 0.        , 0.        , 0.        ,\n",
       "       0.        , 0.        , 0.        , 0.        , 0.15294118,\n",
       "       0.58039216, 0.89803922, 0.99215686, 0.99215686, 0.99215686,\n",
       "       0.98039216, 0.71372549, 0.        , 0.        , 0.        ,\n",
       "       0.        , 0.        , 0.        , 0.        , 0.        ,\n",
       "       0.        , 0.        , 0.        , 0.        , 0.        ,\n",
       "       0.        , 0.        , 0.        , 0.        , 0.        ,\n",
       "       0.09411765, 0.44705882, 0.86666667, 0.99215686, 0.99215686,\n",
       "       0.99215686, 0.99215686, 0.78823529, 0.30588235, 0.        ,\n",
       "       0.        , 0.        , 0.        , 0.        , 0.        ,\n",
       "       0.        , 0.        , 0.        , 0.        , 0.        ,\n",
       "       0.        , 0.        , 0.        , 0.        , 0.        ,\n",
       "       0.        , 0.09019608, 0.25882353, 0.83529412, 0.99215686,\n",
       "       0.99215686, 0.99215686, 0.99215686, 0.77647059, 0.31764706,\n",
       "       0.00784314, 0.        , 0.        , 0.        , 0.        ,\n",
       "       0.        , 0.        , 0.        , 0.        , 0.        ,\n",
       "       0.        , 0.        , 0.        , 0.        , 0.        ,\n",
       "       0.        , 0.        , 0.07058824, 0.67058824, 0.85882353,\n",
       "       0.99215686, 0.99215686, 0.99215686, 0.99215686, 0.76470588,\n",
       "       0.31372549, 0.03529412, 0.        , 0.        , 0.        ,\n",
       "       0.        , 0.        , 0.        , 0.        , 0.        ,\n",
       "       0.        , 0.        , 0.        , 0.        , 0.        ,\n",
       "       0.        , 0.        , 0.        , 0.21568627, 0.6745098 ,\n",
       "       0.88627451, 0.99215686, 0.99215686, 0.99215686, 0.99215686,\n",
       "       0.95686275, 0.52156863, 0.04313725, 0.        , 0.        ,\n",
       "       0.        , 0.        , 0.        , 0.        , 0.        ,\n",
       "       0.        , 0.        , 0.        , 0.        , 0.        ,\n",
       "       0.        , 0.        , 0.        , 0.        , 0.        ,\n",
       "       0.        , 0.53333333, 0.99215686, 0.99215686, 0.99215686,\n",
       "       0.83137255, 0.52941176, 0.51764706, 0.0627451 , 0.        ,\n",
       "       0.        , 0.        , 0.        , 0.        , 0.        ,\n",
       "       0.        , 0.        , 0.        , 0.        , 0.        ,\n",
       "       0.        , 0.        , 0.        , 0.        , 0.        ,\n",
       "       0.        , 0.        , 0.        , 0.        , 0.        ,\n",
       "       0.        , 0.        , 0.        , 0.        , 0.        ,\n",
       "       0.        , 0.        , 0.        , 0.        , 0.        ,\n",
       "       0.        , 0.        , 0.        , 0.        , 0.        ,\n",
       "       0.        , 0.        , 0.        , 0.        , 0.        ,\n",
       "       0.        , 0.        , 0.        , 0.        , 0.        ,\n",
       "       0.        , 0.        , 0.        , 0.        , 0.        ,\n",
       "       0.        , 0.        , 0.        , 0.        , 0.        ,\n",
       "       0.        , 0.        , 0.        , 0.        , 0.        ,\n",
       "       0.        , 0.        , 0.        , 0.        , 0.        ,\n",
       "       0.        , 0.        , 0.        , 0.        , 0.        ,\n",
       "       0.        , 0.        , 0.        , 0.        , 0.        ,\n",
       "       0.        , 0.        , 0.        , 0.        , 0.        ,\n",
       "       0.        , 0.        , 0.        , 0.        , 0.        ,\n",
       "       0.        , 0.        , 0.        , 0.        , 0.        ,\n",
       "       0.        , 0.        , 0.        , 0.        , 0.        ,\n",
       "       0.        , 0.        , 0.        , 0.        ])"
      ]
     },
     "execution_count": 26,
     "metadata": {},
     "output_type": "execute_result"
    }
   ],
   "source": [
    "X_train_normalized[0]"
   ]
  },
  {
   "cell_type": "code",
   "execution_count": 27,
   "metadata": {},
   "outputs": [],
   "source": [
    "X_test_normalized = X_test_flattened / 255"
   ]
  },
  {
   "cell_type": "markdown",
   "metadata": {},
   "source": [
    "### NN model with one hidden layer"
   ]
  },
  {
   "cell_type": "markdown",
   "metadata": {},
   "source": [
    "<img src=\"Figures/model2.png\" height=400 width=400 />"
   ]
  },
  {
   "cell_type": "markdown",
   "metadata": {},
   "source": [
    "###### Model configuration"
   ]
  },
  {
   "cell_type": "code",
   "execution_count": 28,
   "metadata": {},
   "outputs": [],
   "source": [
    "model = keras.Sequential([\n",
    "    # input layer 784 neurons to first hidden layer with 64 neurons\n",
    "    keras.layers.Dense(64, input_shape = (784,), activation='relu'), \n",
    "    # Previous hidden layer to output layer\n",
    "    keras.layers.Dense(10, activation='sigmoid')    \n",
    "])"
   ]
  },
  {
   "cell_type": "raw",
   "metadata": {},
   "source": [
    "# dicrectly accessing the libraries\n",
    "model = Sequential()\n",
    "model.add(Dense(64, input_shape = (784,), activation='relu'))\n",
    "model.add(Dense(10, activation='sigmoid'))   "
   ]
  },
  {
   "cell_type": "markdown",
   "metadata": {},
   "source": [
    "##### Model summary"
   ]
  },
  {
   "cell_type": "code",
   "execution_count": 29,
   "metadata": {},
   "outputs": [
    {
     "name": "stdout",
     "output_type": "stream",
     "text": [
      "Model: \"sequential\"\n",
      "_________________________________________________________________\n",
      " Layer (type)                Output Shape              Param #   \n",
      "=================================================================\n",
      " dense (Dense)               (None, 64)                50240     \n",
      "                                                                 \n",
      " dense_1 (Dense)             (None, 10)                650       \n",
      "                                                                 \n",
      "=================================================================\n",
      "Total params: 50,890\n",
      "Trainable params: 50,890\n",
      "Non-trainable params: 0\n",
      "_________________________________________________________________\n"
     ]
    }
   ],
   "source": [
    "model.summary()"
   ]
  },
  {
   "cell_type": "markdown",
   "metadata": {},
   "source": [
    "Layer details"
   ]
  },
  {
   "cell_type": "code",
   "execution_count": 30,
   "metadata": {},
   "outputs": [
    {
     "data": {
      "text/plain": [
       "[<keras.layers.core.dense.Dense at 0x2106f8ec1f0>,\n",
       " <keras.layers.core.dense.Dense at 0x2106f8ec2b0>]"
      ]
     },
     "execution_count": 30,
     "metadata": {},
     "output_type": "execute_result"
    }
   ],
   "source": [
    "model.layers"
   ]
  },
  {
   "cell_type": "code",
   "execution_count": 31,
   "metadata": {},
   "outputs": [
    {
     "data": {
      "text/plain": [
       "2"
      ]
     },
     "execution_count": 31,
     "metadata": {},
     "output_type": "execute_result"
    }
   ],
   "source": [
    "len(model.layers)"
   ]
  },
  {
   "cell_type": "code",
   "execution_count": 32,
   "metadata": {},
   "outputs": [],
   "source": [
    "model.compile(\n",
    "    optimizer = 'adam',\n",
    "    loss = 'sparse_categorical_crossentropy',\n",
    "    metrics = ['accuracy']\n",
    ")"
   ]
  },
  {
   "cell_type": "markdown",
   "metadata": {},
   "source": [
    "###### Training the model"
   ]
  },
  {
   "cell_type": "code",
   "execution_count": 33,
   "metadata": {
    "scrolled": true
   },
   "outputs": [
    {
     "name": "stdout",
     "output_type": "stream",
     "text": [
      "Epoch 1/100\n",
      "1/1 [==============================] - 1s 810ms/step - loss: 2.3353 - accuracy: 0.1069\n",
      "Epoch 2/100\n",
      "1/1 [==============================] - 0s 149ms/step - loss: 2.2355 - accuracy: 0.1630\n",
      "Epoch 3/100\n",
      "1/1 [==============================] - 0s 145ms/step - loss: 2.1465 - accuracy: 0.2424\n",
      "Epoch 4/100\n",
      "1/1 [==============================] - 0s 151ms/step - loss: 2.0640 - accuracy: 0.3382\n",
      "Epoch 5/100\n",
      "1/1 [==============================] - 0s 145ms/step - loss: 1.9851 - accuracy: 0.4275\n",
      "Epoch 6/100\n",
      "1/1 [==============================] - 0s 180ms/step - loss: 1.9077 - accuracy: 0.4993\n",
      "Epoch 7/100\n",
      "1/1 [==============================] - 0s 143ms/step - loss: 1.8310 - accuracy: 0.5543\n",
      "Epoch 8/100\n",
      "1/1 [==============================] - 0s 152ms/step - loss: 1.7547 - accuracy: 0.5954\n",
      "Epoch 9/100\n",
      "1/1 [==============================] - 0s 180ms/step - loss: 1.6788 - accuracy: 0.6306\n",
      "Epoch 10/100\n",
      "1/1 [==============================] - 0s 143ms/step - loss: 1.6040 - accuracy: 0.6599\n",
      "Epoch 11/100\n",
      "1/1 [==============================] - 0s 150ms/step - loss: 1.5306 - accuracy: 0.6869\n",
      "Epoch 12/100\n",
      "1/1 [==============================] - 0s 160ms/step - loss: 1.4591 - accuracy: 0.7097\n",
      "Epoch 13/100\n",
      "1/1 [==============================] - 0s 176ms/step - loss: 1.3900 - accuracy: 0.7289\n",
      "Epoch 14/100\n",
      "1/1 [==============================] - 0s 180ms/step - loss: 1.3235 - accuracy: 0.7442\n",
      "Epoch 15/100\n",
      "1/1 [==============================] - 0s 163ms/step - loss: 1.2601 - accuracy: 0.7567\n",
      "Epoch 16/100\n",
      "1/1 [==============================] - 0s 148ms/step - loss: 1.2000 - accuracy: 0.7683\n",
      "Epoch 17/100\n",
      "1/1 [==============================] - 0s 159ms/step - loss: 1.1432 - accuracy: 0.7764\n",
      "Epoch 18/100\n",
      "1/1 [==============================] - 0s 179ms/step - loss: 1.0900 - accuracy: 0.7846\n",
      "Epoch 19/100\n",
      "1/1 [==============================] - 0s 153ms/step - loss: 1.0400 - accuracy: 0.7908\n",
      "Epoch 20/100\n",
      "1/1 [==============================] - 0s 157ms/step - loss: 0.9933 - accuracy: 0.7961\n",
      "Epoch 21/100\n",
      "1/1 [==============================] - 0s 171ms/step - loss: 0.9497 - accuracy: 0.8015\n",
      "Epoch 22/100\n",
      "1/1 [==============================] - 0s 151ms/step - loss: 0.9091 - accuracy: 0.8067\n",
      "Epoch 23/100\n",
      "1/1 [==============================] - 0s 159ms/step - loss: 0.8713 - accuracy: 0.8113\n",
      "Epoch 24/100\n",
      "1/1 [==============================] - 0s 160ms/step - loss: 0.8363 - accuracy: 0.8155\n",
      "Epoch 25/100\n",
      "1/1 [==============================] - 0s 149ms/step - loss: 0.8039 - accuracy: 0.8196\n",
      "Epoch 26/100\n",
      "1/1 [==============================] - 0s 148ms/step - loss: 0.7739 - accuracy: 0.8234\n",
      "Epoch 27/100\n",
      "1/1 [==============================] - 0s 165ms/step - loss: 0.7463 - accuracy: 0.8272\n",
      "Epoch 28/100\n",
      "1/1 [==============================] - 0s 167ms/step - loss: 0.7207 - accuracy: 0.8310\n",
      "Epoch 29/100\n",
      "1/1 [==============================] - 0s 168ms/step - loss: 0.6970 - accuracy: 0.8348\n",
      "Epoch 30/100\n",
      "1/1 [==============================] - 0s 160ms/step - loss: 0.6751 - accuracy: 0.8383\n",
      "Epoch 31/100\n",
      "1/1 [==============================] - 0s 170ms/step - loss: 0.6548 - accuracy: 0.8418\n",
      "Epoch 32/100\n",
      "1/1 [==============================] - 0s 161ms/step - loss: 0.6359 - accuracy: 0.8454\n",
      "Epoch 33/100\n",
      "1/1 [==============================] - 0s 154ms/step - loss: 0.6183 - accuracy: 0.8485\n",
      "Epoch 34/100\n",
      "1/1 [==============================] - 0s 159ms/step - loss: 0.6019 - accuracy: 0.8514\n",
      "Epoch 35/100\n",
      "1/1 [==============================] - 0s 153ms/step - loss: 0.5866 - accuracy: 0.8538\n",
      "Epoch 36/100\n",
      "1/1 [==============================] - 0s 166ms/step - loss: 0.5723 - accuracy: 0.8561\n",
      "Epoch 37/100\n",
      "1/1 [==============================] - 0s 159ms/step - loss: 0.5590 - accuracy: 0.8587\n",
      "Epoch 38/100\n",
      "1/1 [==============================] - 0s 164ms/step - loss: 0.5465 - accuracy: 0.8607\n",
      "Epoch 39/100\n",
      "1/1 [==============================] - 0s 178ms/step - loss: 0.5348 - accuracy: 0.8630\n",
      "Epoch 40/100\n",
      "1/1 [==============================] - 0s 154ms/step - loss: 0.5238 - accuracy: 0.8658\n",
      "Epoch 41/100\n",
      "1/1 [==============================] - 0s 150ms/step - loss: 0.5135 - accuracy: 0.8680\n",
      "Epoch 42/100\n",
      "1/1 [==============================] - 0s 160ms/step - loss: 0.5038 - accuracy: 0.8699\n",
      "Epoch 43/100\n",
      "1/1 [==============================] - 0s 156ms/step - loss: 0.4946 - accuracy: 0.8724\n",
      "Epoch 44/100\n",
      "1/1 [==============================] - 0s 155ms/step - loss: 0.4860 - accuracy: 0.8746\n",
      "Epoch 45/100\n",
      "1/1 [==============================] - 0s 160ms/step - loss: 0.4779 - accuracy: 0.8766\n",
      "Epoch 46/100\n",
      "1/1 [==============================] - 0s 154ms/step - loss: 0.4702 - accuracy: 0.8777\n",
      "Epoch 47/100\n",
      "1/1 [==============================] - 0s 182ms/step - loss: 0.4629 - accuracy: 0.8792\n",
      "Epoch 48/100\n",
      "1/1 [==============================] - 0s 150ms/step - loss: 0.4560 - accuracy: 0.8806\n",
      "Epoch 49/100\n",
      "1/1 [==============================] - 0s 170ms/step - loss: 0.4495 - accuracy: 0.8821\n",
      "Epoch 50/100\n",
      "1/1 [==============================] - 0s 161ms/step - loss: 0.4433 - accuracy: 0.8833\n",
      "Epoch 51/100\n",
      "1/1 [==============================] - 0s 149ms/step - loss: 0.4374 - accuracy: 0.8846\n",
      "Epoch 52/100\n",
      "1/1 [==============================] - 0s 148ms/step - loss: 0.4318 - accuracy: 0.8859\n",
      "Epoch 53/100\n",
      "1/1 [==============================] - 0s 184ms/step - loss: 0.4265 - accuracy: 0.8872\n",
      "Epoch 54/100\n",
      "1/1 [==============================] - 0s 157ms/step - loss: 0.4214 - accuracy: 0.8879\n",
      "Epoch 55/100\n",
      "1/1 [==============================] - 0s 154ms/step - loss: 0.4165 - accuracy: 0.8888\n",
      "Epoch 56/100\n",
      "1/1 [==============================] - 0s 161ms/step - loss: 0.4119 - accuracy: 0.8899\n",
      "Epoch 57/100\n",
      "1/1 [==============================] - 0s 184ms/step - loss: 0.4074 - accuracy: 0.8909\n",
      "Epoch 58/100\n",
      "1/1 [==============================] - 0s 136ms/step - loss: 0.4031 - accuracy: 0.8921\n",
      "Epoch 59/100\n",
      "1/1 [==============================] - 0s 149ms/step - loss: 0.3991 - accuracy: 0.8932\n",
      "Epoch 60/100\n",
      "1/1 [==============================] - 0s 142ms/step - loss: 0.3951 - accuracy: 0.8942\n",
      "Epoch 61/100\n",
      "1/1 [==============================] - 0s 142ms/step - loss: 0.3914 - accuracy: 0.8952\n",
      "Epoch 62/100\n",
      "1/1 [==============================] - 0s 171ms/step - loss: 0.3877 - accuracy: 0.8959\n",
      "Epoch 63/100\n",
      "1/1 [==============================] - 0s 185ms/step - loss: 0.3842 - accuracy: 0.8965\n",
      "Epoch 64/100\n",
      "1/1 [==============================] - 0s 189ms/step - loss: 0.3809 - accuracy: 0.8972\n",
      "Epoch 65/100\n",
      "1/1 [==============================] - 0s 169ms/step - loss: 0.3776 - accuracy: 0.8980\n",
      "Epoch 66/100\n",
      "1/1 [==============================] - 0s 159ms/step - loss: 0.3745 - accuracy: 0.8988\n",
      "Epoch 67/100\n",
      "1/1 [==============================] - 0s 150ms/step - loss: 0.3714 - accuracy: 0.8995\n",
      "Epoch 68/100\n",
      "1/1 [==============================] - 0s 146ms/step - loss: 0.3685 - accuracy: 0.9003\n",
      "Epoch 69/100\n",
      "1/1 [==============================] - 0s 196ms/step - loss: 0.3657 - accuracy: 0.9009\n",
      "Epoch 70/100\n",
      "1/1 [==============================] - 0s 184ms/step - loss: 0.3629 - accuracy: 0.9018\n",
      "Epoch 71/100\n",
      "1/1 [==============================] - 0s 179ms/step - loss: 0.3603 - accuracy: 0.9024\n",
      "Epoch 72/100\n",
      "1/1 [==============================] - 0s 170ms/step - loss: 0.3577 - accuracy: 0.9032\n",
      "Epoch 73/100\n",
      "1/1 [==============================] - 0s 143ms/step - loss: 0.3552 - accuracy: 0.9038\n",
      "Epoch 74/100\n",
      "1/1 [==============================] - 0s 190ms/step - loss: 0.3527 - accuracy: 0.9042\n",
      "Epoch 75/100\n",
      "1/1 [==============================] - 0s 152ms/step - loss: 0.3504 - accuracy: 0.9048\n",
      "Epoch 76/100\n",
      "1/1 [==============================] - 0s 139ms/step - loss: 0.3481 - accuracy: 0.9051\n",
      "Epoch 77/100\n",
      "1/1 [==============================] - 0s 153ms/step - loss: 0.3458 - accuracy: 0.9057\n",
      "Epoch 78/100\n",
      "1/1 [==============================] - 0s 143ms/step - loss: 0.3436 - accuracy: 0.9063\n",
      "Epoch 79/100\n",
      "1/1 [==============================] - 0s 156ms/step - loss: 0.3415 - accuracy: 0.9069\n",
      "Epoch 80/100\n",
      "1/1 [==============================] - 0s 168ms/step - loss: 0.3394 - accuracy: 0.9075\n",
      "Epoch 81/100\n",
      "1/1 [==============================] - 0s 145ms/step - loss: 0.3374 - accuracy: 0.9079\n",
      "Epoch 82/100\n",
      "1/1 [==============================] - 0s 193ms/step - loss: 0.3354 - accuracy: 0.9085\n",
      "Epoch 83/100\n"
     ]
    },
    {
     "name": "stdout",
     "output_type": "stream",
     "text": [
      "1/1 [==============================] - 0s 161ms/step - loss: 0.3335 - accuracy: 0.9089\n",
      "Epoch 84/100\n",
      "1/1 [==============================] - 0s 143ms/step - loss: 0.3316 - accuracy: 0.9092\n",
      "Epoch 85/100\n",
      "1/1 [==============================] - 0s 154ms/step - loss: 0.3297 - accuracy: 0.9095\n",
      "Epoch 86/100\n",
      "1/1 [==============================] - 0s 149ms/step - loss: 0.3279 - accuracy: 0.9099\n",
      "Epoch 87/100\n",
      "1/1 [==============================] - 0s 129ms/step - loss: 0.3261 - accuracy: 0.9103\n",
      "Epoch 88/100\n",
      "1/1 [==============================] - 0s 146ms/step - loss: 0.3244 - accuracy: 0.9107\n",
      "Epoch 89/100\n",
      "1/1 [==============================] - 0s 128ms/step - loss: 0.3227 - accuracy: 0.9111\n",
      "Epoch 90/100\n",
      "1/1 [==============================] - 0s 137ms/step - loss: 0.3210 - accuracy: 0.9116\n",
      "Epoch 91/100\n",
      "1/1 [==============================] - 0s 147ms/step - loss: 0.3194 - accuracy: 0.9118\n",
      "Epoch 92/100\n",
      "1/1 [==============================] - 0s 147ms/step - loss: 0.3178 - accuracy: 0.9123\n",
      "Epoch 93/100\n",
      "1/1 [==============================] - 0s 123ms/step - loss: 0.3162 - accuracy: 0.9128\n",
      "Epoch 94/100\n",
      "1/1 [==============================] - 0s 111ms/step - loss: 0.3146 - accuracy: 0.9130\n",
      "Epoch 95/100\n",
      "1/1 [==============================] - 0s 131ms/step - loss: 0.3131 - accuracy: 0.9134\n",
      "Epoch 96/100\n",
      "1/1 [==============================] - 0s 114ms/step - loss: 0.3116 - accuracy: 0.9138\n",
      "Epoch 97/100\n",
      "1/1 [==============================] - 0s 119ms/step - loss: 0.3101 - accuracy: 0.9142\n",
      "Epoch 98/100\n",
      "1/1 [==============================] - 0s 143ms/step - loss: 0.3087 - accuracy: 0.9147\n",
      "Epoch 99/100\n",
      "1/1 [==============================] - 0s 135ms/step - loss: 0.3072 - accuracy: 0.9151\n",
      "Epoch 100/100\n",
      "1/1 [==============================] - 0s 168ms/step - loss: 0.3058 - accuracy: 0.9155\n"
     ]
    },
    {
     "data": {
      "text/plain": [
       "<keras.callbacks.History at 0x2106fa54580>"
      ]
     },
     "execution_count": 33,
     "metadata": {},
     "output_type": "execute_result"
    }
   ],
   "source": [
    "model.fit(X_train_normalized, y_train, epochs = 100, verbose=1, batch_size=60000)"
   ]
  },
  {
   "cell_type": "markdown",
   "metadata": {},
   "source": [
    "##### Printing the weights"
   ]
  },
  {
   "cell_type": "markdown",
   "metadata": {},
   "source": [
    "Getting weights and bias values after the training stage"
   ]
  },
  {
   "cell_type": "code",
   "execution_count": 34,
   "metadata": {},
   "outputs": [
    {
     "name": "stderr",
     "output_type": "stream",
     "text": [
      "<ipython-input-34-4f8fb3d8cc7f>:3: VisibleDeprecationWarning: Creating an ndarray from ragged nested sequences (which is a list-or-tuple of lists-or-tuples-or ndarrays with different lengths or shapes) is deprecated. If you meant to do this, you must specify 'dtype=object' when creating the ndarray.\n",
      "  weights = np.array(original_weights)\n"
     ]
    },
    {
     "data": {
      "text/plain": [
       "array([array([[ 0.0125315 , -0.08046556, -0.05301911, ..., -0.05446045,\n",
       "               -0.05927167, -0.06994961],\n",
       "              [-0.00728518,  0.00892169, -0.05702665, ...,  0.0300811 ,\n",
       "                0.02031308, -0.06408572],\n",
       "              [ 0.07090462, -0.0764684 ,  0.02990752, ..., -0.08081014,\n",
       "                0.03539871,  0.06823724],\n",
       "              ...,\n",
       "              [-0.05701805, -0.04082162,  0.03850032, ..., -0.04733499,\n",
       "               -0.03839022,  0.07370178],\n",
       "              [ 0.02287386,  0.01596382,  0.03305624, ...,  0.06807341,\n",
       "               -0.06486342,  0.03163679],\n",
       "              [ 0.02960955,  0.00081019,  0.03200337, ...,  0.07533667,\n",
       "               -0.07127538, -0.04698471]], dtype=float32)              ,\n",
       "       array([ 0.04504513,  0.05421753,  0.02446254,  0.02246043,  0.04432507,\n",
       "               0.0028891 ,  0.01592813,  0.01983657,  0.05123106,  0.05064083,\n",
       "               0.05798962,  0.00722412,  0.06186702,  0.02966474,  0.07403334,\n",
       "               0.04057912,  0.06111824,  0.04385283,  0.03845746,  0.00741127,\n",
       "               0.07771614,  0.05148039,  0.04648062, -0.02131578,  0.00693611,\n",
       "              -0.00387611, -0.06583074, -0.01220062,  0.02590705,  0.05312829,\n",
       "              -0.019236  , -0.00536428,  0.05852035,  0.06478889,  0.05523847,\n",
       "               0.04002332,  0.03713914,  0.00860064,  0.01910959, -0.02210474,\n",
       "               0.03312811,  0.01910607,  0.00661203,  0.03312882,  0.02894566,\n",
       "               0.04520888, -0.00755192,  0.04224161, -0.00487008,  0.0500591 ,\n",
       "               0.0408107 ,  0.02390608, -0.03724229,  0.03436838, -0.03921381,\n",
       "               0.05567447,  0.05810023,  0.00909459,  0.02038319,  0.0393607 ,\n",
       "               0.04572704,  0.06653944,  0.03503685, -0.0005033 ], dtype=float32),\n",
       "       array([[ 2.89544053e-02, -5.48185296e-02,  7.64035434e-02,\n",
       "                3.46598141e-02, -2.53627270e-01,  2.99741894e-01,\n",
       "               -3.46845053e-02, -1.58152550e-01,  8.78014043e-02,\n",
       "               -3.52326393e-01],\n",
       "              [-3.14745933e-01, -3.30822706e-01, -2.53073663e-01,\n",
       "                4.63219965e-03,  2.20077842e-01,  1.63196757e-01,\n",
       "                5.99094518e-02,  2.11990606e-02, -3.10574137e-02,\n",
       "               -1.19319767e-01],\n",
       "              [ 1.64044186e-01, -1.42982677e-01,  1.88360199e-01,\n",
       "                1.62221491e-01, -3.45515996e-01,  2.57341653e-01,\n",
       "                1.72735408e-01,  6.06729947e-02, -2.77144276e-02,\n",
       "               -1.11532956e-01],\n",
       "              [ 2.28221387e-01, -3.02884072e-01, -1.63789764e-01,\n",
       "               -1.65896982e-01,  2.23926917e-01,  1.30018905e-01,\n",
       "               -1.03537582e-01,  2.70353109e-01,  3.08483213e-01,\n",
       "                2.15055764e-01],\n",
       "              [ 1.33565962e-01, -4.08707373e-02, -2.13339582e-01,\n",
       "                1.34217158e-01, -1.11746956e-02,  3.42251420e-01,\n",
       "               -9.13415253e-02,  3.36842209e-01,  2.93449432e-01,\n",
       "                6.26647547e-02],\n",
       "              [-9.61634144e-02, -1.64939165e-01,  3.06115657e-01,\n",
       "               -3.30303788e-01,  6.85908422e-02,  1.23578794e-02,\n",
       "                1.88204035e-01,  6.13124073e-02,  2.18165666e-01,\n",
       "                9.90664810e-02],\n",
       "              [ 2.86576748e-01, -2.47448981e-01, -1.36433601e-01,\n",
       "               -1.74107209e-01, -9.77710560e-02, -5.22361137e-02,\n",
       "                9.61446539e-02,  8.88403878e-02, -2.90312201e-01,\n",
       "                3.88289914e-02],\n",
       "              [-2.88831033e-02,  3.29735845e-01, -3.54960412e-01,\n",
       "               -1.72460616e-01,  4.61090840e-02, -2.44303882e-01,\n",
       "               -1.30269393e-01, -1.76857129e-01,  2.35009849e-01,\n",
       "               -9.07024145e-02],\n",
       "              [ 3.00949991e-01,  1.81767270e-01, -3.30789685e-01,\n",
       "               -5.04451990e-02, -2.89797522e-02,  1.48605704e-01,\n",
       "                1.23844258e-01,  1.52766421e-01, -2.52182577e-02,\n",
       "                2.54967928e-01],\n",
       "              [-2.64242619e-01, -1.30708411e-01, -6.68583512e-02,\n",
       "               -1.56264111e-01, -1.41233057e-01,  1.88411891e-01,\n",
       "                1.15072943e-01, -2.88919330e-01, -1.30594790e-01,\n",
       "               -3.27071816e-01],\n",
       "              [ 1.20569542e-01,  2.08375320e-01, -2.16951668e-02,\n",
       "                2.85164386e-01,  7.26111159e-02,  7.60988519e-03,\n",
       "               -3.49073410e-01,  2.85085827e-01, -3.63694906e-01,\n",
       "               -5.11859879e-02],\n",
       "              [ 2.77722508e-01, -4.73446436e-02, -9.72852558e-02,\n",
       "               -3.47484887e-01,  4.26247008e-02, -2.33366802e-01,\n",
       "               -2.78169304e-01,  1.33124128e-01, -2.97588855e-02,\n",
       "               -2.18241557e-01],\n",
       "              [ 2.74525106e-01, -4.64778319e-02,  1.80232093e-01,\n",
       "               -3.10139686e-01,  2.57894635e-01,  1.65582120e-01,\n",
       "               -2.55170524e-01,  1.73177496e-01, -2.13758573e-01,\n",
       "               -2.98450142e-01],\n",
       "              [ 7.46995136e-02, -1.70858935e-01,  1.19984537e-01,\n",
       "               -3.24517339e-01,  9.46810544e-02, -2.85555840e-01,\n",
       "                2.28169203e-01, -2.28962556e-01, -2.27036670e-01,\n",
       "                5.02331816e-02],\n",
       "              [-3.15415770e-01,  9.13309380e-02, -3.57848853e-01,\n",
       "               -1.29868343e-01, -5.10058962e-02,  2.32600663e-02,\n",
       "                1.37791604e-01,  3.17513794e-02, -3.61867666e-01,\n",
       "               -2.36802071e-01],\n",
       "              [ 9.52558368e-02,  3.41779381e-01,  9.30643752e-02,\n",
       "               -1.42528906e-01,  2.40856126e-01, -1.34097427e-01,\n",
       "                1.47584490e-02,  1.90289751e-01,  2.04595014e-01,\n",
       "                2.02963173e-01],\n",
       "              [ 3.16436589e-01, -4.47674207e-02, -8.67544562e-02,\n",
       "               -7.41267726e-02, -4.82855625e-02,  1.94921359e-01,\n",
       "                1.38134554e-01,  2.98724413e-01, -3.41548264e-01,\n",
       "               -5.29133454e-02],\n",
       "              [-3.22348058e-01, -3.60033810e-02,  3.32285374e-01,\n",
       "                2.82271385e-01, -1.82025149e-01, -1.71219587e-01,\n",
       "               -3.61668140e-01,  7.31728375e-02, -2.52348274e-01,\n",
       "                1.72262073e-01],\n",
       "              [-1.81223795e-01,  2.56157815e-01, -1.83537200e-01,\n",
       "               -3.46011639e-01,  4.40667532e-02, -2.82926410e-01,\n",
       "                7.04134405e-02,  2.73066431e-01, -5.13108447e-02,\n",
       "                3.91397059e-01],\n",
       "              [-8.98070708e-02,  2.31876418e-01, -3.10096413e-01,\n",
       "               -8.47066119e-02, -8.98486972e-02, -2.42413133e-01,\n",
       "               -1.98133290e-01,  3.63869481e-02,  4.43781726e-02,\n",
       "               -2.36127973e-01],\n",
       "              [ 2.57489145e-01,  1.12115685e-02,  2.85187185e-01,\n",
       "               -1.81300297e-01,  2.64128335e-02,  2.25721762e-01,\n",
       "                1.21532485e-01,  1.56688273e-01, -2.36537561e-01,\n",
       "                2.29290023e-01],\n",
       "              [-1.48085859e-02,  5.50759882e-02,  1.25409082e-01,\n",
       "                2.55322933e-01, -1.88573748e-01, -2.09345836e-02,\n",
       "               -2.24678125e-03,  3.04791749e-01, -2.32950345e-01,\n",
       "                2.34341040e-01],\n",
       "              [ 2.69124120e-01, -2.19622374e-01, -5.21954261e-02,\n",
       "                2.95119196e-01,  2.30473876e-01, -9.85114351e-02,\n",
       "                1.05623528e-01, -2.27847248e-02, -2.31962681e-01,\n",
       "                3.67443785e-02],\n",
       "              [-2.44449273e-01, -2.65177757e-01, -2.96737671e-01,\n",
       "               -1.82673633e-01,  2.99978573e-02,  1.29609525e-01,\n",
       "                1.39835417e-01, -1.73194841e-01,  3.17483187e-01,\n",
       "                1.35114133e-01],\n",
       "              [ 2.50723213e-03,  2.39448622e-01, -2.96221972e-01,\n",
       "               -2.37571537e-01,  2.11887464e-01, -2.86908329e-01,\n",
       "                9.13527086e-02, -3.36814761e-01, -1.35880157e-01,\n",
       "                5.59954382e-02],\n",
       "              [-1.77794680e-01,  6.26455098e-02,  4.13045175e-02,\n",
       "                2.09438398e-01,  8.53611901e-02,  2.45276064e-01,\n",
       "               -1.86032042e-01, -3.03575456e-01,  2.11034447e-01,\n",
       "                2.15380818e-01],\n",
       "              [ 5.99520914e-02, -3.08217585e-01, -1.13928229e-01,\n",
       "                3.14239740e-01, -1.53249071e-04, -3.22364777e-01,\n",
       "               -2.15177193e-01, -2.73884714e-01,  2.93856114e-01,\n",
       "                2.37987205e-01],\n",
       "              [ 7.02353939e-02,  2.14233518e-01, -1.24431029e-02,\n",
       "                9.88763645e-02,  5.43626063e-02, -1.71472013e-01,\n",
       "                6.02464341e-02,  2.35907376e-01,  1.58333287e-01,\n",
       "                2.17999697e-01],\n",
       "              [-3.11935723e-01,  3.48068744e-01, -6.71587810e-02,\n",
       "                2.81877905e-01, -3.04694712e-01,  1.27215043e-01,\n",
       "                1.09131813e-01, -2.69532412e-01, -1.95283577e-01,\n",
       "                3.10410380e-01],\n",
       "              [-2.35709012e-01,  4.54341210e-02, -2.56722152e-01,\n",
       "               -3.29462826e-01,  3.42036575e-01,  1.79061309e-01,\n",
       "                3.19683343e-01, -1.67656183e-01, -2.35432655e-01,\n",
       "                4.87869456e-02],\n",
       "              [ 9.16090831e-02, -7.29649812e-02, -5.04757538e-02,\n",
       "               -1.68655112e-01,  1.97007671e-01, -3.16349506e-01,\n",
       "                1.62684113e-01,  2.27004349e-01,  2.88678586e-01,\n",
       "                3.98620069e-02],\n",
       "              [-1.82994008e-01, -1.27870023e-01,  1.49829730e-01,\n",
       "               -5.68056777e-02, -9.32426304e-02,  1.18856333e-01,\n",
       "               -2.49806613e-01, -2.86486834e-01,  2.40750790e-01,\n",
       "               -2.71000773e-01],\n",
       "              [-1.89651132e-01, -1.49388999e-01, -2.18678102e-01,\n",
       "               -1.69285521e-01,  2.00574860e-01,  2.70080686e-01,\n",
       "               -1.90935105e-01, -1.34412915e-01, -2.83273369e-01,\n",
       "                2.52926916e-01],\n",
       "              [-7.02185854e-02,  7.12152869e-02,  1.01375282e-01,\n",
       "                3.44087668e-02,  2.23362818e-01, -1.01616912e-01,\n",
       "               -1.07709840e-01,  2.75536060e-01, -3.12436998e-01,\n",
       "               -3.60857278e-01],\n",
       "              [-1.57412931e-01,  2.39597708e-01,  1.55476153e-01,\n",
       "                3.07692029e-02,  1.78973868e-01,  7.87963346e-02,\n",
       "               -1.25656918e-01, -3.32098305e-01, -2.11806685e-01,\n",
       "               -2.20553309e-01],\n",
       "              [ 1.07172742e-01, -6.87126163e-03,  1.64703220e-01,\n",
       "               -2.46143490e-01,  1.77962616e-01,  8.02077502e-02,\n",
       "               -1.96567401e-01, -2.45344594e-01, -7.60682672e-02,\n",
       "                2.01124012e-01],\n",
       "              [-2.16573000e-01, -2.44752482e-01,  5.56512997e-02,\n",
       "               -2.82554209e-01, -8.82228911e-02, -2.67592013e-01,\n",
       "                2.04053670e-01,  3.06510299e-01, -7.79084861e-02,\n",
       "               -3.14548939e-01],\n",
       "              [ 2.54608959e-01,  1.28849551e-01,  1.57525092e-01,\n",
       "                2.17434704e-01, -2.73107618e-01,  2.18615904e-01,\n",
       "                3.37756336e-01, -2.11697921e-01,  3.18993837e-01,\n",
       "                9.74466354e-02],\n",
       "              [ 2.44000927e-01,  2.91158736e-01,  2.59557426e-01,\n",
       "                2.84210406e-02, -1.12363249e-01, -2.09595755e-01,\n",
       "                2.97761619e-01,  2.04599276e-01, -1.57805115e-01,\n",
       "               -2.04067796e-01],\n",
       "              [-2.57650875e-02, -2.38328159e-01,  1.40710101e-01,\n",
       "               -2.63378114e-01, -5.16682118e-02,  1.81856498e-01,\n",
       "                8.60527307e-02,  1.10440239e-01,  3.06197971e-01,\n",
       "                3.15701634e-01],\n",
       "              [-2.70263880e-01,  3.23552042e-01,  6.48163911e-03,\n",
       "                2.41845116e-01, -3.05853784e-01, -1.68749198e-01,\n",
       "                1.27413217e-02,  2.87152052e-01,  1.62683293e-01,\n",
       "               -1.06830217e-01],\n",
       "              [-1.82767510e-01, -3.28865170e-01, -7.87342340e-02,\n",
       "                2.42323875e-01,  1.12371489e-01,  1.80695400e-01,\n",
       "                3.02280277e-01, -1.69176564e-01, -1.54110789e-01,\n",
       "               -2.87406206e-01],\n",
       "              [ 2.16392308e-01, -1.54927164e-01,  2.01364025e-01,\n",
       "               -1.69161215e-01, -2.21190885e-01,  3.44135642e-01,\n",
       "               -3.07758123e-01, -3.34550977e-01,  2.06112131e-01,\n",
       "               -2.18524337e-01],\n",
       "              [-7.33520836e-02,  3.15280557e-01, -1.45848021e-01,\n",
       "                2.18644273e-02, -4.53560390e-02, -3.18136305e-01,\n",
       "               -1.12915924e-02, -1.00028710e-02,  5.75593449e-02,\n",
       "                2.17105612e-01],\n",
       "              [-2.68870026e-01,  1.25424825e-02,  7.78783625e-03,\n",
       "               -3.32071960e-01,  2.38005698e-01, -9.32247341e-02,\n",
       "                7.37487003e-02, -3.22331965e-01,  7.33650429e-03,\n",
       "                7.59617761e-02],\n",
       "              [-6.93753287e-02,  3.05598021e-01,  2.78840870e-01,\n",
       "               -1.88703716e-01,  1.47797570e-01,  8.71110260e-02,\n",
       "               -3.27979058e-01, -2.39514515e-01, -7.40924180e-02,\n",
       "               -2.25244433e-01],\n",
       "              [ 4.09072600e-02,  2.78981537e-01, -2.72657216e-01,\n",
       "               -1.73337638e-01,  1.34980515e-01, -1.14653371e-01,\n",
       "               -1.69999734e-03,  3.99224199e-02,  1.04483917e-01,\n",
       "                5.56795783e-02],\n",
       "              [-7.51619786e-02,  6.99858442e-02,  2.10439801e-01,\n",
       "                2.46467859e-01,  7.30291232e-02, -2.94366449e-01,\n",
       "               -1.08841762e-01,  1.47267252e-01, -3.36353183e-01,\n",
       "               -4.83568609e-02],\n",
       "              [ 2.00580452e-02,  9.25388187e-03,  1.33890897e-01,\n",
       "                2.95199037e-01, -1.59700274e-01, -2.04229191e-01,\n",
       "               -3.10028791e-01,  6.20591789e-02,  3.16977613e-02,\n",
       "               -2.02142537e-01],\n",
       "              [-3.33983064e-01, -2.64976442e-01, -1.16863020e-01,\n",
       "               -2.93732285e-01, -1.42661840e-01, -7.87767768e-02,\n",
       "                1.97005853e-01,  8.38879775e-03, -2.73022413e-01,\n",
       "               -4.89471853e-02],\n",
       "              [ 1.63500756e-01,  2.56429225e-01,  3.99245769e-02,\n",
       "                5.87281957e-02, -3.14212829e-01, -2.44933113e-01,\n",
       "                1.61163867e-01, -2.39898488e-01, -3.13678563e-01,\n",
       "               -2.14359894e-01],\n",
       "              [ 3.87818776e-02, -9.12745893e-02,  3.18561822e-01,\n",
       "               -7.75761604e-02,  2.77969539e-01, -1.27119765e-01,\n",
       "                1.17245533e-01,  1.69891104e-01,  1.19960099e-01,\n",
       "                2.04832882e-01],\n",
       "              [ 2.51128286e-01,  4.16045003e-02, -8.54399875e-02,\n",
       "                2.61850029e-01,  2.29716867e-01,  3.43535058e-02,\n",
       "                2.30956867e-01, -1.33436635e-01,  2.75725394e-01,\n",
       "                2.56359130e-01],\n",
       "              [-2.22921997e-01,  3.16711187e-01, -5.04595265e-02,\n",
       "               -1.58556789e-01,  1.09262876e-01, -2.98250496e-01,\n",
       "                3.12039942e-01, -1.13112099e-01,  1.56617299e-01,\n",
       "               -1.68214053e-01],\n",
       "              [ 2.18649119e-01, -1.28821164e-01,  7.81183019e-02,\n",
       "               -6.39940053e-02, -3.03284764e-01,  5.14842942e-02,\n",
       "               -9.42601115e-02,  7.62641653e-02,  2.63071120e-01,\n",
       "                1.57184243e-01],\n",
       "              [-6.68893531e-02,  5.23976944e-02,  3.42347324e-02,\n",
       "                2.84160644e-01,  7.74495751e-02,  3.00201416e-01,\n",
       "               -2.17164010e-01,  1.08008996e-01, -1.50925085e-01,\n",
       "                2.98732907e-01],\n",
       "              [ 1.95524439e-01, -3.53523158e-02, -1.22898772e-01,\n",
       "                2.27316365e-01,  2.32838228e-01,  1.35062009e-01,\n",
       "               -5.28650358e-02,  1.69461206e-01, -4.46362309e-02,\n",
       "               -2.22698431e-02],\n",
       "              [-3.00820947e-01, -1.25069872e-01,  1.64190024e-01,\n",
       "                2.48658612e-01, -1.14461720e-01, -3.05221349e-01,\n",
       "               -2.72916347e-01,  6.60015494e-02,  5.02164178e-02,\n",
       "                2.43546039e-01],\n",
       "              [-3.25623512e-01,  3.61310914e-02, -2.58977085e-01,\n",
       "                5.60695417e-02, -5.78073785e-03,  1.80292204e-01,\n",
       "               -1.30506782e-02, -3.16404849e-01,  2.28377163e-01,\n",
       "               -2.04725102e-01],\n",
       "              [-2.93809205e-01,  2.57632196e-01, -1.96717843e-01,\n",
       "               -1.35264859e-01, -1.51535109e-01, -2.70597517e-01,\n",
       "                1.83884099e-01, -1.87632024e-01, -1.64881542e-01,\n",
       "               -2.22869575e-01],\n",
       "              [-4.31968346e-02,  1.90351307e-01, -1.81871727e-01,\n",
       "                1.69166818e-01, -9.90605876e-02,  1.59280032e-01,\n",
       "                1.09364778e-01,  2.01191857e-01, -1.83264464e-02,\n",
       "               -2.91887194e-01],\n",
       "              [-2.60553122e-01, -1.56875119e-01, -4.16581184e-02,\n",
       "               -2.36238372e-02,  1.77686647e-01, -6.13450482e-02,\n",
       "               -1.19479999e-01,  6.88023940e-02, -3.70724291e-01,\n",
       "               -4.41086479e-02],\n",
       "              [ 2.82765567e-01, -1.90049157e-01, -1.34130582e-01,\n",
       "               -2.24331841e-01, -3.02926660e-01,  1.22782700e-01,\n",
       "                8.98196772e-02, -1.96325943e-01, -4.22760360e-02,\n",
       "               -2.71340489e-01],\n",
       "              [-7.00887144e-02,  1.01269625e-01,  2.17219964e-01,\n",
       "               -2.30307892e-01,  2.30926871e-01, -3.36723357e-01,\n",
       "               -2.15467066e-01, -1.91172287e-01,  2.50676751e-01,\n",
       "                4.96679498e-03]], dtype=float32)                 ,\n",
       "       array([-0.04513622,  0.04819935,  0.02077615, -0.00998216, -0.00511495,\n",
       "               0.06952433, -0.0450652 ,  0.05144147, -0.04424667, -0.03452232],\n",
       "             dtype=float32)                                                    ],\n",
       "      dtype=object)"
      ]
     },
     "execution_count": 34,
     "metadata": {},
     "output_type": "execute_result"
    }
   ],
   "source": [
    "original_weights = model.get_weights()\n",
    "# convert list to array\n",
    "weights = np.array(original_weights)\n",
    "weights"
   ]
  },
  {
   "cell_type": "code",
   "execution_count": 35,
   "metadata": {},
   "outputs": [
    {
     "data": {
      "text/plain": [
       "(4,)"
      ]
     },
     "execution_count": 35,
     "metadata": {},
     "output_type": "execute_result"
    }
   ],
   "source": [
    "weights.shape"
   ]
  },
  {
   "cell_type": "code",
   "execution_count": 36,
   "metadata": {},
   "outputs": [
    {
     "data": {
      "text/plain": [
       "(784, 64)"
      ]
     },
     "execution_count": 36,
     "metadata": {},
     "output_type": "execute_result"
    }
   ],
   "source": [
    "# weights of first layer\n",
    "weights[0].shape"
   ]
  },
  {
   "cell_type": "code",
   "execution_count": 37,
   "metadata": {},
   "outputs": [
    {
     "data": {
      "text/plain": [
       "(64,)"
      ]
     },
     "execution_count": 37,
     "metadata": {},
     "output_type": "execute_result"
    }
   ],
   "source": [
    "# bias of first layer\n",
    "weights[1].shape"
   ]
  },
  {
   "cell_type": "code",
   "execution_count": 38,
   "metadata": {},
   "outputs": [
    {
     "data": {
      "text/plain": [
       "(64, 10)"
      ]
     },
     "execution_count": 38,
     "metadata": {},
     "output_type": "execute_result"
    }
   ],
   "source": [
    "# weights of second layer\n",
    "weights[2].shape"
   ]
  },
  {
   "cell_type": "code",
   "execution_count": 39,
   "metadata": {},
   "outputs": [
    {
     "data": {
      "text/plain": [
       "(10,)"
      ]
     },
     "execution_count": 39,
     "metadata": {},
     "output_type": "execute_result"
    }
   ],
   "source": [
    "# bias of second layer\n",
    "weights[3].shape"
   ]
  },
  {
   "cell_type": "code",
   "execution_count": 40,
   "metadata": {},
   "outputs": [
    {
     "data": {
      "text/plain": [
       "array([[ 0.0125315 , -0.08046556, -0.05301911, ..., -0.05446045,\n",
       "        -0.05927167, -0.06994961],\n",
       "       [-0.00728518,  0.00892169, -0.05702665, ...,  0.0300811 ,\n",
       "         0.02031308, -0.06408572],\n",
       "       [ 0.07090462, -0.0764684 ,  0.02990752, ..., -0.08081014,\n",
       "         0.03539871,  0.06823724],\n",
       "       ...,\n",
       "       [-0.05701805, -0.04082162,  0.03850032, ..., -0.04733499,\n",
       "        -0.03839022,  0.07370178],\n",
       "       [ 0.02287386,  0.01596382,  0.03305624, ...,  0.06807341,\n",
       "        -0.06486342,  0.03163679],\n",
       "       [ 0.02960955,  0.00081019,  0.03200337, ...,  0.07533667,\n",
       "        -0.07127538, -0.04698471]], dtype=float32)"
      ]
     },
     "execution_count": 40,
     "metadata": {},
     "output_type": "execute_result"
    }
   ],
   "source": [
    "weights[0] "
   ]
  },
  {
   "cell_type": "code",
   "execution_count": 41,
   "metadata": {},
   "outputs": [
    {
     "data": {
      "text/plain": [
       "[array([[ 0.0125315 , -0.08046556, -0.05301911, ..., -0.05446045,\n",
       "         -0.05927167, -0.06994961],\n",
       "        [-0.00728518,  0.00892169, -0.05702665, ...,  0.0300811 ,\n",
       "          0.02031308, -0.06408572],\n",
       "        [ 0.07090462, -0.0764684 ,  0.02990752, ..., -0.08081014,\n",
       "          0.03539871,  0.06823724],\n",
       "        ...,\n",
       "        [-0.05701805, -0.04082162,  0.03850032, ..., -0.04733499,\n",
       "         -0.03839022,  0.07370178],\n",
       "        [ 0.02287386,  0.01596382,  0.03305624, ...,  0.06807341,\n",
       "         -0.06486342,  0.03163679],\n",
       "        [ 0.02960955,  0.00081019,  0.03200337, ...,  0.07533667,\n",
       "         -0.07127538, -0.04698471]], dtype=float32),\n",
       " array([ 0.04504513,  0.05421753,  0.02446254,  0.02246043,  0.04432507,\n",
       "         0.0028891 ,  0.01592813,  0.01983657,  0.05123106,  0.05064083,\n",
       "         0.05798962,  0.00722412,  0.06186702,  0.02966474,  0.07403334,\n",
       "         0.04057912,  0.06111824,  0.04385283,  0.03845746,  0.00741127,\n",
       "         0.07771614,  0.05148039,  0.04648062, -0.02131578,  0.00693611,\n",
       "        -0.00387611, -0.06583074, -0.01220062,  0.02590705,  0.05312829,\n",
       "        -0.019236  , -0.00536428,  0.05852035,  0.06478889,  0.05523847,\n",
       "         0.04002332,  0.03713914,  0.00860064,  0.01910959, -0.02210474,\n",
       "         0.03312811,  0.01910607,  0.00661203,  0.03312882,  0.02894566,\n",
       "         0.04520888, -0.00755192,  0.04224161, -0.00487008,  0.0500591 ,\n",
       "         0.0408107 ,  0.02390608, -0.03724229,  0.03436838, -0.03921381,\n",
       "         0.05567447,  0.05810023,  0.00909459,  0.02038319,  0.0393607 ,\n",
       "         0.04572704,  0.06653944,  0.03503685, -0.0005033 ], dtype=float32)]"
      ]
     },
     "execution_count": 41,
     "metadata": {},
     "output_type": "execute_result"
    }
   ],
   "source": [
    "model.layers[0].get_weights()\n",
    "# displays the weights and biases of first layer"
   ]
  },
  {
   "cell_type": "code",
   "execution_count": 42,
   "metadata": {},
   "outputs": [
    {
     "data": {
      "text/plain": [
       "array([[ 0.0125315 , -0.08046556, -0.05301911, ..., -0.05446045,\n",
       "        -0.05927167, -0.06994961],\n",
       "       [-0.00728518,  0.00892169, -0.05702665, ...,  0.0300811 ,\n",
       "         0.02031308, -0.06408572],\n",
       "       [ 0.07090462, -0.0764684 ,  0.02990752, ..., -0.08081014,\n",
       "         0.03539871,  0.06823724],\n",
       "       ...,\n",
       "       [-0.05701805, -0.04082162,  0.03850032, ..., -0.04733499,\n",
       "        -0.03839022,  0.07370178],\n",
       "       [ 0.02287386,  0.01596382,  0.03305624, ...,  0.06807341,\n",
       "        -0.06486342,  0.03163679],\n",
       "       [ 0.02960955,  0.00081019,  0.03200337, ...,  0.07533667,\n",
       "        -0.07127538, -0.04698471]], dtype=float32)"
      ]
     },
     "execution_count": 42,
     "metadata": {},
     "output_type": "execute_result"
    }
   ],
   "source": [
    "model.layers[0].get_weights()[0]\n",
    "# Displays the weights of first layer"
   ]
  },
  {
   "cell_type": "code",
   "execution_count": 43,
   "metadata": {},
   "outputs": [
    {
     "data": {
      "text/plain": [
       "array([ 0.04504513,  0.05421753,  0.02446254,  0.02246043,  0.04432507,\n",
       "        0.0028891 ,  0.01592813,  0.01983657,  0.05123106,  0.05064083,\n",
       "        0.05798962,  0.00722412,  0.06186702,  0.02966474,  0.07403334,\n",
       "        0.04057912,  0.06111824,  0.04385283,  0.03845746,  0.00741127,\n",
       "        0.07771614,  0.05148039,  0.04648062, -0.02131578,  0.00693611,\n",
       "       -0.00387611, -0.06583074, -0.01220062,  0.02590705,  0.05312829,\n",
       "       -0.019236  , -0.00536428,  0.05852035,  0.06478889,  0.05523847,\n",
       "        0.04002332,  0.03713914,  0.00860064,  0.01910959, -0.02210474,\n",
       "        0.03312811,  0.01910607,  0.00661203,  0.03312882,  0.02894566,\n",
       "        0.04520888, -0.00755192,  0.04224161, -0.00487008,  0.0500591 ,\n",
       "        0.0408107 ,  0.02390608, -0.03724229,  0.03436838, -0.03921381,\n",
       "        0.05567447,  0.05810023,  0.00909459,  0.02038319,  0.0393607 ,\n",
       "        0.04572704,  0.06653944,  0.03503685, -0.0005033 ], dtype=float32)"
      ]
     },
     "execution_count": 43,
     "metadata": {},
     "output_type": "execute_result"
    }
   ],
   "source": [
    "model.layers[0].get_weights()[1]\n",
    "# Displays the biases of first layer"
   ]
  },
  {
   "cell_type": "code",
   "execution_count": 44,
   "metadata": {},
   "outputs": [
    {
     "data": {
      "text/plain": [
       "[array([[ 2.89544053e-02, -5.48185296e-02,  7.64035434e-02,\n",
       "          3.46598141e-02, -2.53627270e-01,  2.99741894e-01,\n",
       "         -3.46845053e-02, -1.58152550e-01,  8.78014043e-02,\n",
       "         -3.52326393e-01],\n",
       "        [-3.14745933e-01, -3.30822706e-01, -2.53073663e-01,\n",
       "          4.63219965e-03,  2.20077842e-01,  1.63196757e-01,\n",
       "          5.99094518e-02,  2.11990606e-02, -3.10574137e-02,\n",
       "         -1.19319767e-01],\n",
       "        [ 1.64044186e-01, -1.42982677e-01,  1.88360199e-01,\n",
       "          1.62221491e-01, -3.45515996e-01,  2.57341653e-01,\n",
       "          1.72735408e-01,  6.06729947e-02, -2.77144276e-02,\n",
       "         -1.11532956e-01],\n",
       "        [ 2.28221387e-01, -3.02884072e-01, -1.63789764e-01,\n",
       "         -1.65896982e-01,  2.23926917e-01,  1.30018905e-01,\n",
       "         -1.03537582e-01,  2.70353109e-01,  3.08483213e-01,\n",
       "          2.15055764e-01],\n",
       "        [ 1.33565962e-01, -4.08707373e-02, -2.13339582e-01,\n",
       "          1.34217158e-01, -1.11746956e-02,  3.42251420e-01,\n",
       "         -9.13415253e-02,  3.36842209e-01,  2.93449432e-01,\n",
       "          6.26647547e-02],\n",
       "        [-9.61634144e-02, -1.64939165e-01,  3.06115657e-01,\n",
       "         -3.30303788e-01,  6.85908422e-02,  1.23578794e-02,\n",
       "          1.88204035e-01,  6.13124073e-02,  2.18165666e-01,\n",
       "          9.90664810e-02],\n",
       "        [ 2.86576748e-01, -2.47448981e-01, -1.36433601e-01,\n",
       "         -1.74107209e-01, -9.77710560e-02, -5.22361137e-02,\n",
       "          9.61446539e-02,  8.88403878e-02, -2.90312201e-01,\n",
       "          3.88289914e-02],\n",
       "        [-2.88831033e-02,  3.29735845e-01, -3.54960412e-01,\n",
       "         -1.72460616e-01,  4.61090840e-02, -2.44303882e-01,\n",
       "         -1.30269393e-01, -1.76857129e-01,  2.35009849e-01,\n",
       "         -9.07024145e-02],\n",
       "        [ 3.00949991e-01,  1.81767270e-01, -3.30789685e-01,\n",
       "         -5.04451990e-02, -2.89797522e-02,  1.48605704e-01,\n",
       "          1.23844258e-01,  1.52766421e-01, -2.52182577e-02,\n",
       "          2.54967928e-01],\n",
       "        [-2.64242619e-01, -1.30708411e-01, -6.68583512e-02,\n",
       "         -1.56264111e-01, -1.41233057e-01,  1.88411891e-01,\n",
       "          1.15072943e-01, -2.88919330e-01, -1.30594790e-01,\n",
       "         -3.27071816e-01],\n",
       "        [ 1.20569542e-01,  2.08375320e-01, -2.16951668e-02,\n",
       "          2.85164386e-01,  7.26111159e-02,  7.60988519e-03,\n",
       "         -3.49073410e-01,  2.85085827e-01, -3.63694906e-01,\n",
       "         -5.11859879e-02],\n",
       "        [ 2.77722508e-01, -4.73446436e-02, -9.72852558e-02,\n",
       "         -3.47484887e-01,  4.26247008e-02, -2.33366802e-01,\n",
       "         -2.78169304e-01,  1.33124128e-01, -2.97588855e-02,\n",
       "         -2.18241557e-01],\n",
       "        [ 2.74525106e-01, -4.64778319e-02,  1.80232093e-01,\n",
       "         -3.10139686e-01,  2.57894635e-01,  1.65582120e-01,\n",
       "         -2.55170524e-01,  1.73177496e-01, -2.13758573e-01,\n",
       "         -2.98450142e-01],\n",
       "        [ 7.46995136e-02, -1.70858935e-01,  1.19984537e-01,\n",
       "         -3.24517339e-01,  9.46810544e-02, -2.85555840e-01,\n",
       "          2.28169203e-01, -2.28962556e-01, -2.27036670e-01,\n",
       "          5.02331816e-02],\n",
       "        [-3.15415770e-01,  9.13309380e-02, -3.57848853e-01,\n",
       "         -1.29868343e-01, -5.10058962e-02,  2.32600663e-02,\n",
       "          1.37791604e-01,  3.17513794e-02, -3.61867666e-01,\n",
       "         -2.36802071e-01],\n",
       "        [ 9.52558368e-02,  3.41779381e-01,  9.30643752e-02,\n",
       "         -1.42528906e-01,  2.40856126e-01, -1.34097427e-01,\n",
       "          1.47584490e-02,  1.90289751e-01,  2.04595014e-01,\n",
       "          2.02963173e-01],\n",
       "        [ 3.16436589e-01, -4.47674207e-02, -8.67544562e-02,\n",
       "         -7.41267726e-02, -4.82855625e-02,  1.94921359e-01,\n",
       "          1.38134554e-01,  2.98724413e-01, -3.41548264e-01,\n",
       "         -5.29133454e-02],\n",
       "        [-3.22348058e-01, -3.60033810e-02,  3.32285374e-01,\n",
       "          2.82271385e-01, -1.82025149e-01, -1.71219587e-01,\n",
       "         -3.61668140e-01,  7.31728375e-02, -2.52348274e-01,\n",
       "          1.72262073e-01],\n",
       "        [-1.81223795e-01,  2.56157815e-01, -1.83537200e-01,\n",
       "         -3.46011639e-01,  4.40667532e-02, -2.82926410e-01,\n",
       "          7.04134405e-02,  2.73066431e-01, -5.13108447e-02,\n",
       "          3.91397059e-01],\n",
       "        [-8.98070708e-02,  2.31876418e-01, -3.10096413e-01,\n",
       "         -8.47066119e-02, -8.98486972e-02, -2.42413133e-01,\n",
       "         -1.98133290e-01,  3.63869481e-02,  4.43781726e-02,\n",
       "         -2.36127973e-01],\n",
       "        [ 2.57489145e-01,  1.12115685e-02,  2.85187185e-01,\n",
       "         -1.81300297e-01,  2.64128335e-02,  2.25721762e-01,\n",
       "          1.21532485e-01,  1.56688273e-01, -2.36537561e-01,\n",
       "          2.29290023e-01],\n",
       "        [-1.48085859e-02,  5.50759882e-02,  1.25409082e-01,\n",
       "          2.55322933e-01, -1.88573748e-01, -2.09345836e-02,\n",
       "         -2.24678125e-03,  3.04791749e-01, -2.32950345e-01,\n",
       "          2.34341040e-01],\n",
       "        [ 2.69124120e-01, -2.19622374e-01, -5.21954261e-02,\n",
       "          2.95119196e-01,  2.30473876e-01, -9.85114351e-02,\n",
       "          1.05623528e-01, -2.27847248e-02, -2.31962681e-01,\n",
       "          3.67443785e-02],\n",
       "        [-2.44449273e-01, -2.65177757e-01, -2.96737671e-01,\n",
       "         -1.82673633e-01,  2.99978573e-02,  1.29609525e-01,\n",
       "          1.39835417e-01, -1.73194841e-01,  3.17483187e-01,\n",
       "          1.35114133e-01],\n",
       "        [ 2.50723213e-03,  2.39448622e-01, -2.96221972e-01,\n",
       "         -2.37571537e-01,  2.11887464e-01, -2.86908329e-01,\n",
       "          9.13527086e-02, -3.36814761e-01, -1.35880157e-01,\n",
       "          5.59954382e-02],\n",
       "        [-1.77794680e-01,  6.26455098e-02,  4.13045175e-02,\n",
       "          2.09438398e-01,  8.53611901e-02,  2.45276064e-01,\n",
       "         -1.86032042e-01, -3.03575456e-01,  2.11034447e-01,\n",
       "          2.15380818e-01],\n",
       "        [ 5.99520914e-02, -3.08217585e-01, -1.13928229e-01,\n",
       "          3.14239740e-01, -1.53249071e-04, -3.22364777e-01,\n",
       "         -2.15177193e-01, -2.73884714e-01,  2.93856114e-01,\n",
       "          2.37987205e-01],\n",
       "        [ 7.02353939e-02,  2.14233518e-01, -1.24431029e-02,\n",
       "          9.88763645e-02,  5.43626063e-02, -1.71472013e-01,\n",
       "          6.02464341e-02,  2.35907376e-01,  1.58333287e-01,\n",
       "          2.17999697e-01],\n",
       "        [-3.11935723e-01,  3.48068744e-01, -6.71587810e-02,\n",
       "          2.81877905e-01, -3.04694712e-01,  1.27215043e-01,\n",
       "          1.09131813e-01, -2.69532412e-01, -1.95283577e-01,\n",
       "          3.10410380e-01],\n",
       "        [-2.35709012e-01,  4.54341210e-02, -2.56722152e-01,\n",
       "         -3.29462826e-01,  3.42036575e-01,  1.79061309e-01,\n",
       "          3.19683343e-01, -1.67656183e-01, -2.35432655e-01,\n",
       "          4.87869456e-02],\n",
       "        [ 9.16090831e-02, -7.29649812e-02, -5.04757538e-02,\n",
       "         -1.68655112e-01,  1.97007671e-01, -3.16349506e-01,\n",
       "          1.62684113e-01,  2.27004349e-01,  2.88678586e-01,\n",
       "          3.98620069e-02],\n",
       "        [-1.82994008e-01, -1.27870023e-01,  1.49829730e-01,\n",
       "         -5.68056777e-02, -9.32426304e-02,  1.18856333e-01,\n",
       "         -2.49806613e-01, -2.86486834e-01,  2.40750790e-01,\n",
       "         -2.71000773e-01],\n",
       "        [-1.89651132e-01, -1.49388999e-01, -2.18678102e-01,\n",
       "         -1.69285521e-01,  2.00574860e-01,  2.70080686e-01,\n",
       "         -1.90935105e-01, -1.34412915e-01, -2.83273369e-01,\n",
       "          2.52926916e-01],\n",
       "        [-7.02185854e-02,  7.12152869e-02,  1.01375282e-01,\n",
       "          3.44087668e-02,  2.23362818e-01, -1.01616912e-01,\n",
       "         -1.07709840e-01,  2.75536060e-01, -3.12436998e-01,\n",
       "         -3.60857278e-01],\n",
       "        [-1.57412931e-01,  2.39597708e-01,  1.55476153e-01,\n",
       "          3.07692029e-02,  1.78973868e-01,  7.87963346e-02,\n",
       "         -1.25656918e-01, -3.32098305e-01, -2.11806685e-01,\n",
       "         -2.20553309e-01],\n",
       "        [ 1.07172742e-01, -6.87126163e-03,  1.64703220e-01,\n",
       "         -2.46143490e-01,  1.77962616e-01,  8.02077502e-02,\n",
       "         -1.96567401e-01, -2.45344594e-01, -7.60682672e-02,\n",
       "          2.01124012e-01],\n",
       "        [-2.16573000e-01, -2.44752482e-01,  5.56512997e-02,\n",
       "         -2.82554209e-01, -8.82228911e-02, -2.67592013e-01,\n",
       "          2.04053670e-01,  3.06510299e-01, -7.79084861e-02,\n",
       "         -3.14548939e-01],\n",
       "        [ 2.54608959e-01,  1.28849551e-01,  1.57525092e-01,\n",
       "          2.17434704e-01, -2.73107618e-01,  2.18615904e-01,\n",
       "          3.37756336e-01, -2.11697921e-01,  3.18993837e-01,\n",
       "          9.74466354e-02],\n",
       "        [ 2.44000927e-01,  2.91158736e-01,  2.59557426e-01,\n",
       "          2.84210406e-02, -1.12363249e-01, -2.09595755e-01,\n",
       "          2.97761619e-01,  2.04599276e-01, -1.57805115e-01,\n",
       "         -2.04067796e-01],\n",
       "        [-2.57650875e-02, -2.38328159e-01,  1.40710101e-01,\n",
       "         -2.63378114e-01, -5.16682118e-02,  1.81856498e-01,\n",
       "          8.60527307e-02,  1.10440239e-01,  3.06197971e-01,\n",
       "          3.15701634e-01],\n",
       "        [-2.70263880e-01,  3.23552042e-01,  6.48163911e-03,\n",
       "          2.41845116e-01, -3.05853784e-01, -1.68749198e-01,\n",
       "          1.27413217e-02,  2.87152052e-01,  1.62683293e-01,\n",
       "         -1.06830217e-01],\n",
       "        [-1.82767510e-01, -3.28865170e-01, -7.87342340e-02,\n",
       "          2.42323875e-01,  1.12371489e-01,  1.80695400e-01,\n",
       "          3.02280277e-01, -1.69176564e-01, -1.54110789e-01,\n",
       "         -2.87406206e-01],\n",
       "        [ 2.16392308e-01, -1.54927164e-01,  2.01364025e-01,\n",
       "         -1.69161215e-01, -2.21190885e-01,  3.44135642e-01,\n",
       "         -3.07758123e-01, -3.34550977e-01,  2.06112131e-01,\n",
       "         -2.18524337e-01],\n",
       "        [-7.33520836e-02,  3.15280557e-01, -1.45848021e-01,\n",
       "          2.18644273e-02, -4.53560390e-02, -3.18136305e-01,\n",
       "         -1.12915924e-02, -1.00028710e-02,  5.75593449e-02,\n",
       "          2.17105612e-01],\n",
       "        [-2.68870026e-01,  1.25424825e-02,  7.78783625e-03,\n",
       "         -3.32071960e-01,  2.38005698e-01, -9.32247341e-02,\n",
       "          7.37487003e-02, -3.22331965e-01,  7.33650429e-03,\n",
       "          7.59617761e-02],\n",
       "        [-6.93753287e-02,  3.05598021e-01,  2.78840870e-01,\n",
       "         -1.88703716e-01,  1.47797570e-01,  8.71110260e-02,\n",
       "         -3.27979058e-01, -2.39514515e-01, -7.40924180e-02,\n",
       "         -2.25244433e-01],\n",
       "        [ 4.09072600e-02,  2.78981537e-01, -2.72657216e-01,\n",
       "         -1.73337638e-01,  1.34980515e-01, -1.14653371e-01,\n",
       "         -1.69999734e-03,  3.99224199e-02,  1.04483917e-01,\n",
       "          5.56795783e-02],\n",
       "        [-7.51619786e-02,  6.99858442e-02,  2.10439801e-01,\n",
       "          2.46467859e-01,  7.30291232e-02, -2.94366449e-01,\n",
       "         -1.08841762e-01,  1.47267252e-01, -3.36353183e-01,\n",
       "         -4.83568609e-02],\n",
       "        [ 2.00580452e-02,  9.25388187e-03,  1.33890897e-01,\n",
       "          2.95199037e-01, -1.59700274e-01, -2.04229191e-01,\n",
       "         -3.10028791e-01,  6.20591789e-02,  3.16977613e-02,\n",
       "         -2.02142537e-01],\n",
       "        [-3.33983064e-01, -2.64976442e-01, -1.16863020e-01,\n",
       "         -2.93732285e-01, -1.42661840e-01, -7.87767768e-02,\n",
       "          1.97005853e-01,  8.38879775e-03, -2.73022413e-01,\n",
       "         -4.89471853e-02],\n",
       "        [ 1.63500756e-01,  2.56429225e-01,  3.99245769e-02,\n",
       "          5.87281957e-02, -3.14212829e-01, -2.44933113e-01,\n",
       "          1.61163867e-01, -2.39898488e-01, -3.13678563e-01,\n",
       "         -2.14359894e-01],\n",
       "        [ 3.87818776e-02, -9.12745893e-02,  3.18561822e-01,\n",
       "         -7.75761604e-02,  2.77969539e-01, -1.27119765e-01,\n",
       "          1.17245533e-01,  1.69891104e-01,  1.19960099e-01,\n",
       "          2.04832882e-01],\n",
       "        [ 2.51128286e-01,  4.16045003e-02, -8.54399875e-02,\n",
       "          2.61850029e-01,  2.29716867e-01,  3.43535058e-02,\n",
       "          2.30956867e-01, -1.33436635e-01,  2.75725394e-01,\n",
       "          2.56359130e-01],\n",
       "        [-2.22921997e-01,  3.16711187e-01, -5.04595265e-02,\n",
       "         -1.58556789e-01,  1.09262876e-01, -2.98250496e-01,\n",
       "          3.12039942e-01, -1.13112099e-01,  1.56617299e-01,\n",
       "         -1.68214053e-01],\n",
       "        [ 2.18649119e-01, -1.28821164e-01,  7.81183019e-02,\n",
       "         -6.39940053e-02, -3.03284764e-01,  5.14842942e-02,\n",
       "         -9.42601115e-02,  7.62641653e-02,  2.63071120e-01,\n",
       "          1.57184243e-01],\n",
       "        [-6.68893531e-02,  5.23976944e-02,  3.42347324e-02,\n",
       "          2.84160644e-01,  7.74495751e-02,  3.00201416e-01,\n",
       "         -2.17164010e-01,  1.08008996e-01, -1.50925085e-01,\n",
       "          2.98732907e-01],\n",
       "        [ 1.95524439e-01, -3.53523158e-02, -1.22898772e-01,\n",
       "          2.27316365e-01,  2.32838228e-01,  1.35062009e-01,\n",
       "         -5.28650358e-02,  1.69461206e-01, -4.46362309e-02,\n",
       "         -2.22698431e-02],\n",
       "        [-3.00820947e-01, -1.25069872e-01,  1.64190024e-01,\n",
       "          2.48658612e-01, -1.14461720e-01, -3.05221349e-01,\n",
       "         -2.72916347e-01,  6.60015494e-02,  5.02164178e-02,\n",
       "          2.43546039e-01],\n",
       "        [-3.25623512e-01,  3.61310914e-02, -2.58977085e-01,\n",
       "          5.60695417e-02, -5.78073785e-03,  1.80292204e-01,\n",
       "         -1.30506782e-02, -3.16404849e-01,  2.28377163e-01,\n",
       "         -2.04725102e-01],\n",
       "        [-2.93809205e-01,  2.57632196e-01, -1.96717843e-01,\n",
       "         -1.35264859e-01, -1.51535109e-01, -2.70597517e-01,\n",
       "          1.83884099e-01, -1.87632024e-01, -1.64881542e-01,\n",
       "         -2.22869575e-01],\n",
       "        [-4.31968346e-02,  1.90351307e-01, -1.81871727e-01,\n",
       "          1.69166818e-01, -9.90605876e-02,  1.59280032e-01,\n",
       "          1.09364778e-01,  2.01191857e-01, -1.83264464e-02,\n",
       "         -2.91887194e-01],\n",
       "        [-2.60553122e-01, -1.56875119e-01, -4.16581184e-02,\n",
       "         -2.36238372e-02,  1.77686647e-01, -6.13450482e-02,\n",
       "         -1.19479999e-01,  6.88023940e-02, -3.70724291e-01,\n",
       "         -4.41086479e-02],\n",
       "        [ 2.82765567e-01, -1.90049157e-01, -1.34130582e-01,\n",
       "         -2.24331841e-01, -3.02926660e-01,  1.22782700e-01,\n",
       "          8.98196772e-02, -1.96325943e-01, -4.22760360e-02,\n",
       "         -2.71340489e-01],\n",
       "        [-7.00887144e-02,  1.01269625e-01,  2.17219964e-01,\n",
       "         -2.30307892e-01,  2.30926871e-01, -3.36723357e-01,\n",
       "         -2.15467066e-01, -1.91172287e-01,  2.50676751e-01,\n",
       "          4.96679498e-03]], dtype=float32),\n",
       " array([-0.04513622,  0.04819935,  0.02077615, -0.00998216, -0.00511495,\n",
       "         0.06952433, -0.0450652 ,  0.05144147, -0.04424667, -0.03452232],\n",
       "       dtype=float32)]"
      ]
     },
     "execution_count": 44,
     "metadata": {},
     "output_type": "execute_result"
    }
   ],
   "source": [
    "model.layers[1].get_weights()\n",
    "# displays the weights and biases of second layer"
   ]
  },
  {
   "cell_type": "markdown",
   "metadata": {},
   "source": [
    "##### Storing and retrieving the weights"
   ]
  },
  {
   "cell_type": "raw",
   "metadata": {},
   "source": [
    "model.save_weights('my_model_weights.h5')\n",
    "recovered_model = model.load_weights('my_model_weights.h5')\n",
    "# model.get_weights()"
   ]
  },
  {
   "cell_type": "markdown",
   "metadata": {},
   "source": [
    "##### Storing and retrieving the models"
   ]
  },
  {
   "cell_type": "raw",
   "metadata": {},
   "source": [
    "model.save('model.h5')\n",
    "loaded_model = keras.models.load_model('model.h5')"
   ]
  },
  {
   "cell_type": "raw",
   "metadata": {},
   "source": [
    "# cloning the models\n",
    "model_cloned = keras.models.clone_model(model)\n",
    "new_weights = model_cloned.get_weights()"
   ]
  },
  {
   "cell_type": "markdown",
   "metadata": {},
   "source": [
    "##### HM model"
   ]
  },
  {
   "cell_type": "code",
   "execution_count": 53,
   "metadata": {},
   "outputs": [],
   "source": [
    "def get_model(): \n",
    "    model = keras.Sequential([\n",
    "        # input layer 784 neurons to first hidden layer with 64 neurons\n",
    "        keras.layers.Dense(64, input_shape = (784,), activation='relu'), \n",
    "        # first hidden layer with 64 neurons\n",
    "        #keras.layers.Dense(64, activation='relu'), \n",
    "        # second hidden layer with 64 neurons\n",
    "        #keras.layers.Dense(64, activation='relu'), \n",
    "        # Output layer with 10 neurons\n",
    "        keras.layers.Dense(10, activation='sigmoid')\n",
    "    ])\n",
    "    model.compile(\n",
    "        optimizer = 'SGD',\n",
    "        loss = 'sparse_categorical_crossentropy',\n",
    "        metrics = ['accuracy']\n",
    "    )\n",
    "    return model"
   ]
  },
  {
   "cell_type": "code",
   "execution_count": 66,
   "metadata": {},
   "outputs": [],
   "source": [
    "class CustomCallback(keras.callbacks.Callback): \n",
    "    iteration = 0\n",
    "    initial_weights = 0\n",
    "    previous_weights = 0\n",
    "    call_hm = 0\n",
    "    call_am = 0\n",
    "    \n",
    "    def on_train_begin(self, logs=None):\n",
    "        self.initial_weights = model_hm.get_weights() \n",
    "        self.initial_weights = np.array(self.initial_weights,dtype=object)\n",
    "        self.previous_weights = self.initial_weights\n",
    "        # Harmonic mean based weights calculation\n",
    "        self.call_hm = np.vectorize(self.apply_hm) \n",
    "        # Arithmetic mean based weights calculation\n",
    "        self.call_am = np.vectorize(self.apply_am) \n",
    "    \n",
    "    def on_train_batch_end(self, epoch, logs=None): \n",
    "        counter = 0\n",
    "        num_layers = len(model_hm.layers)  \n",
    "        current_weights = model_hm.get_weights()\n",
    "        current_weights = np.array(current_weights,dtype=object)        \n",
    "        \n",
    "        for i in range(num_layers):  \n",
    "            # Harmonic mean based update\n",
    "            current_weights[counter] = self.call_hm(self.previous_weights[counter], current_weights[counter])\n",
    "            # Arithmetic mean based update\n",
    "            #current_weights[counter] = self.call_am(self.previous_weights[counter], current_weights[counter])\n",
    "            counter = counter + 2\n",
    "            \n",
    "        updated = current_weights.tolist()   \n",
    "        model_hm.set_weights(updated)\n",
    "        self.previous_weights = current_weights\n",
    "        self.iteration = self.iteration + 1  \n",
    "        \n",
    "    def apply_hm(self, v1,v2):     \n",
    "        if v1==0 or v2==0:\n",
    "            return v2\n",
    "        elif v1>0 and v2>0:\n",
    "            hm = 2*v1*v2/(v1+v2)\n",
    "            min1 = min(v1,v2)\n",
    "            diff = abs(hm-min1)\n",
    "            if v2 > v1:\n",
    "                return v2 + diff\n",
    "            else:\n",
    "                return v2 - diff\n",
    "        elif v1<0 and v2<0:\n",
    "            hm = 2*v1*v2/(v1+v2)\n",
    "            max1 = max(v1,v2)\n",
    "            diff = abs(hm-max1)\n",
    "            if v2 > v1:\n",
    "                return v2 + diff\n",
    "            else:\n",
    "                return v2 - diff\n",
    "        else:\n",
    "            return v2    \n",
    "        \n",
    "    def apply_am(self, v1,v2):     \n",
    "        if v1==0 or v2==0:\n",
    "            return v2\n",
    "        elif v1>0 and v2>0:\n",
    "            am = (v1+v2)/2\n",
    "            min1 = min(v1,v2)\n",
    "            diff = abs(am-min1)\n",
    "            if v2 > v1:\n",
    "                return v2 + diff\n",
    "            else:\n",
    "                return v2 - diff\n",
    "        elif v1<0 and v2<0:\n",
    "            am = (v1+v2)/2\n",
    "            max1 = max(v1,v2)\n",
    "            diff = abs(am-max1)\n",
    "            if v2 > v1:\n",
    "                return v2 + diff\n",
    "            else:\n",
    "                return v2 - diff\n",
    "        else:\n",
    "            return v2    "
   ]
  },
  {
   "cell_type": "markdown",
   "metadata": {},
   "source": [
    "<h3 style=\"color:blue\" align=\"center\">HM adam vs simple adam for GD (full batch)</h3>"
   ]
  },
  {
   "cell_type": "code",
   "execution_count": 72,
   "metadata": {
    "scrolled": true
   },
   "outputs": [
    {
     "name": "stdout",
     "output_type": "stream",
     "text": [
      "Epoch 1/100\n",
      "1/1 [==============================] - 1s 737ms/step - loss: 2.3872 - accuracy: 0.0957\n",
      "Epoch 2/100\n",
      "1/1 [==============================] - 0s 167ms/step - loss: 2.3666 - accuracy: 0.1047\n",
      "Epoch 3/100\n",
      "1/1 [==============================] - 0s 173ms/step - loss: 2.3472 - accuracy: 0.1141\n",
      "Epoch 4/100\n",
      "1/1 [==============================] - 0s 180ms/step - loss: 2.3287 - accuracy: 0.1235\n",
      "Epoch 5/100\n",
      "1/1 [==============================] - 0s 174ms/step - loss: 2.3112 - accuracy: 0.1323\n",
      "Epoch 6/100\n",
      "1/1 [==============================] - 0s 181ms/step - loss: 2.2945 - accuracy: 0.1417\n",
      "Epoch 7/100\n",
      "1/1 [==============================] - 0s 175ms/step - loss: 2.2785 - accuracy: 0.1506\n",
      "Epoch 8/100\n",
      "1/1 [==============================] - 0s 173ms/step - loss: 2.2631 - accuracy: 0.1597\n",
      "Epoch 9/100\n",
      "1/1 [==============================] - 0s 175ms/step - loss: 2.2483 - accuracy: 0.1691\n",
      "Epoch 10/100\n",
      "1/1 [==============================] - 0s 164ms/step - loss: 2.2340 - accuracy: 0.1774\n",
      "Epoch 11/100\n",
      "1/1 [==============================] - 0s 178ms/step - loss: 2.2202 - accuracy: 0.1867\n",
      "Epoch 12/100\n",
      "1/1 [==============================] - 0s 206ms/step - loss: 2.2067 - accuracy: 0.1954\n",
      "Epoch 13/100\n",
      "1/1 [==============================] - 0s 196ms/step - loss: 2.1936 - accuracy: 0.2039\n",
      "Epoch 14/100\n",
      "1/1 [==============================] - 0s 180ms/step - loss: 2.1809 - accuracy: 0.2126\n",
      "Epoch 15/100\n",
      "1/1 [==============================] - 0s 172ms/step - loss: 2.1684 - accuracy: 0.2214\n",
      "Epoch 16/100\n",
      "1/1 [==============================] - 0s 167ms/step - loss: 2.1561 - accuracy: 0.2312\n",
      "Epoch 17/100\n",
      "1/1 [==============================] - 0s 185ms/step - loss: 2.1441 - accuracy: 0.2409\n",
      "Epoch 18/100\n",
      "1/1 [==============================] - 0s 166ms/step - loss: 2.1323 - accuracy: 0.2504\n",
      "Epoch 19/100\n",
      "1/1 [==============================] - 0s 171ms/step - loss: 2.1207 - accuracy: 0.2591\n",
      "Epoch 20/100\n",
      "1/1 [==============================] - 0s 175ms/step - loss: 2.1093 - accuracy: 0.2686\n",
      "Epoch 21/100\n",
      "1/1 [==============================] - 0s 166ms/step - loss: 2.0980 - accuracy: 0.2778\n",
      "Epoch 22/100\n",
      "1/1 [==============================] - 0s 172ms/step - loss: 2.0868 - accuracy: 0.2869\n",
      "Epoch 23/100\n",
      "1/1 [==============================] - 0s 169ms/step - loss: 2.0758 - accuracy: 0.2971\n",
      "Epoch 24/100\n",
      "1/1 [==============================] - 0s 163ms/step - loss: 2.0648 - accuracy: 0.3061\n",
      "Epoch 25/100\n",
      "1/1 [==============================] - 0s 178ms/step - loss: 2.0540 - accuracy: 0.3160\n",
      "Epoch 26/100\n",
      "1/1 [==============================] - 0s 177ms/step - loss: 2.0432 - accuracy: 0.3265\n",
      "Epoch 27/100\n",
      "1/1 [==============================] - 0s 171ms/step - loss: 2.0326 - accuracy: 0.3370\n",
      "Epoch 28/100\n",
      "1/1 [==============================] - 0s 173ms/step - loss: 2.0220 - accuracy: 0.3471\n",
      "Epoch 29/100\n",
      "1/1 [==============================] - 0s 167ms/step - loss: 2.0115 - accuracy: 0.3580\n",
      "Epoch 30/100\n",
      "1/1 [==============================] - 0s 172ms/step - loss: 2.0010 - accuracy: 0.3686\n",
      "Epoch 31/100\n",
      "1/1 [==============================] - 0s 179ms/step - loss: 1.9906 - accuracy: 0.3791\n",
      "Epoch 32/100\n",
      "1/1 [==============================] - 0s 180ms/step - loss: 1.9803 - accuracy: 0.3896\n",
      "Epoch 33/100\n",
      "1/1 [==============================] - 0s 168ms/step - loss: 1.9700 - accuracy: 0.4012\n",
      "Epoch 34/100\n",
      "1/1 [==============================] - 0s 174ms/step - loss: 1.9598 - accuracy: 0.4117\n",
      "Epoch 35/100\n",
      "1/1 [==============================] - 0s 163ms/step - loss: 1.9496 - accuracy: 0.4222\n",
      "Epoch 36/100\n",
      "1/1 [==============================] - 0s 165ms/step - loss: 1.9394 - accuracy: 0.4324\n",
      "Epoch 37/100\n",
      "1/1 [==============================] - 0s 173ms/step - loss: 1.9293 - accuracy: 0.4422\n",
      "Epoch 38/100\n",
      "1/1 [==============================] - 0s 169ms/step - loss: 1.9193 - accuracy: 0.4522\n",
      "Epoch 39/100\n",
      "1/1 [==============================] - 0s 167ms/step - loss: 1.9093 - accuracy: 0.4617\n",
      "Epoch 40/100\n",
      "1/1 [==============================] - 0s 182ms/step - loss: 1.8993 - accuracy: 0.4704\n",
      "Epoch 41/100\n",
      "1/1 [==============================] - 0s 182ms/step - loss: 1.8893 - accuracy: 0.4794\n",
      "Epoch 42/100\n",
      "1/1 [==============================] - 0s 168ms/step - loss: 1.8795 - accuracy: 0.4873\n",
      "Epoch 43/100\n",
      "1/1 [==============================] - 0s 165ms/step - loss: 1.8696 - accuracy: 0.4952\n",
      "Epoch 44/100\n",
      "1/1 [==============================] - 0s 171ms/step - loss: 1.8598 - accuracy: 0.5031\n",
      "Epoch 45/100\n",
      "1/1 [==============================] - 0s 173ms/step - loss: 1.8500 - accuracy: 0.5109\n",
      "Epoch 46/100\n",
      "1/1 [==============================] - 0s 175ms/step - loss: 1.8403 - accuracy: 0.5186\n",
      "Epoch 47/100\n",
      "1/1 [==============================] - 0s 176ms/step - loss: 1.8306 - accuracy: 0.5256\n",
      "Epoch 48/100\n",
      "1/1 [==============================] - 0s 171ms/step - loss: 1.8209 - accuracy: 0.5323\n",
      "Epoch 49/100\n",
      "1/1 [==============================] - 0s 200ms/step - loss: 1.8113 - accuracy: 0.5389\n",
      "Epoch 50/100\n",
      "1/1 [==============================] - 0s 183ms/step - loss: 1.8017 - accuracy: 0.5454\n",
      "Epoch 51/100\n",
      "1/1 [==============================] - 0s 178ms/step - loss: 1.7922 - accuracy: 0.5516\n",
      "Epoch 52/100\n",
      "1/1 [==============================] - 0s 178ms/step - loss: 1.7827 - accuracy: 0.5581\n",
      "Epoch 53/100\n",
      "1/1 [==============================] - 0s 172ms/step - loss: 1.7733 - accuracy: 0.5638\n",
      "Epoch 54/100\n",
      "1/1 [==============================] - 0s 175ms/step - loss: 1.7639 - accuracy: 0.5688\n",
      "Epoch 55/100\n",
      "1/1 [==============================] - 0s 171ms/step - loss: 1.7546 - accuracy: 0.5738\n",
      "Epoch 56/100\n",
      "1/1 [==============================] - 0s 169ms/step - loss: 1.7453 - accuracy: 0.5785\n",
      "Epoch 57/100\n",
      "1/1 [==============================] - 0s 169ms/step - loss: 1.7361 - accuracy: 0.5833\n",
      "Epoch 58/100\n",
      "1/1 [==============================] - 0s 165ms/step - loss: 1.7269 - accuracy: 0.5881\n",
      "Epoch 59/100\n",
      "1/1 [==============================] - 0s 178ms/step - loss: 1.7178 - accuracy: 0.5929\n",
      "Epoch 60/100\n",
      "1/1 [==============================] - 0s 171ms/step - loss: 1.7088 - accuracy: 0.5967\n",
      "Epoch 61/100\n",
      "1/1 [==============================] - 0s 177ms/step - loss: 1.6998 - accuracy: 0.6006\n",
      "Epoch 62/100\n",
      "1/1 [==============================] - 0s 167ms/step - loss: 1.6909 - accuracy: 0.6051\n",
      "Epoch 63/100\n",
      "1/1 [==============================] - 0s 175ms/step - loss: 1.6820 - accuracy: 0.6089\n",
      "Epoch 64/100\n",
      "1/1 [==============================] - 0s 174ms/step - loss: 1.6732 - accuracy: 0.6125\n",
      "Epoch 65/100\n",
      "1/1 [==============================] - 0s 181ms/step - loss: 1.6644 - accuracy: 0.6158\n",
      "Epoch 66/100\n",
      "1/1 [==============================] - 0s 190ms/step - loss: 1.6557 - accuracy: 0.6189\n",
      "Epoch 67/100\n",
      "1/1 [==============================] - 0s 165ms/step - loss: 1.6471 - accuracy: 0.6221\n",
      "Epoch 68/100\n",
      "1/1 [==============================] - 0s 179ms/step - loss: 1.6385 - accuracy: 0.6256\n",
      "Epoch 69/100\n",
      "1/1 [==============================] - 0s 169ms/step - loss: 1.6300 - accuracy: 0.6286\n",
      "Epoch 70/100\n",
      "1/1 [==============================] - 0s 174ms/step - loss: 1.6215 - accuracy: 0.6319\n",
      "Epoch 71/100\n",
      "1/1 [==============================] - 0s 178ms/step - loss: 1.6131 - accuracy: 0.6351\n",
      "Epoch 72/100\n",
      "1/1 [==============================] - 0s 185ms/step - loss: 1.6047 - accuracy: 0.6382\n",
      "Epoch 73/100\n",
      "1/1 [==============================] - 0s 181ms/step - loss: 1.5965 - accuracy: 0.6408\n",
      "Epoch 74/100\n",
      "1/1 [==============================] - 0s 177ms/step - loss: 1.5882 - accuracy: 0.6434\n",
      "Epoch 75/100\n",
      "1/1 [==============================] - 0s 168ms/step - loss: 1.5801 - accuracy: 0.6464\n",
      "Epoch 76/100\n",
      "1/1 [==============================] - 0s 176ms/step - loss: 1.5720 - accuracy: 0.6495\n",
      "Epoch 77/100\n",
      "1/1 [==============================] - 0s 178ms/step - loss: 1.5639 - accuracy: 0.6519\n",
      "Epoch 78/100\n",
      "1/1 [==============================] - 0s 169ms/step - loss: 1.5559 - accuracy: 0.6543\n",
      "Epoch 79/100\n",
      "1/1 [==============================] - 0s 176ms/step - loss: 1.5480 - accuracy: 0.6571\n",
      "Epoch 80/100\n",
      "1/1 [==============================] - 0s 175ms/step - loss: 1.5401 - accuracy: 0.6597\n",
      "Epoch 81/100\n",
      "1/1 [==============================] - 0s 167ms/step - loss: 1.5323 - accuracy: 0.6624\n",
      "Epoch 82/100\n",
      "1/1 [==============================] - 0s 164ms/step - loss: 1.5246 - accuracy: 0.6651\n",
      "Epoch 83/100\n"
     ]
    },
    {
     "name": "stdout",
     "output_type": "stream",
     "text": [
      "1/1 [==============================] - 0s 171ms/step - loss: 1.5169 - accuracy: 0.6678\n",
      "Epoch 84/100\n",
      "1/1 [==============================] - 0s 187ms/step - loss: 1.5092 - accuracy: 0.6701\n",
      "Epoch 85/100\n",
      "1/1 [==============================] - 0s 171ms/step - loss: 1.5017 - accuracy: 0.6724\n",
      "Epoch 86/100\n",
      "1/1 [==============================] - 0s 201ms/step - loss: 1.4941 - accuracy: 0.6750\n",
      "Epoch 87/100\n",
      "1/1 [==============================] - 0s 165ms/step - loss: 1.4867 - accuracy: 0.6775\n",
      "Epoch 88/100\n",
      "1/1 [==============================] - 0s 180ms/step - loss: 1.4793 - accuracy: 0.6797\n",
      "Epoch 89/100\n",
      "1/1 [==============================] - 0s 177ms/step - loss: 1.4719 - accuracy: 0.6817\n",
      "Epoch 90/100\n",
      "1/1 [==============================] - 0s 170ms/step - loss: 1.4646 - accuracy: 0.6840\n",
      "Epoch 91/100\n",
      "1/1 [==============================] - 0s 178ms/step - loss: 1.4574 - accuracy: 0.6862\n",
      "Epoch 92/100\n",
      "1/1 [==============================] - 0s 166ms/step - loss: 1.4502 - accuracy: 0.6883\n",
      "Epoch 93/100\n",
      "1/1 [==============================] - 0s 151ms/step - loss: 1.4431 - accuracy: 0.6902\n",
      "Epoch 94/100\n",
      "1/1 [==============================] - 0s 150ms/step - loss: 1.4360 - accuracy: 0.6922\n",
      "Epoch 95/100\n",
      "1/1 [==============================] - 0s 151ms/step - loss: 1.4290 - accuracy: 0.6940\n",
      "Epoch 96/100\n",
      "1/1 [==============================] - 0s 153ms/step - loss: 1.4221 - accuracy: 0.6959\n",
      "Epoch 97/100\n",
      "1/1 [==============================] - 0s 153ms/step - loss: 1.4151 - accuracy: 0.6976\n",
      "Epoch 98/100\n",
      "1/1 [==============================] - 0s 152ms/step - loss: 1.4083 - accuracy: 0.6995\n",
      "Epoch 99/100\n",
      "1/1 [==============================] - 0s 150ms/step - loss: 1.4015 - accuracy: 0.7010\n",
      "Epoch 100/100\n",
      "1/1 [==============================] - 0s 150ms/step - loss: 1.3948 - accuracy: 0.7027\n",
      "Execution time: 18.123087882995605 seconds\n"
     ]
    }
   ],
   "source": [
    "model_hm = get_model()\n",
    "st = time.time()\n",
    "model_hm.fit(X_train_normalized, y_train, epochs = 500, verbose=1, callbacks=[CustomCallback()], batch_size=60000) \n",
    "et = time.time()\n",
    "elapsed_time = et - st\n",
    "print('Execution time:', elapsed_time, 'seconds')"
   ]
  },
  {
   "cell_type": "code",
   "execution_count": 73,
   "metadata": {
    "scrolled": true
   },
   "outputs": [
    {
     "name": "stdout",
     "output_type": "stream",
     "text": [
      "Epoch 1/100\n",
      "1/1 [==============================] - 1s 600ms/step - loss: 2.3337 - accuracy: 0.1445\n",
      "Epoch 2/100\n",
      "1/1 [==============================] - 0s 126ms/step - loss: 2.3235 - accuracy: 0.1480\n",
      "Epoch 3/100\n",
      "1/1 [==============================] - 0s 145ms/step - loss: 2.3135 - accuracy: 0.1515\n",
      "Epoch 4/100\n",
      "1/1 [==============================] - 0s 131ms/step - loss: 2.3037 - accuracy: 0.1556\n",
      "Epoch 5/100\n",
      "1/1 [==============================] - 0s 147ms/step - loss: 2.2941 - accuracy: 0.1590\n",
      "Epoch 6/100\n",
      "1/1 [==============================] - 0s 131ms/step - loss: 2.2846 - accuracy: 0.1632\n",
      "Epoch 7/100\n",
      "1/1 [==============================] - 0s 127ms/step - loss: 2.2754 - accuracy: 0.1673\n",
      "Epoch 8/100\n",
      "1/1 [==============================] - 0s 129ms/step - loss: 2.2663 - accuracy: 0.1715\n",
      "Epoch 9/100\n",
      "1/1 [==============================] - 0s 138ms/step - loss: 2.2573 - accuracy: 0.1755\n",
      "Epoch 10/100\n",
      "1/1 [==============================] - 0s 133ms/step - loss: 2.2485 - accuracy: 0.1795\n",
      "Epoch 11/100\n",
      "1/1 [==============================] - 0s 126ms/step - loss: 2.2398 - accuracy: 0.1837\n",
      "Epoch 12/100\n",
      "1/1 [==============================] - 0s 135ms/step - loss: 2.2312 - accuracy: 0.1878\n",
      "Epoch 13/100\n",
      "1/1 [==============================] - 0s 128ms/step - loss: 2.2227 - accuracy: 0.1923\n",
      "Epoch 14/100\n",
      "1/1 [==============================] - 0s 129ms/step - loss: 2.2143 - accuracy: 0.1970\n",
      "Epoch 15/100\n",
      "1/1 [==============================] - 0s 126ms/step - loss: 2.2060 - accuracy: 0.2016\n",
      "Epoch 16/100\n",
      "1/1 [==============================] - 0s 133ms/step - loss: 2.1978 - accuracy: 0.2062\n",
      "Epoch 17/100\n",
      "1/1 [==============================] - 0s 130ms/step - loss: 2.1897 - accuracy: 0.2116\n",
      "Epoch 18/100\n",
      "1/1 [==============================] - 0s 121ms/step - loss: 2.1816 - accuracy: 0.2167\n",
      "Epoch 19/100\n",
      "1/1 [==============================] - 0s 129ms/step - loss: 2.1736 - accuracy: 0.2223\n",
      "Epoch 20/100\n",
      "1/1 [==============================] - 0s 140ms/step - loss: 2.1657 - accuracy: 0.2283\n",
      "Epoch 21/100\n",
      "1/1 [==============================] - 0s 136ms/step - loss: 2.1578 - accuracy: 0.2353\n",
      "Epoch 22/100\n",
      "1/1 [==============================] - 0s 133ms/step - loss: 2.1500 - accuracy: 0.2419\n",
      "Epoch 23/100\n",
      "1/1 [==============================] - 0s 124ms/step - loss: 2.1423 - accuracy: 0.2482\n",
      "Epoch 24/100\n",
      "1/1 [==============================] - 0s 127ms/step - loss: 2.1346 - accuracy: 0.2557\n",
      "Epoch 25/100\n",
      "1/1 [==============================] - 0s 128ms/step - loss: 2.1269 - accuracy: 0.2629\n",
      "Epoch 26/100\n",
      "1/1 [==============================] - 0s 133ms/step - loss: 2.1193 - accuracy: 0.2703\n",
      "Epoch 27/100\n",
      "1/1 [==============================] - 0s 148ms/step - loss: 2.1117 - accuracy: 0.2776\n",
      "Epoch 28/100\n",
      "1/1 [==============================] - 0s 122ms/step - loss: 2.1042 - accuracy: 0.2854\n",
      "Epoch 29/100\n",
      "1/1 [==============================] - 0s 124ms/step - loss: 2.0967 - accuracy: 0.2935\n",
      "Epoch 30/100\n",
      "1/1 [==============================] - 0s 127ms/step - loss: 2.0892 - accuracy: 0.3027\n",
      "Epoch 31/100\n",
      "1/1 [==============================] - 0s 121ms/step - loss: 2.0818 - accuracy: 0.3117\n",
      "Epoch 32/100\n",
      "1/1 [==============================] - 0s 134ms/step - loss: 2.0744 - accuracy: 0.3205\n",
      "Epoch 33/100\n",
      "1/1 [==============================] - 0s 131ms/step - loss: 2.0670 - accuracy: 0.3298\n",
      "Epoch 34/100\n",
      "1/1 [==============================] - 0s 131ms/step - loss: 2.0597 - accuracy: 0.3393\n",
      "Epoch 35/100\n",
      "1/1 [==============================] - 0s 145ms/step - loss: 2.0524 - accuracy: 0.3487\n",
      "Epoch 36/100\n",
      "1/1 [==============================] - 0s 130ms/step - loss: 2.0451 - accuracy: 0.3584\n",
      "Epoch 37/100\n",
      "1/1 [==============================] - 0s 128ms/step - loss: 2.0378 - accuracy: 0.3677\n",
      "Epoch 38/100\n",
      "1/1 [==============================] - 0s 136ms/step - loss: 2.0305 - accuracy: 0.3774\n",
      "Epoch 39/100\n",
      "1/1 [==============================] - 0s 131ms/step - loss: 2.0233 - accuracy: 0.3865\n",
      "Epoch 40/100\n",
      "1/1 [==============================] - 0s 133ms/step - loss: 2.0161 - accuracy: 0.3954\n",
      "Epoch 41/100\n",
      "1/1 [==============================] - 0s 134ms/step - loss: 2.0089 - accuracy: 0.4038\n",
      "Epoch 42/100\n",
      "1/1 [==============================] - 0s 134ms/step - loss: 2.0018 - accuracy: 0.4127\n",
      "Epoch 43/100\n",
      "1/1 [==============================] - 0s 127ms/step - loss: 1.9947 - accuracy: 0.4220\n",
      "Epoch 44/100\n",
      "1/1 [==============================] - 0s 126ms/step - loss: 1.9875 - accuracy: 0.4304\n",
      "Epoch 45/100\n",
      "1/1 [==============================] - 0s 125ms/step - loss: 1.9805 - accuracy: 0.4381\n",
      "Epoch 46/100\n",
      "1/1 [==============================] - 0s 125ms/step - loss: 1.9734 - accuracy: 0.4459\n",
      "Epoch 47/100\n",
      "1/1 [==============================] - 0s 129ms/step - loss: 1.9664 - accuracy: 0.4536\n",
      "Epoch 48/100\n",
      "1/1 [==============================] - 0s 130ms/step - loss: 1.9593 - accuracy: 0.4611\n",
      "Epoch 49/100\n",
      "1/1 [==============================] - 0s 125ms/step - loss: 1.9523 - accuracy: 0.4686\n",
      "Epoch 50/100\n",
      "1/1 [==============================] - 0s 131ms/step - loss: 1.9454 - accuracy: 0.4751\n",
      "Epoch 51/100\n",
      "1/1 [==============================] - 0s 137ms/step - loss: 1.9384 - accuracy: 0.4819\n",
      "Epoch 52/100\n",
      "1/1 [==============================] - 0s 133ms/step - loss: 1.9315 - accuracy: 0.4883\n",
      "Epoch 53/100\n",
      "1/1 [==============================] - 0s 128ms/step - loss: 1.9246 - accuracy: 0.4944\n",
      "Epoch 54/100\n",
      "1/1 [==============================] - 0s 132ms/step - loss: 1.9177 - accuracy: 0.5000\n",
      "Epoch 55/100\n",
      "1/1 [==============================] - 0s 135ms/step - loss: 1.9109 - accuracy: 0.5056\n",
      "Epoch 56/100\n",
      "1/1 [==============================] - 0s 130ms/step - loss: 1.9041 - accuracy: 0.5116\n",
      "Epoch 57/100\n",
      "1/1 [==============================] - 0s 129ms/step - loss: 1.8973 - accuracy: 0.5166\n",
      "Epoch 58/100\n",
      "1/1 [==============================] - 0s 147ms/step - loss: 1.8905 - accuracy: 0.5216\n",
      "Epoch 59/100\n",
      "1/1 [==============================] - 0s 152ms/step - loss: 1.8837 - accuracy: 0.5259\n",
      "Epoch 60/100\n",
      "1/1 [==============================] - 0s 154ms/step - loss: 1.8770 - accuracy: 0.5303\n",
      "Epoch 61/100\n",
      "1/1 [==============================] - 0s 155ms/step - loss: 1.8703 - accuracy: 0.5351\n",
      "Epoch 62/100\n",
      "1/1 [==============================] - 0s 128ms/step - loss: 1.8637 - accuracy: 0.5401\n",
      "Epoch 63/100\n",
      "1/1 [==============================] - 0s 144ms/step - loss: 1.8570 - accuracy: 0.5440\n",
      "Epoch 64/100\n",
      "1/1 [==============================] - 0s 134ms/step - loss: 1.8504 - accuracy: 0.5481\n",
      "Epoch 65/100\n",
      "1/1 [==============================] - 0s 130ms/step - loss: 1.8438 - accuracy: 0.5522\n",
      "Epoch 66/100\n",
      "1/1 [==============================] - 0s 132ms/step - loss: 1.8373 - accuracy: 0.5559\n",
      "Epoch 67/100\n",
      "1/1 [==============================] - 0s 146ms/step - loss: 1.8307 - accuracy: 0.5594\n",
      "Epoch 68/100\n",
      "1/1 [==============================] - 0s 136ms/step - loss: 1.8242 - accuracy: 0.5636\n",
      "Epoch 69/100\n",
      "1/1 [==============================] - 0s 134ms/step - loss: 1.8177 - accuracy: 0.5674\n",
      "Epoch 70/100\n",
      "1/1 [==============================] - 0s 124ms/step - loss: 1.8113 - accuracy: 0.5709\n",
      "Epoch 71/100\n",
      "1/1 [==============================] - 0s 128ms/step - loss: 1.8048 - accuracy: 0.5742\n",
      "Epoch 72/100\n",
      "1/1 [==============================] - 0s 139ms/step - loss: 1.7984 - accuracy: 0.5770\n",
      "Epoch 73/100\n",
      "1/1 [==============================] - 0s 134ms/step - loss: 1.7921 - accuracy: 0.5799\n",
      "Epoch 74/100\n",
      "1/1 [==============================] - 0s 148ms/step - loss: 1.7857 - accuracy: 0.5829\n",
      "Epoch 75/100\n",
      "1/1 [==============================] - 0s 135ms/step - loss: 1.7794 - accuracy: 0.5854\n",
      "Epoch 76/100\n",
      "1/1 [==============================] - 0s 138ms/step - loss: 1.7731 - accuracy: 0.5884\n",
      "Epoch 77/100\n",
      "1/1 [==============================] - 0s 138ms/step - loss: 1.7668 - accuracy: 0.5909\n",
      "Epoch 78/100\n",
      "1/1 [==============================] - 0s 129ms/step - loss: 1.7606 - accuracy: 0.5936\n",
      "Epoch 79/100\n",
      "1/1 [==============================] - 0s 140ms/step - loss: 1.7543 - accuracy: 0.5969\n",
      "Epoch 80/100\n",
      "1/1 [==============================] - 0s 137ms/step - loss: 1.7481 - accuracy: 0.5992\n",
      "Epoch 81/100\n",
      "1/1 [==============================] - 0s 145ms/step - loss: 1.7420 - accuracy: 0.6017\n",
      "Epoch 82/100\n",
      "1/1 [==============================] - 0s 128ms/step - loss: 1.7358 - accuracy: 0.6041\n",
      "Epoch 83/100\n"
     ]
    },
    {
     "name": "stdout",
     "output_type": "stream",
     "text": [
      "1/1 [==============================] - 0s 140ms/step - loss: 1.7297 - accuracy: 0.6065\n",
      "Epoch 84/100\n",
      "1/1 [==============================] - 0s 135ms/step - loss: 1.7236 - accuracy: 0.6089\n",
      "Epoch 85/100\n",
      "1/1 [==============================] - 0s 137ms/step - loss: 1.7175 - accuracy: 0.6114\n",
      "Epoch 86/100\n",
      "1/1 [==============================] - 0s 129ms/step - loss: 1.7115 - accuracy: 0.6134\n",
      "Epoch 87/100\n",
      "1/1 [==============================] - 0s 127ms/step - loss: 1.7055 - accuracy: 0.6153\n",
      "Epoch 88/100\n",
      "1/1 [==============================] - 0s 136ms/step - loss: 1.6995 - accuracy: 0.6174\n",
      "Epoch 89/100\n",
      "1/1 [==============================] - 0s 144ms/step - loss: 1.6935 - accuracy: 0.6195\n",
      "Epoch 90/100\n",
      "1/1 [==============================] - 0s 129ms/step - loss: 1.6875 - accuracy: 0.6217\n",
      "Epoch 91/100\n",
      "1/1 [==============================] - 0s 132ms/step - loss: 1.6816 - accuracy: 0.6238\n",
      "Epoch 92/100\n",
      "1/1 [==============================] - 0s 130ms/step - loss: 1.6757 - accuracy: 0.6259\n",
      "Epoch 93/100\n",
      "1/1 [==============================] - 0s 121ms/step - loss: 1.6699 - accuracy: 0.6277\n",
      "Epoch 94/100\n",
      "1/1 [==============================] - 0s 109ms/step - loss: 1.6640 - accuracy: 0.6298\n",
      "Epoch 95/100\n",
      "1/1 [==============================] - 0s 114ms/step - loss: 1.6582 - accuracy: 0.6315\n",
      "Epoch 96/100\n",
      "1/1 [==============================] - 0s 115ms/step - loss: 1.6524 - accuracy: 0.6334\n",
      "Epoch 97/100\n",
      "1/1 [==============================] - 0s 116ms/step - loss: 1.6466 - accuracy: 0.6355\n",
      "Epoch 98/100\n",
      "1/1 [==============================] - 0s 118ms/step - loss: 1.6409 - accuracy: 0.6374\n",
      "Epoch 99/100\n",
      "1/1 [==============================] - 0s 110ms/step - loss: 1.6352 - accuracy: 0.6393\n",
      "Epoch 100/100\n",
      "1/1 [==============================] - 0s 113ms/step - loss: 1.6295 - accuracy: 0.6410\n",
      "Execution time: 14.000985145568848 seconds\n"
     ]
    }
   ],
   "source": [
    "model_wihtout_hm = get_model() \n",
    "st = time.time()\n",
    "model_wihtout_hm.fit(X_train_normalized, y_train, epochs = 100, verbose=1, batch_size=60000) \n",
    "et = time.time()\n",
    "elapsed_time = et - st\n",
    "print('Execution time:', elapsed_time, 'seconds')"
   ]
  },
  {
   "cell_type": "code",
   "execution_count": 58,
   "metadata": {
    "scrolled": true
   },
   "outputs": [
    {
     "name": "stdout",
     "output_type": "stream",
     "text": [
      "Epoch 1/100\n",
      "1/1 [==============================] - 1s 658ms/step - loss: 2.4525 - accuracy: 0.0800\n",
      "Epoch 2/100\n",
      "1/1 [==============================] - 0s 171ms/step - loss: 2.4381 - accuracy: 0.0811\n",
      "Epoch 3/100\n",
      "1/1 [==============================] - 0s 172ms/step - loss: 2.4244 - accuracy: 0.0829\n",
      "Epoch 4/100\n",
      "1/1 [==============================] - 0s 190ms/step - loss: 2.4113 - accuracy: 0.0857\n",
      "Epoch 5/100\n",
      "1/1 [==============================] - 0s 197ms/step - loss: 2.3988 - accuracy: 0.0884\n",
      "Epoch 6/100\n",
      "1/1 [==============================] - 0s 165ms/step - loss: 2.3868 - accuracy: 0.0918\n",
      "Epoch 7/100\n",
      "1/1 [==============================] - 0s 203ms/step - loss: 2.3752 - accuracy: 0.0949\n",
      "Epoch 8/100\n",
      "1/1 [==============================] - 0s 168ms/step - loss: 2.3641 - accuracy: 0.0986\n",
      "Epoch 9/100\n",
      "1/1 [==============================] - 0s 182ms/step - loss: 2.3532 - accuracy: 0.1027\n",
      "Epoch 10/100\n",
      "1/1 [==============================] - 0s 192ms/step - loss: 2.3427 - accuracy: 0.1069\n",
      "Epoch 11/100\n",
      "1/1 [==============================] - 0s 173ms/step - loss: 2.3325 - accuracy: 0.1120\n",
      "Epoch 12/100\n",
      "1/1 [==============================] - 0s 184ms/step - loss: 2.3226 - accuracy: 0.1171\n",
      "Epoch 13/100\n",
      "1/1 [==============================] - 0s 178ms/step - loss: 2.3128 - accuracy: 0.1223\n",
      "Epoch 14/100\n",
      "1/1 [==============================] - 0s 180ms/step - loss: 2.3033 - accuracy: 0.1273\n",
      "Epoch 15/100\n",
      "1/1 [==============================] - 0s 185ms/step - loss: 2.2940 - accuracy: 0.1323\n",
      "Epoch 16/100\n",
      "1/1 [==============================] - 0s 206ms/step - loss: 2.2849 - accuracy: 0.1376\n",
      "Epoch 17/100\n",
      "1/1 [==============================] - 0s 185ms/step - loss: 2.2760 - accuracy: 0.1434\n",
      "Epoch 18/100\n",
      "1/1 [==============================] - 0s 185ms/step - loss: 2.2672 - accuracy: 0.1493\n",
      "Epoch 19/100\n",
      "1/1 [==============================] - 0s 174ms/step - loss: 2.2585 - accuracy: 0.1549\n",
      "Epoch 20/100\n",
      "1/1 [==============================] - 0s 176ms/step - loss: 2.2500 - accuracy: 0.1602\n",
      "Epoch 21/100\n",
      "1/1 [==============================] - 0s 171ms/step - loss: 2.2416 - accuracy: 0.1669\n",
      "Epoch 22/100\n",
      "1/1 [==============================] - 0s 193ms/step - loss: 2.2334 - accuracy: 0.1728\n",
      "Epoch 23/100\n",
      "1/1 [==============================] - 0s 203ms/step - loss: 2.2252 - accuracy: 0.1788\n",
      "Epoch 24/100\n",
      "1/1 [==============================] - 0s 188ms/step - loss: 2.2171 - accuracy: 0.1852\n",
      "Epoch 25/100\n",
      "1/1 [==============================] - 0s 189ms/step - loss: 2.2092 - accuracy: 0.1917\n",
      "Epoch 26/100\n",
      "1/1 [==============================] - 0s 183ms/step - loss: 2.2013 - accuracy: 0.1985\n",
      "Epoch 27/100\n",
      "1/1 [==============================] - 0s 189ms/step - loss: 2.1935 - accuracy: 0.2052\n",
      "Epoch 28/100\n",
      "1/1 [==============================] - 0s 178ms/step - loss: 2.1858 - accuracy: 0.2118\n",
      "Epoch 29/100\n",
      "1/1 [==============================] - 0s 181ms/step - loss: 2.1781 - accuracy: 0.2182\n",
      "Epoch 30/100\n",
      "1/1 [==============================] - 0s 179ms/step - loss: 2.1706 - accuracy: 0.2258\n",
      "Epoch 31/100\n",
      "1/1 [==============================] - 0s 168ms/step - loss: 2.1631 - accuracy: 0.2333\n",
      "Epoch 32/100\n",
      "1/1 [==============================] - 0s 181ms/step - loss: 2.1556 - accuracy: 0.2400\n",
      "Epoch 33/100\n",
      "1/1 [==============================] - 0s 174ms/step - loss: 2.1482 - accuracy: 0.2473\n",
      "Epoch 34/100\n",
      "1/1 [==============================] - 0s 172ms/step - loss: 2.1409 - accuracy: 0.2554\n",
      "Epoch 35/100\n",
      "1/1 [==============================] - 0s 178ms/step - loss: 2.1336 - accuracy: 0.2629\n",
      "Epoch 36/100\n",
      "1/1 [==============================] - 0s 170ms/step - loss: 2.1264 - accuracy: 0.2707\n",
      "Epoch 37/100\n",
      "1/1 [==============================] - 0s 175ms/step - loss: 2.1192 - accuracy: 0.2788\n",
      "Epoch 38/100\n",
      "1/1 [==============================] - 0s 189ms/step - loss: 2.1121 - accuracy: 0.2867\n",
      "Epoch 39/100\n",
      "1/1 [==============================] - 0s 216ms/step - loss: 2.1050 - accuracy: 0.2947\n",
      "Epoch 40/100\n",
      "1/1 [==============================] - 0s 194ms/step - loss: 2.0979 - accuracy: 0.3020\n",
      "Epoch 41/100\n",
      "1/1 [==============================] - 0s 173ms/step - loss: 2.0909 - accuracy: 0.3092\n",
      "Epoch 42/100\n",
      "1/1 [==============================] - 0s 189ms/step - loss: 2.0839 - accuracy: 0.3167\n",
      "Epoch 43/100\n",
      "1/1 [==============================] - 0s 189ms/step - loss: 2.0770 - accuracy: 0.3243\n",
      "Epoch 44/100\n",
      "1/1 [==============================] - 0s 201ms/step - loss: 2.0701 - accuracy: 0.3309\n",
      "Epoch 45/100\n",
      "1/1 [==============================] - 0s 184ms/step - loss: 2.0632 - accuracy: 0.3369\n",
      "Epoch 46/100\n",
      "1/1 [==============================] - 0s 173ms/step - loss: 2.0564 - accuracy: 0.3433\n",
      "Epoch 47/100\n",
      "1/1 [==============================] - 0s 205ms/step - loss: 2.0496 - accuracy: 0.3484\n",
      "Epoch 48/100\n",
      "1/1 [==============================] - 0s 183ms/step - loss: 2.0428 - accuracy: 0.3541\n",
      "Epoch 49/100\n",
      "1/1 [==============================] - 0s 174ms/step - loss: 2.0361 - accuracy: 0.3595\n",
      "Epoch 50/100\n",
      "1/1 [==============================] - 0s 169ms/step - loss: 2.0294 - accuracy: 0.3650\n",
      "Epoch 51/100\n",
      "1/1 [==============================] - 0s 206ms/step - loss: 2.0227 - accuracy: 0.3701\n",
      "Epoch 52/100\n",
      "1/1 [==============================] - 0s 189ms/step - loss: 2.0160 - accuracy: 0.3749\n",
      "Epoch 53/100\n",
      "1/1 [==============================] - 0s 179ms/step - loss: 2.0094 - accuracy: 0.3798\n",
      "Epoch 54/100\n",
      "1/1 [==============================] - 0s 168ms/step - loss: 2.0028 - accuracy: 0.3846\n",
      "Epoch 55/100\n",
      "1/1 [==============================] - 0s 176ms/step - loss: 1.9962 - accuracy: 0.3891\n",
      "Epoch 56/100\n",
      "1/1 [==============================] - 0s 196ms/step - loss: 1.9897 - accuracy: 0.3941\n",
      "Epoch 57/100\n",
      "1/1 [==============================] - 0s 167ms/step - loss: 1.9832 - accuracy: 0.3984\n",
      "Epoch 58/100\n",
      "1/1 [==============================] - 0s 176ms/step - loss: 1.9767 - accuracy: 0.4033\n",
      "Epoch 59/100\n",
      "1/1 [==============================] - 0s 178ms/step - loss: 1.9702 - accuracy: 0.4076\n",
      "Epoch 60/100\n",
      "1/1 [==============================] - 0s 201ms/step - loss: 1.9637 - accuracy: 0.4116\n",
      "Epoch 61/100\n",
      "1/1 [==============================] - 0s 221ms/step - loss: 1.9573 - accuracy: 0.4156\n",
      "Epoch 62/100\n",
      "1/1 [==============================] - 0s 173ms/step - loss: 1.9509 - accuracy: 0.4196\n",
      "Epoch 63/100\n",
      "1/1 [==============================] - 0s 178ms/step - loss: 1.9445 - accuracy: 0.4238\n",
      "Epoch 64/100\n",
      "1/1 [==============================] - 0s 175ms/step - loss: 1.9382 - accuracy: 0.4281\n",
      "Epoch 65/100\n",
      "1/1 [==============================] - 0s 179ms/step - loss: 1.9318 - accuracy: 0.4317\n",
      "Epoch 66/100\n",
      "1/1 [==============================] - 0s 177ms/step - loss: 1.9255 - accuracy: 0.4354\n",
      "Epoch 67/100\n",
      "1/1 [==============================] - 0s 177ms/step - loss: 1.9192 - accuracy: 0.4389\n",
      "Epoch 68/100\n",
      "1/1 [==============================] - 0s 173ms/step - loss: 1.9130 - accuracy: 0.4428\n",
      "Epoch 69/100\n",
      "1/1 [==============================] - 0s 203ms/step - loss: 1.9067 - accuracy: 0.4465\n",
      "Epoch 70/100\n",
      "1/1 [==============================] - 0s 186ms/step - loss: 1.9005 - accuracy: 0.4509\n",
      "Epoch 71/100\n",
      "1/1 [==============================] - 0s 178ms/step - loss: 1.8943 - accuracy: 0.4546\n",
      "Epoch 72/100\n",
      "1/1 [==============================] - 0s 183ms/step - loss: 1.8881 - accuracy: 0.4581\n",
      "Epoch 73/100\n",
      "1/1 [==============================] - 0s 166ms/step - loss: 1.8819 - accuracy: 0.4617\n",
      "Epoch 74/100\n",
      "1/1 [==============================] - 0s 173ms/step - loss: 1.8758 - accuracy: 0.4654\n",
      "Epoch 75/100\n",
      "1/1 [==============================] - 0s 185ms/step - loss: 1.8697 - accuracy: 0.4692\n",
      "Epoch 76/100\n",
      "1/1 [==============================] - 0s 174ms/step - loss: 1.8636 - accuracy: 0.4728\n",
      "Epoch 77/100\n",
      "1/1 [==============================] - 0s 173ms/step - loss: 1.8575 - accuracy: 0.4761\n",
      "Epoch 78/100\n",
      "1/1 [==============================] - 0s 182ms/step - loss: 1.8514 - accuracy: 0.4793\n",
      "Epoch 79/100\n",
      "1/1 [==============================] - 0s 176ms/step - loss: 1.8454 - accuracy: 0.4822\n",
      "Epoch 80/100\n",
      "1/1 [==============================] - 0s 203ms/step - loss: 1.8394 - accuracy: 0.4858\n",
      "Epoch 81/100\n",
      "1/1 [==============================] - 0s 188ms/step - loss: 1.8334 - accuracy: 0.4892\n",
      "Epoch 82/100\n",
      "1/1 [==============================] - 0s 174ms/step - loss: 1.8274 - accuracy: 0.4925\n",
      "Epoch 83/100\n"
     ]
    },
    {
     "name": "stdout",
     "output_type": "stream",
     "text": [
      "1/1 [==============================] - 0s 175ms/step - loss: 1.8214 - accuracy: 0.4958\n",
      "Epoch 84/100\n",
      "1/1 [==============================] - 0s 184ms/step - loss: 1.8155 - accuracy: 0.4990\n",
      "Epoch 85/100\n",
      "1/1 [==============================] - 0s 219ms/step - loss: 1.8095 - accuracy: 0.5023\n",
      "Epoch 86/100\n",
      "1/1 [==============================] - 0s 189ms/step - loss: 1.8036 - accuracy: 0.5054\n",
      "Epoch 87/100\n",
      "1/1 [==============================] - 0s 203ms/step - loss: 1.7978 - accuracy: 0.5086\n",
      "Epoch 88/100\n",
      "1/1 [==============================] - 0s 191ms/step - loss: 1.7919 - accuracy: 0.5116\n",
      "Epoch 89/100\n",
      "1/1 [==============================] - 0s 186ms/step - loss: 1.7860 - accuracy: 0.5146\n",
      "Epoch 90/100\n",
      "1/1 [==============================] - 0s 234ms/step - loss: 1.7802 - accuracy: 0.5173\n",
      "Epoch 91/100\n",
      "1/1 [==============================] - 0s 182ms/step - loss: 1.7744 - accuracy: 0.5206\n",
      "Epoch 92/100\n",
      "1/1 [==============================] - 0s 181ms/step - loss: 1.7686 - accuracy: 0.5238\n",
      "Epoch 93/100\n",
      "1/1 [==============================] - 0s 170ms/step - loss: 1.7629 - accuracy: 0.5268\n",
      "Epoch 94/100\n",
      "1/1 [==============================] - 0s 175ms/step - loss: 1.7571 - accuracy: 0.5299\n",
      "Epoch 95/100\n",
      "1/1 [==============================] - 0s 179ms/step - loss: 1.7514 - accuracy: 0.5328\n",
      "Epoch 96/100\n",
      "1/1 [==============================] - 0s 164ms/step - loss: 1.7457 - accuracy: 0.5355\n",
      "Epoch 97/100\n",
      "1/1 [==============================] - 0s 150ms/step - loss: 1.7400 - accuracy: 0.5386\n",
      "Epoch 98/100\n",
      "1/1 [==============================] - 0s 160ms/step - loss: 1.7344 - accuracy: 0.5416\n",
      "Epoch 99/100\n",
      "1/1 [==============================] - 0s 156ms/step - loss: 1.7287 - accuracy: 0.5447\n",
      "Epoch 100/100\n",
      "1/1 [==============================] - 0s 187ms/step - loss: 1.7231 - accuracy: 0.5474\n"
     ]
    },
    {
     "data": {
      "text/plain": [
       "<keras.callbacks.History at 0x2106fa54250>"
      ]
     },
     "execution_count": 58,
     "metadata": {},
     "output_type": "execute_result"
    }
   ],
   "source": [
    "model_with_am = get_model() \n",
    "st = time.time()\n",
    "model_with_am.fit(X_train_normalized, y_train, epochs = 100, verbose=1, callbacks=[CustomCallback()], batch_size=60000) \n",
    "et = time.time()\n",
    "elapsed_time = et - st\n",
    "print('Execution time:', elapsed_time, 'seconds')"
   ]
  },
  {
   "cell_type": "markdown",
   "metadata": {},
   "source": [
    "###### Testing the model"
   ]
  },
  {
   "cell_type": "code",
   "execution_count": 63,
   "metadata": {},
   "outputs": [
    {
     "name": "stdout",
     "output_type": "stream",
     "text": [
      "313/313 [==============================] - 0s 967us/step - loss: 0.1343 - accuracy: 0.9595\n"
     ]
    },
    {
     "data": {
      "text/plain": [
       "[0.13434132933616638, 0.9595000147819519]"
      ]
     },
     "execution_count": 63,
     "metadata": {},
     "output_type": "execute_result"
    }
   ],
   "source": [
    "model_wihtout_hm.evaluate(X_test_normalized, y_test)"
   ]
  },
  {
   "cell_type": "code",
   "execution_count": 64,
   "metadata": {},
   "outputs": [
    {
     "name": "stdout",
     "output_type": "stream",
     "text": [
      "313/313 [==============================] - 0s 1ms/step - loss: 0.1155 - accuracy: 0.9651\n"
     ]
    },
    {
     "data": {
      "text/plain": [
       "[0.11554138362407684, 0.9650999903678894]"
      ]
     },
     "execution_count": 64,
     "metadata": {},
     "output_type": "execute_result"
    }
   ],
   "source": [
    "model_hm.evaluate(X_test_normalized, y_test)"
   ]
  },
  {
   "cell_type": "markdown",
   "metadata": {},
   "source": [
    "Let us predict for the first image in the testing set"
   ]
  },
  {
   "cell_type": "code",
   "execution_count": 65,
   "metadata": {},
   "outputs": [
    {
     "name": "stdout",
     "output_type": "stream",
     "text": [
      "313/313 [==============================] - 0s 884us/step\n"
     ]
    },
    {
     "data": {
      "text/plain": [
       "array([[4.2954531e-02, 8.2770834e-04, 6.9503522e-01, ..., 9.9994183e-01,\n",
       "        3.3725902e-01, 7.8947824e-01],\n",
       "       [8.5808557e-01, 9.9728149e-01, 9.9999946e-01, ..., 1.1774305e-06,\n",
       "        5.8757854e-01, 3.6862730e-03],\n",
       "       [9.2378939e-03, 9.9806309e-01, 3.9511243e-01, ..., 5.6413293e-01,\n",
       "        1.6714023e-01, 1.2683582e-01],\n",
       "       ...,\n",
       "       [7.6069275e-04, 1.7281323e-03, 1.9620303e-03, ..., 4.4145143e-01,\n",
       "        8.2154202e-01, 9.5409316e-01],\n",
       "       [9.7697325e-02, 3.3510078e-03, 4.2113285e-03, ..., 3.5462014e-03,\n",
       "        9.8422694e-01, 3.2289255e-02],\n",
       "       [5.5127567e-01, 4.7487119e-05, 5.8670044e-01, ..., 5.4996191e-03,\n",
       "        2.0179119e-02, 1.5154595e-03]], dtype=float32)"
      ]
     },
     "execution_count": 65,
     "metadata": {},
     "output_type": "execute_result"
    }
   ],
   "source": [
    "model_hm.predict(X_test_normalized)"
   ]
  },
  {
   "cell_type": "code",
   "execution_count": 66,
   "metadata": {},
   "outputs": [
    {
     "data": {
      "text/plain": [
       "<matplotlib.image.AxesImage at 0x1a78b5d5580>"
      ]
     },
     "execution_count": 66,
     "metadata": {},
     "output_type": "execute_result"
    },
    {
     "data": {
      "image/png": "[encoded data removed]",
      "text/plain": [
       "<Figure size 288x288 with 1 Axes>"
      ]
     },
     "metadata": {
      "needs_background": "light"
     },
     "output_type": "display_data"
    }
   ],
   "source": [
    "plt.matshow(X_test[0])"
   ]
  },
  {
   "cell_type": "code",
   "execution_count": 59,
   "metadata": {},
   "outputs": [
    {
     "name": "stdout",
     "output_type": "stream",
     "text": [
      "313/313 [==============================] - 0s 903us/step\n"
     ]
    }
   ],
   "source": [
    "y_predicted = model_hm.predict(X_test_normalized)"
   ]
  },
  {
   "cell_type": "code",
   "execution_count": 60,
   "metadata": {},
   "outputs": [
    {
     "data": {
      "text/plain": [
       "array([0.50638026, 0.3253736 , 0.47470847, 0.3386737 , 0.5770685 ,\n",
       "       0.48061144, 0.24232325, 0.84105724, 0.48832527, 0.680114  ],\n",
       "      dtype=float32)"
      ]
     },
     "execution_count": 60,
     "metadata": {},
     "output_type": "execute_result"
    }
   ],
   "source": [
    "y_predicted[0]\n",
    "# Displays the probability score for each class label. "
   ]
  },
  {
   "cell_type": "code",
   "execution_count": 61,
   "metadata": {},
   "outputs": [
    {
     "data": {
      "text/plain": [
       "7"
      ]
     },
     "execution_count": 61,
     "metadata": {},
     "output_type": "execute_result"
    }
   ],
   "source": [
    "np.argmax(y_predicted[0])"
   ]
  },
  {
   "cell_type": "markdown",
   "metadata": {},
   "source": [
    "###### Confusion matrix"
   ]
  },
  {
   "cell_type": "markdown",
   "metadata": {},
   "source": [
    "Convert the predicted probabilities into actual class labels to contruct confusion matrix"
   ]
  },
  {
   "cell_type": "code",
   "execution_count": 62,
   "metadata": {},
   "outputs": [
    {
     "data": {
      "text/plain": [
       "array([[0.50638026, 0.3253736 , 0.47470847, 0.3386737 , 0.5770685 ,\n",
       "        0.48061144, 0.24232325, 0.84105724, 0.48832527, 0.680114  ],\n",
       "       [0.44467   , 0.583153  , 0.5282321 , 0.5478958 , 0.27795923,\n",
       "        0.6637704 , 0.5745435 , 0.14336735, 0.48996127, 0.19126593],\n",
       "       [0.3949854 , 0.8135597 , 0.3972392 , 0.33593816, 0.37936446,\n",
       "        0.37619352, 0.43067425, 0.4058005 , 0.4381879 , 0.4020853 ],\n",
       "       [0.88177216, 0.2835794 , 0.46775436, 0.33284613, 0.39869043,\n",
       "        0.6865951 , 0.6318692 , 0.4999731 , 0.65789366, 0.41035712],\n",
       "       [0.5798247 , 0.18048368, 0.663126  , 0.39119807, 0.6519316 ,\n",
       "        0.5205439 , 0.42115057, 0.6121032 , 0.56902856, 0.66671443]],\n",
       "      dtype=float32)"
      ]
     },
     "execution_count": 62,
     "metadata": {},
     "output_type": "execute_result"
    }
   ],
   "source": [
    "y_predicted[:5]"
   ]
  },
  {
   "cell_type": "code",
   "execution_count": 63,
   "metadata": {},
   "outputs": [
    {
     "data": {
      "text/plain": [
       "[7, 5, 1, 0, 9]"
      ]
     },
     "execution_count": 63,
     "metadata": {},
     "output_type": "execute_result"
    }
   ],
   "source": [
    "y_predicted_labels = [np.argmax(i) for i in y_predicted]\n",
    "y_predicted_labels[:5]"
   ]
  },
  {
   "cell_type": "code",
   "execution_count": 64,
   "metadata": {},
   "outputs": [
    {
     "data": {
      "text/plain": [
       "<tf.Tensor: shape=(10, 10), dtype=int32, numpy=\n",
       "array([[ 909,    0,    6,    2,    3,   17,   32,    1,   10,    0],\n",
       "       [   0, 1030,    6,    4,    1,   16,   12,    0,   63,    3],\n",
       "       [  52,   46,  674,   77,    8,    5,   73,   17,   67,   13],\n",
       "       [  28,   16,   74,  762,    2,   22,   28,   15,   42,   21],\n",
       "       [   8,   17,    6,    5,  536,    7,   46,    8,   18,  331],\n",
       "       [ 130,   34,    8,  167,   15,  367,   71,   25,   62,   13],\n",
       "       [  45,   12,   14,    0,   12,   16,  839,    2,   12,    6],\n",
       "       [  16,   59,   26,   14,   14,    2,    6,  761,   23,  107],\n",
       "       [  26,   33,   32,  114,   23,   25,   24,   26,  619,   52],\n",
       "       [  30,   28,   13,    9,   59,   11,    2,   97,   12,  748]])>"
      ]
     },
     "execution_count": 64,
     "metadata": {},
     "output_type": "execute_result"
    }
   ],
   "source": [
    "cm = tf.math.confusion_matrix(labels = y_test, predictions = y_predicted_labels)\n",
    "cm"
   ]
  },
  {
   "cell_type": "markdown",
   "metadata": {},
   "source": [
    "Plot this matrix"
   ]
  },
  {
   "cell_type": "code",
   "execution_count": 65,
   "metadata": {
    "scrolled": true
   },
   "outputs": [
    {
     "data": {
      "text/plain": [
       "Text(69.0, 0.5, 'Truth')"
      ]
     },
     "execution_count": 65,
     "metadata": {},
     "output_type": "execute_result"
    },
    {
     "data": {
      "image/png": "[encoded data removed]",
      "text/plain": [
       "<Figure size 720x504 with 2 Axes>"
      ]
     },
     "metadata": {
      "needs_background": "light"
     },
     "output_type": "display_data"
    }
   ],
   "source": [
    "import seaborn as sn\n",
    "plt.figure(figsize = (10,7))\n",
    "sn.heatmap(cm, annot=True, fmt = 'd')\n",
    "plt.xlabel('Predicted')\n",
    "plt.ylabel('Truth')"
   ]
  }
 ],
 "metadata": {
  "kernelspec": {
   "display_name": "Python 3 (ipykernel)",
   "language": "python",
   "name": "python3"
  },
  "language_info": {
   "codemirror_mode": {
    "name": "ipython",
    "version": 3
   },
   "file_extension": ".py",
   "mimetype": "text/x-python",
   "name": "python",
   "nbconvert_exporter": "python",
   "pygments_lexer": "ipython3",
   "version": "3.9.13"
  }
 },
 "nbformat": 4,
 "nbformat_minor": 4
}
