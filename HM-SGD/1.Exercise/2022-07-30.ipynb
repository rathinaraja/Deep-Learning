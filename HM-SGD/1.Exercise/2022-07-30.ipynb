{
 "cells": [
  {
   "cell_type": "markdown",
   "metadata": {},
   "source": [
    "<h2 style=\"color:blue\" align=\"center\">Handwritten digits classification using neural network</h2>"
   ]
  },
  {
   "cell_type": "markdown",
   "metadata": {},
   "source": [
    "Let us classify handwritten digits using \n",
    "1. A simple NN which has only input and output layers. \n",
    "2. NN with one hidden layer.\n",
    "3. NN with two hidden layers.\n",
    "\n",
    "and see how the performance of the model improves"
   ]
  },
  {
   "cell_type": "markdown",
   "metadata": {},
   "source": [
    "<img src=\"Figures/MNIST-Handwritten digits.png\" height=450 width=450/>"
   ]
  },
  {
   "cell_type": "markdown",
   "metadata": {},
   "source": [
    "#### TensorFlow Installation"
   ]
  },
  {
   "cell_type": "code",
   "execution_count": 1,
   "metadata": {},
   "outputs": [],
   "source": [
    "#!pip install tensorflow"
   ]
  },
  {
   "cell_type": "code",
   "execution_count": 2,
   "metadata": {},
   "outputs": [],
   "source": [
    "import tensorflow as tf"
   ]
  },
  {
   "cell_type": "code",
   "execution_count": 3,
   "metadata": {},
   "outputs": [
    {
     "name": "stdout",
     "output_type": "stream",
     "text": [
      "2.9.1\n"
     ]
    }
   ],
   "source": [
    "print(tf.version.VERSION)"
   ]
  },
  {
   "cell_type": "markdown",
   "metadata": {},
   "source": [
    "#### Import the necessary libraries"
   ]
  },
  {
   "cell_type": "code",
   "execution_count": 4,
   "metadata": {},
   "outputs": [],
   "source": [
    "import tensorflow as tf \n",
    "import matplotlib.pyplot as plt\n",
    "%matplotlib inline\n",
    "import numpy as np\n",
    "\n",
    "import keras\n",
    "from keras.datasets import mnist\n",
    "from keras.models import Sequential\n",
    "from keras.layers import Dense, Dropout, Flatten\n",
    "from keras import backend as K\n",
    "from keras.callbacks import ModelCheckpoint"
   ]
  },
  {
   "cell_type": "code",
   "execution_count": 5,
   "metadata": {},
   "outputs": [
    {
     "data": {
      "text/plain": [
       "'tensorflow'"
      ]
     },
     "execution_count": 5,
     "metadata": {},
     "output_type": "execute_result"
    }
   ],
   "source": [
    "K.backend()"
   ]
  },
  {
   "cell_type": "markdown",
   "metadata": {},
   "source": [
    "#### Load and split MNIST for training and testing"
   ]
  },
  {
   "cell_type": "code",
   "execution_count": 6,
   "metadata": {},
   "outputs": [],
   "source": [
    "(X_train,y_train),(X_test,y_test) = mnist.load_data()"
   ]
  },
  {
   "cell_type": "markdown",
   "metadata": {},
   "source": [
    "#### Explore the dataset"
   ]
  },
  {
   "cell_type": "markdown",
   "metadata": {},
   "source": [
    "Keras Handwritten digit MNIST dataset"
   ]
  },
  {
   "cell_type": "markdown",
   "metadata": {},
   "source": [
    "<img src=\"Figures/dataset.png\" height=450 width=450 />"
   ]
  },
  {
   "cell_type": "code",
   "execution_count": 7,
   "metadata": {},
   "outputs": [
    {
     "data": {
      "text/plain": [
       "60000"
      ]
     },
     "execution_count": 7,
     "metadata": {},
     "output_type": "execute_result"
    }
   ],
   "source": [
    "len(X_train)"
   ]
  },
  {
   "cell_type": "code",
   "execution_count": 8,
   "metadata": {},
   "outputs": [
    {
     "data": {
      "text/plain": [
       "10000"
      ]
     },
     "execution_count": 8,
     "metadata": {},
     "output_type": "execute_result"
    }
   ],
   "source": [
    "len(X_test)"
   ]
  },
  {
   "cell_type": "code",
   "execution_count": 9,
   "metadata": {},
   "outputs": [
    {
     "data": {
      "text/plain": [
       "(28, 28)"
      ]
     },
     "execution_count": 9,
     "metadata": {},
     "output_type": "execute_result"
    }
   ],
   "source": [
    "X_train[0].shape"
   ]
  },
  {
   "cell_type": "markdown",
   "metadata": {},
   "source": [
    "It would be something like this"
   ]
  },
  {
   "cell_type": "markdown",
   "metadata": {},
   "source": [
    "<img src='Figures/pixel.png' />"
   ]
  },
  {
   "cell_type": "code",
   "execution_count": 10,
   "metadata": {
    "scrolled": true
   },
   "outputs": [
    {
     "data": {
      "text/plain": [
       "array([[  0,   0,   0,   0,   0,   0,   0,   0,   0,   0,   0,   0,   0,\n",
       "          0,   0,   0,   0,   0,   0,   0,   0,   0,   0,   0,   0,   0,\n",
       "          0,   0],\n",
       "       [  0,   0,   0,   0,   0,   0,   0,   0,   0,   0,   0,   0,   0,\n",
       "          0,   0,   0,   0,   0,   0,   0,   0,   0,   0,   0,   0,   0,\n",
       "          0,   0],\n",
       "       [  0,   0,   0,   0,   0,   0,   0,   0,   0,   0,   0,   0,   0,\n",
       "          0,   0,   0,   0,   0,   0,   0,   0,   0,   0,   0,   0,   0,\n",
       "          0,   0],\n",
       "       [  0,   0,   0,   0,   0,   0,   0,   0,   0,   0,   0,   0,   0,\n",
       "          0,   0,   0,   0,   0,   0,   0,   0,   0,   0,   0,   0,   0,\n",
       "          0,   0],\n",
       "       [  0,   0,   0,   0,   0,   0,   0,   0,   0,   0,   0,   0,   0,\n",
       "          0,   0,   0,   0,   0,   0,   0,   0,   0,   0,   0,   0,   0,\n",
       "          0,   0],\n",
       "       [  0,   0,   0,   0,   0,   0,   0,   0,   0,   0,   0,   0,   3,\n",
       "         18,  18,  18, 126, 136, 175,  26, 166, 255, 247, 127,   0,   0,\n",
       "          0,   0],\n",
       "       [  0,   0,   0,   0,   0,   0,   0,   0,  30,  36,  94, 154, 170,\n",
       "        253, 253, 253, 253, 253, 225, 172, 253, 242, 195,  64,   0,   0,\n",
       "          0,   0],\n",
       "       [  0,   0,   0,   0,   0,   0,   0,  49, 238, 253, 253, 253, 253,\n",
       "        253, 253, 253, 253, 251,  93,  82,  82,  56,  39,   0,   0,   0,\n",
       "          0,   0],\n",
       "       [  0,   0,   0,   0,   0,   0,   0,  18, 219, 253, 253, 253, 253,\n",
       "        253, 198, 182, 247, 241,   0,   0,   0,   0,   0,   0,   0,   0,\n",
       "          0,   0],\n",
       "       [  0,   0,   0,   0,   0,   0,   0,   0,  80, 156, 107, 253, 253,\n",
       "        205,  11,   0,  43, 154,   0,   0,   0,   0,   0,   0,   0,   0,\n",
       "          0,   0],\n",
       "       [  0,   0,   0,   0,   0,   0,   0,   0,   0,  14,   1, 154, 253,\n",
       "         90,   0,   0,   0,   0,   0,   0,   0,   0,   0,   0,   0,   0,\n",
       "          0,   0],\n",
       "       [  0,   0,   0,   0,   0,   0,   0,   0,   0,   0,   0, 139, 253,\n",
       "        190,   2,   0,   0,   0,   0,   0,   0,   0,   0,   0,   0,   0,\n",
       "          0,   0],\n",
       "       [  0,   0,   0,   0,   0,   0,   0,   0,   0,   0,   0,  11, 190,\n",
       "        253,  70,   0,   0,   0,   0,   0,   0,   0,   0,   0,   0,   0,\n",
       "          0,   0],\n",
       "       [  0,   0,   0,   0,   0,   0,   0,   0,   0,   0,   0,   0,  35,\n",
       "        241, 225, 160, 108,   1,   0,   0,   0,   0,   0,   0,   0,   0,\n",
       "          0,   0],\n",
       "       [  0,   0,   0,   0,   0,   0,   0,   0,   0,   0,   0,   0,   0,\n",
       "         81, 240, 253, 253, 119,  25,   0,   0,   0,   0,   0,   0,   0,\n",
       "          0,   0],\n",
       "       [  0,   0,   0,   0,   0,   0,   0,   0,   0,   0,   0,   0,   0,\n",
       "          0,  45, 186, 253, 253, 150,  27,   0,   0,   0,   0,   0,   0,\n",
       "          0,   0],\n",
       "       [  0,   0,   0,   0,   0,   0,   0,   0,   0,   0,   0,   0,   0,\n",
       "          0,   0,  16,  93, 252, 253, 187,   0,   0,   0,   0,   0,   0,\n",
       "          0,   0],\n",
       "       [  0,   0,   0,   0,   0,   0,   0,   0,   0,   0,   0,   0,   0,\n",
       "          0,   0,   0,   0, 249, 253, 249,  64,   0,   0,   0,   0,   0,\n",
       "          0,   0],\n",
       "       [  0,   0,   0,   0,   0,   0,   0,   0,   0,   0,   0,   0,   0,\n",
       "          0,  46, 130, 183, 253, 253, 207,   2,   0,   0,   0,   0,   0,\n",
       "          0,   0],\n",
       "       [  0,   0,   0,   0,   0,   0,   0,   0,   0,   0,   0,   0,  39,\n",
       "        148, 229, 253, 253, 253, 250, 182,   0,   0,   0,   0,   0,   0,\n",
       "          0,   0],\n",
       "       [  0,   0,   0,   0,   0,   0,   0,   0,   0,   0,  24, 114, 221,\n",
       "        253, 253, 253, 253, 201,  78,   0,   0,   0,   0,   0,   0,   0,\n",
       "          0,   0],\n",
       "       [  0,   0,   0,   0,   0,   0,   0,   0,  23,  66, 213, 253, 253,\n",
       "        253, 253, 198,  81,   2,   0,   0,   0,   0,   0,   0,   0,   0,\n",
       "          0,   0],\n",
       "       [  0,   0,   0,   0,   0,   0,  18, 171, 219, 253, 253, 253, 253,\n",
       "        195,  80,   9,   0,   0,   0,   0,   0,   0,   0,   0,   0,   0,\n",
       "          0,   0],\n",
       "       [  0,   0,   0,   0,  55, 172, 226, 253, 253, 253, 253, 244, 133,\n",
       "         11,   0,   0,   0,   0,   0,   0,   0,   0,   0,   0,   0,   0,\n",
       "          0,   0],\n",
       "       [  0,   0,   0,   0, 136, 253, 253, 253, 212, 135, 132,  16,   0,\n",
       "          0,   0,   0,   0,   0,   0,   0,   0,   0,   0,   0,   0,   0,\n",
       "          0,   0],\n",
       "       [  0,   0,   0,   0,   0,   0,   0,   0,   0,   0,   0,   0,   0,\n",
       "          0,   0,   0,   0,   0,   0,   0,   0,   0,   0,   0,   0,   0,\n",
       "          0,   0],\n",
       "       [  0,   0,   0,   0,   0,   0,   0,   0,   0,   0,   0,   0,   0,\n",
       "          0,   0,   0,   0,   0,   0,   0,   0,   0,   0,   0,   0,   0,\n",
       "          0,   0],\n",
       "       [  0,   0,   0,   0,   0,   0,   0,   0,   0,   0,   0,   0,   0,\n",
       "          0,   0,   0,   0,   0,   0,   0,   0,   0,   0,   0,   0,   0,\n",
       "          0,   0]], dtype=uint8)"
      ]
     },
     "execution_count": 10,
     "metadata": {},
     "output_type": "execute_result"
    }
   ],
   "source": [
    "X_train[0]\n",
    "# Displays 28 x 28 pixels in 2D array"
   ]
  },
  {
   "cell_type": "code",
   "execution_count": 11,
   "metadata": {},
   "outputs": [
    {
     "data": {
      "text/plain": [
       "<matplotlib.image.AxesImage at 0x28527e8b790>"
      ]
     },
     "execution_count": 11,
     "metadata": {},
     "output_type": "execute_result"
    },
    {
     "data": {
      "image/png": "[encoded data removed]",
      "text/plain": [
       "<Figure size 288x288 with 1 Axes>"
      ]
     },
     "metadata": {
      "needs_background": "light"
     },
     "output_type": "display_data"
    }
   ],
   "source": [
    "plt.matshow(X_train[0])"
   ]
  },
  {
   "cell_type": "code",
   "execution_count": 12,
   "metadata": {},
   "outputs": [
    {
     "data": {
      "text/plain": [
       "5"
      ]
     },
     "execution_count": 12,
     "metadata": {},
     "output_type": "execute_result"
    }
   ],
   "source": [
    "y_train[0]\n",
    "# Label for the above input image"
   ]
  },
  {
   "cell_type": "code",
   "execution_count": 13,
   "metadata": {},
   "outputs": [
    {
     "data": {
      "text/plain": [
       "<matplotlib.image.AxesImage at 0x28529f690a0>"
      ]
     },
     "execution_count": 13,
     "metadata": {},
     "output_type": "execute_result"
    },
    {
     "data": {
      "image/png": "[encoded data removed]",
      "text/plain": [
       "<Figure size 288x288 with 1 Axes>"
      ]
     },
     "metadata": {
      "needs_background": "light"
     },
     "output_type": "display_data"
    }
   ],
   "source": [
    "plt.matshow(X_train[1])"
   ]
  },
  {
   "cell_type": "code",
   "execution_count": 14,
   "metadata": {},
   "outputs": [
    {
     "data": {
      "text/plain": [
       "0"
      ]
     },
     "execution_count": 14,
     "metadata": {},
     "output_type": "execute_result"
    }
   ],
   "source": [
    "y_train[1]"
   ]
  },
  {
   "cell_type": "code",
   "execution_count": 15,
   "metadata": {},
   "outputs": [
    {
     "data": {
      "text/plain": [
       "array([5, 0, 4, 1, 9, 2, 1, 3, 1, 4], dtype=uint8)"
      ]
     },
     "execution_count": 15,
     "metadata": {},
     "output_type": "execute_result"
    }
   ],
   "source": [
    "y_train[0:10]"
   ]
  },
  {
   "cell_type": "markdown",
   "metadata": {},
   "source": [
    "#### Flattening"
   ]
  },
  {
   "cell_type": "code",
   "execution_count": 16,
   "metadata": {},
   "outputs": [
    {
     "data": {
      "text/plain": [
       "(60000, 28, 28)"
      ]
     },
     "execution_count": 16,
     "metadata": {},
     "output_type": "execute_result"
    }
   ],
   "source": [
    "X_train.shape"
   ]
  },
  {
   "cell_type": "code",
   "execution_count": 17,
   "metadata": {},
   "outputs": [
    {
     "data": {
      "text/plain": [
       "28"
      ]
     },
     "execution_count": 17,
     "metadata": {},
     "output_type": "execute_result"
    }
   ],
   "source": [
    "X_train.shape[1]"
   ]
  },
  {
   "cell_type": "markdown",
   "metadata": {},
   "source": [
    "You must convert this into 6000, 784"
   ]
  },
  {
   "cell_type": "code",
   "execution_count": 18,
   "metadata": {},
   "outputs": [
    {
     "data": {
      "text/plain": [
       "array([[0, 0, 0, ..., 0, 0, 0],\n",
       "       [0, 0, 0, ..., 0, 0, 0],\n",
       "       [0, 0, 0, ..., 0, 0, 0],\n",
       "       ...,\n",
       "       [0, 0, 0, ..., 0, 0, 0],\n",
       "       [0, 0, 0, ..., 0, 0, 0],\n",
       "       [0, 0, 0, ..., 0, 0, 0]], dtype=uint8)"
      ]
     },
     "execution_count": 18,
     "metadata": {},
     "output_type": "execute_result"
    }
   ],
   "source": [
    "X_train_flattened = X_train.reshape(len(X_train), 28 * 28)\n",
    "X_train_flattened"
   ]
  },
  {
   "cell_type": "code",
   "execution_count": 19,
   "metadata": {},
   "outputs": [
    {
     "data": {
      "text/plain": [
       "(60000, 784)"
      ]
     },
     "execution_count": 19,
     "metadata": {},
     "output_type": "execute_result"
    }
   ],
   "source": [
    "X_train_flattened.shape"
   ]
  },
  {
   "cell_type": "code",
   "execution_count": 20,
   "metadata": {
    "scrolled": true
   },
   "outputs": [
    {
     "data": {
      "text/plain": [
       "array([  0,   0,   0,   0,   0,   0,   0,   0,   0,   0,   0,   0,   0,\n",
       "         0,   0,   0,   0,   0,   0,   0,   0,   0,   0,   0,   0,   0,\n",
       "         0,   0,   0,   0,   0,   0,   0,   0,   0,   0,   0,   0,   0,\n",
       "         0,   0,   0,   0,   0,   0,   0,   0,   0,   0,   0,   0,   0,\n",
       "         0,   0,   0,   0,   0,   0,   0,   0,   0,   0,   0,   0,   0,\n",
       "         0,   0,   0,   0,   0,   0,   0,   0,   0,   0,   0,   0,   0,\n",
       "         0,   0,   0,   0,   0,   0,   0,   0,   0,   0,   0,   0,   0,\n",
       "         0,   0,   0,   0,   0,   0,   0,   0,   0,   0,   0,   0,   0,\n",
       "         0,   0,   0,   0,   0,   0,   0,   0,   0,   0,   0,   0,   0,\n",
       "         0,   0,   0,   0,   0,   0,   0,   0,   0,   0,   0,   0,   0,\n",
       "         0,   0,   0,   0,   0,   0,   0,   0,   0,   0,   0,   0,   0,\n",
       "         0,   0,   0,   0,   0,   0,   0,   0,   0,   3,  18,  18,  18,\n",
       "       126, 136, 175,  26, 166, 255, 247, 127,   0,   0,   0,   0,   0,\n",
       "         0,   0,   0,   0,   0,   0,   0,  30,  36,  94, 154, 170, 253,\n",
       "       253, 253, 253, 253, 225, 172, 253, 242, 195,  64,   0,   0,   0,\n",
       "         0,   0,   0,   0,   0,   0,   0,   0,  49, 238, 253, 253, 253,\n",
       "       253, 253, 253, 253, 253, 251,  93,  82,  82,  56,  39,   0,   0,\n",
       "         0,   0,   0,   0,   0,   0,   0,   0,   0,   0,  18, 219, 253,\n",
       "       253, 253, 253, 253, 198, 182, 247, 241,   0,   0,   0,   0,   0,\n",
       "         0,   0,   0,   0,   0,   0,   0,   0,   0,   0,   0,   0,   0,\n",
       "        80, 156, 107, 253, 253, 205,  11,   0,  43, 154,   0,   0,   0,\n",
       "         0,   0,   0,   0,   0,   0,   0,   0,   0,   0,   0,   0,   0,\n",
       "         0,   0,   0,  14,   1, 154, 253,  90,   0,   0,   0,   0,   0,\n",
       "         0,   0,   0,   0,   0,   0,   0,   0,   0,   0,   0,   0,   0,\n",
       "         0,   0,   0,   0,   0,   0,   0, 139, 253, 190,   2,   0,   0,\n",
       "         0,   0,   0,   0,   0,   0,   0,   0,   0,   0,   0,   0,   0,\n",
       "         0,   0,   0,   0,   0,   0,   0,   0,   0,  11, 190, 253,  70,\n",
       "         0,   0,   0,   0,   0,   0,   0,   0,   0,   0,   0,   0,   0,\n",
       "         0,   0,   0,   0,   0,   0,   0,   0,   0,   0,   0,   0,  35,\n",
       "       241, 225, 160, 108,   1,   0,   0,   0,   0,   0,   0,   0,   0,\n",
       "         0,   0,   0,   0,   0,   0,   0,   0,   0,   0,   0,   0,   0,\n",
       "         0,   0,  81, 240, 253, 253, 119,  25,   0,   0,   0,   0,   0,\n",
       "         0,   0,   0,   0,   0,   0,   0,   0,   0,   0,   0,   0,   0,\n",
       "         0,   0,   0,   0,   0,  45, 186, 253, 253, 150,  27,   0,   0,\n",
       "         0,   0,   0,   0,   0,   0,   0,   0,   0,   0,   0,   0,   0,\n",
       "         0,   0,   0,   0,   0,   0,   0,   0,  16,  93, 252, 253, 187,\n",
       "         0,   0,   0,   0,   0,   0,   0,   0,   0,   0,   0,   0,   0,\n",
       "         0,   0,   0,   0,   0,   0,   0,   0,   0,   0,   0,   0, 249,\n",
       "       253, 249,  64,   0,   0,   0,   0,   0,   0,   0,   0,   0,   0,\n",
       "         0,   0,   0,   0,   0,   0,   0,   0,   0,   0,   0,  46, 130,\n",
       "       183, 253, 253, 207,   2,   0,   0,   0,   0,   0,   0,   0,   0,\n",
       "         0,   0,   0,   0,   0,   0,   0,   0,   0,   0,   0,  39, 148,\n",
       "       229, 253, 253, 253, 250, 182,   0,   0,   0,   0,   0,   0,   0,\n",
       "         0,   0,   0,   0,   0,   0,   0,   0,   0,   0,   0,  24, 114,\n",
       "       221, 253, 253, 253, 253, 201,  78,   0,   0,   0,   0,   0,   0,\n",
       "         0,   0,   0,   0,   0,   0,   0,   0,   0,   0,   0,  23,  66,\n",
       "       213, 253, 253, 253, 253, 198,  81,   2,   0,   0,   0,   0,   0,\n",
       "         0,   0,   0,   0,   0,   0,   0,   0,   0,   0,   0,  18, 171,\n",
       "       219, 253, 253, 253, 253, 195,  80,   9,   0,   0,   0,   0,   0,\n",
       "         0,   0,   0,   0,   0,   0,   0,   0,   0,   0,   0,  55, 172,\n",
       "       226, 253, 253, 253, 253, 244, 133,  11,   0,   0,   0,   0,   0,\n",
       "         0,   0,   0,   0,   0,   0,   0,   0,   0,   0,   0,   0,   0,\n",
       "       136, 253, 253, 253, 212, 135, 132,  16,   0,   0,   0,   0,   0,\n",
       "         0,   0,   0,   0,   0,   0,   0,   0,   0,   0,   0,   0,   0,\n",
       "         0,   0,   0,   0,   0,   0,   0,   0,   0,   0,   0,   0,   0,\n",
       "         0,   0,   0,   0,   0,   0,   0,   0,   0,   0,   0,   0,   0,\n",
       "         0,   0,   0,   0,   0,   0,   0,   0,   0,   0,   0,   0,   0,\n",
       "         0,   0,   0,   0,   0,   0,   0,   0,   0,   0,   0,   0,   0,\n",
       "         0,   0,   0,   0,   0,   0,   0,   0,   0,   0,   0,   0,   0,\n",
       "         0,   0,   0,   0,   0,   0,   0,   0,   0,   0,   0,   0,   0,\n",
       "         0,   0,   0,   0], dtype=uint8)"
      ]
     },
     "execution_count": 20,
     "metadata": {},
     "output_type": "execute_result"
    }
   ],
   "source": [
    "X_train_flattened[0]"
   ]
  },
  {
   "cell_type": "code",
   "execution_count": 21,
   "metadata": {},
   "outputs": [
    {
     "data": {
      "text/plain": [
       "array([[0, 0, 0, ..., 0, 0, 0],\n",
       "       [0, 0, 0, ..., 0, 0, 0],\n",
       "       [0, 0, 0, ..., 0, 0, 0],\n",
       "       ...,\n",
       "       [0, 0, 0, ..., 0, 0, 0],\n",
       "       [0, 0, 0, ..., 0, 0, 0],\n",
       "       [0, 0, 0, ..., 0, 0, 0]], dtype=uint8)"
      ]
     },
     "execution_count": 21,
     "metadata": {},
     "output_type": "execute_result"
    }
   ],
   "source": [
    "X_test_flattened = X_test.reshape(len(X_test),  28 * 28)\n",
    "X_test_flattened"
   ]
  },
  {
   "cell_type": "markdown",
   "metadata": {},
   "source": [
    "#### Normalize the input dataset"
   ]
  },
  {
   "cell_type": "code",
   "execution_count": 22,
   "metadata": {},
   "outputs": [],
   "source": [
    "X_train_normalized = X_train_flattened / 255"
   ]
  },
  {
   "cell_type": "code",
   "execution_count": 23,
   "metadata": {
    "scrolled": true
   },
   "outputs": [
    {
     "data": {
      "text/plain": [
       "array([0.        , 0.        , 0.        , 0.        , 0.        ,\n",
       "       0.        , 0.        , 0.        , 0.        , 0.        ,\n",
       "       0.        , 0.        , 0.        , 0.        , 0.        ,\n",
       "       0.        , 0.        , 0.        , 0.        , 0.        ,\n",
       "       0.        , 0.        , 0.        , 0.        , 0.        ,\n",
       "       0.        , 0.        , 0.        , 0.        , 0.        ,\n",
       "       0.        , 0.        , 0.        , 0.        , 0.        ,\n",
       "       0.        , 0.        , 0.        , 0.        , 0.        ,\n",
       "       0.        , 0.        , 0.        , 0.        , 0.        ,\n",
       "       0.        , 0.        , 0.        , 0.        , 0.        ,\n",
       "       0.        , 0.        , 0.        , 0.        , 0.        ,\n",
       "       0.        , 0.        , 0.        , 0.        , 0.        ,\n",
       "       0.        , 0.        , 0.        , 0.        , 0.        ,\n",
       "       0.        , 0.        , 0.        , 0.        , 0.        ,\n",
       "       0.        , 0.        , 0.        , 0.        , 0.        ,\n",
       "       0.        , 0.        , 0.        , 0.        , 0.        ,\n",
       "       0.        , 0.        , 0.        , 0.        , 0.        ,\n",
       "       0.        , 0.        , 0.        , 0.        , 0.        ,\n",
       "       0.        , 0.        , 0.        , 0.        , 0.        ,\n",
       "       0.        , 0.        , 0.        , 0.        , 0.        ,\n",
       "       0.        , 0.        , 0.        , 0.        , 0.        ,\n",
       "       0.        , 0.        , 0.        , 0.        , 0.        ,\n",
       "       0.        , 0.        , 0.        , 0.        , 0.        ,\n",
       "       0.        , 0.        , 0.        , 0.        , 0.        ,\n",
       "       0.        , 0.        , 0.        , 0.        , 0.        ,\n",
       "       0.        , 0.        , 0.        , 0.        , 0.        ,\n",
       "       0.        , 0.        , 0.        , 0.        , 0.        ,\n",
       "       0.        , 0.        , 0.        , 0.        , 0.        ,\n",
       "       0.        , 0.        , 0.        , 0.        , 0.        ,\n",
       "       0.        , 0.        , 0.        , 0.        , 0.        ,\n",
       "       0.        , 0.        , 0.01176471, 0.07058824, 0.07058824,\n",
       "       0.07058824, 0.49411765, 0.53333333, 0.68627451, 0.10196078,\n",
       "       0.65098039, 1.        , 0.96862745, 0.49803922, 0.        ,\n",
       "       0.        , 0.        , 0.        , 0.        , 0.        ,\n",
       "       0.        , 0.        , 0.        , 0.        , 0.        ,\n",
       "       0.        , 0.11764706, 0.14117647, 0.36862745, 0.60392157,\n",
       "       0.66666667, 0.99215686, 0.99215686, 0.99215686, 0.99215686,\n",
       "       0.99215686, 0.88235294, 0.6745098 , 0.99215686, 0.94901961,\n",
       "       0.76470588, 0.25098039, 0.        , 0.        , 0.        ,\n",
       "       0.        , 0.        , 0.        , 0.        , 0.        ,\n",
       "       0.        , 0.        , 0.        , 0.19215686, 0.93333333,\n",
       "       0.99215686, 0.99215686, 0.99215686, 0.99215686, 0.99215686,\n",
       "       0.99215686, 0.99215686, 0.99215686, 0.98431373, 0.36470588,\n",
       "       0.32156863, 0.32156863, 0.21960784, 0.15294118, 0.        ,\n",
       "       0.        , 0.        , 0.        , 0.        , 0.        ,\n",
       "       0.        , 0.        , 0.        , 0.        , 0.        ,\n",
       "       0.        , 0.07058824, 0.85882353, 0.99215686, 0.99215686,\n",
       "       0.99215686, 0.99215686, 0.99215686, 0.77647059, 0.71372549,\n",
       "       0.96862745, 0.94509804, 0.        , 0.        , 0.        ,\n",
       "       0.        , 0.        , 0.        , 0.        , 0.        ,\n",
       "       0.        , 0.        , 0.        , 0.        , 0.        ,\n",
       "       0.        , 0.        , 0.        , 0.        , 0.        ,\n",
       "       0.31372549, 0.61176471, 0.41960784, 0.99215686, 0.99215686,\n",
       "       0.80392157, 0.04313725, 0.        , 0.16862745, 0.60392157,\n",
       "       0.        , 0.        , 0.        , 0.        , 0.        ,\n",
       "       0.        , 0.        , 0.        , 0.        , 0.        ,\n",
       "       0.        , 0.        , 0.        , 0.        , 0.        ,\n",
       "       0.        , 0.        , 0.        , 0.        , 0.05490196,\n",
       "       0.00392157, 0.60392157, 0.99215686, 0.35294118, 0.        ,\n",
       "       0.        , 0.        , 0.        , 0.        , 0.        ,\n",
       "       0.        , 0.        , 0.        , 0.        , 0.        ,\n",
       "       0.        , 0.        , 0.        , 0.        , 0.        ,\n",
       "       0.        , 0.        , 0.        , 0.        , 0.        ,\n",
       "       0.        , 0.        , 0.        , 0.        , 0.54509804,\n",
       "       0.99215686, 0.74509804, 0.00784314, 0.        , 0.        ,\n",
       "       0.        , 0.        , 0.        , 0.        , 0.        ,\n",
       "       0.        , 0.        , 0.        , 0.        , 0.        ,\n",
       "       0.        , 0.        , 0.        , 0.        , 0.        ,\n",
       "       0.        , 0.        , 0.        , 0.        , 0.        ,\n",
       "       0.        , 0.        , 0.04313725, 0.74509804, 0.99215686,\n",
       "       0.2745098 , 0.        , 0.        , 0.        , 0.        ,\n",
       "       0.        , 0.        , 0.        , 0.        , 0.        ,\n",
       "       0.        , 0.        , 0.        , 0.        , 0.        ,\n",
       "       0.        , 0.        , 0.        , 0.        , 0.        ,\n",
       "       0.        , 0.        , 0.        , 0.        , 0.        ,\n",
       "       0.        , 0.1372549 , 0.94509804, 0.88235294, 0.62745098,\n",
       "       0.42352941, 0.00392157, 0.        , 0.        , 0.        ,\n",
       "       0.        , 0.        , 0.        , 0.        , 0.        ,\n",
       "       0.        , 0.        , 0.        , 0.        , 0.        ,\n",
       "       0.        , 0.        , 0.        , 0.        , 0.        ,\n",
       "       0.        , 0.        , 0.        , 0.        , 0.        ,\n",
       "       0.31764706, 0.94117647, 0.99215686, 0.99215686, 0.46666667,\n",
       "       0.09803922, 0.        , 0.        , 0.        , 0.        ,\n",
       "       0.        , 0.        , 0.        , 0.        , 0.        ,\n",
       "       0.        , 0.        , 0.        , 0.        , 0.        ,\n",
       "       0.        , 0.        , 0.        , 0.        , 0.        ,\n",
       "       0.        , 0.        , 0.        , 0.        , 0.17647059,\n",
       "       0.72941176, 0.99215686, 0.99215686, 0.58823529, 0.10588235,\n",
       "       0.        , 0.        , 0.        , 0.        , 0.        ,\n",
       "       0.        , 0.        , 0.        , 0.        , 0.        ,\n",
       "       0.        , 0.        , 0.        , 0.        , 0.        ,\n",
       "       0.        , 0.        , 0.        , 0.        , 0.        ,\n",
       "       0.        , 0.        , 0.        , 0.0627451 , 0.36470588,\n",
       "       0.98823529, 0.99215686, 0.73333333, 0.        , 0.        ,\n",
       "       0.        , 0.        , 0.        , 0.        , 0.        ,\n",
       "       0.        , 0.        , 0.        , 0.        , 0.        ,\n",
       "       0.        , 0.        , 0.        , 0.        , 0.        ,\n",
       "       0.        , 0.        , 0.        , 0.        , 0.        ,\n",
       "       0.        , 0.        , 0.        , 0.97647059, 0.99215686,\n",
       "       0.97647059, 0.25098039, 0.        , 0.        , 0.        ,\n",
       "       0.        , 0.        , 0.        , 0.        , 0.        ,\n",
       "       0.        , 0.        , 0.        , 0.        , 0.        ,\n",
       "       0.        , 0.        , 0.        , 0.        , 0.        ,\n",
       "       0.        , 0.        , 0.        , 0.18039216, 0.50980392,\n",
       "       0.71764706, 0.99215686, 0.99215686, 0.81176471, 0.00784314,\n",
       "       0.        , 0.        , 0.        , 0.        , 0.        ,\n",
       "       0.        , 0.        , 0.        , 0.        , 0.        ,\n",
       "       0.        , 0.        , 0.        , 0.        , 0.        ,\n",
       "       0.        , 0.        , 0.        , 0.        , 0.15294118,\n",
       "       0.58039216, 0.89803922, 0.99215686, 0.99215686, 0.99215686,\n",
       "       0.98039216, 0.71372549, 0.        , 0.        , 0.        ,\n",
       "       0.        , 0.        , 0.        , 0.        , 0.        ,\n",
       "       0.        , 0.        , 0.        , 0.        , 0.        ,\n",
       "       0.        , 0.        , 0.        , 0.        , 0.        ,\n",
       "       0.09411765, 0.44705882, 0.86666667, 0.99215686, 0.99215686,\n",
       "       0.99215686, 0.99215686, 0.78823529, 0.30588235, 0.        ,\n",
       "       0.        , 0.        , 0.        , 0.        , 0.        ,\n",
       "       0.        , 0.        , 0.        , 0.        , 0.        ,\n",
       "       0.        , 0.        , 0.        , 0.        , 0.        ,\n",
       "       0.        , 0.09019608, 0.25882353, 0.83529412, 0.99215686,\n",
       "       0.99215686, 0.99215686, 0.99215686, 0.77647059, 0.31764706,\n",
       "       0.00784314, 0.        , 0.        , 0.        , 0.        ,\n",
       "       0.        , 0.        , 0.        , 0.        , 0.        ,\n",
       "       0.        , 0.        , 0.        , 0.        , 0.        ,\n",
       "       0.        , 0.        , 0.07058824, 0.67058824, 0.85882353,\n",
       "       0.99215686, 0.99215686, 0.99215686, 0.99215686, 0.76470588,\n",
       "       0.31372549, 0.03529412, 0.        , 0.        , 0.        ,\n",
       "       0.        , 0.        , 0.        , 0.        , 0.        ,\n",
       "       0.        , 0.        , 0.        , 0.        , 0.        ,\n",
       "       0.        , 0.        , 0.        , 0.21568627, 0.6745098 ,\n",
       "       0.88627451, 0.99215686, 0.99215686, 0.99215686, 0.99215686,\n",
       "       0.95686275, 0.52156863, 0.04313725, 0.        , 0.        ,\n",
       "       0.        , 0.        , 0.        , 0.        , 0.        ,\n",
       "       0.        , 0.        , 0.        , 0.        , 0.        ,\n",
       "       0.        , 0.        , 0.        , 0.        , 0.        ,\n",
       "       0.        , 0.53333333, 0.99215686, 0.99215686, 0.99215686,\n",
       "       0.83137255, 0.52941176, 0.51764706, 0.0627451 , 0.        ,\n",
       "       0.        , 0.        , 0.        , 0.        , 0.        ,\n",
       "       0.        , 0.        , 0.        , 0.        , 0.        ,\n",
       "       0.        , 0.        , 0.        , 0.        , 0.        ,\n",
       "       0.        , 0.        , 0.        , 0.        , 0.        ,\n",
       "       0.        , 0.        , 0.        , 0.        , 0.        ,\n",
       "       0.        , 0.        , 0.        , 0.        , 0.        ,\n",
       "       0.        , 0.        , 0.        , 0.        , 0.        ,\n",
       "       0.        , 0.        , 0.        , 0.        , 0.        ,\n",
       "       0.        , 0.        , 0.        , 0.        , 0.        ,\n",
       "       0.        , 0.        , 0.        , 0.        , 0.        ,\n",
       "       0.        , 0.        , 0.        , 0.        , 0.        ,\n",
       "       0.        , 0.        , 0.        , 0.        , 0.        ,\n",
       "       0.        , 0.        , 0.        , 0.        , 0.        ,\n",
       "       0.        , 0.        , 0.        , 0.        , 0.        ,\n",
       "       0.        , 0.        , 0.        , 0.        , 0.        ,\n",
       "       0.        , 0.        , 0.        , 0.        , 0.        ,\n",
       "       0.        , 0.        , 0.        , 0.        , 0.        ,\n",
       "       0.        , 0.        , 0.        , 0.        , 0.        ,\n",
       "       0.        , 0.        , 0.        , 0.        , 0.        ,\n",
       "       0.        , 0.        , 0.        , 0.        ])"
      ]
     },
     "execution_count": 23,
     "metadata": {},
     "output_type": "execute_result"
    }
   ],
   "source": [
    "X_train_normalized[0]"
   ]
  },
  {
   "cell_type": "code",
   "execution_count": 24,
   "metadata": {},
   "outputs": [],
   "source": [
    "X_test_normalized = X_test_flattened / 255"
   ]
  },
  {
   "cell_type": "markdown",
   "metadata": {},
   "source": [
    "### NN model with one hidden layer"
   ]
  },
  {
   "cell_type": "markdown",
   "metadata": {},
   "source": [
    "<img src=\"Figures/model2.png\" height=400 width=400 />"
   ]
  },
  {
   "cell_type": "markdown",
   "metadata": {},
   "source": [
    "###### Model configuration"
   ]
  },
  {
   "cell_type": "code",
   "execution_count": 25,
   "metadata": {},
   "outputs": [],
   "source": [
    "model = keras.Sequential([\n",
    "    # input layer 784 neurons to first hidden layer with 64 neurons\n",
    "    keras.layers.Dense(64, input_shape = (784,), activation='relu'), \n",
    "    # Previous hidden layer to output layer\n",
    "    keras.layers.Dense(10, activation='sigmoid')    \n",
    "])"
   ]
  },
  {
   "cell_type": "raw",
   "metadata": {},
   "source": [
    "model = Sequential()\n",
    "model.add(Dense(64, input_shape = (784,), activation='relu'))\n",
    "model.add(Dense(10, activation='sigmoid'))   "
   ]
  },
  {
   "cell_type": "markdown",
   "metadata": {},
   "source": [
    "##### Model summary"
   ]
  },
  {
   "cell_type": "code",
   "execution_count": 26,
   "metadata": {},
   "outputs": [
    {
     "name": "stdout",
     "output_type": "stream",
     "text": [
      "Model: \"sequential\"\n",
      "_________________________________________________________________\n",
      " Layer (type)                Output Shape              Param #   \n",
      "=================================================================\n",
      " dense (Dense)               (None, 64)                50240     \n",
      "                                                                 \n",
      " dense_1 (Dense)             (None, 10)                650       \n",
      "                                                                 \n",
      "=================================================================\n",
      "Total params: 50,890\n",
      "Trainable params: 50,890\n",
      "Non-trainable params: 0\n",
      "_________________________________________________________________\n"
     ]
    }
   ],
   "source": [
    "model.summary()"
   ]
  },
  {
   "cell_type": "markdown",
   "metadata": {},
   "source": [
    "Layer details"
   ]
  },
  {
   "cell_type": "code",
   "execution_count": 27,
   "metadata": {},
   "outputs": [
    {
     "data": {
      "text/plain": [
       "[<keras.layers.core.dense.Dense at 0x28523f36700>,\n",
       " <keras.layers.core.dense.Dense at 0x28523f361c0>]"
      ]
     },
     "execution_count": 27,
     "metadata": {},
     "output_type": "execute_result"
    }
   ],
   "source": [
    "model.layers"
   ]
  },
  {
   "cell_type": "code",
   "execution_count": 28,
   "metadata": {},
   "outputs": [
    {
     "data": {
      "text/plain": [
       "2"
      ]
     },
     "execution_count": 28,
     "metadata": {},
     "output_type": "execute_result"
    }
   ],
   "source": [
    "len(model.layers)"
   ]
  },
  {
   "cell_type": "code",
   "execution_count": 29,
   "metadata": {},
   "outputs": [],
   "source": [
    "model.compile(\n",
    "    optimizer = 'adam',\n",
    "    loss = 'sparse_categorical_crossentropy',\n",
    "    metrics = ['accuracy']\n",
    ")"
   ]
  },
  {
   "cell_type": "markdown",
   "metadata": {},
   "source": [
    "###### Training the model"
   ]
  },
  {
   "cell_type": "code",
   "execution_count": 30,
   "metadata": {},
   "outputs": [
    {
     "name": "stdout",
     "output_type": "stream",
     "text": [
      "Epoch 1/100\n",
      "6/6 [==============================] - 1s 38ms/step - loss: 2.1132 - accuracy: 0.2851\n",
      "Epoch 2/100\n",
      "6/6 [==============================] - 0s 32ms/step - loss: 1.6224 - accuracy: 0.6253\n",
      "Epoch 3/100\n",
      "6/6 [==============================] - 0s 30ms/step - loss: 1.2323 - accuracy: 0.7431\n",
      "Epoch 4/100\n",
      "6/6 [==============================] - 0s 51ms/step - loss: 0.9409 - accuracy: 0.8074\n",
      "Epoch 5/100\n",
      "6/6 [==============================] - 0s 37ms/step - loss: 0.7443 - accuracy: 0.8358\n",
      "Epoch 6/100\n",
      "6/6 [==============================] - 0s 37ms/step - loss: 0.6192 - accuracy: 0.8538\n",
      "Epoch 7/100\n",
      "6/6 [==============================] - 0s 35ms/step - loss: 0.5386 - accuracy: 0.8679\n",
      "Epoch 8/100\n",
      "6/6 [==============================] - 0s 36ms/step - loss: 0.4840 - accuracy: 0.8787\n",
      "Epoch 9/100\n",
      "6/6 [==============================] - 0s 39ms/step - loss: 0.4453 - accuracy: 0.8862\n",
      "Epoch 10/100\n",
      "6/6 [==============================] - 0s 31ms/step - loss: 0.4162 - accuracy: 0.8922\n",
      "Epoch 11/100\n",
      "6/6 [==============================] - 0s 32ms/step - loss: 0.3934 - accuracy: 0.8960\n",
      "Epoch 12/100\n",
      "6/6 [==============================] - 0s 29ms/step - loss: 0.3752 - accuracy: 0.8998\n",
      "Epoch 13/100\n",
      "6/6 [==============================] - 0s 26ms/step - loss: 0.3601 - accuracy: 0.9028\n",
      "Epoch 14/100\n",
      "6/6 [==============================] - 0s 27ms/step - loss: 0.3473 - accuracy: 0.9059\n",
      "Epoch 15/100\n",
      "6/6 [==============================] - 0s 29ms/step - loss: 0.3361 - accuracy: 0.9088\n",
      "Epoch 16/100\n",
      "6/6 [==============================] - 0s 27ms/step - loss: 0.3264 - accuracy: 0.9115\n",
      "Epoch 17/100\n",
      "6/6 [==============================] - 0s 26ms/step - loss: 0.3175 - accuracy: 0.9133\n",
      "Epoch 18/100\n",
      "6/6 [==============================] - 0s 26ms/step - loss: 0.3095 - accuracy: 0.9158\n",
      "Epoch 19/100\n",
      "6/6 [==============================] - 0s 28ms/step - loss: 0.3021 - accuracy: 0.9173\n",
      "Epoch 20/100\n",
      "6/6 [==============================] - 0s 32ms/step - loss: 0.2953 - accuracy: 0.9194\n",
      "Epoch 21/100\n",
      "6/6 [==============================] - 0s 25ms/step - loss: 0.2889 - accuracy: 0.9208\n",
      "Epoch 22/100\n",
      "6/6 [==============================] - 0s 29ms/step - loss: 0.2828 - accuracy: 0.9224\n",
      "Epoch 23/100\n",
      "6/6 [==============================] - 0s 27ms/step - loss: 0.2769 - accuracy: 0.9241\n",
      "Epoch 24/100\n",
      "6/6 [==============================] - 0s 30ms/step - loss: 0.2715 - accuracy: 0.9254\n",
      "Epoch 25/100\n",
      "6/6 [==============================] - 0s 31ms/step - loss: 0.2664 - accuracy: 0.9263\n",
      "Epoch 26/100\n",
      "6/6 [==============================] - 0s 28ms/step - loss: 0.2614 - accuracy: 0.9278\n",
      "Epoch 27/100\n",
      "6/6 [==============================] - 0s 27ms/step - loss: 0.2565 - accuracy: 0.9292\n",
      "Epoch 28/100\n",
      "6/6 [==============================] - 0s 26ms/step - loss: 0.2519 - accuracy: 0.9303\n",
      "Epoch 29/100\n",
      "6/6 [==============================] - 0s 28ms/step - loss: 0.2474 - accuracy: 0.9315\n",
      "Epoch 30/100\n",
      "6/6 [==============================] - 0s 29ms/step - loss: 0.2433 - accuracy: 0.9331\n",
      "Epoch 31/100\n",
      "6/6 [==============================] - 0s 32ms/step - loss: 0.2390 - accuracy: 0.9337\n",
      "Epoch 32/100\n",
      "6/6 [==============================] - 0s 32ms/step - loss: 0.2350 - accuracy: 0.9350\n",
      "Epoch 33/100\n",
      "6/6 [==============================] - 0s 27ms/step - loss: 0.2311 - accuracy: 0.9362\n",
      "Epoch 34/100\n",
      "6/6 [==============================] - 0s 30ms/step - loss: 0.2275 - accuracy: 0.9375\n",
      "Epoch 35/100\n",
      "6/6 [==============================] - 0s 28ms/step - loss: 0.2239 - accuracy: 0.9382\n",
      "Epoch 36/100\n",
      "6/6 [==============================] - 0s 26ms/step - loss: 0.2204 - accuracy: 0.9391\n",
      "Epoch 37/100\n",
      "6/6 [==============================] - 0s 27ms/step - loss: 0.2169 - accuracy: 0.9401\n",
      "Epoch 38/100\n",
      "6/6 [==============================] - 0s 28ms/step - loss: 0.2138 - accuracy: 0.9410\n",
      "Epoch 39/100\n",
      "6/6 [==============================] - 0s 26ms/step - loss: 0.2106 - accuracy: 0.9414\n",
      "Epoch 40/100\n",
      "6/6 [==============================] - 0s 45ms/step - loss: 0.2075 - accuracy: 0.9427\n",
      "Epoch 41/100\n",
      "6/6 [==============================] - 0s 42ms/step - loss: 0.2047 - accuracy: 0.9434\n",
      "Epoch 42/100\n",
      "6/6 [==============================] - 0s 37ms/step - loss: 0.2017 - accuracy: 0.9443\n",
      "Epoch 43/100\n",
      "6/6 [==============================] - 0s 36ms/step - loss: 0.1990 - accuracy: 0.9451\n",
      "Epoch 44/100\n",
      "6/6 [==============================] - 0s 34ms/step - loss: 0.1962 - accuracy: 0.9456\n",
      "Epoch 45/100\n",
      "6/6 [==============================] - 0s 35ms/step - loss: 0.1936 - accuracy: 0.9466\n",
      "Epoch 46/100\n",
      "6/6 [==============================] - 0s 33ms/step - loss: 0.1910 - accuracy: 0.9469\n",
      "Epoch 47/100\n",
      "6/6 [==============================] - 0s 36ms/step - loss: 0.1886 - accuracy: 0.9478\n",
      "Epoch 48/100\n",
      "6/6 [==============================] - 0s 41ms/step - loss: 0.1862 - accuracy: 0.9484\n",
      "Epoch 49/100\n",
      "6/6 [==============================] - 0s 36ms/step - loss: 0.1838 - accuracy: 0.9491\n",
      "Epoch 50/100\n",
      "6/6 [==============================] - 0s 35ms/step - loss: 0.1814 - accuracy: 0.9497\n",
      "Epoch 51/100\n",
      "6/6 [==============================] - 0s 29ms/step - loss: 0.1791 - accuracy: 0.9504\n",
      "Epoch 52/100\n",
      "6/6 [==============================] - 0s 29ms/step - loss: 0.1769 - accuracy: 0.9508\n",
      "Epoch 53/100\n",
      "6/6 [==============================] - 0s 35ms/step - loss: 0.1747 - accuracy: 0.9516\n",
      "Epoch 54/100\n",
      "6/6 [==============================] - 0s 40ms/step - loss: 0.1727 - accuracy: 0.9520\n",
      "Epoch 55/100\n",
      "6/6 [==============================] - 0s 39ms/step - loss: 0.1706 - accuracy: 0.9528\n",
      "Epoch 56/100\n",
      "6/6 [==============================] - 0s 36ms/step - loss: 0.1686 - accuracy: 0.9531\n",
      "Epoch 57/100\n",
      "6/6 [==============================] - 0s 35ms/step - loss: 0.1665 - accuracy: 0.9539\n",
      "Epoch 58/100\n",
      "6/6 [==============================] - 0s 42ms/step - loss: 0.1645 - accuracy: 0.9544\n",
      "Epoch 59/100\n",
      "6/6 [==============================] - 0s 45ms/step - loss: 0.1626 - accuracy: 0.9552\n",
      "Epoch 60/100\n",
      "6/6 [==============================] - 0s 40ms/step - loss: 0.1605 - accuracy: 0.9556\n",
      "Epoch 61/100\n",
      "6/6 [==============================] - 0s 42ms/step - loss: 0.1587 - accuracy: 0.9559\n",
      "Epoch 62/100\n",
      "6/6 [==============================] - 0s 40ms/step - loss: 0.1569 - accuracy: 0.9565\n",
      "Epoch 63/100\n",
      "6/6 [==============================] - 0s 41ms/step - loss: 0.1551 - accuracy: 0.9571\n",
      "Epoch 64/100\n",
      "6/6 [==============================] - 0s 34ms/step - loss: 0.1533 - accuracy: 0.9572\n",
      "Epoch 65/100\n",
      "6/6 [==============================] - 0s 34ms/step - loss: 0.1517 - accuracy: 0.9577\n",
      "Epoch 66/100\n",
      "6/6 [==============================] - 0s 33ms/step - loss: 0.1500 - accuracy: 0.9581\n",
      "Epoch 67/100\n",
      "6/6 [==============================] - 0s 29ms/step - loss: 0.1483 - accuracy: 0.9587\n",
      "Epoch 68/100\n",
      "6/6 [==============================] - 0s 30ms/step - loss: 0.1467 - accuracy: 0.9591\n",
      "Epoch 69/100\n",
      "6/6 [==============================] - 0s 30ms/step - loss: 0.1450 - accuracy: 0.9597\n",
      "Epoch 70/100\n",
      "6/6 [==============================] - 0s 31ms/step - loss: 0.1435 - accuracy: 0.9603\n",
      "Epoch 71/100\n",
      "6/6 [==============================] - 0s 31ms/step - loss: 0.1420 - accuracy: 0.9605\n",
      "Epoch 72/100\n",
      "6/6 [==============================] - 0s 30ms/step - loss: 0.1405 - accuracy: 0.9609\n",
      "Epoch 73/100\n",
      "6/6 [==============================] - 0s 31ms/step - loss: 0.1390 - accuracy: 0.9617\n",
      "Epoch 74/100\n",
      "6/6 [==============================] - 0s 34ms/step - loss: 0.1375 - accuracy: 0.9618\n",
      "Epoch 75/100\n",
      "6/6 [==============================] - 0s 29ms/step - loss: 0.1360 - accuracy: 0.9627\n",
      "Epoch 76/100\n",
      "6/6 [==============================] - 0s 29ms/step - loss: 0.1347 - accuracy: 0.9624\n",
      "Epoch 77/100\n",
      "6/6 [==============================] - 0s 29ms/step - loss: 0.1333 - accuracy: 0.9635\n",
      "Epoch 78/100\n",
      "6/6 [==============================] - 0s 30ms/step - loss: 0.1318 - accuracy: 0.9635\n",
      "Epoch 79/100\n",
      "6/6 [==============================] - 0s 28ms/step - loss: 0.1304 - accuracy: 0.9642\n",
      "Epoch 80/100\n",
      "6/6 [==============================] - 0s 35ms/step - loss: 0.1292 - accuracy: 0.9644\n",
      "Epoch 81/100\n",
      "6/6 [==============================] - 0s 32ms/step - loss: 0.1278 - accuracy: 0.9648\n",
      "Epoch 82/100\n",
      "6/6 [==============================] - 0s 32ms/step - loss: 0.1265 - accuracy: 0.9653\n",
      "Epoch 83/100\n",
      "6/6 [==============================] - 0s 31ms/step - loss: 0.1253 - accuracy: 0.9657\n",
      "Epoch 84/100\n",
      "6/6 [==============================] - 0s 33ms/step - loss: 0.1239 - accuracy: 0.9662\n",
      "Epoch 85/100\n",
      "6/6 [==============================] - 0s 32ms/step - loss: 0.1228 - accuracy: 0.9663\n",
      "Epoch 86/100\n",
      "6/6 [==============================] - 0s 33ms/step - loss: 0.1216 - accuracy: 0.9669\n",
      "Epoch 87/100\n",
      "6/6 [==============================] - 0s 32ms/step - loss: 0.1204 - accuracy: 0.9671\n",
      "Epoch 88/100\n",
      "6/6 [==============================] - 0s 34ms/step - loss: 0.1191 - accuracy: 0.9675\n",
      "Epoch 89/100\n",
      "6/6 [==============================] - 0s 30ms/step - loss: 0.1179 - accuracy: 0.9677\n",
      "Epoch 90/100\n",
      "6/6 [==============================] - 0s 29ms/step - loss: 0.1168 - accuracy: 0.9682\n",
      "Epoch 91/100\n",
      "6/6 [==============================] - 0s 32ms/step - loss: 0.1158 - accuracy: 0.9685\n",
      "Epoch 92/100\n",
      "6/6 [==============================] - 0s 29ms/step - loss: 0.1146 - accuracy: 0.9688\n",
      "Epoch 93/100\n",
      "6/6 [==============================] - 0s 30ms/step - loss: 0.1136 - accuracy: 0.9690\n",
      "Epoch 94/100\n",
      "6/6 [==============================] - 0s 31ms/step - loss: 0.1126 - accuracy: 0.9692\n",
      "Epoch 95/100\n",
      "6/6 [==============================] - 0s 31ms/step - loss: 0.1113 - accuracy: 0.9697\n",
      "Epoch 96/100\n",
      "6/6 [==============================] - 0s 33ms/step - loss: 0.1103 - accuracy: 0.9701\n",
      "Epoch 97/100\n",
      "6/6 [==============================] - 0s 31ms/step - loss: 0.1094 - accuracy: 0.9704\n",
      "Epoch 98/100\n",
      "6/6 [==============================] - 0s 30ms/step - loss: 0.1083 - accuracy: 0.9710\n",
      "Epoch 99/100\n",
      "6/6 [==============================] - 0s 28ms/step - loss: 0.1073 - accuracy: 0.9709\n",
      "Epoch 100/100\n",
      "6/6 [==============================] - 0s 23ms/step - loss: 0.1062 - accuracy: 0.9713\n"
     ]
    },
    {
     "data": {
      "text/plain": [
       "<keras.callbacks.History at 0x28544731340>"
      ]
     },
     "execution_count": 30,
     "metadata": {},
     "output_type": "execute_result"
    }
   ],
   "source": [
    "model.fit(X_train_normalized, y_train, epochs = 100, verbose=1, batch_size=10000)"
   ]
  },
  {
   "cell_type": "markdown",
   "metadata": {},
   "source": [
    "##### Printing the weights"
   ]
  },
  {
   "cell_type": "markdown",
   "metadata": {},
   "source": [
    "Getting weights and bias values after the training stage"
   ]
  },
  {
   "cell_type": "code",
   "execution_count": 31,
   "metadata": {},
   "outputs": [
    {
     "name": "stderr",
     "output_type": "stream",
     "text": [
      "<ipython-input-31-4f8fb3d8cc7f>:3: VisibleDeprecationWarning: Creating an ndarray from ragged nested sequences (which is a list-or-tuple of lists-or-tuples-or ndarrays with different lengths or shapes) is deprecated. If you meant to do this, you must specify 'dtype=object' when creating the ndarray.\n",
      "  weights = np.array(original_weights)\n"
     ]
    },
    {
     "data": {
      "text/plain": [
       "array([array([[-0.03538071,  0.06143115, -0.00920825, ...,  0.07694348,\n",
       "               -0.06336627, -0.02985901],\n",
       "              [ 0.05609714,  0.01955693,  0.04191541, ..., -0.01755571,\n",
       "               -0.05684364, -0.0196322 ],\n",
       "              [ 0.07225203,  0.02625041,  0.08382943, ...,  0.07745729,\n",
       "               -0.02538193,  0.029179  ],\n",
       "              ...,\n",
       "              [-0.03052002,  0.01152073, -0.07683243, ...,  0.03461659,\n",
       "               -0.08066462,  0.08038587],\n",
       "              [-0.01147573,  0.02899122, -0.03833948, ...,  0.06803777,\n",
       "                0.07130397,  0.00178341],\n",
       "              [-0.07740592, -0.04057959,  0.06838123, ..., -0.05793588,\n",
       "                0.00198298,  0.03507607]], dtype=float32)              ,\n",
       "       array([ 0.00295629,  0.09387647,  0.00351386, -0.09577934,  0.05082063,\n",
       "               0.12285773, -0.12165615,  0.04164711,  0.09912349,  0.10387205,\n",
       "               0.01999453,  0.01008249, -0.00632722, -0.00223421,  0.04834028,\n",
       "               0.00683112,  0.03841177,  0.03260387,  0.08312023,  0.03487472,\n",
       "              -0.03455346,  0.04089008,  0.09399182,  0.09469903, -0.00825668,\n",
       "               0.11233675, -0.04927043,  0.03187941,  0.05185093,  0.03846805,\n",
       "               0.00306272,  0.05066532,  0.03543073,  0.09054895,  0.02274616,\n",
       "               0.11184191,  0.02390583,  0.05617566,  0.0303709 ,  0.08544561,\n",
       "               0.01390151, -0.03842801, -0.00417885, -0.05070636,  0.07522286,\n",
       "              -0.06228704,  0.20672254, -0.16800392, -0.01416446,  0.01091245,\n",
       "              -0.1391001 ,  0.03912808, -0.13822664,  0.04034384,  0.08189411,\n",
       "               0.00691685,  0.20335339,  0.05310727,  0.06171127,  0.03432862,\n",
       "               0.08455648,  0.0740042 , -0.0234296 , -0.04317106], dtype=float32),\n",
       "       array([[ 2.23525129e-02, -3.90089124e-01, -7.68951513e-03,\n",
       "               -3.91994178e-01, -3.21712583e-01, -1.39324233e-01,\n",
       "                9.98350382e-02,  3.41024697e-01,  5.64700127e-01,\n",
       "               -4.93382961e-01],\n",
       "              [-1.39820427e-01, -1.22656122e-01, -3.81131470e-01,\n",
       "               -1.51059935e-02,  1.55533805e-01,  1.37326092e-01,\n",
       "               -1.33430049e-01,  1.31802216e-01,  1.13152489e-01,\n",
       "                2.09930688e-01],\n",
       "              [-1.81412399e-01, -3.70060414e-01,  3.33901107e-01,\n",
       "               -9.53271091e-02, -3.68593991e-01,  2.99395412e-01,\n",
       "                1.45874694e-01, -7.56293610e-02,  1.32607162e-01,\n",
       "               -1.56138808e-01],\n",
       "              [ 1.87605232e-01, -3.40062618e-01,  2.01378465e-01,\n",
       "                3.65229338e-01, -9.40627791e-03, -9.50374603e-02,\n",
       "               -1.76316544e-01, -3.60216558e-01, -7.50726312e-02,\n",
       "                2.05588952e-01],\n",
       "              [ 2.93449521e-01,  6.62723631e-02,  7.90631250e-02,\n",
       "                2.25037888e-01, -2.66338605e-02,  3.94946247e-01,\n",
       "                2.05612123e-01, -2.95124710e-01,  1.13353962e-02,\n",
       "               -3.90738130e-01],\n",
       "              [ 3.05765629e-01,  2.11108103e-01,  1.74480334e-01,\n",
       "               -8.11742544e-02, -4.12410229e-01,  2.90735513e-01,\n",
       "               -1.77608922e-01,  8.38305801e-02, -4.75155324e-01,\n",
       "               -4.11623687e-01],\n",
       "              [ 2.75011659e-01, -3.99862170e-01, -2.57193625e-01,\n",
       "                5.17044850e-02,  3.04723978e-01, -1.14686675e-01,\n",
       "                1.63171634e-01, -3.56397808e-01,  2.59725779e-01,\n",
       "               -2.17820182e-01],\n",
       "              [-3.98317993e-01,  1.41798109e-01,  1.81140095e-01,\n",
       "                2.70222366e-01, -2.13175014e-01,  1.45778388e-01,\n",
       "                1.16057105e-01,  3.04235697e-01,  4.05288748e-02,\n",
       "                1.86314404e-01],\n",
       "              [-5.67933284e-02,  3.12479705e-01, -4.95203048e-01,\n",
       "               -4.25348818e-01,  3.74718070e-01,  2.95353621e-01,\n",
       "                4.78549689e-01, -3.89681011e-01,  3.15110534e-01,\n",
       "                1.86003655e-01],\n",
       "              [ 3.11394334e-01, -9.90217403e-02,  3.82092148e-01,\n",
       "               -2.51242727e-01,  1.24285951e-01,  2.74120182e-01,\n",
       "               -1.94003269e-01, -2.31871068e-01,  2.00853094e-01,\n",
       "               -3.15215826e-01],\n",
       "              [ 2.13969275e-02,  2.36616492e-01, -4.73320693e-01,\n",
       "                1.02276854e-01,  2.36430913e-01, -3.38213146e-02,\n",
       "                4.35292363e-01, -1.57766268e-02, -5.89082479e-01,\n",
       "               -6.07525349e-01],\n",
       "              [-3.48111421e-01, -7.68739805e-02,  5.84929846e-02,\n",
       "               -5.13137057e-02,  2.02048242e-01, -3.72029901e-01,\n",
       "                3.46905105e-02, -1.72098234e-01,  4.91326898e-02,\n",
       "                1.06935114e-01],\n",
       "              [-2.70498484e-01, -2.20217243e-01, -3.26116681e-01,\n",
       "               -2.38008007e-01,  1.63947582e-01, -3.09382766e-01,\n",
       "               -3.53558548e-02,  2.88187236e-01,  3.30756277e-01,\n",
       "                2.33290732e-01],\n",
       "              [-6.28210977e-02,  2.95095116e-01,  3.54343593e-01,\n",
       "               -3.98499668e-01,  1.04294129e-01, -3.40433121e-01,\n",
       "                5.83985373e-02,  8.72946456e-02,  2.93097943e-01,\n",
       "                1.34797141e-01],\n",
       "              [ 1.04347199e-01, -7.14573488e-02,  2.42872238e-01,\n",
       "                2.00878605e-01,  2.04456434e-01, -2.24280402e-01,\n",
       "                4.57575209e-02, -7.75201246e-02, -4.81628388e-01,\n",
       "                2.26607919e-01],\n",
       "              [-1.77220553e-01, -3.27918231e-01,  1.72035515e-01,\n",
       "               -2.43761048e-01, -1.08087853e-01,  4.99047935e-02,\n",
       "                2.46695638e-01, -4.28257018e-01,  2.39948884e-01,\n",
       "                2.50780471e-02],\n",
       "              [-4.22925442e-01,  5.00947356e-01, -4.78206240e-02,\n",
       "                2.76157349e-01,  4.92680550e-01, -2.72068292e-01,\n",
       "                3.86862248e-01, -2.02572763e-01, -1.36863530e-01,\n",
       "               -6.12672627e-01],\n",
       "              [ 3.28431696e-01, -3.99350464e-01, -3.05774122e-01,\n",
       "                1.19855314e-01,  1.48900047e-01,  1.17864653e-01,\n",
       "               -2.18961835e-01,  7.71768242e-02,  3.41973417e-02,\n",
       "               -2.90123522e-01],\n",
       "              [ 8.41785297e-02, -3.09725612e-01, -7.81099424e-02,\n",
       "               -1.91726685e-01,  2.73604155e-01, -1.40375316e-01,\n",
       "               -2.19061911e-01,  3.99240643e-01, -1.63498834e-01,\n",
       "                9.76930633e-02],\n",
       "              [-3.74285877e-02,  3.20435733e-01,  2.95719057e-01,\n",
       "                2.94115454e-01, -1.39050884e-02, -1.60588890e-01,\n",
       "               -6.16485626e-02, -1.82827786e-01, -1.56210348e-01,\n",
       "                2.05463916e-01],\n",
       "              [ 6.36469275e-02,  2.10667670e-01,  3.06841820e-01,\n",
       "                1.19133033e-01, -2.30917111e-01, -1.53424621e-01,\n",
       "                3.59980799e-02, -2.24635974e-01,  1.23854876e-01,\n",
       "                1.05074458e-01],\n",
       "              [ 2.67816424e-01, -3.88102442e-01,  2.74927348e-01,\n",
       "               -2.14526489e-01,  3.59496415e-01, -7.38365799e-02,\n",
       "               -2.87737161e-01,  3.61136533e-02,  2.73215413e-01,\n",
       "                1.00962952e-01],\n",
       "              [-3.20753723e-01,  2.46428505e-01, -4.23706830e-01,\n",
       "               -1.20599590e-01,  4.16395515e-01,  4.32105690e-01,\n",
       "                1.41297013e-01, -1.42693132e-01, -1.15101434e-01,\n",
       "                8.25733617e-02],\n",
       "              [-3.67986709e-01,  3.05939764e-01, -1.99215621e-01,\n",
       "               -4.76452289e-03,  1.79228395e-01,  2.36122265e-01,\n",
       "                3.19635779e-01,  2.10327685e-01, -7.66790882e-02,\n",
       "               -2.77694434e-01],\n",
       "              [ 2.54631132e-01, -2.62119681e-01,  1.14414982e-01,\n",
       "               -3.83168489e-01, -3.38735878e-02, -3.81468743e-01,\n",
       "                2.05550939e-01, -2.19985992e-01, -4.44628268e-01,\n",
       "                2.38469735e-01],\n",
       "              [ 3.12441010e-02, -8.56212825e-02,  4.32118595e-01,\n",
       "               -5.34944892e-01,  2.31451720e-01,  4.94521290e-01,\n",
       "                4.01050031e-01,  5.80364354e-02,  1.79288194e-01,\n",
       "               -5.12654722e-01],\n",
       "              [ 1.15107432e-01,  1.11047149e-01, -1.42700210e-01,\n",
       "               -3.87089849e-01, -2.70730466e-01,  1.02827236e-01,\n",
       "                2.81758785e-01, -2.66431898e-01,  4.17059839e-01,\n",
       "               -2.23217204e-01],\n",
       "              [-2.51741350e-01,  7.13940620e-01, -3.24183762e-01,\n",
       "               -7.26895332e-02,  1.77834213e-01, -5.35530567e-01,\n",
       "                2.56632864e-01,  3.32913071e-01, -2.91693836e-01,\n",
       "               -6.44432366e-01],\n",
       "              [-9.89574194e-03,  2.93606609e-01,  1.34436056e-01,\n",
       "                2.86872000e-01, -3.28707621e-02,  3.96357149e-01,\n",
       "               -2.08655059e-01, -2.65152276e-01,  2.48353079e-01,\n",
       "                1.47247231e-02],\n",
       "              [ 4.23294306e-02,  3.19191404e-02, -7.38871634e-01,\n",
       "               -3.15537006e-01, -4.24042225e-01,  2.57887453e-01,\n",
       "               -6.56524021e-03,  3.27445656e-01, -5.25576115e-01,\n",
       "                3.33309174e-02],\n",
       "              [-3.30336690e-01,  1.84029326e-01, -2.55389869e-01,\n",
       "                2.10095495e-01, -3.21111590e-01, -4.73547764e-02,\n",
       "                3.28083813e-01,  6.00116327e-04,  9.61383283e-02,\n",
       "                3.16260934e-01],\n",
       "              [ 2.72832155e-01,  1.40496522e-01, -3.89676467e-02,\n",
       "               -4.75206047e-01,  3.98950338e-01,  2.74273306e-01,\n",
       "                4.11214679e-01, -2.41347581e-01, -1.56781226e-01,\n",
       "               -6.68679655e-01],\n",
       "              [ 1.77004993e-01, -3.96795154e-01,  4.63006161e-02,\n",
       "               -2.18081221e-01,  2.85179261e-02, -3.12172204e-01,\n",
       "                1.74367040e-01,  1.86587617e-01, -5.57494700e-01,\n",
       "                3.40579301e-01],\n",
       "              [-3.63389313e-01,  2.17560325e-02, -1.31948248e-01,\n",
       "                3.51264060e-01,  1.69771999e-01,  2.31295064e-01,\n",
       "               -1.09386824e-01,  1.82654381e-01, -1.76572725e-01,\n",
       "               -5.54633103e-02],\n",
       "              [ 1.50825039e-01, -8.16931278e-02, -2.46196434e-01,\n",
       "                2.02251300e-01,  9.75105539e-02,  3.56282860e-01,\n",
       "               -1.11946478e-01, -1.06417894e-01,  3.87665600e-01,\n",
       "               -1.44122213e-01],\n",
       "              [-2.72536963e-01,  1.21343799e-01, -1.77302346e-01,\n",
       "               -1.19214393e-02, -3.85374539e-02,  3.23973268e-01,\n",
       "               -3.74594778e-01,  6.55532852e-02,  7.88502172e-02,\n",
       "                2.36274838e-01],\n",
       "              [-2.10054666e-01,  3.43299299e-01, -1.11060135e-01,\n",
       "                3.54837894e-01,  3.04533958e-01, -4.49256301e-01,\n",
       "               -3.11962128e-01,  1.07900813e-01,  4.85494509e-02,\n",
       "                2.54395045e-02],\n",
       "              [ 2.97830671e-01,  1.93841890e-01,  2.91480243e-01,\n",
       "               -4.57347631e-01,  3.53684905e-03, -3.57438415e-01,\n",
       "                8.66844952e-02,  3.36120427e-01, -2.80186832e-01,\n",
       "               -3.80483925e-01],\n",
       "              [ 1.61205664e-01, -8.21232982e-03, -2.18602017e-01,\n",
       "                3.16003799e-01, -2.59213895e-01,  1.33512825e-01,\n",
       "                2.78568417e-01, -2.43766323e-01, -5.31516373e-01,\n",
       "                7.16191083e-02],\n",
       "              [-1.34833008e-01, -3.54164481e-01,  4.76684049e-02,\n",
       "               -2.03199759e-01,  1.59358367e-01, -7.42010623e-02,\n",
       "               -2.91126400e-01,  1.39128909e-01,  1.28803477e-01,\n",
       "                5.58286440e-03],\n",
       "              [ 5.63461408e-02, -4.70307708e-01, -4.94398832e-01,\n",
       "               -3.45390409e-01,  8.58097225e-02, -3.67723078e-01,\n",
       "                1.74350426e-01,  2.25219756e-01, -1.49082333e-01,\n",
       "                4.30496246e-01],\n",
       "              [ 2.86964979e-02, -8.30316320e-02, -3.35107483e-02,\n",
       "                3.55865180e-01, -3.41059327e-01,  1.46969780e-01,\n",
       "               -4.52883542e-01, -3.54032107e-02,  3.27660084e-01,\n",
       "                1.93116769e-01],\n",
       "              [-3.12148809e-01, -1.36484146e-01,  3.37659895e-01,\n",
       "               -2.92022854e-01,  2.13282675e-01,  4.09463823e-01,\n",
       "                2.30852664e-01,  1.36994645e-01, -3.90559793e-01,\n",
       "                7.47131780e-02],\n",
       "              [ 3.66667628e-01,  3.25371809e-02,  2.87992001e-01,\n",
       "               -3.29148948e-01, -3.52995783e-01, -1.71259850e-01,\n",
       "                2.26467833e-01,  1.73718885e-01,  2.83523768e-01,\n",
       "                2.38026991e-01],\n",
       "              [ 2.82758218e-03,  1.06754582e-02, -4.15635109e-01,\n",
       "                8.78316164e-02, -4.55311686e-01,  2.88406074e-01,\n",
       "               -2.10185736e-01,  1.16976522e-01,  2.12224141e-01,\n",
       "                3.50835770e-01],\n",
       "              [ 3.35272580e-01, -3.80634546e-01, -2.61959672e-01,\n",
       "                2.53469169e-01, -5.71372926e-01, -6.90062866e-02,\n",
       "               -5.20049222e-02,  4.28591400e-01,  2.92870738e-02,\n",
       "               -1.44702449e-01],\n",
       "              [-3.39317441e-01, -3.15305322e-01,  3.92423838e-01,\n",
       "               -2.03661934e-01,  2.72523642e-01,  5.48904240e-01,\n",
       "               -5.07110119e-01, -1.75761089e-01, -7.27277935e-01,\n",
       "                1.15972102e-01],\n",
       "              [ 6.20860457e-02,  2.24945739e-01,  3.08159947e-01,\n",
       "                4.67051715e-01,  3.66090864e-01, -6.59983397e-01,\n",
       "               -3.72995943e-01,  3.11219245e-02,  3.39775264e-01,\n",
       "                2.71568269e-01],\n",
       "              [-6.72576368e-01,  1.08836539e-01, -1.23512380e-01,\n",
       "                6.64181828e-01, -7.40964115e-01,  4.27257717e-01,\n",
       "               -4.04480994e-01,  6.11350477e-01, -7.12096334e-01,\n",
       "               -7.20241189e-01],\n",
       "              [ 3.45199704e-01,  2.60001808e-01, -2.58016586e-01,\n",
       "                4.60383967e-02, -9.17790681e-02, -1.82953760e-01,\n",
       "               -1.67858705e-01, -2.97654122e-01, -3.94699454e-01,\n",
       "                1.41120598e-01],\n",
       "              [ 4.28792417e-01, -2.92898417e-01,  4.25426394e-01,\n",
       "                2.20629051e-01, -2.84724683e-01, -2.25628436e-01,\n",
       "               -2.43149400e-01,  1.59429565e-01,  9.13815424e-02,\n",
       "               -4.69211996e-01],\n",
       "              [ 1.02935806e-01, -2.63926327e-01,  3.22298855e-02,\n",
       "                3.31921071e-01, -2.02738300e-01,  3.33803862e-01,\n",
       "               -3.30631346e-01,  3.67904931e-01, -2.33681604e-01,\n",
       "               -3.30217957e-01],\n",
       "              [-1.13126718e-01,  1.08818173e-01,  7.54221752e-02,\n",
       "                9.99011844e-02,  2.83812842e-05, -3.24436724e-01,\n",
       "               -2.96349108e-01,  6.77476078e-02,  3.03731650e-01,\n",
       "               -4.55164403e-01],\n",
       "              [-1.81316912e-01,  2.69244343e-01,  1.88934252e-01,\n",
       "                3.18146660e-04,  1.88812494e-01, -2.94625759e-01,\n",
       "                3.72902416e-02,  4.09915954e-01, -1.41199067e-04,\n",
       "               -5.02888858e-01],\n",
       "              [-8.67705122e-02, -2.53776342e-01, -1.74857795e-01,\n",
       "                4.34876010e-02, -2.92905182e-01,  1.82004437e-01,\n",
       "               -2.93990701e-01,  2.39004597e-01, -3.73853981e-01,\n",
       "                2.19791532e-01],\n",
       "              [ 1.72898948e-01,  2.92787403e-01,  3.84612828e-01,\n",
       "               -4.95143592e-01,  2.01350506e-02, -7.10099280e-01,\n",
       "               -6.06083333e-01,  5.01792431e-01, -2.19092786e-01,\n",
       "               -4.70699430e-01],\n",
       "              [ 4.24150229e-01,  2.15964749e-01,  4.25055444e-01,\n",
       "               -8.73579606e-02, -3.89592350e-01,  5.11667073e-01,\n",
       "               -1.03484437e-01,  2.35948205e-01, -4.64035273e-01,\n",
       "               -6.34928823e-01],\n",
       "              [-3.26032966e-01,  2.78026193e-01,  1.18755065e-01,\n",
       "                3.02417219e-01, -5.14866650e-01,  2.56990224e-01,\n",
       "                2.71793634e-01, -2.23979086e-01,  2.69271433e-01,\n",
       "                1.52910501e-01],\n",
       "              [-9.68914703e-02, -1.34554878e-01,  3.22790533e-01,\n",
       "                2.69312412e-01,  3.07715744e-01,  2.46065557e-01,\n",
       "                2.20007673e-01,  1.22240685e-01,  3.65402877e-01,\n",
       "               -1.75353326e-02],\n",
       "              [-3.22051533e-02,  2.96205223e-01,  4.03302401e-01,\n",
       "                5.76829538e-02, -3.93856645e-01, -1.54390454e-01,\n",
       "               -3.38819087e-01,  3.21997732e-01, -9.71527994e-02,\n",
       "                1.11725859e-01],\n",
       "              [-4.48549062e-01,  4.28127795e-01, -6.15999222e-01,\n",
       "               -3.93231302e-01,  4.15944941e-02,  5.34817614e-02,\n",
       "                1.88982382e-01, -2.04373449e-02, -4.60408688e-01,\n",
       "                1.40239939e-01],\n",
       "              [-1.69335425e-01, -2.09216774e-01, -3.56225967e-01,\n",
       "                8.27911496e-02, -1.27246469e-01,  4.41672921e-01,\n",
       "                2.95031697e-01, -4.43610996e-01, -1.44841030e-01,\n",
       "                3.93549621e-01],\n",
       "              [-3.42786610e-02, -1.81431156e-02,  1.54243186e-01,\n",
       "                3.58727306e-01, -1.83363423e-01,  5.87293506e-02,\n",
       "                3.36682230e-01, -2.07515955e-01, -7.73892403e-02,\n",
       "               -4.68635172e-01],\n",
       "              [ 3.57523978e-01,  4.45331037e-01, -1.01390086e-01,\n",
       "               -3.68731648e-01,  2.60697424e-01, -5.40798962e-01,\n",
       "                3.54741722e-01,  2.58412361e-01, -5.86606145e-01,\n",
       "                3.03645462e-01]], dtype=float32)                 ,\n",
       "       array([-0.06986381,  0.05477686,  0.0695099 , -0.09599336,  0.04553825,\n",
       "               0.21481481, -0.06710657,  0.02462305, -0.09132732,  0.01419265],\n",
       "             dtype=float32)                                                    ],\n",
       "      dtype=object)"
      ]
     },
     "execution_count": 31,
     "metadata": {},
     "output_type": "execute_result"
    }
   ],
   "source": [
    "original_weights = model.get_weights()\n",
    "# convert list to array\n",
    "weights = np.array(original_weights)\n",
    "weights"
   ]
  },
  {
   "cell_type": "code",
   "execution_count": 32,
   "metadata": {},
   "outputs": [
    {
     "data": {
      "text/plain": [
       "(4,)"
      ]
     },
     "execution_count": 32,
     "metadata": {},
     "output_type": "execute_result"
    }
   ],
   "source": [
    "weights.shape"
   ]
  },
  {
   "cell_type": "code",
   "execution_count": 33,
   "metadata": {},
   "outputs": [
    {
     "data": {
      "text/plain": [
       "(784, 64)"
      ]
     },
     "execution_count": 33,
     "metadata": {},
     "output_type": "execute_result"
    }
   ],
   "source": [
    "# weights of first layer\n",
    "weights[0].shape"
   ]
  },
  {
   "cell_type": "code",
   "execution_count": 34,
   "metadata": {},
   "outputs": [
    {
     "data": {
      "text/plain": [
       "(64,)"
      ]
     },
     "execution_count": 34,
     "metadata": {},
     "output_type": "execute_result"
    }
   ],
   "source": [
    "# bias of first layer\n",
    "weights[1].shape"
   ]
  },
  {
   "cell_type": "code",
   "execution_count": 35,
   "metadata": {},
   "outputs": [
    {
     "data": {
      "text/plain": [
       "(64, 10)"
      ]
     },
     "execution_count": 35,
     "metadata": {},
     "output_type": "execute_result"
    }
   ],
   "source": [
    "# weights of second layer\n",
    "weights[2].shape"
   ]
  },
  {
   "cell_type": "code",
   "execution_count": 36,
   "metadata": {},
   "outputs": [
    {
     "data": {
      "text/plain": [
       "(10,)"
      ]
     },
     "execution_count": 36,
     "metadata": {},
     "output_type": "execute_result"
    }
   ],
   "source": [
    "# bias of second layer\n",
    "weights[3].shape"
   ]
  },
  {
   "cell_type": "code",
   "execution_count": 37,
   "metadata": {},
   "outputs": [
    {
     "data": {
      "text/plain": [
       "array([[-0.03538071,  0.06143115, -0.00920825, ...,  0.07694348,\n",
       "        -0.06336627, -0.02985901],\n",
       "       [ 0.05609714,  0.01955693,  0.04191541, ..., -0.01755571,\n",
       "        -0.05684364, -0.0196322 ],\n",
       "       [ 0.07225203,  0.02625041,  0.08382943, ...,  0.07745729,\n",
       "        -0.02538193,  0.029179  ],\n",
       "       ...,\n",
       "       [-0.03052002,  0.01152073, -0.07683243, ...,  0.03461659,\n",
       "        -0.08066462,  0.08038587],\n",
       "       [-0.01147573,  0.02899122, -0.03833948, ...,  0.06803777,\n",
       "         0.07130397,  0.00178341],\n",
       "       [-0.07740592, -0.04057959,  0.06838123, ..., -0.05793588,\n",
       "         0.00198298,  0.03507607]], dtype=float32)"
      ]
     },
     "execution_count": 37,
     "metadata": {},
     "output_type": "execute_result"
    }
   ],
   "source": [
    "weights[0] "
   ]
  },
  {
   "cell_type": "code",
   "execution_count": 38,
   "metadata": {},
   "outputs": [
    {
     "data": {
      "text/plain": [
       "[array([[-0.03538071,  0.06143115, -0.00920825, ...,  0.07694348,\n",
       "         -0.06336627, -0.02985901],\n",
       "        [ 0.05609714,  0.01955693,  0.04191541, ..., -0.01755571,\n",
       "         -0.05684364, -0.0196322 ],\n",
       "        [ 0.07225203,  0.02625041,  0.08382943, ...,  0.07745729,\n",
       "         -0.02538193,  0.029179  ],\n",
       "        ...,\n",
       "        [-0.03052002,  0.01152073, -0.07683243, ...,  0.03461659,\n",
       "         -0.08066462,  0.08038587],\n",
       "        [-0.01147573,  0.02899122, -0.03833948, ...,  0.06803777,\n",
       "          0.07130397,  0.00178341],\n",
       "        [-0.07740592, -0.04057959,  0.06838123, ..., -0.05793588,\n",
       "          0.00198298,  0.03507607]], dtype=float32),\n",
       " array([ 0.00295629,  0.09387647,  0.00351386, -0.09577934,  0.05082063,\n",
       "         0.12285773, -0.12165615,  0.04164711,  0.09912349,  0.10387205,\n",
       "         0.01999453,  0.01008249, -0.00632722, -0.00223421,  0.04834028,\n",
       "         0.00683112,  0.03841177,  0.03260387,  0.08312023,  0.03487472,\n",
       "        -0.03455346,  0.04089008,  0.09399182,  0.09469903, -0.00825668,\n",
       "         0.11233675, -0.04927043,  0.03187941,  0.05185093,  0.03846805,\n",
       "         0.00306272,  0.05066532,  0.03543073,  0.09054895,  0.02274616,\n",
       "         0.11184191,  0.02390583,  0.05617566,  0.0303709 ,  0.08544561,\n",
       "         0.01390151, -0.03842801, -0.00417885, -0.05070636,  0.07522286,\n",
       "        -0.06228704,  0.20672254, -0.16800392, -0.01416446,  0.01091245,\n",
       "        -0.1391001 ,  0.03912808, -0.13822664,  0.04034384,  0.08189411,\n",
       "         0.00691685,  0.20335339,  0.05310727,  0.06171127,  0.03432862,\n",
       "         0.08455648,  0.0740042 , -0.0234296 , -0.04317106], dtype=float32)]"
      ]
     },
     "execution_count": 38,
     "metadata": {},
     "output_type": "execute_result"
    }
   ],
   "source": [
    "model.layers[0].get_weights()\n",
    "# displays the weights and biases of first layer"
   ]
  },
  {
   "cell_type": "code",
   "execution_count": 39,
   "metadata": {},
   "outputs": [
    {
     "data": {
      "text/plain": [
       "array([[-0.03538071,  0.06143115, -0.00920825, ...,  0.07694348,\n",
       "        -0.06336627, -0.02985901],\n",
       "       [ 0.05609714,  0.01955693,  0.04191541, ..., -0.01755571,\n",
       "        -0.05684364, -0.0196322 ],\n",
       "       [ 0.07225203,  0.02625041,  0.08382943, ...,  0.07745729,\n",
       "        -0.02538193,  0.029179  ],\n",
       "       ...,\n",
       "       [-0.03052002,  0.01152073, -0.07683243, ...,  0.03461659,\n",
       "        -0.08066462,  0.08038587],\n",
       "       [-0.01147573,  0.02899122, -0.03833948, ...,  0.06803777,\n",
       "         0.07130397,  0.00178341],\n",
       "       [-0.07740592, -0.04057959,  0.06838123, ..., -0.05793588,\n",
       "         0.00198298,  0.03507607]], dtype=float32)"
      ]
     },
     "execution_count": 39,
     "metadata": {},
     "output_type": "execute_result"
    }
   ],
   "source": [
    "model.layers[0].get_weights()[0]\n",
    "# Displays the weights of first layer"
   ]
  },
  {
   "cell_type": "code",
   "execution_count": 40,
   "metadata": {},
   "outputs": [
    {
     "data": {
      "text/plain": [
       "array([ 0.00295629,  0.09387647,  0.00351386, -0.09577934,  0.05082063,\n",
       "        0.12285773, -0.12165615,  0.04164711,  0.09912349,  0.10387205,\n",
       "        0.01999453,  0.01008249, -0.00632722, -0.00223421,  0.04834028,\n",
       "        0.00683112,  0.03841177,  0.03260387,  0.08312023,  0.03487472,\n",
       "       -0.03455346,  0.04089008,  0.09399182,  0.09469903, -0.00825668,\n",
       "        0.11233675, -0.04927043,  0.03187941,  0.05185093,  0.03846805,\n",
       "        0.00306272,  0.05066532,  0.03543073,  0.09054895,  0.02274616,\n",
       "        0.11184191,  0.02390583,  0.05617566,  0.0303709 ,  0.08544561,\n",
       "        0.01390151, -0.03842801, -0.00417885, -0.05070636,  0.07522286,\n",
       "       -0.06228704,  0.20672254, -0.16800392, -0.01416446,  0.01091245,\n",
       "       -0.1391001 ,  0.03912808, -0.13822664,  0.04034384,  0.08189411,\n",
       "        0.00691685,  0.20335339,  0.05310727,  0.06171127,  0.03432862,\n",
       "        0.08455648,  0.0740042 , -0.0234296 , -0.04317106], dtype=float32)"
      ]
     },
     "execution_count": 40,
     "metadata": {},
     "output_type": "execute_result"
    }
   ],
   "source": [
    "model.layers[0].get_weights()[1]\n",
    "# Displays the biases of first layer"
   ]
  },
  {
   "cell_type": "code",
   "execution_count": 41,
   "metadata": {},
   "outputs": [
    {
     "data": {
      "text/plain": [
       "[array([[ 2.23525129e-02, -3.90089124e-01, -7.68951513e-03,\n",
       "         -3.91994178e-01, -3.21712583e-01, -1.39324233e-01,\n",
       "          9.98350382e-02,  3.41024697e-01,  5.64700127e-01,\n",
       "         -4.93382961e-01],\n",
       "        [-1.39820427e-01, -1.22656122e-01, -3.81131470e-01,\n",
       "         -1.51059935e-02,  1.55533805e-01,  1.37326092e-01,\n",
       "         -1.33430049e-01,  1.31802216e-01,  1.13152489e-01,\n",
       "          2.09930688e-01],\n",
       "        [-1.81412399e-01, -3.70060414e-01,  3.33901107e-01,\n",
       "         -9.53271091e-02, -3.68593991e-01,  2.99395412e-01,\n",
       "          1.45874694e-01, -7.56293610e-02,  1.32607162e-01,\n",
       "         -1.56138808e-01],\n",
       "        [ 1.87605232e-01, -3.40062618e-01,  2.01378465e-01,\n",
       "          3.65229338e-01, -9.40627791e-03, -9.50374603e-02,\n",
       "         -1.76316544e-01, -3.60216558e-01, -7.50726312e-02,\n",
       "          2.05588952e-01],\n",
       "        [ 2.93449521e-01,  6.62723631e-02,  7.90631250e-02,\n",
       "          2.25037888e-01, -2.66338605e-02,  3.94946247e-01,\n",
       "          2.05612123e-01, -2.95124710e-01,  1.13353962e-02,\n",
       "         -3.90738130e-01],\n",
       "        [ 3.05765629e-01,  2.11108103e-01,  1.74480334e-01,\n",
       "         -8.11742544e-02, -4.12410229e-01,  2.90735513e-01,\n",
       "         -1.77608922e-01,  8.38305801e-02, -4.75155324e-01,\n",
       "         -4.11623687e-01],\n",
       "        [ 2.75011659e-01, -3.99862170e-01, -2.57193625e-01,\n",
       "          5.17044850e-02,  3.04723978e-01, -1.14686675e-01,\n",
       "          1.63171634e-01, -3.56397808e-01,  2.59725779e-01,\n",
       "         -2.17820182e-01],\n",
       "        [-3.98317993e-01,  1.41798109e-01,  1.81140095e-01,\n",
       "          2.70222366e-01, -2.13175014e-01,  1.45778388e-01,\n",
       "          1.16057105e-01,  3.04235697e-01,  4.05288748e-02,\n",
       "          1.86314404e-01],\n",
       "        [-5.67933284e-02,  3.12479705e-01, -4.95203048e-01,\n",
       "         -4.25348818e-01,  3.74718070e-01,  2.95353621e-01,\n",
       "          4.78549689e-01, -3.89681011e-01,  3.15110534e-01,\n",
       "          1.86003655e-01],\n",
       "        [ 3.11394334e-01, -9.90217403e-02,  3.82092148e-01,\n",
       "         -2.51242727e-01,  1.24285951e-01,  2.74120182e-01,\n",
       "         -1.94003269e-01, -2.31871068e-01,  2.00853094e-01,\n",
       "         -3.15215826e-01],\n",
       "        [ 2.13969275e-02,  2.36616492e-01, -4.73320693e-01,\n",
       "          1.02276854e-01,  2.36430913e-01, -3.38213146e-02,\n",
       "          4.35292363e-01, -1.57766268e-02, -5.89082479e-01,\n",
       "         -6.07525349e-01],\n",
       "        [-3.48111421e-01, -7.68739805e-02,  5.84929846e-02,\n",
       "         -5.13137057e-02,  2.02048242e-01, -3.72029901e-01,\n",
       "          3.46905105e-02, -1.72098234e-01,  4.91326898e-02,\n",
       "          1.06935114e-01],\n",
       "        [-2.70498484e-01, -2.20217243e-01, -3.26116681e-01,\n",
       "         -2.38008007e-01,  1.63947582e-01, -3.09382766e-01,\n",
       "         -3.53558548e-02,  2.88187236e-01,  3.30756277e-01,\n",
       "          2.33290732e-01],\n",
       "        [-6.28210977e-02,  2.95095116e-01,  3.54343593e-01,\n",
       "         -3.98499668e-01,  1.04294129e-01, -3.40433121e-01,\n",
       "          5.83985373e-02,  8.72946456e-02,  2.93097943e-01,\n",
       "          1.34797141e-01],\n",
       "        [ 1.04347199e-01, -7.14573488e-02,  2.42872238e-01,\n",
       "          2.00878605e-01,  2.04456434e-01, -2.24280402e-01,\n",
       "          4.57575209e-02, -7.75201246e-02, -4.81628388e-01,\n",
       "          2.26607919e-01],\n",
       "        [-1.77220553e-01, -3.27918231e-01,  1.72035515e-01,\n",
       "         -2.43761048e-01, -1.08087853e-01,  4.99047935e-02,\n",
       "          2.46695638e-01, -4.28257018e-01,  2.39948884e-01,\n",
       "          2.50780471e-02],\n",
       "        [-4.22925442e-01,  5.00947356e-01, -4.78206240e-02,\n",
       "          2.76157349e-01,  4.92680550e-01, -2.72068292e-01,\n",
       "          3.86862248e-01, -2.02572763e-01, -1.36863530e-01,\n",
       "         -6.12672627e-01],\n",
       "        [ 3.28431696e-01, -3.99350464e-01, -3.05774122e-01,\n",
       "          1.19855314e-01,  1.48900047e-01,  1.17864653e-01,\n",
       "         -2.18961835e-01,  7.71768242e-02,  3.41973417e-02,\n",
       "         -2.90123522e-01],\n",
       "        [ 8.41785297e-02, -3.09725612e-01, -7.81099424e-02,\n",
       "         -1.91726685e-01,  2.73604155e-01, -1.40375316e-01,\n",
       "         -2.19061911e-01,  3.99240643e-01, -1.63498834e-01,\n",
       "          9.76930633e-02],\n",
       "        [-3.74285877e-02,  3.20435733e-01,  2.95719057e-01,\n",
       "          2.94115454e-01, -1.39050884e-02, -1.60588890e-01,\n",
       "         -6.16485626e-02, -1.82827786e-01, -1.56210348e-01,\n",
       "          2.05463916e-01],\n",
       "        [ 6.36469275e-02,  2.10667670e-01,  3.06841820e-01,\n",
       "          1.19133033e-01, -2.30917111e-01, -1.53424621e-01,\n",
       "          3.59980799e-02, -2.24635974e-01,  1.23854876e-01,\n",
       "          1.05074458e-01],\n",
       "        [ 2.67816424e-01, -3.88102442e-01,  2.74927348e-01,\n",
       "         -2.14526489e-01,  3.59496415e-01, -7.38365799e-02,\n",
       "         -2.87737161e-01,  3.61136533e-02,  2.73215413e-01,\n",
       "          1.00962952e-01],\n",
       "        [-3.20753723e-01,  2.46428505e-01, -4.23706830e-01,\n",
       "         -1.20599590e-01,  4.16395515e-01,  4.32105690e-01,\n",
       "          1.41297013e-01, -1.42693132e-01, -1.15101434e-01,\n",
       "          8.25733617e-02],\n",
       "        [-3.67986709e-01,  3.05939764e-01, -1.99215621e-01,\n",
       "         -4.76452289e-03,  1.79228395e-01,  2.36122265e-01,\n",
       "          3.19635779e-01,  2.10327685e-01, -7.66790882e-02,\n",
       "         -2.77694434e-01],\n",
       "        [ 2.54631132e-01, -2.62119681e-01,  1.14414982e-01,\n",
       "         -3.83168489e-01, -3.38735878e-02, -3.81468743e-01,\n",
       "          2.05550939e-01, -2.19985992e-01, -4.44628268e-01,\n",
       "          2.38469735e-01],\n",
       "        [ 3.12441010e-02, -8.56212825e-02,  4.32118595e-01,\n",
       "         -5.34944892e-01,  2.31451720e-01,  4.94521290e-01,\n",
       "          4.01050031e-01,  5.80364354e-02,  1.79288194e-01,\n",
       "         -5.12654722e-01],\n",
       "        [ 1.15107432e-01,  1.11047149e-01, -1.42700210e-01,\n",
       "         -3.87089849e-01, -2.70730466e-01,  1.02827236e-01,\n",
       "          2.81758785e-01, -2.66431898e-01,  4.17059839e-01,\n",
       "         -2.23217204e-01],\n",
       "        [-2.51741350e-01,  7.13940620e-01, -3.24183762e-01,\n",
       "         -7.26895332e-02,  1.77834213e-01, -5.35530567e-01,\n",
       "          2.56632864e-01,  3.32913071e-01, -2.91693836e-01,\n",
       "         -6.44432366e-01],\n",
       "        [-9.89574194e-03,  2.93606609e-01,  1.34436056e-01,\n",
       "          2.86872000e-01, -3.28707621e-02,  3.96357149e-01,\n",
       "         -2.08655059e-01, -2.65152276e-01,  2.48353079e-01,\n",
       "          1.47247231e-02],\n",
       "        [ 4.23294306e-02,  3.19191404e-02, -7.38871634e-01,\n",
       "         -3.15537006e-01, -4.24042225e-01,  2.57887453e-01,\n",
       "         -6.56524021e-03,  3.27445656e-01, -5.25576115e-01,\n",
       "          3.33309174e-02],\n",
       "        [-3.30336690e-01,  1.84029326e-01, -2.55389869e-01,\n",
       "          2.10095495e-01, -3.21111590e-01, -4.73547764e-02,\n",
       "          3.28083813e-01,  6.00116327e-04,  9.61383283e-02,\n",
       "          3.16260934e-01],\n",
       "        [ 2.72832155e-01,  1.40496522e-01, -3.89676467e-02,\n",
       "         -4.75206047e-01,  3.98950338e-01,  2.74273306e-01,\n",
       "          4.11214679e-01, -2.41347581e-01, -1.56781226e-01,\n",
       "         -6.68679655e-01],\n",
       "        [ 1.77004993e-01, -3.96795154e-01,  4.63006161e-02,\n",
       "         -2.18081221e-01,  2.85179261e-02, -3.12172204e-01,\n",
       "          1.74367040e-01,  1.86587617e-01, -5.57494700e-01,\n",
       "          3.40579301e-01],\n",
       "        [-3.63389313e-01,  2.17560325e-02, -1.31948248e-01,\n",
       "          3.51264060e-01,  1.69771999e-01,  2.31295064e-01,\n",
       "         -1.09386824e-01,  1.82654381e-01, -1.76572725e-01,\n",
       "         -5.54633103e-02],\n",
       "        [ 1.50825039e-01, -8.16931278e-02, -2.46196434e-01,\n",
       "          2.02251300e-01,  9.75105539e-02,  3.56282860e-01,\n",
       "         -1.11946478e-01, -1.06417894e-01,  3.87665600e-01,\n",
       "         -1.44122213e-01],\n",
       "        [-2.72536963e-01,  1.21343799e-01, -1.77302346e-01,\n",
       "         -1.19214393e-02, -3.85374539e-02,  3.23973268e-01,\n",
       "         -3.74594778e-01,  6.55532852e-02,  7.88502172e-02,\n",
       "          2.36274838e-01],\n",
       "        [-2.10054666e-01,  3.43299299e-01, -1.11060135e-01,\n",
       "          3.54837894e-01,  3.04533958e-01, -4.49256301e-01,\n",
       "         -3.11962128e-01,  1.07900813e-01,  4.85494509e-02,\n",
       "          2.54395045e-02],\n",
       "        [ 2.97830671e-01,  1.93841890e-01,  2.91480243e-01,\n",
       "         -4.57347631e-01,  3.53684905e-03, -3.57438415e-01,\n",
       "          8.66844952e-02,  3.36120427e-01, -2.80186832e-01,\n",
       "         -3.80483925e-01],\n",
       "        [ 1.61205664e-01, -8.21232982e-03, -2.18602017e-01,\n",
       "          3.16003799e-01, -2.59213895e-01,  1.33512825e-01,\n",
       "          2.78568417e-01, -2.43766323e-01, -5.31516373e-01,\n",
       "          7.16191083e-02],\n",
       "        [-1.34833008e-01, -3.54164481e-01,  4.76684049e-02,\n",
       "         -2.03199759e-01,  1.59358367e-01, -7.42010623e-02,\n",
       "         -2.91126400e-01,  1.39128909e-01,  1.28803477e-01,\n",
       "          5.58286440e-03],\n",
       "        [ 5.63461408e-02, -4.70307708e-01, -4.94398832e-01,\n",
       "         -3.45390409e-01,  8.58097225e-02, -3.67723078e-01,\n",
       "          1.74350426e-01,  2.25219756e-01, -1.49082333e-01,\n",
       "          4.30496246e-01],\n",
       "        [ 2.86964979e-02, -8.30316320e-02, -3.35107483e-02,\n",
       "          3.55865180e-01, -3.41059327e-01,  1.46969780e-01,\n",
       "         -4.52883542e-01, -3.54032107e-02,  3.27660084e-01,\n",
       "          1.93116769e-01],\n",
       "        [-3.12148809e-01, -1.36484146e-01,  3.37659895e-01,\n",
       "         -2.92022854e-01,  2.13282675e-01,  4.09463823e-01,\n",
       "          2.30852664e-01,  1.36994645e-01, -3.90559793e-01,\n",
       "          7.47131780e-02],\n",
       "        [ 3.66667628e-01,  3.25371809e-02,  2.87992001e-01,\n",
       "         -3.29148948e-01, -3.52995783e-01, -1.71259850e-01,\n",
       "          2.26467833e-01,  1.73718885e-01,  2.83523768e-01,\n",
       "          2.38026991e-01],\n",
       "        [ 2.82758218e-03,  1.06754582e-02, -4.15635109e-01,\n",
       "          8.78316164e-02, -4.55311686e-01,  2.88406074e-01,\n",
       "         -2.10185736e-01,  1.16976522e-01,  2.12224141e-01,\n",
       "          3.50835770e-01],\n",
       "        [ 3.35272580e-01, -3.80634546e-01, -2.61959672e-01,\n",
       "          2.53469169e-01, -5.71372926e-01, -6.90062866e-02,\n",
       "         -5.20049222e-02,  4.28591400e-01,  2.92870738e-02,\n",
       "         -1.44702449e-01],\n",
       "        [-3.39317441e-01, -3.15305322e-01,  3.92423838e-01,\n",
       "         -2.03661934e-01,  2.72523642e-01,  5.48904240e-01,\n",
       "         -5.07110119e-01, -1.75761089e-01, -7.27277935e-01,\n",
       "          1.15972102e-01],\n",
       "        [ 6.20860457e-02,  2.24945739e-01,  3.08159947e-01,\n",
       "          4.67051715e-01,  3.66090864e-01, -6.59983397e-01,\n",
       "         -3.72995943e-01,  3.11219245e-02,  3.39775264e-01,\n",
       "          2.71568269e-01],\n",
       "        [-6.72576368e-01,  1.08836539e-01, -1.23512380e-01,\n",
       "          6.64181828e-01, -7.40964115e-01,  4.27257717e-01,\n",
       "         -4.04480994e-01,  6.11350477e-01, -7.12096334e-01,\n",
       "         -7.20241189e-01],\n",
       "        [ 3.45199704e-01,  2.60001808e-01, -2.58016586e-01,\n",
       "          4.60383967e-02, -9.17790681e-02, -1.82953760e-01,\n",
       "         -1.67858705e-01, -2.97654122e-01, -3.94699454e-01,\n",
       "          1.41120598e-01],\n",
       "        [ 4.28792417e-01, -2.92898417e-01,  4.25426394e-01,\n",
       "          2.20629051e-01, -2.84724683e-01, -2.25628436e-01,\n",
       "         -2.43149400e-01,  1.59429565e-01,  9.13815424e-02,\n",
       "         -4.69211996e-01],\n",
       "        [ 1.02935806e-01, -2.63926327e-01,  3.22298855e-02,\n",
       "          3.31921071e-01, -2.02738300e-01,  3.33803862e-01,\n",
       "         -3.30631346e-01,  3.67904931e-01, -2.33681604e-01,\n",
       "         -3.30217957e-01],\n",
       "        [-1.13126718e-01,  1.08818173e-01,  7.54221752e-02,\n",
       "          9.99011844e-02,  2.83812842e-05, -3.24436724e-01,\n",
       "         -2.96349108e-01,  6.77476078e-02,  3.03731650e-01,\n",
       "         -4.55164403e-01],\n",
       "        [-1.81316912e-01,  2.69244343e-01,  1.88934252e-01,\n",
       "          3.18146660e-04,  1.88812494e-01, -2.94625759e-01,\n",
       "          3.72902416e-02,  4.09915954e-01, -1.41199067e-04,\n",
       "         -5.02888858e-01],\n",
       "        [-8.67705122e-02, -2.53776342e-01, -1.74857795e-01,\n",
       "          4.34876010e-02, -2.92905182e-01,  1.82004437e-01,\n",
       "         -2.93990701e-01,  2.39004597e-01, -3.73853981e-01,\n",
       "          2.19791532e-01],\n",
       "        [ 1.72898948e-01,  2.92787403e-01,  3.84612828e-01,\n",
       "         -4.95143592e-01,  2.01350506e-02, -7.10099280e-01,\n",
       "         -6.06083333e-01,  5.01792431e-01, -2.19092786e-01,\n",
       "         -4.70699430e-01],\n",
       "        [ 4.24150229e-01,  2.15964749e-01,  4.25055444e-01,\n",
       "         -8.73579606e-02, -3.89592350e-01,  5.11667073e-01,\n",
       "         -1.03484437e-01,  2.35948205e-01, -4.64035273e-01,\n",
       "         -6.34928823e-01],\n",
       "        [-3.26032966e-01,  2.78026193e-01,  1.18755065e-01,\n",
       "          3.02417219e-01, -5.14866650e-01,  2.56990224e-01,\n",
       "          2.71793634e-01, -2.23979086e-01,  2.69271433e-01,\n",
       "          1.52910501e-01],\n",
       "        [-9.68914703e-02, -1.34554878e-01,  3.22790533e-01,\n",
       "          2.69312412e-01,  3.07715744e-01,  2.46065557e-01,\n",
       "          2.20007673e-01,  1.22240685e-01,  3.65402877e-01,\n",
       "         -1.75353326e-02],\n",
       "        [-3.22051533e-02,  2.96205223e-01,  4.03302401e-01,\n",
       "          5.76829538e-02, -3.93856645e-01, -1.54390454e-01,\n",
       "         -3.38819087e-01,  3.21997732e-01, -9.71527994e-02,\n",
       "          1.11725859e-01],\n",
       "        [-4.48549062e-01,  4.28127795e-01, -6.15999222e-01,\n",
       "         -3.93231302e-01,  4.15944941e-02,  5.34817614e-02,\n",
       "          1.88982382e-01, -2.04373449e-02, -4.60408688e-01,\n",
       "          1.40239939e-01],\n",
       "        [-1.69335425e-01, -2.09216774e-01, -3.56225967e-01,\n",
       "          8.27911496e-02, -1.27246469e-01,  4.41672921e-01,\n",
       "          2.95031697e-01, -4.43610996e-01, -1.44841030e-01,\n",
       "          3.93549621e-01],\n",
       "        [-3.42786610e-02, -1.81431156e-02,  1.54243186e-01,\n",
       "          3.58727306e-01, -1.83363423e-01,  5.87293506e-02,\n",
       "          3.36682230e-01, -2.07515955e-01, -7.73892403e-02,\n",
       "         -4.68635172e-01],\n",
       "        [ 3.57523978e-01,  4.45331037e-01, -1.01390086e-01,\n",
       "         -3.68731648e-01,  2.60697424e-01, -5.40798962e-01,\n",
       "          3.54741722e-01,  2.58412361e-01, -5.86606145e-01,\n",
       "          3.03645462e-01]], dtype=float32),\n",
       " array([-0.06986381,  0.05477686,  0.0695099 , -0.09599336,  0.04553825,\n",
       "         0.21481481, -0.06710657,  0.02462305, -0.09132732,  0.01419265],\n",
       "       dtype=float32)]"
      ]
     },
     "execution_count": 41,
     "metadata": {},
     "output_type": "execute_result"
    }
   ],
   "source": [
    "model.layers[1].get_weights()\n",
    "# displays the weights and biases of second layer"
   ]
  },
  {
   "cell_type": "markdown",
   "metadata": {},
   "source": [
    "##### weights update using HM example"
   ]
  },
  {
   "cell_type": "code",
   "execution_count": 42,
   "metadata": {},
   "outputs": [],
   "source": [
    "array1 = np.array([[2,2],[3,3]])\n",
    "array2 = np.array([[4,4],[5,5]])"
   ]
  },
  {
   "cell_type": "code",
   "execution_count": 43,
   "metadata": {},
   "outputs": [
    {
     "data": {
      "text/plain": [
       "(array([[2, 2],\n",
       "        [3, 3]]),\n",
       " array([[4, 4],\n",
       "        [5, 5]]))"
      ]
     },
     "execution_count": 43,
     "metadata": {},
     "output_type": "execute_result"
    }
   ],
   "source": [
    "array1, array2"
   ]
  },
  {
   "cell_type": "code",
   "execution_count": 44,
   "metadata": {},
   "outputs": [
    {
     "data": {
      "text/plain": [
       "array([[6, 6],\n",
       "       [8, 8]])"
      ]
     },
     "execution_count": 44,
     "metadata": {},
     "output_type": "execute_result"
    }
   ],
   "source": [
    "array1 + array2"
   ]
  },
  {
   "cell_type": "code",
   "execution_count": 45,
   "metadata": {},
   "outputs": [
    {
     "data": {
      "text/plain": [
       "array([[ 8,  8],\n",
       "       [15, 15]])"
      ]
     },
     "execution_count": 45,
     "metadata": {},
     "output_type": "execute_result"
    }
   ],
   "source": [
    "array1 * array2"
   ]
  },
  {
   "cell_type": "code",
   "execution_count": 46,
   "metadata": {},
   "outputs": [
    {
     "data": {
      "text/plain": [
       "array([[0.5, 0.5],\n",
       "       [0.6, 0.6]])"
      ]
     },
     "execution_count": 46,
     "metadata": {},
     "output_type": "execute_result"
    }
   ],
   "source": [
    "array1 / array2"
   ]
  },
  {
   "cell_type": "code",
   "execution_count": 47,
   "metadata": {},
   "outputs": [
    {
     "data": {
      "text/plain": [
       "array([[16, 16],\n",
       "       [30, 30]])"
      ]
     },
     "execution_count": 47,
     "metadata": {},
     "output_type": "execute_result"
    }
   ],
   "source": [
    "2*(array1 * array2)"
   ]
  },
  {
   "cell_type": "code",
   "execution_count": 48,
   "metadata": {},
   "outputs": [
    {
     "data": {
      "text/plain": [
       "array([[2.66666667, 2.66666667],\n",
       "       [3.75      , 3.75      ]])"
      ]
     },
     "execution_count": 48,
     "metadata": {},
     "output_type": "execute_result"
    }
   ],
   "source": [
    "updated = 2*(array1 * array2)/(array1 + array2)\n",
    "updated"
   ]
  },
  {
   "cell_type": "markdown",
   "metadata": {},
   "source": [
    "##### Storing and retrieving the weights"
   ]
  },
  {
   "cell_type": "code",
   "execution_count": 49,
   "metadata": {},
   "outputs": [],
   "source": [
    "model.save_weights('my_model_weights.h5')\n",
    "recovered_model = model.load_weights('my_model_weights.h5')\n",
    "# model.get_weights()"
   ]
  },
  {
   "cell_type": "markdown",
   "metadata": {},
   "source": [
    "##### Storing and retrieving the models"
   ]
  },
  {
   "cell_type": "code",
   "execution_count": 50,
   "metadata": {},
   "outputs": [],
   "source": [
    "model.save('model.h5')\n",
    "loaded_model = keras.models.load_model('model.h5')"
   ]
  },
  {
   "cell_type": "code",
   "execution_count": 51,
   "metadata": {},
   "outputs": [],
   "source": [
    "# cloning the models\n",
    "model_cloned = keras.models.clone_model(model)\n",
    "new_weights = model_cloned.get_weights()"
   ]
  },
  {
   "cell_type": "markdown",
   "metadata": {},
   "source": [
    "##### HM model"
   ]
  },
  {
   "cell_type": "code",
   "execution_count": 52,
   "metadata": {},
   "outputs": [],
   "source": [
    "def get_model(): \n",
    "    model_hm = keras.Sequential([\n",
    "        # input layer 784 neurons to first hidden layer with 64 neurons\n",
    "        keras.layers.Dense(64, input_shape = (784,), activation='relu'), \n",
    "        # first hidden layer with 64 neurons\n",
    "        #keras.layers.Dense(64, activation='relu'), \n",
    "        # second hidden layer with 64 neurons\n",
    "        #keras.layers.Dense(64, activation='relu'), \n",
    "        # Output layer with 10 neurons\n",
    "        keras.layers.Dense(10, activation='sigmoid')\n",
    "    ])\n",
    "    model_hm.compile(\n",
    "        optimizer = 'SGD',\n",
    "        loss = 'sparse_categorical_crossentropy',\n",
    "        metrics = ['accuracy']\n",
    "    )\n",
    "    return model_hm"
   ]
  },
  {
   "cell_type": "code",
   "execution_count": 53,
   "metadata": {},
   "outputs": [],
   "source": [
    "class CustomCallback(keras.callbacks.Callback): \n",
    "    iteration = 0\n",
    "    initial_weights = 0\n",
    "    previous_weights = 0\n",
    "    \n",
    "    def on_train_begin(self, logs=None):\n",
    "        self.initial_weights = model_hm.get_weights() \n",
    "        self.initial_weights = np.array(self.initial_weights,dtype=object)\n",
    "        self.previous_weights = self.initial_weights\n",
    "        #print(\"\\nThe initial weights are: \\n\",self.initial_weights)\n",
    "        #print(\"\\nTheir shape :\", self.initial_weights.shape) \n",
    "    \n",
    "    def on_train_batch_end(self, epoch, logs=None): \n",
    "        counter = 0\n",
    "        num_layers = len(model_hm.layers) \n",
    "        #print(\"\\n Number of layers :\",num_layers)\n",
    "        #print(\"\\nIteration number :\",self.iteration)\n",
    "        current_weights = model_hm.get_weights()\n",
    "        current_weights = np.array(current_weights,dtype=object)\n",
    "        #print(\"\\nThe previous weights are: \\n\",self.previous_weights)\n",
    "        \n",
    "        for i in range(num_layers):  \n",
    "            #current_weights[counter] = 2 * (self.previous_weights[counter]  * current_weights[counter]) / (self.previous_weights[counter]  + current_weights[counter])\n",
    "            #current_weights[counter] = (self.previous_weights[counter]  + current_weights[counter]) / 2\n",
    "            #current_weights[counter] = self.previous_weights[counter]  \n",
    "            current_weights[counter] = 1.1 * self.previous_weights[counter]\n",
    "            counter = counter + 2\n",
    "        updated = current_weights.tolist()        \n",
    "        #print(\"\\nThe current weights are: \\n\",current_weights)\n",
    "        model_hm.set_weights(updated)\n",
    "        self.previous_weights = current_weights\n",
    "        self.iteration = self.iteration + 1 \n",
    "        #print(\"\\nThe weights are: \\n\",updated) \n",
    "        \n",
    "    #def on_epoch_end(self, epoch, logs=None): \n",
    "        #num_layers = len(model_hm.layers)  \n",
    "        #print(\"epoch end\")\n",
    "        #for i in range(num_layers):\n",
    "        #weights = model_hm.layers[i].get_weights()[0] \n",
    "        #print(\"Layer number :\",i)\n",
    "        #print(\"The weights are :\", weights) \n",
    "        #print(\"Their shape :\", weights.shape) "
   ]
  },
  {
   "cell_type": "code",
   "execution_count": 54,
   "metadata": {
    "scrolled": true
   },
   "outputs": [
    {
     "name": "stdout",
     "output_type": "stream",
     "text": [
      "Epoch 1/100\n",
      "  1/938 [..............................] - ETA: 5:22 - loss: 2.3557 - accuracy: 0.0938WARNING:tensorflow:Callback method `on_train_batch_end` is slow compared to the batch time (batch time: 0.0016s vs `on_train_batch_end` time: 0.0027s). Check your callbacks.\n",
      "938/938 [==============================] - 4s 4ms/step - loss: nan - accuracy: 0.0976\n",
      "Epoch 2/100\n",
      " 54/938 [>.............................] - ETA: 3s - loss: nan - accuracy: 0.1079"
     ]
    },
    {
     "name": "stderr",
     "output_type": "stream",
     "text": [
      "<ipython-input-53-daab313efdd8>:26: RuntimeWarning: overflow encountered in multiply\n",
      "  current_weights[counter] = 1.1 * self.previous_weights[counter]\n"
     ]
    },
    {
     "name": "stdout",
     "output_type": "stream",
     "text": [
      "938/938 [==============================] - 3s 3ms/step - loss: nan - accuracy: 0.0987\n",
      "Epoch 3/100\n",
      "938/938 [==============================] - 3s 3ms/step - loss: nan - accuracy: 0.0987\n",
      "Epoch 4/100\n",
      "938/938 [==============================] - 3s 3ms/step - loss: nan - accuracy: 0.0987\n",
      "Epoch 5/100\n",
      "938/938 [==============================] - 3s 3ms/step - loss: nan - accuracy: 0.0987\n",
      "Epoch 6/100\n",
      "938/938 [==============================] - 3s 3ms/step - loss: nan - accuracy: 0.0987\n",
      "Epoch 7/100\n",
      "938/938 [==============================] - 3s 3ms/step - loss: nan - accuracy: 0.0987\n",
      "Epoch 8/100\n",
      "938/938 [==============================] - 3s 3ms/step - loss: nan - accuracy: 0.0987\n",
      "Epoch 9/100\n",
      "938/938 [==============================] - 3s 3ms/step - loss: nan - accuracy: 0.0987\n",
      "Epoch 10/100\n",
      "938/938 [==============================] - 3s 3ms/step - loss: nan - accuracy: 0.0987\n",
      "Epoch 11/100\n",
      "938/938 [==============================] - 2s 3ms/step - loss: nan - accuracy: 0.0987\n",
      "Epoch 12/100\n",
      "938/938 [==============================] - 3s 3ms/step - loss: nan - accuracy: 0.0987\n",
      "Epoch 13/100\n",
      "938/938 [==============================] - 3s 3ms/step - loss: nan - accuracy: 0.0987\n",
      "Epoch 14/100\n",
      "938/938 [==============================] - 3s 3ms/step - loss: nan - accuracy: 0.0987\n",
      "Epoch 15/100\n",
      "938/938 [==============================] - 3s 3ms/step - loss: nan - accuracy: 0.0987\n",
      "Epoch 16/100\n",
      "938/938 [==============================] - 3s 3ms/step - loss: nan - accuracy: 0.0987\n",
      "Epoch 17/100\n",
      "938/938 [==============================] - 3s 3ms/step - loss: nan - accuracy: 0.0987\n",
      "Epoch 18/100\n",
      "938/938 [==============================] - 3s 3ms/step - loss: nan - accuracy: 0.0987\n",
      "Epoch 19/100\n",
      "938/938 [==============================] - 3s 3ms/step - loss: nan - accuracy: 0.0987\n",
      "Epoch 20/100\n",
      "938/938 [==============================] - 3s 3ms/step - loss: nan - accuracy: 0.0987\n",
      "Epoch 21/100\n",
      "938/938 [==============================] - 3s 3ms/step - loss: nan - accuracy: 0.0987\n",
      "Epoch 22/100\n",
      "938/938 [==============================] - 3s 3ms/step - loss: nan - accuracy: 0.0987\n",
      "Epoch 23/100\n",
      "938/938 [==============================] - 3s 3ms/step - loss: nan - accuracy: 0.0987\n",
      "Epoch 24/100\n",
      "938/938 [==============================] - 3s 3ms/step - loss: nan - accuracy: 0.0987\n",
      "Epoch 25/100\n",
      "938/938 [==============================] - 3s 3ms/step - loss: nan - accuracy: 0.0987\n",
      "Epoch 26/100\n",
      "938/938 [==============================] - 3s 3ms/step - loss: nan - accuracy: 0.0987\n",
      "Epoch 27/100\n",
      "938/938 [==============================] - 3s 3ms/step - loss: nan - accuracy: 0.0987\n",
      "Epoch 28/100\n",
      "938/938 [==============================] - 3s 3ms/step - loss: nan - accuracy: 0.0987\n",
      "Epoch 29/100\n",
      "938/938 [==============================] - 2s 3ms/step - loss: nan - accuracy: 0.0987\n",
      "Epoch 30/100\n",
      "938/938 [==============================] - 3s 3ms/step - loss: nan - accuracy: 0.0987\n",
      "Epoch 31/100\n",
      "938/938 [==============================] - 3s 3ms/step - loss: nan - accuracy: 0.0987\n",
      "Epoch 32/100\n",
      "938/938 [==============================] - 3s 3ms/step - loss: nan - accuracy: 0.0987\n",
      "Epoch 33/100\n",
      "938/938 [==============================] - 3s 3ms/step - loss: nan - accuracy: 0.0987\n",
      "Epoch 34/100\n",
      "938/938 [==============================] - 3s 3ms/step - loss: nan - accuracy: 0.0987\n",
      "Epoch 35/100\n",
      "938/938 [==============================] - 3s 3ms/step - loss: nan - accuracy: 0.0987\n",
      "Epoch 36/100\n",
      "938/938 [==============================] - 2s 3ms/step - loss: nan - accuracy: 0.0987\n",
      "Epoch 37/100\n",
      "938/938 [==============================] - 3s 3ms/step - loss: nan - accuracy: 0.0987\n",
      "Epoch 38/100\n",
      "938/938 [==============================] - 3s 3ms/step - loss: nan - accuracy: 0.0987\n",
      "Epoch 39/100\n",
      "938/938 [==============================] - 3s 4ms/step - loss: nan - accuracy: 0.0987\n",
      "Epoch 40/100\n",
      "938/938 [==============================] - 3s 3ms/step - loss: nan - accuracy: 0.0987\n",
      "Epoch 41/100\n",
      "938/938 [==============================] - 3s 3ms/step - loss: nan - accuracy: 0.0987\n",
      "Epoch 42/100\n",
      "938/938 [==============================] - 3s 3ms/step - loss: nan - accuracy: 0.0987\n",
      "Epoch 43/100\n",
      "938/938 [==============================] - 3s 3ms/step - loss: nan - accuracy: 0.0987\n",
      "Epoch 44/100\n",
      "938/938 [==============================] - 3s 3ms/step - loss: nan - accuracy: 0.0987\n",
      "Epoch 45/100\n",
      "938/938 [==============================] - 3s 3ms/step - loss: nan - accuracy: 0.0987\n",
      "Epoch 46/100\n",
      "938/938 [==============================] - 3s 3ms/step - loss: nan - accuracy: 0.0987\n",
      "Epoch 47/100\n",
      "938/938 [==============================] - 3s 3ms/step - loss: nan - accuracy: 0.0987\n",
      "Epoch 48/100\n",
      "938/938 [==============================] - 3s 3ms/step - loss: nan - accuracy: 0.0987\n",
      "Epoch 49/100\n",
      "938/938 [==============================] - 3s 3ms/step - loss: nan - accuracy: 0.0987\n",
      "Epoch 50/100\n",
      "938/938 [==============================] - 2s 3ms/step - loss: nan - accuracy: 0.0987\n",
      "Epoch 51/100\n",
      "938/938 [==============================] - 3s 3ms/step - loss: nan - accuracy: 0.0987\n",
      "Epoch 52/100\n",
      "938/938 [==============================] - 3s 3ms/step - loss: nan - accuracy: 0.0987\n",
      "Epoch 53/100\n",
      "938/938 [==============================] - 3s 3ms/step - loss: nan - accuracy: 0.0987\n",
      "Epoch 54/100\n",
      "938/938 [==============================] - 3s 3ms/step - loss: nan - accuracy: 0.0987\n",
      "Epoch 55/100\n",
      "938/938 [==============================] - 3s 3ms/step - loss: nan - accuracy: 0.0987\n",
      "Epoch 56/100\n",
      "938/938 [==============================] - 3s 3ms/step - loss: nan - accuracy: 0.0987\n",
      "Epoch 57/100\n",
      "938/938 [==============================] - 3s 3ms/step - loss: nan - accuracy: 0.0987\n",
      "Epoch 58/100\n",
      "938/938 [==============================] - 3s 3ms/step - loss: nan - accuracy: 0.0987\n",
      "Epoch 59/100\n",
      "938/938 [==============================] - 3s 3ms/step - loss: nan - accuracy: 0.0987\n",
      "Epoch 60/100\n",
      "938/938 [==============================] - 3s 3ms/step - loss: nan - accuracy: 0.0987\n",
      "Epoch 61/100\n",
      "938/938 [==============================] - 3s 3ms/step - loss: nan - accuracy: 0.0987\n",
      "Epoch 62/100\n",
      "938/938 [==============================] - 3s 3ms/step - loss: nan - accuracy: 0.0987\n",
      "Epoch 63/100\n",
      "938/938 [==============================] - 3s 3ms/step - loss: nan - accuracy: 0.0987\n",
      "Epoch 64/100\n",
      "938/938 [==============================] - 3s 3ms/step - loss: nan - accuracy: 0.0987\n",
      "Epoch 65/100\n",
      "938/938 [==============================] - 3s 4ms/step - loss: nan - accuracy: 0.0987\n",
      "Epoch 66/100\n",
      "938/938 [==============================] - 3s 4ms/step - loss: nan - accuracy: 0.0987\n",
      "Epoch 67/100\n",
      "938/938 [==============================] - 3s 3ms/step - loss: nan - accuracy: 0.0987\n",
      "Epoch 68/100\n",
      "938/938 [==============================] - 3s 3ms/step - loss: nan - accuracy: 0.0987\n",
      "Epoch 69/100\n",
      "938/938 [==============================] - 3s 3ms/step - loss: nan - accuracy: 0.0987\n",
      "Epoch 70/100\n",
      "938/938 [==============================] - 3s 3ms/step - loss: nan - accuracy: 0.0987\n",
      "Epoch 71/100\n",
      "938/938 [==============================] - 3s 3ms/step - loss: nan - accuracy: 0.0987\n",
      "Epoch 72/100\n",
      "938/938 [==============================] - 2s 3ms/step - loss: nan - accuracy: 0.0987\n",
      "Epoch 73/100\n",
      "938/938 [==============================] - 3s 3ms/step - loss: nan - accuracy: 0.0987\n",
      "Epoch 74/100\n",
      "938/938 [==============================] - 3s 3ms/step - loss: nan - accuracy: 0.0987\n",
      "Epoch 75/100\n",
      "938/938 [==============================] - 3s 3ms/step - loss: nan - accuracy: 0.0987\n",
      "Epoch 76/100\n",
      "938/938 [==============================] - 3s 3ms/step - loss: nan - accuracy: 0.0987\n",
      "Epoch 77/100\n",
      "938/938 [==============================] - 3s 3ms/step - loss: nan - accuracy: 0.0987\n",
      "Epoch 78/100\n",
      "938/938 [==============================] - 3s 3ms/step - loss: nan - accuracy: 0.0987\n",
      "Epoch 79/100\n",
      "938/938 [==============================] - 3s 3ms/step - loss: nan - accuracy: 0.0987\n",
      "Epoch 80/100\n",
      "938/938 [==============================] - 3s 3ms/step - loss: nan - accuracy: 0.0987\n",
      "Epoch 81/100\n",
      "938/938 [==============================] - 3s 3ms/step - loss: nan - accuracy: 0.0987\n",
      "Epoch 82/100\n",
      "938/938 [==============================] - 3s 3ms/step - loss: nan - accuracy: 0.0987\n",
      "Epoch 83/100\n",
      "938/938 [==============================] - 3s 3ms/step - loss: nan - accuracy: 0.0987\n",
      "Epoch 84/100\n",
      "938/938 [==============================] - 3s 3ms/step - loss: nan - accuracy: 0.0987\n"
     ]
    },
    {
     "name": "stdout",
     "output_type": "stream",
     "text": [
      "Epoch 85/100\n",
      "938/938 [==============================] - 3s 3ms/step - loss: nan - accuracy: 0.0987\n",
      "Epoch 86/100\n",
      "938/938 [==============================] - 3s 3ms/step - loss: nan - accuracy: 0.0987\n",
      "Epoch 87/100\n",
      "938/938 [==============================] - 3s 3ms/step - loss: nan - accuracy: 0.0987\n",
      "Epoch 88/100\n",
      "938/938 [==============================] - 3s 3ms/step - loss: nan - accuracy: 0.0987\n",
      "Epoch 89/100\n",
      "938/938 [==============================] - 3s 3ms/step - loss: nan - accuracy: 0.0987\n",
      "Epoch 90/100\n",
      "938/938 [==============================] - 3s 3ms/step - loss: nan - accuracy: 0.0987\n",
      "Epoch 91/100\n",
      "938/938 [==============================] - 3s 3ms/step - loss: nan - accuracy: 0.0987\n",
      "Epoch 92/100\n",
      "938/938 [==============================] - 3s 3ms/step - loss: nan - accuracy: 0.0987\n",
      "Epoch 93/100\n",
      "938/938 [==============================] - 3s 3ms/step - loss: nan - accuracy: 0.0987\n",
      "Epoch 94/100\n",
      "938/938 [==============================] - 3s 3ms/step - loss: nan - accuracy: 0.0987\n",
      "Epoch 95/100\n",
      "938/938 [==============================] - 3s 3ms/step - loss: nan - accuracy: 0.0987\n",
      "Epoch 96/100\n",
      "938/938 [==============================] - 3s 3ms/step - loss: nan - accuracy: 0.0987\n",
      "Epoch 97/100\n",
      "938/938 [==============================] - 3s 3ms/step - loss: nan - accuracy: 0.0987\n",
      "Epoch 98/100\n",
      "938/938 [==============================] - 3s 3ms/step - loss: nan - accuracy: 0.0987\n",
      "Epoch 99/100\n",
      "938/938 [==============================] - 3s 3ms/step - loss: nan - accuracy: 0.0987\n",
      "Epoch 100/100\n",
      "938/938 [==============================] - 3s 3ms/step - loss: nan - accuracy: 0.0987\n"
     ]
    },
    {
     "data": {
      "text/plain": [
       "<keras.callbacks.History at 0x28544eade80>"
      ]
     },
     "execution_count": 54,
     "metadata": {},
     "output_type": "execute_result"
    }
   ],
   "source": [
    "model_hm = get_model()\n",
    "model_hm.fit(X_train_normalized, y_train, epochs = 100, verbose=1, callbacks=[CustomCallback()], batch_size=64) "
   ]
  },
  {
   "cell_type": "code",
   "execution_count": 55,
   "metadata": {},
   "outputs": [
    {
     "name": "stdout",
     "output_type": "stream",
     "text": [
      "Epoch 1/10\n",
      "938/938 [==============================] - 1s 1ms/step - loss: 0.9125 - accuracy: 0.7689\n",
      "Epoch 2/10\n",
      "938/938 [==============================] - 1s 2ms/step - loss: 0.4231 - accuracy: 0.8865\n",
      "Epoch 3/10\n",
      "938/938 [==============================] - 1s 1ms/step - loss: 0.3557 - accuracy: 0.9009\n",
      "Epoch 4/10\n",
      "938/938 [==============================] - 1s 1ms/step - loss: 0.3228 - accuracy: 0.9093\n",
      "Epoch 5/10\n",
      "938/938 [==============================] - 1s 1ms/step - loss: 0.3012 - accuracy: 0.9151\n",
      "Epoch 6/10\n",
      "938/938 [==============================] - 1s 1ms/step - loss: 0.2843 - accuracy: 0.9202\n",
      "Epoch 7/10\n",
      "938/938 [==============================] - 1s 1ms/step - loss: 0.2704 - accuracy: 0.9237\n",
      "Epoch 8/10\n",
      "938/938 [==============================] - 1s 1ms/step - loss: 0.2584 - accuracy: 0.9276\n",
      "Epoch 9/10\n",
      "938/938 [==============================] - 1s 1ms/step - loss: 0.2475 - accuracy: 0.9304\n",
      "Epoch 10/10\n",
      "938/938 [==============================] - 1s 1ms/step - loss: 0.2376 - accuracy: 0.9334\n"
     ]
    },
    {
     "data": {
      "text/plain": [
       "<keras.callbacks.History at 0x2855c657790>"
      ]
     },
     "execution_count": 55,
     "metadata": {},
     "output_type": "execute_result"
    }
   ],
   "source": [
    "model_hm = get_model()\n",
    "model_hm.fit(X_train_normalized, y_train, epochs = 10, verbose=1, batch_size=64) "
   ]
  },
  {
   "cell_type": "code",
   "execution_count": 56,
   "metadata": {},
   "outputs": [
    {
     "data": {
      "text/plain": [
       "2.0"
      ]
     },
     "execution_count": 56,
     "metadata": {},
     "output_type": "execute_result"
    }
   ],
   "source": [
    "0.06/0.03"
   ]
  },
  {
   "cell_type": "code",
   "execution_count": 57,
   "metadata": {},
   "outputs": [
    {
     "data": {
      "text/plain": [
       "[<matplotlib.lines.Line2D at 0x2855c65bfd0>]"
      ]
     },
     "execution_count": 57,
     "metadata": {},
     "output_type": "execute_result"
    },
    {
     "data": {
      "image/png": "[encoded data removed]",
      "text/plain": [
       "<Figure size 432x288 with 1 Axes>"
      ]
     },
     "metadata": {
      "needs_background": "light"
     },
     "output_type": "display_data"
    }
   ],
   "source": [
    "x = np.linspace(1, 10, 100000)\n",
    "y = np.log(x)/10\n",
    "plt.plot(x,y)"
   ]
  },
  {
   "cell_type": "code",
   "execution_count": 58,
   "metadata": {},
   "outputs": [
    {
     "name": "stderr",
     "output_type": "stream",
     "text": [
      "<ipython-input-58-098b9115a3fd>:2: RuntimeWarning: divide by zero encountered in log\n",
      "  y1 = -np.log(x)\n",
      "<ipython-input-58-098b9115a3fd>:4: RuntimeWarning: divide by zero encountered in log\n",
      "  y3 = -np.log(1-x)\n"
     ]
    },
    {
     "data": {
      "image/png": "[encoded data removed]",
      "text/plain": [
       "<Figure size 1200x900 with 1 Axes>"
      ]
     },
     "metadata": {
      "needs_background": "light"
     },
     "output_type": "display_data"
    }
   ],
   "source": [
    "x = np.linspace(0, 1, 100000)\n",
    "y1 = -np.log(x) \n",
    "y2 = (1-x)**2\n",
    "y3 = -np.log(1-x) \n",
    "plt.figure(figsize = (4,3), dpi = 300)\n",
    "plt.plot(x,y1,\"r--\",label='-log(p)')\n",
    "plt.plot(x,y2,\"k-\",label='SSE')\n",
    "plt.plot(x,y3,\"g:\",label='-log(1-p)')\n",
    "plt.ylabel(\"Loss\",fontdict={'fontname':'Times New Roman', 'fontsize':15})\n",
    "plt.xlabel(\"Predicted probability\",fontdict={'fontname':'Times New Roman', 'fontsize':15})\n",
    "plt.title(\"SSE vs CE\",fontdict={'fontname':'Times New Roman', 'fontsize':15})\n",
    "plt.xticks(fontsize=10, fontname='Times New Roman')\n",
    "plt.yticks(fontsize=10, fontname='Times New Roman')\n",
    "plt.tight_layout()\n",
    "plt.legend()\n",
    "plt.savefig(\"graph.png\",bbox_inches='tight',dpi=(300)) \n",
    "plt.show()"
   ]
  },
  {
   "cell_type": "code",
   "execution_count": 59,
   "metadata": {},
   "outputs": [
    {
     "data": {
      "text/plain": [
       "'D:\\\\10.PROGRAMS\\\\Python_Programs\\\\3.Raja\\\\Deep learning\\\\HM-SGD'"
      ]
     },
     "execution_count": 59,
     "metadata": {},
     "output_type": "execute_result"
    }
   ],
   "source": [
    "pwd"
   ]
  },
  {
   "cell_type": "code",
   "execution_count": 60,
   "metadata": {},
   "outputs": [
    {
     "data": {
      "text/plain": [
       "8.51929e-07"
      ]
     },
     "execution_count": 60,
     "metadata": {},
     "output_type": "execute_result"
    }
   ],
   "source": [
    "0.000923**2"
   ]
  },
  {
   "cell_type": "code",
   "execution_count": 61,
   "metadata": {},
   "outputs": [
    {
     "data": {
      "text/plain": [
       "0.08"
      ]
     },
     "execution_count": 61,
     "metadata": {},
     "output_type": "execute_result"
    }
   ],
   "source": [
    "num1 = 0.03\n",
    "num2 = -0.12\n",
    "2*num1*num2/(num1+num2)"
   ]
  },
  {
   "cell_type": "code",
   "execution_count": 62,
   "metadata": {},
   "outputs": [
    {
     "data": {
      "text/plain": [
       "2.5"
      ]
     },
     "execution_count": 62,
     "metadata": {},
     "output_type": "execute_result"
    }
   ],
   "source": [
    "0.12/0.048"
   ]
  },
  {
   "cell_type": "code",
   "execution_count": 63,
   "metadata": {},
   "outputs": [],
   "source": [
    "model.save_weights('weights.h5')"
   ]
  },
  {
   "cell_type": "markdown",
   "metadata": {},
   "source": [
    "###### Testing the model"
   ]
  },
  {
   "cell_type": "code",
   "execution_count": 65,
   "metadata": {},
   "outputs": [
    {
     "name": "stdout",
     "output_type": "stream",
     "text": [
      "313/313 [==============================] - 0s 1ms/step - loss: 0.2278 - accuracy: 0.9364\n"
     ]
    },
    {
     "data": {
      "text/plain": [
       "[0.22777915000915527, 0.9363999962806702]"
      ]
     },
     "execution_count": 65,
     "metadata": {},
     "output_type": "execute_result"
    }
   ],
   "source": [
    "model_hm.evaluate(X_test_normalized, y_test)"
   ]
  },
  {
   "cell_type": "markdown",
   "metadata": {},
   "source": [
    "Let us predict for the first image in the testing set"
   ]
  },
  {
   "cell_type": "code",
   "execution_count": 66,
   "metadata": {},
   "outputs": [
    {
     "name": "stdout",
     "output_type": "stream",
     "text": [
      "313/313 [==============================] - 0s 836us/step\n"
     ]
    },
    {
     "data": {
      "text/plain": [
       "array([[7.86231518e-01, 3.83661827e-03, 8.74364913e-01, ...,\n",
       "        9.99941587e-01, 4.62760419e-01, 8.67271423e-01],\n",
       "       [8.88792515e-01, 2.30232418e-01, 9.99848306e-01, ...,\n",
       "        6.66616397e-05, 8.94774556e-01, 5.17798075e-03],\n",
       "       [2.01873798e-02, 9.97470915e-01, 7.17460036e-01, ...,\n",
       "        6.72159731e-01, 6.50803506e-01, 2.17741206e-01],\n",
       "       ...,\n",
       "       [7.56842876e-03, 4.34668036e-03, 1.23064466e-01, ...,\n",
       "        8.04960310e-01, 9.43464518e-01, 9.85986829e-01],\n",
       "       [2.91048855e-01, 3.98422420e-01, 2.21812993e-01, ...,\n",
       "        2.32957006e-02, 9.93541658e-01, 6.22355267e-02],\n",
       "       [9.31385994e-01, 2.88842036e-03, 9.83554780e-01, ...,\n",
       "        1.26865262e-03, 5.51365256e-01, 1.29196435e-01]], dtype=float32)"
      ]
     },
     "execution_count": 66,
     "metadata": {},
     "output_type": "execute_result"
    }
   ],
   "source": [
    "model_hm.predict(X_test_normalized)"
   ]
  },
  {
   "cell_type": "code",
   "execution_count": 67,
   "metadata": {},
   "outputs": [
    {
     "data": {
      "text/plain": [
       "<matplotlib.image.AxesImage at 0x28544750160>"
      ]
     },
     "execution_count": 67,
     "metadata": {},
     "output_type": "execute_result"
    },
    {
     "data": {
      "image/png": "[encoded data removed]",
      "text/plain": [
       "<Figure size 288x288 with 1 Axes>"
      ]
     },
     "metadata": {
      "needs_background": "light"
     },
     "output_type": "display_data"
    }
   ],
   "source": [
    "plt.matshow(X_test[0])"
   ]
  },
  {
   "cell_type": "code",
   "execution_count": 70,
   "metadata": {},
   "outputs": [
    {
     "name": "stdout",
     "output_type": "stream",
     "text": [
      "313/313 [==============================] - 0s 868us/step\n"
     ]
    }
   ],
   "source": [
    "y_predicted = model_hm.predict(X_test_normalized)"
   ]
  },
  {
   "cell_type": "code",
   "execution_count": 71,
   "metadata": {},
   "outputs": [
    {
     "data": {
      "text/plain": [
       "array([7.8623152e-01, 3.8366183e-03, 8.7436491e-01, 9.7980350e-01,\n",
       "       1.7257538e-02, 5.5916727e-01, 2.0757272e-04, 9.9994159e-01,\n",
       "       4.6276042e-01, 8.6727142e-01], dtype=float32)"
      ]
     },
     "execution_count": 71,
     "metadata": {},
     "output_type": "execute_result"
    }
   ],
   "source": [
    "y_predicted[0]\n",
    "# Displays the probability score for each class label. "
   ]
  },
  {
   "cell_type": "code",
   "execution_count": 72,
   "metadata": {},
   "outputs": [
    {
     "data": {
      "text/plain": [
       "7"
      ]
     },
     "execution_count": 72,
     "metadata": {},
     "output_type": "execute_result"
    }
   ],
   "source": [
    "np.argmax(y_predicted[0])"
   ]
  },
  {
   "cell_type": "markdown",
   "metadata": {},
   "source": [
    "###### Confusion matrix"
   ]
  },
  {
   "cell_type": "markdown",
   "metadata": {},
   "source": [
    "Convert the predicted probabilities into actual class labels to contruct confusion matrix"
   ]
  },
  {
   "cell_type": "code",
   "execution_count": 73,
   "metadata": {},
   "outputs": [
    {
     "data": {
      "text/plain": [
       "array([[7.8623152e-01, 3.8366183e-03, 8.7436491e-01, 9.7980350e-01,\n",
       "        1.7257538e-02, 5.5916727e-01, 2.0757272e-04, 9.9994159e-01,\n",
       "        4.6276042e-01, 8.6727142e-01],\n",
       "       [8.8879251e-01, 2.3023242e-01, 9.9984831e-01, 9.7442061e-01,\n",
       "        6.6843606e-04, 9.8176146e-01, 9.7612447e-01, 6.6661640e-05,\n",
       "        8.9477456e-01, 5.1779808e-03],\n",
       "       [2.0187380e-02, 9.9747092e-01, 7.1746004e-01, 5.0509018e-01,\n",
       "        2.4894500e-01, 2.1681942e-01, 3.9143071e-01, 6.7215973e-01,\n",
       "        6.5080351e-01, 2.1774121e-01],\n",
       "       [9.9995065e-01, 3.0765973e-04, 8.2767069e-01, 6.2064284e-01,\n",
       "        2.4752002e-03, 8.9210284e-01, 6.8648225e-01, 7.3614383e-01,\n",
       "        4.1175497e-01, 5.7757151e-01],\n",
       "       [3.1644604e-01, 5.5405539e-03, 6.8021160e-01, 1.1801334e-01,\n",
       "        9.9674982e-01, 2.4906980e-01, 6.0487384e-01, 7.6941299e-01,\n",
       "        6.1941051e-01, 9.3719208e-01]], dtype=float32)"
      ]
     },
     "execution_count": 73,
     "metadata": {},
     "output_type": "execute_result"
    }
   ],
   "source": [
    "y_predicted[:5]"
   ]
  },
  {
   "cell_type": "code",
   "execution_count": 74,
   "metadata": {},
   "outputs": [
    {
     "data": {
      "text/plain": [
       "[7, 2, 1, 0, 4]"
      ]
     },
     "execution_count": 74,
     "metadata": {},
     "output_type": "execute_result"
    }
   ],
   "source": [
    "y_predicted_labels = [np.argmax(i) for i in y_predicted]\n",
    "y_predicted_labels[:5]"
   ]
  },
  {
   "cell_type": "code",
   "execution_count": 75,
   "metadata": {},
   "outputs": [
    {
     "data": {
      "text/plain": [
       "<tf.Tensor: shape=(10, 10), dtype=int32, numpy=\n",
       "array([[ 961,    0,    1,    2,    0,    5,    6,    2,    3,    0],\n",
       "       [   0, 1112,    3,    2,    1,    1,    4,    2,   10,    0],\n",
       "       [   7,    5,  944,    9,   11,    6,    9,   15,   21,    5],\n",
       "       [   3,    0,   14,  933,    0,   21,    3,   13,   15,    8],\n",
       "       [   1,    2,    3,    1,  928,    0,   10,    2,    5,   30],\n",
       "       [   9,    2,    1,   36,    7,  796,   13,    5,   15,    8],\n",
       "       [   9,    3,    3,    1,   12,    9,  917,    1,    3,    0],\n",
       "       [   2,    8,   22,    5,    8,    0,    0,  960,    2,   21],\n",
       "       [   6,    5,    3,   20,    9,   16,   10,    8,  891,    6],\n",
       "       [  10,    7,    1,   11,   31,    4,    1,   15,    7,  922]])>"
      ]
     },
     "execution_count": 75,
     "metadata": {},
     "output_type": "execute_result"
    }
   ],
   "source": [
    "cm = tf.math.confusion_matrix(labels = y_test, predictions = y_predicted_labels)\n",
    "cm"
   ]
  },
  {
   "cell_type": "markdown",
   "metadata": {},
   "source": [
    "Plot this matrix"
   ]
  },
  {
   "cell_type": "code",
   "execution_count": 76,
   "metadata": {},
   "outputs": [
    {
     "data": {
      "text/plain": [
       "Text(69.0, 0.5, 'Truth')"
      ]
     },
     "execution_count": 76,
     "metadata": {},
     "output_type": "execute_result"
    },
    {
     "data": {
      "image/png": "[encoded data removed]",
      "text/plain": [
       "<Figure size 720x504 with 2 Axes>"
      ]
     },
     "metadata": {
      "needs_background": "light"
     },
     "output_type": "display_data"
    }
   ],
   "source": [
    "import seaborn as sn\n",
    "plt.figure(figsize = (10,7))\n",
    "sn.heatmap(cm, annot=True, fmt = 'd')\n",
    "plt.xlabel('Predicted')\n",
    "plt.ylabel('Truth')"
   ]
  },
  {
   "cell_type": "markdown",
   "metadata": {},
   "source": [
    "<h4 style='color:purple'>3. NN model with two hidden layers</h4> "
   ]
  },
  {
   "cell_type": "markdown",
   "metadata": {},
   "source": [
    "Adding layers should improve the performance"
   ]
  },
  {
   "cell_type": "markdown",
   "metadata": {},
   "source": [
    "<img src=\"Figures/model3.png\" height=400 width=400/>"
   ]
  },
  {
   "cell_type": "markdown",
   "metadata": {},
   "source": [
    "Include flattening layer instead of manual flattening"
   ]
  },
  {
   "cell_type": "markdown",
   "metadata": {},
   "source": [
    "###### Model configuration"
   ]
  },
  {
   "cell_type": "code",
   "execution_count": 77,
   "metadata": {},
   "outputs": [],
   "source": [
    "model3 = keras.Sequential([\n",
    "    # input layer with 784 neurons \n",
    "    keras.layers.Flatten(input_shape=(28,28)),\n",
    "    # first hidden layer with 64 neurons\n",
    "    keras.layers.Dense(64, activation='relu'), \n",
    "    # second hidden layer with 64 neurons\n",
    "    keras.layers.Dense(64, activation='relu'), \n",
    "    # Output layer with 10 neurons\n",
    "    keras.layers.Dense(10, activation='sigmoid')\n",
    "])"
   ]
  },
  {
   "cell_type": "markdown",
   "metadata": {},
   "source": [
    "##### Model summary"
   ]
  },
  {
   "cell_type": "code",
   "execution_count": 78,
   "metadata": {},
   "outputs": [
    {
     "name": "stdout",
     "output_type": "stream",
     "text": [
      "Model: \"sequential_3\"\n",
      "_________________________________________________________________\n",
      " Layer (type)                Output Shape              Param #   \n",
      "=================================================================\n",
      " flatten (Flatten)           (None, 784)               0         \n",
      "                                                                 \n",
      " dense_6 (Dense)             (None, 64)                50240     \n",
      "                                                                 \n",
      " dense_7 (Dense)             (None, 64)                4160      \n",
      "                                                                 \n",
      " dense_8 (Dense)             (None, 10)                650       \n",
      "                                                                 \n",
      "=================================================================\n",
      "Total params: 55,050\n",
      "Trainable params: 55,050\n",
      "Non-trainable params: 0\n",
      "_________________________________________________________________\n"
     ]
    }
   ],
   "source": [
    "model3.summary()"
   ]
  },
  {
   "cell_type": "code",
   "execution_count": 79,
   "metadata": {},
   "outputs": [],
   "source": [
    "model3.compile(\n",
    "    optimizer = 'adam',\n",
    "    loss = 'sparse_categorical_crossentropy',\n",
    "    metrics = ['accuracy']\n",
    ")"
   ]
  },
  {
   "cell_type": "markdown",
   "metadata": {},
   "source": [
    "###### Training the model"
   ]
  },
  {
   "cell_type": "code",
   "execution_count": 80,
   "metadata": {},
   "outputs": [],
   "source": [
    "X_train_Norm = X_train / 255\n",
    "X_test_Norm = X_test / 255\n",
    "# we did not flatten separately"
   ]
  },
  {
   "cell_type": "code",
   "execution_count": 81,
   "metadata": {},
   "outputs": [
    {
     "name": "stdout",
     "output_type": "stream",
     "text": [
      "Epoch 1/5\n",
      "1875/1875 [==============================] - 3s 1ms/step - loss: 0.2782 - accuracy: 0.9187\n",
      "Epoch 2/5\n",
      "1875/1875 [==============================] - 2s 1ms/step - loss: 0.1250 - accuracy: 0.9616\n",
      "Epoch 3/5\n",
      "1875/1875 [==============================] - 2s 1ms/step - loss: 0.0917 - accuracy: 0.9719\n",
      "Epoch 4/5\n",
      "1875/1875 [==============================] - 2s 1ms/step - loss: 0.0731 - accuracy: 0.9771\n",
      "Epoch 5/5\n",
      "1875/1875 [==============================] - 2s 1ms/step - loss: 0.0595 - accuracy: 0.9807\n"
     ]
    },
    {
     "data": {
      "text/plain": [
       "<keras.callbacks.History at 0x28546a2cf10>"
      ]
     },
     "execution_count": 81,
     "metadata": {},
     "output_type": "execute_result"
    }
   ],
   "source": [
    "model3.fit(X_train_Norm, y_train, epochs = 5)"
   ]
  },
  {
   "cell_type": "markdown",
   "metadata": {},
   "source": [
    "###### Testing the model"
   ]
  },
  {
   "cell_type": "code",
   "execution_count": 82,
   "metadata": {},
   "outputs": [
    {
     "name": "stdout",
     "output_type": "stream",
     "text": [
      "313/313 [==============================] - 0s 920us/step - loss: 0.0876 - accuracy: 0.9731\n"
     ]
    },
    {
     "data": {
      "text/plain": [
       "[0.08758741617202759, 0.9731000065803528]"
      ]
     },
     "execution_count": 82,
     "metadata": {},
     "output_type": "execute_result"
    }
   ],
   "source": [
    "model3.evaluate(X_test_Norm, y_test)"
   ]
  },
  {
   "cell_type": "code",
   "execution_count": 83,
   "metadata": {},
   "outputs": [
    {
     "name": "stdout",
     "output_type": "stream",
     "text": [
      "313/313 [==============================] - 0s 831us/step\n"
     ]
    }
   ],
   "source": [
    "y_predicted = model3.predict(X_test_Norm)"
   ]
  },
  {
   "cell_type": "markdown",
   "metadata": {},
   "source": [
    "###### Confusion matrix"
   ]
  },
  {
   "cell_type": "markdown",
   "metadata": {},
   "source": [
    "Convert the predicted probabilities into actual class labels to contruct confusion matrix"
   ]
  },
  {
   "cell_type": "code",
   "execution_count": 84,
   "metadata": {},
   "outputs": [
    {
     "data": {
      "text/plain": [
       "array([[4.3184529e-03, 1.8040712e-03, 4.9219154e-02, 4.6361044e-01,\n",
       "        2.0544210e-03, 1.8699553e-02, 1.0051007e-06, 9.9987203e-01,\n",
       "        9.4866809e-03, 6.4397417e-02],\n",
       "       [3.7684862e-03, 9.8686934e-01, 9.9999982e-01, 9.2941672e-01,\n",
       "        1.4379748e-05, 8.4514700e-02, 4.9606236e-03, 9.8693022e-04,\n",
       "        6.3844137e-02, 2.6057307e-07],\n",
       "       [2.2620060e-03, 9.9932903e-01, 1.8021773e-01, 2.9769989e-02,\n",
       "        5.0791781e-02, 8.5824087e-02, 2.0282252e-02, 2.4996231e-01,\n",
       "        1.4380175e-01, 9.1825938e-03],\n",
       "       [9.9992561e-01, 1.6070495e-04, 5.7425696e-01, 3.6077779e-02,\n",
       "        7.2578117e-03, 4.5759141e-02, 4.4908366e-01, 1.1120176e-01,\n",
       "        4.4437554e-03, 8.6186582e-01],\n",
       "       [5.9865890e-03, 1.0278727e-03, 2.0487215e-02, 4.7237286e-03,\n",
       "        9.9995333e-01, 9.3295611e-03, 4.7986742e-02, 1.3649619e-01,\n",
       "        7.7751707e-03, 9.5899254e-01]], dtype=float32)"
      ]
     },
     "execution_count": 84,
     "metadata": {},
     "output_type": "execute_result"
    }
   ],
   "source": [
    "y_predicted[:5]"
   ]
  },
  {
   "cell_type": "code",
   "execution_count": 85,
   "metadata": {},
   "outputs": [
    {
     "data": {
      "text/plain": [
       "[7, 2, 1, 0, 4]"
      ]
     },
     "execution_count": 85,
     "metadata": {},
     "output_type": "execute_result"
    }
   ],
   "source": [
    "y_predicted_labels = [np.argmax(i) for i in y_predicted]\n",
    "y_predicted_labels[:5]"
   ]
  },
  {
   "cell_type": "code",
   "execution_count": 86,
   "metadata": {},
   "outputs": [
    {
     "data": {
      "text/plain": [
       "<tf.Tensor: shape=(10, 10), dtype=int32, numpy=\n",
       "array([[ 969,    1,    0,    0,    1,    1,    4,    1,    3,    0],\n",
       "       [   0, 1127,    2,    2,    0,    0,    1,    1,    2,    0],\n",
       "       [   6,    2,  986,   14,    4,    0,    4,    8,    8,    0],\n",
       "       [   0,    0,    3,  993,    0,    0,    0,    7,    4,    3],\n",
       "       [   0,    0,    3,    1,  964,    0,    3,    0,    1,   10],\n",
       "       [   3,    0,    0,   28,    2,  836,   12,    1,    8,    2],\n",
       "       [   4,    3,    1,    1,    6,    1,  939,    0,    3,    0],\n",
       "       [   2,    3,    7,    1,    6,    0,    0,  998,    0,   11],\n",
       "       [   2,    1,    4,    7,    6,    4,    2,    3,  941,    4],\n",
       "       [   3,    3,    0,    8,   10,    1,    1,    3,    2,  978]])>"
      ]
     },
     "execution_count": 86,
     "metadata": {},
     "output_type": "execute_result"
    }
   ],
   "source": [
    "cm = tf.math.confusion_matrix(labels = y_test, predictions = y_predicted_labels)\n",
    "cm"
   ]
  },
  {
   "cell_type": "markdown",
   "metadata": {},
   "source": [
    "Plot this matrix"
   ]
  },
  {
   "cell_type": "code",
   "execution_count": 87,
   "metadata": {},
   "outputs": [
    {
     "data": {
      "text/plain": [
       "Text(69.0, 0.5, 'Truth')"
      ]
     },
     "execution_count": 87,
     "metadata": {},
     "output_type": "execute_result"
    },
    {
     "data": {
      "image/png": "[encoded data removed]",
      "text/plain": [
       "<Figure size 720x504 with 2 Axes>"
      ]
     },
     "metadata": {
      "needs_background": "light"
     },
     "output_type": "display_data"
    }
   ],
   "source": [
    "import seaborn as sn\n",
    "plt.figure(figsize = (10,7))\n",
    "sn.heatmap(cm, annot=True, fmt = 'd')\n",
    "plt.xlabel('Predicted')\n",
    "plt.ylabel('Truth')"
   ]
  }
 ],
 "metadata": {
  "kernelspec": {
   "display_name": "Python 3 (ipykernel)",
   "language": "python",
   "name": "python3"
  },
  "language_info": {
   "codemirror_mode": {
    "name": "ipython",
    "version": 3
   },
   "file_extension": ".py",
   "mimetype": "text/x-python",
   "name": "python",
   "nbconvert_exporter": "python",
   "pygments_lexer": "ipython3",
   "version": "3.9.13"
  }
 },
 "nbformat": 4,
 "nbformat_minor": 4
}
