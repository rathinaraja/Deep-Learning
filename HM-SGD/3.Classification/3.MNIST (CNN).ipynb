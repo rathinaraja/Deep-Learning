{
 "cells": [
  {
   "cell_type": "markdown",
   "metadata": {},
   "source": [
    "<h2 style=\"color:blue\" align=\"center\">Convolutional Neural Network (CNN) on MNIST</h2>"
   ]
  },
  {
   "cell_type": "markdown",
   "metadata": {},
   "source": [
    "#### Import the necessary libraries"
   ]
  },
  {
   "cell_type": "code",
   "execution_count": 286,
   "metadata": {},
   "outputs": [],
   "source": [
    "import tensorflow as tf \n",
    "import matplotlib.pyplot as plt\n",
    "%matplotlib inline\n",
    "import numpy as np\n",
    "import pandas as pd\n",
    "import random as python_random\n",
    "import time, math \n",
    "\n",
    "from tensorflow import keras \n",
    "from keras.models import Sequential\n",
    "from keras.layers import Dense, Flatten, Conv2D, MaxPooling2D \n",
    "from keras.callbacks import Callback, CSVLogger\n",
    "from tensorflow.keras.utils import to_categorical \n",
    "\n",
    "import warnings\n",
    "warnings.filterwarnings('ignore')"
   ]
  },
  {
   "cell_type": "markdown",
   "metadata": {},
   "source": [
    "#### Reserve memory for the execution"
   ]
  },
  {
   "cell_type": "code",
   "execution_count": 287,
   "metadata": {},
   "outputs": [
    {
     "name": "stdout",
     "output_type": "stream",
     "text": [
      "1 Physical GPUs, 1 Logical GPUs\n"
     ]
    }
   ],
   "source": [
    "import tensorflow as tf\n",
    "gpus = tf.config.experimental.list_physical_devices('GPU')\n",
    "if gpus:\n",
    "  try:\n",
    "    # Currently, memory growth needs to be the same across GPUs\n",
    "    for gpu in gpus:\n",
    "      tf.config.experimental.set_memory_growth(gpu, True)\n",
    "    logical_gpus = tf.config.experimental.list_logical_devices('GPU')\n",
    "    print(len(gpus), \"Physical GPUs,\", len(logical_gpus), \"Logical GPUs\")\n",
    "  except RuntimeError as e:\n",
    "    # Memory growth must be set before GPUs have been initialized\n",
    "    print(e)"
   ]
  },
  {
   "cell_type": "markdown",
   "metadata": {},
   "source": [
    "#### Load and split the dataset into training and testing set"
   ]
  },
  {
   "cell_type": "markdown",
   "metadata": {},
   "source": [
    "MNIST - Handwritten digits recognition"
   ]
  },
  {
   "cell_type": "code",
   "execution_count": 288,
   "metadata": {},
   "outputs": [],
   "source": [
    "#(X_train,y_train),(X_test,y_test) = keras.datasets.mnist.load_data()"
   ]
  },
  {
   "cell_type": "markdown",
   "metadata": {},
   "source": [
    "MNIST - Fashion dataset"
   ]
  },
  {
   "cell_type": "code",
   "execution_count": 289,
   "metadata": {},
   "outputs": [],
   "source": [
    "(X_train,y_train),(X_test,y_test) = keras.datasets.fashion_mnist.load_data()"
   ]
  },
  {
   "cell_type": "markdown",
   "metadata": {},
   "source": [
    "#### Flattening"
   ]
  },
  {
   "cell_type": "code",
   "execution_count": 290,
   "metadata": {},
   "outputs": [],
   "source": [
    "trainX = X_train.reshape((X_train.shape[0], 28, 28, 1))\n",
    "testX = X_test.reshape((X_test.shape[0], 28, 28, 1))"
   ]
  },
  {
   "cell_type": "markdown",
   "metadata": {},
   "source": [
    "#### Normalize the input dataset"
   ]
  },
  {
   "cell_type": "code",
   "execution_count": 291,
   "metadata": {},
   "outputs": [],
   "source": [
    "X_train_normalized = trainX / 255\n",
    "X_test_normalized = testX / 255"
   ]
  },
  {
   "cell_type": "markdown",
   "metadata": {},
   "source": [
    "#### One hot encoding"
   ]
  },
  {
   "cell_type": "code",
   "execution_count": 292,
   "metadata": {},
   "outputs": [],
   "source": [
    "y_train = to_categorical(y_train)\n",
    "y_test = to_categorical(y_test)"
   ]
  },
  {
   "cell_type": "markdown",
   "metadata": {},
   "source": [
    "#### Define DNN model"
   ]
  },
  {
   "cell_type": "code",
   "execution_count": 293,
   "metadata": {},
   "outputs": [],
   "source": [
    "python_random.seed(7)\n",
    "np.random.seed(7)\n",
    "tf.random.set_seed(7)\n",
    "opti_name = ''\n",
    "\n",
    "def get_model(): \n",
    "    model = Sequential([\n",
    "        # CNN layers\n",
    "        Conv2D(filters=32, kernel_size=(3,3), activation=\"relu\", input_shape=(28,28,1)),\n",
    "        MaxPooling2D((2,2)),\n",
    "        Conv2D(filters=64, kernel_size=(3,3), activation=\"relu\"),MaxPooling2D((2,2)),\n",
    "        \n",
    "        # Dense layer\n",
    "        Flatten(),\n",
    "        Dense(64, activation = 'relu'), \n",
    "        Dense(10, activation = 'softmax')\n",
    "    ])\n",
    "    \n",
    "    global opti_name\n",
    "    \n",
    "    # General SGD\n",
    "    #opti = keras.optimizers.SGD(learning_rate=0.001)\n",
    "    #opti_name = 'SGD'\n",
    "    \n",
    "    # SGD with momentum\n",
    "    #opti = keras.optimizers.SGD(learning_rate=0.001, momentum=0.4)\n",
    "    #opti_name = 'SGD with momentum'\n",
    "    \n",
    "    # SGD with Nesterov momentum \n",
    "    #opti = keras.optimizers.SGD(learning_rate=0.001, momentum=0.4, nesterov=True)\n",
    "    #opti_name = 'SGD with Nesterov momentum'\n",
    "    \n",
    "    # RMSprop \n",
    "    #opti = keras.optimizers.RMSprop(learning_rate=0.001, momentum=0.4)\n",
    "    #opti_name = 'RMSprop'\n",
    "    \n",
    "    # Adam\n",
    "    opti = keras.optimizers.Adam(learning_rate=0.001) \n",
    "    opti_name = 'Adam'\n",
    "    \n",
    "    # Adamax\n",
    "    #opti = keras.optimizers.Adamax(learning_rate=0.001) \n",
    "    #opti_name = 'Adamax' \n",
    "    \n",
    "    # Nadam\n",
    "    #opti = keras.optimizers.Nadam(learning_rate=0.001) \n",
    "    #opti_name = 'Nadam'  \n",
    "    \n",
    "    model.compile(\n",
    "        optimizer = opti,\n",
    "        loss = 'categorical_crossentropy',\n",
    "        metrics = ['accuracy']\n",
    "    )\n",
    "    \n",
    "    return model"
   ]
  },
  {
   "cell_type": "markdown",
   "metadata": {},
   "source": [
    "#### Custom callbacks"
   ]
  },
  {
   "cell_type": "markdown",
   "metadata": {},
   "source": [
    "For generic optimizer model"
   ]
  },
  {
   "cell_type": "code",
   "execution_count": 294,
   "metadata": {},
   "outputs": [],
   "source": [
    "# Get the best of base-line model and set it as stopping criteria in HM-based model\n",
    "generic_best = 0\n",
    "\n",
    "class CustomCallbackGeneric(Callback):  \n",
    "    def on_epoch_end(self, epoch, logs={}): \n",
    "        global generic_best\n",
    "        accuracy = round(logs.get('accuracy'), 4) \n",
    "        \n",
    "        if epoch == 0:\n",
    "            generic_best = accuracy     \n",
    "        \n",
    "        if epoch > 0 and accuracy < generic_best :\n",
    "            generic_best = accuracy"
   ]
  },
  {
   "cell_type": "markdown",
   "metadata": {},
   "source": [
    "For HM based optimizer model"
   ]
  },
  {
   "cell_type": "code",
   "execution_count": 295,
   "metadata": {},
   "outputs": [],
   "source": [
    "class CustomCallbackHM(Callback):  \n",
    "    initial_weights = 0\n",
    "    previous_weights = 0\n",
    "    call_hm = 0    \n",
    "     \n",
    "    def on_train_begin(self, logs=None):\n",
    "        self.initial_weights = model_hm.get_weights() \n",
    "        self.initial_weights = np.array(self.initial_weights,dtype=object)\n",
    "        self.previous_weights = self.initial_weights\n",
    "        # Harmonic mean based weights calculation\n",
    "        self.call_hm = np.vectorize(self.apply_hm)  \n",
    "\n",
    "    def on_epoch_end(self, epoch, logs={}): \n",
    "         # Set the stopping criteria at (stop_at) the MAE obtained from the baseline model \n",
    "        global generic_best \n",
    "        \n",
    "        num_layers = len(model_hm.layers)  \n",
    "        current_weights = model_hm.get_weights()\n",
    "        current_weights = np.array(current_weights,dtype=object)        \n",
    "\n",
    "        for i in range(len(current_weights)):  \n",
    "            # Harmonic mean based weights calculation\n",
    "            tensor1 = tf.convert_to_tensor(self.previous_weights[i])\n",
    "            tensor2 = tf.convert_to_tensor(current_weights[i])\n",
    "            current_weights[i] = self.call_hm(tensor1, tensor2, epoch)   \n",
    "            \n",
    "        # Updating the model with new weights\n",
    "        model_hm.set_weights(current_weights.tolist())\n",
    "        self.previous_weights = current_weights \n",
    "        \n",
    "        #Stopping criteria\n",
    "        #if(round(logs.get('accuracy'), 4) < generic_best):  \n",
    "            #self.model.stop_training = True\n",
    "        \n",
    "    def apply_hm(self, v1, v2, epoch):  \n",
    "        r = 0\n",
    "        if epoch < 50:\n",
    "            r = 1\n",
    "        elif epoch > 50 and epoch < 100:\n",
    "            r = 0.75\n",
    "        elif epoch > 100 and epoch < 150:\n",
    "            r = 0.5\n",
    "        else:  \n",
    "            r = 0.25 \n",
    "            \n",
    "        if v1==0 or v2==0:\n",
    "            return v2\n",
    "        elif v1 > v2:\n",
    "            t1 = abs(v1)\n",
    "            t2 = abs(v2)\n",
    "            hm = 2*t1*t2/(t1+t2)\n",
    "            min1 = min(t1,t2)\n",
    "            diff = abs(hm-min1) * r \n",
    "            v2 = v2 - diff\n",
    "            return v2  \n",
    "        elif v1 < v2:\n",
    "            t1 = abs(v1)\n",
    "            t2 = abs(v2)\n",
    "            hm = 2*t1*t2/(t1+t2)\n",
    "            min1 = min(t1,t2)\n",
    "            diff = abs(hm-min1) * r \n",
    "            v2 = v2 + diff\n",
    "            return v2   \n",
    "        else:\n",
    "            return v2   "
   ]
  },
  {
   "cell_type": "markdown",
   "metadata": {},
   "source": [
    "#### Training"
   ]
  },
  {
   "cell_type": "markdown",
   "metadata": {},
   "source": [
    "Get a model to assign same weights to model with and without HM"
   ]
  },
  {
   "cell_type": "code",
   "execution_count": 296,
   "metadata": {},
   "outputs": [],
   "source": [
    "model = get_model() \n",
    "weights = model.get_weights() \n",
    "num_epochs = 100\n",
    "batch_size = 256"
   ]
  },
  {
   "cell_type": "markdown",
   "metadata": {},
   "source": [
    "To record loss and accuracy in CSV file"
   ]
  },
  {
   "cell_type": "code",
   "execution_count": 297,
   "metadata": {},
   "outputs": [],
   "source": [
    "generic_file = '4.MNIST'+opti_name+' optimizer.csv'\n",
    "hm_file = '4.MNIST'+opti_name+' HM-based optimizer.csv' \n",
    "logger_generic_model = CSVLogger(generic_file, append = False, separator=',')\n",
    "logger_hm_model = CSVLogger(hm_file, append = False, separator=',')"
   ]
  },
  {
   "cell_type": "markdown",
   "metadata": {},
   "source": [
    "Generic optimizer model"
   ]
  },
  {
   "cell_type": "code",
   "execution_count": 298,
   "metadata": {},
   "outputs": [
    {
     "name": "stdout",
     "output_type": "stream",
     "text": [
      "Epoch 1/100\n",
      "235/235 [==============================] - 1s 2ms/step - loss: 0.6737 - accuracy: 0.7623\n",
      "Epoch 2/100\n",
      "235/235 [==============================] - 0s 2ms/step - loss: 0.4086 - accuracy: 0.8530\n",
      "Epoch 3/100\n",
      "235/235 [==============================] - 0s 2ms/step - loss: 0.3528 - accuracy: 0.8728\n",
      "Epoch 4/100\n",
      "235/235 [==============================] - 1s 2ms/step - loss: 0.3190 - accuracy: 0.8849\n",
      "Epoch 5/100\n",
      "235/235 [==============================] - 0s 2ms/step - loss: 0.2977 - accuracy: 0.8931\n",
      "Epoch 6/100\n",
      "235/235 [==============================] - 1s 2ms/step - loss: 0.2820 - accuracy: 0.8984\n",
      "Epoch 7/100\n",
      "235/235 [==============================] - 0s 2ms/step - loss: 0.2658 - accuracy: 0.9035\n",
      "Epoch 8/100\n",
      "235/235 [==============================] - 0s 2ms/step - loss: 0.2518 - accuracy: 0.9097\n",
      "Epoch 9/100\n",
      "235/235 [==============================] - 1s 2ms/step - loss: 0.2413 - accuracy: 0.9124\n",
      "Epoch 10/100\n",
      "235/235 [==============================] - 0s 2ms/step - loss: 0.2316 - accuracy: 0.9155\n",
      "Epoch 11/100\n",
      "235/235 [==============================] - 0s 2ms/step - loss: 0.2209 - accuracy: 0.9188\n",
      "Epoch 12/100\n",
      "235/235 [==============================] - 0s 2ms/step - loss: 0.2131 - accuracy: 0.9222\n",
      "Epoch 13/100\n",
      "235/235 [==============================] - 0s 2ms/step - loss: 0.2020 - accuracy: 0.9248\n",
      "Epoch 14/100\n",
      "235/235 [==============================] - 1s 2ms/step - loss: 0.1985 - accuracy: 0.9272\n",
      "Epoch 15/100\n",
      "235/235 [==============================] - 1s 2ms/step - loss: 0.1898 - accuracy: 0.9301\n",
      "Epoch 16/100\n",
      "235/235 [==============================] - 0s 2ms/step - loss: 0.1801 - accuracy: 0.9343\n",
      "Epoch 17/100\n",
      "235/235 [==============================] - 0s 2ms/step - loss: 0.1716 - accuracy: 0.9376\n",
      "Epoch 18/100\n",
      "235/235 [==============================] - 0s 2ms/step - loss: 0.1671 - accuracy: 0.9390\n",
      "Epoch 19/100\n",
      "235/235 [==============================] - 1s 2ms/step - loss: 0.1580 - accuracy: 0.9415\n",
      "Epoch 20/100\n",
      "235/235 [==============================] - 1s 2ms/step - loss: 0.1509 - accuracy: 0.9457\n",
      "Epoch 21/100\n",
      "235/235 [==============================] - 1s 2ms/step - loss: 0.1451 - accuracy: 0.9477\n",
      "Epoch 22/100\n",
      "235/235 [==============================] - 1s 2ms/step - loss: 0.1390 - accuracy: 0.9506\n",
      "Epoch 23/100\n",
      "235/235 [==============================] - 1s 2ms/step - loss: 0.1322 - accuracy: 0.9519\n",
      "Epoch 24/100\n",
      "235/235 [==============================] - 0s 2ms/step - loss: 0.1284 - accuracy: 0.9531\n",
      "Epoch 25/100\n",
      "235/235 [==============================] - 1s 2ms/step - loss: 0.1239 - accuracy: 0.9545\n",
      "Epoch 26/100\n",
      "235/235 [==============================] - 0s 2ms/step - loss: 0.1186 - accuracy: 0.9577\n",
      "Epoch 27/100\n",
      "235/235 [==============================] - 0s 2ms/step - loss: 0.1107 - accuracy: 0.9599\n",
      "Epoch 28/100\n",
      "235/235 [==============================] - 1s 2ms/step - loss: 0.1058 - accuracy: 0.9623\n",
      "Epoch 29/100\n",
      "235/235 [==============================] - 0s 2ms/step - loss: 0.1018 - accuracy: 0.9629\n",
      "Epoch 30/100\n",
      "235/235 [==============================] - 0s 2ms/step - loss: 0.0960 - accuracy: 0.9660\n",
      "Epoch 31/100\n",
      "235/235 [==============================] - 1s 2ms/step - loss: 0.0909 - accuracy: 0.9680\n",
      "Epoch 32/100\n",
      "235/235 [==============================] - 1s 2ms/step - loss: 0.0886 - accuracy: 0.9686\n",
      "Epoch 33/100\n",
      "235/235 [==============================] - 0s 2ms/step - loss: 0.0846 - accuracy: 0.9696\n",
      "Epoch 34/100\n",
      "235/235 [==============================] - 0s 2ms/step - loss: 0.0820 - accuracy: 0.9704\n",
      "Epoch 35/100\n",
      "235/235 [==============================] - 0s 2ms/step - loss: 0.0766 - accuracy: 0.9728\n",
      "Epoch 36/100\n",
      "235/235 [==============================] - 0s 2ms/step - loss: 0.0752 - accuracy: 0.9731\n",
      "Epoch 37/100\n",
      "235/235 [==============================] - 0s 2ms/step - loss: 0.0672 - accuracy: 0.9764\n",
      "Epoch 38/100\n",
      "235/235 [==============================] - 0s 2ms/step - loss: 0.0688 - accuracy: 0.9751\n",
      "Epoch 39/100\n",
      "235/235 [==============================] - 0s 2ms/step - loss: 0.0585 - accuracy: 0.9798\n",
      "Epoch 40/100\n",
      "235/235 [==============================] - 0s 2ms/step - loss: 0.0581 - accuracy: 0.9796\n",
      "Epoch 41/100\n",
      "235/235 [==============================] - 0s 2ms/step - loss: 0.0564 - accuracy: 0.9800\n",
      "Epoch 42/100\n",
      "235/235 [==============================] - 0s 2ms/step - loss: 0.0508 - accuracy: 0.9825\n",
      "Epoch 43/100\n",
      "235/235 [==============================] - 1s 2ms/step - loss: 0.0478 - accuracy: 0.9836\n",
      "Epoch 44/100\n",
      "235/235 [==============================] - 1s 2ms/step - loss: 0.0477 - accuracy: 0.9836\n",
      "Epoch 45/100\n",
      "235/235 [==============================] - 1s 2ms/step - loss: 0.0458 - accuracy: 0.9841\n",
      "Epoch 46/100\n",
      "235/235 [==============================] - 0s 2ms/step - loss: 0.0409 - accuracy: 0.9865\n",
      "Epoch 47/100\n",
      "235/235 [==============================] - 0s 2ms/step - loss: 0.0439 - accuracy: 0.9846\n",
      "Epoch 48/100\n",
      "235/235 [==============================] - 1s 2ms/step - loss: 0.0415 - accuracy: 0.9850\n",
      "Epoch 49/100\n",
      "235/235 [==============================] - 0s 2ms/step - loss: 0.0335 - accuracy: 0.9890\n",
      "Epoch 50/100\n",
      "235/235 [==============================] - 0s 2ms/step - loss: 0.0321 - accuracy: 0.9892\n",
      "Epoch 51/100\n",
      "235/235 [==============================] - 0s 2ms/step - loss: 0.0326 - accuracy: 0.9887\n",
      "Epoch 52/100\n",
      "235/235 [==============================] - 1s 2ms/step - loss: 0.0325 - accuracy: 0.9885\n",
      "Epoch 53/100\n",
      "235/235 [==============================] - 0s 2ms/step - loss: 0.0311 - accuracy: 0.9893\n",
      "Epoch 54/100\n",
      "235/235 [==============================] - 0s 2ms/step - loss: 0.0284 - accuracy: 0.9908\n",
      "Epoch 55/100\n",
      "235/235 [==============================] - 1s 2ms/step - loss: 0.0253 - accuracy: 0.9913\n",
      "Epoch 56/100\n",
      "235/235 [==============================] - 1s 2ms/step - loss: 0.0245 - accuracy: 0.9918\n",
      "Epoch 57/100\n",
      "235/235 [==============================] - 1s 2ms/step - loss: 0.0262 - accuracy: 0.9913\n",
      "Epoch 58/100\n",
      "235/235 [==============================] - 1s 2ms/step - loss: 0.0221 - accuracy: 0.9930\n",
      "Epoch 59/100\n",
      "235/235 [==============================] - 0s 2ms/step - loss: 0.0231 - accuracy: 0.9923\n",
      "Epoch 60/100\n",
      "235/235 [==============================] - 0s 2ms/step - loss: 0.0241 - accuracy: 0.9916\n",
      "Epoch 61/100\n",
      "235/235 [==============================] - 0s 2ms/step - loss: 0.0282 - accuracy: 0.9898\n",
      "Epoch 62/100\n",
      "235/235 [==============================] - 0s 2ms/step - loss: 0.0144 - accuracy: 0.9957\n",
      "Epoch 63/100\n",
      "235/235 [==============================] - 0s 2ms/step - loss: 0.0147 - accuracy: 0.9957\n",
      "Epoch 64/100\n",
      "235/235 [==============================] - 0s 2ms/step - loss: 0.0140 - accuracy: 0.9961\n",
      "Epoch 65/100\n",
      "235/235 [==============================] - 0s 2ms/step - loss: 0.0164 - accuracy: 0.9947\n",
      "Epoch 66/100\n",
      "235/235 [==============================] - 1s 2ms/step - loss: 0.0218 - accuracy: 0.9920\n",
      "Epoch 67/100\n",
      "235/235 [==============================] - 0s 2ms/step - loss: 0.0175 - accuracy: 0.9943\n",
      "Epoch 68/100\n",
      "235/235 [==============================] - 0s 2ms/step - loss: 0.0211 - accuracy: 0.9927\n",
      "Epoch 69/100\n",
      "235/235 [==============================] - 0s 2ms/step - loss: 0.0171 - accuracy: 0.9945\n",
      "Epoch 70/100\n",
      "235/235 [==============================] - 0s 2ms/step - loss: 0.0186 - accuracy: 0.9937\n",
      "Epoch 71/100\n",
      "235/235 [==============================] - 0s 2ms/step - loss: 0.0136 - accuracy: 0.9956\n",
      "Epoch 72/100\n",
      "235/235 [==============================] - 1s 2ms/step - loss: 0.0118 - accuracy: 0.9964\n",
      "Epoch 73/100\n",
      "235/235 [==============================] - 0s 2ms/step - loss: 0.0089 - accuracy: 0.9975\n",
      "Epoch 74/100\n",
      "235/235 [==============================] - 0s 2ms/step - loss: 0.0320 - accuracy: 0.9888\n",
      "Epoch 75/100\n",
      "235/235 [==============================] - 0s 2ms/step - loss: 0.0182 - accuracy: 0.9936\n",
      "Epoch 76/100\n",
      "235/235 [==============================] - 0s 2ms/step - loss: 0.0062 - accuracy: 0.9987\n",
      "Epoch 77/100\n",
      "235/235 [==============================] - 1s 2ms/step - loss: 0.0082 - accuracy: 0.9977\n",
      "Epoch 78/100\n",
      "235/235 [==============================] - 0s 2ms/step - loss: 0.0197 - accuracy: 0.9926\n",
      "Epoch 79/100\n",
      "235/235 [==============================] - 0s 2ms/step - loss: 0.0186 - accuracy: 0.9934\n",
      "Epoch 80/100\n",
      "235/235 [==============================] - 0s 2ms/step - loss: 0.0186 - accuracy: 0.9938\n",
      "Epoch 81/100\n"
     ]
    },
    {
     "name": "stdout",
     "output_type": "stream",
     "text": [
      "235/235 [==============================] - 1s 2ms/step - loss: 0.0060 - accuracy: 0.9985\n",
      "Epoch 82/100\n",
      "235/235 [==============================] - 0s 2ms/step - loss: 0.0044 - accuracy: 0.9991\n",
      "Epoch 83/100\n",
      "235/235 [==============================] - 1s 2ms/step - loss: 0.0024 - accuracy: 0.9998\n",
      "Epoch 84/100\n",
      "235/235 [==============================] - 0s 2ms/step - loss: 0.0031 - accuracy: 0.9995\n",
      "Epoch 85/100\n",
      "235/235 [==============================] - 0s 2ms/step - loss: 0.0331 - accuracy: 0.9897\n",
      "Epoch 86/100\n",
      "235/235 [==============================] - 1s 2ms/step - loss: 0.0475 - accuracy: 0.9834\n",
      "Epoch 87/100\n",
      "235/235 [==============================] - 0s 2ms/step - loss: 0.0119 - accuracy: 0.9966\n",
      "Epoch 88/100\n",
      "235/235 [==============================] - 1s 2ms/step - loss: 0.0034 - accuracy: 0.9994\n",
      "Epoch 89/100\n",
      "235/235 [==============================] - 1s 2ms/step - loss: 0.0016 - accuracy: 1.0000\n",
      "Epoch 90/100\n",
      "235/235 [==============================] - 0s 2ms/step - loss: 0.0011 - accuracy: 1.0000\n",
      "Epoch 91/100\n",
      "235/235 [==============================] - 0s 2ms/step - loss: 9.1859e-04 - accuracy: 1.0000\n",
      "Epoch 92/100\n",
      "235/235 [==============================] - 0s 2ms/step - loss: 8.5186e-04 - accuracy: 1.0000\n",
      "Epoch 93/100\n",
      "235/235 [==============================] - 0s 2ms/step - loss: 7.3313e-04 - accuracy: 1.0000\n",
      "Epoch 94/100\n",
      "235/235 [==============================] - 1s 2ms/step - loss: 6.8405e-04 - accuracy: 1.0000\n",
      "Epoch 95/100\n",
      "235/235 [==============================] - 0s 2ms/step - loss: 5.9456e-04 - accuracy: 1.0000\n",
      "Epoch 96/100\n",
      "235/235 [==============================] - 0s 2ms/step - loss: 5.3910e-04 - accuracy: 1.0000\n",
      "Epoch 97/100\n",
      "235/235 [==============================] - 1s 2ms/step - loss: 5.8213e-04 - accuracy: 1.0000\n",
      "Epoch 98/100\n",
      "235/235 [==============================] - 0s 2ms/step - loss: 5.3648e-04 - accuracy: 1.0000\n",
      "Epoch 99/100\n",
      "235/235 [==============================] - 1s 3ms/step - loss: 0.0927 - accuracy: 0.9727\n",
      "Epoch 100/100\n",
      "235/235 [==============================] - 0s 2ms/step - loss: 0.0220 - accuracy: 0.9923\n",
      "Execution time: 49.926 seconds\n"
     ]
    }
   ],
   "source": [
    "model_wihtout_hm = get_model()\n",
    "model_wihtout_hm.set_weights(weights) \n",
    "st = time.time() \n",
    "model_wihtout_hm.fit(X_train_normalized, y_train, epochs = num_epochs, verbose=1, callbacks=[CustomCallbackGeneric(), logger_generic_model], batch_size=batch_size) \n",
    "et = time.time()\n",
    "elapsed_training_time_generic = round(et - st, 4)\n",
    "print('Execution time:', elapsed_training_time_generic, 'seconds') "
   ]
  },
  {
   "cell_type": "markdown",
   "metadata": {},
   "source": [
    "HM based optimizer model"
   ]
  },
  {
   "cell_type": "code",
   "execution_count": 299,
   "metadata": {
    "scrolled": true
   },
   "outputs": [
    {
     "name": "stdout",
     "output_type": "stream",
     "text": [
      "Epoch 1/100\n",
      "235/235 [==============================] - 1s 3ms/step - loss: 0.6741 - accuracy: 0.7627\n",
      "Epoch 2/100\n",
      "235/235 [==============================] - 1s 2ms/step - loss: 0.4025 - accuracy: 0.8565\n",
      "Epoch 3/100\n",
      "235/235 [==============================] - 1s 2ms/step - loss: 0.3366 - accuracy: 0.8789\n",
      "Epoch 4/100\n",
      "235/235 [==============================] - 1s 2ms/step - loss: 0.3016 - accuracy: 0.8917\n",
      "Epoch 5/100\n",
      "235/235 [==============================] - 1s 2ms/step - loss: 0.2786 - accuracy: 0.8995\n",
      "Epoch 6/100\n",
      "235/235 [==============================] - 1s 3ms/step - loss: 0.2619 - accuracy: 0.9057\n",
      "Epoch 7/100\n",
      "235/235 [==============================] - 1s 2ms/step - loss: 0.2445 - accuracy: 0.9102\n",
      "Epoch 8/100\n",
      "235/235 [==============================] - 1s 3ms/step - loss: 0.2304 - accuracy: 0.9171\n",
      "Epoch 9/100\n",
      "235/235 [==============================] - 1s 2ms/step - loss: 0.2174 - accuracy: 0.9203\n",
      "Epoch 10/100\n",
      "235/235 [==============================] - 1s 2ms/step - loss: 0.2076 - accuracy: 0.9239\n",
      "Epoch 11/100\n",
      "235/235 [==============================] - 1s 2ms/step - loss: 0.1951 - accuracy: 0.9281\n",
      "Epoch 12/100\n",
      "235/235 [==============================] - 1s 2ms/step - loss: 0.1849 - accuracy: 0.9324\n",
      "Epoch 13/100\n",
      "235/235 [==============================] - 1s 2ms/step - loss: 0.1729 - accuracy: 0.9366\n",
      "Epoch 14/100\n",
      "235/235 [==============================] - 1s 2ms/step - loss: 0.1683 - accuracy: 0.9390\n",
      "Epoch 15/100\n",
      "235/235 [==============================] - 1s 2ms/step - loss: 0.1585 - accuracy: 0.9421\n",
      "Epoch 16/100\n",
      "235/235 [==============================] - 1s 2ms/step - loss: 0.1475 - accuracy: 0.9460\n",
      "Epoch 17/100\n",
      "235/235 [==============================] - 1s 3ms/step - loss: 0.1373 - accuracy: 0.9505\n",
      "Epoch 18/100\n",
      "235/235 [==============================] - 1s 2ms/step - loss: 0.1337 - accuracy: 0.9516\n",
      "Epoch 19/100\n",
      "235/235 [==============================] - 1s 2ms/step - loss: 0.1231 - accuracy: 0.9549\n",
      "Epoch 20/100\n",
      "235/235 [==============================] - 1s 2ms/step - loss: 0.1153 - accuracy: 0.9584\n",
      "Epoch 21/100\n",
      "235/235 [==============================] - 1s 2ms/step - loss: 0.1097 - accuracy: 0.9607\n",
      "Epoch 22/100\n",
      "235/235 [==============================] - 1s 2ms/step - loss: 0.1021 - accuracy: 0.9645\n",
      "Epoch 23/100\n",
      "235/235 [==============================] - 1s 2ms/step - loss: 0.0933 - accuracy: 0.9667\n",
      "Epoch 24/100\n",
      "235/235 [==============================] - 1s 2ms/step - loss: 0.0887 - accuracy: 0.9679\n",
      "Epoch 25/100\n",
      "235/235 [==============================] - 1s 2ms/step - loss: 0.0862 - accuracy: 0.9687\n",
      "Epoch 26/100\n",
      "235/235 [==============================] - 1s 2ms/step - loss: 0.0817 - accuracy: 0.9704\n",
      "Epoch 27/100\n",
      "235/235 [==============================] - 1s 2ms/step - loss: 0.0733 - accuracy: 0.9733\n",
      "Epoch 28/100\n",
      "235/235 [==============================] - 1s 2ms/step - loss: 0.0672 - accuracy: 0.9761\n",
      "Epoch 29/100\n",
      "235/235 [==============================] - 1s 3ms/step - loss: 0.0645 - accuracy: 0.9764\n",
      "Epoch 30/100\n",
      "235/235 [==============================] - 1s 2ms/step - loss: 0.0595 - accuracy: 0.9793\n",
      "Epoch 31/100\n",
      "235/235 [==============================] - 1s 2ms/step - loss: 0.0530 - accuracy: 0.9819\n",
      "Epoch 32/100\n",
      "235/235 [==============================] - 1s 3ms/step - loss: 0.0546 - accuracy: 0.9805\n",
      "Epoch 33/100\n",
      "235/235 [==============================] - 1s 2ms/step - loss: 0.0504 - accuracy: 0.9819\n",
      "Epoch 34/100\n",
      "235/235 [==============================] - 1s 2ms/step - loss: 0.0464 - accuracy: 0.9839\n",
      "Epoch 35/100\n",
      "235/235 [==============================] - 1s 2ms/step - loss: 0.0420 - accuracy: 0.9852\n",
      "Epoch 36/100\n",
      "235/235 [==============================] - 1s 2ms/step - loss: 0.0389 - accuracy: 0.9866\n",
      "Epoch 37/100\n",
      "235/235 [==============================] - 1s 2ms/step - loss: 0.0367 - accuracy: 0.9871\n",
      "Epoch 38/100\n",
      "235/235 [==============================] - 0s 2ms/step - loss: 0.0370 - accuracy: 0.9868\n",
      "Epoch 39/100\n",
      "235/235 [==============================] - 1s 2ms/step - loss: 0.0296 - accuracy: 0.9904\n",
      "Epoch 40/100\n",
      "235/235 [==============================] - 1s 2ms/step - loss: 0.0295 - accuracy: 0.9901\n",
      "Epoch 41/100\n",
      "235/235 [==============================] - 1s 2ms/step - loss: 0.0254 - accuracy: 0.9917\n",
      "Epoch 42/100\n",
      "235/235 [==============================] - 1s 2ms/step - loss: 0.0260 - accuracy: 0.9916\n",
      "Epoch 43/100\n",
      "235/235 [==============================] - 1s 2ms/step - loss: 0.0278 - accuracy: 0.9905\n",
      "Epoch 44/100\n",
      "235/235 [==============================] - 1s 2ms/step - loss: 0.0286 - accuracy: 0.9897\n",
      "Epoch 45/100\n",
      "235/235 [==============================] - 1s 2ms/step - loss: 0.0227 - accuracy: 0.9926\n",
      "Epoch 46/100\n",
      "235/235 [==============================] - 1s 2ms/step - loss: 0.0269 - accuracy: 0.9905\n",
      "Epoch 47/100\n",
      "235/235 [==============================] - 1s 2ms/step - loss: 0.0236 - accuracy: 0.9914\n",
      "Epoch 48/100\n",
      "235/235 [==============================] - 1s 2ms/step - loss: 0.0185 - accuracy: 0.9941\n",
      "Epoch 49/100\n",
      "235/235 [==============================] - 1s 2ms/step - loss: 0.0144 - accuracy: 0.9954\n",
      "Epoch 50/100\n",
      "235/235 [==============================] - 1s 2ms/step - loss: 0.0131 - accuracy: 0.9962\n",
      "Epoch 51/100\n",
      "235/235 [==============================] - 1s 2ms/step - loss: 0.0231 - accuracy: 0.9920\n",
      "Epoch 52/100\n",
      "235/235 [==============================] - 1s 2ms/step - loss: 0.0108 - accuracy: 0.9969\n",
      "Epoch 53/100\n",
      "235/235 [==============================] - 1s 2ms/step - loss: 0.0127 - accuracy: 0.9959\n",
      "Epoch 54/100\n",
      "235/235 [==============================] - 1s 2ms/step - loss: 0.0207 - accuracy: 0.9931\n",
      "Epoch 55/100\n",
      "235/235 [==============================] - 1s 2ms/step - loss: 0.0195 - accuracy: 0.9931\n",
      "Epoch 56/100\n",
      "235/235 [==============================] - 1s 2ms/step - loss: 0.0120 - accuracy: 0.9961\n",
      "Epoch 57/100\n",
      "235/235 [==============================] - 1s 2ms/step - loss: 0.0123 - accuracy: 0.9958\n",
      "Epoch 58/100\n",
      "235/235 [==============================] - 1s 2ms/step - loss: 0.0126 - accuracy: 0.9958\n",
      "Epoch 59/100\n",
      "235/235 [==============================] - 1s 2ms/step - loss: 0.0159 - accuracy: 0.9947\n",
      "Epoch 60/100\n",
      "235/235 [==============================] - 1s 2ms/step - loss: 0.0215 - accuracy: 0.9924\n",
      "Epoch 61/100\n",
      "235/235 [==============================] - 1s 2ms/step - loss: 0.0206 - accuracy: 0.9928\n",
      "Epoch 62/100\n",
      "235/235 [==============================] - 0s 2ms/step - loss: 0.0121 - accuracy: 0.9959\n",
      "Epoch 63/100\n",
      "235/235 [==============================] - 1s 3ms/step - loss: 0.0085 - accuracy: 0.9976\n",
      "Epoch 64/100\n",
      "235/235 [==============================] - 1s 2ms/step - loss: 0.0156 - accuracy: 0.9943\n",
      "Epoch 65/100\n",
      "235/235 [==============================] - 1s 2ms/step - loss: 0.0187 - accuracy: 0.9933\n",
      "Epoch 66/100\n",
      "235/235 [==============================] - 1s 2ms/step - loss: 0.0140 - accuracy: 0.9951\n",
      "Epoch 67/100\n",
      "235/235 [==============================] - 1s 2ms/step - loss: 0.0137 - accuracy: 0.9953\n",
      "Epoch 68/100\n",
      "235/235 [==============================] - 1s 2ms/step - loss: 0.0096 - accuracy: 0.9969\n",
      "Epoch 69/100\n",
      "235/235 [==============================] - 1s 2ms/step - loss: 0.0063 - accuracy: 0.9982\n",
      "Epoch 70/100\n",
      "235/235 [==============================] - 1s 2ms/step - loss: 0.0095 - accuracy: 0.9970\n",
      "Epoch 71/100\n",
      "235/235 [==============================] - 1s 2ms/step - loss: 0.0118 - accuracy: 0.9960\n",
      "Epoch 72/100\n",
      "235/235 [==============================] - 1s 2ms/step - loss: 0.0283 - accuracy: 0.9901\n",
      "Epoch 73/100\n",
      "235/235 [==============================] - 0s 2ms/step - loss: 0.0200 - accuracy: 0.9930\n",
      "Epoch 74/100\n",
      "235/235 [==============================] - 1s 2ms/step - loss: 0.0091 - accuracy: 0.9970\n",
      "Epoch 75/100\n",
      "235/235 [==============================] - 1s 2ms/step - loss: 0.0103 - accuracy: 0.9966\n",
      "Epoch 76/100\n",
      "235/235 [==============================] - 1s 2ms/step - loss: 0.0049 - accuracy: 0.9985\n",
      "Epoch 77/100\n",
      "235/235 [==============================] - 1s 2ms/step - loss: 0.0055 - accuracy: 0.9985\n",
      "Epoch 78/100\n",
      "235/235 [==============================] - 1s 2ms/step - loss: 0.0061 - accuracy: 0.9981\n",
      "Epoch 79/100\n",
      "235/235 [==============================] - 1s 2ms/step - loss: 0.0047 - accuracy: 0.9985\n",
      "Epoch 80/100\n",
      "235/235 [==============================] - 1s 2ms/step - loss: 0.0250 - accuracy: 0.9918\n",
      "Epoch 81/100\n"
     ]
    },
    {
     "name": "stdout",
     "output_type": "stream",
     "text": [
      "235/235 [==============================] - 1s 2ms/step - loss: 0.0246 - accuracy: 0.9912\n",
      "Epoch 82/100\n",
      "235/235 [==============================] - 1s 2ms/step - loss: 0.0113 - accuracy: 0.9964\n",
      "Epoch 83/100\n",
      "235/235 [==============================] - 1s 2ms/step - loss: 0.0066 - accuracy: 0.9981\n",
      "Epoch 84/100\n",
      "235/235 [==============================] - 1s 2ms/step - loss: 0.0034 - accuracy: 0.9992\n",
      "Epoch 85/100\n",
      "235/235 [==============================] - 1s 2ms/step - loss: 0.0014 - accuracy: 0.9998\n",
      "Epoch 86/100\n",
      "235/235 [==============================] - 1s 2ms/step - loss: 7.0352e-04 - accuracy: 1.0000\n",
      "Epoch 87/100\n",
      "235/235 [==============================] - 1s 2ms/step - loss: 4.0165e-04 - accuracy: 1.0000\n",
      "Epoch 88/100\n",
      "235/235 [==============================] - 1s 2ms/step - loss: 2.4421e-04 - accuracy: 1.0000\n",
      "Epoch 89/100\n",
      "235/235 [==============================] - 1s 2ms/step - loss: 2.0777e-04 - accuracy: 1.0000\n",
      "Epoch 90/100\n",
      "235/235 [==============================] - 1s 2ms/step - loss: 1.8402e-04 - accuracy: 1.0000\n",
      "Epoch 91/100\n",
      "235/235 [==============================] - 1s 2ms/step - loss: 1.6747e-04 - accuracy: 1.0000\n",
      "Epoch 92/100\n",
      "235/235 [==============================] - 1s 2ms/step - loss: 1.5146e-04 - accuracy: 1.0000\n",
      "Epoch 93/100\n",
      "235/235 [==============================] - 1s 2ms/step - loss: 1.3962e-04 - accuracy: 1.0000\n",
      "Epoch 94/100\n",
      "235/235 [==============================] - 1s 2ms/step - loss: 1.2792e-04 - accuracy: 1.0000\n",
      "Epoch 95/100\n",
      "235/235 [==============================] - 1s 2ms/step - loss: 1.1680e-04 - accuracy: 1.0000\n",
      "Epoch 96/100\n",
      "235/235 [==============================] - 1s 2ms/step - loss: 1.0984e-04 - accuracy: 1.0000\n",
      "Epoch 97/100\n",
      "235/235 [==============================] - 1s 2ms/step - loss: 1.0131e-04 - accuracy: 1.0000\n",
      "Epoch 98/100\n",
      "235/235 [==============================] - 1s 2ms/step - loss: 9.3499e-05 - accuracy: 1.0000\n",
      "Epoch 99/100\n",
      "235/235 [==============================] - 1s 2ms/step - loss: 8.5432e-05 - accuracy: 1.0000\n",
      "Epoch 100/100\n",
      "235/235 [==============================] - 1s 2ms/step - loss: 7.8016e-05 - accuracy: 1.0000\n",
      "Execution time: 54.3213 seconds\n"
     ]
    }
   ],
   "source": [
    "model_hm = get_model()\n",
    "model_hm.set_weights(weights) \n",
    "st = time.time()\n",
    "model_hm.fit(X_train_normalized, y_train, epochs = num_epochs, verbose=1, callbacks=[CustomCallbackHM(),logger_hm_model], batch_size=batch_size) \n",
    "et = time.time()\n",
    "elapsed_training_time_hm = round(et - st, 4)\n",
    "print('Execution time:', elapsed_training_time_hm, 'seconds')"
   ]
  },
  {
   "cell_type": "markdown",
   "metadata": {},
   "source": [
    "Model summary"
   ]
  },
  {
   "cell_type": "code",
   "execution_count": 300,
   "metadata": {},
   "outputs": [
    {
     "name": "stdout",
     "output_type": "stream",
     "text": [
      "Model: \"sequential_41\"\n",
      "_________________________________________________________________\n",
      " Layer (type)                Output Shape              Param #   \n",
      "=================================================================\n",
      " conv2d_82 (Conv2D)          (None, 26, 26, 32)        320       \n",
      "                                                                 \n",
      " max_pooling2d_82 (MaxPoolin  (None, 13, 13, 32)       0         \n",
      " g2D)                                                            \n",
      "                                                                 \n",
      " conv2d_83 (Conv2D)          (None, 11, 11, 64)        18496     \n",
      "                                                                 \n",
      " max_pooling2d_83 (MaxPoolin  (None, 5, 5, 64)         0         \n",
      " g2D)                                                            \n",
      "                                                                 \n",
      " flatten_41 (Flatten)        (None, 1600)              0         \n",
      "                                                                 \n",
      " dense_82 (Dense)            (None, 64)                102464    \n",
      "                                                                 \n",
      " dense_83 (Dense)            (None, 10)                650       \n",
      "                                                                 \n",
      "=================================================================\n",
      "Total params: 121,930\n",
      "Trainable params: 121,930\n",
      "Non-trainable params: 0\n",
      "_________________________________________________________________\n"
     ]
    }
   ],
   "source": [
    "model_hm.summary()"
   ]
  },
  {
   "cell_type": "markdown",
   "metadata": {},
   "source": [
    "#### Generic optimizer vs HM-based optimizer"
   ]
  },
  {
   "cell_type": "code",
   "execution_count": 301,
   "metadata": {},
   "outputs": [],
   "source": [
    "df1 = pd.read_csv(generic_file)\n",
    "df2 = pd.read_csv(hm_file)"
   ]
  },
  {
   "cell_type": "markdown",
   "metadata": {},
   "source": [
    "Accuracy"
   ]
  },
  {
   "cell_type": "code",
   "execution_count": 302,
   "metadata": {},
   "outputs": [
    {
     "data": {
      "image/png": "[encoded data removed]",
      "text/plain": [
       "<Figure size 600x400 with 1 Axes>"
      ]
     },
     "metadata": {},
     "output_type": "display_data"
    }
   ],
   "source": [
    "x1 = range(0, df1.shape[0])\n",
    "x2 = range(0, df2.shape[0])\n",
    "y1 = df1['accuracy'] \n",
    "y2 = df2['accuracy']  \n",
    "plt.figure(figsize = (3,2), dpi = 200)\n",
    "plt.plot(x1, y1, \"r-\", label = opti_name, linewidth = 0.8, alpha = 0.7)\n",
    "plt.plot(x2, y2, \"k:\", label = 'HM-based ' + opti_name, linewidth = 1, alpha = 0.9) \n",
    "plt.ylabel('Accuracy' , fontdict = {'fontsize':5})\n",
    "plt.xlabel('Epoch', fontdict = {'fontsize':5}) \n",
    "#plt.title(\"Loss\", fontdict = {'fontname':'Times New Roman', 'fontsize':8})\n",
    "plt.xticks(fontsize = 5)\n",
    "plt.yticks(fontsize = 5)\n",
    "plt.tight_layout()\n",
    "plt.legend(prop={'size': 5})\n",
    "#plt.savefig(\"graph.png\",bbox_inches='tight',dpi=(300)) \n",
    "plt.show() "
   ]
  },
  {
   "cell_type": "markdown",
   "metadata": {},
   "source": [
    "Loss"
   ]
  },
  {
   "cell_type": "code",
   "execution_count": 303,
   "metadata": {
    "scrolled": true
   },
   "outputs": [
    {
     "data": {
      "image/png": "[encoded data removed]",
      "text/plain": [
       "<Figure size 600x400 with 1 Axes>"
      ]
     },
     "metadata": {},
     "output_type": "display_data"
    }
   ],
   "source": [
    "x1 = range(0, df1.shape[0])\n",
    "x2 = range(0, df2.shape[0])\n",
    "y1 = df1['loss'] \n",
    "y2 = df2['loss']   \n",
    "plt.figure(figsize = (3,2), dpi = 200)\n",
    "plt.plot(x1, y1, \"r-\", label = opti_name, linewidth = 0.8, alpha = 0.7)\n",
    "plt.plot(x2, y2, \"k:\", label = 'HM-based ' + opti_name, linewidth = 1, alpha = 0.9) \n",
    "plt.ylabel('Loss' , fontdict = {'fontsize':5})\n",
    "plt.xlabel('Epoch', fontdict = {'fontsize':5}) \n",
    "#plt.title(\"Loss\", fontdict = {'fontname':'Times New Roman', 'fontsize':8})\n",
    "plt.xticks(fontsize = 5)\n",
    "plt.yticks(fontsize = 5)\n",
    "plt.tight_layout()\n",
    "plt.legend(prop={'size': 5})\n",
    "#plt.savefig(\"graph.png\",bbox_inches='tight',dpi=(300)) \n",
    "plt.show()  "
   ]
  },
  {
   "cell_type": "markdown",
   "metadata": {},
   "source": [
    "###### Testing the model"
   ]
  },
  {
   "cell_type": "markdown",
   "metadata": {},
   "source": [
    "Generic opimizer model"
   ]
  },
  {
   "cell_type": "code",
   "execution_count": 304,
   "metadata": {},
   "outputs": [
    {
     "name": "stdout",
     "output_type": "stream",
     "text": [
      "313/313 [==============================] - 0s 820us/step - loss: 0.7252 - accuracy: 0.9083\n"
     ]
    },
    {
     "data": {
      "text/plain": [
       "[0.7251594066619873, 0.90829998254776]"
      ]
     },
     "execution_count": 304,
     "metadata": {},
     "output_type": "execute_result"
    }
   ],
   "source": [
    "generic_testing = model_wihtout_hm.evaluate(X_test_normalized, y_test)\n",
    "generic_testing  "
   ]
  },
  {
   "cell_type": "markdown",
   "metadata": {},
   "source": [
    "HM based optimizer model"
   ]
  },
  {
   "cell_type": "code",
   "execution_count": 305,
   "metadata": {},
   "outputs": [
    {
     "name": "stdout",
     "output_type": "stream",
     "text": [
      "313/313 [==============================] - 0s 857us/step - loss: 0.9698 - accuracy: 0.9130\n"
     ]
    },
    {
     "data": {
      "text/plain": [
       "[0.9698363542556763, 0.9129999876022339]"
      ]
     },
     "execution_count": 305,
     "metadata": {},
     "output_type": "execute_result"
    }
   ],
   "source": [
    "hm_testing = model_hm.evaluate(X_test_normalized, y_test)\n",
    "hm_testing"
   ]
  },
  {
   "cell_type": "markdown",
   "metadata": {},
   "source": [
    "#### Release the GPU memory"
   ]
  },
  {
   "cell_type": "raw",
   "metadata": {},
   "source": [
    "from numba import cuda \n",
    "device = cuda.get_current_device()\n",
    "device.reset()"
   ]
  }
 ],
 "metadata": {
  "kernelspec": {
   "display_name": "Python 3 (ipykernel)",
   "language": "python",
   "name": "python3"
  },
  "language_info": {
   "codemirror_mode": {
    "name": "ipython",
    "version": 3
   },
   "file_extension": ".py",
   "mimetype": "text/x-python",
   "name": "python",
   "nbconvert_exporter": "python",
   "pygments_lexer": "ipython3",
   "version": "3.9.13"
  }
 },
 "nbformat": 4,
 "nbformat_minor": 4
}
