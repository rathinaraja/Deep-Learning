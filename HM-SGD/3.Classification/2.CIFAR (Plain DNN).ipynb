{
 "cells": [
  {
   "cell_type": "markdown",
   "metadata": {
    "id": "iQ2um3Oau3ET"
   },
   "source": [
    "<h2 style=\"color:blue\" align=\"center\">Plain Deep Neural Network (DNN) on CIFAR</h2>"
   ]
  },
  {
   "cell_type": "markdown",
   "metadata": {
    "id": "dANJl4o8u3EY"
   },
   "source": [
    "#### Import the necessary libraries"
   ]
  },
  {
   "cell_type": "code",
   "execution_count": 20,
   "metadata": {
    "id": "P63KnoDvu3EY"
   },
   "outputs": [],
   "source": [
    "import tensorflow as tf \n",
    "import matplotlib.pyplot as plt\n",
    "%matplotlib inline\n",
    "import numpy as np\n",
    "import pandas as pd\n",
    "import random as python_random\n",
    "import time, math \n",
    "\n",
    "from tensorflow import keras \n",
    "from keras.models import Sequential\n",
    "from keras.layers import Dense, Flatten, Conv2D, MaxPooling2D \n",
    "from keras.callbacks import Callback, CSVLogger\n",
    "\n",
    "import warnings\n",
    "warnings.filterwarnings('ignore')"
   ]
  },
  {
   "cell_type": "markdown",
   "metadata": {},
   "source": [
    "#### Reserve GPU memory for the execution"
   ]
  },
  {
   "cell_type": "code",
   "execution_count": 21,
   "metadata": {},
   "outputs": [
    {
     "name": "stdout",
     "output_type": "stream",
     "text": [
      "1 Physical GPUs, 1 Logical GPUs\n"
     ]
    }
   ],
   "source": [
    "import tensorflow as tf\n",
    "gpus = tf.config.experimental.list_physical_devices('GPU')\n",
    "if gpus:\n",
    "  try:\n",
    "    # Currently, memory growth needs to be the same across GPUs\n",
    "    for gpu in gpus:\n",
    "      tf.config.experimental.set_memory_growth(gpu, True)\n",
    "    logical_gpus = tf.config.experimental.list_logical_devices('GPU')\n",
    "    print(len(gpus), \"Physical GPUs,\", len(logical_gpus), \"Logical GPUs\")\n",
    "  except RuntimeError as e:\n",
    "    # Memory growth must be set before GPUs have been initialized\n",
    "    print(e)"
   ]
  },
  {
   "cell_type": "markdown",
   "metadata": {
    "id": "Ii6aMjDDu3Ea"
   },
   "source": [
    "#### Load and split the dataset into training and testing set"
   ]
  },
  {
   "cell_type": "markdown",
   "metadata": {
    "id": "DhGMMeWPu3Ea"
   },
   "source": [
    "CIFAR 10"
   ]
  },
  {
   "cell_type": "code",
   "execution_count": 22,
   "metadata": {
    "id": "1wBeG5Puu3Eb"
   },
   "outputs": [],
   "source": [
    "#(X_train,y_train),(X_test,y_test) = keras.datasets.cifar10.load_data()"
   ]
  },
  {
   "cell_type": "markdown",
   "metadata": {
    "id": "e04KvT7bu3Eb"
   },
   "source": [
    "CIFAR 100"
   ]
  },
  {
   "cell_type": "code",
   "execution_count": 23,
   "metadata": {
    "id": "r1tq7jduu3Ec"
   },
   "outputs": [
    {
     "name": "stdout",
     "output_type": "stream",
     "text": [
      "Downloading data from https://www.cs.toronto.edu/~kriz/cifar-100-python.tar.gz\n",
      "169001437/169001437 [==============================] - 44s 0us/step\n"
     ]
    }
   ],
   "source": [
    "(X_train,y_train),(X_test,y_test) = keras.datasets.cifar100.load_data()"
   ]
  },
  {
   "cell_type": "markdown",
   "metadata": {
    "id": "6PDgUz0F5obY"
   },
   "source": [
    "Here we see there are 50000 training images and 1000 test images"
   ]
  },
  {
   "cell_type": "markdown",
   "metadata": {
    "id": "T9gz-ukeu3Ec"
   },
   "source": [
    "#### Normalize the input dataset"
   ]
  },
  {
   "cell_type": "code",
   "execution_count": 24,
   "metadata": {
    "id": "plStj22pu3Ed"
   },
   "outputs": [],
   "source": [
    "X_train_normalized = X_train / 255.0\n",
    "X_test_normalized = X_test / 255.0"
   ]
  },
  {
   "cell_type": "code",
   "execution_count": 25,
   "metadata": {
    "id": "ZVL6i6rH2lmv"
   },
   "outputs": [],
   "source": [
    "y_train = y_train.reshape(-1,)\n",
    "y_test = y_test.reshape(-1,)"
   ]
  },
  {
   "cell_type": "markdown",
   "metadata": {
    "id": "czzweO3tu3Ee"
   },
   "source": [
    "#### Define DNN model"
   ]
  },
  {
   "cell_type": "code",
   "execution_count": 26,
   "metadata": {
    "id": "z75xiuVqu3Ef"
   },
   "outputs": [],
   "source": [
    "python_random.seed(7)\n",
    "np.random.seed(7)\n",
    "tf.random.set_seed(7)\n",
    "opti_name = ''\n",
    "\n",
    "def get_model(): \n",
    "    model = Sequential([ \n",
    "          Flatten(input_shape=(32,32,3)),\n",
    "          Dense(3000, activation = 'relu'),\n",
    "          Dense(1000, activation = 'relu'),\n",
    "          # For CIFAR-10\n",
    "          #Dense(10, activation = 'softmax')\n",
    "          # For CIFAR-100\n",
    "          Dense(100, activation = 'softmax')\n",
    "    ]) \n",
    "    \n",
    "    global opti_name\n",
    "    \n",
    "    # General SGD\n",
    "    #opti = keras.optimizers.SGD(learning_rate=0.001)\n",
    "    #opti_name = 'SGD'\n",
    "    \n",
    "    # SGD with momentum\n",
    "    #opti = keras.optimizers.SGD(learning_rate=0.001, momentum=0.4)\n",
    "    #opti_name = 'SGD with momentum'\n",
    "    \n",
    "    # SGD with Nesterov momentum \n",
    "    #opti = keras.optimizers.SGD(learning_rate=0.001, momentum=0.4, nesterov=True)\n",
    "    #opti_name = 'SGD with Nesterov momentum'\n",
    "    \n",
    "    # RMSprop \n",
    "    #opti = keras.optimizers.RMSprop(learning_rate=0.001, momentum=0.4)\n",
    "    #opti_name = 'RMSprop'\n",
    "    \n",
    "    # Adam\n",
    "    opti = keras.optimizers.Adam(learning_rate=0.001) \n",
    "    opti_name = 'Adam'\n",
    "    \n",
    "    # Adamax\n",
    "    #opti = keras.optimizers.Adamax(learning_rate=0.001) \n",
    "    #opti_name = 'Adamax'\n",
    "    \n",
    "    model.compile(\n",
    "        optimizer = opti,\n",
    "        loss = 'sparse_categorical_crossentropy',\n",
    "        metrics = ['accuracy']\n",
    "    )\n",
    "    \n",
    "    return model"
   ]
  },
  {
   "cell_type": "markdown",
   "metadata": {
    "id": "5f5rtWenu3Ef"
   },
   "source": [
    "#### Custom callbacks"
   ]
  },
  {
   "cell_type": "markdown",
   "metadata": {
    "id": "RWo_NQOwu3Eg"
   },
   "source": [
    "For generic optimizer model"
   ]
  },
  {
   "cell_type": "code",
   "execution_count": 27,
   "metadata": {
    "id": "U6OElGQtu3Eg"
   },
   "outputs": [],
   "source": [
    "# Get the best of base-line model and set it as stopping criteria in HM-based model\n",
    "generic_best = 0\n",
    "\n",
    "class CustomCallbackGeneric(Callback):  \n",
    "    def on_epoch_end(self, epoch, logs={}): \n",
    "        global generic_best\n",
    "        accuracy = round(logs.get('accuracy'), 4) \n",
    "        \n",
    "        if epoch == 0:\n",
    "            generic_best = accuracy     \n",
    "        \n",
    "        if epoch > 0 and accuracy < generic_best :\n",
    "            generic_best = accuracy"
   ]
  },
  {
   "cell_type": "markdown",
   "metadata": {
    "id": "tg30yzj-u3Eg"
   },
   "source": [
    "For HM based optimizer model"
   ]
  },
  {
   "cell_type": "code",
   "execution_count": 28,
   "metadata": {
    "id": "sfHN9hIdu3Eg"
   },
   "outputs": [],
   "source": [
    "class CustomCallbackHM(Callback):  \n",
    "    initial_weights = 0\n",
    "    previous_weights = 0\n",
    "    call_hm = 0    \n",
    "     \n",
    "    def on_train_begin(self, logs=None):\n",
    "        self.initial_weights = model_hm.get_weights() \n",
    "        self.initial_weights = np.array(self.initial_weights,dtype=object)\n",
    "        self.previous_weights = self.initial_weights\n",
    "        # Harmonic mean based weights calculation\n",
    "        self.call_hm = np.vectorize(self.apply_hm)  \n",
    "\n",
    "    def on_epoch_end(self, epoch, logs={}): \n",
    "         # Set the stopping criteria at (stop_at) the MAE obtained from the baseline model \n",
    "        global generic_best \n",
    "        \n",
    "        num_layers = len(model_hm.layers)  \n",
    "        current_weights = model_hm.get_weights()\n",
    "        current_weights = np.array(current_weights,dtype=object)        \n",
    "\n",
    "        for i in range(num_layers-1):  \n",
    "            # Harmonic mean based weights calculation\n",
    "            tensor1 = tf.convert_to_tensor(self.previous_weights[i])\n",
    "            tensor2 = tf.convert_to_tensor(current_weights[i])\n",
    "            current_weights[i] = self.call_hm(tensor1, tensor2, epoch)   \n",
    "            \n",
    "        # Updating the model with new weights\n",
    "        model_hm.set_weights(current_weights.tolist())\n",
    "        self.previous_weights = current_weights \n",
    "        \n",
    "        #Stopping criteria\n",
    "        #if(round(logs.get('accuracy'), 4) < generic_best):  \n",
    "            #self.model.stop_training = True\n",
    "        \n",
    "    def apply_hm(self, v1, v2, epoch):   \n",
    "        r = 0\n",
    "        if epoch < 50:\n",
    "            r = 1\n",
    "        elif epoch > 50 and epoch < 100:\n",
    "            r = 0.75\n",
    "        elif epoch > 100 and epoch < 150:\n",
    "            r = 0.5\n",
    "        else:  \n",
    "            r = 0.25 \n",
    "            \n",
    "        if v1==0 or v2==0:\n",
    "            return v2\n",
    "        elif v1 > v2:\n",
    "            t1 = abs(v1)\n",
    "            t2 = abs(v2)\n",
    "            hm = 2*t1*t2/(t1+t2)\n",
    "            min1 = min(t1,t2)\n",
    "            diff = abs(hm-min1) * r \n",
    "            v2 = v2 - diff\n",
    "            return v2  \n",
    "        elif v1 < v2:\n",
    "            t1 = abs(v1)\n",
    "            t2 = abs(v2)\n",
    "            hm = 2*t1*t2/(t1+t2)\n",
    "            min1 = min(t1,t2)\n",
    "            diff = abs(hm-min1) * r \n",
    "            v2 = v2 + diff\n",
    "            return v2   \n",
    "        else:\n",
    "            return v2   "
   ]
  },
  {
   "cell_type": "markdown",
   "metadata": {
    "id": "EQK_pggku3Ei"
   },
   "source": [
    "#### Training"
   ]
  },
  {
   "cell_type": "markdown",
   "metadata": {},
   "source": [
    "Get a model to assign same weights to model with and without HM"
   ]
  },
  {
   "cell_type": "code",
   "execution_count": 29,
   "metadata": {},
   "outputs": [],
   "source": [
    "model = get_model() \n",
    "weights = model.get_weights() \n",
    "num_epochs = 100\n",
    "batch_size = 256"
   ]
  },
  {
   "cell_type": "markdown",
   "metadata": {
    "id": "xLpBFwlPu3Eh"
   },
   "source": [
    "To record loss and accuracy in CSV file"
   ]
  },
  {
   "cell_type": "code",
   "execution_count": 30,
   "metadata": {},
   "outputs": [],
   "source": [
    "generic_file = '3.CIFAR '+ opti_name +' optimizer.csv'\n",
    "hm_file = '3.CIFAR '+ opti_name +' HM-based optimizer.csv' \n",
    "logger_generic_model = CSVLogger(generic_file, append = False, separator=',')\n",
    "logger_hm_model = CSVLogger(hm_file, append = False, separator=',')"
   ]
  },
  {
   "cell_type": "markdown",
   "metadata": {
    "id": "62pnBX6bu3Ei"
   },
   "source": [
    "Generic opimizer model"
   ]
  },
  {
   "cell_type": "code",
   "execution_count": 31,
   "metadata": {
    "colab": {
     "base_uri": "https://localhost:8080/"
    },
    "id": "sr3H0_aZu3Ej",
    "outputId": "fba700c7-daa9-4eef-cba3-c4586325a003",
    "scrolled": true
   },
   "outputs": [
    {
     "name": "stdout",
     "output_type": "stream",
     "text": [
      "Epoch 1/100\n",
      "196/196 [==============================] - 1s 4ms/step - loss: 4.3219 - accuracy: 0.0589\n",
      "Epoch 2/100\n",
      "196/196 [==============================] - 1s 3ms/step - loss: 3.7539 - accuracy: 0.1255\n",
      "Epoch 3/100\n",
      "196/196 [==============================] - 1s 3ms/step - loss: 3.5569 - accuracy: 0.1614\n",
      "Epoch 4/100\n",
      "196/196 [==============================] - 1s 3ms/step - loss: 3.4374 - accuracy: 0.1840\n",
      "Epoch 5/100\n",
      "196/196 [==============================] - 1s 3ms/step - loss: 3.3408 - accuracy: 0.2015\n",
      "Epoch 6/100\n",
      "196/196 [==============================] - 1s 3ms/step - loss: 3.2471 - accuracy: 0.2183\n",
      "Epoch 7/100\n",
      "196/196 [==============================] - 1s 3ms/step - loss: 3.1643 - accuracy: 0.2351\n",
      "Epoch 8/100\n",
      "196/196 [==============================] - 1s 3ms/step - loss: 3.1052 - accuracy: 0.2446\n",
      "Epoch 9/100\n",
      "196/196 [==============================] - 1s 3ms/step - loss: 3.0403 - accuracy: 0.2545\n",
      "Epoch 10/100\n",
      "196/196 [==============================] - 1s 3ms/step - loss: 2.9873 - accuracy: 0.2662\n",
      "Epoch 11/100\n",
      "196/196 [==============================] - 1s 3ms/step - loss: 2.9204 - accuracy: 0.2788\n",
      "Epoch 12/100\n",
      "196/196 [==============================] - 1s 3ms/step - loss: 2.8717 - accuracy: 0.2854\n",
      "Epoch 13/100\n",
      "196/196 [==============================] - 1s 3ms/step - loss: 2.8153 - accuracy: 0.2966\n",
      "Epoch 14/100\n",
      "196/196 [==============================] - 1s 3ms/step - loss: 2.7737 - accuracy: 0.3068\n",
      "Epoch 15/100\n",
      "196/196 [==============================] - 1s 3ms/step - loss: 2.7204 - accuracy: 0.3159\n",
      "Epoch 16/100\n",
      "196/196 [==============================] - 0s 3ms/step - loss: 2.6653 - accuracy: 0.3289\n",
      "Epoch 17/100\n",
      "196/196 [==============================] - 0s 2ms/step - loss: 2.6158 - accuracy: 0.3374\n",
      "Epoch 18/100\n",
      "196/196 [==============================] - 0s 2ms/step - loss: 2.5610 - accuracy: 0.3502\n",
      "Epoch 19/100\n",
      "196/196 [==============================] - 0s 3ms/step - loss: 2.5163 - accuracy: 0.3584\n",
      "Epoch 20/100\n",
      "196/196 [==============================] - 0s 2ms/step - loss: 2.4561 - accuracy: 0.3703\n",
      "Epoch 21/100\n",
      "196/196 [==============================] - 1s 3ms/step - loss: 2.4121 - accuracy: 0.3793\n",
      "Epoch 22/100\n",
      "196/196 [==============================] - 1s 3ms/step - loss: 2.3669 - accuracy: 0.3896\n",
      "Epoch 23/100\n",
      "196/196 [==============================] - 0s 2ms/step - loss: 2.3148 - accuracy: 0.3996\n",
      "Epoch 24/100\n",
      "196/196 [==============================] - 1s 3ms/step - loss: 2.2691 - accuracy: 0.4087\n",
      "Epoch 25/100\n",
      "196/196 [==============================] - 0s 2ms/step - loss: 2.2261 - accuracy: 0.4202\n",
      "Epoch 26/100\n",
      "196/196 [==============================] - 1s 3ms/step - loss: 2.1718 - accuracy: 0.4315\n",
      "Epoch 27/100\n",
      "196/196 [==============================] - 1s 3ms/step - loss: 2.1360 - accuracy: 0.4382\n",
      "Epoch 28/100\n",
      "196/196 [==============================] - 0s 2ms/step - loss: 2.0790 - accuracy: 0.4553\n",
      "Epoch 29/100\n",
      "196/196 [==============================] - 1s 3ms/step - loss: 2.0270 - accuracy: 0.4655\n",
      "Epoch 30/100\n",
      "196/196 [==============================] - 0s 2ms/step - loss: 1.9813 - accuracy: 0.4770\n",
      "Epoch 31/100\n",
      "196/196 [==============================] - 0s 2ms/step - loss: 1.9393 - accuracy: 0.4873\n",
      "Epoch 32/100\n",
      "196/196 [==============================] - 0s 3ms/step - loss: 1.8865 - accuracy: 0.4980\n",
      "Epoch 33/100\n",
      "196/196 [==============================] - 1s 3ms/step - loss: 1.8479 - accuracy: 0.5090\n",
      "Epoch 34/100\n",
      "196/196 [==============================] - 0s 2ms/step - loss: 1.8009 - accuracy: 0.5179\n",
      "Epoch 35/100\n",
      "196/196 [==============================] - 0s 2ms/step - loss: 1.7560 - accuracy: 0.5300\n",
      "Epoch 36/100\n",
      "196/196 [==============================] - 1s 3ms/step - loss: 1.7087 - accuracy: 0.5432\n",
      "Epoch 37/100\n",
      "196/196 [==============================] - 0s 2ms/step - loss: 1.6834 - accuracy: 0.5494\n",
      "Epoch 38/100\n",
      "196/196 [==============================] - 1s 3ms/step - loss: 1.6318 - accuracy: 0.5606\n",
      "Epoch 39/100\n",
      "196/196 [==============================] - 0s 2ms/step - loss: 1.5909 - accuracy: 0.5701\n",
      "Epoch 40/100\n",
      "196/196 [==============================] - 0s 2ms/step - loss: 1.5516 - accuracy: 0.5798\n",
      "Epoch 41/100\n",
      "196/196 [==============================] - 0s 2ms/step - loss: 1.5088 - accuracy: 0.5914\n",
      "Epoch 42/100\n",
      "196/196 [==============================] - 0s 2ms/step - loss: 1.4780 - accuracy: 0.6005\n",
      "Epoch 43/100\n",
      "196/196 [==============================] - 0s 3ms/step - loss: 1.4387 - accuracy: 0.6090\n",
      "Epoch 44/100\n",
      "196/196 [==============================] - 0s 3ms/step - loss: 1.4067 - accuracy: 0.6165\n",
      "Epoch 45/100\n",
      "196/196 [==============================] - 0s 2ms/step - loss: 1.3874 - accuracy: 0.6205\n",
      "Epoch 46/100\n",
      "196/196 [==============================] - 0s 2ms/step - loss: 1.3365 - accuracy: 0.6327\n",
      "Epoch 47/100\n",
      "196/196 [==============================] - 1s 3ms/step - loss: 1.3062 - accuracy: 0.6417\n",
      "Epoch 48/100\n",
      "196/196 [==============================] - 0s 2ms/step - loss: 1.2777 - accuracy: 0.6484\n",
      "Epoch 49/100\n",
      "196/196 [==============================] - 0s 2ms/step - loss: 1.2517 - accuracy: 0.6541\n",
      "Epoch 50/100\n",
      "196/196 [==============================] - 1s 3ms/step - loss: 1.2099 - accuracy: 0.6659\n",
      "Epoch 51/100\n",
      "196/196 [==============================] - 0s 2ms/step - loss: 1.1863 - accuracy: 0.6689\n",
      "Epoch 52/100\n",
      "196/196 [==============================] - 0s 2ms/step - loss: 1.1563 - accuracy: 0.6784\n",
      "Epoch 53/100\n",
      "196/196 [==============================] - 0s 2ms/step - loss: 1.1405 - accuracy: 0.6826\n",
      "Epoch 54/100\n",
      "196/196 [==============================] - 0s 2ms/step - loss: 1.1185 - accuracy: 0.6877\n",
      "Epoch 55/100\n",
      "196/196 [==============================] - 0s 2ms/step - loss: 1.0836 - accuracy: 0.7005\n",
      "Epoch 56/100\n",
      "196/196 [==============================] - 0s 2ms/step - loss: 1.0742 - accuracy: 0.6985\n",
      "Epoch 57/100\n",
      "196/196 [==============================] - 0s 2ms/step - loss: 1.0473 - accuracy: 0.7062\n",
      "Epoch 58/100\n",
      "196/196 [==============================] - 0s 2ms/step - loss: 1.0389 - accuracy: 0.7070\n",
      "Epoch 59/100\n",
      "196/196 [==============================] - 0s 3ms/step - loss: 1.0009 - accuracy: 0.7194\n",
      "Epoch 60/100\n",
      "196/196 [==============================] - 0s 3ms/step - loss: 0.9620 - accuracy: 0.7287\n",
      "Epoch 61/100\n",
      "196/196 [==============================] - 0s 2ms/step - loss: 0.9556 - accuracy: 0.7299\n",
      "Epoch 62/100\n",
      "196/196 [==============================] - 1s 3ms/step - loss: 0.9361 - accuracy: 0.7365\n",
      "Epoch 63/100\n",
      "196/196 [==============================] - 0s 2ms/step - loss: 0.9156 - accuracy: 0.7389\n",
      "Epoch 64/100\n",
      "196/196 [==============================] - 0s 2ms/step - loss: 0.9120 - accuracy: 0.7392\n",
      "Epoch 65/100\n",
      "196/196 [==============================] - 1s 3ms/step - loss: 0.8699 - accuracy: 0.7525\n",
      "Epoch 66/100\n",
      "196/196 [==============================] - 1s 3ms/step - loss: 0.8645 - accuracy: 0.7519\n",
      "Epoch 67/100\n",
      "196/196 [==============================] - 0s 2ms/step - loss: 0.8220 - accuracy: 0.7666\n",
      "Epoch 68/100\n",
      "196/196 [==============================] - 0s 2ms/step - loss: 0.8075 - accuracy: 0.7688\n",
      "Epoch 69/100\n",
      "196/196 [==============================] - 0s 2ms/step - loss: 0.7858 - accuracy: 0.7757\n",
      "Epoch 70/100\n",
      "196/196 [==============================] - 0s 3ms/step - loss: 0.7814 - accuracy: 0.7751\n",
      "Epoch 71/100\n",
      "196/196 [==============================] - 0s 2ms/step - loss: 0.7633 - accuracy: 0.7796\n",
      "Epoch 72/100\n",
      "196/196 [==============================] - 0s 2ms/step - loss: 0.7597 - accuracy: 0.7835\n",
      "Epoch 73/100\n",
      "196/196 [==============================] - 0s 3ms/step - loss: 0.7236 - accuracy: 0.7912\n",
      "Epoch 74/100\n",
      "196/196 [==============================] - 0s 2ms/step - loss: 0.6990 - accuracy: 0.7986\n",
      "Epoch 75/100\n",
      "196/196 [==============================] - 0s 3ms/step - loss: 0.6969 - accuracy: 0.7979\n",
      "Epoch 76/100\n",
      "196/196 [==============================] - 0s 2ms/step - loss: 0.6939 - accuracy: 0.7990\n",
      "Epoch 77/100\n",
      "196/196 [==============================] - 0s 2ms/step - loss: 0.6685 - accuracy: 0.8052\n",
      "Epoch 78/100\n",
      "196/196 [==============================] - 0s 2ms/step - loss: 0.6504 - accuracy: 0.8114\n",
      "Epoch 79/100\n",
      "196/196 [==============================] - 0s 3ms/step - loss: 0.6527 - accuracy: 0.8088\n",
      "Epoch 80/100\n",
      "196/196 [==============================] - 0s 2ms/step - loss: 0.6415 - accuracy: 0.8107\n",
      "Epoch 81/100\n"
     ]
    },
    {
     "name": "stdout",
     "output_type": "stream",
     "text": [
      "196/196 [==============================] - 0s 2ms/step - loss: 0.6316 - accuracy: 0.8142\n",
      "Epoch 82/100\n",
      "196/196 [==============================] - 0s 2ms/step - loss: 0.6325 - accuracy: 0.8126\n",
      "Epoch 83/100\n",
      "196/196 [==============================] - 0s 2ms/step - loss: 0.6205 - accuracy: 0.8167\n",
      "Epoch 84/100\n",
      "196/196 [==============================] - 0s 2ms/step - loss: 0.5733 - accuracy: 0.8337\n",
      "Epoch 85/100\n",
      "196/196 [==============================] - 0s 2ms/step - loss: 0.5707 - accuracy: 0.8315\n",
      "Epoch 86/100\n",
      "196/196 [==============================] - 0s 2ms/step - loss: 0.5713 - accuracy: 0.8293\n",
      "Epoch 87/100\n",
      "196/196 [==============================] - 0s 3ms/step - loss: 0.5509 - accuracy: 0.8368\n",
      "Epoch 88/100\n",
      "196/196 [==============================] - 0s 2ms/step - loss: 0.5422 - accuracy: 0.8398\n",
      "Epoch 89/100\n",
      "196/196 [==============================] - 0s 2ms/step - loss: 0.5229 - accuracy: 0.8447\n",
      "Epoch 90/100\n",
      "196/196 [==============================] - 1s 3ms/step - loss: 0.5224 - accuracy: 0.8443\n",
      "Epoch 91/100\n",
      "196/196 [==============================] - 0s 2ms/step - loss: 0.5283 - accuracy: 0.8430\n",
      "Epoch 92/100\n",
      "196/196 [==============================] - 0s 2ms/step - loss: 0.5185 - accuracy: 0.8452\n",
      "Epoch 93/100\n",
      "196/196 [==============================] - 0s 2ms/step - loss: 0.5285 - accuracy: 0.8405\n",
      "Epoch 94/100\n",
      "196/196 [==============================] - 1s 3ms/step - loss: 0.4934 - accuracy: 0.8511\n",
      "Epoch 95/100\n",
      "196/196 [==============================] - 0s 2ms/step - loss: 0.4674 - accuracy: 0.8606\n",
      "Epoch 96/100\n",
      "196/196 [==============================] - 1s 3ms/step - loss: 0.4925 - accuracy: 0.8503\n",
      "Epoch 97/100\n",
      "196/196 [==============================] - 0s 2ms/step - loss: 0.4603 - accuracy: 0.8615\n",
      "Epoch 98/100\n",
      "196/196 [==============================] - 0s 3ms/step - loss: 0.4666 - accuracy: 0.8585\n",
      "Epoch 99/100\n",
      "196/196 [==============================] - 1s 3ms/step - loss: 0.4207 - accuracy: 0.8748\n",
      "Epoch 100/100\n",
      "196/196 [==============================] - 0s 2ms/step - loss: 0.4408 - accuracy: 0.8665\n",
      "Execution time: 50.7063 seconds\n"
     ]
    }
   ],
   "source": [
    "model_wihtout_hm = get_model()\n",
    "model_wihtout_hm.set_weights(weights) \n",
    "st = time.time() \n",
    "model_wihtout_hm.fit(X_train_normalized, y_train, epochs = num_epochs, verbose=1, callbacks=[CustomCallbackGeneric(), logger_generic_model], batch_size=batch_size) \n",
    "et = time.time()\n",
    "elapsed_training_time_generic = round(et - st, 4)\n",
    "print('Execution time:', elapsed_training_time_generic, 'seconds') "
   ]
  },
  {
   "cell_type": "markdown",
   "metadata": {
    "id": "hpwj5UDxu3Ej"
   },
   "source": [
    "HM based optimizer model"
   ]
  },
  {
   "cell_type": "code",
   "execution_count": 32,
   "metadata": {
    "colab": {
     "base_uri": "https://localhost:8080/"
    },
    "id": "xC_LxQAmu3Ek",
    "outputId": "959ad653-1cc0-4331-964c-f7a26c8a8c89",
    "scrolled": true
   },
   "outputs": [
    {
     "name": "stdout",
     "output_type": "stream",
     "text": [
      "Epoch 1/100\n",
      "196/196 [==============================] - 5s 21ms/step - loss: 4.3223 - accuracy: 0.0583\n",
      "Epoch 2/100\n",
      "196/196 [==============================] - 4s 21ms/step - loss: 3.7476 - accuracy: 0.1281\n",
      "Epoch 3/100\n",
      "196/196 [==============================] - 4s 21ms/step - loss: 3.5485 - accuracy: 0.1632\n",
      "Epoch 4/100\n",
      "196/196 [==============================] - 4s 21ms/step - loss: 3.4074 - accuracy: 0.1906\n",
      "Epoch 5/100\n",
      "196/196 [==============================] - 4s 21ms/step - loss: 3.3093 - accuracy: 0.2067\n",
      "Epoch 6/100\n",
      "196/196 [==============================] - 4s 21ms/step - loss: 3.2079 - accuracy: 0.2255\n",
      "Epoch 7/100\n",
      "196/196 [==============================] - 4s 21ms/step - loss: 3.1190 - accuracy: 0.2428\n",
      "Epoch 8/100\n",
      "196/196 [==============================] - 4s 21ms/step - loss: 3.0560 - accuracy: 0.2532\n",
      "Epoch 9/100\n",
      "196/196 [==============================] - 4s 21ms/step - loss: 2.9796 - accuracy: 0.2649\n",
      "Epoch 10/100\n",
      "196/196 [==============================] - 5s 23ms/step - loss: 2.9166 - accuracy: 0.2796\n",
      "Epoch 11/100\n",
      "196/196 [==============================] - 4s 21ms/step - loss: 2.8448 - accuracy: 0.2909\n",
      "Epoch 12/100\n",
      "196/196 [==============================] - 4s 21ms/step - loss: 2.7836 - accuracy: 0.3038\n",
      "Epoch 13/100\n",
      "196/196 [==============================] - 4s 21ms/step - loss: 2.7212 - accuracy: 0.3175\n",
      "Epoch 14/100\n",
      "196/196 [==============================] - 4s 21ms/step - loss: 2.6560 - accuracy: 0.3302\n",
      "Epoch 15/100\n",
      "196/196 [==============================] - 4s 21ms/step - loss: 2.6047 - accuracy: 0.3371\n",
      "Epoch 16/100\n",
      "196/196 [==============================] - 4s 21ms/step - loss: 2.5495 - accuracy: 0.3498\n",
      "Epoch 17/100\n",
      "196/196 [==============================] - 4s 21ms/step - loss: 2.4819 - accuracy: 0.3659\n",
      "Epoch 18/100\n",
      "196/196 [==============================] - 4s 21ms/step - loss: 2.4340 - accuracy: 0.3758\n",
      "Epoch 19/100\n",
      "196/196 [==============================] - 4s 21ms/step - loss: 2.3671 - accuracy: 0.3914\n",
      "Epoch 20/100\n",
      "196/196 [==============================] - 4s 21ms/step - loss: 2.3008 - accuracy: 0.4050\n",
      "Epoch 21/100\n",
      "196/196 [==============================] - 4s 21ms/step - loss: 2.2396 - accuracy: 0.4183\n",
      "Epoch 22/100\n",
      "196/196 [==============================] - 4s 21ms/step - loss: 2.1874 - accuracy: 0.4274\n",
      "Epoch 23/100\n",
      "196/196 [==============================] - 4s 21ms/step - loss: 2.1351 - accuracy: 0.4393\n",
      "Epoch 24/100\n",
      "196/196 [==============================] - 4s 21ms/step - loss: 2.0837 - accuracy: 0.4532\n",
      "Epoch 25/100\n",
      "196/196 [==============================] - 4s 21ms/step - loss: 2.0251 - accuracy: 0.4678\n",
      "Epoch 26/100\n",
      "196/196 [==============================] - 4s 20ms/step - loss: 1.9788 - accuracy: 0.4792\n",
      "Epoch 27/100\n",
      "196/196 [==============================] - 4s 20ms/step - loss: 1.9287 - accuracy: 0.4874\n",
      "Epoch 28/100\n",
      "196/196 [==============================] - 4s 21ms/step - loss: 1.8784 - accuracy: 0.5006\n",
      "Epoch 29/100\n",
      "196/196 [==============================] - 4s 18ms/step - loss: 1.8300 - accuracy: 0.5125\n",
      "Epoch 30/100\n",
      "196/196 [==============================] - 2s 12ms/step - loss: 1.7782 - accuracy: 0.5241\n",
      "Epoch 31/100\n",
      "196/196 [==============================] - 2s 12ms/step - loss: 1.7313 - accuracy: 0.5364\n",
      "Epoch 32/100\n",
      "196/196 [==============================] - 2s 13ms/step - loss: 1.6883 - accuracy: 0.5456\n",
      "Epoch 33/100\n",
      "196/196 [==============================] - 2s 12ms/step - loss: 1.6308 - accuracy: 0.5599\n",
      "Epoch 34/100\n",
      "196/196 [==============================] - 3s 13ms/step - loss: 1.5987 - accuracy: 0.5663\n",
      "Epoch 35/100\n",
      "196/196 [==============================] - 2s 12ms/step - loss: 1.5565 - accuracy: 0.5764\n",
      "Epoch 36/100\n",
      "196/196 [==============================] - 2s 12ms/step - loss: 1.5094 - accuracy: 0.5881\n",
      "Epoch 37/100\n",
      "196/196 [==============================] - 2s 12ms/step - loss: 1.4803 - accuracy: 0.5979\n",
      "Epoch 38/100\n",
      "196/196 [==============================] - 2s 13ms/step - loss: 1.4267 - accuracy: 0.6117\n",
      "Epoch 39/100\n",
      "196/196 [==============================] - 2s 12ms/step - loss: 1.4036 - accuracy: 0.6151\n",
      "Epoch 40/100\n",
      "196/196 [==============================] - 2s 12ms/step - loss: 1.3707 - accuracy: 0.6217\n",
      "Epoch 41/100\n",
      "196/196 [==============================] - 3s 13ms/step - loss: 1.3260 - accuracy: 0.6354\n",
      "Epoch 42/100\n",
      "196/196 [==============================] - 2s 12ms/step - loss: 1.3075 - accuracy: 0.6386\n",
      "Epoch 43/100\n",
      "196/196 [==============================] - 2s 12ms/step - loss: 1.2731 - accuracy: 0.6467\n",
      "Epoch 44/100\n",
      "196/196 [==============================] - 2s 12ms/step - loss: 1.2277 - accuracy: 0.6598\n",
      "Epoch 45/100\n",
      "196/196 [==============================] - 3s 13ms/step - loss: 1.2041 - accuracy: 0.6659\n",
      "Epoch 46/100\n",
      "196/196 [==============================] - 2s 12ms/step - loss: 1.1687 - accuracy: 0.6741\n",
      "Epoch 47/100\n",
      "196/196 [==============================] - 2s 12ms/step - loss: 1.1517 - accuracy: 0.6791\n",
      "Epoch 48/100\n",
      "196/196 [==============================] - 2s 12ms/step - loss: 1.1068 - accuracy: 0.6914\n",
      "Epoch 49/100\n",
      "196/196 [==============================] - 3s 13ms/step - loss: 1.0906 - accuracy: 0.6949\n",
      "Epoch 50/100\n",
      "196/196 [==============================] - 3s 13ms/step - loss: 1.0423 - accuracy: 0.7068\n",
      "Epoch 51/100\n",
      "196/196 [==============================] - 2s 13ms/step - loss: 1.0213 - accuracy: 0.7132\n",
      "Epoch 52/100\n",
      "196/196 [==============================] - 2s 13ms/step - loss: 0.9848 - accuracy: 0.7229\n",
      "Epoch 53/100\n",
      "196/196 [==============================] - 3s 13ms/step - loss: 0.9619 - accuracy: 0.7280\n",
      "Epoch 54/100\n",
      "196/196 [==============================] - 3s 13ms/step - loss: 0.9453 - accuracy: 0.7330\n",
      "Epoch 55/100\n",
      "196/196 [==============================] - 3s 13ms/step - loss: 0.9202 - accuracy: 0.7388\n",
      "Epoch 56/100\n",
      "196/196 [==============================] - 3s 14ms/step - loss: 0.9055 - accuracy: 0.7415\n",
      "Epoch 57/100\n",
      "196/196 [==============================] - 3s 13ms/step - loss: 0.8979 - accuracy: 0.7423\n",
      "Epoch 58/100\n",
      "196/196 [==============================] - 3s 14ms/step - loss: 0.8621 - accuracy: 0.7554\n",
      "Epoch 59/100\n",
      "196/196 [==============================] - 2s 13ms/step - loss: 0.8445 - accuracy: 0.7602\n",
      "Epoch 60/100\n",
      "196/196 [==============================] - 3s 13ms/step - loss: 0.8064 - accuracy: 0.7686\n",
      "Epoch 61/100\n",
      "196/196 [==============================] - 3s 13ms/step - loss: 0.7968 - accuracy: 0.7690\n",
      "Epoch 62/100\n",
      "196/196 [==============================] - 3s 14ms/step - loss: 0.7841 - accuracy: 0.7750\n",
      "Epoch 63/100\n",
      "196/196 [==============================] - 3s 13ms/step - loss: 0.7634 - accuracy: 0.7779\n",
      "Epoch 64/100\n",
      "196/196 [==============================] - 2s 13ms/step - loss: 0.7611 - accuracy: 0.7797\n",
      "Epoch 65/100\n",
      "196/196 [==============================] - 3s 13ms/step - loss: 0.7445 - accuracy: 0.7860\n",
      "Epoch 66/100\n",
      "196/196 [==============================] - 3s 13ms/step - loss: 0.7162 - accuracy: 0.7917\n",
      "Epoch 67/100\n",
      "196/196 [==============================] - 3s 13ms/step - loss: 0.6915 - accuracy: 0.8005\n",
      "Epoch 68/100\n",
      "196/196 [==============================] - 2s 13ms/step - loss: 0.6695 - accuracy: 0.8062\n",
      "Epoch 69/100\n",
      "196/196 [==============================] - 2s 13ms/step - loss: 0.6779 - accuracy: 0.8001\n",
      "Epoch 70/100\n",
      "196/196 [==============================] - 3s 14ms/step - loss: 0.6610 - accuracy: 0.8044\n",
      "Epoch 71/100\n",
      "196/196 [==============================] - 3s 13ms/step - loss: 0.6308 - accuracy: 0.8160\n",
      "Epoch 72/100\n",
      "196/196 [==============================] - 3s 13ms/step - loss: 0.6351 - accuracy: 0.8139\n",
      "Epoch 73/100\n",
      "196/196 [==============================] - 2s 13ms/step - loss: 0.6473 - accuracy: 0.8079\n",
      "Epoch 74/100\n",
      "196/196 [==============================] - 3s 13ms/step - loss: 0.5976 - accuracy: 0.8233\n",
      "Epoch 75/100\n",
      "196/196 [==============================] - 2s 13ms/step - loss: 0.5756 - accuracy: 0.8289\n",
      "Epoch 76/100\n",
      "196/196 [==============================] - 3s 13ms/step - loss: 0.5670 - accuracy: 0.8336\n",
      "Epoch 77/100\n",
      "196/196 [==============================] - 3s 14ms/step - loss: 0.5849 - accuracy: 0.8241\n",
      "Epoch 78/100\n",
      "196/196 [==============================] - 3s 14ms/step - loss: 0.5661 - accuracy: 0.8298\n",
      "Epoch 79/100\n",
      "196/196 [==============================] - 3s 13ms/step - loss: 0.5357 - accuracy: 0.8396\n",
      "Epoch 80/100\n"
     ]
    },
    {
     "name": "stdout",
     "output_type": "stream",
     "text": [
      "196/196 [==============================] - 3s 14ms/step - loss: 0.5229 - accuracy: 0.8450\n",
      "Epoch 81/100\n",
      "196/196 [==============================] - 3s 13ms/step - loss: 0.5265 - accuracy: 0.8420\n",
      "Epoch 82/100\n",
      "196/196 [==============================] - 3s 13ms/step - loss: 0.5456 - accuracy: 0.8378\n",
      "Epoch 83/100\n",
      "196/196 [==============================] - 2s 13ms/step - loss: 0.5327 - accuracy: 0.8403\n",
      "Epoch 84/100\n",
      "196/196 [==============================] - 3s 13ms/step - loss: 0.5040 - accuracy: 0.8473\n",
      "Epoch 85/100\n",
      "196/196 [==============================] - 3s 13ms/step - loss: 0.4951 - accuracy: 0.8505\n",
      "Epoch 86/100\n",
      "196/196 [==============================] - 3s 14ms/step - loss: 0.5011 - accuracy: 0.8475\n",
      "Epoch 87/100\n",
      "196/196 [==============================] - 3s 13ms/step - loss: 0.4875 - accuracy: 0.8536\n",
      "Epoch 88/100\n",
      "196/196 [==============================] - 3s 13ms/step - loss: 0.4913 - accuracy: 0.8512\n",
      "Epoch 89/100\n",
      "196/196 [==============================] - 3s 13ms/step - loss: 0.4612 - accuracy: 0.8605\n",
      "Epoch 90/100\n",
      "196/196 [==============================] - 3s 13ms/step - loss: 0.4400 - accuracy: 0.8653\n",
      "Epoch 91/100\n",
      "196/196 [==============================] - 3s 13ms/step - loss: 0.4680 - accuracy: 0.8570\n",
      "Epoch 92/100\n",
      "196/196 [==============================] - 3s 13ms/step - loss: 0.4423 - accuracy: 0.8657\n",
      "Epoch 93/100\n",
      "196/196 [==============================] - 3s 13ms/step - loss: 0.4086 - accuracy: 0.8768\n",
      "Epoch 94/100\n",
      "196/196 [==============================] - 3s 13ms/step - loss: 0.4224 - accuracy: 0.8713\n",
      "Epoch 95/100\n",
      "196/196 [==============================] - 3s 13ms/step - loss: 0.4382 - accuracy: 0.8669\n",
      "Epoch 96/100\n",
      "196/196 [==============================] - 4s 22ms/step - loss: 0.4315 - accuracy: 0.8675\n",
      "Epoch 97/100\n",
      "196/196 [==============================] - 3s 13ms/step - loss: 0.4170 - accuracy: 0.8723\n",
      "Epoch 98/100\n",
      "196/196 [==============================] - 2s 13ms/step - loss: 0.4088 - accuracy: 0.8732\n",
      "Epoch 99/100\n",
      "196/196 [==============================] - 2s 13ms/step - loss: 0.4031 - accuracy: 0.8759\n",
      "Epoch 100/100\n",
      "196/196 [==============================] - 3s 13ms/step - loss: 0.4169 - accuracy: 0.8711\n",
      "Execution time: 301.2176 seconds\n"
     ]
    }
   ],
   "source": [
    "model_hm = get_model()\n",
    "model_hm.set_weights(weights) \n",
    "st = time.time()\n",
    "model_hm.fit(X_train_normalized, y_train, epochs = num_epochs, verbose=1, callbacks=[CustomCallbackHM(),logger_hm_model], batch_size=batch_size) \n",
    "et = time.time()\n",
    "elapsed_training_time_hm = round(et - st, 4)\n",
    "print('Execution time:', elapsed_training_time_hm, 'seconds')"
   ]
  },
  {
   "cell_type": "markdown",
   "metadata": {
    "id": "Aly88iAou3Ek"
   },
   "source": [
    "Model summary"
   ]
  },
  {
   "cell_type": "code",
   "execution_count": 33,
   "metadata": {
    "id": "P5k_wdQ5u3Ek",
    "outputId": "d2a82c48-0b4f-433b-a3ea-e08e61e5db47",
    "scrolled": true
   },
   "outputs": [
    {
     "name": "stdout",
     "output_type": "stream",
     "text": [
      "Model: \"sequential_5\"\n",
      "_________________________________________________________________\n",
      " Layer (type)                Output Shape              Param #   \n",
      "=================================================================\n",
      " flatten_5 (Flatten)         (None, 3072)              0         \n",
      "                                                                 \n",
      " dense_15 (Dense)            (None, 3000)              9219000   \n",
      "                                                                 \n",
      " dense_16 (Dense)            (None, 1000)              3001000   \n",
      "                                                                 \n",
      " dense_17 (Dense)            (None, 100)               100100    \n",
      "                                                                 \n",
      "=================================================================\n",
      "Total params: 12,320,100\n",
      "Trainable params: 12,320,100\n",
      "Non-trainable params: 0\n",
      "_________________________________________________________________\n"
     ]
    }
   ],
   "source": [
    "model_hm.summary()"
   ]
  },
  {
   "cell_type": "markdown",
   "metadata": {},
   "source": [
    "#### Generic optimizer vs HM-based optimizer"
   ]
  },
  {
   "cell_type": "code",
   "execution_count": 34,
   "metadata": {},
   "outputs": [],
   "source": [
    "df1 = pd.read_csv(generic_file)\n",
    "df2 = pd.read_csv(hm_file)"
   ]
  },
  {
   "cell_type": "markdown",
   "metadata": {},
   "source": [
    "Loss"
   ]
  },
  {
   "cell_type": "code",
   "execution_count": 35,
   "metadata": {},
   "outputs": [
    {
     "data": {
      "image/png": "[encoded data removed]",
      "text/plain": [
       "<Figure size 600x400 with 1 Axes>"
      ]
     },
     "metadata": {},
     "output_type": "display_data"
    }
   ],
   "source": [
    "x1 = range(0, df1.shape[0])\n",
    "x2 = range(0, df2.shape[0])\n",
    "y1 = df1['accuracy'] \n",
    "y2 = df2['accuracy']  \n",
    "plt.figure(figsize = (3,2), dpi = 200)\n",
    "plt.plot(x1, y1, \"r-\", label = opti_name, linewidth = 0.8, alpha = 0.7)\n",
    "plt.plot(x2, y2, \"k:\", label = 'HM-based ' + opti_name, linewidth = 1, alpha = 0.9) \n",
    "plt.ylabel('Accuracy' , fontdict = {'fontsize':5})\n",
    "plt.xlabel('Epoch', fontdict = {'fontsize':5}) \n",
    "#plt.title(\"Loss\", fontdict = {'fontname':'Times New Roman', 'fontsize':8})\n",
    "plt.xticks(fontsize = 5)\n",
    "plt.yticks(fontsize = 5)\n",
    "plt.tight_layout()\n",
    "plt.legend(prop={'size': 5})\n",
    "#plt.savefig(\"graph.png\",bbox_inches='tight',dpi=(300)) \n",
    "plt.show() "
   ]
  },
  {
   "cell_type": "markdown",
   "metadata": {},
   "source": [
    "Accuracy"
   ]
  },
  {
   "cell_type": "code",
   "execution_count": 36,
   "metadata": {},
   "outputs": [
    {
     "data": {
      "image/png": "[encoded data removed]",
      "text/plain": [
       "<Figure size 600x400 with 1 Axes>"
      ]
     },
     "metadata": {},
     "output_type": "display_data"
    }
   ],
   "source": [
    "x1 = range(0, df1.shape[0])\n",
    "x2 = range(0, df2.shape[0])\n",
    "y1 = df1['loss'] \n",
    "y2 = df2['loss']   \n",
    "plt.figure(figsize = (3,2), dpi = 200)\n",
    "plt.plot(x1, y1, \"r-\", label = opti_name, linewidth = 0.8, alpha = 0.7)\n",
    "plt.plot(x2, y2, \"k:\", label = 'HM-based ' + opti_name, linewidth = 1, alpha = 0.9) \n",
    "plt.ylabel('Loss' , fontdict = {'fontsize':5})\n",
    "plt.xlabel('Epoch', fontdict = {'fontsize':5}) \n",
    "#plt.title(\"Loss\", fontdict = {'fontname':'Times New Roman', 'fontsize':8})\n",
    "plt.xticks(fontsize = 5)\n",
    "plt.yticks(fontsize = 5)\n",
    "plt.tight_layout()\n",
    "plt.legend(prop={'size': 5})\n",
    "#plt.savefig(\"graph.png\",bbox_inches='tight',dpi=(300)) \n",
    "plt.show()  "
   ]
  },
  {
   "cell_type": "markdown",
   "metadata": {
    "id": "OiCK5k2Bu3Ek"
   },
   "source": [
    "###### Testing the model"
   ]
  },
  {
   "cell_type": "markdown",
   "metadata": {
    "id": "DB6FS5Hpu3Ek"
   },
   "source": [
    "Generic opimizer model"
   ]
  },
  {
   "cell_type": "code",
   "execution_count": 37,
   "metadata": {
    "colab": {
     "base_uri": "https://localhost:8080/"
    },
    "id": "Q1HMuXLPu3El",
    "outputId": "5cb866ab-a89d-4c87-95d4-fcfb797cd8e3"
   },
   "outputs": [
    {
     "name": "stdout",
     "output_type": "stream",
     "text": [
      "313/313 [==============================] - 1s 2ms/step - loss: 9.3016 - accuracy: 0.2192\n"
     ]
    },
    {
     "data": {
      "text/plain": [
       "[9.30163860321045, 0.219200000166893]"
      ]
     },
     "execution_count": 37,
     "metadata": {},
     "output_type": "execute_result"
    }
   ],
   "source": [
    "model_wihtout_hm.evaluate(X_test_normalized, y_test)"
   ]
  },
  {
   "cell_type": "markdown",
   "metadata": {
    "id": "k53-C48xu3El"
   },
   "source": [
    "HM based optimizer model"
   ]
  },
  {
   "cell_type": "code",
   "execution_count": 38,
   "metadata": {
    "id": "EyuXtuC9u3El",
    "outputId": "e5420f46-e500-4118-cabd-42e64da4c751"
   },
   "outputs": [
    {
     "name": "stdout",
     "output_type": "stream",
     "text": [
      "313/313 [==============================] - 0s 761us/step - loss: 10.9936 - accuracy: 0.2129\n"
     ]
    },
    {
     "data": {
      "text/plain": [
       "[10.99357795715332, 0.21289999783039093]"
      ]
     },
     "execution_count": 38,
     "metadata": {},
     "output_type": "execute_result"
    }
   ],
   "source": [
    "model_hm.evaluate(X_test_normalized, y_test)"
   ]
  },
  {
   "cell_type": "markdown",
   "metadata": {},
   "source": [
    "#### Release the GPU memory"
   ]
  },
  {
   "cell_type": "raw",
   "metadata": {},
   "source": [
    "from numba import cuda \n",
    "device = cuda.get_current_device()\n",
    "device.reset()"
   ]
  }
 ],
 "metadata": {
  "colab": {
   "name": "CIFAR.ipynb",
   "provenance": []
  },
  "kernelspec": {
   "display_name": "Python 3 (ipykernel)",
   "language": "python",
   "name": "python3"
  },
  "language_info": {
   "codemirror_mode": {
    "name": "ipython",
    "version": 3
   },
   "file_extension": ".py",
   "mimetype": "text/x-python",
   "name": "python",
   "nbconvert_exporter": "python",
   "pygments_lexer": "ipython3",
   "version": "3.9.13"
  }
 },
 "nbformat": 4,
 "nbformat_minor": 1
}
