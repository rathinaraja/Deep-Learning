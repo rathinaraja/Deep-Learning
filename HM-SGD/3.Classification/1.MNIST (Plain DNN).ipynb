{
 "cells": [
  {
   "cell_type": "markdown",
   "metadata": {},
   "source": [
    "<h2 style=\"color:blue\" align=\"center\">Deep Neural Network (DNN) for Classification on MNIST</h2>"
   ]
  },
  {
   "cell_type": "markdown",
   "metadata": {},
   "source": [
    "#### Import the necessary libraries"
   ]
  },
  {
   "cell_type": "code",
   "execution_count": 158,
   "metadata": {},
   "outputs": [],
   "source": [
    "import tensorflow as tf \n",
    "import matplotlib.pyplot as plt\n",
    "%matplotlib inline\n",
    "import numpy as np\n",
    "import pandas as pd\n",
    "import random as python_random\n",
    "import time, math \n",
    "\n",
    "from tensorflow import keras \n",
    "from keras.models import Sequential\n",
    "from keras.layers import Dense \n",
    "from keras.callbacks import Callback, CSVLogger\n",
    "\n",
    "import warnings\n",
    "warnings.filterwarnings('ignore')"
   ]
  },
  {
   "cell_type": "markdown",
   "metadata": {},
   "source": [
    "#### Reserve memory for the execution"
   ]
  },
  {
   "cell_type": "code",
   "execution_count": 159,
   "metadata": {},
   "outputs": [
    {
     "name": "stdout",
     "output_type": "stream",
     "text": [
      "1 Physical GPUs, 1 Logical GPUs\n"
     ]
    }
   ],
   "source": [
    "import tensorflow as tf\n",
    "gpus = tf.config.experimental.list_physical_devices('GPU')\n",
    "if gpus:\n",
    "  try:\n",
    "    # Currently, memory growth needs to be the same across GPUs\n",
    "    for gpu in gpus:\n",
    "      tf.config.experimental.set_memory_growth(gpu, True)\n",
    "    logical_gpus = tf.config.experimental.list_logical_devices('GPU')\n",
    "    print(len(gpus), \"Physical GPUs,\", len(logical_gpus), \"Logical GPUs\")\n",
    "  except RuntimeError as e:\n",
    "    # Memory growth must be set before GPUs have been initialized\n",
    "    print(e)"
   ]
  },
  {
   "cell_type": "markdown",
   "metadata": {},
   "source": [
    "#### Load and split the dataset into training and testing set"
   ]
  },
  {
   "cell_type": "markdown",
   "metadata": {},
   "source": [
    "MNIST - Handwritten digits recognition"
   ]
  },
  {
   "cell_type": "code",
   "execution_count": 160,
   "metadata": {},
   "outputs": [],
   "source": [
    "(X_train,y_train),(X_test,y_test) = keras.datasets.mnist.load_data()"
   ]
  },
  {
   "cell_type": "markdown",
   "metadata": {},
   "source": [
    "MNIST - Fashion dataset"
   ]
  },
  {
   "cell_type": "code",
   "execution_count": 161,
   "metadata": {},
   "outputs": [],
   "source": [
    "#(X_train,y_train),(X_test,y_test) = keras.datasets.fashion_mnist.load_data()"
   ]
  },
  {
   "cell_type": "markdown",
   "metadata": {},
   "source": [
    "#### Flattening"
   ]
  },
  {
   "cell_type": "code",
   "execution_count": 162,
   "metadata": {},
   "outputs": [],
   "source": [
    "X_train_flattened = X_train.reshape(len(X_train), 28 * 28)\n",
    "X_test_flattened = X_test.reshape(len(X_test),  28 * 28) "
   ]
  },
  {
   "cell_type": "markdown",
   "metadata": {},
   "source": [
    "#### Normalize the input dataset"
   ]
  },
  {
   "cell_type": "code",
   "execution_count": 163,
   "metadata": {},
   "outputs": [],
   "source": [
    "X_train_normalized = X_train_flattened / 255\n",
    "X_test_normalized = X_test_flattened / 255"
   ]
  },
  {
   "cell_type": "markdown",
   "metadata": {},
   "source": [
    "#### Define DNN model"
   ]
  },
  {
   "cell_type": "code",
   "execution_count": 164,
   "metadata": {},
   "outputs": [],
   "source": [
    "python_random.seed(7)\n",
    "np.random.seed(7)\n",
    "tf.random.set_seed(7)\n",
    "opti_name = ''\n",
    "\n",
    "def get_model(): \n",
    "    model = Sequential([\n",
    "        # input layer 784 neurons to first hidden layer with 256 neurons\n",
    "        Dense(256, input_shape = (784,), activation='relu'), \n",
    "        # first hidden layer to second hidden layer\n",
    "        Dense(128, activation='relu'),  \n",
    "        # Output layer with 10 neurons  \n",
    "        Dense(10, activation='softmax') \n",
    "    ])\n",
    "    \n",
    "    global opti_name\n",
    "    \n",
    "    # General SGD\n",
    "    #opti = keras.optimizers.SGD(learning_rate=0.001)\n",
    "    #opti_name = 'SGD'\n",
    "    \n",
    "    # SGD with momentum\n",
    "    #opti = keras.optimizers.SGD(learning_rate=0.001, momentum=0.4)\n",
    "    #opti_name = 'SGD with momentum'\n",
    "    \n",
    "    # SGD with Nesterov momentum \n",
    "    #opti = keras.optimizers.SGD(learning_rate=0.001, momentum=0.4, nesterov=True)\n",
    "    #opti_name = 'SGD with Nesterov momentum'\n",
    "    \n",
    "    # RMSprop \n",
    "    #opti = keras.optimizers.RMSprop(learning_rate=0.001, momentum=0.4)\n",
    "    #opti_name = 'RMSprop'\n",
    "    \n",
    "    # Adam\n",
    "    opti = keras.optimizers.Adam(learning_rate=0.001) \n",
    "    opti_name = 'Adam'\n",
    "    \n",
    "    # Adamax\n",
    "    #opti = keras.optimizers.Adamax(learning_rate=0.001) \n",
    "    #opti_name = 'Adamax' \n",
    "    \n",
    "    # Nadam\n",
    "    #opti = keras.optimizers.Nadam(learning_rate=0.001) \n",
    "    #opti_name = 'Nadam'  \n",
    "    \n",
    "    model.compile(\n",
    "        optimizer = opti,\n",
    "        loss = 'sparse_categorical_crossentropy',\n",
    "        metrics = ['accuracy']\n",
    "    )\n",
    "    \n",
    "    return model"
   ]
  },
  {
   "cell_type": "markdown",
   "metadata": {},
   "source": [
    "#### Custom callbacks"
   ]
  },
  {
   "cell_type": "markdown",
   "metadata": {},
   "source": [
    "For generic optimizer model"
   ]
  },
  {
   "cell_type": "code",
   "execution_count": 165,
   "metadata": {},
   "outputs": [],
   "source": [
    "# Get the best of base-line model and set it as stopping criteria in HM-based model\n",
    "generic_best = 0\n",
    "\n",
    "class CustomCallbackGeneric(Callback):  \n",
    "    def on_epoch_end(self, epoch, logs={}): \n",
    "        global generic_best\n",
    "        accuracy = round(logs.get('accuracy'), 4) \n",
    "        \n",
    "        if epoch == 0:\n",
    "            generic_best = accuracy     \n",
    "        \n",
    "        if epoch > 0 and accuracy < generic_best :\n",
    "            generic_best = accuracy"
   ]
  },
  {
   "cell_type": "markdown",
   "metadata": {},
   "source": [
    "For HM based optimizer model"
   ]
  },
  {
   "cell_type": "code",
   "execution_count": 166,
   "metadata": {},
   "outputs": [],
   "source": [
    "class CustomCallbackHM(Callback):  \n",
    "    initial_weights = 0\n",
    "    previous_weights = 0\n",
    "    call_hm = 0    \n",
    "     \n",
    "    def on_train_begin(self, logs=None):\n",
    "        self.initial_weights = model_hm.get_weights() \n",
    "        self.initial_weights = np.array(self.initial_weights,dtype=object)\n",
    "        self.previous_weights = self.initial_weights\n",
    "        # Harmonic mean based weights calculation\n",
    "        self.call_hm = np.vectorize(self.apply_hm)  \n",
    "\n",
    "    def on_epoch_end(self, epoch, logs={}): \n",
    "         # Set the stopping criteria at (stop_at) the MAE obtained from the baseline model \n",
    "        global generic_best \n",
    "        \n",
    "        num_layers = len(model_hm.layers)  \n",
    "        current_weights = model_hm.get_weights()\n",
    "        current_weights = np.array(current_weights,dtype=object)        \n",
    "\n",
    "        for i in range(num_layers):  \n",
    "            # Harmonic mean based weights calculation\n",
    "            tensor1 = tf.convert_to_tensor(self.previous_weights[i])\n",
    "            tensor2 = tf.convert_to_tensor(current_weights[i])\n",
    "            current_weights[i] = self.call_hm(tensor1, tensor2, epoch)   \n",
    "            \n",
    "        # Updating the model with new weights\n",
    "        model_hm.set_weights(current_weights.tolist())\n",
    "        self.previous_weights = current_weights \n",
    "        \n",
    "        #Stopping criteria\n",
    "        #if(round(logs.get('accuracy'), 4) < generic_best):  \n",
    "            #self.model.stop_training = True\n",
    "        \n",
    "    def apply_hm(self, v1, v2, epoch):  \n",
    "        r = 0\n",
    "        if epoch < 50:\n",
    "            r = 1\n",
    "        elif epoch > 50 and epoch < 100:\n",
    "            r = 0.75\n",
    "        elif epoch > 100 and epoch < 150:\n",
    "            r = 0.5\n",
    "        else:  \n",
    "            r = 0.25 \n",
    "            \n",
    "        if v1==0 or v2==0:\n",
    "            return v2\n",
    "        elif v1 > v2:\n",
    "            t1 = abs(v1)\n",
    "            t2 = abs(v2)\n",
    "            hm = 2*t1*t2/(t1+t2)\n",
    "            min1 = min(t1,t2)\n",
    "            diff = abs(hm-min1) * r \n",
    "            v2 = v2 - diff\n",
    "            return v2  \n",
    "        elif v1 < v2:\n",
    "            t1 = abs(v1)\n",
    "            t2 = abs(v2)\n",
    "            hm = 2*t1*t2/(t1+t2)\n",
    "            min1 = min(t1,t2)\n",
    "            diff = abs(hm-min1) * r \n",
    "            v2 = v2 + diff\n",
    "            return v2   \n",
    "        else:\n",
    "            return v2   "
   ]
  },
  {
   "cell_type": "markdown",
   "metadata": {},
   "source": [
    "#### Training"
   ]
  },
  {
   "cell_type": "markdown",
   "metadata": {},
   "source": [
    "Get a model to assign same weights to model with and without HM"
   ]
  },
  {
   "cell_type": "code",
   "execution_count": 168,
   "metadata": {},
   "outputs": [],
   "source": [
    "model = get_model() \n",
    "weights = model.get_weights() \n",
    "num_epochs = 100\n",
    "batch_size = 256"
   ]
  },
  {
   "cell_type": "markdown",
   "metadata": {},
   "source": [
    "To record loss and accuracy in CSV file"
   ]
  },
  {
   "cell_type": "code",
   "execution_count": 169,
   "metadata": {},
   "outputs": [],
   "source": [
    "generic_file = '2.MNIST'+opti_name+' optimizer.csv'\n",
    "hm_file = '2.MNIST'+opti_name+' HM-based optimizer.csv' \n",
    "logger_generic_model = CSVLogger(generic_file, append = False, separator=',')\n",
    "logger_hm_model = CSVLogger(hm_file, append = False, separator=',')"
   ]
  },
  {
   "cell_type": "markdown",
   "metadata": {},
   "source": [
    "Generic optimizer model"
   ]
  },
  {
   "cell_type": "code",
   "execution_count": 170,
   "metadata": {
    "scrolled": true
   },
   "outputs": [
    {
     "name": "stdout",
     "output_type": "stream",
     "text": [
      "Epoch 1/100\n",
      "235/235 [==============================] - 0s 896us/step - loss: 0.3313 - accuracy: 0.9062\n",
      "Epoch 2/100\n",
      "235/235 [==============================] - 0s 983us/step - loss: 0.1232 - accuracy: 0.9639\n",
      "Epoch 3/100\n",
      "235/235 [==============================] - 0s 939us/step - loss: 0.0838 - accuracy: 0.9751\n",
      "Epoch 4/100\n",
      "235/235 [==============================] - 0s 942us/step - loss: 0.0610 - accuracy: 0.9818\n",
      "Epoch 5/100\n",
      "235/235 [==============================] - 0s 1ms/step - loss: 0.0459 - accuracy: 0.9862\n",
      "Epoch 6/100\n",
      "235/235 [==============================] - 0s 1ms/step - loss: 0.0363 - accuracy: 0.9893\n",
      "Epoch 7/100\n",
      "235/235 [==============================] - 0s 1ms/step - loss: 0.0259 - accuracy: 0.9926\n",
      "Epoch 8/100\n",
      "235/235 [==============================] - 0s 1ms/step - loss: 0.0216 - accuracy: 0.9940\n",
      "Epoch 9/100\n",
      "235/235 [==============================] - 0s 938us/step - loss: 0.0160 - accuracy: 0.9958\n",
      "Epoch 10/100\n",
      "235/235 [==============================] - 0s 817us/step - loss: 0.0131 - accuracy: 0.9964\n",
      "Epoch 11/100\n",
      "235/235 [==============================] - 0s 805us/step - loss: 0.0093 - accuracy: 0.9977\n",
      "Epoch 12/100\n",
      "235/235 [==============================] - 0s 828us/step - loss: 0.0075 - accuracy: 0.9983\n",
      "Epoch 13/100\n",
      "235/235 [==============================] - 0s 918us/step - loss: 0.0090 - accuracy: 0.9974\n",
      "Epoch 14/100\n",
      "235/235 [==============================] - 0s 912us/step - loss: 0.0104 - accuracy: 0.9965\n",
      "Epoch 15/100\n",
      "235/235 [==============================] - 0s 1ms/step - loss: 0.0090 - accuracy: 0.9971\n",
      "Epoch 16/100\n",
      "235/235 [==============================] - 0s 1ms/step - loss: 0.0067 - accuracy: 0.9979\n",
      "Epoch 17/100\n",
      "235/235 [==============================] - 0s 1ms/step - loss: 0.0057 - accuracy: 0.9983\n",
      "Epoch 18/100\n",
      "235/235 [==============================] - 0s 906us/step - loss: 0.0038 - accuracy: 0.9990\n",
      "Epoch 19/100\n",
      "235/235 [==============================] - 0s 906us/step - loss: 0.0093 - accuracy: 0.9971\n",
      "Epoch 20/100\n",
      "235/235 [==============================] - 0s 774us/step - loss: 0.0088 - accuracy: 0.9971\n",
      "Epoch 21/100\n",
      "235/235 [==============================] - 0s 797us/step - loss: 0.0026 - accuracy: 0.9994\n",
      "Epoch 22/100\n",
      "235/235 [==============================] - 0s 909us/step - loss: 0.0020 - accuracy: 0.9995\n",
      "Epoch 23/100\n",
      "235/235 [==============================] - 1s 2ms/step - loss: 4.2521e-04 - accuracy: 1.0000\n",
      "Epoch 24/100\n",
      "235/235 [==============================] - 0s 2ms/step - loss: 1.7303e-04 - accuracy: 1.0000\n",
      "Epoch 25/100\n",
      "235/235 [==============================] - 0s 982us/step - loss: 1.3322e-04 - accuracy: 1.0000\n",
      "Epoch 26/100\n",
      "235/235 [==============================] - 0s 1ms/step - loss: 1.1078e-04 - accuracy: 1.0000\n",
      "Epoch 27/100\n",
      "235/235 [==============================] - 0s 1ms/step - loss: 9.7818e-05 - accuracy: 1.0000\n",
      "Epoch 28/100\n",
      "235/235 [==============================] - 0s 2ms/step - loss: 8.4811e-05 - accuracy: 1.0000\n",
      "Epoch 29/100\n",
      "235/235 [==============================] - 0s 1ms/step - loss: 7.6424e-05 - accuracy: 1.0000\n",
      "Epoch 30/100\n",
      "235/235 [==============================] - 0s 861us/step - loss: 6.7099e-05 - accuracy: 1.0000\n",
      "Epoch 31/100\n",
      "235/235 [==============================] - 0s 1ms/step - loss: 6.1911e-05 - accuracy: 1.0000\n",
      "Epoch 32/100\n",
      "235/235 [==============================] - 0s 1ms/step - loss: 5.5080e-05 - accuracy: 1.0000\n",
      "Epoch 33/100\n",
      "235/235 [==============================] - 0s 1ms/step - loss: 5.0899e-05 - accuracy: 1.0000\n",
      "Epoch 34/100\n",
      "235/235 [==============================] - 0s 1ms/step - loss: 4.5339e-05 - accuracy: 1.0000\n",
      "Epoch 35/100\n",
      "235/235 [==============================] - 0s 818us/step - loss: 4.0565e-05 - accuracy: 1.0000\n",
      "Epoch 36/100\n",
      "235/235 [==============================] - 0s 1ms/step - loss: 3.6291e-05 - accuracy: 1.0000\n",
      "Epoch 37/100\n",
      "235/235 [==============================] - 0s 880us/step - loss: 3.2582e-05 - accuracy: 1.0000\n",
      "Epoch 38/100\n",
      "235/235 [==============================] - 0s 1ms/step - loss: 2.9939e-05 - accuracy: 1.0000\n",
      "Epoch 39/100\n",
      "235/235 [==============================] - 0s 1ms/step - loss: 2.7365e-05 - accuracy: 1.0000\n",
      "Epoch 40/100\n",
      "235/235 [==============================] - 0s 919us/step - loss: 2.4264e-05 - accuracy: 1.0000\n",
      "Epoch 41/100\n",
      "235/235 [==============================] - 0s 831us/step - loss: 2.1570e-05 - accuracy: 1.0000\n",
      "Epoch 42/100\n",
      "235/235 [==============================] - 0s 2ms/step - loss: 1.9273e-05 - accuracy: 1.0000\n",
      "Epoch 43/100\n",
      "235/235 [==============================] - 0s 1ms/step - loss: 1.7558e-05 - accuracy: 1.0000\n",
      "Epoch 44/100\n",
      "235/235 [==============================] - 0s 1ms/step - loss: 1.5535e-05 - accuracy: 1.0000\n",
      "Epoch 45/100\n",
      "235/235 [==============================] - 0s 951us/step - loss: 1.3782e-05 - accuracy: 1.0000\n",
      "Epoch 46/100\n",
      "235/235 [==============================] - 0s 866us/step - loss: 1.2353e-05 - accuracy: 1.0000\n",
      "Epoch 47/100\n",
      "235/235 [==============================] - 1s 2ms/step - loss: 1.1043e-05 - accuracy: 1.0000\n",
      "Epoch 48/100\n",
      "235/235 [==============================] - 0s 1ms/step - loss: 9.8101e-06 - accuracy: 1.0000\n",
      "Epoch 49/100\n",
      "235/235 [==============================] - 0s 845us/step - loss: 9.0208e-06 - accuracy: 1.0000\n",
      "Epoch 50/100\n",
      "235/235 [==============================] - 0s 836us/step - loss: 8.2100e-06 - accuracy: 1.0000\n",
      "Epoch 51/100\n",
      "235/235 [==============================] - 0s 831us/step - loss: 1.1022e-05 - accuracy: 1.0000\n",
      "Epoch 52/100\n",
      "235/235 [==============================] - 0s 982us/step - loss: 6.8686e-06 - accuracy: 1.0000\n",
      "Epoch 53/100\n",
      "235/235 [==============================] - 0s 1ms/step - loss: 5.1976e-06 - accuracy: 1.0000\n",
      "Epoch 54/100\n",
      "235/235 [==============================] - 0s 2ms/step - loss: 4.5469e-06 - accuracy: 1.0000\n",
      "Epoch 55/100\n",
      "235/235 [==============================] - 0s 930us/step - loss: 4.0032e-06 - accuracy: 1.0000\n",
      "Epoch 56/100\n",
      "235/235 [==============================] - 0s 835us/step - loss: 3.5185e-06 - accuracy: 1.0000\n",
      "Epoch 57/100\n",
      "235/235 [==============================] - 0s 2ms/step - loss: 3.1661e-06 - accuracy: 1.0000\n",
      "Epoch 58/100\n",
      "235/235 [==============================] - 0s 1ms/step - loss: 2.7341e-06 - accuracy: 1.0000\n",
      "Epoch 59/100\n",
      "235/235 [==============================] - 0s 1ms/step - loss: 2.4267e-06 - accuracy: 1.0000\n",
      "Epoch 60/100\n",
      "235/235 [==============================] - 0s 857us/step - loss: 2.1736e-06 - accuracy: 1.0000\n",
      "Epoch 61/100\n",
      "235/235 [==============================] - 0s 1000us/step - loss: 1.9044e-06 - accuracy: 1.0000\n",
      "Epoch 62/100\n",
      "235/235 [==============================] - 0s 1ms/step - loss: 1.7380e-06 - accuracy: 1.0000\n",
      "Epoch 63/100\n",
      "235/235 [==============================] - 0s 1ms/step - loss: 1.5526e-06 - accuracy: 1.0000\n",
      "Epoch 64/100\n",
      "235/235 [==============================] - 0s 896us/step - loss: 1.3218e-06 - accuracy: 1.0000\n",
      "Epoch 65/100\n",
      "235/235 [==============================] - 0s 1ms/step - loss: 1.1620e-06 - accuracy: 1.0000\n",
      "Epoch 66/100\n",
      "235/235 [==============================] - 0s 898us/step - loss: 1.0392e-06 - accuracy: 1.0000\n",
      "Epoch 67/100\n",
      "235/235 [==============================] - 0s 848us/step - loss: 9.0756e-07 - accuracy: 1.0000\n",
      "Epoch 68/100\n",
      "235/235 [==============================] - 0s 2ms/step - loss: 8.0088e-07 - accuracy: 1.0000\n",
      "Epoch 69/100\n",
      "235/235 [==============================] - 0s 1ms/step - loss: 7.0634e-07 - accuracy: 1.0000\n",
      "Epoch 70/100\n",
      "235/235 [==============================] - 0s 959us/step - loss: 6.1631e-07 - accuracy: 1.0000\n",
      "Epoch 71/100\n",
      "235/235 [==============================] - 0s 855us/step - loss: 5.5134e-07 - accuracy: 1.0000\n",
      "Epoch 72/100\n",
      "235/235 [==============================] - 0s 773us/step - loss: 4.9878e-07 - accuracy: 1.0000\n",
      "Epoch 73/100\n",
      "235/235 [==============================] - 0s 1ms/step - loss: 4.2797e-07 - accuracy: 1.0000\n",
      "Epoch 74/100\n",
      "235/235 [==============================] - 0s 1ms/step - loss: 3.8537e-07 - accuracy: 1.0000\n",
      "Epoch 75/100\n",
      "235/235 [==============================] - 0s 1ms/step - loss: 3.3251e-07 - accuracy: 1.0000\n",
      "Epoch 76/100\n",
      "235/235 [==============================] - 0s 1ms/step - loss: 3.0051e-07 - accuracy: 1.0000\n",
      "Epoch 77/100\n",
      "235/235 [==============================] - 0s 823us/step - loss: 2.6193e-07 - accuracy: 1.0000\n",
      "Epoch 78/100\n"
     ]
    },
    {
     "name": "stdout",
     "output_type": "stream",
     "text": [
      "235/235 [==============================] - 0s 1ms/step - loss: 2.3470e-07 - accuracy: 1.0000\n",
      "Epoch 79/100\n",
      "235/235 [==============================] - 0s 1ms/step - loss: 2.0939e-07 - accuracy: 1.0000\n",
      "Epoch 80/100\n",
      "235/235 [==============================] - 0s 1ms/step - loss: 1.8472e-07 - accuracy: 1.0000\n",
      "Epoch 81/100\n",
      "235/235 [==============================] - 0s 947us/step - loss: 1.6232e-07 - accuracy: 1.0000\n",
      "Epoch 82/100\n",
      "235/235 [==============================] - 0s 845us/step - loss: 1.4491e-07 - accuracy: 1.0000\n",
      "Epoch 83/100\n",
      "235/235 [==============================] - 0s 788us/step - loss: 1.2794e-07 - accuracy: 1.0000\n",
      "Epoch 84/100\n",
      "235/235 [==============================] - 0s 2ms/step - loss: 1.1368e-07 - accuracy: 1.0000\n",
      "Epoch 85/100\n",
      "235/235 [==============================] - 0s 2ms/step - loss: 1.0212e-07 - accuracy: 1.0000\n",
      "Epoch 86/100\n",
      "235/235 [==============================] - 0s 1ms/step - loss: 9.2836e-08 - accuracy: 1.0000\n",
      "Epoch 87/100\n",
      "235/235 [==============================] - 0s 933us/step - loss: 8.1698e-08 - accuracy: 1.0000\n",
      "Epoch 88/100\n",
      "235/235 [==============================] - 0s 2ms/step - loss: 7.1923e-08 - accuracy: 1.0000\n",
      "Epoch 89/100\n",
      "235/235 [==============================] - 0s 2ms/step - loss: 6.4846e-08 - accuracy: 1.0000\n",
      "Epoch 90/100\n",
      "235/235 [==============================] - 0s 1ms/step - loss: 5.8043e-08 - accuracy: 1.0000\n",
      "Epoch 91/100\n",
      "235/235 [==============================] - 0s 845us/step - loss: 5.2398e-08 - accuracy: 1.0000\n",
      "Epoch 92/100\n",
      "235/235 [==============================] - 0s 760us/step - loss: 4.7874e-08 - accuracy: 1.0000\n",
      "Epoch 93/100\n",
      "235/235 [==============================] - 0s 1ms/step - loss: 4.3756e-08 - accuracy: 1.0000\n",
      "Epoch 94/100\n",
      "235/235 [==============================] - 1s 6ms/step - loss: 3.9053e-08 - accuracy: 1.0000\n",
      "Epoch 95/100\n",
      "235/235 [==============================] - 0s 1ms/step - loss: 3.4320e-08 - accuracy: 1.0000\n",
      "Epoch 96/100\n",
      "235/235 [==============================] - 0s 1ms/step - loss: 3.1193e-08 - accuracy: 1.0000\n",
      "Epoch 97/100\n",
      "235/235 [==============================] - 0s 821us/step - loss: 2.8221e-08 - accuracy: 1.0000\n",
      "Epoch 98/100\n",
      "235/235 [==============================] - 0s 1ms/step - loss: 2.5821e-08 - accuracy: 1.0000\n",
      "Epoch 99/100\n",
      "235/235 [==============================] - 0s 1ms/step - loss: 2.3530e-08 - accuracy: 1.0000\n",
      "Epoch 100/100\n",
      "235/235 [==============================] - 0s 1ms/step - loss: 2.1515e-08 - accuracy: 1.0000\n",
      "Execution time: 28.273 seconds\n"
     ]
    }
   ],
   "source": [
    "model_wihtout_hm = get_model()\n",
    "model_wihtout_hm.set_weights(weights) \n",
    "st = time.time() \n",
    "model_wihtout_hm.fit(X_train_normalized, y_train, epochs = num_epochs, verbose=1, callbacks=[CustomCallbackGeneric(), logger_generic_model], batch_size=batch_size) \n",
    "et = time.time()\n",
    "elapsed_training_time_generic = round(et - st, 4)\n",
    "print('Execution time:', elapsed_training_time_generic, 'seconds') "
   ]
  },
  {
   "cell_type": "markdown",
   "metadata": {},
   "source": [
    "HM based optimizer model"
   ]
  },
  {
   "cell_type": "code",
   "execution_count": 171,
   "metadata": {
    "scrolled": true
   },
   "outputs": [
    {
     "name": "stdout",
     "output_type": "stream",
     "text": [
      "Epoch 1/100\n",
      "235/235 [==============================] - 0s 1ms/step - loss: 0.3312 - accuracy: 0.9061\n",
      "Epoch 2/100\n",
      "235/235 [==============================] - 0s 1ms/step - loss: 0.1180 - accuracy: 0.9646\n",
      "Epoch 3/100\n",
      "235/235 [==============================] - 0s 2ms/step - loss: 0.0736 - accuracy: 0.9777\n",
      "Epoch 4/100\n",
      "235/235 [==============================] - 0s 2ms/step - loss: 0.0513 - accuracy: 0.9844\n",
      "Epoch 5/100\n",
      "235/235 [==============================] - 0s 2ms/step - loss: 0.0372 - accuracy: 0.9889\n",
      "Epoch 6/100\n",
      "235/235 [==============================] - 0s 1ms/step - loss: 0.0274 - accuracy: 0.9919\n",
      "Epoch 7/100\n",
      "235/235 [==============================] - 0s 1ms/step - loss: 0.0193 - accuracy: 0.9947\n",
      "Epoch 8/100\n",
      "235/235 [==============================] - 0s 1ms/step - loss: 0.0137 - accuracy: 0.9962\n",
      "Epoch 9/100\n",
      "235/235 [==============================] - 0s 1ms/step - loss: 0.0103 - accuracy: 0.9973\n",
      "Epoch 10/100\n",
      "235/235 [==============================] - 0s 2ms/step - loss: 0.0086 - accuracy: 0.9977\n",
      "Epoch 11/100\n",
      "235/235 [==============================] - 0s 1ms/step - loss: 0.0097 - accuracy: 0.9970\n",
      "Epoch 12/100\n",
      "235/235 [==============================] - 0s 1ms/step - loss: 0.0094 - accuracy: 0.9971\n",
      "Epoch 13/100\n",
      "235/235 [==============================] - 0s 2ms/step - loss: 0.0069 - accuracy: 0.9977\n",
      "Epoch 14/100\n",
      "235/235 [==============================] - 0s 1ms/step - loss: 0.0066 - accuracy: 0.9980\n",
      "Epoch 15/100\n",
      "235/235 [==============================] - 0s 1ms/step - loss: 0.0054 - accuracy: 0.9984\n",
      "Epoch 16/100\n",
      "235/235 [==============================] - 0s 1ms/step - loss: 0.0074 - accuracy: 0.9975\n",
      "Epoch 17/100\n",
      "235/235 [==============================] - 0s 1ms/step - loss: 0.0068 - accuracy: 0.9978\n",
      "Epoch 18/100\n",
      "235/235 [==============================] - 0s 1ms/step - loss: 0.0060 - accuracy: 0.9979\n",
      "Epoch 19/100\n",
      "235/235 [==============================] - 0s 1ms/step - loss: 0.0043 - accuracy: 0.9987\n",
      "Epoch 20/100\n",
      "235/235 [==============================] - 0s 1ms/step - loss: 0.0059 - accuracy: 0.9982\n",
      "Epoch 21/100\n",
      "235/235 [==============================] - 0s 1ms/step - loss: 0.0081 - accuracy: 0.9973\n",
      "Epoch 22/100\n",
      "235/235 [==============================] - 0s 1ms/step - loss: 0.0048 - accuracy: 0.9984\n",
      "Epoch 23/100\n",
      "235/235 [==============================] - 0s 1ms/step - loss: 0.0053 - accuracy: 0.9984\n",
      "Epoch 24/100\n",
      "235/235 [==============================] - 0s 1ms/step - loss: 0.0046 - accuracy: 0.9985\n",
      "Epoch 25/100\n",
      "235/235 [==============================] - 0s 1ms/step - loss: 0.0034 - accuracy: 0.9989\n",
      "Epoch 26/100\n",
      "235/235 [==============================] - 0s 1ms/step - loss: 0.0035 - accuracy: 0.9988\n",
      "Epoch 27/100\n",
      "235/235 [==============================] - 0s 1ms/step - loss: 0.0051 - accuracy: 0.9984\n",
      "Epoch 28/100\n",
      "235/235 [==============================] - 0s 1ms/step - loss: 0.0056 - accuracy: 0.9980\n",
      "Epoch 29/100\n",
      "235/235 [==============================] - 0s 1ms/step - loss: 0.0075 - accuracy: 0.9976\n",
      "Epoch 30/100\n",
      "235/235 [==============================] - 0s 1ms/step - loss: 0.0054 - accuracy: 0.9984\n",
      "Epoch 31/100\n",
      "235/235 [==============================] - 0s 1ms/step - loss: 0.0039 - accuracy: 0.9986\n",
      "Epoch 32/100\n",
      "235/235 [==============================] - 0s 1ms/step - loss: 0.0030 - accuracy: 0.9990\n",
      "Epoch 33/100\n",
      "235/235 [==============================] - 0s 1ms/step - loss: 0.0036 - accuracy: 0.9988\n",
      "Epoch 34/100\n",
      "235/235 [==============================] - 0s 1ms/step - loss: 0.0022 - accuracy: 0.9993\n",
      "Epoch 35/100\n",
      "235/235 [==============================] - 0s 1ms/step - loss: 0.0014 - accuracy: 0.9996\n",
      "Epoch 36/100\n",
      "235/235 [==============================] - 0s 1ms/step - loss: 0.0012 - accuracy: 0.9996\n",
      "Epoch 37/100\n",
      "235/235 [==============================] - 0s 1ms/step - loss: 0.0024 - accuracy: 0.9993\n",
      "Epoch 38/100\n",
      "235/235 [==============================] - 0s 1ms/step - loss: 0.0076 - accuracy: 0.9975\n",
      "Epoch 39/100\n",
      "235/235 [==============================] - 0s 1ms/step - loss: 0.0050 - accuracy: 0.9983\n",
      "Epoch 40/100\n",
      "235/235 [==============================] - 0s 1ms/step - loss: 0.0040 - accuracy: 0.9986\n",
      "Epoch 41/100\n",
      "235/235 [==============================] - 0s 1ms/step - loss: 0.0030 - accuracy: 0.9991\n",
      "Epoch 42/100\n",
      "235/235 [==============================] - 0s 2ms/step - loss: 0.0029 - accuracy: 0.9991\n",
      "Epoch 43/100\n",
      "235/235 [==============================] - 1s 2ms/step - loss: 0.0055 - accuracy: 0.9983\n",
      "Epoch 44/100\n",
      "235/235 [==============================] - 1s 2ms/step - loss: 0.0043 - accuracy: 0.9985\n",
      "Epoch 45/100\n",
      "235/235 [==============================] - 1s 2ms/step - loss: 0.0025 - accuracy: 0.9994\n",
      "Epoch 46/100\n",
      "235/235 [==============================] - 1s 2ms/step - loss: 0.0011 - accuracy: 0.9996\n",
      "Epoch 47/100\n",
      "235/235 [==============================] - 1s 2ms/step - loss: 0.0028 - accuracy: 0.9992\n",
      "Epoch 48/100\n",
      "235/235 [==============================] - 1s 2ms/step - loss: 0.0040 - accuracy: 0.9987\n",
      "Epoch 49/100\n",
      "235/235 [==============================] - 1s 2ms/step - loss: 0.0043 - accuracy: 0.9987\n",
      "Epoch 50/100\n",
      "235/235 [==============================] - 1s 2ms/step - loss: 0.0018 - accuracy: 0.9994\n",
      "Epoch 51/100\n",
      "235/235 [==============================] - 1s 2ms/step - loss: 0.0027 - accuracy: 0.9993\n",
      "Epoch 52/100\n",
      "235/235 [==============================] - 1s 2ms/step - loss: 0.0024 - accuracy: 0.9994\n",
      "Epoch 53/100\n",
      "235/235 [==============================] - 1s 2ms/step - loss: 0.0026 - accuracy: 0.9990\n",
      "Epoch 54/100\n",
      "235/235 [==============================] - 1s 2ms/step - loss: 0.0035 - accuracy: 0.9989\n",
      "Epoch 55/100\n",
      "235/235 [==============================] - 1s 2ms/step - loss: 0.0028 - accuracy: 0.9991\n",
      "Epoch 56/100\n",
      "235/235 [==============================] - 1s 2ms/step - loss: 0.0021 - accuracy: 0.9993\n",
      "Epoch 57/100\n",
      "235/235 [==============================] - 1s 2ms/step - loss: 0.0028 - accuracy: 0.9991\n",
      "Epoch 58/100\n",
      "235/235 [==============================] - 1s 2ms/step - loss: 0.0031 - accuracy: 0.9991\n",
      "Epoch 59/100\n",
      "235/235 [==============================] - 1s 2ms/step - loss: 0.0049 - accuracy: 0.9985\n",
      "Epoch 60/100\n",
      "235/235 [==============================] - 1s 2ms/step - loss: 0.0017 - accuracy: 0.9995\n",
      "Epoch 61/100\n",
      "235/235 [==============================] - 1s 2ms/step - loss: 4.7750e-04 - accuracy: 0.9998\n",
      "Epoch 62/100\n",
      "235/235 [==============================] - 1s 2ms/step - loss: 0.0023 - accuracy: 0.9993\n",
      "Epoch 63/100\n",
      "235/235 [==============================] - 1s 2ms/step - loss: 0.0019 - accuracy: 0.9992\n",
      "Epoch 64/100\n",
      "235/235 [==============================] - 1s 2ms/step - loss: 0.0022 - accuracy: 0.9994\n",
      "Epoch 65/100\n",
      "235/235 [==============================] - 1s 2ms/step - loss: 0.0024 - accuracy: 0.9992\n",
      "Epoch 66/100\n",
      "235/235 [==============================] - 1s 2ms/step - loss: 0.0031 - accuracy: 0.9990\n",
      "Epoch 67/100\n",
      "235/235 [==============================] - 1s 2ms/step - loss: 0.0038 - accuracy: 0.9988\n",
      "Epoch 68/100\n",
      "235/235 [==============================] - 1s 2ms/step - loss: 0.0019 - accuracy: 0.9993\n",
      "Epoch 69/100\n",
      "235/235 [==============================] - 1s 2ms/step - loss: 0.0012 - accuracy: 0.9997\n",
      "Epoch 70/100\n",
      "235/235 [==============================] - 1s 2ms/step - loss: 1.1817e-04 - accuracy: 1.0000\n",
      "Epoch 71/100\n",
      "235/235 [==============================] - 1s 2ms/step - loss: 2.7857e-05 - accuracy: 1.0000\n",
      "Epoch 72/100\n",
      "235/235 [==============================] - 1s 2ms/step - loss: 8.4148e-06 - accuracy: 1.0000\n",
      "Epoch 73/100\n",
      "235/235 [==============================] - 1s 2ms/step - loss: 6.0394e-06 - accuracy: 1.0000\n",
      "Epoch 74/100\n",
      "235/235 [==============================] - 1s 2ms/step - loss: 5.1386e-06 - accuracy: 1.0000\n",
      "Epoch 75/100\n",
      "235/235 [==============================] - 1s 2ms/step - loss: 4.4959e-06 - accuracy: 1.0000\n",
      "Epoch 76/100\n",
      "235/235 [==============================] - 1s 2ms/step - loss: 3.9852e-06 - accuracy: 1.0000\n",
      "Epoch 77/100\n",
      "235/235 [==============================] - 1s 2ms/step - loss: 3.5599e-06 - accuracy: 1.0000\n",
      "Epoch 78/100\n",
      "235/235 [==============================] - 1s 2ms/step - loss: 3.1920e-06 - accuracy: 1.0000\n",
      "Epoch 79/100\n",
      "235/235 [==============================] - 1s 2ms/step - loss: 2.8764e-06 - accuracy: 1.0000\n",
      "Epoch 80/100\n"
     ]
    },
    {
     "name": "stdout",
     "output_type": "stream",
     "text": [
      "235/235 [==============================] - 1s 2ms/step - loss: 2.5900e-06 - accuracy: 1.0000\n",
      "Epoch 81/100\n",
      "235/235 [==============================] - 1s 2ms/step - loss: 2.3291e-06 - accuracy: 1.0000\n",
      "Epoch 82/100\n",
      "235/235 [==============================] - 1s 2ms/step - loss: 2.0997e-06 - accuracy: 1.0000\n",
      "Epoch 83/100\n",
      "235/235 [==============================] - 1s 2ms/step - loss: 1.8915e-06 - accuracy: 1.0000\n",
      "Epoch 84/100\n",
      "235/235 [==============================] - 1s 2ms/step - loss: 1.7087e-06 - accuracy: 1.0000\n",
      "Epoch 85/100\n",
      "235/235 [==============================] - 1s 2ms/step - loss: 1.5440e-06 - accuracy: 1.0000\n",
      "Epoch 86/100\n",
      "235/235 [==============================] - 1s 2ms/step - loss: 1.3916e-06 - accuracy: 1.0000\n",
      "Epoch 87/100\n",
      "235/235 [==============================] - 1s 2ms/step - loss: 1.2544e-06 - accuracy: 1.0000\n",
      "Epoch 88/100\n",
      "235/235 [==============================] - 1s 2ms/step - loss: 1.1235e-06 - accuracy: 1.0000\n",
      "Epoch 89/100\n",
      "235/235 [==============================] - 1s 2ms/step - loss: 1.0034e-06 - accuracy: 1.0000\n",
      "Epoch 90/100\n",
      "235/235 [==============================] - 1s 2ms/step - loss: 8.9521e-07 - accuracy: 1.0000\n",
      "Epoch 91/100\n",
      "235/235 [==============================] - 1s 2ms/step - loss: 7.9668e-07 - accuracy: 1.0000\n",
      "Epoch 92/100\n",
      "235/235 [==============================] - 1s 2ms/step - loss: 7.0443e-07 - accuracy: 1.0000\n",
      "Epoch 93/100\n",
      "235/235 [==============================] - 1s 2ms/step - loss: 6.2437e-07 - accuracy: 1.0000\n",
      "Epoch 94/100\n",
      "235/235 [==============================] - 1s 2ms/step - loss: 5.5127e-07 - accuracy: 1.0000\n",
      "Epoch 95/100\n",
      "235/235 [==============================] - 1s 2ms/step - loss: 4.8733e-07 - accuracy: 1.0000\n",
      "Epoch 96/100\n",
      "235/235 [==============================] - 1s 2ms/step - loss: 4.2998e-07 - accuracy: 1.0000\n",
      "Epoch 97/100\n",
      "235/235 [==============================] - 0s 2ms/step - loss: 3.8065e-07 - accuracy: 1.0000\n",
      "Epoch 98/100\n",
      "235/235 [==============================] - 1s 2ms/step - loss: 3.3715e-07 - accuracy: 1.0000\n",
      "Epoch 99/100\n",
      "235/235 [==============================] - 1s 2ms/step - loss: 2.9802e-07 - accuracy: 1.0000\n",
      "Epoch 100/100\n",
      "235/235 [==============================] - 1s 2ms/step - loss: 2.6348e-07 - accuracy: 1.0000\n",
      "Execution time: 44.7374 seconds\n"
     ]
    }
   ],
   "source": [
    "model_hm = get_model()\n",
    "model_hm.set_weights(weights) \n",
    "st = time.time()\n",
    "model_hm.fit(X_train_normalized, y_train, epochs = num_epochs, verbose=1, callbacks=[CustomCallbackHM(),logger_hm_model], batch_size=batch_size) \n",
    "et = time.time()\n",
    "elapsed_training_time_hm = round(et - st, 4)\n",
    "print('Execution time:', elapsed_training_time_hm, 'seconds')"
   ]
  },
  {
   "cell_type": "markdown",
   "metadata": {},
   "source": [
    "Model summary"
   ]
  },
  {
   "cell_type": "code",
   "execution_count": 172,
   "metadata": {},
   "outputs": [
    {
     "name": "stdout",
     "output_type": "stream",
     "text": [
      "Model: \"sequential_26\"\n",
      "_________________________________________________________________\n",
      " Layer (type)                Output Shape              Param #   \n",
      "=================================================================\n",
      " dense_78 (Dense)            (None, 256)               200960    \n",
      "                                                                 \n",
      " dense_79 (Dense)            (None, 128)               32896     \n",
      "                                                                 \n",
      " dense_80 (Dense)            (None, 10)                1290      \n",
      "                                                                 \n",
      "=================================================================\n",
      "Total params: 235,146\n",
      "Trainable params: 235,146\n",
      "Non-trainable params: 0\n",
      "_________________________________________________________________\n"
     ]
    }
   ],
   "source": [
    "model_hm.summary()"
   ]
  },
  {
   "cell_type": "markdown",
   "metadata": {},
   "source": [
    "#### Generic optimizer vs HM-based optimizer"
   ]
  },
  {
   "cell_type": "code",
   "execution_count": 173,
   "metadata": {},
   "outputs": [],
   "source": [
    "df1 = pd.read_csv(generic_file)\n",
    "df2 = pd.read_csv(hm_file)"
   ]
  },
  {
   "cell_type": "markdown",
   "metadata": {},
   "source": [
    "Accuracy"
   ]
  },
  {
   "cell_type": "code",
   "execution_count": 174,
   "metadata": {},
   "outputs": [
    {
     "data": {
      "image/png": "[encoded data removed]",
      "text/plain": [
       "<Figure size 600x400 with 1 Axes>"
      ]
     },
     "metadata": {},
     "output_type": "display_data"
    }
   ],
   "source": [
    "x1 = range(0, df1.shape[0])\n",
    "x2 = range(0, df2.shape[0])\n",
    "y1 = df1['accuracy'] \n",
    "y2 = df2['accuracy']  \n",
    "plt.figure(figsize = (3,2), dpi = 200)\n",
    "plt.plot(x1, y1, \"r-\", label = opti_name, linewidth = 0.8, alpha = 0.7)\n",
    "plt.plot(x2, y2, \"k:\", label = 'HM-based ' + opti_name, linewidth = 1, alpha = 0.9) \n",
    "plt.ylabel('Accuracy' , fontdict = {'fontsize':5})\n",
    "plt.xlabel('Epoch', fontdict = {'fontsize':5}) \n",
    "#plt.title(\"Loss\", fontdict = {'fontname':'Times New Roman', 'fontsize':8})\n",
    "plt.xticks(fontsize = 5)\n",
    "plt.yticks(fontsize = 5)\n",
    "plt.tight_layout()\n",
    "plt.legend(prop={'size': 5})\n",
    "#plt.savefig(\"graph.png\",bbox_inches='tight',dpi=(300)) \n",
    "plt.show() "
   ]
  },
  {
   "cell_type": "markdown",
   "metadata": {},
   "source": [
    "Loss"
   ]
  },
  {
   "cell_type": "code",
   "execution_count": 175,
   "metadata": {
    "scrolled": true
   },
   "outputs": [
    {
     "data": {
      "image/png": "[encoded data removed]",
      "text/plain": [
       "<Figure size 600x400 with 1 Axes>"
      ]
     },
     "metadata": {},
     "output_type": "display_data"
    }
   ],
   "source": [
    "x1 = range(0, df1.shape[0])\n",
    "x2 = range(0, df2.shape[0])\n",
    "y1 = df1['loss'] \n",
    "y2 = df2['loss']   \n",
    "plt.figure(figsize = (3,2), dpi = 200)\n",
    "plt.plot(x1, y1, \"r-\", label = opti_name, linewidth = 0.8, alpha = 0.7)\n",
    "plt.plot(x2, y2, \"k:\", label = 'HM-based ' + opti_name, linewidth = 1, alpha = 0.9) \n",
    "plt.ylabel('Loss' , fontdict = {'fontsize':5})\n",
    "plt.xlabel('Epoch', fontdict = {'fontsize':5}) \n",
    "#plt.title(\"Loss\", fontdict = {'fontname':'Times New Roman', 'fontsize':8})\n",
    "plt.xticks(fontsize = 5)\n",
    "plt.yticks(fontsize = 5)\n",
    "plt.tight_layout()\n",
    "plt.legend(prop={'size': 5})\n",
    "#plt.savefig(\"graph.png\",bbox_inches='tight',dpi=(300)) \n",
    "plt.show()  "
   ]
  },
  {
   "cell_type": "markdown",
   "metadata": {},
   "source": [
    "###### Testing the model"
   ]
  },
  {
   "cell_type": "markdown",
   "metadata": {},
   "source": [
    "Generic opimizer model"
   ]
  },
  {
   "cell_type": "code",
   "execution_count": 176,
   "metadata": {},
   "outputs": [
    {
     "name": "stdout",
     "output_type": "stream",
     "text": [
      "313/313 [==============================] - 1s 2ms/step - loss: 0.1528 - accuracy: 0.9832\n"
     ]
    },
    {
     "data": {
      "text/plain": [
       "[0.15284374356269836, 0.9832000136375427]"
      ]
     },
     "execution_count": 176,
     "metadata": {},
     "output_type": "execute_result"
    }
   ],
   "source": [
    "generic_testing = model_wihtout_hm.evaluate(X_test_normalized, y_test)\n",
    "generic_testing  "
   ]
  },
  {
   "cell_type": "markdown",
   "metadata": {},
   "source": [
    "HM based optimizer model"
   ]
  },
  {
   "cell_type": "code",
   "execution_count": 177,
   "metadata": {},
   "outputs": [
    {
     "name": "stdout",
     "output_type": "stream",
     "text": [
      "313/313 [==============================] - 1s 2ms/step - loss: 0.1484 - accuracy: 0.9832\n"
     ]
    },
    {
     "data": {
      "text/plain": [
       "[0.14838193356990814, 0.9832000136375427]"
      ]
     },
     "execution_count": 177,
     "metadata": {},
     "output_type": "execute_result"
    }
   ],
   "source": [
    "hm_testing = model_hm.evaluate(X_test_normalized, y_test)\n",
    "hm_testing"
   ]
  },
  {
   "cell_type": "markdown",
   "metadata": {},
   "source": [
    "#### Release the GPU memory"
   ]
  },
  {
   "cell_type": "raw",
   "metadata": {},
   "source": [
    "from numba import cuda \n",
    "device = cuda.get_current_device()\n",
    "device.reset()"
   ]
  }
 ],
 "metadata": {
  "kernelspec": {
   "display_name": "Python 3 (ipykernel)",
   "language": "python",
   "name": "python3"
  },
  "language_info": {
   "codemirror_mode": {
    "name": "ipython",
    "version": 3
   },
   "file_extension": ".py",
   "mimetype": "text/x-python",
   "name": "python",
   "nbconvert_exporter": "python",
   "pygments_lexer": "ipython3",
   "version": "3.9.13"
  }
 },
 "nbformat": 4,
 "nbformat_minor": 4
}
